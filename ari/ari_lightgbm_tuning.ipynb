{
 "cells": [
  {
   "cell_type": "markdown",
   "id": "b1c1304c-0bbe-4372-83d5-add8938843e6",
   "metadata": {},
   "source": [
    "# ARI: LightGBM Tuning"
   ]
  },
  {
   "cell_type": "markdown",
   "id": "bd96768a-3882-460b-b147-9f652d0f38c5",
   "metadata": {
    "tags": []
   },
   "source": [
    "### Setup"
   ]
  },
  {
   "cell_type": "code",
   "execution_count": 1,
   "id": "52fa4f8b-452f-451a-bf0a-41add3c55f3d",
   "metadata": {},
   "outputs": [],
   "source": [
    "import sys\n",
    "sys.path.append('../')\n",
    "from src.load_data import *\n",
    "from src.realtime_utils import *\n",
    "from src.hp_tuning_functions import *"
   ]
  },
  {
   "cell_type": "code",
   "execution_count": 2,
   "id": "a02053c9-f014-462a-89f0-96eeb7fb4bdc",
   "metadata": {},
   "outputs": [
    {
     "name": "stderr",
     "output_type": "stream",
     "text": [
      "/home/wolffram/.conda/envs/RESPINOW-ML/lib/python3.9/site-packages/statsforecast/utils.py:231: FutureWarning: 'M' is deprecated and will be removed in a future version, please use 'ME' instead.\n",
      "  \"ds\": pd.date_range(start=\"1949-01-01\", periods=len(AirPassengers), freq=\"M\"),\n"
     ]
    }
   ],
   "source": [
    "from darts.models.forecasting.lgbm import LightGBMModel"
   ]
  },
  {
   "cell_type": "code",
   "execution_count": 3,
   "id": "31c85d54-7cff-439e-acb7-cf3d04acc580",
   "metadata": {},
   "outputs": [
    {
     "name": "stderr",
     "output_type": "stream",
     "text": [
      "Failed to detect the name of this notebook, you can set it manually with the WANDB_NOTEBOOK_NAME environment variable to enable code saving.\n",
      "\u001b[34m\u001b[1mwandb\u001b[0m: Using wandb-core as the SDK backend. Please refer to https://wandb.me/wandb-core for more information.\n",
      "\u001b[34m\u001b[1mwandb\u001b[0m: Currently logged in as: \u001b[33mdwolffram\u001b[0m (\u001b[33mdwolffram-karlsruhe-institute-of-technology\u001b[0m). Use \u001b[1m`wandb login --relogin`\u001b[0m to force relogin\n"
     ]
    },
    {
     "data": {
      "text/plain": [
       "True"
      ]
     },
     "execution_count": 3,
     "metadata": {},
     "output_type": "execute_result"
    }
   ],
   "source": [
    "import wandb\n",
    "wandb.login()"
   ]
  },
  {
   "cell_type": "markdown",
   "id": "1b23a5ca-729f-4539-8370-d8b095d625d6",
   "metadata": {
    "tags": []
   },
   "source": [
    "### Configuration"
   ]
  },
  {
   "cell_type": "code",
   "execution_count": 4,
   "id": "fbe295db-3585-4a1e-a233-ccd5419c5505",
   "metadata": {},
   "outputs": [],
   "source": [
    "NAME = 'lightgbm'"
   ]
  },
  {
   "cell_type": "code",
   "execution_count": 5,
   "id": "1ecc1040-de41-4e10-a201-29f11362b7f6",
   "metadata": {},
   "outputs": [],
   "source": [
    "NUM_SAMPLES = 1000\n",
    "HORIZON = 4\n",
    "\n",
    "ENCODERS = {\n",
    "    'datetime_attribute': {'future': ['month', 'weekofyear']}\n",
    "}\n",
    "\n",
    "SHARED_ARGS = dict(\n",
    "    output_chunk_length=HORIZON,\n",
    ")"
   ]
  },
  {
   "cell_type": "code",
   "execution_count": 6,
   "id": "f99c0b25-8e2e-47fc-aad2-a5f708bac7f1",
   "metadata": {},
   "outputs": [],
   "source": [
    "# lags_covariates = {\n",
    "#     'agi-are-DE': 8,\n",
    "#     'agi-are-00-04': 8,\n",
    "#     'agi-are-05-14': 8,\n",
    "#     'agi-are-15-34': 8,\n",
    "#     'agi-are-35-59': 8,\n",
    "#     'agi-are-60+': 8,\n",
    "#     'default_lags': 1\n",
    "# }"
   ]
  },
  {
   "cell_type": "code",
   "execution_count": 7,
   "id": "407d309e-268d-46fb-988d-7b3550bb7ae4",
   "metadata": {},
   "outputs": [],
   "source": [
    "sweep_configuration = {\n",
    "    \"name\": f\"ARI-{NAME}\",\n",
    "    \"method\": \"random\",\n",
    "    \"metric\": {\"goal\": \"minimize\", \"name\": \"WIS\"},  \n",
    "    \"parameters\": {\n",
    "        \"model\": {\"values\": [NAME]},  \n",
    "        \"multiple_series\": {\"values\": [False]},\n",
    "        \"use_covariates\" :  {\"values\" : [True, False]},\n",
    "        \"use_features\" :  {\"values\" : [False]},\n",
    "        \"use_encoders\" :  {\"values\" : [True]},\n",
    "        \"use_static_covariates\" :  {\"values\" : [False]},\n",
    "        \"sample_weight\" : {\"values\" : [None, \"linear\"]},\n",
    "        \"lags\": {\"values\": [8]},\n",
    "        \"lags_past_covariates\": {\"values\": [8]},\n",
    "        \"lags_future_covariates\": {\"values\": [(0, 1)]},\n",
    "        \"num_leaves\": {\"values\": [10, 20, 31, 40, 50]},  # Number of leaves\n",
    "        \"max_depth\": {\"values\": [-1, 5, 10, 15, 20]},  # Max depth of trees\n",
    "        \"learning_rate\": {\"values\": [0.005, 0.01, 0.05, 0.1, 0.2]},  # Learning rate\n",
    "        \"n_estimators\": {\"values\": [250, 500, 1000, 2000, 5000]},  # Number of boosting rounds\n",
    "        \"min_child_samples\": {\"values\": [10, 20, 30, 40]},  # Minimum child samples per leaf\n",
    "        \"subsample\": {\"values\": [0.8, 0.9, 1.0]},  # Subsampling ratio\n",
    "        \"colsample_bytree\": {\"values\": [0.8, 0.9, 1.0]},  # Feature fraction for building trees\n",
    "        \"reg_alpha\": {\"values\": [0, 0.25, 0.5, 1.0, 5.0]},  # L1 regularization\n",
    "        \"reg_lambda\": {\"values\": [0, 0.25, 0.5, 1.0, 5.0]},  # L2 regularization\n",
    "        \"subsample_freq\": {\"values\": [0, 1, 2, 5]},  # Subsampling frequency\n",
    "        \"min_split_gain\": {\"values\": [0.0, 0.1, 0.2]},  # Minimum gain to split\n",
    "        \"max_bin\": {\"values\": [510, 1024, 2048]},  # Maximum number of bins\n",
    "    }\n",
    "}"
   ]
  },
  {
   "cell_type": "markdown",
   "id": "85a6ef0d-2f21-445b-8184-a2c138cee629",
   "metadata": {},
   "source": [
    "### Load data"
   ]
  },
  {
   "cell_type": "code",
   "execution_count": 8,
   "id": "44ca9e73-84cb-4f37-9dd6-5f4b13c8f0b8",
   "metadata": {},
   "outputs": [],
   "source": [
    "covariates, targets = load_realtime_training_data()"
   ]
  },
  {
   "cell_type": "code",
   "execution_count": 9,
   "id": "1f497c49-6fc1-4147-845e-fc17e00a9181",
   "metadata": {},
   "outputs": [],
   "source": [
    "targets_train, targets_validation = train_validation_split(targets, 2023)"
   ]
  },
  {
   "cell_type": "code",
   "execution_count": 10,
   "id": "bf8c4d81-8de9-44c3-948a-ed3b39ad4722",
   "metadata": {},
   "outputs": [
    {
     "data": {
      "text/plain": [
       "<Axes: xlabel='date'>"
      ]
     },
     "execution_count": 10,
     "metadata": {},
     "output_type": "execute_result"
    },
    {
     "data": {
      "image/png": "[encoded data removed]",
      "text/plain": [
       "<Figure size 640x480 with 1 Axes>"
      ]
     },
     "metadata": {},
     "output_type": "display_data"
    }
   ],
   "source": [
    "targets_validation['agi-are-DE'].plot(label='validation')\n",
    "targets_train['agi-are-DE'].plot(label='train')"
   ]
  },
  {
   "cell_type": "code",
   "execution_count": 11,
   "id": "a919f5f2",
   "metadata": {},
   "outputs": [],
   "source": [
    "# Block CV\n",
    "def objective(config):\n",
    "    optimizer = OPTIMIZER_DICT[config.optimizer]\n",
    "    use_covariates = config.use_covariates\n",
    "    \n",
    "    model = TSMixerModel(\n",
    "        input_chunk_length=config.input_chunk_length,\n",
    "        hidden_size=config.hidden_size,\n",
    "        ff_size=config.ff_size,\n",
    "        num_blocks=config.num_blocks,\n",
    "        dropout=config.dropout,\n",
    "        norm_type=config.norm_type,\n",
    "        batch_size=config.batch_size,\n",
    "        n_epochs=config.n_epochs,\n",
    "        normalize_before=config.normalize_before,\n",
    "        activation=config.activation,\n",
    "        optimizer_cls=optimizer,\n",
    "        optimizer_kwargs={**config.optimizer_kwargs},\n",
    "        use_static_covariates=config.use_static_covariates,\n",
    "        \n",
    "        **SHARED_ARGS\n",
    "    )\n",
    "    \n",
    "    scores = []\n",
    "    k=0\n",
    "    for train, validation, cov in zip(targets_train, targets_validation, covariates):\n",
    "        k+=1\n",
    "        score = compute_validation_score(model, train, validation, cov if use_covariates else None, \n",
    "                                         HORIZON, NUM_SAMPLES, METRIC, METRIC_KWARGS)\n",
    "        scores.append(score)\n",
    "        wandb.log({f'WIS_{k}' : score})\n",
    "        # model.reset()?\n",
    "            \n",
    "    avg_score = np.mean(scores) # average across all validation periods\n",
    "    std = np.std(scores)\n",
    "    var = np.var(scores)\n",
    "    \n",
    "    wandb.log({'WIS_std' : std,\n",
    "               'WIS_var' : var})\n",
    "\n",
    "    return avg_score"
   ]
  },
  {
   "cell_type": "code",
   "execution_count": 12,
   "id": "81a9dc00-ed38-45de-8d1c-b5a6a6a62bfc",
   "metadata": {},
   "outputs": [],
   "source": [
    "RANDOM_SEEDS = [1, 2, 3]"
   ]
  },
  {
   "cell_type": "code",
   "execution_count": 13,
   "id": "75ee24c4-8d74-4f13-94be-8b562dbeb1df",
   "metadata": {},
   "outputs": [],
   "source": [
    "# Multiple runs\n",
    "def objective(config):\n",
    "    optimizer = OPTIMIZER_DICT[config.optimizer]\n",
    "    use_covariates = config.use_covariates\n",
    "    use_features = config.use_features\n",
    "    use_encoders = config.use_encoders\n",
    "    \n",
    "    model = TSMixerModel(\n",
    "        input_chunk_length=config.input_chunk_length,\n",
    "        hidden_size=config.hidden_size,\n",
    "        ff_size=config.ff_size,\n",
    "        num_blocks=config.num_blocks,\n",
    "        dropout=config.dropout,\n",
    "        norm_type=config.norm_type,\n",
    "        batch_size=config.batch_size,\n",
    "        n_epochs=config.n_epochs,\n",
    "        normalize_before=config.normalize_before,\n",
    "        activation=config.activation,\n",
    "        optimizer_cls=optimizer,\n",
    "        optimizer_kwargs={**config.optimizer_kwargs},\n",
    "        use_static_covariates=config.use_static_covariates,\n",
    "        add_encoders=ENCODERS if use_encoders else None,\n",
    "        \n",
    "        **SHARED_ARGS\n",
    "    )\n",
    "    \n",
    "    train = targets_train\n",
    "    validation = targets_validation\n",
    "    cov = covariates\n",
    "    \n",
    "    if use_features:\n",
    "        ts_features = load_features(lag=8)\n",
    "        cov = cov.slice_intersect(ts_features) # features start a bit later because of rolling window\n",
    "        ts_features = ts_features.slice_intersect(cov) # features are longer because they cover the whole period until now\n",
    "    \n",
    "    \n",
    "    scores = []\n",
    "    for seed in RANDOM_SEEDS:\n",
    "        model.model_params['random_state'] = seed\n",
    "        score = compute_validation_score(model, train, validation, cov if use_covariates else None, \n",
    "                                         HORIZON, NUM_SAMPLES, METRIC, METRIC_KWARGS)\n",
    "        scores.append(score)\n",
    "        wandb.log({f'WIS_{seed}' : score})\n",
    "        model.reset_model()\n",
    "            \n",
    "    avg_score = np.mean(scores) # average across all runs\n",
    "    std = np.std(scores)\n",
    "    \n",
    "    wandb.log({'WIS_std' : std})\n",
    "\n",
    "    return avg_score"
   ]
  },
  {
   "cell_type": "markdown",
   "id": "117cfff1-8982-4c6b-917d-cd4b3e44e5f2",
   "metadata": {},
   "source": [
    "### Expanding window"
   ]
  },
  {
   "cell_type": "code",
   "execution_count": 14,
   "id": "42f18a02-f3c0-4179-a93f-fafa8415cc62",
   "metadata": {},
   "outputs": [],
   "source": [
    "VALIDATION_YEARS = [2022, 2023][::-1]"
   ]
  },
  {
   "cell_type": "code",
   "execution_count": 15,
   "id": "74808fc5-5403-4ce8-be0e-e18dadff0228",
   "metadata": {},
   "outputs": [],
   "source": [
    "RANDOM_SEEDS = [1, 2, 3]"
   ]
  },
  {
   "cell_type": "code",
   "execution_count": 16,
   "id": "b09becc6-d95d-41d2-a866-30a7fe7f9a09",
   "metadata": {},
   "outputs": [],
   "source": [
    "custom_weights = get_custom_weights(targets)"
   ]
  },
  {
   "cell_type": "code",
   "execution_count": 17,
   "id": "abe4a17e-e75e-430d-9c43-b21649b38a82",
   "metadata": {},
   "outputs": [],
   "source": [
    "# Expanding window\n",
    "def objective(config):\n",
    "    multiple_series = config.multiple_series\n",
    "    use_covariates = config.use_covariates\n",
    "    use_features = config.use_features\n",
    "    use_encoders = config.use_encoders\n",
    "    sample_weight = config.sample_weight\n",
    "    \n",
    "    model = LightGBMModel(\n",
    "        lags=config.lags,\n",
    "        lags_past_covariates=config.lags_past_covariates if use_covariates else None,\n",
    "        lags_future_covariates=config.lags_future_covariates if use_encoders else None,\n",
    "        num_leaves=config.num_leaves,\n",
    "        max_depth=config.max_depth,\n",
    "        learning_rate=config.learning_rate,\n",
    "        n_estimators=config.n_estimators,\n",
    "        min_child_samples=config.min_child_samples, \n",
    "        subsample=config.subsample, \n",
    "        colsample_bytree=config.colsample_bytree,  \n",
    "        reg_alpha=config.reg_alpha,  # L1 regularization\n",
    "        reg_lambda=config.reg_lambda,  # L2 regularization\n",
    "        subsample_freq=config.subsample_freq, \n",
    "        min_split_gain=config.min_split_gain,  \n",
    "        max_bin=config.max_bin,  \n",
    "        use_static_covariates=config.use_static_covariates,\n",
    "        add_encoders=ENCODERS if use_encoders else None,\n",
    "        verbose=-1,\n",
    "        likelihood=\"quantile\",\n",
    "        quantiles=QUANTILES,\n",
    "        \n",
    "        **SHARED_ARGS\n",
    "    )\n",
    "    \n",
    "    cov = covariates\n",
    "    \n",
    "    if use_features:\n",
    "        cov = add_features(cov)\n",
    "    \n",
    "    scores = []\n",
    "    for validation_year in VALIDATION_YEARS:\n",
    "        targets_train, targets_validation = train_validation_split(targets, validation_year)\n",
    "        scores_year = []\n",
    "        for seed in RANDOM_SEEDS:\n",
    "            model.model_params['random_state'] = seed\n",
    "            \n",
    "            score = compute_validation_score(model, targets_train, targets_validation, covariates if use_covariates else None, \n",
    "                                             HORIZON, NUM_SAMPLES, METRIC, METRIC_KWARGS,\n",
    "                                             sample_weight=custom_weights if sample_weight == \"custom\" else sample_weight)\n",
    "            scores.append(score)\n",
    "            scores_year.append(score)\n",
    "            wandb.log({f'WIS_{validation_year}_{seed}' : score})\n",
    "            \n",
    "        \n",
    "        wandb.log({f'WIS_{validation_year}' : np.mean(scores_year)})\n",
    "        wandb.log({f'WIS_std_{validation_year}' : np.std(scores_year)})\n",
    "            \n",
    "    avg_score = np.mean(scores) # average across all runs\n",
    "    std = np.std(scores)\n",
    "    \n",
    "    wandb.log({'WIS_std' : std})\n",
    "\n",
    "    return avg_score"
   ]
  },
  {
   "cell_type": "markdown",
   "id": "a863b7b1-5274-49a7-a861-8e39d463aba3",
   "metadata": {},
   "source": [
    "### Run tuning"
   ]
  },
  {
   "cell_type": "code",
   "execution_count": 18,
   "id": "e8a734a8-4bb5-48bb-957d-e6f7f90a441a",
   "metadata": {},
   "outputs": [],
   "source": [
    "def main():\n",
    "    run = wandb.init()\n",
    "    score = objective(wandb.config)\n",
    "    wandb.log({\"WIS\": score})\n",
    "    run.finish()"
   ]
  },
  {
   "cell_type": "code",
   "execution_count": 19,
   "id": "bd213a14-90b7-4346-879b-b63d72c58b7f",
   "metadata": {},
   "outputs": [
    {
     "name": "stdout",
     "output_type": "stream",
     "text": [
      "Create sweep with ID: me2h5ytc\n",
      "Sweep URL: https://wandb.ai/dwolffram-karlsruhe-institute-of-technology/ari-lightgbm/sweeps/me2h5ytc\n"
     ]
    }
   ],
   "source": [
    "sweep_id = wandb.sweep(sweep=sweep_configuration, project=\"ari-lightgbm\")"
   ]
  },
  {
   "cell_type": "code",
   "execution_count": null,
   "id": "ee89be52-334d-4c9a-a4c1-832f59cbe1a4",
   "metadata": {},
   "outputs": [
    {
     "name": "stderr",
     "output_type": "stream",
     "text": [
      "\u001b[34m\u001b[1mwandb\u001b[0m: Agent Starting Run: 3ro2l0ya with config:\n",
      "\u001b[34m\u001b[1mwandb\u001b[0m: \tcolsample_bytree: 1\n",
      "\u001b[34m\u001b[1mwandb\u001b[0m: \tlags: 8\n",
      "\u001b[34m\u001b[1mwandb\u001b[0m: \tlags_future_covariates: [0, 1]\n",
      "\u001b[34m\u001b[1mwandb\u001b[0m: \tlags_past_covariates: 8\n",
      "\u001b[34m\u001b[1mwandb\u001b[0m: \tlearning_rate: 0.005\n",
      "\u001b[34m\u001b[1mwandb\u001b[0m: \tmax_bin: 2048\n",
      "\u001b[34m\u001b[1mwandb\u001b[0m: \tmax_depth: 20\n",
      "\u001b[34m\u001b[1mwandb\u001b[0m: \tmin_child_samples: 30\n",
      "\u001b[34m\u001b[1mwandb\u001b[0m: \tmin_split_gain: 0.1\n",
      "\u001b[34m\u001b[1mwandb\u001b[0m: \tmodel: lightgbm\n",
      "\u001b[34m\u001b[1mwandb\u001b[0m: \tmultiple_series: False\n",
      "\u001b[34m\u001b[1mwandb\u001b[0m: \tn_estimators: 2000\n",
      "\u001b[34m\u001b[1mwandb\u001b[0m: \tnum_leaves: 20\n",
      "\u001b[34m\u001b[1mwandb\u001b[0m: \treg_alpha: 0.5\n",
      "\u001b[34m\u001b[1mwandb\u001b[0m: \treg_lambda: 0.25\n",
      "\u001b[34m\u001b[1mwandb\u001b[0m: \tsample_weight: None\n",
      "\u001b[34m\u001b[1mwandb\u001b[0m: \tsubsample: 1\n",
      "\u001b[34m\u001b[1mwandb\u001b[0m: \tsubsample_freq: 0\n",
      "\u001b[34m\u001b[1mwandb\u001b[0m: \tuse_covariates: True\n",
      "\u001b[34m\u001b[1mwandb\u001b[0m: \tuse_encoders: True\n",
      "\u001b[34m\u001b[1mwandb\u001b[0m: \tuse_features: False\n",
      "\u001b[34m\u001b[1mwandb\u001b[0m: \tuse_static_covariates: False\n",
      "Failed to detect the name of this notebook, you can set it manually with the WANDB_NOTEBOOK_NAME environment variable to enable code saving.\n"
     ]
    },
    {
     "data": {
      "text/html": [
       "Tracking run with wandb version 0.18.0"
      ],
      "text/plain": [
       "<IPython.core.display.HTML object>"
      ]
     },
     "metadata": {},
     "output_type": "display_data"
    },
    {
     "data": {
      "text/html": [
       "Run data is saved locally in <code>/home/wolffram/SARI-ML/ARI/wandb/run-20241031_164954-3ro2l0ya</code>"
      ],
      "text/plain": [
       "<IPython.core.display.HTML object>"
      ]
     },
     "metadata": {},
     "output_type": "display_data"
    },
    {
     "data": {
      "text/html": [
       "Syncing run <strong><a href='https://wandb.ai/dwolffram-karlsruhe-institute-of-technology/ari-lightgbm/runs/3ro2l0ya' target=\"_blank\">playful-sweep-1</a></strong> to <a href='https://wandb.ai/dwolffram-karlsruhe-institute-of-technology/ari-lightgbm' target=\"_blank\">Weights & Biases</a> (<a href='https://wandb.me/run' target=\"_blank\">docs</a>)<br/>Sweep page: <a href='https://wandb.ai/dwolffram-karlsruhe-institute-of-technology/ari-lightgbm/sweeps/me2h5ytc' target=\"_blank\">https://wandb.ai/dwolffram-karlsruhe-institute-of-technology/ari-lightgbm/sweeps/me2h5ytc</a>"
      ],
      "text/plain": [
       "<IPython.core.display.HTML object>"
      ]
     },
     "metadata": {},
     "output_type": "display_data"
    },
    {
     "data": {
      "text/html": [
       " View project at <a href='https://wandb.ai/dwolffram-karlsruhe-institute-of-technology/ari-lightgbm' target=\"_blank\">https://wandb.ai/dwolffram-karlsruhe-institute-of-technology/ari-lightgbm</a>"
      ],
      "text/plain": [
       "<IPython.core.display.HTML object>"
      ]
     },
     "metadata": {},
     "output_type": "display_data"
    },
    {
     "data": {
      "text/html": [
       " View sweep at <a href='https://wandb.ai/dwolffram-karlsruhe-institute-of-technology/ari-lightgbm/sweeps/me2h5ytc' target=\"_blank\">https://wandb.ai/dwolffram-karlsruhe-institute-of-technology/ari-lightgbm/sweeps/me2h5ytc</a>"
      ],
      "text/plain": [
       "<IPython.core.display.HTML object>"
      ]
     },
     "metadata": {},
     "output_type": "display_data"
    },
    {
     "data": {
      "text/html": [
       " View run at <a href='https://wandb.ai/dwolffram-karlsruhe-institute-of-technology/ari-lightgbm/runs/3ro2l0ya' target=\"_blank\">https://wandb.ai/dwolffram-karlsruhe-institute-of-technology/ari-lightgbm/runs/3ro2l0ya</a>"
      ],
      "text/plain": [
       "<IPython.core.display.HTML object>"
      ]
     },
     "metadata": {},
     "output_type": "display_data"
    },
    {
     "data": {
      "application/vnd.jupyter.widget-view+json": {
       "model_id": "1d02fb0dc736433bb6641d7c8f6c42ee",
       "version_major": 2,
       "version_minor": 0
      },
      "text/plain": [
       "VBox(children=(Label(value='0.006 MB of 0.006 MB uploaded\\r'), FloatProgress(value=1.0, max=1.0)))"
      ]
     },
     "metadata": {},
     "output_type": "display_data"
    },
    {
     "data": {
      "text/html": [
       "<style>\n",
       "    table.wandb td:nth-child(1) { padding: 0 10px; text-align: left ; width: auto;} td:nth-child(2) {text-align: left ; width: 100%}\n",
       "    .wandb-row { display: flex; flex-direction: row; flex-wrap: wrap; justify-content: flex-start; width: 100% }\n",
       "    .wandb-col { display: flex; flex-direction: column; flex-basis: 100%; flex: 1; padding: 10px; }\n",
       "    </style>\n",
       "<div class=\"wandb-row\"><div class=\"wandb-col\"><h3>Run history:</h3><br/><table class=\"wandb\"><tr><td>WIS</td><td>▁</td></tr><tr><td>WIS_2022</td><td>▁</td></tr><tr><td>WIS_2022_1</td><td>▁</td></tr><tr><td>WIS_2022_2</td><td>▁</td></tr><tr><td>WIS_2022_3</td><td>▁</td></tr><tr><td>WIS_2023</td><td>▁</td></tr><tr><td>WIS_2023_1</td><td>▁</td></tr><tr><td>WIS_2023_2</td><td>▁</td></tr><tr><td>WIS_2023_3</td><td>▁</td></tr><tr><td>WIS_std</td><td>▁</td></tr><tr><td>WIS_std_2022</td><td>▁</td></tr><tr><td>WIS_std_2023</td><td>▁</td></tr></table><br/></div><div class=\"wandb-col\"><h3>Run summary:</h3><br/><table class=\"wandb\"><tr><td>WIS</td><td>248.0384</td></tr><tr><td>WIS_2022</td><td>312.47634</td></tr><tr><td>WIS_2022_1</td><td>312.78795</td></tr><tr><td>WIS_2022_2</td><td>312.37538</td></tr><tr><td>WIS_2022_3</td><td>312.2657</td></tr><tr><td>WIS_2023</td><td>183.60045</td></tr><tr><td>WIS_2023_1</td><td>183.63137</td></tr><tr><td>WIS_2023_2</td><td>183.74491</td></tr><tr><td>WIS_2023_3</td><td>183.42507</td></tr><tr><td>WIS_std</td><td>64.43821</td></tr><tr><td>WIS_std_2022</td><td>0.22484</td></tr><tr><td>WIS_std_2023</td><td>0.13239</td></tr></table><br/></div></div>"
      ],
      "text/plain": [
       "<IPython.core.display.HTML object>"
      ]
     },
     "metadata": {},
     "output_type": "display_data"
    },
    {
     "data": {
      "text/html": [
       " View run <strong style=\"color:#cdcd00\">playful-sweep-1</strong> at: <a href='https://wandb.ai/dwolffram-karlsruhe-institute-of-technology/ari-lightgbm/runs/3ro2l0ya' target=\"_blank\">https://wandb.ai/dwolffram-karlsruhe-institute-of-technology/ari-lightgbm/runs/3ro2l0ya</a><br/> View project at: <a href='https://wandb.ai/dwolffram-karlsruhe-institute-of-technology/ari-lightgbm' target=\"_blank\">https://wandb.ai/dwolffram-karlsruhe-institute-of-technology/ari-lightgbm</a><br/>Synced 5 W&B file(s), 0 media file(s), 0 artifact file(s) and 0 other file(s)"
      ],
      "text/plain": [
       "<IPython.core.display.HTML object>"
      ]
     },
     "metadata": {},
     "output_type": "display_data"
    },
    {
     "data": {
      "text/html": [
       "Find logs at: <code>./wandb/run-20241031_164954-3ro2l0ya/logs</code>"
      ],
      "text/plain": [
       "<IPython.core.display.HTML object>"
      ]
     },
     "metadata": {},
     "output_type": "display_data"
    },
    {
     "data": {
      "text/html": [
       "There is a new version of wandb available. Please upgrade to wandb==0.18.5"
      ],
      "text/plain": [
       "<IPython.core.display.HTML object>"
      ]
     },
     "metadata": {},
     "output_type": "display_data"
    },
    {
     "name": "stderr",
     "output_type": "stream",
     "text": [
      "\u001b[34m\u001b[1mwandb\u001b[0m: Agent Starting Run: zi8mcvit with config:\n",
      "\u001b[34m\u001b[1mwandb\u001b[0m: \tcolsample_bytree: 0.8\n",
      "\u001b[34m\u001b[1mwandb\u001b[0m: \tlags: 8\n",
      "\u001b[34m\u001b[1mwandb\u001b[0m: \tlags_future_covariates: [0, 1]\n",
      "\u001b[34m\u001b[1mwandb\u001b[0m: \tlags_past_covariates: 8\n",
      "\u001b[34m\u001b[1mwandb\u001b[0m: \tlearning_rate: 0.01\n",
      "\u001b[34m\u001b[1mwandb\u001b[0m: \tmax_bin: 510\n",
      "\u001b[34m\u001b[1mwandb\u001b[0m: \tmax_depth: 5\n",
      "\u001b[34m\u001b[1mwandb\u001b[0m: \tmin_child_samples: 40\n",
      "\u001b[34m\u001b[1mwandb\u001b[0m: \tmin_split_gain: 0.2\n",
      "\u001b[34m\u001b[1mwandb\u001b[0m: \tmodel: lightgbm\n",
      "\u001b[34m\u001b[1mwandb\u001b[0m: \tmultiple_series: False\n",
      "\u001b[34m\u001b[1mwandb\u001b[0m: \tn_estimators: 250\n",
      "\u001b[34m\u001b[1mwandb\u001b[0m: \tnum_leaves: 10\n",
      "\u001b[34m\u001b[1mwandb\u001b[0m: \treg_alpha: 0.5\n",
      "\u001b[34m\u001b[1mwandb\u001b[0m: \treg_lambda: 0\n",
      "\u001b[34m\u001b[1mwandb\u001b[0m: \tsample_weight: None\n",
      "\u001b[34m\u001b[1mwandb\u001b[0m: \tsubsample: 0.8\n",
      "\u001b[34m\u001b[1mwandb\u001b[0m: \tsubsample_freq: 0\n",
      "\u001b[34m\u001b[1mwandb\u001b[0m: \tuse_covariates: False\n",
      "\u001b[34m\u001b[1mwandb\u001b[0m: \tuse_encoders: True\n",
      "\u001b[34m\u001b[1mwandb\u001b[0m: \tuse_features: False\n",
      "\u001b[34m\u001b[1mwandb\u001b[0m: \tuse_static_covariates: False\n",
      "Failed to detect the name of this notebook, you can set it manually with the WANDB_NOTEBOOK_NAME environment variable to enable code saving.\n"
     ]
    },
    {
     "data": {
      "text/html": [
       "Tracking run with wandb version 0.18.0"
      ],
      "text/plain": [
       "<IPython.core.display.HTML object>"
      ]
     },
     "metadata": {},
     "output_type": "display_data"
    },
    {
     "data": {
      "text/html": [
       "Run data is saved locally in <code>/home/wolffram/SARI-ML/ARI/wandb/run-20241031_170327-zi8mcvit</code>"
      ],
      "text/plain": [
       "<IPython.core.display.HTML object>"
      ]
     },
     "metadata": {},
     "output_type": "display_data"
    },
    {
     "data": {
      "text/html": [
       "Syncing run <strong><a href='https://wandb.ai/dwolffram-karlsruhe-institute-of-technology/ari-lightgbm/runs/zi8mcvit' target=\"_blank\">smooth-sweep-2</a></strong> to <a href='https://wandb.ai/dwolffram-karlsruhe-institute-of-technology/ari-lightgbm' target=\"_blank\">Weights & Biases</a> (<a href='https://wandb.me/run' target=\"_blank\">docs</a>)<br/>Sweep page: <a href='https://wandb.ai/dwolffram-karlsruhe-institute-of-technology/ari-lightgbm/sweeps/me2h5ytc' target=\"_blank\">https://wandb.ai/dwolffram-karlsruhe-institute-of-technology/ari-lightgbm/sweeps/me2h5ytc</a>"
      ],
      "text/plain": [
       "<IPython.core.display.HTML object>"
      ]
     },
     "metadata": {},
     "output_type": "display_data"
    },
    {
     "data": {
      "text/html": [
       " View project at <a href='https://wandb.ai/dwolffram-karlsruhe-institute-of-technology/ari-lightgbm' target=\"_blank\">https://wandb.ai/dwolffram-karlsruhe-institute-of-technology/ari-lightgbm</a>"
      ],
      "text/plain": [
       "<IPython.core.display.HTML object>"
      ]
     },
     "metadata": {},
     "output_type": "display_data"
    },
    {
     "data": {
      "text/html": [
       " View sweep at <a href='https://wandb.ai/dwolffram-karlsruhe-institute-of-technology/ari-lightgbm/sweeps/me2h5ytc' target=\"_blank\">https://wandb.ai/dwolffram-karlsruhe-institute-of-technology/ari-lightgbm/sweeps/me2h5ytc</a>"
      ],
      "text/plain": [
       "<IPython.core.display.HTML object>"
      ]
     },
     "metadata": {},
     "output_type": "display_data"
    },
    {
     "data": {
      "text/html": [
       " View run at <a href='https://wandb.ai/dwolffram-karlsruhe-institute-of-technology/ari-lightgbm/runs/zi8mcvit' target=\"_blank\">https://wandb.ai/dwolffram-karlsruhe-institute-of-technology/ari-lightgbm/runs/zi8mcvit</a>"
      ],
      "text/plain": [
       "<IPython.core.display.HTML object>"
      ]
     },
     "metadata": {},
     "output_type": "display_data"
    },
    {
     "data": {
      "application/vnd.jupyter.widget-view+json": {
       "model_id": "5811cc91d88647ea843034f6a227b596",
       "version_major": 2,
       "version_minor": 0
      },
      "text/plain": [
       "VBox(children=(Label(value='0.006 MB of 0.006 MB uploaded\\r'), FloatProgress(value=1.0, max=1.0)))"
      ]
     },
     "metadata": {},
     "output_type": "display_data"
    },
    {
     "data": {
      "text/html": [
       "<style>\n",
       "    table.wandb td:nth-child(1) { padding: 0 10px; text-align: left ; width: auto;} td:nth-child(2) {text-align: left ; width: 100%}\n",
       "    .wandb-row { display: flex; flex-direction: row; flex-wrap: wrap; justify-content: flex-start; width: 100% }\n",
       "    .wandb-col { display: flex; flex-direction: column; flex-basis: 100%; flex: 1; padding: 10px; }\n",
       "    </style>\n",
       "<div class=\"wandb-row\"><div class=\"wandb-col\"><h3>Run history:</h3><br/><table class=\"wandb\"><tr><td>WIS</td><td>▁</td></tr><tr><td>WIS_2022</td><td>▁</td></tr><tr><td>WIS_2022_1</td><td>▁</td></tr><tr><td>WIS_2022_2</td><td>▁</td></tr><tr><td>WIS_2022_3</td><td>▁</td></tr><tr><td>WIS_2023</td><td>▁</td></tr><tr><td>WIS_2023_1</td><td>▁</td></tr><tr><td>WIS_2023_2</td><td>▁</td></tr><tr><td>WIS_2023_3</td><td>▁</td></tr><tr><td>WIS_std</td><td>▁</td></tr><tr><td>WIS_std_2022</td><td>▁</td></tr><tr><td>WIS_std_2023</td><td>▁</td></tr></table><br/></div><div class=\"wandb-col\"><h3>Run summary:</h3><br/><table class=\"wandb\"><tr><td>WIS</td><td>249.45918</td></tr><tr><td>WIS_2022</td><td>312.2901</td></tr><tr><td>WIS_2022_1</td><td>312.55133</td></tr><tr><td>WIS_2022_2</td><td>312.13554</td></tr><tr><td>WIS_2022_3</td><td>312.18343</td></tr><tr><td>WIS_2023</td><td>186.62825</td></tr><tr><td>WIS_2023_1</td><td>186.89368</td></tr><tr><td>WIS_2023_2</td><td>186.83142</td></tr><tr><td>WIS_2023_3</td><td>186.15967</td></tr><tr><td>WIS_std</td><td>62.8315</td></tr><tr><td>WIS_std_2022</td><td>0.18575</td></tr><tr><td>WIS_std_2023</td><td>0.33231</td></tr></table><br/></div></div>"
      ],
      "text/plain": [
       "<IPython.core.display.HTML object>"
      ]
     },
     "metadata": {},
     "output_type": "display_data"
    },
    {
     "data": {
      "text/html": [
       " View run <strong style=\"color:#cdcd00\">smooth-sweep-2</strong> at: <a href='https://wandb.ai/dwolffram-karlsruhe-institute-of-technology/ari-lightgbm/runs/zi8mcvit' target=\"_blank\">https://wandb.ai/dwolffram-karlsruhe-institute-of-technology/ari-lightgbm/runs/zi8mcvit</a><br/> View project at: <a href='https://wandb.ai/dwolffram-karlsruhe-institute-of-technology/ari-lightgbm' target=\"_blank\">https://wandb.ai/dwolffram-karlsruhe-institute-of-technology/ari-lightgbm</a><br/>Synced 5 W&B file(s), 0 media file(s), 0 artifact file(s) and 0 other file(s)"
      ],
      "text/plain": [
       "<IPython.core.display.HTML object>"
      ]
     },
     "metadata": {},
     "output_type": "display_data"
    },
    {
     "data": {
      "text/html": [
       "Find logs at: <code>./wandb/run-20241031_170327-zi8mcvit/logs</code>"
      ],
      "text/plain": [
       "<IPython.core.display.HTML object>"
      ]
     },
     "metadata": {},
     "output_type": "display_data"
    },
    {
     "data": {
      "text/html": [
       "There is a new version of wandb available. Please upgrade to wandb==0.18.5"
      ],
      "text/plain": [
       "<IPython.core.display.HTML object>"
      ]
     },
     "metadata": {},
     "output_type": "display_data"
    },
    {
     "name": "stderr",
     "output_type": "stream",
     "text": [
      "\u001b[34m\u001b[1mwandb\u001b[0m: Agent Starting Run: 101336w9 with config:\n",
      "\u001b[34m\u001b[1mwandb\u001b[0m: \tcolsample_bytree: 0.9\n",
      "\u001b[34m\u001b[1mwandb\u001b[0m: \tlags: 8\n",
      "\u001b[34m\u001b[1mwandb\u001b[0m: \tlags_future_covariates: [0, 1]\n",
      "\u001b[34m\u001b[1mwandb\u001b[0m: \tlags_past_covariates: 8\n",
      "\u001b[34m\u001b[1mwandb\u001b[0m: \tlearning_rate: 0.005\n",
      "\u001b[34m\u001b[1mwandb\u001b[0m: \tmax_bin: 510\n",
      "\u001b[34m\u001b[1mwandb\u001b[0m: \tmax_depth: 10\n",
      "\u001b[34m\u001b[1mwandb\u001b[0m: \tmin_child_samples: 30\n",
      "\u001b[34m\u001b[1mwandb\u001b[0m: \tmin_split_gain: 0\n",
      "\u001b[34m\u001b[1mwandb\u001b[0m: \tmodel: lightgbm\n",
      "\u001b[34m\u001b[1mwandb\u001b[0m: \tmultiple_series: False\n",
      "\u001b[34m\u001b[1mwandb\u001b[0m: \tn_estimators: 250\n",
      "\u001b[34m\u001b[1mwandb\u001b[0m: \tnum_leaves: 50\n",
      "\u001b[34m\u001b[1mwandb\u001b[0m: \treg_alpha: 0\n",
      "\u001b[34m\u001b[1mwandb\u001b[0m: \treg_lambda: 5\n",
      "\u001b[34m\u001b[1mwandb\u001b[0m: \tsample_weight: linear\n",
      "\u001b[34m\u001b[1mwandb\u001b[0m: \tsubsample: 0.8\n",
      "\u001b[34m\u001b[1mwandb\u001b[0m: \tsubsample_freq: 2\n",
      "\u001b[34m\u001b[1mwandb\u001b[0m: \tuse_covariates: False\n",
      "\u001b[34m\u001b[1mwandb\u001b[0m: \tuse_encoders: True\n",
      "\u001b[34m\u001b[1mwandb\u001b[0m: \tuse_features: False\n",
      "\u001b[34m\u001b[1mwandb\u001b[0m: \tuse_static_covariates: False\n",
      "Failed to detect the name of this notebook, you can set it manually with the WANDB_NOTEBOOK_NAME environment variable to enable code saving.\n"
     ]
    },
    {
     "data": {
      "text/html": [
       "Tracking run with wandb version 0.18.0"
      ],
      "text/plain": [
       "<IPython.core.display.HTML object>"
      ]
     },
     "metadata": {},
     "output_type": "display_data"
    },
    {
     "data": {
      "text/html": [
       "Run data is saved locally in <code>/home/wolffram/SARI-ML/ARI/wandb/run-20241031_170530-101336w9</code>"
      ],
      "text/plain": [
       "<IPython.core.display.HTML object>"
      ]
     },
     "metadata": {},
     "output_type": "display_data"
    },
    {
     "data": {
      "text/html": [
       "Syncing run <strong><a href='https://wandb.ai/dwolffram-karlsruhe-institute-of-technology/ari-lightgbm/runs/101336w9' target=\"_blank\">bumbling-sweep-3</a></strong> to <a href='https://wandb.ai/dwolffram-karlsruhe-institute-of-technology/ari-lightgbm' target=\"_blank\">Weights & Biases</a> (<a href='https://wandb.me/run' target=\"_blank\">docs</a>)<br/>Sweep page: <a href='https://wandb.ai/dwolffram-karlsruhe-institute-of-technology/ari-lightgbm/sweeps/me2h5ytc' target=\"_blank\">https://wandb.ai/dwolffram-karlsruhe-institute-of-technology/ari-lightgbm/sweeps/me2h5ytc</a>"
      ],
      "text/plain": [
       "<IPython.core.display.HTML object>"
      ]
     },
     "metadata": {},
     "output_type": "display_data"
    },
    {
     "data": {
      "text/html": [
       " View project at <a href='https://wandb.ai/dwolffram-karlsruhe-institute-of-technology/ari-lightgbm' target=\"_blank\">https://wandb.ai/dwolffram-karlsruhe-institute-of-technology/ari-lightgbm</a>"
      ],
      "text/plain": [
       "<IPython.core.display.HTML object>"
      ]
     },
     "metadata": {},
     "output_type": "display_data"
    },
    {
     "data": {
      "text/html": [
       " View sweep at <a href='https://wandb.ai/dwolffram-karlsruhe-institute-of-technology/ari-lightgbm/sweeps/me2h5ytc' target=\"_blank\">https://wandb.ai/dwolffram-karlsruhe-institute-of-technology/ari-lightgbm/sweeps/me2h5ytc</a>"
      ],
      "text/plain": [
       "<IPython.core.display.HTML object>"
      ]
     },
     "metadata": {},
     "output_type": "display_data"
    },
    {
     "data": {
      "text/html": [
       " View run at <a href='https://wandb.ai/dwolffram-karlsruhe-institute-of-technology/ari-lightgbm/runs/101336w9' target=\"_blank\">https://wandb.ai/dwolffram-karlsruhe-institute-of-technology/ari-lightgbm/runs/101336w9</a>"
      ],
      "text/plain": [
       "<IPython.core.display.HTML object>"
      ]
     },
     "metadata": {},
     "output_type": "display_data"
    },
    {
     "data": {
      "application/vnd.jupyter.widget-view+json": {
       "model_id": "e71dde69acdb46dc9476fb9a09adf614",
       "version_major": 2,
       "version_minor": 0
      },
      "text/plain": [
       "VBox(children=(Label(value='0.006 MB of 0.006 MB uploaded\\r'), FloatProgress(value=1.0, max=1.0)))"
      ]
     },
     "metadata": {},
     "output_type": "display_data"
    },
    {
     "data": {
      "text/html": [
       "<style>\n",
       "    table.wandb td:nth-child(1) { padding: 0 10px; text-align: left ; width: auto;} td:nth-child(2) {text-align: left ; width: 100%}\n",
       "    .wandb-row { display: flex; flex-direction: row; flex-wrap: wrap; justify-content: flex-start; width: 100% }\n",
       "    .wandb-col { display: flex; flex-direction: column; flex-basis: 100%; flex: 1; padding: 10px; }\n",
       "    </style>\n",
       "<div class=\"wandb-row\"><div class=\"wandb-col\"><h3>Run history:</h3><br/><table class=\"wandb\"><tr><td>WIS</td><td>▁</td></tr><tr><td>WIS_2022</td><td>▁</td></tr><tr><td>WIS_2022_1</td><td>▁</td></tr><tr><td>WIS_2022_2</td><td>▁</td></tr><tr><td>WIS_2022_3</td><td>▁</td></tr><tr><td>WIS_2023</td><td>▁</td></tr><tr><td>WIS_2023_1</td><td>▁</td></tr><tr><td>WIS_2023_2</td><td>▁</td></tr><tr><td>WIS_2023_3</td><td>▁</td></tr><tr><td>WIS_std</td><td>▁</td></tr><tr><td>WIS_std_2022</td><td>▁</td></tr><tr><td>WIS_std_2023</td><td>▁</td></tr></table><br/></div><div class=\"wandb-col\"><h3>Run summary:</h3><br/><table class=\"wandb\"><tr><td>WIS</td><td>286.35811</td></tr><tr><td>WIS_2022</td><td>357.0044</td></tr><tr><td>WIS_2022_1</td><td>356.20952</td></tr><tr><td>WIS_2022_2</td><td>356.95872</td></tr><tr><td>WIS_2022_3</td><td>357.84495</td></tr><tr><td>WIS_2023</td><td>215.71183</td></tr><tr><td>WIS_2023_1</td><td>216.08278</td></tr><tr><td>WIS_2023_2</td><td>215.47147</td></tr><tr><td>WIS_2023_3</td><td>215.58124</td></tr><tr><td>WIS_std</td><td>70.64812</td></tr><tr><td>WIS_std_2022</td><td>0.66844</td></tr><tr><td>WIS_std_2023</td><td>0.2661</td></tr></table><br/></div></div>"
      ],
      "text/plain": [
       "<IPython.core.display.HTML object>"
      ]
     },
     "metadata": {},
     "output_type": "display_data"
    },
    {
     "data": {
      "text/html": [
       " View run <strong style=\"color:#cdcd00\">bumbling-sweep-3</strong> at: <a href='https://wandb.ai/dwolffram-karlsruhe-institute-of-technology/ari-lightgbm/runs/101336w9' target=\"_blank\">https://wandb.ai/dwolffram-karlsruhe-institute-of-technology/ari-lightgbm/runs/101336w9</a><br/> View project at: <a href='https://wandb.ai/dwolffram-karlsruhe-institute-of-technology/ari-lightgbm' target=\"_blank\">https://wandb.ai/dwolffram-karlsruhe-institute-of-technology/ari-lightgbm</a><br/>Synced 5 W&B file(s), 0 media file(s), 0 artifact file(s) and 0 other file(s)"
      ],
      "text/plain": [
       "<IPython.core.display.HTML object>"
      ]
     },
     "metadata": {},
     "output_type": "display_data"
    },
    {
     "data": {
      "text/html": [
       "Find logs at: <code>./wandb/run-20241031_170530-101336w9/logs</code>"
      ],
      "text/plain": [
       "<IPython.core.display.HTML object>"
      ]
     },
     "metadata": {},
     "output_type": "display_data"
    },
    {
     "data": {
      "text/html": [
       "There is a new version of wandb available. Please upgrade to wandb==0.18.5"
      ],
      "text/plain": [
       "<IPython.core.display.HTML object>"
      ]
     },
     "metadata": {},
     "output_type": "display_data"
    },
    {
     "name": "stderr",
     "output_type": "stream",
     "text": [
      "\u001b[34m\u001b[1mwandb\u001b[0m: Agent Starting Run: v6teujay with config:\n",
      "\u001b[34m\u001b[1mwandb\u001b[0m: \tcolsample_bytree: 1\n",
      "\u001b[34m\u001b[1mwandb\u001b[0m: \tlags: 8\n",
      "\u001b[34m\u001b[1mwandb\u001b[0m: \tlags_future_covariates: [0, 1]\n",
      "\u001b[34m\u001b[1mwandb\u001b[0m: \tlags_past_covariates: 8\n",
      "\u001b[34m\u001b[1mwandb\u001b[0m: \tlearning_rate: 0.005\n",
      "\u001b[34m\u001b[1mwandb\u001b[0m: \tmax_bin: 510\n",
      "\u001b[34m\u001b[1mwandb\u001b[0m: \tmax_depth: 15\n",
      "\u001b[34m\u001b[1mwandb\u001b[0m: \tmin_child_samples: 10\n",
      "\u001b[34m\u001b[1mwandb\u001b[0m: \tmin_split_gain: 0.1\n",
      "\u001b[34m\u001b[1mwandb\u001b[0m: \tmodel: lightgbm\n",
      "\u001b[34m\u001b[1mwandb\u001b[0m: \tmultiple_series: False\n",
      "\u001b[34m\u001b[1mwandb\u001b[0m: \tn_estimators: 2000\n",
      "\u001b[34m\u001b[1mwandb\u001b[0m: \tnum_leaves: 20\n",
      "\u001b[34m\u001b[1mwandb\u001b[0m: \treg_alpha: 0\n",
      "\u001b[34m\u001b[1mwandb\u001b[0m: \treg_lambda: 0.25\n",
      "\u001b[34m\u001b[1mwandb\u001b[0m: \tsample_weight: linear\n",
      "\u001b[34m\u001b[1mwandb\u001b[0m: \tsubsample: 1\n",
      "\u001b[34m\u001b[1mwandb\u001b[0m: \tsubsample_freq: 2\n",
      "\u001b[34m\u001b[1mwandb\u001b[0m: \tuse_covariates: True\n",
      "\u001b[34m\u001b[1mwandb\u001b[0m: \tuse_encoders: True\n",
      "\u001b[34m\u001b[1mwandb\u001b[0m: \tuse_features: False\n",
      "\u001b[34m\u001b[1mwandb\u001b[0m: \tuse_static_covariates: False\n",
      "Failed to detect the name of this notebook, you can set it manually with the WANDB_NOTEBOOK_NAME environment variable to enable code saving.\n"
     ]
    },
    {
     "data": {
      "text/html": [
       "Tracking run with wandb version 0.18.0"
      ],
      "text/plain": [
       "<IPython.core.display.HTML object>"
      ]
     },
     "metadata": {},
     "output_type": "display_data"
    },
    {
     "data": {
      "text/html": [
       "Run data is saved locally in <code>/home/wolffram/SARI-ML/ARI/wandb/run-20241031_170805-v6teujay</code>"
      ],
      "text/plain": [
       "<IPython.core.display.HTML object>"
      ]
     },
     "metadata": {},
     "output_type": "display_data"
    },
    {
     "data": {
      "text/html": [
       "Syncing run <strong><a href='https://wandb.ai/dwolffram-karlsruhe-institute-of-technology/ari-lightgbm/runs/v6teujay' target=\"_blank\">devoted-sweep-4</a></strong> to <a href='https://wandb.ai/dwolffram-karlsruhe-institute-of-technology/ari-lightgbm' target=\"_blank\">Weights & Biases</a> (<a href='https://wandb.me/run' target=\"_blank\">docs</a>)<br/>Sweep page: <a href='https://wandb.ai/dwolffram-karlsruhe-institute-of-technology/ari-lightgbm/sweeps/me2h5ytc' target=\"_blank\">https://wandb.ai/dwolffram-karlsruhe-institute-of-technology/ari-lightgbm/sweeps/me2h5ytc</a>"
      ],
      "text/plain": [
       "<IPython.core.display.HTML object>"
      ]
     },
     "metadata": {},
     "output_type": "display_data"
    },
    {
     "data": {
      "text/html": [
       " View project at <a href='https://wandb.ai/dwolffram-karlsruhe-institute-of-technology/ari-lightgbm' target=\"_blank\">https://wandb.ai/dwolffram-karlsruhe-institute-of-technology/ari-lightgbm</a>"
      ],
      "text/plain": [
       "<IPython.core.display.HTML object>"
      ]
     },
     "metadata": {},
     "output_type": "display_data"
    },
    {
     "data": {
      "text/html": [
       " View sweep at <a href='https://wandb.ai/dwolffram-karlsruhe-institute-of-technology/ari-lightgbm/sweeps/me2h5ytc' target=\"_blank\">https://wandb.ai/dwolffram-karlsruhe-institute-of-technology/ari-lightgbm/sweeps/me2h5ytc</a>"
      ],
      "text/plain": [
       "<IPython.core.display.HTML object>"
      ]
     },
     "metadata": {},
     "output_type": "display_data"
    },
    {
     "data": {
      "text/html": [
       " View run at <a href='https://wandb.ai/dwolffram-karlsruhe-institute-of-technology/ari-lightgbm/runs/v6teujay' target=\"_blank\">https://wandb.ai/dwolffram-karlsruhe-institute-of-technology/ari-lightgbm/runs/v6teujay</a>"
      ],
      "text/plain": [
       "<IPython.core.display.HTML object>"
      ]
     },
     "metadata": {},
     "output_type": "display_data"
    },
    {
     "data": {
      "application/vnd.jupyter.widget-view+json": {
       "model_id": "2bed726fcb62496e8bb811f74c2152e7",
       "version_major": 2,
       "version_minor": 0
      },
      "text/plain": [
       "VBox(children=(Label(value='0.006 MB of 0.006 MB uploaded\\r'), FloatProgress(value=1.0, max=1.0)))"
      ]
     },
     "metadata": {},
     "output_type": "display_data"
    },
    {
     "data": {
      "text/html": [
       "<style>\n",
       "    table.wandb td:nth-child(1) { padding: 0 10px; text-align: left ; width: auto;} td:nth-child(2) {text-align: left ; width: 100%}\n",
       "    .wandb-row { display: flex; flex-direction: row; flex-wrap: wrap; justify-content: flex-start; width: 100% }\n",
       "    .wandb-col { display: flex; flex-direction: column; flex-basis: 100%; flex: 1; padding: 10px; }\n",
       "    </style>\n",
       "<div class=\"wandb-row\"><div class=\"wandb-col\"><h3>Run history:</h3><br/><table class=\"wandb\"><tr><td>WIS</td><td>▁</td></tr><tr><td>WIS_2022</td><td>▁</td></tr><tr><td>WIS_2022_1</td><td>▁</td></tr><tr><td>WIS_2022_2</td><td>▁</td></tr><tr><td>WIS_2022_3</td><td>▁</td></tr><tr><td>WIS_2023</td><td>▁</td></tr><tr><td>WIS_2023_1</td><td>▁</td></tr><tr><td>WIS_2023_2</td><td>▁</td></tr><tr><td>WIS_2023_3</td><td>▁</td></tr><tr><td>WIS_std</td><td>▁</td></tr><tr><td>WIS_std_2022</td><td>▁</td></tr><tr><td>WIS_std_2023</td><td>▁</td></tr></table><br/></div><div class=\"wandb-col\"><h3>Run summary:</h3><br/><table class=\"wandb\"><tr><td>WIS</td><td>254.69724</td></tr><tr><td>WIS_2022</td><td>326.74623</td></tr><tr><td>WIS_2022_1</td><td>327.18303</td></tr><tr><td>WIS_2022_2</td><td>325.96341</td></tr><tr><td>WIS_2022_3</td><td>327.09227</td></tr><tr><td>WIS_2023</td><td>182.64824</td></tr><tr><td>WIS_2023_1</td><td>182.40739</td></tr><tr><td>WIS_2023_2</td><td>182.59407</td></tr><tr><td>WIS_2023_3</td><td>182.94327</td></tr><tr><td>WIS_std</td><td>72.05024</td></tr><tr><td>WIS_std_2022</td><td>0.55478</td></tr><tr><td>WIS_std_2023</td><td>0.2221</td></tr></table><br/></div></div>"
      ],
      "text/plain": [
       "<IPython.core.display.HTML object>"
      ]
     },
     "metadata": {},
     "output_type": "display_data"
    },
    {
     "data": {
      "text/html": [
       " View run <strong style=\"color:#cdcd00\">devoted-sweep-4</strong> at: <a href='https://wandb.ai/dwolffram-karlsruhe-institute-of-technology/ari-lightgbm/runs/v6teujay' target=\"_blank\">https://wandb.ai/dwolffram-karlsruhe-institute-of-technology/ari-lightgbm/runs/v6teujay</a><br/> View project at: <a href='https://wandb.ai/dwolffram-karlsruhe-institute-of-technology/ari-lightgbm' target=\"_blank\">https://wandb.ai/dwolffram-karlsruhe-institute-of-technology/ari-lightgbm</a><br/>Synced 5 W&B file(s), 0 media file(s), 0 artifact file(s) and 0 other file(s)"
      ],
      "text/plain": [
       "<IPython.core.display.HTML object>"
      ]
     },
     "metadata": {},
     "output_type": "display_data"
    },
    {
     "data": {
      "text/html": [
       "Find logs at: <code>./wandb/run-20241031_170805-v6teujay/logs</code>"
      ],
      "text/plain": [
       "<IPython.core.display.HTML object>"
      ]
     },
     "metadata": {},
     "output_type": "display_data"
    },
    {
     "data": {
      "text/html": [
       "There is a new version of wandb available. Please upgrade to wandb==0.18.5"
      ],
      "text/plain": [
       "<IPython.core.display.HTML object>"
      ]
     },
     "metadata": {},
     "output_type": "display_data"
    },
    {
     "name": "stderr",
     "output_type": "stream",
     "text": [
      "\u001b[34m\u001b[1mwandb\u001b[0m: Agent Starting Run: ghu1pw07 with config:\n",
      "\u001b[34m\u001b[1mwandb\u001b[0m: \tcolsample_bytree: 1\n",
      "\u001b[34m\u001b[1mwandb\u001b[0m: \tlags: 8\n",
      "\u001b[34m\u001b[1mwandb\u001b[0m: \tlags_future_covariates: [0, 1]\n",
      "\u001b[34m\u001b[1mwandb\u001b[0m: \tlags_past_covariates: 8\n",
      "\u001b[34m\u001b[1mwandb\u001b[0m: \tlearning_rate: 0.1\n",
      "\u001b[34m\u001b[1mwandb\u001b[0m: \tmax_bin: 1024\n",
      "\u001b[34m\u001b[1mwandb\u001b[0m: \tmax_depth: -1\n",
      "\u001b[34m\u001b[1mwandb\u001b[0m: \tmin_child_samples: 20\n",
      "\u001b[34m\u001b[1mwandb\u001b[0m: \tmin_split_gain: 0.2\n",
      "\u001b[34m\u001b[1mwandb\u001b[0m: \tmodel: lightgbm\n",
      "\u001b[34m\u001b[1mwandb\u001b[0m: \tmultiple_series: False\n",
      "\u001b[34m\u001b[1mwandb\u001b[0m: \tn_estimators: 1000\n",
      "\u001b[34m\u001b[1mwandb\u001b[0m: \tnum_leaves: 40\n",
      "\u001b[34m\u001b[1mwandb\u001b[0m: \treg_alpha: 0.5\n",
      "\u001b[34m\u001b[1mwandb\u001b[0m: \treg_lambda: 0.25\n",
      "\u001b[34m\u001b[1mwandb\u001b[0m: \tsample_weight: None\n",
      "\u001b[34m\u001b[1mwandb\u001b[0m: \tsubsample: 1\n",
      "\u001b[34m\u001b[1mwandb\u001b[0m: \tsubsample_freq: 5\n",
      "\u001b[34m\u001b[1mwandb\u001b[0m: \tuse_covariates: False\n",
      "\u001b[34m\u001b[1mwandb\u001b[0m: \tuse_encoders: True\n",
      "\u001b[34m\u001b[1mwandb\u001b[0m: \tuse_features: False\n",
      "\u001b[34m\u001b[1mwandb\u001b[0m: \tuse_static_covariates: False\n",
      "Failed to detect the name of this notebook, you can set it manually with the WANDB_NOTEBOOK_NAME environment variable to enable code saving.\n"
     ]
    },
    {
     "data": {
      "text/html": [
       "Tracking run with wandb version 0.18.0"
      ],
      "text/plain": [
       "<IPython.core.display.HTML object>"
      ]
     },
     "metadata": {},
     "output_type": "display_data"
    },
    {
     "data": {
      "text/html": [
       "Run data is saved locally in <code>/home/wolffram/SARI-ML/ARI/wandb/run-20241031_172840-ghu1pw07</code>"
      ],
      "text/plain": [
       "<IPython.core.display.HTML object>"
      ]
     },
     "metadata": {},
     "output_type": "display_data"
    },
    {
     "data": {
      "text/html": [
       "Syncing run <strong><a href='https://wandb.ai/dwolffram-karlsruhe-institute-of-technology/ari-lightgbm/runs/ghu1pw07' target=\"_blank\">legendary-sweep-5</a></strong> to <a href='https://wandb.ai/dwolffram-karlsruhe-institute-of-technology/ari-lightgbm' target=\"_blank\">Weights & Biases</a> (<a href='https://wandb.me/run' target=\"_blank\">docs</a>)<br/>Sweep page: <a href='https://wandb.ai/dwolffram-karlsruhe-institute-of-technology/ari-lightgbm/sweeps/me2h5ytc' target=\"_blank\">https://wandb.ai/dwolffram-karlsruhe-institute-of-technology/ari-lightgbm/sweeps/me2h5ytc</a>"
      ],
      "text/plain": [
       "<IPython.core.display.HTML object>"
      ]
     },
     "metadata": {},
     "output_type": "display_data"
    },
    {
     "data": {
      "text/html": [
       " View project at <a href='https://wandb.ai/dwolffram-karlsruhe-institute-of-technology/ari-lightgbm' target=\"_blank\">https://wandb.ai/dwolffram-karlsruhe-institute-of-technology/ari-lightgbm</a>"
      ],
      "text/plain": [
       "<IPython.core.display.HTML object>"
      ]
     },
     "metadata": {},
     "output_type": "display_data"
    },
    {
     "data": {
      "text/html": [
       " View sweep at <a href='https://wandb.ai/dwolffram-karlsruhe-institute-of-technology/ari-lightgbm/sweeps/me2h5ytc' target=\"_blank\">https://wandb.ai/dwolffram-karlsruhe-institute-of-technology/ari-lightgbm/sweeps/me2h5ytc</a>"
      ],
      "text/plain": [
       "<IPython.core.display.HTML object>"
      ]
     },
     "metadata": {},
     "output_type": "display_data"
    },
    {
     "data": {
      "text/html": [
       " View run at <a href='https://wandb.ai/dwolffram-karlsruhe-institute-of-technology/ari-lightgbm/runs/ghu1pw07' target=\"_blank\">https://wandb.ai/dwolffram-karlsruhe-institute-of-technology/ari-lightgbm/runs/ghu1pw07</a>"
      ],
      "text/plain": [
       "<IPython.core.display.HTML object>"
      ]
     },
     "metadata": {},
     "output_type": "display_data"
    },
    {
     "data": {
      "application/vnd.jupyter.widget-view+json": {
       "model_id": "8604e7696f274beb82b62eba3a646233",
       "version_major": 2,
       "version_minor": 0
      },
      "text/plain": [
       "VBox(children=(Label(value='0.006 MB of 0.006 MB uploaded\\r'), FloatProgress(value=1.0, max=1.0)))"
      ]
     },
     "metadata": {},
     "output_type": "display_data"
    },
    {
     "data": {
      "text/html": [
       "<style>\n",
       "    table.wandb td:nth-child(1) { padding: 0 10px; text-align: left ; width: auto;} td:nth-child(2) {text-align: left ; width: 100%}\n",
       "    .wandb-row { display: flex; flex-direction: row; flex-wrap: wrap; justify-content: flex-start; width: 100% }\n",
       "    .wandb-col { display: flex; flex-direction: column; flex-basis: 100%; flex: 1; padding: 10px; }\n",
       "    </style>\n",
       "<div class=\"wandb-row\"><div class=\"wandb-col\"><h3>Run history:</h3><br/><table class=\"wandb\"><tr><td>WIS</td><td>▁</td></tr><tr><td>WIS_2022</td><td>▁</td></tr><tr><td>WIS_2022_1</td><td>▁</td></tr><tr><td>WIS_2022_2</td><td>▁</td></tr><tr><td>WIS_2022_3</td><td>▁</td></tr><tr><td>WIS_2023</td><td>▁</td></tr><tr><td>WIS_2023_1</td><td>▁</td></tr><tr><td>WIS_2023_2</td><td>▁</td></tr><tr><td>WIS_2023_3</td><td>▁</td></tr><tr><td>WIS_std</td><td>▁</td></tr><tr><td>WIS_std_2022</td><td>▁</td></tr><tr><td>WIS_std_2023</td><td>▁</td></tr></table><br/></div><div class=\"wandb-col\"><h3>Run summary:</h3><br/><table class=\"wandb\"><tr><td>WIS</td><td>233.27912</td></tr><tr><td>WIS_2022</td><td>303.46635</td></tr><tr><td>WIS_2022_1</td><td>303.37751</td></tr><tr><td>WIS_2022_2</td><td>303.32375</td></tr><tr><td>WIS_2022_3</td><td>303.6978</td></tr><tr><td>WIS_2023</td><td>163.0919</td></tr><tr><td>WIS_2023_1</td><td>163.34777</td></tr><tr><td>WIS_2023_2</td><td>162.91354</td></tr><tr><td>WIS_2023_3</td><td>163.01438</td></tr><tr><td>WIS_std</td><td>70.18745</td></tr><tr><td>WIS_std_2022</td><td>0.16512</td></tr><tr><td>WIS_std_2023</td><td>0.18555</td></tr></table><br/></div></div>"
      ],
      "text/plain": [
       "<IPython.core.display.HTML object>"
      ]
     },
     "metadata": {},
     "output_type": "display_data"
    },
    {
     "data": {
      "text/html": [
       " View run <strong style=\"color:#cdcd00\">legendary-sweep-5</strong> at: <a href='https://wandb.ai/dwolffram-karlsruhe-institute-of-technology/ari-lightgbm/runs/ghu1pw07' target=\"_blank\">https://wandb.ai/dwolffram-karlsruhe-institute-of-technology/ari-lightgbm/runs/ghu1pw07</a><br/> View project at: <a href='https://wandb.ai/dwolffram-karlsruhe-institute-of-technology/ari-lightgbm' target=\"_blank\">https://wandb.ai/dwolffram-karlsruhe-institute-of-technology/ari-lightgbm</a><br/>Synced 5 W&B file(s), 0 media file(s), 0 artifact file(s) and 0 other file(s)"
      ],
      "text/plain": [
       "<IPython.core.display.HTML object>"
      ]
     },
     "metadata": {},
     "output_type": "display_data"
    },
    {
     "data": {
      "text/html": [
       "Find logs at: <code>./wandb/run-20241031_172840-ghu1pw07/logs</code>"
      ],
      "text/plain": [
       "<IPython.core.display.HTML object>"
      ]
     },
     "metadata": {},
     "output_type": "display_data"
    },
    {
     "data": {
      "text/html": [
       "There is a new version of wandb available. Please upgrade to wandb==0.18.5"
      ],
      "text/plain": [
       "<IPython.core.display.HTML object>"
      ]
     },
     "metadata": {},
     "output_type": "display_data"
    },
    {
     "name": "stderr",
     "output_type": "stream",
     "text": [
      "\u001b[34m\u001b[1mwandb\u001b[0m: Agent Starting Run: lckj0vbz with config:\n",
      "\u001b[34m\u001b[1mwandb\u001b[0m: \tcolsample_bytree: 0.9\n",
      "\u001b[34m\u001b[1mwandb\u001b[0m: \tlags: 8\n",
      "\u001b[34m\u001b[1mwandb\u001b[0m: \tlags_future_covariates: [0, 1]\n",
      "\u001b[34m\u001b[1mwandb\u001b[0m: \tlags_past_covariates: 8\n",
      "\u001b[34m\u001b[1mwandb\u001b[0m: \tlearning_rate: 0.05\n",
      "\u001b[34m\u001b[1mwandb\u001b[0m: \tmax_bin: 510\n",
      "\u001b[34m\u001b[1mwandb\u001b[0m: \tmax_depth: 20\n",
      "\u001b[34m\u001b[1mwandb\u001b[0m: \tmin_child_samples: 40\n",
      "\u001b[34m\u001b[1mwandb\u001b[0m: \tmin_split_gain: 0.1\n",
      "\u001b[34m\u001b[1mwandb\u001b[0m: \tmodel: lightgbm\n",
      "\u001b[34m\u001b[1mwandb\u001b[0m: \tmultiple_series: False\n",
      "\u001b[34m\u001b[1mwandb\u001b[0m: \tn_estimators: 2000\n",
      "\u001b[34m\u001b[1mwandb\u001b[0m: \tnum_leaves: 31\n",
      "\u001b[34m\u001b[1mwandb\u001b[0m: \treg_alpha: 1\n",
      "\u001b[34m\u001b[1mwandb\u001b[0m: \treg_lambda: 1\n",
      "\u001b[34m\u001b[1mwandb\u001b[0m: \tsample_weight: None\n",
      "\u001b[34m\u001b[1mwandb\u001b[0m: \tsubsample: 0.9\n",
      "\u001b[34m\u001b[1mwandb\u001b[0m: \tsubsample_freq: 0\n",
      "\u001b[34m\u001b[1mwandb\u001b[0m: \tuse_covariates: True\n",
      "\u001b[34m\u001b[1mwandb\u001b[0m: \tuse_encoders: True\n",
      "\u001b[34m\u001b[1mwandb\u001b[0m: \tuse_features: False\n",
      "\u001b[34m\u001b[1mwandb\u001b[0m: \tuse_static_covariates: False\n",
      "Failed to detect the name of this notebook, you can set it manually with the WANDB_NOTEBOOK_NAME environment variable to enable code saving.\n"
     ]
    },
    {
     "data": {
      "text/html": [
       "Tracking run with wandb version 0.18.0"
      ],
      "text/plain": [
       "<IPython.core.display.HTML object>"
      ]
     },
     "metadata": {},
     "output_type": "display_data"
    },
    {
     "data": {
      "text/html": [
       "Run data is saved locally in <code>/home/wolffram/SARI-ML/ARI/wandb/run-20241031_173456-lckj0vbz</code>"
      ],
      "text/plain": [
       "<IPython.core.display.HTML object>"
      ]
     },
     "metadata": {},
     "output_type": "display_data"
    },
    {
     "data": {
      "text/html": [
       "Syncing run <strong><a href='https://wandb.ai/dwolffram-karlsruhe-institute-of-technology/ari-lightgbm/runs/lckj0vbz' target=\"_blank\">devout-sweep-6</a></strong> to <a href='https://wandb.ai/dwolffram-karlsruhe-institute-of-technology/ari-lightgbm' target=\"_blank\">Weights & Biases</a> (<a href='https://wandb.me/run' target=\"_blank\">docs</a>)<br/>Sweep page: <a href='https://wandb.ai/dwolffram-karlsruhe-institute-of-technology/ari-lightgbm/sweeps/me2h5ytc' target=\"_blank\">https://wandb.ai/dwolffram-karlsruhe-institute-of-technology/ari-lightgbm/sweeps/me2h5ytc</a>"
      ],
      "text/plain": [
       "<IPython.core.display.HTML object>"
      ]
     },
     "metadata": {},
     "output_type": "display_data"
    },
    {
     "data": {
      "text/html": [
       " View project at <a href='https://wandb.ai/dwolffram-karlsruhe-institute-of-technology/ari-lightgbm' target=\"_blank\">https://wandb.ai/dwolffram-karlsruhe-institute-of-technology/ari-lightgbm</a>"
      ],
      "text/plain": [
       "<IPython.core.display.HTML object>"
      ]
     },
     "metadata": {},
     "output_type": "display_data"
    },
    {
     "data": {
      "text/html": [
       " View sweep at <a href='https://wandb.ai/dwolffram-karlsruhe-institute-of-technology/ari-lightgbm/sweeps/me2h5ytc' target=\"_blank\">https://wandb.ai/dwolffram-karlsruhe-institute-of-technology/ari-lightgbm/sweeps/me2h5ytc</a>"
      ],
      "text/plain": [
       "<IPython.core.display.HTML object>"
      ]
     },
     "metadata": {},
     "output_type": "display_data"
    },
    {
     "data": {
      "text/html": [
       " View run at <a href='https://wandb.ai/dwolffram-karlsruhe-institute-of-technology/ari-lightgbm/runs/lckj0vbz' target=\"_blank\">https://wandb.ai/dwolffram-karlsruhe-institute-of-technology/ari-lightgbm/runs/lckj0vbz</a>"
      ],
      "text/plain": [
       "<IPython.core.display.HTML object>"
      ]
     },
     "metadata": {},
     "output_type": "display_data"
    },
    {
     "data": {
      "application/vnd.jupyter.widget-view+json": {
       "model_id": "c933d62769b04092a48402ab1b89d1ef",
       "version_major": 2,
       "version_minor": 0
      },
      "text/plain": [
       "VBox(children=(Label(value='0.006 MB of 0.006 MB uploaded\\r'), FloatProgress(value=1.0, max=1.0)))"
      ]
     },
     "metadata": {},
     "output_type": "display_data"
    },
    {
     "data": {
      "text/html": [
       "<style>\n",
       "    table.wandb td:nth-child(1) { padding: 0 10px; text-align: left ; width: auto;} td:nth-child(2) {text-align: left ; width: 100%}\n",
       "    .wandb-row { display: flex; flex-direction: row; flex-wrap: wrap; justify-content: flex-start; width: 100% }\n",
       "    .wandb-col { display: flex; flex-direction: column; flex-basis: 100%; flex: 1; padding: 10px; }\n",
       "    </style>\n",
       "<div class=\"wandb-row\"><div class=\"wandb-col\"><h3>Run history:</h3><br/><table class=\"wandb\"><tr><td>WIS</td><td>▁</td></tr><tr><td>WIS_2022</td><td>▁</td></tr><tr><td>WIS_2022_1</td><td>▁</td></tr><tr><td>WIS_2022_2</td><td>▁</td></tr><tr><td>WIS_2022_3</td><td>▁</td></tr><tr><td>WIS_2023</td><td>▁</td></tr><tr><td>WIS_2023_1</td><td>▁</td></tr><tr><td>WIS_2023_2</td><td>▁</td></tr><tr><td>WIS_2023_3</td><td>▁</td></tr><tr><td>WIS_std</td><td>▁</td></tr><tr><td>WIS_std_2022</td><td>▁</td></tr><tr><td>WIS_std_2023</td><td>▁</td></tr></table><br/></div><div class=\"wandb-col\"><h3>Run summary:</h3><br/><table class=\"wandb\"><tr><td>WIS</td><td>247.12202</td></tr><tr><td>WIS_2022</td><td>314.21493</td></tr><tr><td>WIS_2022_1</td><td>314.36794</td></tr><tr><td>WIS_2022_2</td><td>314.2474</td></tr><tr><td>WIS_2022_3</td><td>314.02943</td></tr><tr><td>WIS_2023</td><td>180.02912</td></tr><tr><td>WIS_2023_1</td><td>179.65452</td></tr><tr><td>WIS_2023_2</td><td>179.97077</td></tr><tr><td>WIS_2023_3</td><td>180.46206</td></tr><tr><td>WIS_std</td><td>67.09339</td></tr><tr><td>WIS_std_2022</td><td>0.14009</td></tr><tr><td>WIS_std_2023</td><td>0.33225</td></tr></table><br/></div></div>"
      ],
      "text/plain": [
       "<IPython.core.display.HTML object>"
      ]
     },
     "metadata": {},
     "output_type": "display_data"
    },
    {
     "data": {
      "text/html": [
       " View run <strong style=\"color:#cdcd00\">devout-sweep-6</strong> at: <a href='https://wandb.ai/dwolffram-karlsruhe-institute-of-technology/ari-lightgbm/runs/lckj0vbz' target=\"_blank\">https://wandb.ai/dwolffram-karlsruhe-institute-of-technology/ari-lightgbm/runs/lckj0vbz</a><br/> View project at: <a href='https://wandb.ai/dwolffram-karlsruhe-institute-of-technology/ari-lightgbm' target=\"_blank\">https://wandb.ai/dwolffram-karlsruhe-institute-of-technology/ari-lightgbm</a><br/>Synced 5 W&B file(s), 0 media file(s), 0 artifact file(s) and 0 other file(s)"
      ],
      "text/plain": [
       "<IPython.core.display.HTML object>"
      ]
     },
     "metadata": {},
     "output_type": "display_data"
    },
    {
     "data": {
      "text/html": [
       "Find logs at: <code>./wandb/run-20241031_173456-lckj0vbz/logs</code>"
      ],
      "text/plain": [
       "<IPython.core.display.HTML object>"
      ]
     },
     "metadata": {},
     "output_type": "display_data"
    },
    {
     "data": {
      "text/html": [
       "There is a new version of wandb available. Please upgrade to wandb==0.18.5"
      ],
      "text/plain": [
       "<IPython.core.display.HTML object>"
      ]
     },
     "metadata": {},
     "output_type": "display_data"
    },
    {
     "name": "stderr",
     "output_type": "stream",
     "text": [
      "\u001b[34m\u001b[1mwandb\u001b[0m: Agent Starting Run: j19c1tce with config:\n",
      "\u001b[34m\u001b[1mwandb\u001b[0m: \tcolsample_bytree: 1\n",
      "\u001b[34m\u001b[1mwandb\u001b[0m: \tlags: 8\n",
      "\u001b[34m\u001b[1mwandb\u001b[0m: \tlags_future_covariates: [0, 1]\n",
      "\u001b[34m\u001b[1mwandb\u001b[0m: \tlags_past_covariates: 8\n",
      "\u001b[34m\u001b[1mwandb\u001b[0m: \tlearning_rate: 0.01\n",
      "\u001b[34m\u001b[1mwandb\u001b[0m: \tmax_bin: 2048\n",
      "\u001b[34m\u001b[1mwandb\u001b[0m: \tmax_depth: 20\n",
      "\u001b[34m\u001b[1mwandb\u001b[0m: \tmin_child_samples: 20\n",
      "\u001b[34m\u001b[1mwandb\u001b[0m: \tmin_split_gain: 0.2\n",
      "\u001b[34m\u001b[1mwandb\u001b[0m: \tmodel: lightgbm\n",
      "\u001b[34m\u001b[1mwandb\u001b[0m: \tmultiple_series: False\n",
      "\u001b[34m\u001b[1mwandb\u001b[0m: \tn_estimators: 500\n",
      "\u001b[34m\u001b[1mwandb\u001b[0m: \tnum_leaves: 40\n",
      "\u001b[34m\u001b[1mwandb\u001b[0m: \treg_alpha: 0\n",
      "\u001b[34m\u001b[1mwandb\u001b[0m: \treg_lambda: 0.25\n",
      "\u001b[34m\u001b[1mwandb\u001b[0m: \tsample_weight: linear\n",
      "\u001b[34m\u001b[1mwandb\u001b[0m: \tsubsample: 1\n",
      "\u001b[34m\u001b[1mwandb\u001b[0m: \tsubsample_freq: 2\n",
      "\u001b[34m\u001b[1mwandb\u001b[0m: \tuse_covariates: True\n",
      "\u001b[34m\u001b[1mwandb\u001b[0m: \tuse_encoders: True\n",
      "\u001b[34m\u001b[1mwandb\u001b[0m: \tuse_features: False\n",
      "\u001b[34m\u001b[1mwandb\u001b[0m: \tuse_static_covariates: False\n",
      "Failed to detect the name of this notebook, you can set it manually with the WANDB_NOTEBOOK_NAME environment variable to enable code saving.\n"
     ]
    },
    {
     "data": {
      "text/html": [
       "Tracking run with wandb version 0.18.0"
      ],
      "text/plain": [
       "<IPython.core.display.HTML object>"
      ]
     },
     "metadata": {},
     "output_type": "display_data"
    },
    {
     "data": {
      "text/html": [
       "Run data is saved locally in <code>/home/wolffram/SARI-ML/ARI/wandb/run-20241031_175241-j19c1tce</code>"
      ],
      "text/plain": [
       "<IPython.core.display.HTML object>"
      ]
     },
     "metadata": {},
     "output_type": "display_data"
    },
    {
     "data": {
      "text/html": [
       "Syncing run <strong><a href='https://wandb.ai/dwolffram-karlsruhe-institute-of-technology/ari-lightgbm/runs/j19c1tce' target=\"_blank\">icy-sweep-7</a></strong> to <a href='https://wandb.ai/dwolffram-karlsruhe-institute-of-technology/ari-lightgbm' target=\"_blank\">Weights & Biases</a> (<a href='https://wandb.me/run' target=\"_blank\">docs</a>)<br/>Sweep page: <a href='https://wandb.ai/dwolffram-karlsruhe-institute-of-technology/ari-lightgbm/sweeps/me2h5ytc' target=\"_blank\">https://wandb.ai/dwolffram-karlsruhe-institute-of-technology/ari-lightgbm/sweeps/me2h5ytc</a>"
      ],
      "text/plain": [
       "<IPython.core.display.HTML object>"
      ]
     },
     "metadata": {},
     "output_type": "display_data"
    },
    {
     "data": {
      "text/html": [
       " View project at <a href='https://wandb.ai/dwolffram-karlsruhe-institute-of-technology/ari-lightgbm' target=\"_blank\">https://wandb.ai/dwolffram-karlsruhe-institute-of-technology/ari-lightgbm</a>"
      ],
      "text/plain": [
       "<IPython.core.display.HTML object>"
      ]
     },
     "metadata": {},
     "output_type": "display_data"
    },
    {
     "data": {
      "text/html": [
       " View sweep at <a href='https://wandb.ai/dwolffram-karlsruhe-institute-of-technology/ari-lightgbm/sweeps/me2h5ytc' target=\"_blank\">https://wandb.ai/dwolffram-karlsruhe-institute-of-technology/ari-lightgbm/sweeps/me2h5ytc</a>"
      ],
      "text/plain": [
       "<IPython.core.display.HTML object>"
      ]
     },
     "metadata": {},
     "output_type": "display_data"
    },
    {
     "data": {
      "text/html": [
       " View run at <a href='https://wandb.ai/dwolffram-karlsruhe-institute-of-technology/ari-lightgbm/runs/j19c1tce' target=\"_blank\">https://wandb.ai/dwolffram-karlsruhe-institute-of-technology/ari-lightgbm/runs/j19c1tce</a>"
      ],
      "text/plain": [
       "<IPython.core.display.HTML object>"
      ]
     },
     "metadata": {},
     "output_type": "display_data"
    },
    {
     "data": {
      "application/vnd.jupyter.widget-view+json": {
       "model_id": "4aadc4e8eaa54696b8f4a6d5e7486d85",
       "version_major": 2,
       "version_minor": 0
      },
      "text/plain": [
       "VBox(children=(Label(value='0.006 MB of 0.006 MB uploaded\\r'), FloatProgress(value=1.0, max=1.0)))"
      ]
     },
     "metadata": {},
     "output_type": "display_data"
    },
    {
     "data": {
      "text/html": [
       "<style>\n",
       "    table.wandb td:nth-child(1) { padding: 0 10px; text-align: left ; width: auto;} td:nth-child(2) {text-align: left ; width: 100%}\n",
       "    .wandb-row { display: flex; flex-direction: row; flex-wrap: wrap; justify-content: flex-start; width: 100% }\n",
       "    .wandb-col { display: flex; flex-direction: column; flex-basis: 100%; flex: 1; padding: 10px; }\n",
       "    </style>\n",
       "<div class=\"wandb-row\"><div class=\"wandb-col\"><h3>Run history:</h3><br/><table class=\"wandb\"><tr><td>WIS</td><td>▁</td></tr><tr><td>WIS_2022</td><td>▁</td></tr><tr><td>WIS_2022_1</td><td>▁</td></tr><tr><td>WIS_2022_2</td><td>▁</td></tr><tr><td>WIS_2022_3</td><td>▁</td></tr><tr><td>WIS_2023</td><td>▁</td></tr><tr><td>WIS_2023_1</td><td>▁</td></tr><tr><td>WIS_2023_2</td><td>▁</td></tr><tr><td>WIS_2023_3</td><td>▁</td></tr><tr><td>WIS_std</td><td>▁</td></tr><tr><td>WIS_std_2022</td><td>▁</td></tr><tr><td>WIS_std_2023</td><td>▁</td></tr></table><br/></div><div class=\"wandb-col\"><h3>Run summary:</h3><br/><table class=\"wandb\"><tr><td>WIS</td><td>251.23323</td></tr><tr><td>WIS_2022</td><td>320.07497</td></tr><tr><td>WIS_2022_1</td><td>319.88846</td></tr><tr><td>WIS_2022_2</td><td>319.91046</td></tr><tr><td>WIS_2022_3</td><td>320.426</td></tr><tr><td>WIS_2023</td><td>182.39149</td></tr><tr><td>WIS_2023_1</td><td>182.174</td></tr><tr><td>WIS_2023_2</td><td>182.4605</td></tr><tr><td>WIS_2023_3</td><td>182.53997</td></tr><tr><td>WIS_std</td><td>68.84206</td></tr><tr><td>WIS_std_2022</td><td>0.24838</td></tr><tr><td>WIS_std_2023</td><td>0.15717</td></tr></table><br/></div></div>"
      ],
      "text/plain": [
       "<IPython.core.display.HTML object>"
      ]
     },
     "metadata": {},
     "output_type": "display_data"
    },
    {
     "data": {
      "text/html": [
       " View run <strong style=\"color:#cdcd00\">icy-sweep-7</strong> at: <a href='https://wandb.ai/dwolffram-karlsruhe-institute-of-technology/ari-lightgbm/runs/j19c1tce' target=\"_blank\">https://wandb.ai/dwolffram-karlsruhe-institute-of-technology/ari-lightgbm/runs/j19c1tce</a><br/> View project at: <a href='https://wandb.ai/dwolffram-karlsruhe-institute-of-technology/ari-lightgbm' target=\"_blank\">https://wandb.ai/dwolffram-karlsruhe-institute-of-technology/ari-lightgbm</a><br/>Synced 5 W&B file(s), 0 media file(s), 0 artifact file(s) and 0 other file(s)"
      ],
      "text/plain": [
       "<IPython.core.display.HTML object>"
      ]
     },
     "metadata": {},
     "output_type": "display_data"
    },
    {
     "data": {
      "text/html": [
       "Find logs at: <code>./wandb/run-20241031_175241-j19c1tce/logs</code>"
      ],
      "text/plain": [
       "<IPython.core.display.HTML object>"
      ]
     },
     "metadata": {},
     "output_type": "display_data"
    },
    {
     "data": {
      "text/html": [
       "There is a new version of wandb available. Please upgrade to wandb==0.18.5"
      ],
      "text/plain": [
       "<IPython.core.display.HTML object>"
      ]
     },
     "metadata": {},
     "output_type": "display_data"
    },
    {
     "name": "stderr",
     "output_type": "stream",
     "text": [
      "\u001b[34m\u001b[1mwandb\u001b[0m: Agent Starting Run: nkpno7we with config:\n",
      "\u001b[34m\u001b[1mwandb\u001b[0m: \tcolsample_bytree: 0.9\n",
      "\u001b[34m\u001b[1mwandb\u001b[0m: \tlags: 8\n",
      "\u001b[34m\u001b[1mwandb\u001b[0m: \tlags_future_covariates: [0, 1]\n",
      "\u001b[34m\u001b[1mwandb\u001b[0m: \tlags_past_covariates: 8\n",
      "\u001b[34m\u001b[1mwandb\u001b[0m: \tlearning_rate: 0.01\n",
      "\u001b[34m\u001b[1mwandb\u001b[0m: \tmax_bin: 1024\n",
      "\u001b[34m\u001b[1mwandb\u001b[0m: \tmax_depth: 20\n",
      "\u001b[34m\u001b[1mwandb\u001b[0m: \tmin_child_samples: 10\n",
      "\u001b[34m\u001b[1mwandb\u001b[0m: \tmin_split_gain: 0.1\n",
      "\u001b[34m\u001b[1mwandb\u001b[0m: \tmodel: lightgbm\n",
      "\u001b[34m\u001b[1mwandb\u001b[0m: \tmultiple_series: False\n",
      "\u001b[34m\u001b[1mwandb\u001b[0m: \tn_estimators: 5000\n",
      "\u001b[34m\u001b[1mwandb\u001b[0m: \tnum_leaves: 10\n",
      "\u001b[34m\u001b[1mwandb\u001b[0m: \treg_alpha: 0.5\n",
      "\u001b[34m\u001b[1mwandb\u001b[0m: \treg_lambda: 0\n",
      "\u001b[34m\u001b[1mwandb\u001b[0m: \tsample_weight: linear\n",
      "\u001b[34m\u001b[1mwandb\u001b[0m: \tsubsample: 0.8\n",
      "\u001b[34m\u001b[1mwandb\u001b[0m: \tsubsample_freq: 0\n",
      "\u001b[34m\u001b[1mwandb\u001b[0m: \tuse_covariates: False\n",
      "\u001b[34m\u001b[1mwandb\u001b[0m: \tuse_encoders: True\n",
      "\u001b[34m\u001b[1mwandb\u001b[0m: \tuse_features: False\n",
      "\u001b[34m\u001b[1mwandb\u001b[0m: \tuse_static_covariates: False\n",
      "Failed to detect the name of this notebook, you can set it manually with the WANDB_NOTEBOOK_NAME environment variable to enable code saving.\n"
     ]
    },
    {
     "data": {
      "text/html": [
       "Tracking run with wandb version 0.18.0"
      ],
      "text/plain": [
       "<IPython.core.display.HTML object>"
      ]
     },
     "metadata": {},
     "output_type": "display_data"
    },
    {
     "data": {
      "text/html": [
       "Run data is saved locally in <code>/home/wolffram/SARI-ML/ARI/wandb/run-20241031_175659-nkpno7we</code>"
      ],
      "text/plain": [
       "<IPython.core.display.HTML object>"
      ]
     },
     "metadata": {},
     "output_type": "display_data"
    },
    {
     "data": {
      "text/html": [
       "Syncing run <strong><a href='https://wandb.ai/dwolffram-karlsruhe-institute-of-technology/ari-lightgbm/runs/nkpno7we' target=\"_blank\">fallen-sweep-8</a></strong> to <a href='https://wandb.ai/dwolffram-karlsruhe-institute-of-technology/ari-lightgbm' target=\"_blank\">Weights & Biases</a> (<a href='https://wandb.me/run' target=\"_blank\">docs</a>)<br/>Sweep page: <a href='https://wandb.ai/dwolffram-karlsruhe-institute-of-technology/ari-lightgbm/sweeps/me2h5ytc' target=\"_blank\">https://wandb.ai/dwolffram-karlsruhe-institute-of-technology/ari-lightgbm/sweeps/me2h5ytc</a>"
      ],
      "text/plain": [
       "<IPython.core.display.HTML object>"
      ]
     },
     "metadata": {},
     "output_type": "display_data"
    },
    {
     "data": {
      "text/html": [
       " View project at <a href='https://wandb.ai/dwolffram-karlsruhe-institute-of-technology/ari-lightgbm' target=\"_blank\">https://wandb.ai/dwolffram-karlsruhe-institute-of-technology/ari-lightgbm</a>"
      ],
      "text/plain": [
       "<IPython.core.display.HTML object>"
      ]
     },
     "metadata": {},
     "output_type": "display_data"
    },
    {
     "data": {
      "text/html": [
       " View sweep at <a href='https://wandb.ai/dwolffram-karlsruhe-institute-of-technology/ari-lightgbm/sweeps/me2h5ytc' target=\"_blank\">https://wandb.ai/dwolffram-karlsruhe-institute-of-technology/ari-lightgbm/sweeps/me2h5ytc</a>"
      ],
      "text/plain": [
       "<IPython.core.display.HTML object>"
      ]
     },
     "metadata": {},
     "output_type": "display_data"
    },
    {
     "data": {
      "text/html": [
       " View run at <a href='https://wandb.ai/dwolffram-karlsruhe-institute-of-technology/ari-lightgbm/runs/nkpno7we' target=\"_blank\">https://wandb.ai/dwolffram-karlsruhe-institute-of-technology/ari-lightgbm/runs/nkpno7we</a>"
      ],
      "text/plain": [
       "<IPython.core.display.HTML object>"
      ]
     },
     "metadata": {},
     "output_type": "display_data"
    },
    {
     "data": {
      "application/vnd.jupyter.widget-view+json": {
       "model_id": "583c447b35d9436fba8c8ac78b095a9e",
       "version_major": 2,
       "version_minor": 0
      },
      "text/plain": [
       "VBox(children=(Label(value='0.006 MB of 0.006 MB uploaded\\r'), FloatProgress(value=1.0, max=1.0)))"
      ]
     },
     "metadata": {},
     "output_type": "display_data"
    },
    {
     "data": {
      "text/html": [
       "<style>\n",
       "    table.wandb td:nth-child(1) { padding: 0 10px; text-align: left ; width: auto;} td:nth-child(2) {text-align: left ; width: 100%}\n",
       "    .wandb-row { display: flex; flex-direction: row; flex-wrap: wrap; justify-content: flex-start; width: 100% }\n",
       "    .wandb-col { display: flex; flex-direction: column; flex-basis: 100%; flex: 1; padding: 10px; }\n",
       "    </style>\n",
       "<div class=\"wandb-row\"><div class=\"wandb-col\"><h3>Run history:</h3><br/><table class=\"wandb\"><tr><td>WIS</td><td>▁</td></tr><tr><td>WIS_2022</td><td>▁</td></tr><tr><td>WIS_2022_1</td><td>▁</td></tr><tr><td>WIS_2022_2</td><td>▁</td></tr><tr><td>WIS_2022_3</td><td>▁</td></tr><tr><td>WIS_2023</td><td>▁</td></tr><tr><td>WIS_2023_1</td><td>▁</td></tr><tr><td>WIS_2023_2</td><td>▁</td></tr><tr><td>WIS_2023_3</td><td>▁</td></tr><tr><td>WIS_std</td><td>▁</td></tr><tr><td>WIS_std_2022</td><td>▁</td></tr><tr><td>WIS_std_2023</td><td>▁</td></tr></table><br/></div><div class=\"wandb-col\"><h3>Run summary:</h3><br/><table class=\"wandb\"><tr><td>WIS</td><td>242.48918</td></tr><tr><td>WIS_2022</td><td>313.92953</td></tr><tr><td>WIS_2022_1</td><td>313.77909</td></tr><tr><td>WIS_2022_2</td><td>314.06291</td></tr><tr><td>WIS_2022_3</td><td>313.94659</td></tr><tr><td>WIS_2023</td><td>171.04883</td></tr><tr><td>WIS_2023_1</td><td>171.26135</td></tr><tr><td>WIS_2023_2</td><td>171.19192</td></tr><tr><td>WIS_2023_3</td><td>170.69322</td></tr><tr><td>WIS_std</td><td>71.44062</td></tr><tr><td>WIS_std_2022</td><td>0.1165</td></tr><tr><td>WIS_std_2023</td><td>0.25305</td></tr></table><br/></div></div>"
      ],
      "text/plain": [
       "<IPython.core.display.HTML object>"
      ]
     },
     "metadata": {},
     "output_type": "display_data"
    },
    {
     "data": {
      "text/html": [
       " View run <strong style=\"color:#cdcd00\">fallen-sweep-8</strong> at: <a href='https://wandb.ai/dwolffram-karlsruhe-institute-of-technology/ari-lightgbm/runs/nkpno7we' target=\"_blank\">https://wandb.ai/dwolffram-karlsruhe-institute-of-technology/ari-lightgbm/runs/nkpno7we</a><br/> View project at: <a href='https://wandb.ai/dwolffram-karlsruhe-institute-of-technology/ari-lightgbm' target=\"_blank\">https://wandb.ai/dwolffram-karlsruhe-institute-of-technology/ari-lightgbm</a><br/>Synced 5 W&B file(s), 0 media file(s), 0 artifact file(s) and 0 other file(s)"
      ],
      "text/plain": [
       "<IPython.core.display.HTML object>"
      ]
     },
     "metadata": {},
     "output_type": "display_data"
    },
    {
     "data": {
      "text/html": [
       "Find logs at: <code>./wandb/run-20241031_175659-nkpno7we/logs</code>"
      ],
      "text/plain": [
       "<IPython.core.display.HTML object>"
      ]
     },
     "metadata": {},
     "output_type": "display_data"
    },
    {
     "data": {
      "text/html": [
       "There is a new version of wandb available. Please upgrade to wandb==0.18.5"
      ],
      "text/plain": [
       "<IPython.core.display.HTML object>"
      ]
     },
     "metadata": {},
     "output_type": "display_data"
    },
    {
     "name": "stderr",
     "output_type": "stream",
     "text": [
      "\u001b[34m\u001b[1mwandb\u001b[0m: Agent Starting Run: y78jcn51 with config:\n",
      "\u001b[34m\u001b[1mwandb\u001b[0m: \tcolsample_bytree: 1\n",
      "\u001b[34m\u001b[1mwandb\u001b[0m: \tlags: 8\n",
      "\u001b[34m\u001b[1mwandb\u001b[0m: \tlags_future_covariates: [0, 1]\n",
      "\u001b[34m\u001b[1mwandb\u001b[0m: \tlags_past_covariates: 8\n",
      "\u001b[34m\u001b[1mwandb\u001b[0m: \tlearning_rate: 0.2\n",
      "\u001b[34m\u001b[1mwandb\u001b[0m: \tmax_bin: 2048\n",
      "\u001b[34m\u001b[1mwandb\u001b[0m: \tmax_depth: 10\n",
      "\u001b[34m\u001b[1mwandb\u001b[0m: \tmin_child_samples: 10\n",
      "\u001b[34m\u001b[1mwandb\u001b[0m: \tmin_split_gain: 0.2\n",
      "\u001b[34m\u001b[1mwandb\u001b[0m: \tmodel: lightgbm\n",
      "\u001b[34m\u001b[1mwandb\u001b[0m: \tmultiple_series: False\n",
      "\u001b[34m\u001b[1mwandb\u001b[0m: \tn_estimators: 1000\n",
      "\u001b[34m\u001b[1mwandb\u001b[0m: \tnum_leaves: 50\n",
      "\u001b[34m\u001b[1mwandb\u001b[0m: \treg_alpha: 1\n",
      "\u001b[34m\u001b[1mwandb\u001b[0m: \treg_lambda: 1\n",
      "\u001b[34m\u001b[1mwandb\u001b[0m: \tsample_weight: linear\n",
      "\u001b[34m\u001b[1mwandb\u001b[0m: \tsubsample: 0.8\n",
      "\u001b[34m\u001b[1mwandb\u001b[0m: \tsubsample_freq: 1\n",
      "\u001b[34m\u001b[1mwandb\u001b[0m: \tuse_covariates: True\n",
      "\u001b[34m\u001b[1mwandb\u001b[0m: \tuse_encoders: True\n",
      "\u001b[34m\u001b[1mwandb\u001b[0m: \tuse_features: False\n",
      "\u001b[34m\u001b[1mwandb\u001b[0m: \tuse_static_covariates: False\n",
      "Failed to detect the name of this notebook, you can set it manually with the WANDB_NOTEBOOK_NAME environment variable to enable code saving.\n"
     ]
    },
    {
     "data": {
      "text/html": [
       "Tracking run with wandb version 0.18.0"
      ],
      "text/plain": [
       "<IPython.core.display.HTML object>"
      ]
     },
     "metadata": {},
     "output_type": "display_data"
    },
    {
     "data": {
      "text/html": [
       "Run data is saved locally in <code>/home/wolffram/SARI-ML/ARI/wandb/run-20241031_181847-y78jcn51</code>"
      ],
      "text/plain": [
       "<IPython.core.display.HTML object>"
      ]
     },
     "metadata": {},
     "output_type": "display_data"
    },
    {
     "data": {
      "text/html": [
       "Syncing run <strong><a href='https://wandb.ai/dwolffram-karlsruhe-institute-of-technology/ari-lightgbm/runs/y78jcn51' target=\"_blank\">fresh-sweep-9</a></strong> to <a href='https://wandb.ai/dwolffram-karlsruhe-institute-of-technology/ari-lightgbm' target=\"_blank\">Weights & Biases</a> (<a href='https://wandb.me/run' target=\"_blank\">docs</a>)<br/>Sweep page: <a href='https://wandb.ai/dwolffram-karlsruhe-institute-of-technology/ari-lightgbm/sweeps/me2h5ytc' target=\"_blank\">https://wandb.ai/dwolffram-karlsruhe-institute-of-technology/ari-lightgbm/sweeps/me2h5ytc</a>"
      ],
      "text/plain": [
       "<IPython.core.display.HTML object>"
      ]
     },
     "metadata": {},
     "output_type": "display_data"
    },
    {
     "data": {
      "text/html": [
       " View project at <a href='https://wandb.ai/dwolffram-karlsruhe-institute-of-technology/ari-lightgbm' target=\"_blank\">https://wandb.ai/dwolffram-karlsruhe-institute-of-technology/ari-lightgbm</a>"
      ],
      "text/plain": [
       "<IPython.core.display.HTML object>"
      ]
     },
     "metadata": {},
     "output_type": "display_data"
    },
    {
     "data": {
      "text/html": [
       " View sweep at <a href='https://wandb.ai/dwolffram-karlsruhe-institute-of-technology/ari-lightgbm/sweeps/me2h5ytc' target=\"_blank\">https://wandb.ai/dwolffram-karlsruhe-institute-of-technology/ari-lightgbm/sweeps/me2h5ytc</a>"
      ],
      "text/plain": [
       "<IPython.core.display.HTML object>"
      ]
     },
     "metadata": {},
     "output_type": "display_data"
    },
    {
     "data": {
      "text/html": [
       " View run at <a href='https://wandb.ai/dwolffram-karlsruhe-institute-of-technology/ari-lightgbm/runs/y78jcn51' target=\"_blank\">https://wandb.ai/dwolffram-karlsruhe-institute-of-technology/ari-lightgbm/runs/y78jcn51</a>"
      ],
      "text/plain": [
       "<IPython.core.display.HTML object>"
      ]
     },
     "metadata": {},
     "output_type": "display_data"
    },
    {
     "data": {
      "application/vnd.jupyter.widget-view+json": {
       "model_id": "6ee25e3c84d34fe2a053bdd8c3df0a1d",
       "version_major": 2,
       "version_minor": 0
      },
      "text/plain": [
       "VBox(children=(Label(value='0.006 MB of 0.006 MB uploaded\\r'), FloatProgress(value=1.0, max=1.0)))"
      ]
     },
     "metadata": {},
     "output_type": "display_data"
    },
    {
     "data": {
      "text/html": [
       "<style>\n",
       "    table.wandb td:nth-child(1) { padding: 0 10px; text-align: left ; width: auto;} td:nth-child(2) {text-align: left ; width: 100%}\n",
       "    .wandb-row { display: flex; flex-direction: row; flex-wrap: wrap; justify-content: flex-start; width: 100% }\n",
       "    .wandb-col { display: flex; flex-direction: column; flex-basis: 100%; flex: 1; padding: 10px; }\n",
       "    </style>\n",
       "<div class=\"wandb-row\"><div class=\"wandb-col\"><h3>Run history:</h3><br/><table class=\"wandb\"><tr><td>WIS</td><td>▁</td></tr><tr><td>WIS_2022</td><td>▁</td></tr><tr><td>WIS_2022_1</td><td>▁</td></tr><tr><td>WIS_2022_2</td><td>▁</td></tr><tr><td>WIS_2022_3</td><td>▁</td></tr><tr><td>WIS_2023</td><td>▁</td></tr><tr><td>WIS_2023_1</td><td>▁</td></tr><tr><td>WIS_2023_2</td><td>▁</td></tr><tr><td>WIS_2023_3</td><td>▁</td></tr><tr><td>WIS_std</td><td>▁</td></tr><tr><td>WIS_std_2022</td><td>▁</td></tr><tr><td>WIS_std_2023</td><td>▁</td></tr></table><br/></div><div class=\"wandb-col\"><h3>Run summary:</h3><br/><table class=\"wandb\"><tr><td>WIS</td><td>250.82136</td></tr><tr><td>WIS_2022</td><td>327.22304</td></tr><tr><td>WIS_2022_1</td><td>327.58151</td></tr><tr><td>WIS_2022_2</td><td>327.27846</td></tr><tr><td>WIS_2022_3</td><td>326.80914</td></tr><tr><td>WIS_2023</td><td>174.41968</td></tr><tr><td>WIS_2023_1</td><td>174.56775</td></tr><tr><td>WIS_2023_2</td><td>174.4246</td></tr><tr><td>WIS_2023_3</td><td>174.26671</td></tr><tr><td>WIS_std</td><td>76.40206</td></tr><tr><td>WIS_std_2022</td><td>0.31774</td></tr><tr><td>WIS_std_2023</td><td>0.12295</td></tr></table><br/></div></div>"
      ],
      "text/plain": [
       "<IPython.core.display.HTML object>"
      ]
     },
     "metadata": {},
     "output_type": "display_data"
    },
    {
     "data": {
      "text/html": [
       " View run <strong style=\"color:#cdcd00\">fresh-sweep-9</strong> at: <a href='https://wandb.ai/dwolffram-karlsruhe-institute-of-technology/ari-lightgbm/runs/y78jcn51' target=\"_blank\">https://wandb.ai/dwolffram-karlsruhe-institute-of-technology/ari-lightgbm/runs/y78jcn51</a><br/> View project at: <a href='https://wandb.ai/dwolffram-karlsruhe-institute-of-technology/ari-lightgbm' target=\"_blank\">https://wandb.ai/dwolffram-karlsruhe-institute-of-technology/ari-lightgbm</a><br/>Synced 5 W&B file(s), 0 media file(s), 0 artifact file(s) and 0 other file(s)"
      ],
      "text/plain": [
       "<IPython.core.display.HTML object>"
      ]
     },
     "metadata": {},
     "output_type": "display_data"
    },
    {
     "data": {
      "text/html": [
       "Find logs at: <code>./wandb/run-20241031_181847-y78jcn51/logs</code>"
      ],
      "text/plain": [
       "<IPython.core.display.HTML object>"
      ]
     },
     "metadata": {},
     "output_type": "display_data"
    },
    {
     "data": {
      "text/html": [
       "There is a new version of wandb available. Please upgrade to wandb==0.18.5"
      ],
      "text/plain": [
       "<IPython.core.display.HTML object>"
      ]
     },
     "metadata": {},
     "output_type": "display_data"
    },
    {
     "name": "stderr",
     "output_type": "stream",
     "text": [
      "\u001b[34m\u001b[1mwandb\u001b[0m: Agent Starting Run: bmkn5gir with config:\n",
      "\u001b[34m\u001b[1mwandb\u001b[0m: \tcolsample_bytree: 0.9\n",
      "\u001b[34m\u001b[1mwandb\u001b[0m: \tlags: 8\n",
      "\u001b[34m\u001b[1mwandb\u001b[0m: \tlags_future_covariates: [0, 1]\n",
      "\u001b[34m\u001b[1mwandb\u001b[0m: \tlags_past_covariates: 8\n",
      "\u001b[34m\u001b[1mwandb\u001b[0m: \tlearning_rate: 0.1\n",
      "\u001b[34m\u001b[1mwandb\u001b[0m: \tmax_bin: 1024\n",
      "\u001b[34m\u001b[1mwandb\u001b[0m: \tmax_depth: 20\n",
      "\u001b[34m\u001b[1mwandb\u001b[0m: \tmin_child_samples: 30\n",
      "\u001b[34m\u001b[1mwandb\u001b[0m: \tmin_split_gain: 0\n",
      "\u001b[34m\u001b[1mwandb\u001b[0m: \tmodel: lightgbm\n",
      "\u001b[34m\u001b[1mwandb\u001b[0m: \tmultiple_series: False\n",
      "\u001b[34m\u001b[1mwandb\u001b[0m: \tn_estimators: 2000\n",
      "\u001b[34m\u001b[1mwandb\u001b[0m: \tnum_leaves: 20\n",
      "\u001b[34m\u001b[1mwandb\u001b[0m: \treg_alpha: 1\n",
      "\u001b[34m\u001b[1mwandb\u001b[0m: \treg_lambda: 1\n",
      "\u001b[34m\u001b[1mwandb\u001b[0m: \tsample_weight: None\n",
      "\u001b[34m\u001b[1mwandb\u001b[0m: \tsubsample: 0.9\n",
      "\u001b[34m\u001b[1mwandb\u001b[0m: \tsubsample_freq: 1\n",
      "\u001b[34m\u001b[1mwandb\u001b[0m: \tuse_covariates: True\n",
      "\u001b[34m\u001b[1mwandb\u001b[0m: \tuse_encoders: True\n",
      "\u001b[34m\u001b[1mwandb\u001b[0m: \tuse_features: False\n",
      "\u001b[34m\u001b[1mwandb\u001b[0m: \tuse_static_covariates: False\n",
      "Failed to detect the name of this notebook, you can set it manually with the WANDB_NOTEBOOK_NAME environment variable to enable code saving.\n"
     ]
    },
    {
     "data": {
      "text/html": [
       "Tracking run with wandb version 0.18.0"
      ],
      "text/plain": [
       "<IPython.core.display.HTML object>"
      ]
     },
     "metadata": {},
     "output_type": "display_data"
    },
    {
     "data": {
      "text/html": [
       "Run data is saved locally in <code>/home/wolffram/SARI-ML/ARI/wandb/run-20241031_182356-bmkn5gir</code>"
      ],
      "text/plain": [
       "<IPython.core.display.HTML object>"
      ]
     },
     "metadata": {},
     "output_type": "display_data"
    },
    {
     "data": {
      "text/html": [
       "Syncing run <strong><a href='https://wandb.ai/dwolffram-karlsruhe-institute-of-technology/ari-lightgbm/runs/bmkn5gir' target=\"_blank\">efficient-sweep-10</a></strong> to <a href='https://wandb.ai/dwolffram-karlsruhe-institute-of-technology/ari-lightgbm' target=\"_blank\">Weights & Biases</a> (<a href='https://wandb.me/run' target=\"_blank\">docs</a>)<br/>Sweep page: <a href='https://wandb.ai/dwolffram-karlsruhe-institute-of-technology/ari-lightgbm/sweeps/me2h5ytc' target=\"_blank\">https://wandb.ai/dwolffram-karlsruhe-institute-of-technology/ari-lightgbm/sweeps/me2h5ytc</a>"
      ],
      "text/plain": [
       "<IPython.core.display.HTML object>"
      ]
     },
     "metadata": {},
     "output_type": "display_data"
    },
    {
     "data": {
      "text/html": [
       " View project at <a href='https://wandb.ai/dwolffram-karlsruhe-institute-of-technology/ari-lightgbm' target=\"_blank\">https://wandb.ai/dwolffram-karlsruhe-institute-of-technology/ari-lightgbm</a>"
      ],
      "text/plain": [
       "<IPython.core.display.HTML object>"
      ]
     },
     "metadata": {},
     "output_type": "display_data"
    },
    {
     "data": {
      "text/html": [
       " View sweep at <a href='https://wandb.ai/dwolffram-karlsruhe-institute-of-technology/ari-lightgbm/sweeps/me2h5ytc' target=\"_blank\">https://wandb.ai/dwolffram-karlsruhe-institute-of-technology/ari-lightgbm/sweeps/me2h5ytc</a>"
      ],
      "text/plain": [
       "<IPython.core.display.HTML object>"
      ]
     },
     "metadata": {},
     "output_type": "display_data"
    },
    {
     "data": {
      "text/html": [
       " View run at <a href='https://wandb.ai/dwolffram-karlsruhe-institute-of-technology/ari-lightgbm/runs/bmkn5gir' target=\"_blank\">https://wandb.ai/dwolffram-karlsruhe-institute-of-technology/ari-lightgbm/runs/bmkn5gir</a>"
      ],
      "text/plain": [
       "<IPython.core.display.HTML object>"
      ]
     },
     "metadata": {},
     "output_type": "display_data"
    },
    {
     "data": {
      "application/vnd.jupyter.widget-view+json": {
       "model_id": "19f069fdef554d49bc36ebcdcab715ec",
       "version_major": 2,
       "version_minor": 0
      },
      "text/plain": [
       "VBox(children=(Label(value='0.006 MB of 0.006 MB uploaded\\r'), FloatProgress(value=1.0, max=1.0)))"
      ]
     },
     "metadata": {},
     "output_type": "display_data"
    },
    {
     "data": {
      "text/html": [
       "<style>\n",
       "    table.wandb td:nth-child(1) { padding: 0 10px; text-align: left ; width: auto;} td:nth-child(2) {text-align: left ; width: 100%}\n",
       "    .wandb-row { display: flex; flex-direction: row; flex-wrap: wrap; justify-content: flex-start; width: 100% }\n",
       "    .wandb-col { display: flex; flex-direction: column; flex-basis: 100%; flex: 1; padding: 10px; }\n",
       "    </style>\n",
       "<div class=\"wandb-row\"><div class=\"wandb-col\"><h3>Run history:</h3><br/><table class=\"wandb\"><tr><td>WIS</td><td>▁</td></tr><tr><td>WIS_2022</td><td>▁</td></tr><tr><td>WIS_2022_1</td><td>▁</td></tr><tr><td>WIS_2022_2</td><td>▁</td></tr><tr><td>WIS_2022_3</td><td>▁</td></tr><tr><td>WIS_2023</td><td>▁</td></tr><tr><td>WIS_2023_1</td><td>▁</td></tr><tr><td>WIS_2023_2</td><td>▁</td></tr><tr><td>WIS_2023_3</td><td>▁</td></tr><tr><td>WIS_std</td><td>▁</td></tr><tr><td>WIS_std_2022</td><td>▁</td></tr><tr><td>WIS_std_2023</td><td>▁</td></tr></table><br/></div><div class=\"wandb-col\"><h3>Run summary:</h3><br/><table class=\"wandb\"><tr><td>WIS</td><td>260.72172</td></tr><tr><td>WIS_2022</td><td>336.74104</td></tr><tr><td>WIS_2022_1</td><td>336.52113</td></tr><tr><td>WIS_2022_2</td><td>336.96833</td></tr><tr><td>WIS_2022_3</td><td>336.73365</td></tr><tr><td>WIS_2023</td><td>184.7024</td></tr><tr><td>WIS_2023_1</td><td>184.52808</td></tr><tr><td>WIS_2023_2</td><td>184.90161</td></tr><tr><td>WIS_2023_3</td><td>184.6775</td></tr><tr><td>WIS_std</td><td>76.01951</td></tr><tr><td>WIS_std_2022</td><td>0.18264</td></tr><tr><td>WIS_std_2023</td><td>0.15351</td></tr></table><br/></div></div>"
      ],
      "text/plain": [
       "<IPython.core.display.HTML object>"
      ]
     },
     "metadata": {},
     "output_type": "display_data"
    },
    {
     "data": {
      "text/html": [
       " View run <strong style=\"color:#cdcd00\">efficient-sweep-10</strong> at: <a href='https://wandb.ai/dwolffram-karlsruhe-institute-of-technology/ari-lightgbm/runs/bmkn5gir' target=\"_blank\">https://wandb.ai/dwolffram-karlsruhe-institute-of-technology/ari-lightgbm/runs/bmkn5gir</a><br/> View project at: <a href='https://wandb.ai/dwolffram-karlsruhe-institute-of-technology/ari-lightgbm' target=\"_blank\">https://wandb.ai/dwolffram-karlsruhe-institute-of-technology/ari-lightgbm</a><br/>Synced 5 W&B file(s), 0 media file(s), 0 artifact file(s) and 0 other file(s)"
      ],
      "text/plain": [
       "<IPython.core.display.HTML object>"
      ]
     },
     "metadata": {},
     "output_type": "display_data"
    },
    {
     "data": {
      "text/html": [
       "Find logs at: <code>./wandb/run-20241031_182356-bmkn5gir/logs</code>"
      ],
      "text/plain": [
       "<IPython.core.display.HTML object>"
      ]
     },
     "metadata": {},
     "output_type": "display_data"
    },
    {
     "data": {
      "text/html": [
       "There is a new version of wandb available. Please upgrade to wandb==0.18.5"
      ],
      "text/plain": [
       "<IPython.core.display.HTML object>"
      ]
     },
     "metadata": {},
     "output_type": "display_data"
    },
    {
     "name": "stderr",
     "output_type": "stream",
     "text": [
      "\u001b[34m\u001b[1mwandb\u001b[0m: Agent Starting Run: p5637m8d with config:\n",
      "\u001b[34m\u001b[1mwandb\u001b[0m: \tcolsample_bytree: 1\n",
      "\u001b[34m\u001b[1mwandb\u001b[0m: \tlags: 8\n",
      "\u001b[34m\u001b[1mwandb\u001b[0m: \tlags_future_covariates: [0, 1]\n",
      "\u001b[34m\u001b[1mwandb\u001b[0m: \tlags_past_covariates: 8\n",
      "\u001b[34m\u001b[1mwandb\u001b[0m: \tlearning_rate: 0.1\n",
      "\u001b[34m\u001b[1mwandb\u001b[0m: \tmax_bin: 2048\n",
      "\u001b[34m\u001b[1mwandb\u001b[0m: \tmax_depth: 10\n",
      "\u001b[34m\u001b[1mwandb\u001b[0m: \tmin_child_samples: 10\n",
      "\u001b[34m\u001b[1mwandb\u001b[0m: \tmin_split_gain: 0.2\n",
      "\u001b[34m\u001b[1mwandb\u001b[0m: \tmodel: lightgbm\n",
      "\u001b[34m\u001b[1mwandb\u001b[0m: \tmultiple_series: False\n",
      "\u001b[34m\u001b[1mwandb\u001b[0m: \tn_estimators: 5000\n",
      "\u001b[34m\u001b[1mwandb\u001b[0m: \tnum_leaves: 40\n",
      "\u001b[34m\u001b[1mwandb\u001b[0m: \treg_alpha: 5\n",
      "\u001b[34m\u001b[1mwandb\u001b[0m: \treg_lambda: 0.5\n",
      "\u001b[34m\u001b[1mwandb\u001b[0m: \tsample_weight: None\n",
      "\u001b[34m\u001b[1mwandb\u001b[0m: \tsubsample: 0.9\n",
      "\u001b[34m\u001b[1mwandb\u001b[0m: \tsubsample_freq: 5\n",
      "\u001b[34m\u001b[1mwandb\u001b[0m: \tuse_covariates: True\n",
      "\u001b[34m\u001b[1mwandb\u001b[0m: \tuse_encoders: True\n",
      "\u001b[34m\u001b[1mwandb\u001b[0m: \tuse_features: False\n",
      "\u001b[34m\u001b[1mwandb\u001b[0m: \tuse_static_covariates: False\n",
      "Failed to detect the name of this notebook, you can set it manually with the WANDB_NOTEBOOK_NAME environment variable to enable code saving.\n"
     ]
    },
    {
     "data": {
      "text/html": [
       "Tracking run with wandb version 0.18.0"
      ],
      "text/plain": [
       "<IPython.core.display.HTML object>"
      ]
     },
     "metadata": {},
     "output_type": "display_data"
    },
    {
     "data": {
      "text/html": [
       "Run data is saved locally in <code>/home/wolffram/SARI-ML/ARI/wandb/run-20241031_183653-p5637m8d</code>"
      ],
      "text/plain": [
       "<IPython.core.display.HTML object>"
      ]
     },
     "metadata": {},
     "output_type": "display_data"
    },
    {
     "data": {
      "text/html": [
       "Syncing run <strong><a href='https://wandb.ai/dwolffram-karlsruhe-institute-of-technology/ari-lightgbm/runs/p5637m8d' target=\"_blank\">prime-sweep-11</a></strong> to <a href='https://wandb.ai/dwolffram-karlsruhe-institute-of-technology/ari-lightgbm' target=\"_blank\">Weights & Biases</a> (<a href='https://wandb.me/run' target=\"_blank\">docs</a>)<br/>Sweep page: <a href='https://wandb.ai/dwolffram-karlsruhe-institute-of-technology/ari-lightgbm/sweeps/me2h5ytc' target=\"_blank\">https://wandb.ai/dwolffram-karlsruhe-institute-of-technology/ari-lightgbm/sweeps/me2h5ytc</a>"
      ],
      "text/plain": [
       "<IPython.core.display.HTML object>"
      ]
     },
     "metadata": {},
     "output_type": "display_data"
    },
    {
     "data": {
      "text/html": [
       " View project at <a href='https://wandb.ai/dwolffram-karlsruhe-institute-of-technology/ari-lightgbm' target=\"_blank\">https://wandb.ai/dwolffram-karlsruhe-institute-of-technology/ari-lightgbm</a>"
      ],
      "text/plain": [
       "<IPython.core.display.HTML object>"
      ]
     },
     "metadata": {},
     "output_type": "display_data"
    },
    {
     "data": {
      "text/html": [
       " View sweep at <a href='https://wandb.ai/dwolffram-karlsruhe-institute-of-technology/ari-lightgbm/sweeps/me2h5ytc' target=\"_blank\">https://wandb.ai/dwolffram-karlsruhe-institute-of-technology/ari-lightgbm/sweeps/me2h5ytc</a>"
      ],
      "text/plain": [
       "<IPython.core.display.HTML object>"
      ]
     },
     "metadata": {},
     "output_type": "display_data"
    },
    {
     "data": {
      "text/html": [
       " View run at <a href='https://wandb.ai/dwolffram-karlsruhe-institute-of-technology/ari-lightgbm/runs/p5637m8d' target=\"_blank\">https://wandb.ai/dwolffram-karlsruhe-institute-of-technology/ari-lightgbm/runs/p5637m8d</a>"
      ],
      "text/plain": [
       "<IPython.core.display.HTML object>"
      ]
     },
     "metadata": {},
     "output_type": "display_data"
    },
    {
     "data": {
      "application/vnd.jupyter.widget-view+json": {
       "model_id": "cd90f91687da46ddb68c2c6484b2803a",
       "version_major": 2,
       "version_minor": 0
      },
      "text/plain": [
       "VBox(children=(Label(value='0.006 MB of 0.006 MB uploaded\\r'), FloatProgress(value=1.0, max=1.0)))"
      ]
     },
     "metadata": {},
     "output_type": "display_data"
    },
    {
     "data": {
      "text/html": [
       "<style>\n",
       "    table.wandb td:nth-child(1) { padding: 0 10px; text-align: left ; width: auto;} td:nth-child(2) {text-align: left ; width: 100%}\n",
       "    .wandb-row { display: flex; flex-direction: row; flex-wrap: wrap; justify-content: flex-start; width: 100% }\n",
       "    .wandb-col { display: flex; flex-direction: column; flex-basis: 100%; flex: 1; padding: 10px; }\n",
       "    </style>\n",
       "<div class=\"wandb-row\"><div class=\"wandb-col\"><h3>Run history:</h3><br/><table class=\"wandb\"><tr><td>WIS</td><td>▁</td></tr><tr><td>WIS_2022</td><td>▁</td></tr><tr><td>WIS_2022_1</td><td>▁</td></tr><tr><td>WIS_2022_2</td><td>▁</td></tr><tr><td>WIS_2022_3</td><td>▁</td></tr><tr><td>WIS_2023</td><td>▁</td></tr><tr><td>WIS_2023_1</td><td>▁</td></tr><tr><td>WIS_2023_2</td><td>▁</td></tr><tr><td>WIS_2023_3</td><td>▁</td></tr><tr><td>WIS_std</td><td>▁</td></tr><tr><td>WIS_std_2022</td><td>▁</td></tr><tr><td>WIS_std_2023</td><td>▁</td></tr></table><br/></div><div class=\"wandb-col\"><h3>Run summary:</h3><br/><table class=\"wandb\"><tr><td>WIS</td><td>259.20644</td></tr><tr><td>WIS_2022</td><td>328.15799</td></tr><tr><td>WIS_2022_1</td><td>328.44524</td></tr><tr><td>WIS_2022_2</td><td>327.72622</td></tr><tr><td>WIS_2022_3</td><td>328.30252</td></tr><tr><td>WIS_2023</td><td>190.25489</td></tr><tr><td>WIS_2023_1</td><td>190.14883</td></tr><tr><td>WIS_2023_2</td><td>190.40022</td></tr><tr><td>WIS_2023_3</td><td>190.21562</td></tr><tr><td>WIS_std</td><td>68.95194</td></tr><tr><td>WIS_std_2022</td><td>0.31082</td></tr><tr><td>WIS_std_2023</td><td>0.10632</td></tr></table><br/></div></div>"
      ],
      "text/plain": [
       "<IPython.core.display.HTML object>"
      ]
     },
     "metadata": {},
     "output_type": "display_data"
    },
    {
     "data": {
      "text/html": [
       " View run <strong style=\"color:#cdcd00\">prime-sweep-11</strong> at: <a href='https://wandb.ai/dwolffram-karlsruhe-institute-of-technology/ari-lightgbm/runs/p5637m8d' target=\"_blank\">https://wandb.ai/dwolffram-karlsruhe-institute-of-technology/ari-lightgbm/runs/p5637m8d</a><br/> View project at: <a href='https://wandb.ai/dwolffram-karlsruhe-institute-of-technology/ari-lightgbm' target=\"_blank\">https://wandb.ai/dwolffram-karlsruhe-institute-of-technology/ari-lightgbm</a><br/>Synced 5 W&B file(s), 0 media file(s), 0 artifact file(s) and 0 other file(s)"
      ],
      "text/plain": [
       "<IPython.core.display.HTML object>"
      ]
     },
     "metadata": {},
     "output_type": "display_data"
    },
    {
     "data": {
      "text/html": [
       "Find logs at: <code>./wandb/run-20241031_183653-p5637m8d/logs</code>"
      ],
      "text/plain": [
       "<IPython.core.display.HTML object>"
      ]
     },
     "metadata": {},
     "output_type": "display_data"
    },
    {
     "data": {
      "text/html": [
       "There is a new version of wandb available. Please upgrade to wandb==0.18.5"
      ],
      "text/plain": [
       "<IPython.core.display.HTML object>"
      ]
     },
     "metadata": {},
     "output_type": "display_data"
    },
    {
     "name": "stderr",
     "output_type": "stream",
     "text": [
      "\u001b[34m\u001b[1mwandb\u001b[0m: Agent Starting Run: ptb0p58z with config:\n",
      "\u001b[34m\u001b[1mwandb\u001b[0m: \tcolsample_bytree: 0.9\n",
      "\u001b[34m\u001b[1mwandb\u001b[0m: \tlags: 8\n",
      "\u001b[34m\u001b[1mwandb\u001b[0m: \tlags_future_covariates: [0, 1]\n",
      "\u001b[34m\u001b[1mwandb\u001b[0m: \tlags_past_covariates: 8\n",
      "\u001b[34m\u001b[1mwandb\u001b[0m: \tlearning_rate: 0.005\n",
      "\u001b[34m\u001b[1mwandb\u001b[0m: \tmax_bin: 2048\n",
      "\u001b[34m\u001b[1mwandb\u001b[0m: \tmax_depth: 5\n",
      "\u001b[34m\u001b[1mwandb\u001b[0m: \tmin_child_samples: 30\n",
      "\u001b[34m\u001b[1mwandb\u001b[0m: \tmin_split_gain: 0.2\n",
      "\u001b[34m\u001b[1mwandb\u001b[0m: \tmodel: lightgbm\n",
      "\u001b[34m\u001b[1mwandb\u001b[0m: \tmultiple_series: False\n",
      "\u001b[34m\u001b[1mwandb\u001b[0m: \tn_estimators: 500\n",
      "\u001b[34m\u001b[1mwandb\u001b[0m: \tnum_leaves: 40\n",
      "\u001b[34m\u001b[1mwandb\u001b[0m: \treg_alpha: 5\n",
      "\u001b[34m\u001b[1mwandb\u001b[0m: \treg_lambda: 0.5\n",
      "\u001b[34m\u001b[1mwandb\u001b[0m: \tsample_weight: linear\n",
      "\u001b[34m\u001b[1mwandb\u001b[0m: \tsubsample: 0.9\n",
      "\u001b[34m\u001b[1mwandb\u001b[0m: \tsubsample_freq: 2\n",
      "\u001b[34m\u001b[1mwandb\u001b[0m: \tuse_covariates: True\n",
      "\u001b[34m\u001b[1mwandb\u001b[0m: \tuse_encoders: True\n",
      "\u001b[34m\u001b[1mwandb\u001b[0m: \tuse_features: False\n",
      "\u001b[34m\u001b[1mwandb\u001b[0m: \tuse_static_covariates: False\n",
      "Failed to detect the name of this notebook, you can set it manually with the WANDB_NOTEBOOK_NAME environment variable to enable code saving.\n"
     ]
    },
    {
     "data": {
      "text/html": [
       "Tracking run with wandb version 0.18.0"
      ],
      "text/plain": [
       "<IPython.core.display.HTML object>"
      ]
     },
     "metadata": {},
     "output_type": "display_data"
    },
    {
     "data": {
      "text/html": [
       "Run data is saved locally in <code>/home/wolffram/SARI-ML/ARI/wandb/run-20241031_184101-ptb0p58z</code>"
      ],
      "text/plain": [
       "<IPython.core.display.HTML object>"
      ]
     },
     "metadata": {},
     "output_type": "display_data"
    },
    {
     "data": {
      "text/html": [
       "Syncing run <strong><a href='https://wandb.ai/dwolffram-karlsruhe-institute-of-technology/ari-lightgbm/runs/ptb0p58z' target=\"_blank\">stoic-sweep-12</a></strong> to <a href='https://wandb.ai/dwolffram-karlsruhe-institute-of-technology/ari-lightgbm' target=\"_blank\">Weights & Biases</a> (<a href='https://wandb.me/run' target=\"_blank\">docs</a>)<br/>Sweep page: <a href='https://wandb.ai/dwolffram-karlsruhe-institute-of-technology/ari-lightgbm/sweeps/me2h5ytc' target=\"_blank\">https://wandb.ai/dwolffram-karlsruhe-institute-of-technology/ari-lightgbm/sweeps/me2h5ytc</a>"
      ],
      "text/plain": [
       "<IPython.core.display.HTML object>"
      ]
     },
     "metadata": {},
     "output_type": "display_data"
    },
    {
     "data": {
      "text/html": [
       " View project at <a href='https://wandb.ai/dwolffram-karlsruhe-institute-of-technology/ari-lightgbm' target=\"_blank\">https://wandb.ai/dwolffram-karlsruhe-institute-of-technology/ari-lightgbm</a>"
      ],
      "text/plain": [
       "<IPython.core.display.HTML object>"
      ]
     },
     "metadata": {},
     "output_type": "display_data"
    },
    {
     "data": {
      "text/html": [
       " View sweep at <a href='https://wandb.ai/dwolffram-karlsruhe-institute-of-technology/ari-lightgbm/sweeps/me2h5ytc' target=\"_blank\">https://wandb.ai/dwolffram-karlsruhe-institute-of-technology/ari-lightgbm/sweeps/me2h5ytc</a>"
      ],
      "text/plain": [
       "<IPython.core.display.HTML object>"
      ]
     },
     "metadata": {},
     "output_type": "display_data"
    },
    {
     "data": {
      "text/html": [
       " View run at <a href='https://wandb.ai/dwolffram-karlsruhe-institute-of-technology/ari-lightgbm/runs/ptb0p58z' target=\"_blank\">https://wandb.ai/dwolffram-karlsruhe-institute-of-technology/ari-lightgbm/runs/ptb0p58z</a>"
      ],
      "text/plain": [
       "<IPython.core.display.HTML object>"
      ]
     },
     "metadata": {},
     "output_type": "display_data"
    },
    {
     "data": {
      "application/vnd.jupyter.widget-view+json": {
       "model_id": "4097f43e98fb43e4a2198e8695e791a2",
       "version_major": 2,
       "version_minor": 0
      },
      "text/plain": [
       "VBox(children=(Label(value='0.006 MB of 0.006 MB uploaded\\r'), FloatProgress(value=1.0, max=1.0)))"
      ]
     },
     "metadata": {},
     "output_type": "display_data"
    },
    {
     "data": {
      "text/html": [
       "<style>\n",
       "    table.wandb td:nth-child(1) { padding: 0 10px; text-align: left ; width: auto;} td:nth-child(2) {text-align: left ; width: 100%}\n",
       "    .wandb-row { display: flex; flex-direction: row; flex-wrap: wrap; justify-content: flex-start; width: 100% }\n",
       "    .wandb-col { display: flex; flex-direction: column; flex-basis: 100%; flex: 1; padding: 10px; }\n",
       "    </style>\n",
       "<div class=\"wandb-row\"><div class=\"wandb-col\"><h3>Run history:</h3><br/><table class=\"wandb\"><tr><td>WIS</td><td>▁</td></tr><tr><td>WIS_2022</td><td>▁</td></tr><tr><td>WIS_2022_1</td><td>▁</td></tr><tr><td>WIS_2022_2</td><td>▁</td></tr><tr><td>WIS_2022_3</td><td>▁</td></tr><tr><td>WIS_2023</td><td>▁</td></tr><tr><td>WIS_2023_1</td><td>▁</td></tr><tr><td>WIS_2023_2</td><td>▁</td></tr><tr><td>WIS_2023_3</td><td>▁</td></tr><tr><td>WIS_std</td><td>▁</td></tr><tr><td>WIS_std_2022</td><td>▁</td></tr><tr><td>WIS_std_2023</td><td>▁</td></tr></table><br/></div><div class=\"wandb-col\"><h3>Run summary:</h3><br/><table class=\"wandb\"><tr><td>WIS</td><td>274.6807</td></tr><tr><td>WIS_2022</td><td>342.64251</td></tr><tr><td>WIS_2022_1</td><td>342.49489</td></tr><tr><td>WIS_2022_2</td><td>342.61539</td></tr><tr><td>WIS_2022_3</td><td>342.81725</td></tr><tr><td>WIS_2023</td><td>206.71889</td></tr><tr><td>WIS_2023_1</td><td>206.76629</td></tr><tr><td>WIS_2023_2</td><td>206.8487</td></tr><tr><td>WIS_2023_3</td><td>206.54167</td></tr><tr><td>WIS_std</td><td>67.96194</td></tr><tr><td>WIS_std_2022</td><td>0.13299</td></tr><tr><td>WIS_std_2023</td><td>0.12975</td></tr></table><br/></div></div>"
      ],
      "text/plain": [
       "<IPython.core.display.HTML object>"
      ]
     },
     "metadata": {},
     "output_type": "display_data"
    },
    {
     "data": {
      "text/html": [
       " View run <strong style=\"color:#cdcd00\">stoic-sweep-12</strong> at: <a href='https://wandb.ai/dwolffram-karlsruhe-institute-of-technology/ari-lightgbm/runs/ptb0p58z' target=\"_blank\">https://wandb.ai/dwolffram-karlsruhe-institute-of-technology/ari-lightgbm/runs/ptb0p58z</a><br/> View project at: <a href='https://wandb.ai/dwolffram-karlsruhe-institute-of-technology/ari-lightgbm' target=\"_blank\">https://wandb.ai/dwolffram-karlsruhe-institute-of-technology/ari-lightgbm</a><br/>Synced 5 W&B file(s), 0 media file(s), 0 artifact file(s) and 0 other file(s)"
      ],
      "text/plain": [
       "<IPython.core.display.HTML object>"
      ]
     },
     "metadata": {},
     "output_type": "display_data"
    },
    {
     "data": {
      "text/html": [
       "Find logs at: <code>./wandb/run-20241031_184101-ptb0p58z/logs</code>"
      ],
      "text/plain": [
       "<IPython.core.display.HTML object>"
      ]
     },
     "metadata": {},
     "output_type": "display_data"
    },
    {
     "data": {
      "text/html": [
       "There is a new version of wandb available. Please upgrade to wandb==0.18.5"
      ],
      "text/plain": [
       "<IPython.core.display.HTML object>"
      ]
     },
     "metadata": {},
     "output_type": "display_data"
    },
    {
     "name": "stderr",
     "output_type": "stream",
     "text": [
      "\u001b[34m\u001b[1mwandb\u001b[0m: Agent Starting Run: cwftk23u with config:\n",
      "\u001b[34m\u001b[1mwandb\u001b[0m: \tcolsample_bytree: 0.9\n",
      "\u001b[34m\u001b[1mwandb\u001b[0m: \tlags: 8\n",
      "\u001b[34m\u001b[1mwandb\u001b[0m: \tlags_future_covariates: [0, 1]\n",
      "\u001b[34m\u001b[1mwandb\u001b[0m: \tlags_past_covariates: 8\n",
      "\u001b[34m\u001b[1mwandb\u001b[0m: \tlearning_rate: 0.005\n",
      "\u001b[34m\u001b[1mwandb\u001b[0m: \tmax_bin: 510\n",
      "\u001b[34m\u001b[1mwandb\u001b[0m: \tmax_depth: -1\n",
      "\u001b[34m\u001b[1mwandb\u001b[0m: \tmin_child_samples: 40\n",
      "\u001b[34m\u001b[1mwandb\u001b[0m: \tmin_split_gain: 0\n",
      "\u001b[34m\u001b[1mwandb\u001b[0m: \tmodel: lightgbm\n",
      "\u001b[34m\u001b[1mwandb\u001b[0m: \tmultiple_series: False\n",
      "\u001b[34m\u001b[1mwandb\u001b[0m: \tn_estimators: 5000\n",
      "\u001b[34m\u001b[1mwandb\u001b[0m: \tnum_leaves: 10\n",
      "\u001b[34m\u001b[1mwandb\u001b[0m: \treg_alpha: 0.25\n",
      "\u001b[34m\u001b[1mwandb\u001b[0m: \treg_lambda: 5\n",
      "\u001b[34m\u001b[1mwandb\u001b[0m: \tsample_weight: linear\n",
      "\u001b[34m\u001b[1mwandb\u001b[0m: \tsubsample: 0.9\n",
      "\u001b[34m\u001b[1mwandb\u001b[0m: \tsubsample_freq: 5\n",
      "\u001b[34m\u001b[1mwandb\u001b[0m: \tuse_covariates: True\n",
      "\u001b[34m\u001b[1mwandb\u001b[0m: \tuse_encoders: True\n",
      "\u001b[34m\u001b[1mwandb\u001b[0m: \tuse_features: False\n",
      "\u001b[34m\u001b[1mwandb\u001b[0m: \tuse_static_covariates: False\n",
      "Failed to detect the name of this notebook, you can set it manually with the WANDB_NOTEBOOK_NAME environment variable to enable code saving.\n"
     ]
    },
    {
     "data": {
      "text/html": [
       "Tracking run with wandb version 0.18.0"
      ],
      "text/plain": [
       "<IPython.core.display.HTML object>"
      ]
     },
     "metadata": {},
     "output_type": "display_data"
    },
    {
     "data": {
      "text/html": [
       "Run data is saved locally in <code>/home/wolffram/SARI-ML/ARI/wandb/run-20241031_184249-cwftk23u</code>"
      ],
      "text/plain": [
       "<IPython.core.display.HTML object>"
      ]
     },
     "metadata": {},
     "output_type": "display_data"
    },
    {
     "data": {
      "text/html": [
       "Syncing run <strong><a href='https://wandb.ai/dwolffram-karlsruhe-institute-of-technology/ari-lightgbm/runs/cwftk23u' target=\"_blank\">twilight-sweep-13</a></strong> to <a href='https://wandb.ai/dwolffram-karlsruhe-institute-of-technology/ari-lightgbm' target=\"_blank\">Weights & Biases</a> (<a href='https://wandb.me/run' target=\"_blank\">docs</a>)<br/>Sweep page: <a href='https://wandb.ai/dwolffram-karlsruhe-institute-of-technology/ari-lightgbm/sweeps/me2h5ytc' target=\"_blank\">https://wandb.ai/dwolffram-karlsruhe-institute-of-technology/ari-lightgbm/sweeps/me2h5ytc</a>"
      ],
      "text/plain": [
       "<IPython.core.display.HTML object>"
      ]
     },
     "metadata": {},
     "output_type": "display_data"
    },
    {
     "data": {
      "text/html": [
       " View project at <a href='https://wandb.ai/dwolffram-karlsruhe-institute-of-technology/ari-lightgbm' target=\"_blank\">https://wandb.ai/dwolffram-karlsruhe-institute-of-technology/ari-lightgbm</a>"
      ],
      "text/plain": [
       "<IPython.core.display.HTML object>"
      ]
     },
     "metadata": {},
     "output_type": "display_data"
    },
    {
     "data": {
      "text/html": [
       " View sweep at <a href='https://wandb.ai/dwolffram-karlsruhe-institute-of-technology/ari-lightgbm/sweeps/me2h5ytc' target=\"_blank\">https://wandb.ai/dwolffram-karlsruhe-institute-of-technology/ari-lightgbm/sweeps/me2h5ytc</a>"
      ],
      "text/plain": [
       "<IPython.core.display.HTML object>"
      ]
     },
     "metadata": {},
     "output_type": "display_data"
    },
    {
     "data": {
      "text/html": [
       " View run at <a href='https://wandb.ai/dwolffram-karlsruhe-institute-of-technology/ari-lightgbm/runs/cwftk23u' target=\"_blank\">https://wandb.ai/dwolffram-karlsruhe-institute-of-technology/ari-lightgbm/runs/cwftk23u</a>"
      ],
      "text/plain": [
       "<IPython.core.display.HTML object>"
      ]
     },
     "metadata": {},
     "output_type": "display_data"
    },
    {
     "data": {
      "application/vnd.jupyter.widget-view+json": {
       "model_id": "e0c30f315e1a4c2a8587607b07cf3a47",
       "version_major": 2,
       "version_minor": 0
      },
      "text/plain": [
       "VBox(children=(Label(value='0.006 MB of 0.006 MB uploaded\\r'), FloatProgress(value=1.0, max=1.0)))"
      ]
     },
     "metadata": {},
     "output_type": "display_data"
    },
    {
     "data": {
      "text/html": [
       "<style>\n",
       "    table.wandb td:nth-child(1) { padding: 0 10px; text-align: left ; width: auto;} td:nth-child(2) {text-align: left ; width: 100%}\n",
       "    .wandb-row { display: flex; flex-direction: row; flex-wrap: wrap; justify-content: flex-start; width: 100% }\n",
       "    .wandb-col { display: flex; flex-direction: column; flex-basis: 100%; flex: 1; padding: 10px; }\n",
       "    </style>\n",
       "<div class=\"wandb-row\"><div class=\"wandb-col\"><h3>Run history:</h3><br/><table class=\"wandb\"><tr><td>WIS</td><td>▁</td></tr><tr><td>WIS_2022</td><td>▁</td></tr><tr><td>WIS_2022_1</td><td>▁</td></tr><tr><td>WIS_2022_2</td><td>▁</td></tr><tr><td>WIS_2022_3</td><td>▁</td></tr><tr><td>WIS_2023</td><td>▁</td></tr><tr><td>WIS_2023_1</td><td>▁</td></tr><tr><td>WIS_2023_2</td><td>▁</td></tr><tr><td>WIS_2023_3</td><td>▁</td></tr><tr><td>WIS_std</td><td>▁</td></tr><tr><td>WIS_std_2022</td><td>▁</td></tr><tr><td>WIS_std_2023</td><td>▁</td></tr></table><br/></div><div class=\"wandb-col\"><h3>Run summary:</h3><br/><table class=\"wandb\"><tr><td>WIS</td><td>252.13727</td></tr><tr><td>WIS_2022</td><td>327.1868</td></tr><tr><td>WIS_2022_1</td><td>327.36025</td></tr><tr><td>WIS_2022_2</td><td>327.49626</td></tr><tr><td>WIS_2022_3</td><td>326.70388</td></tr><tr><td>WIS_2023</td><td>177.08774</td></tr><tr><td>WIS_2023_1</td><td>176.99579</td></tr><tr><td>WIS_2023_2</td><td>177.06507</td></tr><tr><td>WIS_2023_3</td><td>177.20236</td></tr><tr><td>WIS_std</td><td>75.04995</td></tr><tr><td>WIS_std_2022</td><td>0.34596</td></tr><tr><td>WIS_std_2023</td><td>0.08584</td></tr></table><br/></div></div>"
      ],
      "text/plain": [
       "<IPython.core.display.HTML object>"
      ]
     },
     "metadata": {},
     "output_type": "display_data"
    },
    {
     "data": {
      "text/html": [
       " View run <strong style=\"color:#cdcd00\">twilight-sweep-13</strong> at: <a href='https://wandb.ai/dwolffram-karlsruhe-institute-of-technology/ari-lightgbm/runs/cwftk23u' target=\"_blank\">https://wandb.ai/dwolffram-karlsruhe-institute-of-technology/ari-lightgbm/runs/cwftk23u</a><br/> View project at: <a href='https://wandb.ai/dwolffram-karlsruhe-institute-of-technology/ari-lightgbm' target=\"_blank\">https://wandb.ai/dwolffram-karlsruhe-institute-of-technology/ari-lightgbm</a><br/>Synced 5 W&B file(s), 0 media file(s), 0 artifact file(s) and 0 other file(s)"
      ],
      "text/plain": [
       "<IPython.core.display.HTML object>"
      ]
     },
     "metadata": {},
     "output_type": "display_data"
    },
    {
     "data": {
      "text/html": [
       "Find logs at: <code>./wandb/run-20241031_184249-cwftk23u/logs</code>"
      ],
      "text/plain": [
       "<IPython.core.display.HTML object>"
      ]
     },
     "metadata": {},
     "output_type": "display_data"
    },
    {
     "data": {
      "text/html": [
       "There is a new version of wandb available. Please upgrade to wandb==0.18.5"
      ],
      "text/plain": [
       "<IPython.core.display.HTML object>"
      ]
     },
     "metadata": {},
     "output_type": "display_data"
    },
    {
     "name": "stderr",
     "output_type": "stream",
     "text": [
      "\u001b[34m\u001b[1mwandb\u001b[0m: Agent Starting Run: 1mot7zc1 with config:\n",
      "\u001b[34m\u001b[1mwandb\u001b[0m: \tcolsample_bytree: 0.8\n",
      "\u001b[34m\u001b[1mwandb\u001b[0m: \tlags: 8\n",
      "\u001b[34m\u001b[1mwandb\u001b[0m: \tlags_future_covariates: [0, 1]\n",
      "\u001b[34m\u001b[1mwandb\u001b[0m: \tlags_past_covariates: 8\n",
      "\u001b[34m\u001b[1mwandb\u001b[0m: \tlearning_rate: 0.1\n",
      "\u001b[34m\u001b[1mwandb\u001b[0m: \tmax_bin: 2048\n",
      "\u001b[34m\u001b[1mwandb\u001b[0m: \tmax_depth: 5\n",
      "\u001b[34m\u001b[1mwandb\u001b[0m: \tmin_child_samples: 20\n",
      "\u001b[34m\u001b[1mwandb\u001b[0m: \tmin_split_gain: 0\n",
      "\u001b[34m\u001b[1mwandb\u001b[0m: \tmodel: lightgbm\n",
      "\u001b[34m\u001b[1mwandb\u001b[0m: \tmultiple_series: False\n",
      "\u001b[34m\u001b[1mwandb\u001b[0m: \tn_estimators: 2000\n",
      "\u001b[34m\u001b[1mwandb\u001b[0m: \tnum_leaves: 10\n",
      "\u001b[34m\u001b[1mwandb\u001b[0m: \treg_alpha: 1\n",
      "\u001b[34m\u001b[1mwandb\u001b[0m: \treg_lambda: 0.25\n",
      "\u001b[34m\u001b[1mwandb\u001b[0m: \tsample_weight: linear\n",
      "\u001b[34m\u001b[1mwandb\u001b[0m: \tsubsample: 0.8\n",
      "\u001b[34m\u001b[1mwandb\u001b[0m: \tsubsample_freq: 5\n",
      "\u001b[34m\u001b[1mwandb\u001b[0m: \tuse_covariates: True\n",
      "\u001b[34m\u001b[1mwandb\u001b[0m: \tuse_encoders: True\n",
      "\u001b[34m\u001b[1mwandb\u001b[0m: \tuse_features: False\n",
      "\u001b[34m\u001b[1mwandb\u001b[0m: \tuse_static_covariates: False\n",
      "Failed to detect the name of this notebook, you can set it manually with the WANDB_NOTEBOOK_NAME environment variable to enable code saving.\n"
     ]
    },
    {
     "data": {
      "text/html": [
       "Tracking run with wandb version 0.18.0"
      ],
      "text/plain": [
       "<IPython.core.display.HTML object>"
      ]
     },
     "metadata": {},
     "output_type": "display_data"
    },
    {
     "data": {
      "text/html": [
       "Run data is saved locally in <code>/home/wolffram/SARI-ML/ARI/wandb/run-20241031_191040-1mot7zc1</code>"
      ],
      "text/plain": [
       "<IPython.core.display.HTML object>"
      ]
     },
     "metadata": {},
     "output_type": "display_data"
    },
    {
     "data": {
      "text/html": [
       "Syncing run <strong><a href='https://wandb.ai/dwolffram-karlsruhe-institute-of-technology/ari-lightgbm/runs/1mot7zc1' target=\"_blank\">polar-sweep-14</a></strong> to <a href='https://wandb.ai/dwolffram-karlsruhe-institute-of-technology/ari-lightgbm' target=\"_blank\">Weights & Biases</a> (<a href='https://wandb.me/run' target=\"_blank\">docs</a>)<br/>Sweep page: <a href='https://wandb.ai/dwolffram-karlsruhe-institute-of-technology/ari-lightgbm/sweeps/me2h5ytc' target=\"_blank\">https://wandb.ai/dwolffram-karlsruhe-institute-of-technology/ari-lightgbm/sweeps/me2h5ytc</a>"
      ],
      "text/plain": [
       "<IPython.core.display.HTML object>"
      ]
     },
     "metadata": {},
     "output_type": "display_data"
    },
    {
     "data": {
      "text/html": [
       " View project at <a href='https://wandb.ai/dwolffram-karlsruhe-institute-of-technology/ari-lightgbm' target=\"_blank\">https://wandb.ai/dwolffram-karlsruhe-institute-of-technology/ari-lightgbm</a>"
      ],
      "text/plain": [
       "<IPython.core.display.HTML object>"
      ]
     },
     "metadata": {},
     "output_type": "display_data"
    },
    {
     "data": {
      "text/html": [
       " View sweep at <a href='https://wandb.ai/dwolffram-karlsruhe-institute-of-technology/ari-lightgbm/sweeps/me2h5ytc' target=\"_blank\">https://wandb.ai/dwolffram-karlsruhe-institute-of-technology/ari-lightgbm/sweeps/me2h5ytc</a>"
      ],
      "text/plain": [
       "<IPython.core.display.HTML object>"
      ]
     },
     "metadata": {},
     "output_type": "display_data"
    },
    {
     "data": {
      "text/html": [
       " View run at <a href='https://wandb.ai/dwolffram-karlsruhe-institute-of-technology/ari-lightgbm/runs/1mot7zc1' target=\"_blank\">https://wandb.ai/dwolffram-karlsruhe-institute-of-technology/ari-lightgbm/runs/1mot7zc1</a>"
      ],
      "text/plain": [
       "<IPython.core.display.HTML object>"
      ]
     },
     "metadata": {},
     "output_type": "display_data"
    },
    {
     "data": {
      "application/vnd.jupyter.widget-view+json": {
       "model_id": "3c80d86f471448e58271e94427adfbb3",
       "version_major": 2,
       "version_minor": 0
      },
      "text/plain": [
       "VBox(children=(Label(value='0.006 MB of 0.006 MB uploaded\\r'), FloatProgress(value=1.0, max=1.0)))"
      ]
     },
     "metadata": {},
     "output_type": "display_data"
    },
    {
     "data": {
      "text/html": [
       "<style>\n",
       "    table.wandb td:nth-child(1) { padding: 0 10px; text-align: left ; width: auto;} td:nth-child(2) {text-align: left ; width: 100%}\n",
       "    .wandb-row { display: flex; flex-direction: row; flex-wrap: wrap; justify-content: flex-start; width: 100% }\n",
       "    .wandb-col { display: flex; flex-direction: column; flex-basis: 100%; flex: 1; padding: 10px; }\n",
       "    </style>\n",
       "<div class=\"wandb-row\"><div class=\"wandb-col\"><h3>Run history:</h3><br/><table class=\"wandb\"><tr><td>WIS</td><td>▁</td></tr><tr><td>WIS_2022</td><td>▁</td></tr><tr><td>WIS_2022_1</td><td>▁</td></tr><tr><td>WIS_2022_2</td><td>▁</td></tr><tr><td>WIS_2022_3</td><td>▁</td></tr><tr><td>WIS_2023</td><td>▁</td></tr><tr><td>WIS_2023_1</td><td>▁</td></tr><tr><td>WIS_2023_2</td><td>▁</td></tr><tr><td>WIS_2023_3</td><td>▁</td></tr><tr><td>WIS_std</td><td>▁</td></tr><tr><td>WIS_std_2022</td><td>▁</td></tr><tr><td>WIS_std_2023</td><td>▁</td></tr></table><br/></div><div class=\"wandb-col\"><h3>Run summary:</h3><br/><table class=\"wandb\"><tr><td>WIS</td><td>262.46043</td></tr><tr><td>WIS_2022</td><td>346.24191</td></tr><tr><td>WIS_2022_1</td><td>346.34266</td></tr><tr><td>WIS_2022_2</td><td>346.10447</td></tr><tr><td>WIS_2022_3</td><td>346.27859</td></tr><tr><td>WIS_2023</td><td>178.67895</td></tr><tr><td>WIS_2023_1</td><td>178.66818</td></tr><tr><td>WIS_2023_2</td><td>178.89097</td></tr><tr><td>WIS_2023_3</td><td>178.47769</td></tr><tr><td>WIS_std</td><td>83.7816</td></tr><tr><td>WIS_std_2022</td><td>0.10064</td></tr><tr><td>WIS_std_2023</td><td>0.16889</td></tr></table><br/></div></div>"
      ],
      "text/plain": [
       "<IPython.core.display.HTML object>"
      ]
     },
     "metadata": {},
     "output_type": "display_data"
    },
    {
     "data": {
      "text/html": [
       " View run <strong style=\"color:#cdcd00\">polar-sweep-14</strong> at: <a href='https://wandb.ai/dwolffram-karlsruhe-institute-of-technology/ari-lightgbm/runs/1mot7zc1' target=\"_blank\">https://wandb.ai/dwolffram-karlsruhe-institute-of-technology/ari-lightgbm/runs/1mot7zc1</a><br/> View project at: <a href='https://wandb.ai/dwolffram-karlsruhe-institute-of-technology/ari-lightgbm' target=\"_blank\">https://wandb.ai/dwolffram-karlsruhe-institute-of-technology/ari-lightgbm</a><br/>Synced 5 W&B file(s), 0 media file(s), 0 artifact file(s) and 0 other file(s)"
      ],
      "text/plain": [
       "<IPython.core.display.HTML object>"
      ]
     },
     "metadata": {},
     "output_type": "display_data"
    },
    {
     "data": {
      "text/html": [
       "Find logs at: <code>./wandb/run-20241031_191040-1mot7zc1/logs</code>"
      ],
      "text/plain": [
       "<IPython.core.display.HTML object>"
      ]
     },
     "metadata": {},
     "output_type": "display_data"
    },
    {
     "data": {
      "text/html": [
       "There is a new version of wandb available. Please upgrade to wandb==0.18.5"
      ],
      "text/plain": [
       "<IPython.core.display.HTML object>"
      ]
     },
     "metadata": {},
     "output_type": "display_data"
    },
    {
     "name": "stderr",
     "output_type": "stream",
     "text": [
      "\u001b[34m\u001b[1mwandb\u001b[0m: Agent Starting Run: whgd1x8u with config:\n",
      "\u001b[34m\u001b[1mwandb\u001b[0m: \tcolsample_bytree: 0.8\n",
      "\u001b[34m\u001b[1mwandb\u001b[0m: \tlags: 8\n",
      "\u001b[34m\u001b[1mwandb\u001b[0m: \tlags_future_covariates: [0, 1]\n",
      "\u001b[34m\u001b[1mwandb\u001b[0m: \tlags_past_covariates: 8\n",
      "\u001b[34m\u001b[1mwandb\u001b[0m: \tlearning_rate: 0.05\n",
      "\u001b[34m\u001b[1mwandb\u001b[0m: \tmax_bin: 1024\n",
      "\u001b[34m\u001b[1mwandb\u001b[0m: \tmax_depth: 20\n",
      "\u001b[34m\u001b[1mwandb\u001b[0m: \tmin_child_samples: 40\n",
      "\u001b[34m\u001b[1mwandb\u001b[0m: \tmin_split_gain: 0.2\n",
      "\u001b[34m\u001b[1mwandb\u001b[0m: \tmodel: lightgbm\n",
      "\u001b[34m\u001b[1mwandb\u001b[0m: \tmultiple_series: False\n",
      "\u001b[34m\u001b[1mwandb\u001b[0m: \tn_estimators: 1000\n",
      "\u001b[34m\u001b[1mwandb\u001b[0m: \tnum_leaves: 50\n",
      "\u001b[34m\u001b[1mwandb\u001b[0m: \treg_alpha: 0\n",
      "\u001b[34m\u001b[1mwandb\u001b[0m: \treg_lambda: 1\n",
      "\u001b[34m\u001b[1mwandb\u001b[0m: \tsample_weight: linear\n",
      "\u001b[34m\u001b[1mwandb\u001b[0m: \tsubsample: 0.8\n",
      "\u001b[34m\u001b[1mwandb\u001b[0m: \tsubsample_freq: 2\n",
      "\u001b[34m\u001b[1mwandb\u001b[0m: \tuse_covariates: True\n",
      "\u001b[34m\u001b[1mwandb\u001b[0m: \tuse_encoders: True\n",
      "\u001b[34m\u001b[1mwandb\u001b[0m: \tuse_features: False\n",
      "\u001b[34m\u001b[1mwandb\u001b[0m: \tuse_static_covariates: False\n",
      "Failed to detect the name of this notebook, you can set it manually with the WANDB_NOTEBOOK_NAME environment variable to enable code saving.\n"
     ]
    },
    {
     "data": {
      "text/html": [
       "Tracking run with wandb version 0.18.0"
      ],
      "text/plain": [
       "<IPython.core.display.HTML object>"
      ]
     },
     "metadata": {},
     "output_type": "display_data"
    },
    {
     "data": {
      "text/html": [
       "Run data is saved locally in <code>/home/wolffram/SARI-ML/ARI/wandb/run-20241031_192343-whgd1x8u</code>"
      ],
      "text/plain": [
       "<IPython.core.display.HTML object>"
      ]
     },
     "metadata": {},
     "output_type": "display_data"
    },
    {
     "data": {
      "text/html": [
       "Syncing run <strong><a href='https://wandb.ai/dwolffram-karlsruhe-institute-of-technology/ari-lightgbm/runs/whgd1x8u' target=\"_blank\">solar-sweep-15</a></strong> to <a href='https://wandb.ai/dwolffram-karlsruhe-institute-of-technology/ari-lightgbm' target=\"_blank\">Weights & Biases</a> (<a href='https://wandb.me/run' target=\"_blank\">docs</a>)<br/>Sweep page: <a href='https://wandb.ai/dwolffram-karlsruhe-institute-of-technology/ari-lightgbm/sweeps/me2h5ytc' target=\"_blank\">https://wandb.ai/dwolffram-karlsruhe-institute-of-technology/ari-lightgbm/sweeps/me2h5ytc</a>"
      ],
      "text/plain": [
       "<IPython.core.display.HTML object>"
      ]
     },
     "metadata": {},
     "output_type": "display_data"
    },
    {
     "data": {
      "text/html": [
       " View project at <a href='https://wandb.ai/dwolffram-karlsruhe-institute-of-technology/ari-lightgbm' target=\"_blank\">https://wandb.ai/dwolffram-karlsruhe-institute-of-technology/ari-lightgbm</a>"
      ],
      "text/plain": [
       "<IPython.core.display.HTML object>"
      ]
     },
     "metadata": {},
     "output_type": "display_data"
    },
    {
     "data": {
      "text/html": [
       " View sweep at <a href='https://wandb.ai/dwolffram-karlsruhe-institute-of-technology/ari-lightgbm/sweeps/me2h5ytc' target=\"_blank\">https://wandb.ai/dwolffram-karlsruhe-institute-of-technology/ari-lightgbm/sweeps/me2h5ytc</a>"
      ],
      "text/plain": [
       "<IPython.core.display.HTML object>"
      ]
     },
     "metadata": {},
     "output_type": "display_data"
    },
    {
     "data": {
      "text/html": [
       " View run at <a href='https://wandb.ai/dwolffram-karlsruhe-institute-of-technology/ari-lightgbm/runs/whgd1x8u' target=\"_blank\">https://wandb.ai/dwolffram-karlsruhe-institute-of-technology/ari-lightgbm/runs/whgd1x8u</a>"
      ],
      "text/plain": [
       "<IPython.core.display.HTML object>"
      ]
     },
     "metadata": {},
     "output_type": "display_data"
    },
    {
     "data": {
      "application/vnd.jupyter.widget-view+json": {
       "model_id": "bf6a49e0cc0b4c8bbacd8900b925ee29",
       "version_major": 2,
       "version_minor": 0
      },
      "text/plain": [
       "VBox(children=(Label(value='0.006 MB of 0.006 MB uploaded\\r'), FloatProgress(value=1.0, max=1.0)))"
      ]
     },
     "metadata": {},
     "output_type": "display_data"
    },
    {
     "data": {
      "text/html": [
       "<style>\n",
       "    table.wandb td:nth-child(1) { padding: 0 10px; text-align: left ; width: auto;} td:nth-child(2) {text-align: left ; width: 100%}\n",
       "    .wandb-row { display: flex; flex-direction: row; flex-wrap: wrap; justify-content: flex-start; width: 100% }\n",
       "    .wandb-col { display: flex; flex-direction: column; flex-basis: 100%; flex: 1; padding: 10px; }\n",
       "    </style>\n",
       "<div class=\"wandb-row\"><div class=\"wandb-col\"><h3>Run history:</h3><br/><table class=\"wandb\"><tr><td>WIS</td><td>▁</td></tr><tr><td>WIS_2022</td><td>▁</td></tr><tr><td>WIS_2022_1</td><td>▁</td></tr><tr><td>WIS_2022_2</td><td>▁</td></tr><tr><td>WIS_2022_3</td><td>▁</td></tr><tr><td>WIS_2023</td><td>▁</td></tr><tr><td>WIS_2023_1</td><td>▁</td></tr><tr><td>WIS_2023_2</td><td>▁</td></tr><tr><td>WIS_2023_3</td><td>▁</td></tr><tr><td>WIS_std</td><td>▁</td></tr><tr><td>WIS_std_2022</td><td>▁</td></tr><tr><td>WIS_std_2023</td><td>▁</td></tr></table><br/></div><div class=\"wandb-col\"><h3>Run summary:</h3><br/><table class=\"wandb\"><tr><td>WIS</td><td>248.5919</td></tr><tr><td>WIS_2022</td><td>319.53229</td></tr><tr><td>WIS_2022_1</td><td>319.87004</td></tr><tr><td>WIS_2022_2</td><td>319.34702</td></tr><tr><td>WIS_2022_3</td><td>319.37982</td></tr><tr><td>WIS_2023</td><td>177.6515</td></tr><tr><td>WIS_2023_1</td><td>177.52518</td></tr><tr><td>WIS_2023_2</td><td>177.62813</td></tr><tr><td>WIS_2023_3</td><td>177.80117</td></tr><tr><td>WIS_std</td><td>70.94065</td></tr><tr><td>WIS_std_2022</td><td>0.2392</td></tr><tr><td>WIS_std_2023</td><td>0.11388</td></tr></table><br/></div></div>"
      ],
      "text/plain": [
       "<IPython.core.display.HTML object>"
      ]
     },
     "metadata": {},
     "output_type": "display_data"
    },
    {
     "data": {
      "text/html": [
       " View run <strong style=\"color:#cdcd00\">solar-sweep-15</strong> at: <a href='https://wandb.ai/dwolffram-karlsruhe-institute-of-technology/ari-lightgbm/runs/whgd1x8u' target=\"_blank\">https://wandb.ai/dwolffram-karlsruhe-institute-of-technology/ari-lightgbm/runs/whgd1x8u</a><br/> View project at: <a href='https://wandb.ai/dwolffram-karlsruhe-institute-of-technology/ari-lightgbm' target=\"_blank\">https://wandb.ai/dwolffram-karlsruhe-institute-of-technology/ari-lightgbm</a><br/>Synced 5 W&B file(s), 0 media file(s), 0 artifact file(s) and 0 other file(s)"
      ],
      "text/plain": [
       "<IPython.core.display.HTML object>"
      ]
     },
     "metadata": {},
     "output_type": "display_data"
    },
    {
     "data": {
      "text/html": [
       "Find logs at: <code>./wandb/run-20241031_192343-whgd1x8u/logs</code>"
      ],
      "text/plain": [
       "<IPython.core.display.HTML object>"
      ]
     },
     "metadata": {},
     "output_type": "display_data"
    },
    {
     "data": {
      "text/html": [
       "There is a new version of wandb available. Please upgrade to wandb==0.18.5"
      ],
      "text/plain": [
       "<IPython.core.display.HTML object>"
      ]
     },
     "metadata": {},
     "output_type": "display_data"
    },
    {
     "name": "stderr",
     "output_type": "stream",
     "text": [
      "\u001b[34m\u001b[1mwandb\u001b[0m: Agent Starting Run: 8n5vbsqd with config:\n",
      "\u001b[34m\u001b[1mwandb\u001b[0m: \tcolsample_bytree: 1\n",
      "\u001b[34m\u001b[1mwandb\u001b[0m: \tlags: 8\n",
      "\u001b[34m\u001b[1mwandb\u001b[0m: \tlags_future_covariates: [0, 1]\n",
      "\u001b[34m\u001b[1mwandb\u001b[0m: \tlags_past_covariates: 8\n",
      "\u001b[34m\u001b[1mwandb\u001b[0m: \tlearning_rate: 0.005\n",
      "\u001b[34m\u001b[1mwandb\u001b[0m: \tmax_bin: 510\n",
      "\u001b[34m\u001b[1mwandb\u001b[0m: \tmax_depth: -1\n",
      "\u001b[34m\u001b[1mwandb\u001b[0m: \tmin_child_samples: 10\n",
      "\u001b[34m\u001b[1mwandb\u001b[0m: \tmin_split_gain: 0.1\n",
      "\u001b[34m\u001b[1mwandb\u001b[0m: \tmodel: lightgbm\n",
      "\u001b[34m\u001b[1mwandb\u001b[0m: \tmultiple_series: False\n",
      "\u001b[34m\u001b[1mwandb\u001b[0m: \tn_estimators: 500\n",
      "\u001b[34m\u001b[1mwandb\u001b[0m: \tnum_leaves: 31\n",
      "\u001b[34m\u001b[1mwandb\u001b[0m: \treg_alpha: 1\n",
      "\u001b[34m\u001b[1mwandb\u001b[0m: \treg_lambda: 5\n",
      "\u001b[34m\u001b[1mwandb\u001b[0m: \tsample_weight: linear\n",
      "\u001b[34m\u001b[1mwandb\u001b[0m: \tsubsample: 0.9\n",
      "\u001b[34m\u001b[1mwandb\u001b[0m: \tsubsample_freq: 5\n",
      "\u001b[34m\u001b[1mwandb\u001b[0m: \tuse_covariates: False\n",
      "\u001b[34m\u001b[1mwandb\u001b[0m: \tuse_encoders: True\n",
      "\u001b[34m\u001b[1mwandb\u001b[0m: \tuse_features: False\n",
      "\u001b[34m\u001b[1mwandb\u001b[0m: \tuse_static_covariates: False\n",
      "Failed to detect the name of this notebook, you can set it manually with the WANDB_NOTEBOOK_NAME environment variable to enable code saving.\n"
     ]
    },
    {
     "data": {
      "text/html": [
       "Tracking run with wandb version 0.18.0"
      ],
      "text/plain": [
       "<IPython.core.display.HTML object>"
      ]
     },
     "metadata": {},
     "output_type": "display_data"
    },
    {
     "data": {
      "text/html": [
       "Run data is saved locally in <code>/home/wolffram/SARI-ML/ARI/wandb/run-20241031_193029-8n5vbsqd</code>"
      ],
      "text/plain": [
       "<IPython.core.display.HTML object>"
      ]
     },
     "metadata": {},
     "output_type": "display_data"
    },
    {
     "data": {
      "text/html": [
       "Syncing run <strong><a href='https://wandb.ai/dwolffram-karlsruhe-institute-of-technology/ari-lightgbm/runs/8n5vbsqd' target=\"_blank\">stilted-sweep-16</a></strong> to <a href='https://wandb.ai/dwolffram-karlsruhe-institute-of-technology/ari-lightgbm' target=\"_blank\">Weights & Biases</a> (<a href='https://wandb.me/run' target=\"_blank\">docs</a>)<br/>Sweep page: <a href='https://wandb.ai/dwolffram-karlsruhe-institute-of-technology/ari-lightgbm/sweeps/me2h5ytc' target=\"_blank\">https://wandb.ai/dwolffram-karlsruhe-institute-of-technology/ari-lightgbm/sweeps/me2h5ytc</a>"
      ],
      "text/plain": [
       "<IPython.core.display.HTML object>"
      ]
     },
     "metadata": {},
     "output_type": "display_data"
    },
    {
     "data": {
      "text/html": [
       " View project at <a href='https://wandb.ai/dwolffram-karlsruhe-institute-of-technology/ari-lightgbm' target=\"_blank\">https://wandb.ai/dwolffram-karlsruhe-institute-of-technology/ari-lightgbm</a>"
      ],
      "text/plain": [
       "<IPython.core.display.HTML object>"
      ]
     },
     "metadata": {},
     "output_type": "display_data"
    },
    {
     "data": {
      "text/html": [
       " View sweep at <a href='https://wandb.ai/dwolffram-karlsruhe-institute-of-technology/ari-lightgbm/sweeps/me2h5ytc' target=\"_blank\">https://wandb.ai/dwolffram-karlsruhe-institute-of-technology/ari-lightgbm/sweeps/me2h5ytc</a>"
      ],
      "text/plain": [
       "<IPython.core.display.HTML object>"
      ]
     },
     "metadata": {},
     "output_type": "display_data"
    },
    {
     "data": {
      "text/html": [
       " View run at <a href='https://wandb.ai/dwolffram-karlsruhe-institute-of-technology/ari-lightgbm/runs/8n5vbsqd' target=\"_blank\">https://wandb.ai/dwolffram-karlsruhe-institute-of-technology/ari-lightgbm/runs/8n5vbsqd</a>"
      ],
      "text/plain": [
       "<IPython.core.display.HTML object>"
      ]
     },
     "metadata": {},
     "output_type": "display_data"
    },
    {
     "data": {
      "application/vnd.jupyter.widget-view+json": {
       "model_id": "4dde0c196d44439a8ee354078b5329af",
       "version_major": 2,
       "version_minor": 0
      },
      "text/plain": [
       "VBox(children=(Label(value='0.006 MB of 0.006 MB uploaded\\r'), FloatProgress(value=1.0, max=1.0)))"
      ]
     },
     "metadata": {},
     "output_type": "display_data"
    },
    {
     "data": {
      "text/html": [
       "<style>\n",
       "    table.wandb td:nth-child(1) { padding: 0 10px; text-align: left ; width: auto;} td:nth-child(2) {text-align: left ; width: 100%}\n",
       "    .wandb-row { display: flex; flex-direction: row; flex-wrap: wrap; justify-content: flex-start; width: 100% }\n",
       "    .wandb-col { display: flex; flex-direction: column; flex-basis: 100%; flex: 1; padding: 10px; }\n",
       "    </style>\n",
       "<div class=\"wandb-row\"><div class=\"wandb-col\"><h3>Run history:</h3><br/><table class=\"wandb\"><tr><td>WIS</td><td>▁</td></tr><tr><td>WIS_2022</td><td>▁</td></tr><tr><td>WIS_2022_1</td><td>▁</td></tr><tr><td>WIS_2022_2</td><td>▁</td></tr><tr><td>WIS_2022_3</td><td>▁</td></tr><tr><td>WIS_2023</td><td>▁</td></tr><tr><td>WIS_2023_1</td><td>▁</td></tr><tr><td>WIS_2023_2</td><td>▁</td></tr><tr><td>WIS_2023_3</td><td>▁</td></tr><tr><td>WIS_std</td><td>▁</td></tr><tr><td>WIS_std_2022</td><td>▁</td></tr><tr><td>WIS_std_2023</td><td>▁</td></tr></table><br/></div><div class=\"wandb-col\"><h3>Run summary:</h3><br/><table class=\"wandb\"><tr><td>WIS</td><td>262.31044</td></tr><tr><td>WIS_2022</td><td>335.86681</td></tr><tr><td>WIS_2022_1</td><td>336.20988</td></tr><tr><td>WIS_2022_2</td><td>335.94824</td></tr><tr><td>WIS_2022_3</td><td>335.44232</td></tr><tr><td>WIS_2023</td><td>188.75407</td></tr><tr><td>WIS_2023_1</td><td>188.86873</td></tr><tr><td>WIS_2023_2</td><td>188.57694</td></tr><tr><td>WIS_2023_3</td><td>188.81655</td></tr><tr><td>WIS_std</td><td>73.55677</td></tr><tr><td>WIS_std_2022</td><td>0.3186</td></tr><tr><td>WIS_std_2023</td><td>0.12705</td></tr></table><br/></div></div>"
      ],
      "text/plain": [
       "<IPython.core.display.HTML object>"
      ]
     },
     "metadata": {},
     "output_type": "display_data"
    },
    {
     "data": {
      "text/html": [
       " View run <strong style=\"color:#cdcd00\">stilted-sweep-16</strong> at: <a href='https://wandb.ai/dwolffram-karlsruhe-institute-of-technology/ari-lightgbm/runs/8n5vbsqd' target=\"_blank\">https://wandb.ai/dwolffram-karlsruhe-institute-of-technology/ari-lightgbm/runs/8n5vbsqd</a><br/> View project at: <a href='https://wandb.ai/dwolffram-karlsruhe-institute-of-technology/ari-lightgbm' target=\"_blank\">https://wandb.ai/dwolffram-karlsruhe-institute-of-technology/ari-lightgbm</a><br/>Synced 5 W&B file(s), 0 media file(s), 0 artifact file(s) and 0 other file(s)"
      ],
      "text/plain": [
       "<IPython.core.display.HTML object>"
      ]
     },
     "metadata": {},
     "output_type": "display_data"
    },
    {
     "data": {
      "text/html": [
       "Find logs at: <code>./wandb/run-20241031_193029-8n5vbsqd/logs</code>"
      ],
      "text/plain": [
       "<IPython.core.display.HTML object>"
      ]
     },
     "metadata": {},
     "output_type": "display_data"
    },
    {
     "data": {
      "text/html": [
       "There is a new version of wandb available. Please upgrade to wandb==0.18.5"
      ],
      "text/plain": [
       "<IPython.core.display.HTML object>"
      ]
     },
     "metadata": {},
     "output_type": "display_data"
    },
    {
     "name": "stderr",
     "output_type": "stream",
     "text": [
      "\u001b[34m\u001b[1mwandb\u001b[0m: Agent Starting Run: hnhs2dvx with config:\n",
      "\u001b[34m\u001b[1mwandb\u001b[0m: \tcolsample_bytree: 1\n",
      "\u001b[34m\u001b[1mwandb\u001b[0m: \tlags: 8\n",
      "\u001b[34m\u001b[1mwandb\u001b[0m: \tlags_future_covariates: [0, 1]\n",
      "\u001b[34m\u001b[1mwandb\u001b[0m: \tlags_past_covariates: 8\n",
      "\u001b[34m\u001b[1mwandb\u001b[0m: \tlearning_rate: 0.05\n",
      "\u001b[34m\u001b[1mwandb\u001b[0m: \tmax_bin: 1024\n",
      "\u001b[34m\u001b[1mwandb\u001b[0m: \tmax_depth: -1\n",
      "\u001b[34m\u001b[1mwandb\u001b[0m: \tmin_child_samples: 40\n",
      "\u001b[34m\u001b[1mwandb\u001b[0m: \tmin_split_gain: 0.2\n",
      "\u001b[34m\u001b[1mwandb\u001b[0m: \tmodel: lightgbm\n",
      "\u001b[34m\u001b[1mwandb\u001b[0m: \tmultiple_series: False\n",
      "\u001b[34m\u001b[1mwandb\u001b[0m: \tn_estimators: 250\n",
      "\u001b[34m\u001b[1mwandb\u001b[0m: \tnum_leaves: 40\n",
      "\u001b[34m\u001b[1mwandb\u001b[0m: \treg_alpha: 0\n",
      "\u001b[34m\u001b[1mwandb\u001b[0m: \treg_lambda: 0\n",
      "\u001b[34m\u001b[1mwandb\u001b[0m: \tsample_weight: None\n",
      "\u001b[34m\u001b[1mwandb\u001b[0m: \tsubsample: 1\n",
      "\u001b[34m\u001b[1mwandb\u001b[0m: \tsubsample_freq: 1\n",
      "\u001b[34m\u001b[1mwandb\u001b[0m: \tuse_covariates: True\n",
      "\u001b[34m\u001b[1mwandb\u001b[0m: \tuse_encoders: True\n",
      "\u001b[34m\u001b[1mwandb\u001b[0m: \tuse_features: False\n",
      "\u001b[34m\u001b[1mwandb\u001b[0m: \tuse_static_covariates: False\n",
      "Failed to detect the name of this notebook, you can set it manually with the WANDB_NOTEBOOK_NAME environment variable to enable code saving.\n"
     ]
    },
    {
     "data": {
      "text/html": [
       "Tracking run with wandb version 0.18.0"
      ],
      "text/plain": [
       "<IPython.core.display.HTML object>"
      ]
     },
     "metadata": {},
     "output_type": "display_data"
    },
    {
     "data": {
      "text/html": [
       "Run data is saved locally in <code>/home/wolffram/SARI-ML/ARI/wandb/run-20241031_193436-hnhs2dvx</code>"
      ],
      "text/plain": [
       "<IPython.core.display.HTML object>"
      ]
     },
     "metadata": {},
     "output_type": "display_data"
    },
    {
     "data": {
      "text/html": [
       "Syncing run <strong><a href='https://wandb.ai/dwolffram-karlsruhe-institute-of-technology/ari-lightgbm/runs/hnhs2dvx' target=\"_blank\">crisp-sweep-17</a></strong> to <a href='https://wandb.ai/dwolffram-karlsruhe-institute-of-technology/ari-lightgbm' target=\"_blank\">Weights & Biases</a> (<a href='https://wandb.me/run' target=\"_blank\">docs</a>)<br/>Sweep page: <a href='https://wandb.ai/dwolffram-karlsruhe-institute-of-technology/ari-lightgbm/sweeps/me2h5ytc' target=\"_blank\">https://wandb.ai/dwolffram-karlsruhe-institute-of-technology/ari-lightgbm/sweeps/me2h5ytc</a>"
      ],
      "text/plain": [
       "<IPython.core.display.HTML object>"
      ]
     },
     "metadata": {},
     "output_type": "display_data"
    },
    {
     "data": {
      "text/html": [
       " View project at <a href='https://wandb.ai/dwolffram-karlsruhe-institute-of-technology/ari-lightgbm' target=\"_blank\">https://wandb.ai/dwolffram-karlsruhe-institute-of-technology/ari-lightgbm</a>"
      ],
      "text/plain": [
       "<IPython.core.display.HTML object>"
      ]
     },
     "metadata": {},
     "output_type": "display_data"
    },
    {
     "data": {
      "text/html": [
       " View sweep at <a href='https://wandb.ai/dwolffram-karlsruhe-institute-of-technology/ari-lightgbm/sweeps/me2h5ytc' target=\"_blank\">https://wandb.ai/dwolffram-karlsruhe-institute-of-technology/ari-lightgbm/sweeps/me2h5ytc</a>"
      ],
      "text/plain": [
       "<IPython.core.display.HTML object>"
      ]
     },
     "metadata": {},
     "output_type": "display_data"
    },
    {
     "data": {
      "text/html": [
       " View run at <a href='https://wandb.ai/dwolffram-karlsruhe-institute-of-technology/ari-lightgbm/runs/hnhs2dvx' target=\"_blank\">https://wandb.ai/dwolffram-karlsruhe-institute-of-technology/ari-lightgbm/runs/hnhs2dvx</a>"
      ],
      "text/plain": [
       "<IPython.core.display.HTML object>"
      ]
     },
     "metadata": {},
     "output_type": "display_data"
    },
    {
     "data": {
      "application/vnd.jupyter.widget-view+json": {
       "model_id": "b19f5b7b66504d8688ce58479aa4b073",
       "version_major": 2,
       "version_minor": 0
      },
      "text/plain": [
       "VBox(children=(Label(value='0.006 MB of 0.006 MB uploaded\\r'), FloatProgress(value=1.0, max=1.0)))"
      ]
     },
     "metadata": {},
     "output_type": "display_data"
    },
    {
     "data": {
      "text/html": [
       "<style>\n",
       "    table.wandb td:nth-child(1) { padding: 0 10px; text-align: left ; width: auto;} td:nth-child(2) {text-align: left ; width: 100%}\n",
       "    .wandb-row { display: flex; flex-direction: row; flex-wrap: wrap; justify-content: flex-start; width: 100% }\n",
       "    .wandb-col { display: flex; flex-direction: column; flex-basis: 100%; flex: 1; padding: 10px; }\n",
       "    </style>\n",
       "<div class=\"wandb-row\"><div class=\"wandb-col\"><h3>Run history:</h3><br/><table class=\"wandb\"><tr><td>WIS</td><td>▁</td></tr><tr><td>WIS_2022</td><td>▁</td></tr><tr><td>WIS_2022_1</td><td>▁</td></tr><tr><td>WIS_2022_2</td><td>▁</td></tr><tr><td>WIS_2022_3</td><td>▁</td></tr><tr><td>WIS_2023</td><td>▁</td></tr><tr><td>WIS_2023_1</td><td>▁</td></tr><tr><td>WIS_2023_2</td><td>▁</td></tr><tr><td>WIS_2023_3</td><td>▁</td></tr><tr><td>WIS_std</td><td>▁</td></tr><tr><td>WIS_std_2022</td><td>▁</td></tr><tr><td>WIS_std_2023</td><td>▁</td></tr></table><br/></div><div class=\"wandb-col\"><h3>Run summary:</h3><br/><table class=\"wandb\"><tr><td>WIS</td><td>245.73769</td></tr><tr><td>WIS_2022</td><td>308.75521</td></tr><tr><td>WIS_2022_1</td><td>309.17887</td></tr><tr><td>WIS_2022_2</td><td>308.59764</td></tr><tr><td>WIS_2022_3</td><td>308.48912</td></tr><tr><td>WIS_2023</td><td>182.72017</td></tr><tr><td>WIS_2023_1</td><td>182.93471</td></tr><tr><td>WIS_2023_2</td><td>182.5051</td></tr><tr><td>WIS_2023_3</td><td>182.72071</td></tr><tr><td>WIS_std</td><td>63.018</td></tr><tr><td>WIS_std_2022</td><td>0.30283</td></tr><tr><td>WIS_std_2023</td><td>0.17539</td></tr></table><br/></div></div>"
      ],
      "text/plain": [
       "<IPython.core.display.HTML object>"
      ]
     },
     "metadata": {},
     "output_type": "display_data"
    },
    {
     "data": {
      "text/html": [
       " View run <strong style=\"color:#cdcd00\">crisp-sweep-17</strong> at: <a href='https://wandb.ai/dwolffram-karlsruhe-institute-of-technology/ari-lightgbm/runs/hnhs2dvx' target=\"_blank\">https://wandb.ai/dwolffram-karlsruhe-institute-of-technology/ari-lightgbm/runs/hnhs2dvx</a><br/> View project at: <a href='https://wandb.ai/dwolffram-karlsruhe-institute-of-technology/ari-lightgbm' target=\"_blank\">https://wandb.ai/dwolffram-karlsruhe-institute-of-technology/ari-lightgbm</a><br/>Synced 5 W&B file(s), 0 media file(s), 0 artifact file(s) and 0 other file(s)"
      ],
      "text/plain": [
       "<IPython.core.display.HTML object>"
      ]
     },
     "metadata": {},
     "output_type": "display_data"
    },
    {
     "data": {
      "text/html": [
       "Find logs at: <code>./wandb/run-20241031_193436-hnhs2dvx/logs</code>"
      ],
      "text/plain": [
       "<IPython.core.display.HTML object>"
      ]
     },
     "metadata": {},
     "output_type": "display_data"
    },
    {
     "data": {
      "text/html": [
       "There is a new version of wandb available. Please upgrade to wandb==0.18.5"
      ],
      "text/plain": [
       "<IPython.core.display.HTML object>"
      ]
     },
     "metadata": {},
     "output_type": "display_data"
    },
    {
     "name": "stderr",
     "output_type": "stream",
     "text": [
      "\u001b[34m\u001b[1mwandb\u001b[0m: Agent Starting Run: hydqaupd with config:\n",
      "\u001b[34m\u001b[1mwandb\u001b[0m: \tcolsample_bytree: 1\n",
      "\u001b[34m\u001b[1mwandb\u001b[0m: \tlags: 8\n",
      "\u001b[34m\u001b[1mwandb\u001b[0m: \tlags_future_covariates: [0, 1]\n",
      "\u001b[34m\u001b[1mwandb\u001b[0m: \tlags_past_covariates: 8\n",
      "\u001b[34m\u001b[1mwandb\u001b[0m: \tlearning_rate: 0.01\n",
      "\u001b[34m\u001b[1mwandb\u001b[0m: \tmax_bin: 2048\n",
      "\u001b[34m\u001b[1mwandb\u001b[0m: \tmax_depth: 10\n",
      "\u001b[34m\u001b[1mwandb\u001b[0m: \tmin_child_samples: 10\n",
      "\u001b[34m\u001b[1mwandb\u001b[0m: \tmin_split_gain: 0\n",
      "\u001b[34m\u001b[1mwandb\u001b[0m: \tmodel: lightgbm\n",
      "\u001b[34m\u001b[1mwandb\u001b[0m: \tmultiple_series: False\n",
      "\u001b[34m\u001b[1mwandb\u001b[0m: \tn_estimators: 5000\n",
      "\u001b[34m\u001b[1mwandb\u001b[0m: \tnum_leaves: 10\n",
      "\u001b[34m\u001b[1mwandb\u001b[0m: \treg_alpha: 1\n",
      "\u001b[34m\u001b[1mwandb\u001b[0m: \treg_lambda: 0\n",
      "\u001b[34m\u001b[1mwandb\u001b[0m: \tsample_weight: None\n",
      "\u001b[34m\u001b[1mwandb\u001b[0m: \tsubsample: 1\n",
      "\u001b[34m\u001b[1mwandb\u001b[0m: \tsubsample_freq: 5\n",
      "\u001b[34m\u001b[1mwandb\u001b[0m: \tuse_covariates: False\n",
      "\u001b[34m\u001b[1mwandb\u001b[0m: \tuse_encoders: True\n",
      "\u001b[34m\u001b[1mwandb\u001b[0m: \tuse_features: False\n",
      "\u001b[34m\u001b[1mwandb\u001b[0m: \tuse_static_covariates: False\n",
      "Failed to detect the name of this notebook, you can set it manually with the WANDB_NOTEBOOK_NAME environment variable to enable code saving.\n"
     ]
    },
    {
     "data": {
      "text/html": [
       "Tracking run with wandb version 0.18.0"
      ],
      "text/plain": [
       "<IPython.core.display.HTML object>"
      ]
     },
     "metadata": {},
     "output_type": "display_data"
    },
    {
     "data": {
      "text/html": [
       "Run data is saved locally in <code>/home/wolffram/SARI-ML/ARI/wandb/run-20241031_193635-hydqaupd</code>"
      ],
      "text/plain": [
       "<IPython.core.display.HTML object>"
      ]
     },
     "metadata": {},
     "output_type": "display_data"
    },
    {
     "data": {
      "text/html": [
       "Syncing run <strong><a href='https://wandb.ai/dwolffram-karlsruhe-institute-of-technology/ari-lightgbm/runs/hydqaupd' target=\"_blank\">driven-sweep-18</a></strong> to <a href='https://wandb.ai/dwolffram-karlsruhe-institute-of-technology/ari-lightgbm' target=\"_blank\">Weights & Biases</a> (<a href='https://wandb.me/run' target=\"_blank\">docs</a>)<br/>Sweep page: <a href='https://wandb.ai/dwolffram-karlsruhe-institute-of-technology/ari-lightgbm/sweeps/me2h5ytc' target=\"_blank\">https://wandb.ai/dwolffram-karlsruhe-institute-of-technology/ari-lightgbm/sweeps/me2h5ytc</a>"
      ],
      "text/plain": [
       "<IPython.core.display.HTML object>"
      ]
     },
     "metadata": {},
     "output_type": "display_data"
    },
    {
     "data": {
      "text/html": [
       " View project at <a href='https://wandb.ai/dwolffram-karlsruhe-institute-of-technology/ari-lightgbm' target=\"_blank\">https://wandb.ai/dwolffram-karlsruhe-institute-of-technology/ari-lightgbm</a>"
      ],
      "text/plain": [
       "<IPython.core.display.HTML object>"
      ]
     },
     "metadata": {},
     "output_type": "display_data"
    },
    {
     "data": {
      "text/html": [
       " View sweep at <a href='https://wandb.ai/dwolffram-karlsruhe-institute-of-technology/ari-lightgbm/sweeps/me2h5ytc' target=\"_blank\">https://wandb.ai/dwolffram-karlsruhe-institute-of-technology/ari-lightgbm/sweeps/me2h5ytc</a>"
      ],
      "text/plain": [
       "<IPython.core.display.HTML object>"
      ]
     },
     "metadata": {},
     "output_type": "display_data"
    },
    {
     "data": {
      "text/html": [
       " View run at <a href='https://wandb.ai/dwolffram-karlsruhe-institute-of-technology/ari-lightgbm/runs/hydqaupd' target=\"_blank\">https://wandb.ai/dwolffram-karlsruhe-institute-of-technology/ari-lightgbm/runs/hydqaupd</a>"
      ],
      "text/plain": [
       "<IPython.core.display.HTML object>"
      ]
     },
     "metadata": {},
     "output_type": "display_data"
    },
    {
     "data": {
      "application/vnd.jupyter.widget-view+json": {
       "model_id": "945cbcfe2245468abdcdff84b0f26126",
       "version_major": 2,
       "version_minor": 0
      },
      "text/plain": [
       "VBox(children=(Label(value='0.006 MB of 0.006 MB uploaded\\r'), FloatProgress(value=1.0, max=1.0)))"
      ]
     },
     "metadata": {},
     "output_type": "display_data"
    },
    {
     "data": {
      "text/html": [
       "<style>\n",
       "    table.wandb td:nth-child(1) { padding: 0 10px; text-align: left ; width: auto;} td:nth-child(2) {text-align: left ; width: 100%}\n",
       "    .wandb-row { display: flex; flex-direction: row; flex-wrap: wrap; justify-content: flex-start; width: 100% }\n",
       "    .wandb-col { display: flex; flex-direction: column; flex-basis: 100%; flex: 1; padding: 10px; }\n",
       "    </style>\n",
       "<div class=\"wandb-row\"><div class=\"wandb-col\"><h3>Run history:</h3><br/><table class=\"wandb\"><tr><td>WIS</td><td>▁</td></tr><tr><td>WIS_2022</td><td>▁</td></tr><tr><td>WIS_2022_1</td><td>▁</td></tr><tr><td>WIS_2022_2</td><td>▁</td></tr><tr><td>WIS_2022_3</td><td>▁</td></tr><tr><td>WIS_2023</td><td>▁</td></tr><tr><td>WIS_2023_1</td><td>▁</td></tr><tr><td>WIS_2023_2</td><td>▁</td></tr><tr><td>WIS_2023_3</td><td>▁</td></tr><tr><td>WIS_std</td><td>▁</td></tr><tr><td>WIS_std_2022</td><td>▁</td></tr><tr><td>WIS_std_2023</td><td>▁</td></tr></table><br/></div><div class=\"wandb-col\"><h3>Run summary:</h3><br/><table class=\"wandb\"><tr><td>WIS</td><td>243.052</td></tr><tr><td>WIS_2022</td><td>320.43628</td></tr><tr><td>WIS_2022_1</td><td>320.54724</td></tr><tr><td>WIS_2022_2</td><td>320.43856</td></tr><tr><td>WIS_2022_3</td><td>320.32304</td></tr><tr><td>WIS_2023</td><td>165.66771</td></tr><tr><td>WIS_2023_1</td><td>165.62632</td></tr><tr><td>WIS_2023_2</td><td>165.44794</td></tr><tr><td>WIS_2023_3</td><td>165.92888</td></tr><tr><td>WIS_std</td><td>77.38444</td></tr><tr><td>WIS_std_2022</td><td>0.09154</td></tr><tr><td>WIS_std_2023</td><td>0.19851</td></tr></table><br/></div></div>"
      ],
      "text/plain": [
       "<IPython.core.display.HTML object>"
      ]
     },
     "metadata": {},
     "output_type": "display_data"
    },
    {
     "data": {
      "text/html": [
       " View run <strong style=\"color:#cdcd00\">driven-sweep-18</strong> at: <a href='https://wandb.ai/dwolffram-karlsruhe-institute-of-technology/ari-lightgbm/runs/hydqaupd' target=\"_blank\">https://wandb.ai/dwolffram-karlsruhe-institute-of-technology/ari-lightgbm/runs/hydqaupd</a><br/> View project at: <a href='https://wandb.ai/dwolffram-karlsruhe-institute-of-technology/ari-lightgbm' target=\"_blank\">https://wandb.ai/dwolffram-karlsruhe-institute-of-technology/ari-lightgbm</a><br/>Synced 5 W&B file(s), 0 media file(s), 0 artifact file(s) and 0 other file(s)"
      ],
      "text/plain": [
       "<IPython.core.display.HTML object>"
      ]
     },
     "metadata": {},
     "output_type": "display_data"
    },
    {
     "data": {
      "text/html": [
       "Find logs at: <code>./wandb/run-20241031_193635-hydqaupd/logs</code>"
      ],
      "text/plain": [
       "<IPython.core.display.HTML object>"
      ]
     },
     "metadata": {},
     "output_type": "display_data"
    },
    {
     "data": {
      "text/html": [
       "There is a new version of wandb available. Please upgrade to wandb==0.18.5"
      ],
      "text/plain": [
       "<IPython.core.display.HTML object>"
      ]
     },
     "metadata": {},
     "output_type": "display_data"
    },
    {
     "name": "stderr",
     "output_type": "stream",
     "text": [
      "\u001b[34m\u001b[1mwandb\u001b[0m: Agent Starting Run: 5dbpwhio with config:\n",
      "\u001b[34m\u001b[1mwandb\u001b[0m: \tcolsample_bytree: 0.9\n",
      "\u001b[34m\u001b[1mwandb\u001b[0m: \tlags: 8\n",
      "\u001b[34m\u001b[1mwandb\u001b[0m: \tlags_future_covariates: [0, 1]\n",
      "\u001b[34m\u001b[1mwandb\u001b[0m: \tlags_past_covariates: 8\n",
      "\u001b[34m\u001b[1mwandb\u001b[0m: \tlearning_rate: 0.2\n",
      "\u001b[34m\u001b[1mwandb\u001b[0m: \tmax_bin: 510\n",
      "\u001b[34m\u001b[1mwandb\u001b[0m: \tmax_depth: 5\n",
      "\u001b[34m\u001b[1mwandb\u001b[0m: \tmin_child_samples: 10\n",
      "\u001b[34m\u001b[1mwandb\u001b[0m: \tmin_split_gain: 0.1\n",
      "\u001b[34m\u001b[1mwandb\u001b[0m: \tmodel: lightgbm\n",
      "\u001b[34m\u001b[1mwandb\u001b[0m: \tmultiple_series: False\n",
      "\u001b[34m\u001b[1mwandb\u001b[0m: \tn_estimators: 2000\n",
      "\u001b[34m\u001b[1mwandb\u001b[0m: \tnum_leaves: 20\n",
      "\u001b[34m\u001b[1mwandb\u001b[0m: \treg_alpha: 5\n",
      "\u001b[34m\u001b[1mwandb\u001b[0m: \treg_lambda: 5\n",
      "\u001b[34m\u001b[1mwandb\u001b[0m: \tsample_weight: linear\n",
      "\u001b[34m\u001b[1mwandb\u001b[0m: \tsubsample: 0.8\n",
      "\u001b[34m\u001b[1mwandb\u001b[0m: \tsubsample_freq: 2\n",
      "\u001b[34m\u001b[1mwandb\u001b[0m: \tuse_covariates: True\n",
      "\u001b[34m\u001b[1mwandb\u001b[0m: \tuse_encoders: True\n",
      "\u001b[34m\u001b[1mwandb\u001b[0m: \tuse_features: False\n",
      "\u001b[34m\u001b[1mwandb\u001b[0m: \tuse_static_covariates: False\n",
      "Failed to detect the name of this notebook, you can set it manually with the WANDB_NOTEBOOK_NAME environment variable to enable code saving.\n"
     ]
    },
    {
     "data": {
      "text/html": [
       "Tracking run with wandb version 0.18.0"
      ],
      "text/plain": [
       "<IPython.core.display.HTML object>"
      ]
     },
     "metadata": {},
     "output_type": "display_data"
    },
    {
     "data": {
      "text/html": [
       "Run data is saved locally in <code>/home/wolffram/SARI-ML/ARI/wandb/run-20241031_201602-5dbpwhio</code>"
      ],
      "text/plain": [
       "<IPython.core.display.HTML object>"
      ]
     },
     "metadata": {},
     "output_type": "display_data"
    },
    {
     "data": {
      "text/html": [
       "Syncing run <strong><a href='https://wandb.ai/dwolffram-karlsruhe-institute-of-technology/ari-lightgbm/runs/5dbpwhio' target=\"_blank\">hearty-sweep-19</a></strong> to <a href='https://wandb.ai/dwolffram-karlsruhe-institute-of-technology/ari-lightgbm' target=\"_blank\">Weights & Biases</a> (<a href='https://wandb.me/run' target=\"_blank\">docs</a>)<br/>Sweep page: <a href='https://wandb.ai/dwolffram-karlsruhe-institute-of-technology/ari-lightgbm/sweeps/me2h5ytc' target=\"_blank\">https://wandb.ai/dwolffram-karlsruhe-institute-of-technology/ari-lightgbm/sweeps/me2h5ytc</a>"
      ],
      "text/plain": [
       "<IPython.core.display.HTML object>"
      ]
     },
     "metadata": {},
     "output_type": "display_data"
    },
    {
     "data": {
      "text/html": [
       " View project at <a href='https://wandb.ai/dwolffram-karlsruhe-institute-of-technology/ari-lightgbm' target=\"_blank\">https://wandb.ai/dwolffram-karlsruhe-institute-of-technology/ari-lightgbm</a>"
      ],
      "text/plain": [
       "<IPython.core.display.HTML object>"
      ]
     },
     "metadata": {},
     "output_type": "display_data"
    },
    {
     "data": {
      "text/html": [
       " View sweep at <a href='https://wandb.ai/dwolffram-karlsruhe-institute-of-technology/ari-lightgbm/sweeps/me2h5ytc' target=\"_blank\">https://wandb.ai/dwolffram-karlsruhe-institute-of-technology/ari-lightgbm/sweeps/me2h5ytc</a>"
      ],
      "text/plain": [
       "<IPython.core.display.HTML object>"
      ]
     },
     "metadata": {},
     "output_type": "display_data"
    },
    {
     "data": {
      "text/html": [
       " View run at <a href='https://wandb.ai/dwolffram-karlsruhe-institute-of-technology/ari-lightgbm/runs/5dbpwhio' target=\"_blank\">https://wandb.ai/dwolffram-karlsruhe-institute-of-technology/ari-lightgbm/runs/5dbpwhio</a>"
      ],
      "text/plain": [
       "<IPython.core.display.HTML object>"
      ]
     },
     "metadata": {},
     "output_type": "display_data"
    },
    {
     "data": {
      "application/vnd.jupyter.widget-view+json": {
       "model_id": "e8c4434ec50b41e08f9825221b8e9158",
       "version_major": 2,
       "version_minor": 0
      },
      "text/plain": [
       "VBox(children=(Label(value='0.006 MB of 0.006 MB uploaded\\r'), FloatProgress(value=1.0, max=1.0)))"
      ]
     },
     "metadata": {},
     "output_type": "display_data"
    },
    {
     "data": {
      "text/html": [
       "<style>\n",
       "    table.wandb td:nth-child(1) { padding: 0 10px; text-align: left ; width: auto;} td:nth-child(2) {text-align: left ; width: 100%}\n",
       "    .wandb-row { display: flex; flex-direction: row; flex-wrap: wrap; justify-content: flex-start; width: 100% }\n",
       "    .wandb-col { display: flex; flex-direction: column; flex-basis: 100%; flex: 1; padding: 10px; }\n",
       "    </style>\n",
       "<div class=\"wandb-row\"><div class=\"wandb-col\"><h3>Run history:</h3><br/><table class=\"wandb\"><tr><td>WIS</td><td>▁</td></tr><tr><td>WIS_2022</td><td>▁</td></tr><tr><td>WIS_2022_1</td><td>▁</td></tr><tr><td>WIS_2022_2</td><td>▁</td></tr><tr><td>WIS_2022_3</td><td>▁</td></tr><tr><td>WIS_2023</td><td>▁</td></tr><tr><td>WIS_2023_1</td><td>▁</td></tr><tr><td>WIS_2023_2</td><td>▁</td></tr><tr><td>WIS_2023_3</td><td>▁</td></tr><tr><td>WIS_std</td><td>▁</td></tr><tr><td>WIS_std_2022</td><td>▁</td></tr><tr><td>WIS_std_2023</td><td>▁</td></tr></table><br/></div><div class=\"wandb-col\"><h3>Run summary:</h3><br/><table class=\"wandb\"><tr><td>WIS</td><td>267.28969</td></tr><tr><td>WIS_2022</td><td>341.43492</td></tr><tr><td>WIS_2022_1</td><td>341.34363</td></tr><tr><td>WIS_2022_2</td><td>341.60684</td></tr><tr><td>WIS_2022_3</td><td>341.35427</td></tr><tr><td>WIS_2023</td><td>193.14447</td></tr><tr><td>WIS_2023_1</td><td>193.06181</td></tr><tr><td>WIS_2023_2</td><td>193.39767</td></tr><tr><td>WIS_2023_3</td><td>192.97392</td></tr><tr><td>WIS_std</td><td>74.14539</td></tr><tr><td>WIS_std_2022</td><td>0.12165</td></tr><tr><td>WIS_std_2023</td><td>0.1826</td></tr></table><br/></div></div>"
      ],
      "text/plain": [
       "<IPython.core.display.HTML object>"
      ]
     },
     "metadata": {},
     "output_type": "display_data"
    },
    {
     "data": {
      "text/html": [
       " View run <strong style=\"color:#cdcd00\">hearty-sweep-19</strong> at: <a href='https://wandb.ai/dwolffram-karlsruhe-institute-of-technology/ari-lightgbm/runs/5dbpwhio' target=\"_blank\">https://wandb.ai/dwolffram-karlsruhe-institute-of-technology/ari-lightgbm/runs/5dbpwhio</a><br/> View project at: <a href='https://wandb.ai/dwolffram-karlsruhe-institute-of-technology/ari-lightgbm' target=\"_blank\">https://wandb.ai/dwolffram-karlsruhe-institute-of-technology/ari-lightgbm</a><br/>Synced 5 W&B file(s), 0 media file(s), 0 artifact file(s) and 0 other file(s)"
      ],
      "text/plain": [
       "<IPython.core.display.HTML object>"
      ]
     },
     "metadata": {},
     "output_type": "display_data"
    },
    {
     "data": {
      "text/html": [
       "Find logs at: <code>./wandb/run-20241031_201602-5dbpwhio/logs</code>"
      ],
      "text/plain": [
       "<IPython.core.display.HTML object>"
      ]
     },
     "metadata": {},
     "output_type": "display_data"
    },
    {
     "data": {
      "text/html": [
       "There is a new version of wandb available. Please upgrade to wandb==0.18.5"
      ],
      "text/plain": [
       "<IPython.core.display.HTML object>"
      ]
     },
     "metadata": {},
     "output_type": "display_data"
    },
    {
     "name": "stderr",
     "output_type": "stream",
     "text": [
      "\u001b[34m\u001b[1mwandb\u001b[0m: Agent Starting Run: z6iocfp1 with config:\n",
      "\u001b[34m\u001b[1mwandb\u001b[0m: \tcolsample_bytree: 0.8\n",
      "\u001b[34m\u001b[1mwandb\u001b[0m: \tlags: 8\n",
      "\u001b[34m\u001b[1mwandb\u001b[0m: \tlags_future_covariates: [0, 1]\n",
      "\u001b[34m\u001b[1mwandb\u001b[0m: \tlags_past_covariates: 8\n",
      "\u001b[34m\u001b[1mwandb\u001b[0m: \tlearning_rate: 0.1\n",
      "\u001b[34m\u001b[1mwandb\u001b[0m: \tmax_bin: 510\n",
      "\u001b[34m\u001b[1mwandb\u001b[0m: \tmax_depth: 5\n",
      "\u001b[34m\u001b[1mwandb\u001b[0m: \tmin_child_samples: 40\n",
      "\u001b[34m\u001b[1mwandb\u001b[0m: \tmin_split_gain: 0.2\n",
      "\u001b[34m\u001b[1mwandb\u001b[0m: \tmodel: lightgbm\n",
      "\u001b[34m\u001b[1mwandb\u001b[0m: \tmultiple_series: False\n",
      "\u001b[34m\u001b[1mwandb\u001b[0m: \tn_estimators: 250\n",
      "\u001b[34m\u001b[1mwandb\u001b[0m: \tnum_leaves: 20\n",
      "\u001b[34m\u001b[1mwandb\u001b[0m: \treg_alpha: 5\n",
      "\u001b[34m\u001b[1mwandb\u001b[0m: \treg_lambda: 0.25\n",
      "\u001b[34m\u001b[1mwandb\u001b[0m: \tsample_weight: linear\n",
      "\u001b[34m\u001b[1mwandb\u001b[0m: \tsubsample: 1\n",
      "\u001b[34m\u001b[1mwandb\u001b[0m: \tsubsample_freq: 0\n",
      "\u001b[34m\u001b[1mwandb\u001b[0m: \tuse_covariates: False\n",
      "\u001b[34m\u001b[1mwandb\u001b[0m: \tuse_encoders: True\n",
      "\u001b[34m\u001b[1mwandb\u001b[0m: \tuse_features: False\n",
      "\u001b[34m\u001b[1mwandb\u001b[0m: \tuse_static_covariates: False\n",
      "Failed to detect the name of this notebook, you can set it manually with the WANDB_NOTEBOOK_NAME environment variable to enable code saving.\n"
     ]
    },
    {
     "data": {
      "text/html": [
       "Tracking run with wandb version 0.18.0"
      ],
      "text/plain": [
       "<IPython.core.display.HTML object>"
      ]
     },
     "metadata": {},
     "output_type": "display_data"
    },
    {
     "data": {
      "text/html": [
       "Run data is saved locally in <code>/home/wolffram/SARI-ML/ARI/wandb/run-20241031_201812-z6iocfp1</code>"
      ],
      "text/plain": [
       "<IPython.core.display.HTML object>"
      ]
     },
     "metadata": {},
     "output_type": "display_data"
    },
    {
     "data": {
      "text/html": [
       "Syncing run <strong><a href='https://wandb.ai/dwolffram-karlsruhe-institute-of-technology/ari-lightgbm/runs/z6iocfp1' target=\"_blank\">sparkling-sweep-20</a></strong> to <a href='https://wandb.ai/dwolffram-karlsruhe-institute-of-technology/ari-lightgbm' target=\"_blank\">Weights & Biases</a> (<a href='https://wandb.me/run' target=\"_blank\">docs</a>)<br/>Sweep page: <a href='https://wandb.ai/dwolffram-karlsruhe-institute-of-technology/ari-lightgbm/sweeps/me2h5ytc' target=\"_blank\">https://wandb.ai/dwolffram-karlsruhe-institute-of-technology/ari-lightgbm/sweeps/me2h5ytc</a>"
      ],
      "text/plain": [
       "<IPython.core.display.HTML object>"
      ]
     },
     "metadata": {},
     "output_type": "display_data"
    },
    {
     "data": {
      "text/html": [
       " View project at <a href='https://wandb.ai/dwolffram-karlsruhe-institute-of-technology/ari-lightgbm' target=\"_blank\">https://wandb.ai/dwolffram-karlsruhe-institute-of-technology/ari-lightgbm</a>"
      ],
      "text/plain": [
       "<IPython.core.display.HTML object>"
      ]
     },
     "metadata": {},
     "output_type": "display_data"
    },
    {
     "data": {
      "text/html": [
       " View sweep at <a href='https://wandb.ai/dwolffram-karlsruhe-institute-of-technology/ari-lightgbm/sweeps/me2h5ytc' target=\"_blank\">https://wandb.ai/dwolffram-karlsruhe-institute-of-technology/ari-lightgbm/sweeps/me2h5ytc</a>"
      ],
      "text/plain": [
       "<IPython.core.display.HTML object>"
      ]
     },
     "metadata": {},
     "output_type": "display_data"
    },
    {
     "data": {
      "text/html": [
       " View run at <a href='https://wandb.ai/dwolffram-karlsruhe-institute-of-technology/ari-lightgbm/runs/z6iocfp1' target=\"_blank\">https://wandb.ai/dwolffram-karlsruhe-institute-of-technology/ari-lightgbm/runs/z6iocfp1</a>"
      ],
      "text/plain": [
       "<IPython.core.display.HTML object>"
      ]
     },
     "metadata": {},
     "output_type": "display_data"
    },
    {
     "data": {
      "application/vnd.jupyter.widget-view+json": {
       "model_id": "14c16b1474e140e9b55a07042b9b7d0c",
       "version_major": 2,
       "version_minor": 0
      },
      "text/plain": [
       "VBox(children=(Label(value='0.006 MB of 0.006 MB uploaded\\r'), FloatProgress(value=1.0, max=1.0)))"
      ]
     },
     "metadata": {},
     "output_type": "display_data"
    },
    {
     "data": {
      "text/html": [
       "<style>\n",
       "    table.wandb td:nth-child(1) { padding: 0 10px; text-align: left ; width: auto;} td:nth-child(2) {text-align: left ; width: 100%}\n",
       "    .wandb-row { display: flex; flex-direction: row; flex-wrap: wrap; justify-content: flex-start; width: 100% }\n",
       "    .wandb-col { display: flex; flex-direction: column; flex-basis: 100%; flex: 1; padding: 10px; }\n",
       "    </style>\n",
       "<div class=\"wandb-row\"><div class=\"wandb-col\"><h3>Run history:</h3><br/><table class=\"wandb\"><tr><td>WIS</td><td>▁</td></tr><tr><td>WIS_2022</td><td>▁</td></tr><tr><td>WIS_2022_1</td><td>▁</td></tr><tr><td>WIS_2022_2</td><td>▁</td></tr><tr><td>WIS_2022_3</td><td>▁</td></tr><tr><td>WIS_2023</td><td>▁</td></tr><tr><td>WIS_2023_1</td><td>▁</td></tr><tr><td>WIS_2023_2</td><td>▁</td></tr><tr><td>WIS_2023_3</td><td>▁</td></tr><tr><td>WIS_std</td><td>▁</td></tr><tr><td>WIS_std_2022</td><td>▁</td></tr><tr><td>WIS_std_2023</td><td>▁</td></tr></table><br/></div><div class=\"wandb-col\"><h3>Run summary:</h3><br/><table class=\"wandb\"><tr><td>WIS</td><td>262.01539</td></tr><tr><td>WIS_2022</td><td>327.11889</td></tr><tr><td>WIS_2022_1</td><td>327.25908</td></tr><tr><td>WIS_2022_2</td><td>327.15978</td></tr><tr><td>WIS_2022_3</td><td>326.9378</td></tr><tr><td>WIS_2023</td><td>196.9119</td></tr><tr><td>WIS_2023_1</td><td>196.5662</td></tr><tr><td>WIS_2023_2</td><td>197.05667</td></tr><tr><td>WIS_2023_3</td><td>197.11282</td></tr><tr><td>WIS_std</td><td>65.10379</td></tr><tr><td>WIS_std_2022</td><td>0.13431</td></tr><tr><td>WIS_std_2023</td><td>0.24552</td></tr></table><br/></div></div>"
      ],
      "text/plain": [
       "<IPython.core.display.HTML object>"
      ]
     },
     "metadata": {},
     "output_type": "display_data"
    },
    {
     "data": {
      "text/html": [
       " View run <strong style=\"color:#cdcd00\">sparkling-sweep-20</strong> at: <a href='https://wandb.ai/dwolffram-karlsruhe-institute-of-technology/ari-lightgbm/runs/z6iocfp1' target=\"_blank\">https://wandb.ai/dwolffram-karlsruhe-institute-of-technology/ari-lightgbm/runs/z6iocfp1</a><br/> View project at: <a href='https://wandb.ai/dwolffram-karlsruhe-institute-of-technology/ari-lightgbm' target=\"_blank\">https://wandb.ai/dwolffram-karlsruhe-institute-of-technology/ari-lightgbm</a><br/>Synced 5 W&B file(s), 0 media file(s), 0 artifact file(s) and 0 other file(s)"
      ],
      "text/plain": [
       "<IPython.core.display.HTML object>"
      ]
     },
     "metadata": {},
     "output_type": "display_data"
    },
    {
     "data": {
      "text/html": [
       "Find logs at: <code>./wandb/run-20241031_201812-z6iocfp1/logs</code>"
      ],
      "text/plain": [
       "<IPython.core.display.HTML object>"
      ]
     },
     "metadata": {},
     "output_type": "display_data"
    },
    {
     "data": {
      "text/html": [
       "There is a new version of wandb available. Please upgrade to wandb==0.18.5"
      ],
      "text/plain": [
       "<IPython.core.display.HTML object>"
      ]
     },
     "metadata": {},
     "output_type": "display_data"
    },
    {
     "name": "stderr",
     "output_type": "stream",
     "text": [
      "\u001b[34m\u001b[1mwandb\u001b[0m: Agent Starting Run: mxu0dzqm with config:\n",
      "\u001b[34m\u001b[1mwandb\u001b[0m: \tcolsample_bytree: 1\n",
      "\u001b[34m\u001b[1mwandb\u001b[0m: \tlags: 8\n",
      "\u001b[34m\u001b[1mwandb\u001b[0m: \tlags_future_covariates: [0, 1]\n",
      "\u001b[34m\u001b[1mwandb\u001b[0m: \tlags_past_covariates: 8\n",
      "\u001b[34m\u001b[1mwandb\u001b[0m: \tlearning_rate: 0.1\n",
      "\u001b[34m\u001b[1mwandb\u001b[0m: \tmax_bin: 1024\n",
      "\u001b[34m\u001b[1mwandb\u001b[0m: \tmax_depth: 10\n",
      "\u001b[34m\u001b[1mwandb\u001b[0m: \tmin_child_samples: 40\n",
      "\u001b[34m\u001b[1mwandb\u001b[0m: \tmin_split_gain: 0.1\n",
      "\u001b[34m\u001b[1mwandb\u001b[0m: \tmodel: lightgbm\n",
      "\u001b[34m\u001b[1mwandb\u001b[0m: \tmultiple_series: False\n",
      "\u001b[34m\u001b[1mwandb\u001b[0m: \tn_estimators: 1000\n",
      "\u001b[34m\u001b[1mwandb\u001b[0m: \tnum_leaves: 10\n",
      "\u001b[34m\u001b[1mwandb\u001b[0m: \treg_alpha: 0.5\n",
      "\u001b[34m\u001b[1mwandb\u001b[0m: \treg_lambda: 0.25\n",
      "\u001b[34m\u001b[1mwandb\u001b[0m: \tsample_weight: linear\n",
      "\u001b[34m\u001b[1mwandb\u001b[0m: \tsubsample: 1\n",
      "\u001b[34m\u001b[1mwandb\u001b[0m: \tsubsample_freq: 5\n",
      "\u001b[34m\u001b[1mwandb\u001b[0m: \tuse_covariates: True\n",
      "\u001b[34m\u001b[1mwandb\u001b[0m: \tuse_encoders: True\n",
      "\u001b[34m\u001b[1mwandb\u001b[0m: \tuse_features: False\n",
      "\u001b[34m\u001b[1mwandb\u001b[0m: \tuse_static_covariates: False\n",
      "Failed to detect the name of this notebook, you can set it manually with the WANDB_NOTEBOOK_NAME environment variable to enable code saving.\n"
     ]
    },
    {
     "data": {
      "text/html": [
       "Tracking run with wandb version 0.18.0"
      ],
      "text/plain": [
       "<IPython.core.display.HTML object>"
      ]
     },
     "metadata": {},
     "output_type": "display_data"
    },
    {
     "data": {
      "text/html": [
       "Run data is saved locally in <code>/home/wolffram/SARI-ML/ARI/wandb/run-20241031_201848-mxu0dzqm</code>"
      ],
      "text/plain": [
       "<IPython.core.display.HTML object>"
      ]
     },
     "metadata": {},
     "output_type": "display_data"
    },
    {
     "data": {
      "text/html": [
       "Syncing run <strong><a href='https://wandb.ai/dwolffram-karlsruhe-institute-of-technology/ari-lightgbm/runs/mxu0dzqm' target=\"_blank\">electric-sweep-21</a></strong> to <a href='https://wandb.ai/dwolffram-karlsruhe-institute-of-technology/ari-lightgbm' target=\"_blank\">Weights & Biases</a> (<a href='https://wandb.me/run' target=\"_blank\">docs</a>)<br/>Sweep page: <a href='https://wandb.ai/dwolffram-karlsruhe-institute-of-technology/ari-lightgbm/sweeps/me2h5ytc' target=\"_blank\">https://wandb.ai/dwolffram-karlsruhe-institute-of-technology/ari-lightgbm/sweeps/me2h5ytc</a>"
      ],
      "text/plain": [
       "<IPython.core.display.HTML object>"
      ]
     },
     "metadata": {},
     "output_type": "display_data"
    },
    {
     "data": {
      "text/html": [
       " View project at <a href='https://wandb.ai/dwolffram-karlsruhe-institute-of-technology/ari-lightgbm' target=\"_blank\">https://wandb.ai/dwolffram-karlsruhe-institute-of-technology/ari-lightgbm</a>"
      ],
      "text/plain": [
       "<IPython.core.display.HTML object>"
      ]
     },
     "metadata": {},
     "output_type": "display_data"
    },
    {
     "data": {
      "text/html": [
       " View sweep at <a href='https://wandb.ai/dwolffram-karlsruhe-institute-of-technology/ari-lightgbm/sweeps/me2h5ytc' target=\"_blank\">https://wandb.ai/dwolffram-karlsruhe-institute-of-technology/ari-lightgbm/sweeps/me2h5ytc</a>"
      ],
      "text/plain": [
       "<IPython.core.display.HTML object>"
      ]
     },
     "metadata": {},
     "output_type": "display_data"
    },
    {
     "data": {
      "text/html": [
       " View run at <a href='https://wandb.ai/dwolffram-karlsruhe-institute-of-technology/ari-lightgbm/runs/mxu0dzqm' target=\"_blank\">https://wandb.ai/dwolffram-karlsruhe-institute-of-technology/ari-lightgbm/runs/mxu0dzqm</a>"
      ],
      "text/plain": [
       "<IPython.core.display.HTML object>"
      ]
     },
     "metadata": {},
     "output_type": "display_data"
    },
    {
     "data": {
      "application/vnd.jupyter.widget-view+json": {
       "model_id": "9ea0df8a473b427b8d20d593cce312e6",
       "version_major": 2,
       "version_minor": 0
      },
      "text/plain": [
       "VBox(children=(Label(value='0.006 MB of 0.006 MB uploaded\\r'), FloatProgress(value=1.0, max=1.0)))"
      ]
     },
     "metadata": {},
     "output_type": "display_data"
    },
    {
     "data": {
      "text/html": [
       "<style>\n",
       "    table.wandb td:nth-child(1) { padding: 0 10px; text-align: left ; width: auto;} td:nth-child(2) {text-align: left ; width: 100%}\n",
       "    .wandb-row { display: flex; flex-direction: row; flex-wrap: wrap; justify-content: flex-start; width: 100% }\n",
       "    .wandb-col { display: flex; flex-direction: column; flex-basis: 100%; flex: 1; padding: 10px; }\n",
       "    </style>\n",
       "<div class=\"wandb-row\"><div class=\"wandb-col\"><h3>Run history:</h3><br/><table class=\"wandb\"><tr><td>WIS</td><td>▁</td></tr><tr><td>WIS_2022</td><td>▁</td></tr><tr><td>WIS_2022_1</td><td>▁</td></tr><tr><td>WIS_2022_2</td><td>▁</td></tr><tr><td>WIS_2022_3</td><td>▁</td></tr><tr><td>WIS_2023</td><td>▁</td></tr><tr><td>WIS_2023_1</td><td>▁</td></tr><tr><td>WIS_2023_2</td><td>▁</td></tr><tr><td>WIS_2023_3</td><td>▁</td></tr><tr><td>WIS_std</td><td>▁</td></tr><tr><td>WIS_std_2022</td><td>▁</td></tr><tr><td>WIS_std_2023</td><td>▁</td></tr></table><br/></div><div class=\"wandb-col\"><h3>Run summary:</h3><br/><table class=\"wandb\"><tr><td>WIS</td><td>248.59716</td></tr><tr><td>WIS_2022</td><td>319.89566</td></tr><tr><td>WIS_2022_1</td><td>319.97095</td></tr><tr><td>WIS_2022_2</td><td>319.71777</td></tr><tr><td>WIS_2022_3</td><td>319.99827</td></tr><tr><td>WIS_2023</td><td>177.29866</td></tr><tr><td>WIS_2023_1</td><td>176.78892</td></tr><tr><td>WIS_2023_2</td><td>177.46687</td></tr><tr><td>WIS_2023_3</td><td>177.64018</td></tr><tr><td>WIS_std</td><td>71.29903</td></tr><tr><td>WIS_std_2022</td><td>0.12628</td></tr><tr><td>WIS_std_2023</td><td>0.36732</td></tr></table><br/></div></div>"
      ],
      "text/plain": [
       "<IPython.core.display.HTML object>"
      ]
     },
     "metadata": {},
     "output_type": "display_data"
    },
    {
     "data": {
      "text/html": [
       " View run <strong style=\"color:#cdcd00\">electric-sweep-21</strong> at: <a href='https://wandb.ai/dwolffram-karlsruhe-institute-of-technology/ari-lightgbm/runs/mxu0dzqm' target=\"_blank\">https://wandb.ai/dwolffram-karlsruhe-institute-of-technology/ari-lightgbm/runs/mxu0dzqm</a><br/> View project at: <a href='https://wandb.ai/dwolffram-karlsruhe-institute-of-technology/ari-lightgbm' target=\"_blank\">https://wandb.ai/dwolffram-karlsruhe-institute-of-technology/ari-lightgbm</a><br/>Synced 5 W&B file(s), 0 media file(s), 0 artifact file(s) and 0 other file(s)"
      ],
      "text/plain": [
       "<IPython.core.display.HTML object>"
      ]
     },
     "metadata": {},
     "output_type": "display_data"
    },
    {
     "data": {
      "text/html": [
       "Find logs at: <code>./wandb/run-20241031_201848-mxu0dzqm/logs</code>"
      ],
      "text/plain": [
       "<IPython.core.display.HTML object>"
      ]
     },
     "metadata": {},
     "output_type": "display_data"
    },
    {
     "data": {
      "text/html": [
       "There is a new version of wandb available. Please upgrade to wandb==0.18.5"
      ],
      "text/plain": [
       "<IPython.core.display.HTML object>"
      ]
     },
     "metadata": {},
     "output_type": "display_data"
    },
    {
     "name": "stderr",
     "output_type": "stream",
     "text": [
      "\u001b[34m\u001b[1mwandb\u001b[0m: Agent Starting Run: m8564rph with config:\n",
      "\u001b[34m\u001b[1mwandb\u001b[0m: \tcolsample_bytree: 0.9\n",
      "\u001b[34m\u001b[1mwandb\u001b[0m: \tlags: 8\n",
      "\u001b[34m\u001b[1mwandb\u001b[0m: \tlags_future_covariates: [0, 1]\n",
      "\u001b[34m\u001b[1mwandb\u001b[0m: \tlags_past_covariates: 8\n",
      "\u001b[34m\u001b[1mwandb\u001b[0m: \tlearning_rate: 0.005\n",
      "\u001b[34m\u001b[1mwandb\u001b[0m: \tmax_bin: 510\n",
      "\u001b[34m\u001b[1mwandb\u001b[0m: \tmax_depth: -1\n",
      "\u001b[34m\u001b[1mwandb\u001b[0m: \tmin_child_samples: 30\n",
      "\u001b[34m\u001b[1mwandb\u001b[0m: \tmin_split_gain: 0\n",
      "\u001b[34m\u001b[1mwandb\u001b[0m: \tmodel: lightgbm\n",
      "\u001b[34m\u001b[1mwandb\u001b[0m: \tmultiple_series: False\n",
      "\u001b[34m\u001b[1mwandb\u001b[0m: \tn_estimators: 1000\n",
      "\u001b[34m\u001b[1mwandb\u001b[0m: \tnum_leaves: 10\n",
      "\u001b[34m\u001b[1mwandb\u001b[0m: \treg_alpha: 1\n",
      "\u001b[34m\u001b[1mwandb\u001b[0m: \treg_lambda: 0.5\n",
      "\u001b[34m\u001b[1mwandb\u001b[0m: \tsample_weight: linear\n",
      "\u001b[34m\u001b[1mwandb\u001b[0m: \tsubsample: 0.8\n",
      "\u001b[34m\u001b[1mwandb\u001b[0m: \tsubsample_freq: 5\n",
      "\u001b[34m\u001b[1mwandb\u001b[0m: \tuse_covariates: False\n",
      "\u001b[34m\u001b[1mwandb\u001b[0m: \tuse_encoders: True\n",
      "\u001b[34m\u001b[1mwandb\u001b[0m: \tuse_features: False\n",
      "\u001b[34m\u001b[1mwandb\u001b[0m: \tuse_static_covariates: False\n",
      "Failed to detect the name of this notebook, you can set it manually with the WANDB_NOTEBOOK_NAME environment variable to enable code saving.\n"
     ]
    },
    {
     "data": {
      "text/html": [
       "Tracking run with wandb version 0.18.0"
      ],
      "text/plain": [
       "<IPython.core.display.HTML object>"
      ]
     },
     "metadata": {},
     "output_type": "display_data"
    },
    {
     "data": {
      "text/html": [
       "Run data is saved locally in <code>/home/wolffram/SARI-ML/ARI/wandb/run-20241031_202403-m8564rph</code>"
      ],
      "text/plain": [
       "<IPython.core.display.HTML object>"
      ]
     },
     "metadata": {},
     "output_type": "display_data"
    },
    {
     "data": {
      "text/html": [
       "Syncing run <strong><a href='https://wandb.ai/dwolffram-karlsruhe-institute-of-technology/ari-lightgbm/runs/m8564rph' target=\"_blank\">splendid-sweep-22</a></strong> to <a href='https://wandb.ai/dwolffram-karlsruhe-institute-of-technology/ari-lightgbm' target=\"_blank\">Weights & Biases</a> (<a href='https://wandb.me/run' target=\"_blank\">docs</a>)<br/>Sweep page: <a href='https://wandb.ai/dwolffram-karlsruhe-institute-of-technology/ari-lightgbm/sweeps/me2h5ytc' target=\"_blank\">https://wandb.ai/dwolffram-karlsruhe-institute-of-technology/ari-lightgbm/sweeps/me2h5ytc</a>"
      ],
      "text/plain": [
       "<IPython.core.display.HTML object>"
      ]
     },
     "metadata": {},
     "output_type": "display_data"
    },
    {
     "data": {
      "text/html": [
       " View project at <a href='https://wandb.ai/dwolffram-karlsruhe-institute-of-technology/ari-lightgbm' target=\"_blank\">https://wandb.ai/dwolffram-karlsruhe-institute-of-technology/ari-lightgbm</a>"
      ],
      "text/plain": [
       "<IPython.core.display.HTML object>"
      ]
     },
     "metadata": {},
     "output_type": "display_data"
    },
    {
     "data": {
      "text/html": [
       " View sweep at <a href='https://wandb.ai/dwolffram-karlsruhe-institute-of-technology/ari-lightgbm/sweeps/me2h5ytc' target=\"_blank\">https://wandb.ai/dwolffram-karlsruhe-institute-of-technology/ari-lightgbm/sweeps/me2h5ytc</a>"
      ],
      "text/plain": [
       "<IPython.core.display.HTML object>"
      ]
     },
     "metadata": {},
     "output_type": "display_data"
    },
    {
     "data": {
      "text/html": [
       " View run at <a href='https://wandb.ai/dwolffram-karlsruhe-institute-of-technology/ari-lightgbm/runs/m8564rph' target=\"_blank\">https://wandb.ai/dwolffram-karlsruhe-institute-of-technology/ari-lightgbm/runs/m8564rph</a>"
      ],
      "text/plain": [
       "<IPython.core.display.HTML object>"
      ]
     },
     "metadata": {},
     "output_type": "display_data"
    },
    {
     "data": {
      "application/vnd.jupyter.widget-view+json": {
       "model_id": "716ec7a6ddaa4009b90a5a31076e4a1e",
       "version_major": 2,
       "version_minor": 0
      },
      "text/plain": [
       "VBox(children=(Label(value='0.006 MB of 0.006 MB uploaded\\r'), FloatProgress(value=1.0, max=1.0)))"
      ]
     },
     "metadata": {},
     "output_type": "display_data"
    },
    {
     "data": {
      "text/html": [
       "<style>\n",
       "    table.wandb td:nth-child(1) { padding: 0 10px; text-align: left ; width: auto;} td:nth-child(2) {text-align: left ; width: 100%}\n",
       "    .wandb-row { display: flex; flex-direction: row; flex-wrap: wrap; justify-content: flex-start; width: 100% }\n",
       "    .wandb-col { display: flex; flex-direction: column; flex-basis: 100%; flex: 1; padding: 10px; }\n",
       "    </style>\n",
       "<div class=\"wandb-row\"><div class=\"wandb-col\"><h3>Run history:</h3><br/><table class=\"wandb\"><tr><td>WIS</td><td>▁</td></tr><tr><td>WIS_2022</td><td>▁</td></tr><tr><td>WIS_2022_1</td><td>▁</td></tr><tr><td>WIS_2022_2</td><td>▁</td></tr><tr><td>WIS_2022_3</td><td>▁</td></tr><tr><td>WIS_2023</td><td>▁</td></tr><tr><td>WIS_2023_1</td><td>▁</td></tr><tr><td>WIS_2023_2</td><td>▁</td></tr><tr><td>WIS_2023_3</td><td>▁</td></tr><tr><td>WIS_std</td><td>▁</td></tr><tr><td>WIS_std_2022</td><td>▁</td></tr><tr><td>WIS_std_2023</td><td>▁</td></tr></table><br/></div><div class=\"wandb-col\"><h3>Run summary:</h3><br/><table class=\"wandb\"><tr><td>WIS</td><td>242.55284</td></tr><tr><td>WIS_2022</td><td>315.59253</td></tr><tr><td>WIS_2022_1</td><td>315.48228</td></tr><tr><td>WIS_2022_2</td><td>315.74198</td></tr><tr><td>WIS_2022_3</td><td>315.55334</td></tr><tr><td>WIS_2023</td><td>169.51315</td></tr><tr><td>WIS_2023_1</td><td>169.3584</td></tr><tr><td>WIS_2023_2</td><td>169.69331</td></tr><tr><td>WIS_2023_3</td><td>169.48775</td></tr><tr><td>WIS_std</td><td>73.0398</td></tr><tr><td>WIS_std_2022</td><td>0.10958</td></tr><tr><td>WIS_std_2023</td><td>0.1379</td></tr></table><br/></div></div>"
      ],
      "text/plain": [
       "<IPython.core.display.HTML object>"
      ]
     },
     "metadata": {},
     "output_type": "display_data"
    },
    {
     "data": {
      "text/html": [
       " View run <strong style=\"color:#cdcd00\">splendid-sweep-22</strong> at: <a href='https://wandb.ai/dwolffram-karlsruhe-institute-of-technology/ari-lightgbm/runs/m8564rph' target=\"_blank\">https://wandb.ai/dwolffram-karlsruhe-institute-of-technology/ari-lightgbm/runs/m8564rph</a><br/> View project at: <a href='https://wandb.ai/dwolffram-karlsruhe-institute-of-technology/ari-lightgbm' target=\"_blank\">https://wandb.ai/dwolffram-karlsruhe-institute-of-technology/ari-lightgbm</a><br/>Synced 5 W&B file(s), 0 media file(s), 0 artifact file(s) and 0 other file(s)"
      ],
      "text/plain": [
       "<IPython.core.display.HTML object>"
      ]
     },
     "metadata": {},
     "output_type": "display_data"
    },
    {
     "data": {
      "text/html": [
       "Find logs at: <code>./wandb/run-20241031_202403-m8564rph/logs</code>"
      ],
      "text/plain": [
       "<IPython.core.display.HTML object>"
      ]
     },
     "metadata": {},
     "output_type": "display_data"
    },
    {
     "data": {
      "text/html": [
       "There is a new version of wandb available. Please upgrade to wandb==0.18.5"
      ],
      "text/plain": [
       "<IPython.core.display.HTML object>"
      ]
     },
     "metadata": {},
     "output_type": "display_data"
    },
    {
     "name": "stderr",
     "output_type": "stream",
     "text": [
      "\u001b[34m\u001b[1mwandb\u001b[0m: Agent Starting Run: ka78ckvt with config:\n",
      "\u001b[34m\u001b[1mwandb\u001b[0m: \tcolsample_bytree: 0.8\n",
      "\u001b[34m\u001b[1mwandb\u001b[0m: \tlags: 8\n",
      "\u001b[34m\u001b[1mwandb\u001b[0m: \tlags_future_covariates: [0, 1]\n",
      "\u001b[34m\u001b[1mwandb\u001b[0m: \tlags_past_covariates: 8\n",
      "\u001b[34m\u001b[1mwandb\u001b[0m: \tlearning_rate: 0.05\n",
      "\u001b[34m\u001b[1mwandb\u001b[0m: \tmax_bin: 510\n",
      "\u001b[34m\u001b[1mwandb\u001b[0m: \tmax_depth: 10\n",
      "\u001b[34m\u001b[1mwandb\u001b[0m: \tmin_child_samples: 30\n",
      "\u001b[34m\u001b[1mwandb\u001b[0m: \tmin_split_gain: 0\n",
      "\u001b[34m\u001b[1mwandb\u001b[0m: \tmodel: lightgbm\n",
      "\u001b[34m\u001b[1mwandb\u001b[0m: \tmultiple_series: False\n",
      "\u001b[34m\u001b[1mwandb\u001b[0m: \tn_estimators: 500\n",
      "\u001b[34m\u001b[1mwandb\u001b[0m: \tnum_leaves: 40\n",
      "\u001b[34m\u001b[1mwandb\u001b[0m: \treg_alpha: 0\n",
      "\u001b[34m\u001b[1mwandb\u001b[0m: \treg_lambda: 0.25\n",
      "\u001b[34m\u001b[1mwandb\u001b[0m: \tsample_weight: linear\n",
      "\u001b[34m\u001b[1mwandb\u001b[0m: \tsubsample: 1\n",
      "\u001b[34m\u001b[1mwandb\u001b[0m: \tsubsample_freq: 5\n",
      "\u001b[34m\u001b[1mwandb\u001b[0m: \tuse_covariates: True\n",
      "\u001b[34m\u001b[1mwandb\u001b[0m: \tuse_encoders: True\n",
      "\u001b[34m\u001b[1mwandb\u001b[0m: \tuse_features: False\n",
      "\u001b[34m\u001b[1mwandb\u001b[0m: \tuse_static_covariates: False\n",
      "Failed to detect the name of this notebook, you can set it manually with the WANDB_NOTEBOOK_NAME environment variable to enable code saving.\n"
     ]
    },
    {
     "data": {
      "text/html": [
       "Tracking run with wandb version 0.18.0"
      ],
      "text/plain": [
       "<IPython.core.display.HTML object>"
      ]
     },
     "metadata": {},
     "output_type": "display_data"
    },
    {
     "data": {
      "text/html": [
       "Run data is saved locally in <code>/home/wolffram/SARI-ML/ARI/wandb/run-20241031_203005-ka78ckvt</code>"
      ],
      "text/plain": [
       "<IPython.core.display.HTML object>"
      ]
     },
     "metadata": {},
     "output_type": "display_data"
    },
    {
     "data": {
      "text/html": [
       "Syncing run <strong><a href='https://wandb.ai/dwolffram-karlsruhe-institute-of-technology/ari-lightgbm/runs/ka78ckvt' target=\"_blank\">divine-sweep-23</a></strong> to <a href='https://wandb.ai/dwolffram-karlsruhe-institute-of-technology/ari-lightgbm' target=\"_blank\">Weights & Biases</a> (<a href='https://wandb.me/run' target=\"_blank\">docs</a>)<br/>Sweep page: <a href='https://wandb.ai/dwolffram-karlsruhe-institute-of-technology/ari-lightgbm/sweeps/me2h5ytc' target=\"_blank\">https://wandb.ai/dwolffram-karlsruhe-institute-of-technology/ari-lightgbm/sweeps/me2h5ytc</a>"
      ],
      "text/plain": [
       "<IPython.core.display.HTML object>"
      ]
     },
     "metadata": {},
     "output_type": "display_data"
    },
    {
     "data": {
      "text/html": [
       " View project at <a href='https://wandb.ai/dwolffram-karlsruhe-institute-of-technology/ari-lightgbm' target=\"_blank\">https://wandb.ai/dwolffram-karlsruhe-institute-of-technology/ari-lightgbm</a>"
      ],
      "text/plain": [
       "<IPython.core.display.HTML object>"
      ]
     },
     "metadata": {},
     "output_type": "display_data"
    },
    {
     "data": {
      "text/html": [
       " View sweep at <a href='https://wandb.ai/dwolffram-karlsruhe-institute-of-technology/ari-lightgbm/sweeps/me2h5ytc' target=\"_blank\">https://wandb.ai/dwolffram-karlsruhe-institute-of-technology/ari-lightgbm/sweeps/me2h5ytc</a>"
      ],
      "text/plain": [
       "<IPython.core.display.HTML object>"
      ]
     },
     "metadata": {},
     "output_type": "display_data"
    },
    {
     "data": {
      "text/html": [
       " View run at <a href='https://wandb.ai/dwolffram-karlsruhe-institute-of-technology/ari-lightgbm/runs/ka78ckvt' target=\"_blank\">https://wandb.ai/dwolffram-karlsruhe-institute-of-technology/ari-lightgbm/runs/ka78ckvt</a>"
      ],
      "text/plain": [
       "<IPython.core.display.HTML object>"
      ]
     },
     "metadata": {},
     "output_type": "display_data"
    },
    {
     "data": {
      "application/vnd.jupyter.widget-view+json": {
       "model_id": "5b804e5fdc2e49c4916ea059031720ef",
       "version_major": 2,
       "version_minor": 0
      },
      "text/plain": [
       "VBox(children=(Label(value='0.006 MB of 0.006 MB uploaded\\r'), FloatProgress(value=1.0, max=1.0)))"
      ]
     },
     "metadata": {},
     "output_type": "display_data"
    },
    {
     "data": {
      "text/html": [
       "<style>\n",
       "    table.wandb td:nth-child(1) { padding: 0 10px; text-align: left ; width: auto;} td:nth-child(2) {text-align: left ; width: 100%}\n",
       "    .wandb-row { display: flex; flex-direction: row; flex-wrap: wrap; justify-content: flex-start; width: 100% }\n",
       "    .wandb-col { display: flex; flex-direction: column; flex-basis: 100%; flex: 1; padding: 10px; }\n",
       "    </style>\n",
       "<div class=\"wandb-row\"><div class=\"wandb-col\"><h3>Run history:</h3><br/><table class=\"wandb\"><tr><td>WIS</td><td>▁</td></tr><tr><td>WIS_2022</td><td>▁</td></tr><tr><td>WIS_2022_1</td><td>▁</td></tr><tr><td>WIS_2022_2</td><td>▁</td></tr><tr><td>WIS_2022_3</td><td>▁</td></tr><tr><td>WIS_2023</td><td>▁</td></tr><tr><td>WIS_2023_1</td><td>▁</td></tr><tr><td>WIS_2023_2</td><td>▁</td></tr><tr><td>WIS_2023_3</td><td>▁</td></tr><tr><td>WIS_std</td><td>▁</td></tr><tr><td>WIS_std_2022</td><td>▁</td></tr><tr><td>WIS_std_2023</td><td>▁</td></tr></table><br/></div><div class=\"wandb-col\"><h3>Run summary:</h3><br/><table class=\"wandb\"><tr><td>WIS</td><td>252.549</td></tr><tr><td>WIS_2022</td><td>327.20115</td></tr><tr><td>WIS_2022_1</td><td>327.10462</td></tr><tr><td>WIS_2022_2</td><td>327.31341</td></tr><tr><td>WIS_2022_3</td><td>327.18541</td></tr><tr><td>WIS_2023</td><td>177.89686</td></tr><tr><td>WIS_2023_1</td><td>178.29698</td></tr><tr><td>WIS_2023_2</td><td>177.97705</td></tr><tr><td>WIS_2023_3</td><td>177.41655</td></tr><tr><td>WIS_std</td><td>74.65261</td></tr><tr><td>WIS_std_2022</td><td>0.08596</td></tr><tr><td>WIS_std_2023</td><td>0.36388</td></tr></table><br/></div></div>"
      ],
      "text/plain": [
       "<IPython.core.display.HTML object>"
      ]
     },
     "metadata": {},
     "output_type": "display_data"
    },
    {
     "data": {
      "text/html": [
       " View run <strong style=\"color:#cdcd00\">divine-sweep-23</strong> at: <a href='https://wandb.ai/dwolffram-karlsruhe-institute-of-technology/ari-lightgbm/runs/ka78ckvt' target=\"_blank\">https://wandb.ai/dwolffram-karlsruhe-institute-of-technology/ari-lightgbm/runs/ka78ckvt</a><br/> View project at: <a href='https://wandb.ai/dwolffram-karlsruhe-institute-of-technology/ari-lightgbm' target=\"_blank\">https://wandb.ai/dwolffram-karlsruhe-institute-of-technology/ari-lightgbm</a><br/>Synced 5 W&B file(s), 0 media file(s), 0 artifact file(s) and 0 other file(s)"
      ],
      "text/plain": [
       "<IPython.core.display.HTML object>"
      ]
     },
     "metadata": {},
     "output_type": "display_data"
    },
    {
     "data": {
      "text/html": [
       "Find logs at: <code>./wandb/run-20241031_203005-ka78ckvt/logs</code>"
      ],
      "text/plain": [
       "<IPython.core.display.HTML object>"
      ]
     },
     "metadata": {},
     "output_type": "display_data"
    },
    {
     "data": {
      "text/html": [
       "There is a new version of wandb available. Please upgrade to wandb==0.18.5"
      ],
      "text/plain": [
       "<IPython.core.display.HTML object>"
      ]
     },
     "metadata": {},
     "output_type": "display_data"
    },
    {
     "name": "stderr",
     "output_type": "stream",
     "text": [
      "\u001b[34m\u001b[1mwandb\u001b[0m: Agent Starting Run: b145f9vd with config:\n",
      "\u001b[34m\u001b[1mwandb\u001b[0m: \tcolsample_bytree: 0.8\n",
      "\u001b[34m\u001b[1mwandb\u001b[0m: \tlags: 8\n",
      "\u001b[34m\u001b[1mwandb\u001b[0m: \tlags_future_covariates: [0, 1]\n",
      "\u001b[34m\u001b[1mwandb\u001b[0m: \tlags_past_covariates: 8\n",
      "\u001b[34m\u001b[1mwandb\u001b[0m: \tlearning_rate: 0.2\n",
      "\u001b[34m\u001b[1mwandb\u001b[0m: \tmax_bin: 510\n",
      "\u001b[34m\u001b[1mwandb\u001b[0m: \tmax_depth: 5\n",
      "\u001b[34m\u001b[1mwandb\u001b[0m: \tmin_child_samples: 10\n",
      "\u001b[34m\u001b[1mwandb\u001b[0m: \tmin_split_gain: 0\n",
      "\u001b[34m\u001b[1mwandb\u001b[0m: \tmodel: lightgbm\n",
      "\u001b[34m\u001b[1mwandb\u001b[0m: \tmultiple_series: False\n",
      "\u001b[34m\u001b[1mwandb\u001b[0m: \tn_estimators: 1000\n",
      "\u001b[34m\u001b[1mwandb\u001b[0m: \tnum_leaves: 20\n",
      "\u001b[34m\u001b[1mwandb\u001b[0m: \treg_alpha: 0.25\n",
      "\u001b[34m\u001b[1mwandb\u001b[0m: \treg_lambda: 1\n",
      "\u001b[34m\u001b[1mwandb\u001b[0m: \tsample_weight: None\n",
      "\u001b[34m\u001b[1mwandb\u001b[0m: \tsubsample: 0.9\n",
      "\u001b[34m\u001b[1mwandb\u001b[0m: \tsubsample_freq: 1\n",
      "\u001b[34m\u001b[1mwandb\u001b[0m: \tuse_covariates: True\n",
      "\u001b[34m\u001b[1mwandb\u001b[0m: \tuse_encoders: True\n",
      "\u001b[34m\u001b[1mwandb\u001b[0m: \tuse_features: False\n",
      "\u001b[34m\u001b[1mwandb\u001b[0m: \tuse_static_covariates: False\n",
      "Failed to detect the name of this notebook, you can set it manually with the WANDB_NOTEBOOK_NAME environment variable to enable code saving.\n"
     ]
    },
    {
     "data": {
      "text/html": [
       "Tracking run with wandb version 0.18.0"
      ],
      "text/plain": [
       "<IPython.core.display.HTML object>"
      ]
     },
     "metadata": {},
     "output_type": "display_data"
    },
    {
     "data": {
      "text/html": [
       "Run data is saved locally in <code>/home/wolffram/SARI-ML/ARI/wandb/run-20241031_203407-b145f9vd</code>"
      ],
      "text/plain": [
       "<IPython.core.display.HTML object>"
      ]
     },
     "metadata": {},
     "output_type": "display_data"
    },
    {
     "data": {
      "text/html": [
       "Syncing run <strong><a href='https://wandb.ai/dwolffram-karlsruhe-institute-of-technology/ari-lightgbm/runs/b145f9vd' target=\"_blank\">serene-sweep-24</a></strong> to <a href='https://wandb.ai/dwolffram-karlsruhe-institute-of-technology/ari-lightgbm' target=\"_blank\">Weights & Biases</a> (<a href='https://wandb.me/run' target=\"_blank\">docs</a>)<br/>Sweep page: <a href='https://wandb.ai/dwolffram-karlsruhe-institute-of-technology/ari-lightgbm/sweeps/me2h5ytc' target=\"_blank\">https://wandb.ai/dwolffram-karlsruhe-institute-of-technology/ari-lightgbm/sweeps/me2h5ytc</a>"
      ],
      "text/plain": [
       "<IPython.core.display.HTML object>"
      ]
     },
     "metadata": {},
     "output_type": "display_data"
    },
    {
     "data": {
      "text/html": [
       " View project at <a href='https://wandb.ai/dwolffram-karlsruhe-institute-of-technology/ari-lightgbm' target=\"_blank\">https://wandb.ai/dwolffram-karlsruhe-institute-of-technology/ari-lightgbm</a>"
      ],
      "text/plain": [
       "<IPython.core.display.HTML object>"
      ]
     },
     "metadata": {},
     "output_type": "display_data"
    },
    {
     "data": {
      "text/html": [
       " View sweep at <a href='https://wandb.ai/dwolffram-karlsruhe-institute-of-technology/ari-lightgbm/sweeps/me2h5ytc' target=\"_blank\">https://wandb.ai/dwolffram-karlsruhe-institute-of-technology/ari-lightgbm/sweeps/me2h5ytc</a>"
      ],
      "text/plain": [
       "<IPython.core.display.HTML object>"
      ]
     },
     "metadata": {},
     "output_type": "display_data"
    },
    {
     "data": {
      "text/html": [
       " View run at <a href='https://wandb.ai/dwolffram-karlsruhe-institute-of-technology/ari-lightgbm/runs/b145f9vd' target=\"_blank\">https://wandb.ai/dwolffram-karlsruhe-institute-of-technology/ari-lightgbm/runs/b145f9vd</a>"
      ],
      "text/plain": [
       "<IPython.core.display.HTML object>"
      ]
     },
     "metadata": {},
     "output_type": "display_data"
    },
    {
     "data": {
      "application/vnd.jupyter.widget-view+json": {
       "model_id": "51ae6a315c0c4042bb4071f51e767e01",
       "version_major": 2,
       "version_minor": 0
      },
      "text/plain": [
       "VBox(children=(Label(value='0.006 MB of 0.006 MB uploaded\\r'), FloatProgress(value=1.0, max=1.0)))"
      ]
     },
     "metadata": {},
     "output_type": "display_data"
    },
    {
     "data": {
      "text/html": [
       "<style>\n",
       "    table.wandb td:nth-child(1) { padding: 0 10px; text-align: left ; width: auto;} td:nth-child(2) {text-align: left ; width: 100%}\n",
       "    .wandb-row { display: flex; flex-direction: row; flex-wrap: wrap; justify-content: flex-start; width: 100% }\n",
       "    .wandb-col { display: flex; flex-direction: column; flex-basis: 100%; flex: 1; padding: 10px; }\n",
       "    </style>\n",
       "<div class=\"wandb-row\"><div class=\"wandb-col\"><h3>Run history:</h3><br/><table class=\"wandb\"><tr><td>WIS</td><td>▁</td></tr><tr><td>WIS_2022</td><td>▁</td></tr><tr><td>WIS_2022_1</td><td>▁</td></tr><tr><td>WIS_2022_2</td><td>▁</td></tr><tr><td>WIS_2022_3</td><td>▁</td></tr><tr><td>WIS_2023</td><td>▁</td></tr><tr><td>WIS_2023_1</td><td>▁</td></tr><tr><td>WIS_2023_2</td><td>▁</td></tr><tr><td>WIS_2023_3</td><td>▁</td></tr><tr><td>WIS_std</td><td>▁</td></tr><tr><td>WIS_std_2022</td><td>▁</td></tr><tr><td>WIS_std_2023</td><td>▁</td></tr></table><br/></div><div class=\"wandb-col\"><h3>Run summary:</h3><br/><table class=\"wandb\"><tr><td>WIS</td><td>276.27105</td></tr><tr><td>WIS_2022</td><td>356.15082</td></tr><tr><td>WIS_2022_1</td><td>356.0649</td></tr><tr><td>WIS_2022_2</td><td>356.04334</td></tr><tr><td>WIS_2022_3</td><td>356.34421</td></tr><tr><td>WIS_2023</td><td>196.39127</td></tr><tr><td>WIS_2023_1</td><td>196.31007</td></tr><tr><td>WIS_2023_2</td><td>196.4895</td></tr><tr><td>WIS_2023_3</td><td>196.37425</td></tr><tr><td>WIS_std</td><td>79.87985</td></tr><tr><td>WIS_std_2022</td><td>0.13703</td></tr><tr><td>WIS_std_2023</td><td>0.07423</td></tr></table><br/></div></div>"
      ],
      "text/plain": [
       "<IPython.core.display.HTML object>"
      ]
     },
     "metadata": {},
     "output_type": "display_data"
    },
    {
     "data": {
      "text/html": [
       " View run <strong style=\"color:#cdcd00\">serene-sweep-24</strong> at: <a href='https://wandb.ai/dwolffram-karlsruhe-institute-of-technology/ari-lightgbm/runs/b145f9vd' target=\"_blank\">https://wandb.ai/dwolffram-karlsruhe-institute-of-technology/ari-lightgbm/runs/b145f9vd</a><br/> View project at: <a href='https://wandb.ai/dwolffram-karlsruhe-institute-of-technology/ari-lightgbm' target=\"_blank\">https://wandb.ai/dwolffram-karlsruhe-institute-of-technology/ari-lightgbm</a><br/>Synced 5 W&B file(s), 0 media file(s), 0 artifact file(s) and 0 other file(s)"
      ],
      "text/plain": [
       "<IPython.core.display.HTML object>"
      ]
     },
     "metadata": {},
     "output_type": "display_data"
    },
    {
     "data": {
      "text/html": [
       "Find logs at: <code>./wandb/run-20241031_203407-b145f9vd/logs</code>"
      ],
      "text/plain": [
       "<IPython.core.display.HTML object>"
      ]
     },
     "metadata": {},
     "output_type": "display_data"
    },
    {
     "data": {
      "text/html": [
       "There is a new version of wandb available. Please upgrade to wandb==0.18.5"
      ],
      "text/plain": [
       "<IPython.core.display.HTML object>"
      ]
     },
     "metadata": {},
     "output_type": "display_data"
    },
    {
     "name": "stderr",
     "output_type": "stream",
     "text": [
      "\u001b[34m\u001b[1mwandb\u001b[0m: Agent Starting Run: cylrj5d6 with config:\n",
      "\u001b[34m\u001b[1mwandb\u001b[0m: \tcolsample_bytree: 1\n",
      "\u001b[34m\u001b[1mwandb\u001b[0m: \tlags: 8\n",
      "\u001b[34m\u001b[1mwandb\u001b[0m: \tlags_future_covariates: [0, 1]\n",
      "\u001b[34m\u001b[1mwandb\u001b[0m: \tlags_past_covariates: 8\n",
      "\u001b[34m\u001b[1mwandb\u001b[0m: \tlearning_rate: 0.005\n",
      "\u001b[34m\u001b[1mwandb\u001b[0m: \tmax_bin: 2048\n",
      "\u001b[34m\u001b[1mwandb\u001b[0m: \tmax_depth: -1\n",
      "\u001b[34m\u001b[1mwandb\u001b[0m: \tmin_child_samples: 10\n",
      "\u001b[34m\u001b[1mwandb\u001b[0m: \tmin_split_gain: 0.2\n",
      "\u001b[34m\u001b[1mwandb\u001b[0m: \tmodel: lightgbm\n",
      "\u001b[34m\u001b[1mwandb\u001b[0m: \tmultiple_series: False\n",
      "\u001b[34m\u001b[1mwandb\u001b[0m: \tn_estimators: 500\n",
      "\u001b[34m\u001b[1mwandb\u001b[0m: \tnum_leaves: 40\n",
      "\u001b[34m\u001b[1mwandb\u001b[0m: \treg_alpha: 0\n",
      "\u001b[34m\u001b[1mwandb\u001b[0m: \treg_lambda: 0\n",
      "\u001b[34m\u001b[1mwandb\u001b[0m: \tsample_weight: None\n",
      "\u001b[34m\u001b[1mwandb\u001b[0m: \tsubsample: 0.9\n",
      "\u001b[34m\u001b[1mwandb\u001b[0m: \tsubsample_freq: 1\n",
      "\u001b[34m\u001b[1mwandb\u001b[0m: \tuse_covariates: True\n",
      "\u001b[34m\u001b[1mwandb\u001b[0m: \tuse_encoders: True\n",
      "\u001b[34m\u001b[1mwandb\u001b[0m: \tuse_features: False\n",
      "\u001b[34m\u001b[1mwandb\u001b[0m: \tuse_static_covariates: False\n",
      "Failed to detect the name of this notebook, you can set it manually with the WANDB_NOTEBOOK_NAME environment variable to enable code saving.\n"
     ]
    },
    {
     "data": {
      "text/html": [
       "Tracking run with wandb version 0.18.0"
      ],
      "text/plain": [
       "<IPython.core.display.HTML object>"
      ]
     },
     "metadata": {},
     "output_type": "display_data"
    },
    {
     "data": {
      "text/html": [
       "Run data is saved locally in <code>/home/wolffram/SARI-ML/ARI/wandb/run-20241031_204231-cylrj5d6</code>"
      ],
      "text/plain": [
       "<IPython.core.display.HTML object>"
      ]
     },
     "metadata": {},
     "output_type": "display_data"
    },
    {
     "data": {
      "text/html": [
       "Syncing run <strong><a href='https://wandb.ai/dwolffram-karlsruhe-institute-of-technology/ari-lightgbm/runs/cylrj5d6' target=\"_blank\">prime-sweep-25</a></strong> to <a href='https://wandb.ai/dwolffram-karlsruhe-institute-of-technology/ari-lightgbm' target=\"_blank\">Weights & Biases</a> (<a href='https://wandb.me/run' target=\"_blank\">docs</a>)<br/>Sweep page: <a href='https://wandb.ai/dwolffram-karlsruhe-institute-of-technology/ari-lightgbm/sweeps/me2h5ytc' target=\"_blank\">https://wandb.ai/dwolffram-karlsruhe-institute-of-technology/ari-lightgbm/sweeps/me2h5ytc</a>"
      ],
      "text/plain": [
       "<IPython.core.display.HTML object>"
      ]
     },
     "metadata": {},
     "output_type": "display_data"
    },
    {
     "data": {
      "text/html": [
       " View project at <a href='https://wandb.ai/dwolffram-karlsruhe-institute-of-technology/ari-lightgbm' target=\"_blank\">https://wandb.ai/dwolffram-karlsruhe-institute-of-technology/ari-lightgbm</a>"
      ],
      "text/plain": [
       "<IPython.core.display.HTML object>"
      ]
     },
     "metadata": {},
     "output_type": "display_data"
    },
    {
     "data": {
      "text/html": [
       " View sweep at <a href='https://wandb.ai/dwolffram-karlsruhe-institute-of-technology/ari-lightgbm/sweeps/me2h5ytc' target=\"_blank\">https://wandb.ai/dwolffram-karlsruhe-institute-of-technology/ari-lightgbm/sweeps/me2h5ytc</a>"
      ],
      "text/plain": [
       "<IPython.core.display.HTML object>"
      ]
     },
     "metadata": {},
     "output_type": "display_data"
    },
    {
     "data": {
      "text/html": [
       " View run at <a href='https://wandb.ai/dwolffram-karlsruhe-institute-of-technology/ari-lightgbm/runs/cylrj5d6' target=\"_blank\">https://wandb.ai/dwolffram-karlsruhe-institute-of-technology/ari-lightgbm/runs/cylrj5d6</a>"
      ],
      "text/plain": [
       "<IPython.core.display.HTML object>"
      ]
     },
     "metadata": {},
     "output_type": "display_data"
    },
    {
     "data": {
      "application/vnd.jupyter.widget-view+json": {
       "model_id": "79cca19542c649d8885d5f34f721c9a5",
       "version_major": 2,
       "version_minor": 0
      },
      "text/plain": [
       "VBox(children=(Label(value='0.006 MB of 0.006 MB uploaded\\r'), FloatProgress(value=1.0, max=1.0)))"
      ]
     },
     "metadata": {},
     "output_type": "display_data"
    },
    {
     "data": {
      "text/html": [
       "<style>\n",
       "    table.wandb td:nth-child(1) { padding: 0 10px; text-align: left ; width: auto;} td:nth-child(2) {text-align: left ; width: 100%}\n",
       "    .wandb-row { display: flex; flex-direction: row; flex-wrap: wrap; justify-content: flex-start; width: 100% }\n",
       "    .wandb-col { display: flex; flex-direction: column; flex-basis: 100%; flex: 1; padding: 10px; }\n",
       "    </style>\n",
       "<div class=\"wandb-row\"><div class=\"wandb-col\"><h3>Run history:</h3><br/><table class=\"wandb\"><tr><td>WIS</td><td>▁</td></tr><tr><td>WIS_2022</td><td>▁</td></tr><tr><td>WIS_2022_1</td><td>▁</td></tr><tr><td>WIS_2022_2</td><td>▁</td></tr><tr><td>WIS_2022_3</td><td>▁</td></tr><tr><td>WIS_2023</td><td>▁</td></tr><tr><td>WIS_2023_1</td><td>▁</td></tr><tr><td>WIS_2023_2</td><td>▁</td></tr><tr><td>WIS_2023_3</td><td>▁</td></tr><tr><td>WIS_std</td><td>▁</td></tr><tr><td>WIS_std_2022</td><td>▁</td></tr><tr><td>WIS_std_2023</td><td>▁</td></tr></table><br/></div><div class=\"wandb-col\"><h3>Run summary:</h3><br/><table class=\"wandb\"><tr><td>WIS</td><td>266.30994</td></tr><tr><td>WIS_2022</td><td>334.08394</td></tr><tr><td>WIS_2022_1</td><td>334.35192</td></tr><tr><td>WIS_2022_2</td><td>333.61444</td></tr><tr><td>WIS_2022_3</td><td>334.28545</td></tr><tr><td>WIS_2023</td><td>198.53594</td></tr><tr><td>WIS_2023_1</td><td>198.81632</td></tr><tr><td>WIS_2023_2</td><td>198.22649</td></tr><tr><td>WIS_2023_3</td><td>198.56501</td></tr><tr><td>WIS_std</td><td>67.77462</td></tr><tr><td>WIS_std_2022</td><td>0.33309</td></tr><tr><td>WIS_std_2023</td><td>0.24168</td></tr></table><br/></div></div>"
      ],
      "text/plain": [
       "<IPython.core.display.HTML object>"
      ]
     },
     "metadata": {},
     "output_type": "display_data"
    },
    {
     "data": {
      "text/html": [
       " View run <strong style=\"color:#cdcd00\">prime-sweep-25</strong> at: <a href='https://wandb.ai/dwolffram-karlsruhe-institute-of-technology/ari-lightgbm/runs/cylrj5d6' target=\"_blank\">https://wandb.ai/dwolffram-karlsruhe-institute-of-technology/ari-lightgbm/runs/cylrj5d6</a><br/> View project at: <a href='https://wandb.ai/dwolffram-karlsruhe-institute-of-technology/ari-lightgbm' target=\"_blank\">https://wandb.ai/dwolffram-karlsruhe-institute-of-technology/ari-lightgbm</a><br/>Synced 5 W&B file(s), 0 media file(s), 0 artifact file(s) and 0 other file(s)"
      ],
      "text/plain": [
       "<IPython.core.display.HTML object>"
      ]
     },
     "metadata": {},
     "output_type": "display_data"
    },
    {
     "data": {
      "text/html": [
       "Find logs at: <code>./wandb/run-20241031_204231-cylrj5d6/logs</code>"
      ],
      "text/plain": [
       "<IPython.core.display.HTML object>"
      ]
     },
     "metadata": {},
     "output_type": "display_data"
    },
    {
     "data": {
      "text/html": [
       "There is a new version of wandb available. Please upgrade to wandb==0.18.5"
      ],
      "text/plain": [
       "<IPython.core.display.HTML object>"
      ]
     },
     "metadata": {},
     "output_type": "display_data"
    },
    {
     "name": "stderr",
     "output_type": "stream",
     "text": [
      "\u001b[34m\u001b[1mwandb\u001b[0m: Agent Starting Run: dilcpr76 with config:\n",
      "\u001b[34m\u001b[1mwandb\u001b[0m: \tcolsample_bytree: 1\n",
      "\u001b[34m\u001b[1mwandb\u001b[0m: \tlags: 8\n",
      "\u001b[34m\u001b[1mwandb\u001b[0m: \tlags_future_covariates: [0, 1]\n",
      "\u001b[34m\u001b[1mwandb\u001b[0m: \tlags_past_covariates: 8\n",
      "\u001b[34m\u001b[1mwandb\u001b[0m: \tlearning_rate: 0.01\n",
      "\u001b[34m\u001b[1mwandb\u001b[0m: \tmax_bin: 1024\n",
      "\u001b[34m\u001b[1mwandb\u001b[0m: \tmax_depth: 5\n",
      "\u001b[34m\u001b[1mwandb\u001b[0m: \tmin_child_samples: 10\n",
      "\u001b[34m\u001b[1mwandb\u001b[0m: \tmin_split_gain: 0\n",
      "\u001b[34m\u001b[1mwandb\u001b[0m: \tmodel: lightgbm\n",
      "\u001b[34m\u001b[1mwandb\u001b[0m: \tmultiple_series: False\n",
      "\u001b[34m\u001b[1mwandb\u001b[0m: \tn_estimators: 5000\n",
      "\u001b[34m\u001b[1mwandb\u001b[0m: \tnum_leaves: 50\n",
      "\u001b[34m\u001b[1mwandb\u001b[0m: \treg_alpha: 5\n",
      "\u001b[34m\u001b[1mwandb\u001b[0m: \treg_lambda: 1\n",
      "\u001b[34m\u001b[1mwandb\u001b[0m: \tsample_weight: linear\n",
      "\u001b[34m\u001b[1mwandb\u001b[0m: \tsubsample: 0.8\n",
      "\u001b[34m\u001b[1mwandb\u001b[0m: \tsubsample_freq: 2\n",
      "\u001b[34m\u001b[1mwandb\u001b[0m: \tuse_covariates: True\n",
      "\u001b[34m\u001b[1mwandb\u001b[0m: \tuse_encoders: True\n",
      "\u001b[34m\u001b[1mwandb\u001b[0m: \tuse_features: False\n",
      "\u001b[34m\u001b[1mwandb\u001b[0m: \tuse_static_covariates: False\n",
      "Failed to detect the name of this notebook, you can set it manually with the WANDB_NOTEBOOK_NAME environment variable to enable code saving.\n"
     ]
    },
    {
     "data": {
      "text/html": [
       "Tracking run with wandb version 0.18.0"
      ],
      "text/plain": [
       "<IPython.core.display.HTML object>"
      ]
     },
     "metadata": {},
     "output_type": "display_data"
    },
    {
     "data": {
      "text/html": [
       "Run data is saved locally in <code>/home/wolffram/SARI-ML/ARI/wandb/run-20241031_204655-dilcpr76</code>"
      ],
      "text/plain": [
       "<IPython.core.display.HTML object>"
      ]
     },
     "metadata": {},
     "output_type": "display_data"
    },
    {
     "data": {
      "text/html": [
       "Syncing run <strong><a href='https://wandb.ai/dwolffram-karlsruhe-institute-of-technology/ari-lightgbm/runs/dilcpr76' target=\"_blank\">silvery-sweep-26</a></strong> to <a href='https://wandb.ai/dwolffram-karlsruhe-institute-of-technology/ari-lightgbm' target=\"_blank\">Weights & Biases</a> (<a href='https://wandb.me/run' target=\"_blank\">docs</a>)<br/>Sweep page: <a href='https://wandb.ai/dwolffram-karlsruhe-institute-of-technology/ari-lightgbm/sweeps/me2h5ytc' target=\"_blank\">https://wandb.ai/dwolffram-karlsruhe-institute-of-technology/ari-lightgbm/sweeps/me2h5ytc</a>"
      ],
      "text/plain": [
       "<IPython.core.display.HTML object>"
      ]
     },
     "metadata": {},
     "output_type": "display_data"
    },
    {
     "data": {
      "text/html": [
       " View project at <a href='https://wandb.ai/dwolffram-karlsruhe-institute-of-technology/ari-lightgbm' target=\"_blank\">https://wandb.ai/dwolffram-karlsruhe-institute-of-technology/ari-lightgbm</a>"
      ],
      "text/plain": [
       "<IPython.core.display.HTML object>"
      ]
     },
     "metadata": {},
     "output_type": "display_data"
    },
    {
     "data": {
      "text/html": [
       " View sweep at <a href='https://wandb.ai/dwolffram-karlsruhe-institute-of-technology/ari-lightgbm/sweeps/me2h5ytc' target=\"_blank\">https://wandb.ai/dwolffram-karlsruhe-institute-of-technology/ari-lightgbm/sweeps/me2h5ytc</a>"
      ],
      "text/plain": [
       "<IPython.core.display.HTML object>"
      ]
     },
     "metadata": {},
     "output_type": "display_data"
    },
    {
     "data": {
      "text/html": [
       " View run at <a href='https://wandb.ai/dwolffram-karlsruhe-institute-of-technology/ari-lightgbm/runs/dilcpr76' target=\"_blank\">https://wandb.ai/dwolffram-karlsruhe-institute-of-technology/ari-lightgbm/runs/dilcpr76</a>"
      ],
      "text/plain": [
       "<IPython.core.display.HTML object>"
      ]
     },
     "metadata": {},
     "output_type": "display_data"
    },
    {
     "data": {
      "application/vnd.jupyter.widget-view+json": {
       "model_id": "418cb21a9ea04e1aaef3b8b93b8bac2a",
       "version_major": 2,
       "version_minor": 0
      },
      "text/plain": [
       "VBox(children=(Label(value='0.006 MB of 0.006 MB uploaded\\r'), FloatProgress(value=1.0, max=1.0)))"
      ]
     },
     "metadata": {},
     "output_type": "display_data"
    },
    {
     "data": {
      "text/html": [
       "<style>\n",
       "    table.wandb td:nth-child(1) { padding: 0 10px; text-align: left ; width: auto;} td:nth-child(2) {text-align: left ; width: 100%}\n",
       "    .wandb-row { display: flex; flex-direction: row; flex-wrap: wrap; justify-content: flex-start; width: 100% }\n",
       "    .wandb-col { display: flex; flex-direction: column; flex-basis: 100%; flex: 1; padding: 10px; }\n",
       "    </style>\n",
       "<div class=\"wandb-row\"><div class=\"wandb-col\"><h3>Run history:</h3><br/><table class=\"wandb\"><tr><td>WIS</td><td>▁</td></tr><tr><td>WIS_2022</td><td>▁</td></tr><tr><td>WIS_2022_1</td><td>▁</td></tr><tr><td>WIS_2022_2</td><td>▁</td></tr><tr><td>WIS_2022_3</td><td>▁</td></tr><tr><td>WIS_2023</td><td>▁</td></tr><tr><td>WIS_2023_1</td><td>▁</td></tr><tr><td>WIS_2023_2</td><td>▁</td></tr><tr><td>WIS_2023_3</td><td>▁</td></tr><tr><td>WIS_std</td><td>▁</td></tr><tr><td>WIS_std_2022</td><td>▁</td></tr><tr><td>WIS_std_2023</td><td>▁</td></tr></table><br/></div><div class=\"wandb-col\"><h3>Run summary:</h3><br/><table class=\"wandb\"><tr><td>WIS</td><td>258.09624</td></tr><tr><td>WIS_2022</td><td>334.31728</td></tr><tr><td>WIS_2022_1</td><td>334.61245</td></tr><tr><td>WIS_2022_2</td><td>333.65874</td></tr><tr><td>WIS_2022_3</td><td>334.68065</td></tr><tr><td>WIS_2023</td><td>181.87521</td></tr><tr><td>WIS_2023_1</td><td>181.799</td></tr><tr><td>WIS_2023_2</td><td>181.592</td></tr><tr><td>WIS_2023_3</td><td>182.23461</td></tr><tr><td>WIS_std</td><td>76.22199</td></tr><tr><td>WIS_std_2022</td><td>0.46649</td></tr><tr><td>WIS_std_2023</td><td>0.26782</td></tr></table><br/></div></div>"
      ],
      "text/plain": [
       "<IPython.core.display.HTML object>"
      ]
     },
     "metadata": {},
     "output_type": "display_data"
    },
    {
     "data": {
      "text/html": [
       " View run <strong style=\"color:#cdcd00\">silvery-sweep-26</strong> at: <a href='https://wandb.ai/dwolffram-karlsruhe-institute-of-technology/ari-lightgbm/runs/dilcpr76' target=\"_blank\">https://wandb.ai/dwolffram-karlsruhe-institute-of-technology/ari-lightgbm/runs/dilcpr76</a><br/> View project at: <a href='https://wandb.ai/dwolffram-karlsruhe-institute-of-technology/ari-lightgbm' target=\"_blank\">https://wandb.ai/dwolffram-karlsruhe-institute-of-technology/ari-lightgbm</a><br/>Synced 5 W&B file(s), 0 media file(s), 0 artifact file(s) and 0 other file(s)"
      ],
      "text/plain": [
       "<IPython.core.display.HTML object>"
      ]
     },
     "metadata": {},
     "output_type": "display_data"
    },
    {
     "data": {
      "text/html": [
       "Find logs at: <code>./wandb/run-20241031_204655-dilcpr76/logs</code>"
      ],
      "text/plain": [
       "<IPython.core.display.HTML object>"
      ]
     },
     "metadata": {},
     "output_type": "display_data"
    },
    {
     "data": {
      "text/html": [
       "There is a new version of wandb available. Please upgrade to wandb==0.18.5"
      ],
      "text/plain": [
       "<IPython.core.display.HTML object>"
      ]
     },
     "metadata": {},
     "output_type": "display_data"
    },
    {
     "name": "stderr",
     "output_type": "stream",
     "text": [
      "\u001b[34m\u001b[1mwandb\u001b[0m: Agent Starting Run: q3g0bvqf with config:\n",
      "\u001b[34m\u001b[1mwandb\u001b[0m: \tcolsample_bytree: 0.9\n",
      "\u001b[34m\u001b[1mwandb\u001b[0m: \tlags: 8\n",
      "\u001b[34m\u001b[1mwandb\u001b[0m: \tlags_future_covariates: [0, 1]\n",
      "\u001b[34m\u001b[1mwandb\u001b[0m: \tlags_past_covariates: 8\n",
      "\u001b[34m\u001b[1mwandb\u001b[0m: \tlearning_rate: 0.005\n",
      "\u001b[34m\u001b[1mwandb\u001b[0m: \tmax_bin: 510\n",
      "\u001b[34m\u001b[1mwandb\u001b[0m: \tmax_depth: 10\n",
      "\u001b[34m\u001b[1mwandb\u001b[0m: \tmin_child_samples: 10\n",
      "\u001b[34m\u001b[1mwandb\u001b[0m: \tmin_split_gain: 0.1\n",
      "\u001b[34m\u001b[1mwandb\u001b[0m: \tmodel: lightgbm\n",
      "\u001b[34m\u001b[1mwandb\u001b[0m: \tmultiple_series: False\n",
      "\u001b[34m\u001b[1mwandb\u001b[0m: \tn_estimators: 1000\n",
      "\u001b[34m\u001b[1mwandb\u001b[0m: \tnum_leaves: 31\n",
      "\u001b[34m\u001b[1mwandb\u001b[0m: \treg_alpha: 1\n",
      "\u001b[34m\u001b[1mwandb\u001b[0m: \treg_lambda: 1\n",
      "\u001b[34m\u001b[1mwandb\u001b[0m: \tsample_weight: linear\n",
      "\u001b[34m\u001b[1mwandb\u001b[0m: \tsubsample: 0.8\n",
      "\u001b[34m\u001b[1mwandb\u001b[0m: \tsubsample_freq: 0\n",
      "\u001b[34m\u001b[1mwandb\u001b[0m: \tuse_covariates: True\n",
      "\u001b[34m\u001b[1mwandb\u001b[0m: \tuse_encoders: True\n",
      "\u001b[34m\u001b[1mwandb\u001b[0m: \tuse_features: False\n",
      "\u001b[34m\u001b[1mwandb\u001b[0m: \tuse_static_covariates: False\n",
      "Failed to detect the name of this notebook, you can set it manually with the WANDB_NOTEBOOK_NAME environment variable to enable code saving.\n"
     ]
    },
    {
     "data": {
      "text/html": [
       "Tracking run with wandb version 0.18.0"
      ],
      "text/plain": [
       "<IPython.core.display.HTML object>"
      ]
     },
     "metadata": {},
     "output_type": "display_data"
    },
    {
     "data": {
      "text/html": [
       "Run data is saved locally in <code>/home/wolffram/SARI-ML/ARI/wandb/run-20241031_210201-q3g0bvqf</code>"
      ],
      "text/plain": [
       "<IPython.core.display.HTML object>"
      ]
     },
     "metadata": {},
     "output_type": "display_data"
    },
    {
     "data": {
      "text/html": [
       "Syncing run <strong><a href='https://wandb.ai/dwolffram-karlsruhe-institute-of-technology/ari-lightgbm/runs/q3g0bvqf' target=\"_blank\">likely-sweep-27</a></strong> to <a href='https://wandb.ai/dwolffram-karlsruhe-institute-of-technology/ari-lightgbm' target=\"_blank\">Weights & Biases</a> (<a href='https://wandb.me/run' target=\"_blank\">docs</a>)<br/>Sweep page: <a href='https://wandb.ai/dwolffram-karlsruhe-institute-of-technology/ari-lightgbm/sweeps/me2h5ytc' target=\"_blank\">https://wandb.ai/dwolffram-karlsruhe-institute-of-technology/ari-lightgbm/sweeps/me2h5ytc</a>"
      ],
      "text/plain": [
       "<IPython.core.display.HTML object>"
      ]
     },
     "metadata": {},
     "output_type": "display_data"
    },
    {
     "data": {
      "text/html": [
       " View project at <a href='https://wandb.ai/dwolffram-karlsruhe-institute-of-technology/ari-lightgbm' target=\"_blank\">https://wandb.ai/dwolffram-karlsruhe-institute-of-technology/ari-lightgbm</a>"
      ],
      "text/plain": [
       "<IPython.core.display.HTML object>"
      ]
     },
     "metadata": {},
     "output_type": "display_data"
    },
    {
     "data": {
      "text/html": [
       " View sweep at <a href='https://wandb.ai/dwolffram-karlsruhe-institute-of-technology/ari-lightgbm/sweeps/me2h5ytc' target=\"_blank\">https://wandb.ai/dwolffram-karlsruhe-institute-of-technology/ari-lightgbm/sweeps/me2h5ytc</a>"
      ],
      "text/plain": [
       "<IPython.core.display.HTML object>"
      ]
     },
     "metadata": {},
     "output_type": "display_data"
    },
    {
     "data": {
      "text/html": [
       " View run at <a href='https://wandb.ai/dwolffram-karlsruhe-institute-of-technology/ari-lightgbm/runs/q3g0bvqf' target=\"_blank\">https://wandb.ai/dwolffram-karlsruhe-institute-of-technology/ari-lightgbm/runs/q3g0bvqf</a>"
      ],
      "text/plain": [
       "<IPython.core.display.HTML object>"
      ]
     },
     "metadata": {},
     "output_type": "display_data"
    },
    {
     "data": {
      "application/vnd.jupyter.widget-view+json": {
       "model_id": "5cd9e4ff416842a39390e292df294d42",
       "version_major": 2,
       "version_minor": 0
      },
      "text/plain": [
       "VBox(children=(Label(value='0.006 MB of 0.006 MB uploaded\\r'), FloatProgress(value=1.0, max=1.0)))"
      ]
     },
     "metadata": {},
     "output_type": "display_data"
    },
    {
     "data": {
      "text/html": [
       "<style>\n",
       "    table.wandb td:nth-child(1) { padding: 0 10px; text-align: left ; width: auto;} td:nth-child(2) {text-align: left ; width: 100%}\n",
       "    .wandb-row { display: flex; flex-direction: row; flex-wrap: wrap; justify-content: flex-start; width: 100% }\n",
       "    .wandb-col { display: flex; flex-direction: column; flex-basis: 100%; flex: 1; padding: 10px; }\n",
       "    </style>\n",
       "<div class=\"wandb-row\"><div class=\"wandb-col\"><h3>Run history:</h3><br/><table class=\"wandb\"><tr><td>WIS</td><td>▁</td></tr><tr><td>WIS_2022</td><td>▁</td></tr><tr><td>WIS_2022_1</td><td>▁</td></tr><tr><td>WIS_2022_2</td><td>▁</td></tr><tr><td>WIS_2022_3</td><td>▁</td></tr><tr><td>WIS_2023</td><td>▁</td></tr><tr><td>WIS_2023_1</td><td>▁</td></tr><tr><td>WIS_2023_2</td><td>▁</td></tr><tr><td>WIS_2023_3</td><td>▁</td></tr><tr><td>WIS_std</td><td>▁</td></tr><tr><td>WIS_std_2022</td><td>▁</td></tr><tr><td>WIS_std_2023</td><td>▁</td></tr></table><br/></div><div class=\"wandb-col\"><h3>Run summary:</h3><br/><table class=\"wandb\"><tr><td>WIS</td><td>253.21323</td></tr><tr><td>WIS_2022</td><td>323.52041</td></tr><tr><td>WIS_2022_1</td><td>324.1417</td></tr><tr><td>WIS_2022_2</td><td>322.941</td></tr><tr><td>WIS_2022_3</td><td>323.47852</td></tr><tr><td>WIS_2023</td><td>182.90604</td></tr><tr><td>WIS_2023_1</td><td>183.02559</td></tr><tr><td>WIS_2023_2</td><td>183.14581</td></tr><tr><td>WIS_2023_3</td><td>182.54673</td></tr><tr><td>WIS_std</td><td>70.30828</td></tr><tr><td>WIS_std_2022</td><td>0.49108</td></tr><tr><td>WIS_std_2023</td><td>0.25877</td></tr></table><br/></div></div>"
      ],
      "text/plain": [
       "<IPython.core.display.HTML object>"
      ]
     },
     "metadata": {},
     "output_type": "display_data"
    },
    {
     "data": {
      "text/html": [
       " View run <strong style=\"color:#cdcd00\">likely-sweep-27</strong> at: <a href='https://wandb.ai/dwolffram-karlsruhe-institute-of-technology/ari-lightgbm/runs/q3g0bvqf' target=\"_blank\">https://wandb.ai/dwolffram-karlsruhe-institute-of-technology/ari-lightgbm/runs/q3g0bvqf</a><br/> View project at: <a href='https://wandb.ai/dwolffram-karlsruhe-institute-of-technology/ari-lightgbm' target=\"_blank\">https://wandb.ai/dwolffram-karlsruhe-institute-of-technology/ari-lightgbm</a><br/>Synced 5 W&B file(s), 0 media file(s), 0 artifact file(s) and 0 other file(s)"
      ],
      "text/plain": [
       "<IPython.core.display.HTML object>"
      ]
     },
     "metadata": {},
     "output_type": "display_data"
    },
    {
     "data": {
      "text/html": [
       "Find logs at: <code>./wandb/run-20241031_210201-q3g0bvqf/logs</code>"
      ],
      "text/plain": [
       "<IPython.core.display.HTML object>"
      ]
     },
     "metadata": {},
     "output_type": "display_data"
    },
    {
     "data": {
      "text/html": [
       "There is a new version of wandb available. Please upgrade to wandb==0.18.5"
      ],
      "text/plain": [
       "<IPython.core.display.HTML object>"
      ]
     },
     "metadata": {},
     "output_type": "display_data"
    },
    {
     "name": "stderr",
     "output_type": "stream",
     "text": [
      "\u001b[34m\u001b[1mwandb\u001b[0m: Agent Starting Run: kjjw7zqx with config:\n",
      "\u001b[34m\u001b[1mwandb\u001b[0m: \tcolsample_bytree: 0.9\n",
      "\u001b[34m\u001b[1mwandb\u001b[0m: \tlags: 8\n",
      "\u001b[34m\u001b[1mwandb\u001b[0m: \tlags_future_covariates: [0, 1]\n",
      "\u001b[34m\u001b[1mwandb\u001b[0m: \tlags_past_covariates: 8\n",
      "\u001b[34m\u001b[1mwandb\u001b[0m: \tlearning_rate: 0.005\n",
      "\u001b[34m\u001b[1mwandb\u001b[0m: \tmax_bin: 1024\n",
      "\u001b[34m\u001b[1mwandb\u001b[0m: \tmax_depth: -1\n",
      "\u001b[34m\u001b[1mwandb\u001b[0m: \tmin_child_samples: 20\n",
      "\u001b[34m\u001b[1mwandb\u001b[0m: \tmin_split_gain: 0\n",
      "\u001b[34m\u001b[1mwandb\u001b[0m: \tmodel: lightgbm\n",
      "\u001b[34m\u001b[1mwandb\u001b[0m: \tmultiple_series: False\n",
      "\u001b[34m\u001b[1mwandb\u001b[0m: \tn_estimators: 250\n",
      "\u001b[34m\u001b[1mwandb\u001b[0m: \tnum_leaves: 50\n",
      "\u001b[34m\u001b[1mwandb\u001b[0m: \treg_alpha: 0\n",
      "\u001b[34m\u001b[1mwandb\u001b[0m: \treg_lambda: 0\n",
      "\u001b[34m\u001b[1mwandb\u001b[0m: \tsample_weight: None\n",
      "\u001b[34m\u001b[1mwandb\u001b[0m: \tsubsample: 0.9\n",
      "\u001b[34m\u001b[1mwandb\u001b[0m: \tsubsample_freq: 1\n",
      "\u001b[34m\u001b[1mwandb\u001b[0m: \tuse_covariates: True\n",
      "\u001b[34m\u001b[1mwandb\u001b[0m: \tuse_encoders: True\n",
      "\u001b[34m\u001b[1mwandb\u001b[0m: \tuse_features: False\n",
      "\u001b[34m\u001b[1mwandb\u001b[0m: \tuse_static_covariates: False\n",
      "Failed to detect the name of this notebook, you can set it manually with the WANDB_NOTEBOOK_NAME environment variable to enable code saving.\n"
     ]
    },
    {
     "data": {
      "text/html": [
       "Tracking run with wandb version 0.18.0"
      ],
      "text/plain": [
       "<IPython.core.display.HTML object>"
      ]
     },
     "metadata": {},
     "output_type": "display_data"
    },
    {
     "data": {
      "text/html": [
       "Run data is saved locally in <code>/home/wolffram/SARI-ML/ARI/wandb/run-20241031_210929-kjjw7zqx</code>"
      ],
      "text/plain": [
       "<IPython.core.display.HTML object>"
      ]
     },
     "metadata": {},
     "output_type": "display_data"
    },
    {
     "data": {
      "text/html": [
       "Syncing run <strong><a href='https://wandb.ai/dwolffram-karlsruhe-institute-of-technology/ari-lightgbm/runs/kjjw7zqx' target=\"_blank\">curious-sweep-28</a></strong> to <a href='https://wandb.ai/dwolffram-karlsruhe-institute-of-technology/ari-lightgbm' target=\"_blank\">Weights & Biases</a> (<a href='https://wandb.me/run' target=\"_blank\">docs</a>)<br/>Sweep page: <a href='https://wandb.ai/dwolffram-karlsruhe-institute-of-technology/ari-lightgbm/sweeps/me2h5ytc' target=\"_blank\">https://wandb.ai/dwolffram-karlsruhe-institute-of-technology/ari-lightgbm/sweeps/me2h5ytc</a>"
      ],
      "text/plain": [
       "<IPython.core.display.HTML object>"
      ]
     },
     "metadata": {},
     "output_type": "display_data"
    },
    {
     "data": {
      "text/html": [
       " View project at <a href='https://wandb.ai/dwolffram-karlsruhe-institute-of-technology/ari-lightgbm' target=\"_blank\">https://wandb.ai/dwolffram-karlsruhe-institute-of-technology/ari-lightgbm</a>"
      ],
      "text/plain": [
       "<IPython.core.display.HTML object>"
      ]
     },
     "metadata": {},
     "output_type": "display_data"
    },
    {
     "data": {
      "text/html": [
       " View sweep at <a href='https://wandb.ai/dwolffram-karlsruhe-institute-of-technology/ari-lightgbm/sweeps/me2h5ytc' target=\"_blank\">https://wandb.ai/dwolffram-karlsruhe-institute-of-technology/ari-lightgbm/sweeps/me2h5ytc</a>"
      ],
      "text/plain": [
       "<IPython.core.display.HTML object>"
      ]
     },
     "metadata": {},
     "output_type": "display_data"
    },
    {
     "data": {
      "text/html": [
       " View run at <a href='https://wandb.ai/dwolffram-karlsruhe-institute-of-technology/ari-lightgbm/runs/kjjw7zqx' target=\"_blank\">https://wandb.ai/dwolffram-karlsruhe-institute-of-technology/ari-lightgbm/runs/kjjw7zqx</a>"
      ],
      "text/plain": [
       "<IPython.core.display.HTML object>"
      ]
     },
     "metadata": {},
     "output_type": "display_data"
    },
    {
     "data": {
      "application/vnd.jupyter.widget-view+json": {
       "model_id": "4b839abb75d24e7ebcbc2fe8ea365d17",
       "version_major": 2,
       "version_minor": 0
      },
      "text/plain": [
       "VBox(children=(Label(value='0.006 MB of 0.006 MB uploaded\\r'), FloatProgress(value=1.0, max=1.0)))"
      ]
     },
     "metadata": {},
     "output_type": "display_data"
    },
    {
     "data": {
      "text/html": [
       "<style>\n",
       "    table.wandb td:nth-child(1) { padding: 0 10px; text-align: left ; width: auto;} td:nth-child(2) {text-align: left ; width: 100%}\n",
       "    .wandb-row { display: flex; flex-direction: row; flex-wrap: wrap; justify-content: flex-start; width: 100% }\n",
       "    .wandb-col { display: flex; flex-direction: column; flex-basis: 100%; flex: 1; padding: 10px; }\n",
       "    </style>\n",
       "<div class=\"wandb-row\"><div class=\"wandb-col\"><h3>Run history:</h3><br/><table class=\"wandb\"><tr><td>WIS</td><td>▁</td></tr><tr><td>WIS_2022</td><td>▁</td></tr><tr><td>WIS_2022_1</td><td>▁</td></tr><tr><td>WIS_2022_2</td><td>▁</td></tr><tr><td>WIS_2022_3</td><td>▁</td></tr><tr><td>WIS_2023</td><td>▁</td></tr><tr><td>WIS_2023_1</td><td>▁</td></tr><tr><td>WIS_2023_2</td><td>▁</td></tr><tr><td>WIS_2023_3</td><td>▁</td></tr><tr><td>WIS_std</td><td>▁</td></tr><tr><td>WIS_std_2022</td><td>▁</td></tr><tr><td>WIS_std_2023</td><td>▁</td></tr></table><br/></div><div class=\"wandb-col\"><h3>Run summary:</h3><br/><table class=\"wandb\"><tr><td>WIS</td><td>290.95126</td></tr><tr><td>WIS_2022</td><td>356.00288</td></tr><tr><td>WIS_2022_1</td><td>356.00759</td></tr><tr><td>WIS_2022_2</td><td>356.22565</td></tr><tr><td>WIS_2022_3</td><td>355.77538</td></tr><tr><td>WIS_2023</td><td>225.89965</td></tr><tr><td>WIS_2023_1</td><td>226.23433</td></tr><tr><td>WIS_2023_2</td><td>226.02332</td></tr><tr><td>WIS_2023_3</td><td>225.4413</td></tr><tr><td>WIS_std</td><td>65.05218</td></tr><tr><td>WIS_std_2022</td><td>0.18385</td></tr><tr><td>WIS_std_2023</td><td>0.33536</td></tr></table><br/></div></div>"
      ],
      "text/plain": [
       "<IPython.core.display.HTML object>"
      ]
     },
     "metadata": {},
     "output_type": "display_data"
    },
    {
     "data": {
      "text/html": [
       " View run <strong style=\"color:#cdcd00\">curious-sweep-28</strong> at: <a href='https://wandb.ai/dwolffram-karlsruhe-institute-of-technology/ari-lightgbm/runs/kjjw7zqx' target=\"_blank\">https://wandb.ai/dwolffram-karlsruhe-institute-of-technology/ari-lightgbm/runs/kjjw7zqx</a><br/> View project at: <a href='https://wandb.ai/dwolffram-karlsruhe-institute-of-technology/ari-lightgbm' target=\"_blank\">https://wandb.ai/dwolffram-karlsruhe-institute-of-technology/ari-lightgbm</a><br/>Synced 5 W&B file(s), 0 media file(s), 0 artifact file(s) and 0 other file(s)"
      ],
      "text/plain": [
       "<IPython.core.display.HTML object>"
      ]
     },
     "metadata": {},
     "output_type": "display_data"
    },
    {
     "data": {
      "text/html": [
       "Find logs at: <code>./wandb/run-20241031_210929-kjjw7zqx/logs</code>"
      ],
      "text/plain": [
       "<IPython.core.display.HTML object>"
      ]
     },
     "metadata": {},
     "output_type": "display_data"
    },
    {
     "data": {
      "text/html": [
       "There is a new version of wandb available. Please upgrade to wandb==0.18.5"
      ],
      "text/plain": [
       "<IPython.core.display.HTML object>"
      ]
     },
     "metadata": {},
     "output_type": "display_data"
    },
    {
     "name": "stderr",
     "output_type": "stream",
     "text": [
      "\u001b[34m\u001b[1mwandb\u001b[0m: Agent Starting Run: xrmj78nw with config:\n",
      "\u001b[34m\u001b[1mwandb\u001b[0m: \tcolsample_bytree: 0.9\n",
      "\u001b[34m\u001b[1mwandb\u001b[0m: \tlags: 8\n",
      "\u001b[34m\u001b[1mwandb\u001b[0m: \tlags_future_covariates: [0, 1]\n",
      "\u001b[34m\u001b[1mwandb\u001b[0m: \tlags_past_covariates: 8\n",
      "\u001b[34m\u001b[1mwandb\u001b[0m: \tlearning_rate: 0.005\n",
      "\u001b[34m\u001b[1mwandb\u001b[0m: \tmax_bin: 510\n",
      "\u001b[34m\u001b[1mwandb\u001b[0m: \tmax_depth: 5\n",
      "\u001b[34m\u001b[1mwandb\u001b[0m: \tmin_child_samples: 10\n",
      "\u001b[34m\u001b[1mwandb\u001b[0m: \tmin_split_gain: 0.1\n",
      "\u001b[34m\u001b[1mwandb\u001b[0m: \tmodel: lightgbm\n",
      "\u001b[34m\u001b[1mwandb\u001b[0m: \tmultiple_series: False\n",
      "\u001b[34m\u001b[1mwandb\u001b[0m: \tn_estimators: 250\n",
      "\u001b[34m\u001b[1mwandb\u001b[0m: \tnum_leaves: 10\n",
      "\u001b[34m\u001b[1mwandb\u001b[0m: \treg_alpha: 0.25\n",
      "\u001b[34m\u001b[1mwandb\u001b[0m: \treg_lambda: 0.5\n",
      "\u001b[34m\u001b[1mwandb\u001b[0m: \tsample_weight: linear\n",
      "\u001b[34m\u001b[1mwandb\u001b[0m: \tsubsample: 1\n",
      "\u001b[34m\u001b[1mwandb\u001b[0m: \tsubsample_freq: 5\n",
      "\u001b[34m\u001b[1mwandb\u001b[0m: \tuse_covariates: False\n",
      "\u001b[34m\u001b[1mwandb\u001b[0m: \tuse_encoders: True\n",
      "\u001b[34m\u001b[1mwandb\u001b[0m: \tuse_features: False\n",
      "\u001b[34m\u001b[1mwandb\u001b[0m: \tuse_static_covariates: False\n",
      "Failed to detect the name of this notebook, you can set it manually with the WANDB_NOTEBOOK_NAME environment variable to enable code saving.\n"
     ]
    },
    {
     "data": {
      "text/html": [
       "Tracking run with wandb version 0.18.0"
      ],
      "text/plain": [
       "<IPython.core.display.HTML object>"
      ]
     },
     "metadata": {},
     "output_type": "display_data"
    },
    {
     "data": {
      "text/html": [
       "Run data is saved locally in <code>/home/wolffram/SARI-ML/ARI/wandb/run-20241031_211128-xrmj78nw</code>"
      ],
      "text/plain": [
       "<IPython.core.display.HTML object>"
      ]
     },
     "metadata": {},
     "output_type": "display_data"
    },
    {
     "data": {
      "text/html": [
       "Syncing run <strong><a href='https://wandb.ai/dwolffram-karlsruhe-institute-of-technology/ari-lightgbm/runs/xrmj78nw' target=\"_blank\">fallen-sweep-29</a></strong> to <a href='https://wandb.ai/dwolffram-karlsruhe-institute-of-technology/ari-lightgbm' target=\"_blank\">Weights & Biases</a> (<a href='https://wandb.me/run' target=\"_blank\">docs</a>)<br/>Sweep page: <a href='https://wandb.ai/dwolffram-karlsruhe-institute-of-technology/ari-lightgbm/sweeps/me2h5ytc' target=\"_blank\">https://wandb.ai/dwolffram-karlsruhe-institute-of-technology/ari-lightgbm/sweeps/me2h5ytc</a>"
      ],
      "text/plain": [
       "<IPython.core.display.HTML object>"
      ]
     },
     "metadata": {},
     "output_type": "display_data"
    },
    {
     "data": {
      "text/html": [
       " View project at <a href='https://wandb.ai/dwolffram-karlsruhe-institute-of-technology/ari-lightgbm' target=\"_blank\">https://wandb.ai/dwolffram-karlsruhe-institute-of-technology/ari-lightgbm</a>"
      ],
      "text/plain": [
       "<IPython.core.display.HTML object>"
      ]
     },
     "metadata": {},
     "output_type": "display_data"
    },
    {
     "data": {
      "text/html": [
       " View sweep at <a href='https://wandb.ai/dwolffram-karlsruhe-institute-of-technology/ari-lightgbm/sweeps/me2h5ytc' target=\"_blank\">https://wandb.ai/dwolffram-karlsruhe-institute-of-technology/ari-lightgbm/sweeps/me2h5ytc</a>"
      ],
      "text/plain": [
       "<IPython.core.display.HTML object>"
      ]
     },
     "metadata": {},
     "output_type": "display_data"
    },
    {
     "data": {
      "text/html": [
       " View run at <a href='https://wandb.ai/dwolffram-karlsruhe-institute-of-technology/ari-lightgbm/runs/xrmj78nw' target=\"_blank\">https://wandb.ai/dwolffram-karlsruhe-institute-of-technology/ari-lightgbm/runs/xrmj78nw</a>"
      ],
      "text/plain": [
       "<IPython.core.display.HTML object>"
      ]
     },
     "metadata": {},
     "output_type": "display_data"
    },
    {
     "data": {
      "application/vnd.jupyter.widget-view+json": {
       "model_id": "39151a34ebd44a44915a147939818953",
       "version_major": 2,
       "version_minor": 0
      },
      "text/plain": [
       "VBox(children=(Label(value='0.006 MB of 0.006 MB uploaded\\r'), FloatProgress(value=1.0, max=1.0)))"
      ]
     },
     "metadata": {},
     "output_type": "display_data"
    },
    {
     "data": {
      "text/html": [
       "<style>\n",
       "    table.wandb td:nth-child(1) { padding: 0 10px; text-align: left ; width: auto;} td:nth-child(2) {text-align: left ; width: 100%}\n",
       "    .wandb-row { display: flex; flex-direction: row; flex-wrap: wrap; justify-content: flex-start; width: 100% }\n",
       "    .wandb-col { display: flex; flex-direction: column; flex-basis: 100%; flex: 1; padding: 10px; }\n",
       "    </style>\n",
       "<div class=\"wandb-row\"><div class=\"wandb-col\"><h3>Run history:</h3><br/><table class=\"wandb\"><tr><td>WIS</td><td>▁</td></tr><tr><td>WIS_2022</td><td>▁</td></tr><tr><td>WIS_2022_1</td><td>▁</td></tr><tr><td>WIS_2022_2</td><td>▁</td></tr><tr><td>WIS_2022_3</td><td>▁</td></tr><tr><td>WIS_2023</td><td>▁</td></tr><tr><td>WIS_2023_1</td><td>▁</td></tr><tr><td>WIS_2023_2</td><td>▁</td></tr><tr><td>WIS_2023_3</td><td>▁</td></tr><tr><td>WIS_std</td><td>▁</td></tr><tr><td>WIS_std_2022</td><td>▁</td></tr><tr><td>WIS_std_2023</td><td>▁</td></tr></table><br/></div><div class=\"wandb-col\"><h3>Run summary:</h3><br/><table class=\"wandb\"><tr><td>WIS</td><td>289.96506</td></tr><tr><td>WIS_2022</td><td>361.3487</td></tr><tr><td>WIS_2022_1</td><td>361.44188</td></tr><tr><td>WIS_2022_2</td><td>360.73977</td></tr><tr><td>WIS_2022_3</td><td>361.86443</td></tr><tr><td>WIS_2023</td><td>218.58143</td></tr><tr><td>WIS_2023_1</td><td>218.84082</td></tr><tr><td>WIS_2023_2</td><td>218.35514</td></tr><tr><td>WIS_2023_3</td><td>218.54832</td></tr><tr><td>WIS_std</td><td>71.38453</td></tr><tr><td>WIS_std_2022</td><td>0.46384</td></tr><tr><td>WIS_std_2023</td><td>0.19966</td></tr></table><br/></div></div>"
      ],
      "text/plain": [
       "<IPython.core.display.HTML object>"
      ]
     },
     "metadata": {},
     "output_type": "display_data"
    },
    {
     "data": {
      "text/html": [
       " View run <strong style=\"color:#cdcd00\">fallen-sweep-29</strong> at: <a href='https://wandb.ai/dwolffram-karlsruhe-institute-of-technology/ari-lightgbm/runs/xrmj78nw' target=\"_blank\">https://wandb.ai/dwolffram-karlsruhe-institute-of-technology/ari-lightgbm/runs/xrmj78nw</a><br/> View project at: <a href='https://wandb.ai/dwolffram-karlsruhe-institute-of-technology/ari-lightgbm' target=\"_blank\">https://wandb.ai/dwolffram-karlsruhe-institute-of-technology/ari-lightgbm</a><br/>Synced 5 W&B file(s), 0 media file(s), 0 artifact file(s) and 0 other file(s)"
      ],
      "text/plain": [
       "<IPython.core.display.HTML object>"
      ]
     },
     "metadata": {},
     "output_type": "display_data"
    },
    {
     "data": {
      "text/html": [
       "Find logs at: <code>./wandb/run-20241031_211128-xrmj78nw/logs</code>"
      ],
      "text/plain": [
       "<IPython.core.display.HTML object>"
      ]
     },
     "metadata": {},
     "output_type": "display_data"
    },
    {
     "data": {
      "text/html": [
       "There is a new version of wandb available. Please upgrade to wandb==0.18.5"
      ],
      "text/plain": [
       "<IPython.core.display.HTML object>"
      ]
     },
     "metadata": {},
     "output_type": "display_data"
    },
    {
     "name": "stderr",
     "output_type": "stream",
     "text": [
      "\u001b[34m\u001b[1mwandb\u001b[0m: Sweep Agent: Waiting for job.\n",
      "\u001b[34m\u001b[1mwandb\u001b[0m: Job received.\n",
      "\u001b[34m\u001b[1mwandb\u001b[0m: Agent Starting Run: sbpoeagk with config:\n",
      "\u001b[34m\u001b[1mwandb\u001b[0m: \tcolsample_bytree: 0.9\n",
      "\u001b[34m\u001b[1mwandb\u001b[0m: \tlags: 8\n",
      "\u001b[34m\u001b[1mwandb\u001b[0m: \tlags_future_covariates: [0, 1]\n",
      "\u001b[34m\u001b[1mwandb\u001b[0m: \tlags_past_covariates: 8\n",
      "\u001b[34m\u001b[1mwandb\u001b[0m: \tlearning_rate: 0.1\n",
      "\u001b[34m\u001b[1mwandb\u001b[0m: \tmax_bin: 510\n",
      "\u001b[34m\u001b[1mwandb\u001b[0m: \tmax_depth: 15\n",
      "\u001b[34m\u001b[1mwandb\u001b[0m: \tmin_child_samples: 20\n",
      "\u001b[34m\u001b[1mwandb\u001b[0m: \tmin_split_gain: 0.1\n",
      "\u001b[34m\u001b[1mwandb\u001b[0m: \tmodel: lightgbm\n",
      "\u001b[34m\u001b[1mwandb\u001b[0m: \tmultiple_series: False\n",
      "\u001b[34m\u001b[1mwandb\u001b[0m: \tn_estimators: 250\n",
      "\u001b[34m\u001b[1mwandb\u001b[0m: \tnum_leaves: 50\n",
      "\u001b[34m\u001b[1mwandb\u001b[0m: \treg_alpha: 0\n",
      "\u001b[34m\u001b[1mwandb\u001b[0m: \treg_lambda: 1\n",
      "\u001b[34m\u001b[1mwandb\u001b[0m: \tsample_weight: None\n",
      "\u001b[34m\u001b[1mwandb\u001b[0m: \tsubsample: 1\n",
      "\u001b[34m\u001b[1mwandb\u001b[0m: \tsubsample_freq: 5\n",
      "\u001b[34m\u001b[1mwandb\u001b[0m: \tuse_covariates: True\n",
      "\u001b[34m\u001b[1mwandb\u001b[0m: \tuse_encoders: True\n",
      "\u001b[34m\u001b[1mwandb\u001b[0m: \tuse_features: False\n",
      "\u001b[34m\u001b[1mwandb\u001b[0m: \tuse_static_covariates: False\n",
      "Failed to detect the name of this notebook, you can set it manually with the WANDB_NOTEBOOK_NAME environment variable to enable code saving.\n"
     ]
    },
    {
     "data": {
      "text/html": [
       "Tracking run with wandb version 0.18.0"
      ],
      "text/plain": [
       "<IPython.core.display.HTML object>"
      ]
     },
     "metadata": {},
     "output_type": "display_data"
    },
    {
     "data": {
      "text/html": [
       "Run data is saved locally in <code>/home/wolffram/SARI-ML/ARI/wandb/run-20241031_211321-sbpoeagk</code>"
      ],
      "text/plain": [
       "<IPython.core.display.HTML object>"
      ]
     },
     "metadata": {},
     "output_type": "display_data"
    },
    {
     "data": {
      "text/html": [
       "Syncing run <strong><a href='https://wandb.ai/dwolffram-karlsruhe-institute-of-technology/ari-lightgbm/runs/sbpoeagk' target=\"_blank\">trim-sweep-30</a></strong> to <a href='https://wandb.ai/dwolffram-karlsruhe-institute-of-technology/ari-lightgbm' target=\"_blank\">Weights & Biases</a> (<a href='https://wandb.me/run' target=\"_blank\">docs</a>)<br/>Sweep page: <a href='https://wandb.ai/dwolffram-karlsruhe-institute-of-technology/ari-lightgbm/sweeps/me2h5ytc' target=\"_blank\">https://wandb.ai/dwolffram-karlsruhe-institute-of-technology/ari-lightgbm/sweeps/me2h5ytc</a>"
      ],
      "text/plain": [
       "<IPython.core.display.HTML object>"
      ]
     },
     "metadata": {},
     "output_type": "display_data"
    },
    {
     "data": {
      "text/html": [
       " View project at <a href='https://wandb.ai/dwolffram-karlsruhe-institute-of-technology/ari-lightgbm' target=\"_blank\">https://wandb.ai/dwolffram-karlsruhe-institute-of-technology/ari-lightgbm</a>"
      ],
      "text/plain": [
       "<IPython.core.display.HTML object>"
      ]
     },
     "metadata": {},
     "output_type": "display_data"
    },
    {
     "data": {
      "text/html": [
       " View sweep at <a href='https://wandb.ai/dwolffram-karlsruhe-institute-of-technology/ari-lightgbm/sweeps/me2h5ytc' target=\"_blank\">https://wandb.ai/dwolffram-karlsruhe-institute-of-technology/ari-lightgbm/sweeps/me2h5ytc</a>"
      ],
      "text/plain": [
       "<IPython.core.display.HTML object>"
      ]
     },
     "metadata": {},
     "output_type": "display_data"
    },
    {
     "data": {
      "text/html": [
       " View run at <a href='https://wandb.ai/dwolffram-karlsruhe-institute-of-technology/ari-lightgbm/runs/sbpoeagk' target=\"_blank\">https://wandb.ai/dwolffram-karlsruhe-institute-of-technology/ari-lightgbm/runs/sbpoeagk</a>"
      ],
      "text/plain": [
       "<IPython.core.display.HTML object>"
      ]
     },
     "metadata": {},
     "output_type": "display_data"
    },
    {
     "data": {
      "application/vnd.jupyter.widget-view+json": {
       "model_id": "4125d7bdee78411c948dd0b0a317e672",
       "version_major": 2,
       "version_minor": 0
      },
      "text/plain": [
       "VBox(children=(Label(value='0.006 MB of 0.006 MB uploaded\\r'), FloatProgress(value=1.0, max=1.0)))"
      ]
     },
     "metadata": {},
     "output_type": "display_data"
    },
    {
     "data": {
      "text/html": [
       "<style>\n",
       "    table.wandb td:nth-child(1) { padding: 0 10px; text-align: left ; width: auto;} td:nth-child(2) {text-align: left ; width: 100%}\n",
       "    .wandb-row { display: flex; flex-direction: row; flex-wrap: wrap; justify-content: flex-start; width: 100% }\n",
       "    .wandb-col { display: flex; flex-direction: column; flex-basis: 100%; flex: 1; padding: 10px; }\n",
       "    </style>\n",
       "<div class=\"wandb-row\"><div class=\"wandb-col\"><h3>Run history:</h3><br/><table class=\"wandb\"><tr><td>WIS</td><td>▁</td></tr><tr><td>WIS_2022</td><td>▁</td></tr><tr><td>WIS_2022_1</td><td>▁</td></tr><tr><td>WIS_2022_2</td><td>▁</td></tr><tr><td>WIS_2022_3</td><td>▁</td></tr><tr><td>WIS_2023</td><td>▁</td></tr><tr><td>WIS_2023_1</td><td>▁</td></tr><tr><td>WIS_2023_2</td><td>▁</td></tr><tr><td>WIS_2023_3</td><td>▁</td></tr><tr><td>WIS_std</td><td>▁</td></tr><tr><td>WIS_std_2022</td><td>▁</td></tr><tr><td>WIS_std_2023</td><td>▁</td></tr></table><br/></div><div class=\"wandb-col\"><h3>Run summary:</h3><br/><table class=\"wandb\"><tr><td>WIS</td><td>251.81114</td></tr><tr><td>WIS_2022</td><td>319.81678</td></tr><tr><td>WIS_2022_1</td><td>319.63944</td></tr><tr><td>WIS_2022_2</td><td>319.86797</td></tr><tr><td>WIS_2022_3</td><td>319.94292</td></tr><tr><td>WIS_2023</td><td>183.8055</td></tr><tr><td>WIS_2023_1</td><td>183.61212</td></tr><tr><td>WIS_2023_2</td><td>183.87606</td></tr><tr><td>WIS_2023_3</td><td>183.92831</td></tr><tr><td>WIS_std</td><td>68.00577</td></tr><tr><td>WIS_std_2022</td><td>0.12908</td></tr><tr><td>WIS_std_2023</td><td>0.13839</td></tr></table><br/></div></div>"
      ],
      "text/plain": [
       "<IPython.core.display.HTML object>"
      ]
     },
     "metadata": {},
     "output_type": "display_data"
    },
    {
     "data": {
      "text/html": [
       " View run <strong style=\"color:#cdcd00\">trim-sweep-30</strong> at: <a href='https://wandb.ai/dwolffram-karlsruhe-institute-of-technology/ari-lightgbm/runs/sbpoeagk' target=\"_blank\">https://wandb.ai/dwolffram-karlsruhe-institute-of-technology/ari-lightgbm/runs/sbpoeagk</a><br/> View project at: <a href='https://wandb.ai/dwolffram-karlsruhe-institute-of-technology/ari-lightgbm' target=\"_blank\">https://wandb.ai/dwolffram-karlsruhe-institute-of-technology/ari-lightgbm</a><br/>Synced 5 W&B file(s), 0 media file(s), 0 artifact file(s) and 0 other file(s)"
      ],
      "text/plain": [
       "<IPython.core.display.HTML object>"
      ]
     },
     "metadata": {},
     "output_type": "display_data"
    },
    {
     "data": {
      "text/html": [
       "Find logs at: <code>./wandb/run-20241031_211321-sbpoeagk/logs</code>"
      ],
      "text/plain": [
       "<IPython.core.display.HTML object>"
      ]
     },
     "metadata": {},
     "output_type": "display_data"
    },
    {
     "data": {
      "text/html": [
       "There is a new version of wandb available. Please upgrade to wandb==0.18.5"
      ],
      "text/plain": [
       "<IPython.core.display.HTML object>"
      ]
     },
     "metadata": {},
     "output_type": "display_data"
    },
    {
     "name": "stderr",
     "output_type": "stream",
     "text": [
      "\u001b[34m\u001b[1mwandb\u001b[0m: Agent Starting Run: w8gfu868 with config:\n",
      "\u001b[34m\u001b[1mwandb\u001b[0m: \tcolsample_bytree: 0.9\n",
      "\u001b[34m\u001b[1mwandb\u001b[0m: \tlags: 8\n",
      "\u001b[34m\u001b[1mwandb\u001b[0m: \tlags_future_covariates: [0, 1]\n",
      "\u001b[34m\u001b[1mwandb\u001b[0m: \tlags_past_covariates: 8\n",
      "\u001b[34m\u001b[1mwandb\u001b[0m: \tlearning_rate: 0.2\n",
      "\u001b[34m\u001b[1mwandb\u001b[0m: \tmax_bin: 1024\n",
      "\u001b[34m\u001b[1mwandb\u001b[0m: \tmax_depth: 5\n",
      "\u001b[34m\u001b[1mwandb\u001b[0m: \tmin_child_samples: 30\n",
      "\u001b[34m\u001b[1mwandb\u001b[0m: \tmin_split_gain: 0.2\n",
      "\u001b[34m\u001b[1mwandb\u001b[0m: \tmodel: lightgbm\n",
      "\u001b[34m\u001b[1mwandb\u001b[0m: \tmultiple_series: False\n",
      "\u001b[34m\u001b[1mwandb\u001b[0m: \tn_estimators: 250\n",
      "\u001b[34m\u001b[1mwandb\u001b[0m: \tnum_leaves: 40\n",
      "\u001b[34m\u001b[1mwandb\u001b[0m: \treg_alpha: 0.5\n",
      "\u001b[34m\u001b[1mwandb\u001b[0m: \treg_lambda: 5\n",
      "\u001b[34m\u001b[1mwandb\u001b[0m: \tsample_weight: None\n",
      "\u001b[34m\u001b[1mwandb\u001b[0m: \tsubsample: 0.8\n",
      "\u001b[34m\u001b[1mwandb\u001b[0m: \tsubsample_freq: 0\n",
      "\u001b[34m\u001b[1mwandb\u001b[0m: \tuse_covariates: True\n",
      "\u001b[34m\u001b[1mwandb\u001b[0m: \tuse_encoders: True\n",
      "\u001b[34m\u001b[1mwandb\u001b[0m: \tuse_features: False\n",
      "\u001b[34m\u001b[1mwandb\u001b[0m: \tuse_static_covariates: False\n",
      "Failed to detect the name of this notebook, you can set it manually with the WANDB_NOTEBOOK_NAME environment variable to enable code saving.\n"
     ]
    },
    {
     "data": {
      "text/html": [
       "Tracking run with wandb version 0.18.0"
      ],
      "text/plain": [
       "<IPython.core.display.HTML object>"
      ]
     },
     "metadata": {},
     "output_type": "display_data"
    },
    {
     "data": {
      "text/html": [
       "Run data is saved locally in <code>/home/wolffram/SARI-ML/ARI/wandb/run-20241031_211525-w8gfu868</code>"
      ],
      "text/plain": [
       "<IPython.core.display.HTML object>"
      ]
     },
     "metadata": {},
     "output_type": "display_data"
    },
    {
     "data": {
      "text/html": [
       "Syncing run <strong><a href='https://wandb.ai/dwolffram-karlsruhe-institute-of-technology/ari-lightgbm/runs/w8gfu868' target=\"_blank\">fearless-sweep-31</a></strong> to <a href='https://wandb.ai/dwolffram-karlsruhe-institute-of-technology/ari-lightgbm' target=\"_blank\">Weights & Biases</a> (<a href='https://wandb.me/run' target=\"_blank\">docs</a>)<br/>Sweep page: <a href='https://wandb.ai/dwolffram-karlsruhe-institute-of-technology/ari-lightgbm/sweeps/me2h5ytc' target=\"_blank\">https://wandb.ai/dwolffram-karlsruhe-institute-of-technology/ari-lightgbm/sweeps/me2h5ytc</a>"
      ],
      "text/plain": [
       "<IPython.core.display.HTML object>"
      ]
     },
     "metadata": {},
     "output_type": "display_data"
    },
    {
     "data": {
      "text/html": [
       " View project at <a href='https://wandb.ai/dwolffram-karlsruhe-institute-of-technology/ari-lightgbm' target=\"_blank\">https://wandb.ai/dwolffram-karlsruhe-institute-of-technology/ari-lightgbm</a>"
      ],
      "text/plain": [
       "<IPython.core.display.HTML object>"
      ]
     },
     "metadata": {},
     "output_type": "display_data"
    },
    {
     "data": {
      "text/html": [
       " View sweep at <a href='https://wandb.ai/dwolffram-karlsruhe-institute-of-technology/ari-lightgbm/sweeps/me2h5ytc' target=\"_blank\">https://wandb.ai/dwolffram-karlsruhe-institute-of-technology/ari-lightgbm/sweeps/me2h5ytc</a>"
      ],
      "text/plain": [
       "<IPython.core.display.HTML object>"
      ]
     },
     "metadata": {},
     "output_type": "display_data"
    },
    {
     "data": {
      "text/html": [
       " View run at <a href='https://wandb.ai/dwolffram-karlsruhe-institute-of-technology/ari-lightgbm/runs/w8gfu868' target=\"_blank\">https://wandb.ai/dwolffram-karlsruhe-institute-of-technology/ari-lightgbm/runs/w8gfu868</a>"
      ],
      "text/plain": [
       "<IPython.core.display.HTML object>"
      ]
     },
     "metadata": {},
     "output_type": "display_data"
    },
    {
     "data": {
      "application/vnd.jupyter.widget-view+json": {
       "model_id": "322d42ac770645a6b1580b137adab83d",
       "version_major": 2,
       "version_minor": 0
      },
      "text/plain": [
       "VBox(children=(Label(value='0.006 MB of 0.006 MB uploaded\\r'), FloatProgress(value=1.0, max=1.0)))"
      ]
     },
     "metadata": {},
     "output_type": "display_data"
    },
    {
     "data": {
      "text/html": [
       "<style>\n",
       "    table.wandb td:nth-child(1) { padding: 0 10px; text-align: left ; width: auto;} td:nth-child(2) {text-align: left ; width: 100%}\n",
       "    .wandb-row { display: flex; flex-direction: row; flex-wrap: wrap; justify-content: flex-start; width: 100% }\n",
       "    .wandb-col { display: flex; flex-direction: column; flex-basis: 100%; flex: 1; padding: 10px; }\n",
       "    </style>\n",
       "<div class=\"wandb-row\"><div class=\"wandb-col\"><h3>Run history:</h3><br/><table class=\"wandb\"><tr><td>WIS</td><td>▁</td></tr><tr><td>WIS_2022</td><td>▁</td></tr><tr><td>WIS_2022_1</td><td>▁</td></tr><tr><td>WIS_2022_2</td><td>▁</td></tr><tr><td>WIS_2022_3</td><td>▁</td></tr><tr><td>WIS_2023</td><td>▁</td></tr><tr><td>WIS_2023_1</td><td>▁</td></tr><tr><td>WIS_2023_2</td><td>▁</td></tr><tr><td>WIS_2023_3</td><td>▁</td></tr><tr><td>WIS_std</td><td>▁</td></tr><tr><td>WIS_std_2022</td><td>▁</td></tr><tr><td>WIS_std_2023</td><td>▁</td></tr></table><br/></div><div class=\"wandb-col\"><h3>Run summary:</h3><br/><table class=\"wandb\"><tr><td>WIS</td><td>248.9597</td></tr><tr><td>WIS_2022</td><td>317.53867</td></tr><tr><td>WIS_2022_1</td><td>318.02612</td></tr><tr><td>WIS_2022_2</td><td>317.71147</td></tr><tr><td>WIS_2022_3</td><td>316.87842</td></tr><tr><td>WIS_2023</td><td>180.38073</td></tr><tr><td>WIS_2023_1</td><td>180.94357</td></tr><tr><td>WIS_2023_2</td><td>179.85395</td></tr><tr><td>WIS_2023_3</td><td>180.34466</td></tr><tr><td>WIS_std</td><td>68.58055</td></tr><tr><td>WIS_std_2022</td><td>0.48421</td></tr><tr><td>WIS_std_2023</td><td>0.44556</td></tr></table><br/></div></div>"
      ],
      "text/plain": [
       "<IPython.core.display.HTML object>"
      ]
     },
     "metadata": {},
     "output_type": "display_data"
    },
    {
     "data": {
      "text/html": [
       " View run <strong style=\"color:#cdcd00\">fearless-sweep-31</strong> at: <a href='https://wandb.ai/dwolffram-karlsruhe-institute-of-technology/ari-lightgbm/runs/w8gfu868' target=\"_blank\">https://wandb.ai/dwolffram-karlsruhe-institute-of-technology/ari-lightgbm/runs/w8gfu868</a><br/> View project at: <a href='https://wandb.ai/dwolffram-karlsruhe-institute-of-technology/ari-lightgbm' target=\"_blank\">https://wandb.ai/dwolffram-karlsruhe-institute-of-technology/ari-lightgbm</a><br/>Synced 5 W&B file(s), 0 media file(s), 0 artifact file(s) and 0 other file(s)"
      ],
      "text/plain": [
       "<IPython.core.display.HTML object>"
      ]
     },
     "metadata": {},
     "output_type": "display_data"
    },
    {
     "data": {
      "text/html": [
       "Find logs at: <code>./wandb/run-20241031_211525-w8gfu868/logs</code>"
      ],
      "text/plain": [
       "<IPython.core.display.HTML object>"
      ]
     },
     "metadata": {},
     "output_type": "display_data"
    },
    {
     "data": {
      "text/html": [
       "There is a new version of wandb available. Please upgrade to wandb==0.18.5"
      ],
      "text/plain": [
       "<IPython.core.display.HTML object>"
      ]
     },
     "metadata": {},
     "output_type": "display_data"
    },
    {
     "name": "stderr",
     "output_type": "stream",
     "text": [
      "\u001b[34m\u001b[1mwandb\u001b[0m: Agent Starting Run: 4qgpmgtd with config:\n",
      "\u001b[34m\u001b[1mwandb\u001b[0m: \tcolsample_bytree: 1\n",
      "\u001b[34m\u001b[1mwandb\u001b[0m: \tlags: 8\n",
      "\u001b[34m\u001b[1mwandb\u001b[0m: \tlags_future_covariates: [0, 1]\n",
      "\u001b[34m\u001b[1mwandb\u001b[0m: \tlags_past_covariates: 8\n",
      "\u001b[34m\u001b[1mwandb\u001b[0m: \tlearning_rate: 0.2\n",
      "\u001b[34m\u001b[1mwandb\u001b[0m: \tmax_bin: 1024\n",
      "\u001b[34m\u001b[1mwandb\u001b[0m: \tmax_depth: 5\n",
      "\u001b[34m\u001b[1mwandb\u001b[0m: \tmin_child_samples: 30\n",
      "\u001b[34m\u001b[1mwandb\u001b[0m: \tmin_split_gain: 0\n",
      "\u001b[34m\u001b[1mwandb\u001b[0m: \tmodel: lightgbm\n",
      "\u001b[34m\u001b[1mwandb\u001b[0m: \tmultiple_series: False\n",
      "\u001b[34m\u001b[1mwandb\u001b[0m: \tn_estimators: 2000\n",
      "\u001b[34m\u001b[1mwandb\u001b[0m: \tnum_leaves: 10\n",
      "\u001b[34m\u001b[1mwandb\u001b[0m: \treg_alpha: 0.5\n",
      "\u001b[34m\u001b[1mwandb\u001b[0m: \treg_lambda: 0.25\n",
      "\u001b[34m\u001b[1mwandb\u001b[0m: \tsample_weight: linear\n",
      "\u001b[34m\u001b[1mwandb\u001b[0m: \tsubsample: 0.9\n",
      "\u001b[34m\u001b[1mwandb\u001b[0m: \tsubsample_freq: 2\n",
      "\u001b[34m\u001b[1mwandb\u001b[0m: \tuse_covariates: True\n",
      "\u001b[34m\u001b[1mwandb\u001b[0m: \tuse_encoders: True\n",
      "\u001b[34m\u001b[1mwandb\u001b[0m: \tuse_features: False\n",
      "\u001b[34m\u001b[1mwandb\u001b[0m: \tuse_static_covariates: False\n",
      "Failed to detect the name of this notebook, you can set it manually with the WANDB_NOTEBOOK_NAME environment variable to enable code saving.\n"
     ]
    },
    {
     "data": {
      "application/vnd.jupyter.widget-view+json": {
       "model_id": "978090dda2d24f64b9a02dc6539c03e0",
       "version_major": 2,
       "version_minor": 0
      },
      "text/plain": [
       "VBox(children=(Label(value='Waiting for wandb.init()...\\r'), FloatProgress(value=0.011113545619365242, max=1.0…"
      ]
     },
     "metadata": {},
     "output_type": "display_data"
    },
    {
     "data": {
      "text/html": [
       "Tracking run with wandb version 0.18.0"
      ],
      "text/plain": [
       "<IPython.core.display.HTML object>"
      ]
     },
     "metadata": {},
     "output_type": "display_data"
    },
    {
     "data": {
      "text/html": [
       "Run data is saved locally in <code>/home/wolffram/SARI-ML/ARI/wandb/run-20241031_211653-4qgpmgtd</code>"
      ],
      "text/plain": [
       "<IPython.core.display.HTML object>"
      ]
     },
     "metadata": {},
     "output_type": "display_data"
    },
    {
     "data": {
      "text/html": [
       "Syncing run <strong><a href='https://wandb.ai/dwolffram-karlsruhe-institute-of-technology/ari-lightgbm/runs/4qgpmgtd' target=\"_blank\">elated-sweep-32</a></strong> to <a href='https://wandb.ai/dwolffram-karlsruhe-institute-of-technology/ari-lightgbm' target=\"_blank\">Weights & Biases</a> (<a href='https://wandb.me/run' target=\"_blank\">docs</a>)<br/>Sweep page: <a href='https://wandb.ai/dwolffram-karlsruhe-institute-of-technology/ari-lightgbm/sweeps/me2h5ytc' target=\"_blank\">https://wandb.ai/dwolffram-karlsruhe-institute-of-technology/ari-lightgbm/sweeps/me2h5ytc</a>"
      ],
      "text/plain": [
       "<IPython.core.display.HTML object>"
      ]
     },
     "metadata": {},
     "output_type": "display_data"
    },
    {
     "data": {
      "text/html": [
       " View project at <a href='https://wandb.ai/dwolffram-karlsruhe-institute-of-technology/ari-lightgbm' target=\"_blank\">https://wandb.ai/dwolffram-karlsruhe-institute-of-technology/ari-lightgbm</a>"
      ],
      "text/plain": [
       "<IPython.core.display.HTML object>"
      ]
     },
     "metadata": {},
     "output_type": "display_data"
    },
    {
     "data": {
      "text/html": [
       " View sweep at <a href='https://wandb.ai/dwolffram-karlsruhe-institute-of-technology/ari-lightgbm/sweeps/me2h5ytc' target=\"_blank\">https://wandb.ai/dwolffram-karlsruhe-institute-of-technology/ari-lightgbm/sweeps/me2h5ytc</a>"
      ],
      "text/plain": [
       "<IPython.core.display.HTML object>"
      ]
     },
     "metadata": {},
     "output_type": "display_data"
    },
    {
     "data": {
      "text/html": [
       " View run at <a href='https://wandb.ai/dwolffram-karlsruhe-institute-of-technology/ari-lightgbm/runs/4qgpmgtd' target=\"_blank\">https://wandb.ai/dwolffram-karlsruhe-institute-of-technology/ari-lightgbm/runs/4qgpmgtd</a>"
      ],
      "text/plain": [
       "<IPython.core.display.HTML object>"
      ]
     },
     "metadata": {},
     "output_type": "display_data"
    },
    {
     "data": {
      "application/vnd.jupyter.widget-view+json": {
       "model_id": "3d5eb943644b4d68bc4e45c3636402e9",
       "version_major": 2,
       "version_minor": 0
      },
      "text/plain": [
       "VBox(children=(Label(value='0.006 MB of 0.006 MB uploaded\\r'), FloatProgress(value=1.0, max=1.0)))"
      ]
     },
     "metadata": {},
     "output_type": "display_data"
    },
    {
     "data": {
      "text/html": [
       "<style>\n",
       "    table.wandb td:nth-child(1) { padding: 0 10px; text-align: left ; width: auto;} td:nth-child(2) {text-align: left ; width: 100%}\n",
       "    .wandb-row { display: flex; flex-direction: row; flex-wrap: wrap; justify-content: flex-start; width: 100% }\n",
       "    .wandb-col { display: flex; flex-direction: column; flex-basis: 100%; flex: 1; padding: 10px; }\n",
       "    </style>\n",
       "<div class=\"wandb-row\"><div class=\"wandb-col\"><h3>Run history:</h3><br/><table class=\"wandb\"><tr><td>WIS</td><td>▁</td></tr><tr><td>WIS_2022</td><td>▁</td></tr><tr><td>WIS_2022_1</td><td>▁</td></tr><tr><td>WIS_2022_2</td><td>▁</td></tr><tr><td>WIS_2022_3</td><td>▁</td></tr><tr><td>WIS_2023</td><td>▁</td></tr><tr><td>WIS_2023_1</td><td>▁</td></tr><tr><td>WIS_2023_2</td><td>▁</td></tr><tr><td>WIS_2023_3</td><td>▁</td></tr><tr><td>WIS_std</td><td>▁</td></tr><tr><td>WIS_std_2022</td><td>▁</td></tr><tr><td>WIS_std_2023</td><td>▁</td></tr></table><br/></div><div class=\"wandb-col\"><h3>Run summary:</h3><br/><table class=\"wandb\"><tr><td>WIS</td><td>256.69851</td></tr><tr><td>WIS_2022</td><td>340.84005</td></tr><tr><td>WIS_2022_1</td><td>340.96399</td></tr><tr><td>WIS_2022_2</td><td>340.84134</td></tr><tr><td>WIS_2022_3</td><td>340.71483</td></tr><tr><td>WIS_2023</td><td>172.55697</td></tr><tr><td>WIS_2023_1</td><td>172.74743</td></tr><tr><td>WIS_2023_2</td><td>172.33722</td></tr><tr><td>WIS_2023_3</td><td>172.58627</td></tr><tr><td>WIS_std</td><td>84.14166</td></tr><tr><td>WIS_std_2022</td><td>0.10172</td></tr><tr><td>WIS_std_2023</td><td>0.16875</td></tr></table><br/></div></div>"
      ],
      "text/plain": [
       "<IPython.core.display.HTML object>"
      ]
     },
     "metadata": {},
     "output_type": "display_data"
    },
    {
     "data": {
      "text/html": [
       " View run <strong style=\"color:#cdcd00\">elated-sweep-32</strong> at: <a href='https://wandb.ai/dwolffram-karlsruhe-institute-of-technology/ari-lightgbm/runs/4qgpmgtd' target=\"_blank\">https://wandb.ai/dwolffram-karlsruhe-institute-of-technology/ari-lightgbm/runs/4qgpmgtd</a><br/> View project at: <a href='https://wandb.ai/dwolffram-karlsruhe-institute-of-technology/ari-lightgbm' target=\"_blank\">https://wandb.ai/dwolffram-karlsruhe-institute-of-technology/ari-lightgbm</a><br/>Synced 5 W&B file(s), 0 media file(s), 0 artifact file(s) and 0 other file(s)"
      ],
      "text/plain": [
       "<IPython.core.display.HTML object>"
      ]
     },
     "metadata": {},
     "output_type": "display_data"
    },
    {
     "data": {
      "text/html": [
       "Find logs at: <code>./wandb/run-20241031_211653-4qgpmgtd/logs</code>"
      ],
      "text/plain": [
       "<IPython.core.display.HTML object>"
      ]
     },
     "metadata": {},
     "output_type": "display_data"
    },
    {
     "data": {
      "text/html": [
       "There is a new version of wandb available. Please upgrade to wandb==0.18.5"
      ],
      "text/plain": [
       "<IPython.core.display.HTML object>"
      ]
     },
     "metadata": {},
     "output_type": "display_data"
    },
    {
     "name": "stderr",
     "output_type": "stream",
     "text": [
      "\u001b[34m\u001b[1mwandb\u001b[0m: Sweep Agent: Waiting for job.\n",
      "\u001b[34m\u001b[1mwandb\u001b[0m: Job received.\n",
      "\u001b[34m\u001b[1mwandb\u001b[0m: Agent Starting Run: mp7uya2m with config:\n",
      "\u001b[34m\u001b[1mwandb\u001b[0m: \tcolsample_bytree: 0.8\n",
      "\u001b[34m\u001b[1mwandb\u001b[0m: \tlags: 8\n",
      "\u001b[34m\u001b[1mwandb\u001b[0m: \tlags_future_covariates: [0, 1]\n",
      "\u001b[34m\u001b[1mwandb\u001b[0m: \tlags_past_covariates: 8\n",
      "\u001b[34m\u001b[1mwandb\u001b[0m: \tlearning_rate: 0.01\n",
      "\u001b[34m\u001b[1mwandb\u001b[0m: \tmax_bin: 1024\n",
      "\u001b[34m\u001b[1mwandb\u001b[0m: \tmax_depth: 10\n",
      "\u001b[34m\u001b[1mwandb\u001b[0m: \tmin_child_samples: 10\n",
      "\u001b[34m\u001b[1mwandb\u001b[0m: \tmin_split_gain: 0.2\n",
      "\u001b[34m\u001b[1mwandb\u001b[0m: \tmodel: lightgbm\n",
      "\u001b[34m\u001b[1mwandb\u001b[0m: \tmultiple_series: False\n",
      "\u001b[34m\u001b[1mwandb\u001b[0m: \tn_estimators: 250\n",
      "\u001b[34m\u001b[1mwandb\u001b[0m: \tnum_leaves: 20\n",
      "\u001b[34m\u001b[1mwandb\u001b[0m: \treg_alpha: 0.25\n",
      "\u001b[34m\u001b[1mwandb\u001b[0m: \treg_lambda: 0.25\n",
      "\u001b[34m\u001b[1mwandb\u001b[0m: \tsample_weight: linear\n",
      "\u001b[34m\u001b[1mwandb\u001b[0m: \tsubsample: 0.9\n",
      "\u001b[34m\u001b[1mwandb\u001b[0m: \tsubsample_freq: 1\n",
      "\u001b[34m\u001b[1mwandb\u001b[0m: \tuse_covariates: False\n",
      "\u001b[34m\u001b[1mwandb\u001b[0m: \tuse_encoders: True\n",
      "\u001b[34m\u001b[1mwandb\u001b[0m: \tuse_features: False\n",
      "\u001b[34m\u001b[1mwandb\u001b[0m: \tuse_static_covariates: False\n",
      "Failed to detect the name of this notebook, you can set it manually with the WANDB_NOTEBOOK_NAME environment variable to enable code saving.\n"
     ]
    },
    {
     "data": {
      "text/html": [
       "Tracking run with wandb version 0.18.0"
      ],
      "text/plain": [
       "<IPython.core.display.HTML object>"
      ]
     },
     "metadata": {},
     "output_type": "display_data"
    },
    {
     "data": {
      "text/html": [
       "Run data is saved locally in <code>/home/wolffram/SARI-ML/ARI/wandb/run-20241031_212956-mp7uya2m</code>"
      ],
      "text/plain": [
       "<IPython.core.display.HTML object>"
      ]
     },
     "metadata": {},
     "output_type": "display_data"
    },
    {
     "data": {
      "text/html": [
       "Syncing run <strong><a href='https://wandb.ai/dwolffram-karlsruhe-institute-of-technology/ari-lightgbm/runs/mp7uya2m' target=\"_blank\">radiant-sweep-33</a></strong> to <a href='https://wandb.ai/dwolffram-karlsruhe-institute-of-technology/ari-lightgbm' target=\"_blank\">Weights & Biases</a> (<a href='https://wandb.me/run' target=\"_blank\">docs</a>)<br/>Sweep page: <a href='https://wandb.ai/dwolffram-karlsruhe-institute-of-technology/ari-lightgbm/sweeps/me2h5ytc' target=\"_blank\">https://wandb.ai/dwolffram-karlsruhe-institute-of-technology/ari-lightgbm/sweeps/me2h5ytc</a>"
      ],
      "text/plain": [
       "<IPython.core.display.HTML object>"
      ]
     },
     "metadata": {},
     "output_type": "display_data"
    },
    {
     "data": {
      "text/html": [
       " View project at <a href='https://wandb.ai/dwolffram-karlsruhe-institute-of-technology/ari-lightgbm' target=\"_blank\">https://wandb.ai/dwolffram-karlsruhe-institute-of-technology/ari-lightgbm</a>"
      ],
      "text/plain": [
       "<IPython.core.display.HTML object>"
      ]
     },
     "metadata": {},
     "output_type": "display_data"
    },
    {
     "data": {
      "text/html": [
       " View sweep at <a href='https://wandb.ai/dwolffram-karlsruhe-institute-of-technology/ari-lightgbm/sweeps/me2h5ytc' target=\"_blank\">https://wandb.ai/dwolffram-karlsruhe-institute-of-technology/ari-lightgbm/sweeps/me2h5ytc</a>"
      ],
      "text/plain": [
       "<IPython.core.display.HTML object>"
      ]
     },
     "metadata": {},
     "output_type": "display_data"
    },
    {
     "data": {
      "text/html": [
       " View run at <a href='https://wandb.ai/dwolffram-karlsruhe-institute-of-technology/ari-lightgbm/runs/mp7uya2m' target=\"_blank\">https://wandb.ai/dwolffram-karlsruhe-institute-of-technology/ari-lightgbm/runs/mp7uya2m</a>"
      ],
      "text/plain": [
       "<IPython.core.display.HTML object>"
      ]
     },
     "metadata": {},
     "output_type": "display_data"
    },
    {
     "data": {
      "application/vnd.jupyter.widget-view+json": {
       "model_id": "a5faccdcfb574f2382b4eb73e39d2a01",
       "version_major": 2,
       "version_minor": 0
      },
      "text/plain": [
       "VBox(children=(Label(value='0.006 MB of 0.006 MB uploaded\\r'), FloatProgress(value=1.0, max=1.0)))"
      ]
     },
     "metadata": {},
     "output_type": "display_data"
    },
    {
     "data": {
      "text/html": [
       "<style>\n",
       "    table.wandb td:nth-child(1) { padding: 0 10px; text-align: left ; width: auto;} td:nth-child(2) {text-align: left ; width: 100%}\n",
       "    .wandb-row { display: flex; flex-direction: row; flex-wrap: wrap; justify-content: flex-start; width: 100% }\n",
       "    .wandb-col { display: flex; flex-direction: column; flex-basis: 100%; flex: 1; padding: 10px; }\n",
       "    </style>\n",
       "<div class=\"wandb-row\"><div class=\"wandb-col\"><h3>Run history:</h3><br/><table class=\"wandb\"><tr><td>WIS</td><td>▁</td></tr><tr><td>WIS_2022</td><td>▁</td></tr><tr><td>WIS_2022_1</td><td>▁</td></tr><tr><td>WIS_2022_2</td><td>▁</td></tr><tr><td>WIS_2022_3</td><td>▁</td></tr><tr><td>WIS_2023</td><td>▁</td></tr><tr><td>WIS_2023_1</td><td>▁</td></tr><tr><td>WIS_2023_2</td><td>▁</td></tr><tr><td>WIS_2023_3</td><td>▁</td></tr><tr><td>WIS_std</td><td>▁</td></tr><tr><td>WIS_std_2022</td><td>▁</td></tr><tr><td>WIS_std_2023</td><td>▁</td></tr></table><br/></div><div class=\"wandb-col\"><h3>Run summary:</h3><br/><table class=\"wandb\"><tr><td>WIS</td><td>258.81023</td></tr><tr><td>WIS_2022</td><td>330.21915</td></tr><tr><td>WIS_2022_1</td><td>330.08529</td></tr><tr><td>WIS_2022_2</td><td>329.91543</td></tr><tr><td>WIS_2022_3</td><td>330.65672</td></tr><tr><td>WIS_2023</td><td>187.40132</td></tr><tr><td>WIS_2023_1</td><td>187.54234</td></tr><tr><td>WIS_2023_2</td><td>187.3206</td></tr><tr><td>WIS_2023_3</td><td>187.34104</td></tr><tr><td>WIS_std</td><td>71.4093</td></tr><tr><td>WIS_std_2022</td><td>0.31709</td></tr><tr><td>WIS_std_2023</td><td>0.10006</td></tr></table><br/></div></div>"
      ],
      "text/plain": [
       "<IPython.core.display.HTML object>"
      ]
     },
     "metadata": {},
     "output_type": "display_data"
    },
    {
     "data": {
      "text/html": [
       " View run <strong style=\"color:#cdcd00\">radiant-sweep-33</strong> at: <a href='https://wandb.ai/dwolffram-karlsruhe-institute-of-technology/ari-lightgbm/runs/mp7uya2m' target=\"_blank\">https://wandb.ai/dwolffram-karlsruhe-institute-of-technology/ari-lightgbm/runs/mp7uya2m</a><br/> View project at: <a href='https://wandb.ai/dwolffram-karlsruhe-institute-of-technology/ari-lightgbm' target=\"_blank\">https://wandb.ai/dwolffram-karlsruhe-institute-of-technology/ari-lightgbm</a><br/>Synced 5 W&B file(s), 0 media file(s), 0 artifact file(s) and 0 other file(s)"
      ],
      "text/plain": [
       "<IPython.core.display.HTML object>"
      ]
     },
     "metadata": {},
     "output_type": "display_data"
    },
    {
     "data": {
      "text/html": [
       "Find logs at: <code>./wandb/run-20241031_212956-mp7uya2m/logs</code>"
      ],
      "text/plain": [
       "<IPython.core.display.HTML object>"
      ]
     },
     "metadata": {},
     "output_type": "display_data"
    },
    {
     "data": {
      "text/html": [
       "There is a new version of wandb available. Please upgrade to wandb==0.18.5"
      ],
      "text/plain": [
       "<IPython.core.display.HTML object>"
      ]
     },
     "metadata": {},
     "output_type": "display_data"
    },
    {
     "name": "stderr",
     "output_type": "stream",
     "text": [
      "\u001b[34m\u001b[1mwandb\u001b[0m: Agent Starting Run: rfocroc1 with config:\n",
      "\u001b[34m\u001b[1mwandb\u001b[0m: \tcolsample_bytree: 1\n",
      "\u001b[34m\u001b[1mwandb\u001b[0m: \tlags: 8\n",
      "\u001b[34m\u001b[1mwandb\u001b[0m: \tlags_future_covariates: [0, 1]\n",
      "\u001b[34m\u001b[1mwandb\u001b[0m: \tlags_past_covariates: 8\n",
      "\u001b[34m\u001b[1mwandb\u001b[0m: \tlearning_rate: 0.2\n",
      "\u001b[34m\u001b[1mwandb\u001b[0m: \tmax_bin: 1024\n",
      "\u001b[34m\u001b[1mwandb\u001b[0m: \tmax_depth: 20\n",
      "\u001b[34m\u001b[1mwandb\u001b[0m: \tmin_child_samples: 40\n",
      "\u001b[34m\u001b[1mwandb\u001b[0m: \tmin_split_gain: 0.1\n",
      "\u001b[34m\u001b[1mwandb\u001b[0m: \tmodel: lightgbm\n",
      "\u001b[34m\u001b[1mwandb\u001b[0m: \tmultiple_series: False\n",
      "\u001b[34m\u001b[1mwandb\u001b[0m: \tn_estimators: 2000\n",
      "\u001b[34m\u001b[1mwandb\u001b[0m: \tnum_leaves: 50\n",
      "\u001b[34m\u001b[1mwandb\u001b[0m: \treg_alpha: 0\n",
      "\u001b[34m\u001b[1mwandb\u001b[0m: \treg_lambda: 0.5\n",
      "\u001b[34m\u001b[1mwandb\u001b[0m: \tsample_weight: linear\n",
      "\u001b[34m\u001b[1mwandb\u001b[0m: \tsubsample: 0.8\n",
      "\u001b[34m\u001b[1mwandb\u001b[0m: \tsubsample_freq: 0\n",
      "\u001b[34m\u001b[1mwandb\u001b[0m: \tuse_covariates: False\n",
      "\u001b[34m\u001b[1mwandb\u001b[0m: \tuse_encoders: True\n",
      "\u001b[34m\u001b[1mwandb\u001b[0m: \tuse_features: False\n",
      "\u001b[34m\u001b[1mwandb\u001b[0m: \tuse_static_covariates: False\n",
      "Failed to detect the name of this notebook, you can set it manually with the WANDB_NOTEBOOK_NAME environment variable to enable code saving.\n"
     ]
    },
    {
     "data": {
      "text/html": [
       "Tracking run with wandb version 0.18.0"
      ],
      "text/plain": [
       "<IPython.core.display.HTML object>"
      ]
     },
     "metadata": {},
     "output_type": "display_data"
    },
    {
     "data": {
      "text/html": [
       "Run data is saved locally in <code>/home/wolffram/SARI-ML/ARI/wandb/run-20241031_213150-rfocroc1</code>"
      ],
      "text/plain": [
       "<IPython.core.display.HTML object>"
      ]
     },
     "metadata": {},
     "output_type": "display_data"
    },
    {
     "data": {
      "text/html": [
       "Syncing run <strong><a href='https://wandb.ai/dwolffram-karlsruhe-institute-of-technology/ari-lightgbm/runs/rfocroc1' target=\"_blank\">cosmic-sweep-34</a></strong> to <a href='https://wandb.ai/dwolffram-karlsruhe-institute-of-technology/ari-lightgbm' target=\"_blank\">Weights & Biases</a> (<a href='https://wandb.me/run' target=\"_blank\">docs</a>)<br/>Sweep page: <a href='https://wandb.ai/dwolffram-karlsruhe-institute-of-technology/ari-lightgbm/sweeps/me2h5ytc' target=\"_blank\">https://wandb.ai/dwolffram-karlsruhe-institute-of-technology/ari-lightgbm/sweeps/me2h5ytc</a>"
      ],
      "text/plain": [
       "<IPython.core.display.HTML object>"
      ]
     },
     "metadata": {},
     "output_type": "display_data"
    },
    {
     "data": {
      "text/html": [
       " View project at <a href='https://wandb.ai/dwolffram-karlsruhe-institute-of-technology/ari-lightgbm' target=\"_blank\">https://wandb.ai/dwolffram-karlsruhe-institute-of-technology/ari-lightgbm</a>"
      ],
      "text/plain": [
       "<IPython.core.display.HTML object>"
      ]
     },
     "metadata": {},
     "output_type": "display_data"
    },
    {
     "data": {
      "text/html": [
       " View sweep at <a href='https://wandb.ai/dwolffram-karlsruhe-institute-of-technology/ari-lightgbm/sweeps/me2h5ytc' target=\"_blank\">https://wandb.ai/dwolffram-karlsruhe-institute-of-technology/ari-lightgbm/sweeps/me2h5ytc</a>"
      ],
      "text/plain": [
       "<IPython.core.display.HTML object>"
      ]
     },
     "metadata": {},
     "output_type": "display_data"
    },
    {
     "data": {
      "text/html": [
       " View run at <a href='https://wandb.ai/dwolffram-karlsruhe-institute-of-technology/ari-lightgbm/runs/rfocroc1' target=\"_blank\">https://wandb.ai/dwolffram-karlsruhe-institute-of-technology/ari-lightgbm/runs/rfocroc1</a>"
      ],
      "text/plain": [
       "<IPython.core.display.HTML object>"
      ]
     },
     "metadata": {},
     "output_type": "display_data"
    },
    {
     "data": {
      "application/vnd.jupyter.widget-view+json": {
       "model_id": "64dd0ca8e2bf4512939f1b7909d6b133",
       "version_major": 2,
       "version_minor": 0
      },
      "text/plain": [
       "VBox(children=(Label(value='0.006 MB of 0.006 MB uploaded\\r'), FloatProgress(value=1.0, max=1.0)))"
      ]
     },
     "metadata": {},
     "output_type": "display_data"
    },
    {
     "data": {
      "text/html": [
       "<style>\n",
       "    table.wandb td:nth-child(1) { padding: 0 10px; text-align: left ; width: auto;} td:nth-child(2) {text-align: left ; width: 100%}\n",
       "    .wandb-row { display: flex; flex-direction: row; flex-wrap: wrap; justify-content: flex-start; width: 100% }\n",
       "    .wandb-col { display: flex; flex-direction: column; flex-basis: 100%; flex: 1; padding: 10px; }\n",
       "    </style>\n",
       "<div class=\"wandb-row\"><div class=\"wandb-col\"><h3>Run history:</h3><br/><table class=\"wandb\"><tr><td>WIS</td><td>▁</td></tr><tr><td>WIS_2022</td><td>▁</td></tr><tr><td>WIS_2022_1</td><td>▁</td></tr><tr><td>WIS_2022_2</td><td>▁</td></tr><tr><td>WIS_2022_3</td><td>▁</td></tr><tr><td>WIS_2023</td><td>▁</td></tr><tr><td>WIS_2023_1</td><td>▁</td></tr><tr><td>WIS_2023_2</td><td>▁</td></tr><tr><td>WIS_2023_3</td><td>▁</td></tr><tr><td>WIS_std</td><td>▁</td></tr><tr><td>WIS_std_2022</td><td>▁</td></tr><tr><td>WIS_std_2023</td><td>▁</td></tr></table><br/></div><div class=\"wandb-col\"><h3>Run summary:</h3><br/><table class=\"wandb\"><tr><td>WIS</td><td>245.19401</td></tr><tr><td>WIS_2022</td><td>321.14149</td></tr><tr><td>WIS_2022_1</td><td>321.39562</td></tr><tr><td>WIS_2022_2</td><td>320.76487</td></tr><tr><td>WIS_2022_3</td><td>321.26399</td></tr><tr><td>WIS_2023</td><td>169.24653</td></tr><tr><td>WIS_2023_1</td><td>169.38877</td></tr><tr><td>WIS_2023_2</td><td>168.83549</td></tr><tr><td>WIS_2023_3</td><td>169.51532</td></tr><tr><td>WIS_std</td><td>75.94801</td></tr><tr><td>WIS_std_2022</td><td>0.27168</td></tr><tr><td>WIS_std_2023</td><td>0.2952</td></tr></table><br/></div></div>"
      ],
      "text/plain": [
       "<IPython.core.display.HTML object>"
      ]
     },
     "metadata": {},
     "output_type": "display_data"
    },
    {
     "data": {
      "text/html": [
       " View run <strong style=\"color:#cdcd00\">cosmic-sweep-34</strong> at: <a href='https://wandb.ai/dwolffram-karlsruhe-institute-of-technology/ari-lightgbm/runs/rfocroc1' target=\"_blank\">https://wandb.ai/dwolffram-karlsruhe-institute-of-technology/ari-lightgbm/runs/rfocroc1</a><br/> View project at: <a href='https://wandb.ai/dwolffram-karlsruhe-institute-of-technology/ari-lightgbm' target=\"_blank\">https://wandb.ai/dwolffram-karlsruhe-institute-of-technology/ari-lightgbm</a><br/>Synced 5 W&B file(s), 0 media file(s), 0 artifact file(s) and 0 other file(s)"
      ],
      "text/plain": [
       "<IPython.core.display.HTML object>"
      ]
     },
     "metadata": {},
     "output_type": "display_data"
    },
    {
     "data": {
      "text/html": [
       "Find logs at: <code>./wandb/run-20241031_213150-rfocroc1/logs</code>"
      ],
      "text/plain": [
       "<IPython.core.display.HTML object>"
      ]
     },
     "metadata": {},
     "output_type": "display_data"
    },
    {
     "data": {
      "text/html": [
       "There is a new version of wandb available. Please upgrade to wandb==0.18.5"
      ],
      "text/plain": [
       "<IPython.core.display.HTML object>"
      ]
     },
     "metadata": {},
     "output_type": "display_data"
    },
    {
     "name": "stderr",
     "output_type": "stream",
     "text": [
      "\u001b[34m\u001b[1mwandb\u001b[0m: Sweep Agent: Waiting for job.\n",
      "\u001b[34m\u001b[1mwandb\u001b[0m: Job received.\n",
      "\u001b[34m\u001b[1mwandb\u001b[0m: Agent Starting Run: ly03adav with config:\n",
      "\u001b[34m\u001b[1mwandb\u001b[0m: \tcolsample_bytree: 0.9\n",
      "\u001b[34m\u001b[1mwandb\u001b[0m: \tlags: 8\n",
      "\u001b[34m\u001b[1mwandb\u001b[0m: \tlags_future_covariates: [0, 1]\n",
      "\u001b[34m\u001b[1mwandb\u001b[0m: \tlags_past_covariates: 8\n",
      "\u001b[34m\u001b[1mwandb\u001b[0m: \tlearning_rate: 0.2\n",
      "\u001b[34m\u001b[1mwandb\u001b[0m: \tmax_bin: 510\n",
      "\u001b[34m\u001b[1mwandb\u001b[0m: \tmax_depth: 15\n",
      "\u001b[34m\u001b[1mwandb\u001b[0m: \tmin_child_samples: 40\n",
      "\u001b[34m\u001b[1mwandb\u001b[0m: \tmin_split_gain: 0.2\n",
      "\u001b[34m\u001b[1mwandb\u001b[0m: \tmodel: lightgbm\n",
      "\u001b[34m\u001b[1mwandb\u001b[0m: \tmultiple_series: False\n",
      "\u001b[34m\u001b[1mwandb\u001b[0m: \tn_estimators: 5000\n",
      "\u001b[34m\u001b[1mwandb\u001b[0m: \tnum_leaves: 50\n",
      "\u001b[34m\u001b[1mwandb\u001b[0m: \treg_alpha: 0.25\n",
      "\u001b[34m\u001b[1mwandb\u001b[0m: \treg_lambda: 0.5\n",
      "\u001b[34m\u001b[1mwandb\u001b[0m: \tsample_weight: None\n",
      "\u001b[34m\u001b[1mwandb\u001b[0m: \tsubsample: 0.8\n",
      "\u001b[34m\u001b[1mwandb\u001b[0m: \tsubsample_freq: 2\n",
      "\u001b[34m\u001b[1mwandb\u001b[0m: \tuse_covariates: True\n",
      "\u001b[34m\u001b[1mwandb\u001b[0m: \tuse_encoders: True\n",
      "\u001b[34m\u001b[1mwandb\u001b[0m: \tuse_features: False\n",
      "\u001b[34m\u001b[1mwandb\u001b[0m: \tuse_static_covariates: False\n",
      "Failed to detect the name of this notebook, you can set it manually with the WANDB_NOTEBOOK_NAME environment variable to enable code saving.\n"
     ]
    },
    {
     "data": {
      "text/html": [
       "Tracking run with wandb version 0.18.0"
      ],
      "text/plain": [
       "<IPython.core.display.HTML object>"
      ]
     },
     "metadata": {},
     "output_type": "display_data"
    },
    {
     "data": {
      "text/html": [
       "Run data is saved locally in <code>/home/wolffram/SARI-ML/ARI/wandb/run-20241031_214307-ly03adav</code>"
      ],
      "text/plain": [
       "<IPython.core.display.HTML object>"
      ]
     },
     "metadata": {},
     "output_type": "display_data"
    },
    {
     "data": {
      "text/html": [
       "Syncing run <strong><a href='https://wandb.ai/dwolffram-karlsruhe-institute-of-technology/ari-lightgbm/runs/ly03adav' target=\"_blank\">hopeful-sweep-35</a></strong> to <a href='https://wandb.ai/dwolffram-karlsruhe-institute-of-technology/ari-lightgbm' target=\"_blank\">Weights & Biases</a> (<a href='https://wandb.me/run' target=\"_blank\">docs</a>)<br/>Sweep page: <a href='https://wandb.ai/dwolffram-karlsruhe-institute-of-technology/ari-lightgbm/sweeps/me2h5ytc' target=\"_blank\">https://wandb.ai/dwolffram-karlsruhe-institute-of-technology/ari-lightgbm/sweeps/me2h5ytc</a>"
      ],
      "text/plain": [
       "<IPython.core.display.HTML object>"
      ]
     },
     "metadata": {},
     "output_type": "display_data"
    },
    {
     "data": {
      "text/html": [
       " View project at <a href='https://wandb.ai/dwolffram-karlsruhe-institute-of-technology/ari-lightgbm' target=\"_blank\">https://wandb.ai/dwolffram-karlsruhe-institute-of-technology/ari-lightgbm</a>"
      ],
      "text/plain": [
       "<IPython.core.display.HTML object>"
      ]
     },
     "metadata": {},
     "output_type": "display_data"
    },
    {
     "data": {
      "text/html": [
       " View sweep at <a href='https://wandb.ai/dwolffram-karlsruhe-institute-of-technology/ari-lightgbm/sweeps/me2h5ytc' target=\"_blank\">https://wandb.ai/dwolffram-karlsruhe-institute-of-technology/ari-lightgbm/sweeps/me2h5ytc</a>"
      ],
      "text/plain": [
       "<IPython.core.display.HTML object>"
      ]
     },
     "metadata": {},
     "output_type": "display_data"
    },
    {
     "data": {
      "text/html": [
       " View run at <a href='https://wandb.ai/dwolffram-karlsruhe-institute-of-technology/ari-lightgbm/runs/ly03adav' target=\"_blank\">https://wandb.ai/dwolffram-karlsruhe-institute-of-technology/ari-lightgbm/runs/ly03adav</a>"
      ],
      "text/plain": [
       "<IPython.core.display.HTML object>"
      ]
     },
     "metadata": {},
     "output_type": "display_data"
    },
    {
     "data": {
      "application/vnd.jupyter.widget-view+json": {
       "model_id": "eb9f008400fd40c687045da2141ab16c",
       "version_major": 2,
       "version_minor": 0
      },
      "text/plain": [
       "VBox(children=(Label(value='0.006 MB of 0.006 MB uploaded\\r'), FloatProgress(value=1.0, max=1.0)))"
      ]
     },
     "metadata": {},
     "output_type": "display_data"
    },
    {
     "data": {
      "text/html": [
       "<style>\n",
       "    table.wandb td:nth-child(1) { padding: 0 10px; text-align: left ; width: auto;} td:nth-child(2) {text-align: left ; width: 100%}\n",
       "    .wandb-row { display: flex; flex-direction: row; flex-wrap: wrap; justify-content: flex-start; width: 100% }\n",
       "    .wandb-col { display: flex; flex-direction: column; flex-basis: 100%; flex: 1; padding: 10px; }\n",
       "    </style>\n",
       "<div class=\"wandb-row\"><div class=\"wandb-col\"><h3>Run history:</h3><br/><table class=\"wandb\"><tr><td>WIS</td><td>▁</td></tr><tr><td>WIS_2022</td><td>▁</td></tr><tr><td>WIS_2022_1</td><td>▁</td></tr><tr><td>WIS_2022_2</td><td>▁</td></tr><tr><td>WIS_2022_3</td><td>▁</td></tr><tr><td>WIS_2023</td><td>▁</td></tr><tr><td>WIS_2023_1</td><td>▁</td></tr><tr><td>WIS_2023_2</td><td>▁</td></tr><tr><td>WIS_2023_3</td><td>▁</td></tr><tr><td>WIS_std</td><td>▁</td></tr><tr><td>WIS_std_2022</td><td>▁</td></tr><tr><td>WIS_std_2023</td><td>▁</td></tr></table><br/></div><div class=\"wandb-col\"><h3>Run summary:</h3><br/><table class=\"wandb\"><tr><td>WIS</td><td>249.315</td></tr><tr><td>WIS_2022</td><td>318.97837</td></tr><tr><td>WIS_2022_1</td><td>318.75813</td></tr><tr><td>WIS_2022_2</td><td>318.55247</td></tr><tr><td>WIS_2022_3</td><td>319.62451</td></tr><tr><td>WIS_2023</td><td>179.65163</td></tr><tr><td>WIS_2023_1</td><td>179.96805</td></tr><tr><td>WIS_2023_2</td><td>179.82005</td></tr><tr><td>WIS_2023_3</td><td>179.16678</td></tr><tr><td>WIS_std</td><td>69.66458</td></tr><tr><td>WIS_std_2022</td><td>0.46454</td></tr><tr><td>WIS_std_2023</td><td>0.34812</td></tr></table><br/></div></div>"
      ],
      "text/plain": [
       "<IPython.core.display.HTML object>"
      ]
     },
     "metadata": {},
     "output_type": "display_data"
    },
    {
     "data": {
      "text/html": [
       " View run <strong style=\"color:#cdcd00\">hopeful-sweep-35</strong> at: <a href='https://wandb.ai/dwolffram-karlsruhe-institute-of-technology/ari-lightgbm/runs/ly03adav' target=\"_blank\">https://wandb.ai/dwolffram-karlsruhe-institute-of-technology/ari-lightgbm/runs/ly03adav</a><br/> View project at: <a href='https://wandb.ai/dwolffram-karlsruhe-institute-of-technology/ari-lightgbm' target=\"_blank\">https://wandb.ai/dwolffram-karlsruhe-institute-of-technology/ari-lightgbm</a><br/>Synced 5 W&B file(s), 0 media file(s), 0 artifact file(s) and 0 other file(s)"
      ],
      "text/plain": [
       "<IPython.core.display.HTML object>"
      ]
     },
     "metadata": {},
     "output_type": "display_data"
    },
    {
     "data": {
      "text/html": [
       "Find logs at: <code>./wandb/run-20241031_214307-ly03adav/logs</code>"
      ],
      "text/plain": [
       "<IPython.core.display.HTML object>"
      ]
     },
     "metadata": {},
     "output_type": "display_data"
    },
    {
     "data": {
      "text/html": [
       "There is a new version of wandb available. Please upgrade to wandb==0.18.5"
      ],
      "text/plain": [
       "<IPython.core.display.HTML object>"
      ]
     },
     "metadata": {},
     "output_type": "display_data"
    },
    {
     "name": "stderr",
     "output_type": "stream",
     "text": [
      "\u001b[34m\u001b[1mwandb\u001b[0m: Agent Starting Run: sht275jc with config:\n",
      "\u001b[34m\u001b[1mwandb\u001b[0m: \tcolsample_bytree: 1\n",
      "\u001b[34m\u001b[1mwandb\u001b[0m: \tlags: 8\n",
      "\u001b[34m\u001b[1mwandb\u001b[0m: \tlags_future_covariates: [0, 1]\n",
      "\u001b[34m\u001b[1mwandb\u001b[0m: \tlags_past_covariates: 8\n",
      "\u001b[34m\u001b[1mwandb\u001b[0m: \tlearning_rate: 0.1\n",
      "\u001b[34m\u001b[1mwandb\u001b[0m: \tmax_bin: 1024\n",
      "\u001b[34m\u001b[1mwandb\u001b[0m: \tmax_depth: 20\n",
      "\u001b[34m\u001b[1mwandb\u001b[0m: \tmin_child_samples: 20\n",
      "\u001b[34m\u001b[1mwandb\u001b[0m: \tmin_split_gain: 0\n",
      "\u001b[34m\u001b[1mwandb\u001b[0m: \tmodel: lightgbm\n",
      "\u001b[34m\u001b[1mwandb\u001b[0m: \tmultiple_series: False\n",
      "\u001b[34m\u001b[1mwandb\u001b[0m: \tn_estimators: 1000\n",
      "\u001b[34m\u001b[1mwandb\u001b[0m: \tnum_leaves: 10\n",
      "\u001b[34m\u001b[1mwandb\u001b[0m: \treg_alpha: 0.5\n",
      "\u001b[34m\u001b[1mwandb\u001b[0m: \treg_lambda: 1\n",
      "\u001b[34m\u001b[1mwandb\u001b[0m: \tsample_weight: None\n",
      "\u001b[34m\u001b[1mwandb\u001b[0m: \tsubsample: 0.8\n",
      "\u001b[34m\u001b[1mwandb\u001b[0m: \tsubsample_freq: 5\n",
      "\u001b[34m\u001b[1mwandb\u001b[0m: \tuse_covariates: False\n",
      "\u001b[34m\u001b[1mwandb\u001b[0m: \tuse_encoders: True\n",
      "\u001b[34m\u001b[1mwandb\u001b[0m: \tuse_features: False\n",
      "\u001b[34m\u001b[1mwandb\u001b[0m: \tuse_static_covariates: False\n",
      "Failed to detect the name of this notebook, you can set it manually with the WANDB_NOTEBOOK_NAME environment variable to enable code saving.\n"
     ]
    },
    {
     "data": {
      "text/html": [
       "Tracking run with wandb version 0.18.0"
      ],
      "text/plain": [
       "<IPython.core.display.HTML object>"
      ]
     },
     "metadata": {},
     "output_type": "display_data"
    },
    {
     "data": {
      "text/html": [
       "Run data is saved locally in <code>/home/wolffram/SARI-ML/ARI/wandb/run-20241031_220258-sht275jc</code>"
      ],
      "text/plain": [
       "<IPython.core.display.HTML object>"
      ]
     },
     "metadata": {},
     "output_type": "display_data"
    },
    {
     "data": {
      "text/html": [
       "Syncing run <strong><a href='https://wandb.ai/dwolffram-karlsruhe-institute-of-technology/ari-lightgbm/runs/sht275jc' target=\"_blank\">fearless-sweep-36</a></strong> to <a href='https://wandb.ai/dwolffram-karlsruhe-institute-of-technology/ari-lightgbm' target=\"_blank\">Weights & Biases</a> (<a href='https://wandb.me/run' target=\"_blank\">docs</a>)<br/>Sweep page: <a href='https://wandb.ai/dwolffram-karlsruhe-institute-of-technology/ari-lightgbm/sweeps/me2h5ytc' target=\"_blank\">https://wandb.ai/dwolffram-karlsruhe-institute-of-technology/ari-lightgbm/sweeps/me2h5ytc</a>"
      ],
      "text/plain": [
       "<IPython.core.display.HTML object>"
      ]
     },
     "metadata": {},
     "output_type": "display_data"
    },
    {
     "data": {
      "text/html": [
       " View project at <a href='https://wandb.ai/dwolffram-karlsruhe-institute-of-technology/ari-lightgbm' target=\"_blank\">https://wandb.ai/dwolffram-karlsruhe-institute-of-technology/ari-lightgbm</a>"
      ],
      "text/plain": [
       "<IPython.core.display.HTML object>"
      ]
     },
     "metadata": {},
     "output_type": "display_data"
    },
    {
     "data": {
      "text/html": [
       " View sweep at <a href='https://wandb.ai/dwolffram-karlsruhe-institute-of-technology/ari-lightgbm/sweeps/me2h5ytc' target=\"_blank\">https://wandb.ai/dwolffram-karlsruhe-institute-of-technology/ari-lightgbm/sweeps/me2h5ytc</a>"
      ],
      "text/plain": [
       "<IPython.core.display.HTML object>"
      ]
     },
     "metadata": {},
     "output_type": "display_data"
    },
    {
     "data": {
      "text/html": [
       " View run at <a href='https://wandb.ai/dwolffram-karlsruhe-institute-of-technology/ari-lightgbm/runs/sht275jc' target=\"_blank\">https://wandb.ai/dwolffram-karlsruhe-institute-of-technology/ari-lightgbm/runs/sht275jc</a>"
      ],
      "text/plain": [
       "<IPython.core.display.HTML object>"
      ]
     },
     "metadata": {},
     "output_type": "display_data"
    },
    {
     "data": {
      "application/vnd.jupyter.widget-view+json": {
       "model_id": "a42b7e2a601e4d8daeddfb5ba28df305",
       "version_major": 2,
       "version_minor": 0
      },
      "text/plain": [
       "VBox(children=(Label(value='0.006 MB of 0.006 MB uploaded\\r'), FloatProgress(value=1.0, max=1.0)))"
      ]
     },
     "metadata": {},
     "output_type": "display_data"
    },
    {
     "data": {
      "text/html": [
       "<style>\n",
       "    table.wandb td:nth-child(1) { padding: 0 10px; text-align: left ; width: auto;} td:nth-child(2) {text-align: left ; width: 100%}\n",
       "    .wandb-row { display: flex; flex-direction: row; flex-wrap: wrap; justify-content: flex-start; width: 100% }\n",
       "    .wandb-col { display: flex; flex-direction: column; flex-basis: 100%; flex: 1; padding: 10px; }\n",
       "    </style>\n",
       "<div class=\"wandb-row\"><div class=\"wandb-col\"><h3>Run history:</h3><br/><table class=\"wandb\"><tr><td>WIS</td><td>▁</td></tr><tr><td>WIS_2022</td><td>▁</td></tr><tr><td>WIS_2022_1</td><td>▁</td></tr><tr><td>WIS_2022_2</td><td>▁</td></tr><tr><td>WIS_2022_3</td><td>▁</td></tr><tr><td>WIS_2023</td><td>▁</td></tr><tr><td>WIS_2023_1</td><td>▁</td></tr><tr><td>WIS_2023_2</td><td>▁</td></tr><tr><td>WIS_2023_3</td><td>▁</td></tr><tr><td>WIS_std</td><td>▁</td></tr><tr><td>WIS_std_2022</td><td>▁</td></tr><tr><td>WIS_std_2023</td><td>▁</td></tr></table><br/></div><div class=\"wandb-col\"><h3>Run summary:</h3><br/><table class=\"wandb\"><tr><td>WIS</td><td>245.69918</td></tr><tr><td>WIS_2022</td><td>322.0233</td></tr><tr><td>WIS_2022_1</td><td>321.95702</td></tr><tr><td>WIS_2022_2</td><td>321.84961</td></tr><tr><td>WIS_2022_3</td><td>322.26327</td></tr><tr><td>WIS_2023</td><td>169.37506</td></tr><tr><td>WIS_2023_1</td><td>169.38699</td></tr><tr><td>WIS_2023_2</td><td>169.16728</td></tr><tr><td>WIS_2023_3</td><td>169.57091</td></tr><tr><td>WIS_std</td><td>76.32431</td></tr><tr><td>WIS_std_2022</td><td>0.17526</td></tr><tr><td>WIS_std_2023</td><td>0.165</td></tr></table><br/></div></div>"
      ],
      "text/plain": [
       "<IPython.core.display.HTML object>"
      ]
     },
     "metadata": {},
     "output_type": "display_data"
    },
    {
     "data": {
      "text/html": [
       " View run <strong style=\"color:#cdcd00\">fearless-sweep-36</strong> at: <a href='https://wandb.ai/dwolffram-karlsruhe-institute-of-technology/ari-lightgbm/runs/sht275jc' target=\"_blank\">https://wandb.ai/dwolffram-karlsruhe-institute-of-technology/ari-lightgbm/runs/sht275jc</a><br/> View project at: <a href='https://wandb.ai/dwolffram-karlsruhe-institute-of-technology/ari-lightgbm' target=\"_blank\">https://wandb.ai/dwolffram-karlsruhe-institute-of-technology/ari-lightgbm</a><br/>Synced 5 W&B file(s), 0 media file(s), 0 artifact file(s) and 0 other file(s)"
      ],
      "text/plain": [
       "<IPython.core.display.HTML object>"
      ]
     },
     "metadata": {},
     "output_type": "display_data"
    },
    {
     "data": {
      "text/html": [
       "Find logs at: <code>./wandb/run-20241031_220258-sht275jc/logs</code>"
      ],
      "text/plain": [
       "<IPython.core.display.HTML object>"
      ]
     },
     "metadata": {},
     "output_type": "display_data"
    },
    {
     "data": {
      "text/html": [
       "There is a new version of wandb available. Please upgrade to wandb==0.18.5"
      ],
      "text/plain": [
       "<IPython.core.display.HTML object>"
      ]
     },
     "metadata": {},
     "output_type": "display_data"
    },
    {
     "name": "stderr",
     "output_type": "stream",
     "text": [
      "\u001b[34m\u001b[1mwandb\u001b[0m: Agent Starting Run: 8ikxh8bf with config:\n",
      "\u001b[34m\u001b[1mwandb\u001b[0m: \tcolsample_bytree: 0.9\n",
      "\u001b[34m\u001b[1mwandb\u001b[0m: \tlags: 8\n",
      "\u001b[34m\u001b[1mwandb\u001b[0m: \tlags_future_covariates: [0, 1]\n",
      "\u001b[34m\u001b[1mwandb\u001b[0m: \tlags_past_covariates: 8\n",
      "\u001b[34m\u001b[1mwandb\u001b[0m: \tlearning_rate: 0.005\n",
      "\u001b[34m\u001b[1mwandb\u001b[0m: \tmax_bin: 2048\n",
      "\u001b[34m\u001b[1mwandb\u001b[0m: \tmax_depth: 20\n",
      "\u001b[34m\u001b[1mwandb\u001b[0m: \tmin_child_samples: 40\n",
      "\u001b[34m\u001b[1mwandb\u001b[0m: \tmin_split_gain: 0.1\n",
      "\u001b[34m\u001b[1mwandb\u001b[0m: \tmodel: lightgbm\n",
      "\u001b[34m\u001b[1mwandb\u001b[0m: \tmultiple_series: False\n",
      "\u001b[34m\u001b[1mwandb\u001b[0m: \tn_estimators: 1000\n",
      "\u001b[34m\u001b[1mwandb\u001b[0m: \tnum_leaves: 20\n",
      "\u001b[34m\u001b[1mwandb\u001b[0m: \treg_alpha: 5\n",
      "\u001b[34m\u001b[1mwandb\u001b[0m: \treg_lambda: 0.5\n",
      "\u001b[34m\u001b[1mwandb\u001b[0m: \tsample_weight: None\n",
      "\u001b[34m\u001b[1mwandb\u001b[0m: \tsubsample: 1\n",
      "\u001b[34m\u001b[1mwandb\u001b[0m: \tsubsample_freq: 1\n",
      "\u001b[34m\u001b[1mwandb\u001b[0m: \tuse_covariates: False\n",
      "\u001b[34m\u001b[1mwandb\u001b[0m: \tuse_encoders: True\n",
      "\u001b[34m\u001b[1mwandb\u001b[0m: \tuse_features: False\n",
      "\u001b[34m\u001b[1mwandb\u001b[0m: \tuse_static_covariates: False\n",
      "Failed to detect the name of this notebook, you can set it manually with the WANDB_NOTEBOOK_NAME environment variable to enable code saving.\n"
     ]
    },
    {
     "data": {
      "text/html": [
       "Tracking run with wandb version 0.18.0"
      ],
      "text/plain": [
       "<IPython.core.display.HTML object>"
      ]
     },
     "metadata": {},
     "output_type": "display_data"
    },
    {
     "data": {
      "text/html": [
       "Run data is saved locally in <code>/home/wolffram/SARI-ML/ARI/wandb/run-20241031_220955-8ikxh8bf</code>"
      ],
      "text/plain": [
       "<IPython.core.display.HTML object>"
      ]
     },
     "metadata": {},
     "output_type": "display_data"
    },
    {
     "data": {
      "text/html": [
       "Syncing run <strong><a href='https://wandb.ai/dwolffram-karlsruhe-institute-of-technology/ari-lightgbm/runs/8ikxh8bf' target=\"_blank\">soft-sweep-37</a></strong> to <a href='https://wandb.ai/dwolffram-karlsruhe-institute-of-technology/ari-lightgbm' target=\"_blank\">Weights & Biases</a> (<a href='https://wandb.me/run' target=\"_blank\">docs</a>)<br/>Sweep page: <a href='https://wandb.ai/dwolffram-karlsruhe-institute-of-technology/ari-lightgbm/sweeps/me2h5ytc' target=\"_blank\">https://wandb.ai/dwolffram-karlsruhe-institute-of-technology/ari-lightgbm/sweeps/me2h5ytc</a>"
      ],
      "text/plain": [
       "<IPython.core.display.HTML object>"
      ]
     },
     "metadata": {},
     "output_type": "display_data"
    },
    {
     "data": {
      "text/html": [
       " View project at <a href='https://wandb.ai/dwolffram-karlsruhe-institute-of-technology/ari-lightgbm' target=\"_blank\">https://wandb.ai/dwolffram-karlsruhe-institute-of-technology/ari-lightgbm</a>"
      ],
      "text/plain": [
       "<IPython.core.display.HTML object>"
      ]
     },
     "metadata": {},
     "output_type": "display_data"
    },
    {
     "data": {
      "text/html": [
       " View sweep at <a href='https://wandb.ai/dwolffram-karlsruhe-institute-of-technology/ari-lightgbm/sweeps/me2h5ytc' target=\"_blank\">https://wandb.ai/dwolffram-karlsruhe-institute-of-technology/ari-lightgbm/sweeps/me2h5ytc</a>"
      ],
      "text/plain": [
       "<IPython.core.display.HTML object>"
      ]
     },
     "metadata": {},
     "output_type": "display_data"
    },
    {
     "data": {
      "text/html": [
       " View run at <a href='https://wandb.ai/dwolffram-karlsruhe-institute-of-technology/ari-lightgbm/runs/8ikxh8bf' target=\"_blank\">https://wandb.ai/dwolffram-karlsruhe-institute-of-technology/ari-lightgbm/runs/8ikxh8bf</a>"
      ],
      "text/plain": [
       "<IPython.core.display.HTML object>"
      ]
     },
     "metadata": {},
     "output_type": "display_data"
    },
    {
     "data": {
      "application/vnd.jupyter.widget-view+json": {
       "model_id": "0b43fce350ad4f8c8b95067b7dbbf4de",
       "version_major": 2,
       "version_minor": 0
      },
      "text/plain": [
       "VBox(children=(Label(value='0.006 MB of 0.006 MB uploaded\\r'), FloatProgress(value=1.0, max=1.0)))"
      ]
     },
     "metadata": {},
     "output_type": "display_data"
    },
    {
     "data": {
      "text/html": [
       "<style>\n",
       "    table.wandb td:nth-child(1) { padding: 0 10px; text-align: left ; width: auto;} td:nth-child(2) {text-align: left ; width: 100%}\n",
       "    .wandb-row { display: flex; flex-direction: row; flex-wrap: wrap; justify-content: flex-start; width: 100% }\n",
       "    .wandb-col { display: flex; flex-direction: column; flex-basis: 100%; flex: 1; padding: 10px; }\n",
       "    </style>\n",
       "<div class=\"wandb-row\"><div class=\"wandb-col\"><h3>Run history:</h3><br/><table class=\"wandb\"><tr><td>WIS</td><td>▁</td></tr><tr><td>WIS_2022</td><td>▁</td></tr><tr><td>WIS_2022_1</td><td>▁</td></tr><tr><td>WIS_2022_2</td><td>▁</td></tr><tr><td>WIS_2022_3</td><td>▁</td></tr><tr><td>WIS_2023</td><td>▁</td></tr><tr><td>WIS_2023_1</td><td>▁</td></tr><tr><td>WIS_2023_2</td><td>▁</td></tr><tr><td>WIS_2023_3</td><td>▁</td></tr><tr><td>WIS_std</td><td>▁</td></tr><tr><td>WIS_std_2022</td><td>▁</td></tr><tr><td>WIS_std_2023</td><td>▁</td></tr></table><br/></div><div class=\"wandb-col\"><h3>Run summary:</h3><br/><table class=\"wandb\"><tr><td>WIS</td><td>240.04487</td></tr><tr><td>WIS_2022</td><td>303.30024</td></tr><tr><td>WIS_2022_1</td><td>303.40039</td></tr><tr><td>WIS_2022_2</td><td>303.09424</td></tr><tr><td>WIS_2022_3</td><td>303.4061</td></tr><tr><td>WIS_2023</td><td>176.7895</td></tr><tr><td>WIS_2023_1</td><td>176.68322</td></tr><tr><td>WIS_2023_2</td><td>176.87422</td></tr><tr><td>WIS_2023_3</td><td>176.81107</td></tr><tr><td>WIS_std</td><td>63.25548</td></tr><tr><td>WIS_std_2022</td><td>0.14568</td></tr><tr><td>WIS_std_2023</td><td>0.07945</td></tr></table><br/></div></div>"
      ],
      "text/plain": [
       "<IPython.core.display.HTML object>"
      ]
     },
     "metadata": {},
     "output_type": "display_data"
    },
    {
     "data": {
      "text/html": [
       " View run <strong style=\"color:#cdcd00\">soft-sweep-37</strong> at: <a href='https://wandb.ai/dwolffram-karlsruhe-institute-of-technology/ari-lightgbm/runs/8ikxh8bf' target=\"_blank\">https://wandb.ai/dwolffram-karlsruhe-institute-of-technology/ari-lightgbm/runs/8ikxh8bf</a><br/> View project at: <a href='https://wandb.ai/dwolffram-karlsruhe-institute-of-technology/ari-lightgbm' target=\"_blank\">https://wandb.ai/dwolffram-karlsruhe-institute-of-technology/ari-lightgbm</a><br/>Synced 5 W&B file(s), 0 media file(s), 0 artifact file(s) and 0 other file(s)"
      ],
      "text/plain": [
       "<IPython.core.display.HTML object>"
      ]
     },
     "metadata": {},
     "output_type": "display_data"
    },
    {
     "data": {
      "text/html": [
       "Find logs at: <code>./wandb/run-20241031_220955-8ikxh8bf/logs</code>"
      ],
      "text/plain": [
       "<IPython.core.display.HTML object>"
      ]
     },
     "metadata": {},
     "output_type": "display_data"
    },
    {
     "data": {
      "text/html": [
       "There is a new version of wandb available. Please upgrade to wandb==0.18.5"
      ],
      "text/plain": [
       "<IPython.core.display.HTML object>"
      ]
     },
     "metadata": {},
     "output_type": "display_data"
    },
    {
     "name": "stderr",
     "output_type": "stream",
     "text": [
      "\u001b[34m\u001b[1mwandb\u001b[0m: Agent Starting Run: rizvb7a2 with config:\n",
      "\u001b[34m\u001b[1mwandb\u001b[0m: \tcolsample_bytree: 0.8\n",
      "\u001b[34m\u001b[1mwandb\u001b[0m: \tlags: 8\n",
      "\u001b[34m\u001b[1mwandb\u001b[0m: \tlags_future_covariates: [0, 1]\n",
      "\u001b[34m\u001b[1mwandb\u001b[0m: \tlags_past_covariates: 8\n",
      "\u001b[34m\u001b[1mwandb\u001b[0m: \tlearning_rate: 0.05\n",
      "\u001b[34m\u001b[1mwandb\u001b[0m: \tmax_bin: 510\n",
      "\u001b[34m\u001b[1mwandb\u001b[0m: \tmax_depth: 10\n",
      "\u001b[34m\u001b[1mwandb\u001b[0m: \tmin_child_samples: 20\n",
      "\u001b[34m\u001b[1mwandb\u001b[0m: \tmin_split_gain: 0\n",
      "\u001b[34m\u001b[1mwandb\u001b[0m: \tmodel: lightgbm\n",
      "\u001b[34m\u001b[1mwandb\u001b[0m: \tmultiple_series: False\n",
      "\u001b[34m\u001b[1mwandb\u001b[0m: \tn_estimators: 500\n",
      "\u001b[34m\u001b[1mwandb\u001b[0m: \tnum_leaves: 10\n",
      "\u001b[34m\u001b[1mwandb\u001b[0m: \treg_alpha: 1\n",
      "\u001b[34m\u001b[1mwandb\u001b[0m: \treg_lambda: 0.25\n",
      "\u001b[34m\u001b[1mwandb\u001b[0m: \tsample_weight: linear\n",
      "\u001b[34m\u001b[1mwandb\u001b[0m: \tsubsample: 0.9\n",
      "\u001b[34m\u001b[1mwandb\u001b[0m: \tsubsample_freq: 5\n",
      "\u001b[34m\u001b[1mwandb\u001b[0m: \tuse_covariates: False\n",
      "\u001b[34m\u001b[1mwandb\u001b[0m: \tuse_encoders: True\n",
      "\u001b[34m\u001b[1mwandb\u001b[0m: \tuse_features: False\n",
      "\u001b[34m\u001b[1mwandb\u001b[0m: \tuse_static_covariates: False\n",
      "Failed to detect the name of this notebook, you can set it manually with the WANDB_NOTEBOOK_NAME environment variable to enable code saving.\n"
     ]
    },
    {
     "data": {
      "text/html": [
       "Tracking run with wandb version 0.18.0"
      ],
      "text/plain": [
       "<IPython.core.display.HTML object>"
      ]
     },
     "metadata": {},
     "output_type": "display_data"
    },
    {
     "data": {
      "text/html": [
       "Run data is saved locally in <code>/home/wolffram/SARI-ML/ARI/wandb/run-20241031_221327-rizvb7a2</code>"
      ],
      "text/plain": [
       "<IPython.core.display.HTML object>"
      ]
     },
     "metadata": {},
     "output_type": "display_data"
    },
    {
     "data": {
      "text/html": [
       "Syncing run <strong><a href='https://wandb.ai/dwolffram-karlsruhe-institute-of-technology/ari-lightgbm/runs/rizvb7a2' target=\"_blank\">true-sweep-38</a></strong> to <a href='https://wandb.ai/dwolffram-karlsruhe-institute-of-technology/ari-lightgbm' target=\"_blank\">Weights & Biases</a> (<a href='https://wandb.me/run' target=\"_blank\">docs</a>)<br/>Sweep page: <a href='https://wandb.ai/dwolffram-karlsruhe-institute-of-technology/ari-lightgbm/sweeps/me2h5ytc' target=\"_blank\">https://wandb.ai/dwolffram-karlsruhe-institute-of-technology/ari-lightgbm/sweeps/me2h5ytc</a>"
      ],
      "text/plain": [
       "<IPython.core.display.HTML object>"
      ]
     },
     "metadata": {},
     "output_type": "display_data"
    },
    {
     "data": {
      "text/html": [
       " View project at <a href='https://wandb.ai/dwolffram-karlsruhe-institute-of-technology/ari-lightgbm' target=\"_blank\">https://wandb.ai/dwolffram-karlsruhe-institute-of-technology/ari-lightgbm</a>"
      ],
      "text/plain": [
       "<IPython.core.display.HTML object>"
      ]
     },
     "metadata": {},
     "output_type": "display_data"
    },
    {
     "data": {
      "text/html": [
       " View sweep at <a href='https://wandb.ai/dwolffram-karlsruhe-institute-of-technology/ari-lightgbm/sweeps/me2h5ytc' target=\"_blank\">https://wandb.ai/dwolffram-karlsruhe-institute-of-technology/ari-lightgbm/sweeps/me2h5ytc</a>"
      ],
      "text/plain": [
       "<IPython.core.display.HTML object>"
      ]
     },
     "metadata": {},
     "output_type": "display_data"
    },
    {
     "data": {
      "text/html": [
       " View run at <a href='https://wandb.ai/dwolffram-karlsruhe-institute-of-technology/ari-lightgbm/runs/rizvb7a2' target=\"_blank\">https://wandb.ai/dwolffram-karlsruhe-institute-of-technology/ari-lightgbm/runs/rizvb7a2</a>"
      ],
      "text/plain": [
       "<IPython.core.display.HTML object>"
      ]
     },
     "metadata": {},
     "output_type": "display_data"
    },
    {
     "data": {
      "application/vnd.jupyter.widget-view+json": {
       "model_id": "4162966632824cf29e922f888693a652",
       "version_major": 2,
       "version_minor": 0
      },
      "text/plain": [
       "VBox(children=(Label(value='0.006 MB of 0.006 MB uploaded\\r'), FloatProgress(value=1.0, max=1.0)))"
      ]
     },
     "metadata": {},
     "output_type": "display_data"
    },
    {
     "data": {
      "text/html": [
       "<style>\n",
       "    table.wandb td:nth-child(1) { padding: 0 10px; text-align: left ; width: auto;} td:nth-child(2) {text-align: left ; width: 100%}\n",
       "    .wandb-row { display: flex; flex-direction: row; flex-wrap: wrap; justify-content: flex-start; width: 100% }\n",
       "    .wandb-col { display: flex; flex-direction: column; flex-basis: 100%; flex: 1; padding: 10px; }\n",
       "    </style>\n",
       "<div class=\"wandb-row\"><div class=\"wandb-col\"><h3>Run history:</h3><br/><table class=\"wandb\"><tr><td>WIS</td><td>▁</td></tr><tr><td>WIS_2022</td><td>▁</td></tr><tr><td>WIS_2022_1</td><td>▁</td></tr><tr><td>WIS_2022_2</td><td>▁</td></tr><tr><td>WIS_2022_3</td><td>▁</td></tr><tr><td>WIS_2023</td><td>▁</td></tr><tr><td>WIS_2023_1</td><td>▁</td></tr><tr><td>WIS_2023_2</td><td>▁</td></tr><tr><td>WIS_2023_3</td><td>▁</td></tr><tr><td>WIS_std</td><td>▁</td></tr><tr><td>WIS_std_2022</td><td>▁</td></tr><tr><td>WIS_std_2023</td><td>▁</td></tr></table><br/></div><div class=\"wandb-col\"><h3>Run summary:</h3><br/><table class=\"wandb\"><tr><td>WIS</td><td>244.24726</td></tr><tr><td>WIS_2022</td><td>325.10004</td></tr><tr><td>WIS_2022_1</td><td>324.66524</td></tr><tr><td>WIS_2022_2</td><td>325.26017</td></tr><tr><td>WIS_2022_3</td><td>325.37471</td></tr><tr><td>WIS_2023</td><td>163.39447</td></tr><tr><td>WIS_2023_1</td><td>163.43243</td></tr><tr><td>WIS_2023_2</td><td>163.17247</td></tr><tr><td>WIS_2023_3</td><td>163.57851</td></tr><tr><td>WIS_std</td><td>80.85317</td></tr><tr><td>WIS_std_2022</td><td>0.31098</td></tr><tr><td>WIS_std_2023</td><td>0.16792</td></tr></table><br/></div></div>"
      ],
      "text/plain": [
       "<IPython.core.display.HTML object>"
      ]
     },
     "metadata": {},
     "output_type": "display_data"
    },
    {
     "data": {
      "text/html": [
       " View run <strong style=\"color:#cdcd00\">true-sweep-38</strong> at: <a href='https://wandb.ai/dwolffram-karlsruhe-institute-of-technology/ari-lightgbm/runs/rizvb7a2' target=\"_blank\">https://wandb.ai/dwolffram-karlsruhe-institute-of-technology/ari-lightgbm/runs/rizvb7a2</a><br/> View project at: <a href='https://wandb.ai/dwolffram-karlsruhe-institute-of-technology/ari-lightgbm' target=\"_blank\">https://wandb.ai/dwolffram-karlsruhe-institute-of-technology/ari-lightgbm</a><br/>Synced 5 W&B file(s), 0 media file(s), 0 artifact file(s) and 0 other file(s)"
      ],
      "text/plain": [
       "<IPython.core.display.HTML object>"
      ]
     },
     "metadata": {},
     "output_type": "display_data"
    },
    {
     "data": {
      "text/html": [
       "Find logs at: <code>./wandb/run-20241031_221327-rizvb7a2/logs</code>"
      ],
      "text/plain": [
       "<IPython.core.display.HTML object>"
      ]
     },
     "metadata": {},
     "output_type": "display_data"
    },
    {
     "data": {
      "text/html": [
       "There is a new version of wandb available. Please upgrade to wandb==0.18.5"
      ],
      "text/plain": [
       "<IPython.core.display.HTML object>"
      ]
     },
     "metadata": {},
     "output_type": "display_data"
    },
    {
     "name": "stderr",
     "output_type": "stream",
     "text": [
      "\u001b[34m\u001b[1mwandb\u001b[0m: Agent Starting Run: pipmg2hv with config:\n",
      "\u001b[34m\u001b[1mwandb\u001b[0m: \tcolsample_bytree: 0.8\n",
      "\u001b[34m\u001b[1mwandb\u001b[0m: \tlags: 8\n",
      "\u001b[34m\u001b[1mwandb\u001b[0m: \tlags_future_covariates: [0, 1]\n",
      "\u001b[34m\u001b[1mwandb\u001b[0m: \tlags_past_covariates: 8\n",
      "\u001b[34m\u001b[1mwandb\u001b[0m: \tlearning_rate: 0.005\n",
      "\u001b[34m\u001b[1mwandb\u001b[0m: \tmax_bin: 1024\n",
      "\u001b[34m\u001b[1mwandb\u001b[0m: \tmax_depth: -1\n",
      "\u001b[34m\u001b[1mwandb\u001b[0m: \tmin_child_samples: 40\n",
      "\u001b[34m\u001b[1mwandb\u001b[0m: \tmin_split_gain: 0.2\n",
      "\u001b[34m\u001b[1mwandb\u001b[0m: \tmodel: lightgbm\n",
      "\u001b[34m\u001b[1mwandb\u001b[0m: \tmultiple_series: False\n",
      "\u001b[34m\u001b[1mwandb\u001b[0m: \tn_estimators: 2000\n",
      "\u001b[34m\u001b[1mwandb\u001b[0m: \tnum_leaves: 50\n",
      "\u001b[34m\u001b[1mwandb\u001b[0m: \treg_alpha: 0\n",
      "\u001b[34m\u001b[1mwandb\u001b[0m: \treg_lambda: 1\n",
      "\u001b[34m\u001b[1mwandb\u001b[0m: \tsample_weight: None\n",
      "\u001b[34m\u001b[1mwandb\u001b[0m: \tsubsample: 1\n",
      "\u001b[34m\u001b[1mwandb\u001b[0m: \tsubsample_freq: 5\n",
      "\u001b[34m\u001b[1mwandb\u001b[0m: \tuse_covariates: False\n",
      "\u001b[34m\u001b[1mwandb\u001b[0m: \tuse_encoders: True\n",
      "\u001b[34m\u001b[1mwandb\u001b[0m: \tuse_features: False\n",
      "\u001b[34m\u001b[1mwandb\u001b[0m: \tuse_static_covariates: False\n",
      "Failed to detect the name of this notebook, you can set it manually with the WANDB_NOTEBOOK_NAME environment variable to enable code saving.\n"
     ]
    },
    {
     "data": {
      "text/html": [
       "Tracking run with wandb version 0.18.0"
      ],
      "text/plain": [
       "<IPython.core.display.HTML object>"
      ]
     },
     "metadata": {},
     "output_type": "display_data"
    },
    {
     "data": {
      "text/html": [
       "Run data is saved locally in <code>/home/wolffram/SARI-ML/ARI/wandb/run-20241031_221658-pipmg2hv</code>"
      ],
      "text/plain": [
       "<IPython.core.display.HTML object>"
      ]
     },
     "metadata": {},
     "output_type": "display_data"
    },
    {
     "data": {
      "text/html": [
       "Syncing run <strong><a href='https://wandb.ai/dwolffram-karlsruhe-institute-of-technology/ari-lightgbm/runs/pipmg2hv' target=\"_blank\">flowing-sweep-39</a></strong> to <a href='https://wandb.ai/dwolffram-karlsruhe-institute-of-technology/ari-lightgbm' target=\"_blank\">Weights & Biases</a> (<a href='https://wandb.me/run' target=\"_blank\">docs</a>)<br/>Sweep page: <a href='https://wandb.ai/dwolffram-karlsruhe-institute-of-technology/ari-lightgbm/sweeps/me2h5ytc' target=\"_blank\">https://wandb.ai/dwolffram-karlsruhe-institute-of-technology/ari-lightgbm/sweeps/me2h5ytc</a>"
      ],
      "text/plain": [
       "<IPython.core.display.HTML object>"
      ]
     },
     "metadata": {},
     "output_type": "display_data"
    },
    {
     "data": {
      "text/html": [
       " View project at <a href='https://wandb.ai/dwolffram-karlsruhe-institute-of-technology/ari-lightgbm' target=\"_blank\">https://wandb.ai/dwolffram-karlsruhe-institute-of-technology/ari-lightgbm</a>"
      ],
      "text/plain": [
       "<IPython.core.display.HTML object>"
      ]
     },
     "metadata": {},
     "output_type": "display_data"
    },
    {
     "data": {
      "text/html": [
       " View sweep at <a href='https://wandb.ai/dwolffram-karlsruhe-institute-of-technology/ari-lightgbm/sweeps/me2h5ytc' target=\"_blank\">https://wandb.ai/dwolffram-karlsruhe-institute-of-technology/ari-lightgbm/sweeps/me2h5ytc</a>"
      ],
      "text/plain": [
       "<IPython.core.display.HTML object>"
      ]
     },
     "metadata": {},
     "output_type": "display_data"
    },
    {
     "data": {
      "text/html": [
       " View run at <a href='https://wandb.ai/dwolffram-karlsruhe-institute-of-technology/ari-lightgbm/runs/pipmg2hv' target=\"_blank\">https://wandb.ai/dwolffram-karlsruhe-institute-of-technology/ari-lightgbm/runs/pipmg2hv</a>"
      ],
      "text/plain": [
       "<IPython.core.display.HTML object>"
      ]
     },
     "metadata": {},
     "output_type": "display_data"
    },
    {
     "data": {
      "application/vnd.jupyter.widget-view+json": {
       "model_id": "815e3964211a48e1b06529dd8d976ce7",
       "version_major": 2,
       "version_minor": 0
      },
      "text/plain": [
       "VBox(children=(Label(value='0.006 MB of 0.006 MB uploaded\\r'), FloatProgress(value=1.0, max=1.0)))"
      ]
     },
     "metadata": {},
     "output_type": "display_data"
    },
    {
     "data": {
      "text/html": [
       "<style>\n",
       "    table.wandb td:nth-child(1) { padding: 0 10px; text-align: left ; width: auto;} td:nth-child(2) {text-align: left ; width: 100%}\n",
       "    .wandb-row { display: flex; flex-direction: row; flex-wrap: wrap; justify-content: flex-start; width: 100% }\n",
       "    .wandb-col { display: flex; flex-direction: column; flex-basis: 100%; flex: 1; padding: 10px; }\n",
       "    </style>\n",
       "<div class=\"wandb-row\"><div class=\"wandb-col\"><h3>Run history:</h3><br/><table class=\"wandb\"><tr><td>WIS</td><td>▁</td></tr><tr><td>WIS_2022</td><td>▁</td></tr><tr><td>WIS_2022_1</td><td>▁</td></tr><tr><td>WIS_2022_2</td><td>▁</td></tr><tr><td>WIS_2022_3</td><td>▁</td></tr><tr><td>WIS_2023</td><td>▁</td></tr><tr><td>WIS_2023_1</td><td>▁</td></tr><tr><td>WIS_2023_2</td><td>▁</td></tr><tr><td>WIS_2023_3</td><td>▁</td></tr><tr><td>WIS_std</td><td>▁</td></tr><tr><td>WIS_std_2022</td><td>▁</td></tr><tr><td>WIS_std_2023</td><td>▁</td></tr></table><br/></div><div class=\"wandb-col\"><h3>Run summary:</h3><br/><table class=\"wandb\"><tr><td>WIS</td><td>234.77173</td></tr><tr><td>WIS_2022</td><td>303.51273</td></tr><tr><td>WIS_2022_1</td><td>303.50955</td></tr><tr><td>WIS_2022_2</td><td>303.58907</td></tr><tr><td>WIS_2022_3</td><td>303.43957</td></tr><tr><td>WIS_2023</td><td>166.03072</td></tr><tr><td>WIS_2023_1</td><td>166.311</td></tr><tr><td>WIS_2023_2</td><td>165.70683</td></tr><tr><td>WIS_2023_3</td><td>166.07434</td></tr><tr><td>WIS_std</td><td>68.74124</td></tr><tr><td>WIS_std_2022</td><td>0.06107</td></tr><tr><td>WIS_std_2023</td><td>0.24857</td></tr></table><br/></div></div>"
      ],
      "text/plain": [
       "<IPython.core.display.HTML object>"
      ]
     },
     "metadata": {},
     "output_type": "display_data"
    },
    {
     "data": {
      "text/html": [
       " View run <strong style=\"color:#cdcd00\">flowing-sweep-39</strong> at: <a href='https://wandb.ai/dwolffram-karlsruhe-institute-of-technology/ari-lightgbm/runs/pipmg2hv' target=\"_blank\">https://wandb.ai/dwolffram-karlsruhe-institute-of-technology/ari-lightgbm/runs/pipmg2hv</a><br/> View project at: <a href='https://wandb.ai/dwolffram-karlsruhe-institute-of-technology/ari-lightgbm' target=\"_blank\">https://wandb.ai/dwolffram-karlsruhe-institute-of-technology/ari-lightgbm</a><br/>Synced 5 W&B file(s), 0 media file(s), 0 artifact file(s) and 0 other file(s)"
      ],
      "text/plain": [
       "<IPython.core.display.HTML object>"
      ]
     },
     "metadata": {},
     "output_type": "display_data"
    },
    {
     "data": {
      "text/html": [
       "Find logs at: <code>./wandb/run-20241031_221658-pipmg2hv/logs</code>"
      ],
      "text/plain": [
       "<IPython.core.display.HTML object>"
      ]
     },
     "metadata": {},
     "output_type": "display_data"
    },
    {
     "data": {
      "text/html": [
       "There is a new version of wandb available. Please upgrade to wandb==0.18.5"
      ],
      "text/plain": [
       "<IPython.core.display.HTML object>"
      ]
     },
     "metadata": {},
     "output_type": "display_data"
    },
    {
     "name": "stderr",
     "output_type": "stream",
     "text": [
      "\u001b[34m\u001b[1mwandb\u001b[0m: Agent Starting Run: i52buc39 with config:\n",
      "\u001b[34m\u001b[1mwandb\u001b[0m: \tcolsample_bytree: 0.9\n",
      "\u001b[34m\u001b[1mwandb\u001b[0m: \tlags: 8\n",
      "\u001b[34m\u001b[1mwandb\u001b[0m: \tlags_future_covariates: [0, 1]\n",
      "\u001b[34m\u001b[1mwandb\u001b[0m: \tlags_past_covariates: 8\n",
      "\u001b[34m\u001b[1mwandb\u001b[0m: \tlearning_rate: 0.2\n",
      "\u001b[34m\u001b[1mwandb\u001b[0m: \tmax_bin: 1024\n",
      "\u001b[34m\u001b[1mwandb\u001b[0m: \tmax_depth: 20\n",
      "\u001b[34m\u001b[1mwandb\u001b[0m: \tmin_child_samples: 20\n",
      "\u001b[34m\u001b[1mwandb\u001b[0m: \tmin_split_gain: 0.2\n",
      "\u001b[34m\u001b[1mwandb\u001b[0m: \tmodel: lightgbm\n",
      "\u001b[34m\u001b[1mwandb\u001b[0m: \tmultiple_series: False\n",
      "\u001b[34m\u001b[1mwandb\u001b[0m: \tn_estimators: 250\n",
      "\u001b[34m\u001b[1mwandb\u001b[0m: \tnum_leaves: 50\n",
      "\u001b[34m\u001b[1mwandb\u001b[0m: \treg_alpha: 0.25\n",
      "\u001b[34m\u001b[1mwandb\u001b[0m: \treg_lambda: 5\n",
      "\u001b[34m\u001b[1mwandb\u001b[0m: \tsample_weight: linear\n",
      "\u001b[34m\u001b[1mwandb\u001b[0m: \tsubsample: 0.9\n",
      "\u001b[34m\u001b[1mwandb\u001b[0m: \tsubsample_freq: 1\n",
      "\u001b[34m\u001b[1mwandb\u001b[0m: \tuse_covariates: True\n",
      "\u001b[34m\u001b[1mwandb\u001b[0m: \tuse_encoders: True\n",
      "\u001b[34m\u001b[1mwandb\u001b[0m: \tuse_features: False\n",
      "\u001b[34m\u001b[1mwandb\u001b[0m: \tuse_static_covariates: False\n",
      "Failed to detect the name of this notebook, you can set it manually with the WANDB_NOTEBOOK_NAME environment variable to enable code saving.\n"
     ]
    },
    {
     "data": {
      "text/html": [
       "Tracking run with wandb version 0.18.0"
      ],
      "text/plain": [
       "<IPython.core.display.HTML object>"
      ]
     },
     "metadata": {},
     "output_type": "display_data"
    },
    {
     "data": {
      "text/html": [
       "Run data is saved locally in <code>/home/wolffram/SARI-ML/ARI/wandb/run-20241031_222726-i52buc39</code>"
      ],
      "text/plain": [
       "<IPython.core.display.HTML object>"
      ]
     },
     "metadata": {},
     "output_type": "display_data"
    },
    {
     "data": {
      "text/html": [
       "Syncing run <strong><a href='https://wandb.ai/dwolffram-karlsruhe-institute-of-technology/ari-lightgbm/runs/i52buc39' target=\"_blank\">magic-sweep-40</a></strong> to <a href='https://wandb.ai/dwolffram-karlsruhe-institute-of-technology/ari-lightgbm' target=\"_blank\">Weights & Biases</a> (<a href='https://wandb.me/run' target=\"_blank\">docs</a>)<br/>Sweep page: <a href='https://wandb.ai/dwolffram-karlsruhe-institute-of-technology/ari-lightgbm/sweeps/me2h5ytc' target=\"_blank\">https://wandb.ai/dwolffram-karlsruhe-institute-of-technology/ari-lightgbm/sweeps/me2h5ytc</a>"
      ],
      "text/plain": [
       "<IPython.core.display.HTML object>"
      ]
     },
     "metadata": {},
     "output_type": "display_data"
    },
    {
     "data": {
      "text/html": [
       " View project at <a href='https://wandb.ai/dwolffram-karlsruhe-institute-of-technology/ari-lightgbm' target=\"_blank\">https://wandb.ai/dwolffram-karlsruhe-institute-of-technology/ari-lightgbm</a>"
      ],
      "text/plain": [
       "<IPython.core.display.HTML object>"
      ]
     },
     "metadata": {},
     "output_type": "display_data"
    },
    {
     "data": {
      "text/html": [
       " View sweep at <a href='https://wandb.ai/dwolffram-karlsruhe-institute-of-technology/ari-lightgbm/sweeps/me2h5ytc' target=\"_blank\">https://wandb.ai/dwolffram-karlsruhe-institute-of-technology/ari-lightgbm/sweeps/me2h5ytc</a>"
      ],
      "text/plain": [
       "<IPython.core.display.HTML object>"
      ]
     },
     "metadata": {},
     "output_type": "display_data"
    },
    {
     "data": {
      "text/html": [
       " View run at <a href='https://wandb.ai/dwolffram-karlsruhe-institute-of-technology/ari-lightgbm/runs/i52buc39' target=\"_blank\">https://wandb.ai/dwolffram-karlsruhe-institute-of-technology/ari-lightgbm/runs/i52buc39</a>"
      ],
      "text/plain": [
       "<IPython.core.display.HTML object>"
      ]
     },
     "metadata": {},
     "output_type": "display_data"
    },
    {
     "data": {
      "application/vnd.jupyter.widget-view+json": {
       "model_id": "5e978da45bfd4ada8d99531c9de291fa",
       "version_major": 2,
       "version_minor": 0
      },
      "text/plain": [
       "VBox(children=(Label(value='0.006 MB of 0.006 MB uploaded\\r'), FloatProgress(value=1.0, max=1.0)))"
      ]
     },
     "metadata": {},
     "output_type": "display_data"
    },
    {
     "data": {
      "text/html": [
       "<style>\n",
       "    table.wandb td:nth-child(1) { padding: 0 10px; text-align: left ; width: auto;} td:nth-child(2) {text-align: left ; width: 100%}\n",
       "    .wandb-row { display: flex; flex-direction: row; flex-wrap: wrap; justify-content: flex-start; width: 100% }\n",
       "    .wandb-col { display: flex; flex-direction: column; flex-basis: 100%; flex: 1; padding: 10px; }\n",
       "    </style>\n",
       "<div class=\"wandb-row\"><div class=\"wandb-col\"><h3>Run history:</h3><br/><table class=\"wandb\"><tr><td>WIS</td><td>▁</td></tr><tr><td>WIS_2022</td><td>▁</td></tr><tr><td>WIS_2022_1</td><td>▁</td></tr><tr><td>WIS_2022_2</td><td>▁</td></tr><tr><td>WIS_2022_3</td><td>▁</td></tr><tr><td>WIS_2023</td><td>▁</td></tr><tr><td>WIS_2023_1</td><td>▁</td></tr><tr><td>WIS_2023_2</td><td>▁</td></tr><tr><td>WIS_2023_3</td><td>▁</td></tr><tr><td>WIS_std</td><td>▁</td></tr><tr><td>WIS_std_2022</td><td>▁</td></tr><tr><td>WIS_std_2023</td><td>▁</td></tr></table><br/></div><div class=\"wandb-col\"><h3>Run summary:</h3><br/><table class=\"wandb\"><tr><td>WIS</td><td>250.65888</td></tr><tr><td>WIS_2022</td><td>325.15816</td></tr><tr><td>WIS_2022_1</td><td>324.83669</td></tr><tr><td>WIS_2022_2</td><td>325.2206</td></tr><tr><td>WIS_2022_3</td><td>325.4172</td></tr><tr><td>WIS_2023</td><td>176.1596</td></tr><tr><td>WIS_2023_1</td><td>176.61573</td></tr><tr><td>WIS_2023_2</td><td>175.54524</td></tr><tr><td>WIS_2023_3</td><td>176.31784</td></tr><tr><td>WIS_std</td><td>74.50016</td></tr><tr><td>WIS_std_2022</td><td>0.24107</td></tr><tr><td>WIS_std_2023</td><td>0.45112</td></tr></table><br/></div></div>"
      ],
      "text/plain": [
       "<IPython.core.display.HTML object>"
      ]
     },
     "metadata": {},
     "output_type": "display_data"
    },
    {
     "data": {
      "text/html": [
       " View run <strong style=\"color:#cdcd00\">magic-sweep-40</strong> at: <a href='https://wandb.ai/dwolffram-karlsruhe-institute-of-technology/ari-lightgbm/runs/i52buc39' target=\"_blank\">https://wandb.ai/dwolffram-karlsruhe-institute-of-technology/ari-lightgbm/runs/i52buc39</a><br/> View project at: <a href='https://wandb.ai/dwolffram-karlsruhe-institute-of-technology/ari-lightgbm' target=\"_blank\">https://wandb.ai/dwolffram-karlsruhe-institute-of-technology/ari-lightgbm</a><br/>Synced 5 W&B file(s), 0 media file(s), 0 artifact file(s) and 0 other file(s)"
      ],
      "text/plain": [
       "<IPython.core.display.HTML object>"
      ]
     },
     "metadata": {},
     "output_type": "display_data"
    },
    {
     "data": {
      "text/html": [
       "Find logs at: <code>./wandb/run-20241031_222726-i52buc39/logs</code>"
      ],
      "text/plain": [
       "<IPython.core.display.HTML object>"
      ]
     },
     "metadata": {},
     "output_type": "display_data"
    },
    {
     "data": {
      "text/html": [
       "There is a new version of wandb available. Please upgrade to wandb==0.18.5"
      ],
      "text/plain": [
       "<IPython.core.display.HTML object>"
      ]
     },
     "metadata": {},
     "output_type": "display_data"
    },
    {
     "name": "stderr",
     "output_type": "stream",
     "text": [
      "\u001b[34m\u001b[1mwandb\u001b[0m: Agent Starting Run: ij9svkvo with config:\n",
      "\u001b[34m\u001b[1mwandb\u001b[0m: \tcolsample_bytree: 0.9\n",
      "\u001b[34m\u001b[1mwandb\u001b[0m: \tlags: 8\n",
      "\u001b[34m\u001b[1mwandb\u001b[0m: \tlags_future_covariates: [0, 1]\n",
      "\u001b[34m\u001b[1mwandb\u001b[0m: \tlags_past_covariates: 8\n",
      "\u001b[34m\u001b[1mwandb\u001b[0m: \tlearning_rate: 0.1\n",
      "\u001b[34m\u001b[1mwandb\u001b[0m: \tmax_bin: 510\n",
      "\u001b[34m\u001b[1mwandb\u001b[0m: \tmax_depth: -1\n",
      "\u001b[34m\u001b[1mwandb\u001b[0m: \tmin_child_samples: 30\n",
      "\u001b[34m\u001b[1mwandb\u001b[0m: \tmin_split_gain: 0.2\n",
      "\u001b[34m\u001b[1mwandb\u001b[0m: \tmodel: lightgbm\n",
      "\u001b[34m\u001b[1mwandb\u001b[0m: \tmultiple_series: False\n",
      "\u001b[34m\u001b[1mwandb\u001b[0m: \tn_estimators: 5000\n",
      "\u001b[34m\u001b[1mwandb\u001b[0m: \tnum_leaves: 31\n",
      "\u001b[34m\u001b[1mwandb\u001b[0m: \treg_alpha: 0.25\n",
      "\u001b[34m\u001b[1mwandb\u001b[0m: \treg_lambda: 1\n",
      "\u001b[34m\u001b[1mwandb\u001b[0m: \tsample_weight: linear\n",
      "\u001b[34m\u001b[1mwandb\u001b[0m: \tsubsample: 0.8\n",
      "\u001b[34m\u001b[1mwandb\u001b[0m: \tsubsample_freq: 1\n",
      "\u001b[34m\u001b[1mwandb\u001b[0m: \tuse_covariates: False\n",
      "\u001b[34m\u001b[1mwandb\u001b[0m: \tuse_encoders: True\n",
      "\u001b[34m\u001b[1mwandb\u001b[0m: \tuse_features: False\n",
      "\u001b[34m\u001b[1mwandb\u001b[0m: \tuse_static_covariates: False\n",
      "Failed to detect the name of this notebook, you can set it manually with the WANDB_NOTEBOOK_NAME environment variable to enable code saving.\n"
     ]
    },
    {
     "data": {
      "application/vnd.jupyter.widget-view+json": {
       "model_id": "6824877067dc4a66a7500f0bd52e7e43",
       "version_major": 2,
       "version_minor": 0
      },
      "text/plain": [
       "VBox(children=(Label(value='Waiting for wandb.init()...\\r'), FloatProgress(value=0.011113031322343482, max=1.0…"
      ]
     },
     "metadata": {},
     "output_type": "display_data"
    },
    {
     "data": {
      "text/html": [
       "Tracking run with wandb version 0.18.0"
      ],
      "text/plain": [
       "<IPython.core.display.HTML object>"
      ]
     },
     "metadata": {},
     "output_type": "display_data"
    },
    {
     "data": {
      "text/html": [
       "Run data is saved locally in <code>/home/wolffram/SARI-ML/ARI/wandb/run-20241031_222853-ij9svkvo</code>"
      ],
      "text/plain": [
       "<IPython.core.display.HTML object>"
      ]
     },
     "metadata": {},
     "output_type": "display_data"
    },
    {
     "data": {
      "text/html": [
       "Syncing run <strong><a href='https://wandb.ai/dwolffram-karlsruhe-institute-of-technology/ari-lightgbm/runs/ij9svkvo' target=\"_blank\">fresh-sweep-41</a></strong> to <a href='https://wandb.ai/dwolffram-karlsruhe-institute-of-technology/ari-lightgbm' target=\"_blank\">Weights & Biases</a> (<a href='https://wandb.me/run' target=\"_blank\">docs</a>)<br/>Sweep page: <a href='https://wandb.ai/dwolffram-karlsruhe-institute-of-technology/ari-lightgbm/sweeps/me2h5ytc' target=\"_blank\">https://wandb.ai/dwolffram-karlsruhe-institute-of-technology/ari-lightgbm/sweeps/me2h5ytc</a>"
      ],
      "text/plain": [
       "<IPython.core.display.HTML object>"
      ]
     },
     "metadata": {},
     "output_type": "display_data"
    },
    {
     "data": {
      "text/html": [
       " View project at <a href='https://wandb.ai/dwolffram-karlsruhe-institute-of-technology/ari-lightgbm' target=\"_blank\">https://wandb.ai/dwolffram-karlsruhe-institute-of-technology/ari-lightgbm</a>"
      ],
      "text/plain": [
       "<IPython.core.display.HTML object>"
      ]
     },
     "metadata": {},
     "output_type": "display_data"
    },
    {
     "data": {
      "text/html": [
       " View sweep at <a href='https://wandb.ai/dwolffram-karlsruhe-institute-of-technology/ari-lightgbm/sweeps/me2h5ytc' target=\"_blank\">https://wandb.ai/dwolffram-karlsruhe-institute-of-technology/ari-lightgbm/sweeps/me2h5ytc</a>"
      ],
      "text/plain": [
       "<IPython.core.display.HTML object>"
      ]
     },
     "metadata": {},
     "output_type": "display_data"
    },
    {
     "data": {
      "text/html": [
       " View run at <a href='https://wandb.ai/dwolffram-karlsruhe-institute-of-technology/ari-lightgbm/runs/ij9svkvo' target=\"_blank\">https://wandb.ai/dwolffram-karlsruhe-institute-of-technology/ari-lightgbm/runs/ij9svkvo</a>"
      ],
      "text/plain": [
       "<IPython.core.display.HTML object>"
      ]
     },
     "metadata": {},
     "output_type": "display_data"
    }
   ],
   "source": [
    "wandb.agent(sweep_id, function=main, count=1000)"
   ]
  },
  {
   "cell_type": "code",
   "execution_count": null,
   "id": "c6cf4706-c574-4361-ae57-3093f48fbaa2",
   "metadata": {},
   "outputs": [],
   "source": []
  }
 ],
 "metadata": {
  "kernelspec": {
   "display_name": "RESPINOW-ML",
   "language": "python",
   "name": "respinow-ml"
  },
  "language_info": {
   "codemirror_mode": {
    "name": "ipython",
    "version": 3
   },
   "file_extension": ".py",
   "mimetype": "text/x-python",
   "name": "python",
   "nbconvert_exporter": "python",
   "pygments_lexer": "ipython3",
   "version": "3.9.18"
  }
 },
 "nbformat": 4,
 "nbformat_minor": 5
}
