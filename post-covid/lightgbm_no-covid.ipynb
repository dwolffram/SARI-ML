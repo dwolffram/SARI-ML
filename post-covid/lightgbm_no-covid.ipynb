{
 "cells": [
  {
   "cell_type": "markdown",
   "id": "a06d7174-24f8-4d5e-88a6-ad2a2cf06e87",
   "metadata": {},
   "source": [
    "# LightGBM: Train without COVID-19 period"
   ]
  },
  {
   "cell_type": "markdown",
   "id": "537394ee-4a58-437f-8e9d-70c77b3e3324",
   "metadata": {
    "tags": []
   },
   "source": [
    "### Setup"
   ]
  },
  {
   "cell_type": "code",
   "execution_count": 1,
   "id": "0e493c37-6325-457b-96bc-d534de06f3c4",
   "metadata": {},
   "outputs": [],
   "source": [
    "import sys\n",
    "sys.path.append('../')\n",
    "from src.load_data import *\n",
    "from src.realtime_utils import *\n",
    "from src.hp_tuning_functions import *"
   ]
  },
  {
   "cell_type": "code",
   "execution_count": 2,
   "id": "7f1610ad-9600-4d62-826d-b9bc42048bf2",
   "metadata": {},
   "outputs": [
    {
     "name": "stderr",
     "output_type": "stream",
     "text": [
      "/home/wolffram/.conda/envs/RESPINOW-ML/lib/python3.9/site-packages/statsforecast/utils.py:231: FutureWarning: 'M' is deprecated and will be removed in a future version, please use 'ME' instead.\n",
      "  \"ds\": pd.date_range(start=\"1949-01-01\", periods=len(AirPassengers), freq=\"M\"),\n"
     ]
    }
   ],
   "source": [
    "from darts.models.forecasting.lgbm import LightGBMModel"
   ]
  },
  {
   "cell_type": "code",
   "execution_count": 3,
   "id": "4a34b100-4e12-4914-96d4-bd9f546142a3",
   "metadata": {},
   "outputs": [
    {
     "name": "stderr",
     "output_type": "stream",
     "text": [
      "Failed to detect the name of this notebook, you can set it manually with the WANDB_NOTEBOOK_NAME environment variable to enable code saving.\n",
      "\u001b[34m\u001b[1mwandb\u001b[0m: Using wandb-core as the SDK backend. Please refer to https://wandb.me/wandb-core for more information.\n",
      "\u001b[34m\u001b[1mwandb\u001b[0m: Currently logged in as: \u001b[33mdwolffram\u001b[0m (\u001b[33mdwolffram-karlsruhe-institute-of-technology\u001b[0m). Use \u001b[1m`wandb login --relogin`\u001b[0m to force relogin\n"
     ]
    },
    {
     "data": {
      "text/plain": [
       "True"
      ]
     },
     "execution_count": 3,
     "metadata": {},
     "output_type": "execute_result"
    }
   ],
   "source": [
    "import wandb\n",
    "wandb.login()"
   ]
  },
  {
   "cell_type": "markdown",
   "id": "751a0a79-d466-427e-8c78-fe02b231607c",
   "metadata": {},
   "source": [
    "### Configuration"
   ]
  },
  {
   "cell_type": "code",
   "execution_count": 4,
   "id": "16dd9c99-31ba-494e-8596-a5b4e050e547",
   "metadata": {},
   "outputs": [],
   "source": [
    "NUM_SAMPLES = 1000\n",
    "HORIZON = 4\n",
    "\n",
    "ENCODERS = {\n",
    "    'datetime_attribute': {'future': ['month', 'weekofyear']}\n",
    "}"
   ]
  },
  {
   "cell_type": "markdown",
   "id": "102d70ef-0eaf-4a2f-874a-d5ce8240f40b",
   "metadata": {},
   "source": [
    "# Load best model"
   ]
  },
  {
   "cell_type": "code",
   "execution_count": 5,
   "id": "669595ac-57d2-49d9-a571-35525319cbfa",
   "metadata": {},
   "outputs": [
    {
     "name": "stdout",
     "output_type": "stream",
     "text": [
      "WIS of best run: 447.06267950493736\n"
     ]
    }
   ],
   "source": [
    "params = get_best_parameters('sari-lightgbm', 'lightgbm', 'WIS', sample_weight='linear')"
   ]
  },
  {
   "cell_type": "code",
   "execution_count": 6,
   "id": "d4c14c1e-3416-4fef-a5c0-63b5e853f7e5",
   "metadata": {},
   "outputs": [
    {
     "name": "stdout",
     "output_type": "stream",
     "text": [
      "WIS of best run: 448.5029175270846\n"
     ]
    }
   ],
   "source": [
    "params = get_best_parameters('sari-lightgbm', 'lightgbm', 'WIS', sample_weight='no-covid')"
   ]
  },
  {
   "cell_type": "code",
   "execution_count": 7,
   "id": "5c8c8a1b-0ba2-4c03-9053-5243410dc9d0",
   "metadata": {},
   "outputs": [
    {
     "data": {
      "text/plain": [
       "{'colsample_bytree': 0.8,\n",
       " 'lags': 8,\n",
       " 'lags_future_covariates': [0, 1],\n",
       " 'lags_past_covariates': {'agi-are-05-14': 8,\n",
       "  'agi-are-DE': 8,\n",
       "  'agi-are-15-34': 8,\n",
       "  'agi-are-35-59': 8,\n",
       "  'default_lags': 1,\n",
       "  'agi-are-00-04': 8,\n",
       "  'agi-are-60+': 8},\n",
       " 'learning_rate': 0.1,\n",
       " 'max_bin': 1024,\n",
       " 'max_depth': -1,\n",
       " 'min_child_samples': 10,\n",
       " 'min_split_gain': 0,\n",
       " 'model': 'lightgbm',\n",
       " 'multiple_series': False,\n",
       " 'n_estimators': 500,\n",
       " 'num_leaves': 20,\n",
       " 'reg_alpha': 0.5,\n",
       " 'reg_lambda': 0.5,\n",
       " 'sample_weight': 'no-covid',\n",
       " 'subsample': 0.8,\n",
       " 'subsample_freq': 1,\n",
       " 'use_covariates': True,\n",
       " 'use_encoders': True,\n",
       " 'use_features': False,\n",
       " 'use_static_covariates': False}"
      ]
     },
     "execution_count": 7,
     "metadata": {},
     "output_type": "execute_result"
    }
   ],
   "source": [
    "{key: params[key] for key in sorted(params)}"
   ]
  },
  {
   "cell_type": "code",
   "execution_count": 8,
   "id": "12bca7e0-5850-4710-b877-549ffeaf0c6c",
   "metadata": {},
   "outputs": [],
   "source": [
    "name = params.pop('model')\n",
    "multiple_series = params.pop('multiple_series')\n",
    "use_covariates = params.pop('use_covariates')\n",
    "use_features = params.pop('use_features')\n",
    "use_encoders = params.pop('use_encoders')\n",
    "sample_weight = params.pop('sample_weight')\n",
    "\n",
    "if not use_covariates:\n",
    "    del params['lags_past_covariates']\n",
    "    \n",
    "model = LightGBMModel(\n",
    "    **params,\n",
    "    output_chunk_length=HORIZON,\n",
    "    add_encoders=ENCODERS if use_encoders else None,\n",
    "    likelihood=\"quantile\",\n",
    "    quantiles=QUANTILES,\n",
    "    verbose=-1,\n",
    ")"
   ]
  },
  {
   "cell_type": "markdown",
   "id": "7be6f266-e37b-4086-8e1c-e8fca76f606c",
   "metadata": {},
   "source": [
    "# Load data"
   ]
  },
  {
   "cell_type": "code",
   "execution_count": 10,
   "id": "e44f6180-30b4-4494-93f2-3b7d12d03b54",
   "metadata": {},
   "outputs": [],
   "source": [
    "targets, covariates = load_realtime_training_data()"
   ]
  },
  {
   "cell_type": "code",
   "execution_count": 12,
   "id": "a2484d78-ca2f-4760-8b2a-4d67076e2792",
   "metadata": {},
   "outputs": [],
   "source": [
    "custom_weights = exclude_covid_weights(targets)"
   ]
  },
  {
   "cell_type": "code",
   "execution_count": 18,
   "id": "8c346281-1670-444c-b36e-8943c8028b6c",
   "metadata": {},
   "outputs": [
    {
     "data": {
      "text/plain": [
       "<Axes: xlabel='date'>"
      ]
     },
     "execution_count": 18,
     "metadata": {},
     "output_type": "execute_result"
    },
    {
     "data": {
      "image/png": "[encoded data removed]",
      "text/plain": [
       "<Figure size 640x480 with 1 Axes>"
      ]
     },
     "metadata": {},
     "output_type": "display_data"
    }
   ],
   "source": [
    "custom_weights.plot()"
   ]
  },
  {
   "cell_type": "code",
   "execution_count": 19,
   "id": "5ab0455a-9674-42a9-9182-38d9ba7d5159",
   "metadata": {},
   "outputs": [],
   "source": [
    "forecast_dates = sorted([filename.split('/')[-1][:10] for filename in glob.glob('../data/nowcasts/KIT-baseline/*.csv')])"
   ]
  },
  {
   "cell_type": "code",
   "execution_count": 20,
   "id": "042643f5-cebc-40d5-8884-f2b3d631ce02",
   "metadata": {},
   "outputs": [],
   "source": [
    "forecast_dates = [f for f in forecast_dates if f >= '2023-11-16' and f <= '2024-09-12']"
   ]
  },
  {
   "cell_type": "markdown",
   "id": "1ac32280-0630-41fc-87bf-a7a67439b3c9",
   "metadata": {
    "tags": []
   },
   "source": [
    "# Train model"
   ]
  },
  {
   "cell_type": "code",
   "execution_count": 21,
   "id": "a42114fb-d46e-4874-8356-6476217a8205",
   "metadata": {},
   "outputs": [],
   "source": [
    "RANDOM_SEEDS = [1, 2, 3, 4, 5, 6, 7, 8, 9, 10]"
   ]
  },
  {
   "cell_type": "code",
   "execution_count": null,
   "id": "e97e6511-fcf7-49cb-add1-83d856625a05",
   "metadata": {},
   "outputs": [],
   "source": [
    "for forecast_date in forecast_dates:\n",
    "    \n",
    "    path = f'../models/post-covid/{forecast_date}/'\n",
    "    os.makedirs(path, exist_ok=True)\n",
    "\n",
    "    targets, covariates = load_realtime_training_data(as_of=forecast_date)\n",
    "\n",
    "    for seed in RANDOM_SEEDS:\n",
    "        model_path = path + f'{forecast_date}-lightgbm_noCovid-{seed}.pt'\n",
    "        print(model_path)\n",
    "        model = LightGBMModel(\n",
    "            **params,\n",
    "            output_chunk_length=HORIZON,\n",
    "            add_encoders=ENCODERS if use_encoders else None,\n",
    "            likelihood=\"quantile\",\n",
    "            quantiles=QUANTILES,\n",
    "            verbose=-1,\n",
    "            random_state=seed\n",
    "        )\n",
    "        model.fit(targets, past_covariates=covariates if use_covariates else None, sample_weight=custom_weights if sample_weight == \"no-covid\" else sample_weight)\n",
    "        model.save(model_path)"
   ]
  },
  {
   "cell_type": "code",
   "execution_count": null,
   "id": "f23ddbd3-6a9c-4712-82f6-e60df112b227",
   "metadata": {},
   "outputs": [],
   "source": []
  },
  {
   "cell_type": "markdown",
   "id": "4c054acf-4332-4089-ba94-40bdb73382e1",
   "metadata": {},
   "source": [
    "# Forecast"
   ]
  },
  {
   "cell_type": "code",
   "execution_count": 23,
   "id": "332a9516-6968-4e5c-8f8d-9038358e3210",
   "metadata": {},
   "outputs": [],
   "source": [
    "RANDOM_SEEDS = [1, 2, 3, 4, 5 , 6, 7, 8, 9, 10]"
   ]
  },
  {
   "cell_type": "code",
   "execution_count": 24,
   "id": "e80eb2a6-2004-427f-afc6-7d2a6eb4f3ba",
   "metadata": {},
   "outputs": [],
   "source": [
    "NAME = 'lightgbm_noCovid'"
   ]
  },
  {
   "cell_type": "code",
   "execution_count": 25,
   "id": "2af92c2d-596b-45d1-95c5-808869ea8b01",
   "metadata": {},
   "outputs": [],
   "source": [
    "#forecast_dates = sorted([filename.split('/')[-1][:10] for filename in glob.glob('../data/nowcasts/KIT-baseline/*.csv')])"
   ]
  },
  {
   "cell_type": "code",
   "execution_count": 26,
   "id": "c8ab7951-7f90-4a83-a719-af28b4dd9f67",
   "metadata": {},
   "outputs": [],
   "source": [
    "targets, covariates = load_realtime_training_data()"
   ]
  },
  {
   "cell_type": "code",
   "execution_count": 27,
   "id": "359aee2e-b950-4592-8d62-fe8a5c1f6340",
   "metadata": {},
   "outputs": [],
   "source": [
    "def compute_ensemble(forecast_date, export=False):\n",
    "    dfs = []\n",
    "    for seed in RANDOM_SEEDS:\n",
    "        print(seed)\n",
    "        model_path = f'../models/post-covid/{forecast_date}/{forecast_date}-lightgbm_noCovid-{seed}.pt'\n",
    "        model = LightGBMModel.load(model_path)\n",
    "        df = compute_forecast(model, targets, covariates, forecast_date, HORIZON, NUM_SAMPLES, vincentization=False, probabilistic_nowcast=True, local=True)\n",
    "        dfs.append(df)\n",
    "\n",
    "    df = pd.concat(dfs)\n",
    "    df = df.groupby(['location', 'age_group', 'forecast_date', 'target_end_date', 'horizon', 'type', 'quantile']).agg({'value': 'mean'}).reset_index()\n",
    "\n",
    "    df = df.sort_values(['location', 'age_group', 'horizon', 'quantile'])\n",
    "    \n",
    "    if export:\n",
    "        df.to_csv(f'../data/post-covid/submissions/{NAME}/{forecast_date}-icosari-sari-{NAME}.csv', index=False)\n",
    "        return df\n",
    "    else:\n",
    "        return df"
   ]
  },
  {
   "cell_type": "code",
   "execution_count": 28,
   "id": "14f9b011-8d46-4954-bf99-bcd0be80b32d",
   "metadata": {},
   "outputs": [
    {
     "name": "stdout",
     "output_type": "stream",
     "text": [
      "2023-11-16\n",
      "1\n",
      "2\n",
      "3\n",
      "4\n",
      "5\n",
      "6\n",
      "7\n",
      "8\n",
      "9\n",
      "10\n",
      "2023-11-23\n",
      "1\n",
      "2\n",
      "3\n",
      "4\n",
      "5\n",
      "6\n",
      "7\n",
      "8\n",
      "9\n",
      "10\n",
      "2023-11-30\n",
      "1\n",
      "2\n",
      "3\n",
      "4\n",
      "5\n",
      "6\n",
      "7\n",
      "8\n",
      "9\n",
      "10\n",
      "2023-12-07\n",
      "1\n",
      "2\n",
      "3\n",
      "4\n",
      "5\n",
      "6\n",
      "7\n",
      "8\n",
      "9\n",
      "10\n",
      "2023-12-14\n",
      "1\n",
      "2\n",
      "3\n",
      "4\n",
      "5\n",
      "6\n",
      "7\n",
      "8\n",
      "9\n",
      "10\n",
      "2023-12-21\n",
      "1\n",
      "2\n",
      "3\n",
      "4\n",
      "5\n",
      "6\n",
      "7\n",
      "8\n",
      "9\n",
      "10\n",
      "2023-12-28\n",
      "1\n",
      "2\n",
      "3\n",
      "4\n",
      "5\n",
      "6\n",
      "7\n",
      "8\n",
      "9\n",
      "10\n",
      "2024-01-04\n",
      "1\n",
      "2\n",
      "3\n",
      "4\n",
      "5\n",
      "6\n",
      "7\n",
      "8\n",
      "9\n",
      "10\n",
      "2024-01-11\n",
      "1\n",
      "2\n",
      "3\n",
      "4\n",
      "5\n",
      "6\n",
      "7\n",
      "8\n",
      "9\n",
      "10\n",
      "2024-01-18\n",
      "1\n",
      "2\n",
      "3\n",
      "4\n",
      "5\n",
      "6\n",
      "7\n",
      "8\n",
      "9\n",
      "10\n",
      "2024-01-25\n",
      "1\n",
      "2\n",
      "3\n",
      "4\n",
      "5\n",
      "6\n",
      "7\n",
      "8\n",
      "9\n",
      "10\n",
      "2024-02-01\n",
      "1\n",
      "2\n",
      "3\n",
      "4\n",
      "5\n",
      "6\n",
      "7\n",
      "8\n",
      "9\n",
      "10\n",
      "2024-02-08\n",
      "1\n",
      "2\n",
      "3\n",
      "4\n",
      "5\n",
      "6\n",
      "7\n",
      "8\n",
      "9\n",
      "10\n",
      "2024-02-15\n",
      "1\n",
      "2\n",
      "3\n",
      "4\n",
      "5\n",
      "6\n",
      "7\n",
      "8\n",
      "9\n",
      "10\n",
      "2024-02-22\n",
      "1\n",
      "2\n",
      "3\n",
      "4\n",
      "5\n",
      "6\n",
      "7\n",
      "8\n",
      "9\n",
      "10\n",
      "2024-02-29\n",
      "1\n",
      "2\n",
      "3\n",
      "4\n",
      "5\n",
      "6\n",
      "7\n",
      "8\n",
      "9\n",
      "10\n",
      "2024-03-07\n",
      "1\n",
      "2\n",
      "3\n",
      "4\n",
      "5\n",
      "6\n",
      "7\n",
      "8\n",
      "9\n",
      "10\n",
      "2024-03-14\n",
      "1\n",
      "2\n",
      "3\n",
      "4\n",
      "5\n",
      "6\n",
      "7\n",
      "8\n",
      "9\n",
      "10\n",
      "2024-03-21\n",
      "1\n",
      "2\n",
      "3\n",
      "4\n",
      "5\n",
      "6\n",
      "7\n",
      "8\n",
      "9\n",
      "10\n",
      "2024-03-28\n",
      "1\n",
      "2\n",
      "3\n",
      "4\n",
      "5\n",
      "6\n",
      "7\n",
      "8\n",
      "9\n",
      "10\n",
      "2024-04-04\n",
      "1\n",
      "2\n",
      "3\n",
      "4\n",
      "5\n",
      "6\n",
      "7\n",
      "8\n",
      "9\n",
      "10\n",
      "2024-04-11\n",
      "1\n",
      "2\n",
      "3\n",
      "4\n",
      "5\n",
      "6\n",
      "7\n",
      "8\n",
      "9\n",
      "10\n",
      "2024-04-18\n",
      "1\n",
      "2\n",
      "3\n",
      "4\n",
      "5\n",
      "6\n",
      "7\n",
      "8\n",
      "9\n",
      "10\n",
      "2024-04-25\n",
      "1\n",
      "2\n",
      "3\n",
      "4\n",
      "5\n",
      "6\n",
      "7\n",
      "8\n",
      "9\n",
      "10\n",
      "2024-05-02\n",
      "1\n",
      "2\n",
      "3\n",
      "4\n",
      "5\n",
      "6\n",
      "7\n",
      "8\n",
      "9\n",
      "10\n",
      "2024-05-09\n",
      "1\n",
      "2\n",
      "3\n",
      "4\n",
      "5\n",
      "6\n",
      "7\n",
      "8\n",
      "9\n",
      "10\n",
      "2024-05-16\n",
      "1\n",
      "2\n",
      "3\n",
      "4\n",
      "5\n",
      "6\n",
      "7\n",
      "8\n",
      "9\n",
      "10\n",
      "2024-05-23\n",
      "1\n",
      "2\n",
      "3\n",
      "4\n",
      "5\n",
      "6\n",
      "7\n",
      "8\n",
      "9\n",
      "10\n",
      "2024-05-30\n",
      "1\n",
      "2\n",
      "3\n",
      "4\n",
      "5\n",
      "6\n",
      "7\n",
      "8\n",
      "9\n",
      "10\n",
      "2024-06-06\n",
      "1\n",
      "2\n",
      "3\n",
      "4\n",
      "5\n",
      "6\n",
      "7\n",
      "8\n",
      "9\n",
      "10\n",
      "2024-06-13\n",
      "1\n",
      "2\n",
      "3\n",
      "4\n",
      "5\n",
      "6\n",
      "7\n",
      "8\n",
      "9\n",
      "10\n",
      "2024-06-20\n",
      "1\n",
      "2\n",
      "3\n",
      "4\n",
      "5\n",
      "6\n",
      "7\n",
      "8\n",
      "9\n",
      "10\n",
      "2024-06-27\n",
      "1\n",
      "2\n",
      "3\n",
      "4\n",
      "5\n",
      "6\n",
      "7\n",
      "8\n",
      "9\n",
      "10\n",
      "2024-07-04\n",
      "1\n",
      "2\n",
      "3\n",
      "4\n",
      "5\n",
      "6\n",
      "7\n",
      "8\n",
      "9\n",
      "10\n",
      "2024-07-11\n",
      "1\n",
      "2\n",
      "3\n",
      "4\n",
      "5\n",
      "6\n",
      "7\n",
      "8\n",
      "9\n",
      "10\n",
      "2024-07-18\n",
      "1\n",
      "2\n",
      "3\n",
      "4\n",
      "5\n",
      "6\n",
      "7\n",
      "8\n",
      "9\n",
      "10\n",
      "2024-07-25\n",
      "1\n",
      "2\n",
      "3\n",
      "4\n",
      "5\n",
      "6\n",
      "7\n",
      "8\n",
      "9\n",
      "10\n",
      "2024-08-01\n",
      "1\n",
      "2\n",
      "3\n",
      "4\n",
      "5\n",
      "6\n",
      "7\n",
      "8\n",
      "9\n",
      "10\n",
      "2024-08-08\n",
      "1\n",
      "2\n",
      "3\n",
      "4\n",
      "5\n",
      "6\n",
      "7\n",
      "8\n",
      "9\n",
      "10\n",
      "2024-08-15\n",
      "1\n",
      "2\n",
      "3\n",
      "4\n",
      "5\n",
      "6\n",
      "7\n",
      "8\n",
      "9\n",
      "10\n",
      "2024-08-22\n",
      "1\n",
      "2\n",
      "3\n",
      "4\n",
      "5\n",
      "6\n",
      "7\n",
      "8\n",
      "9\n",
      "10\n",
      "2024-08-29\n",
      "1\n",
      "2\n",
      "3\n",
      "4\n",
      "5\n",
      "6\n",
      "7\n",
      "8\n",
      "9\n",
      "10\n",
      "2024-09-05\n",
      "1\n",
      "2\n",
      "3\n",
      "4\n",
      "5\n",
      "6\n",
      "7\n",
      "8\n",
      "9\n",
      "10\n",
      "2024-09-12\n",
      "1\n",
      "2\n",
      "3\n",
      "4\n",
      "5\n",
      "6\n",
      "7\n",
      "8\n",
      "9\n",
      "10\n"
     ]
    }
   ],
   "source": [
    "forecasts = []\n",
    "for forecast_date in forecast_dates:\n",
    "    print(forecast_date)\n",
    "    forecast = compute_ensemble(forecast_date, export=True)\n",
    "    forecasts.append(forecast)"
   ]
  },
  {
   "cell_type": "markdown",
   "id": "33076a71-a896-4105-9ae6-56812ef8ef2a",
   "metadata": {},
   "source": [
    "# Oracle nowcast"
   ]
  },
  {
   "cell_type": "code",
   "execution_count": 26,
   "id": "d219325b-3770-486e-b5a1-ef2a9dbf586b",
   "metadata": {},
   "outputs": [],
   "source": [
    "RANDOM_SEEDS = [1, 2, 3, 4, 5 , 6, 7, 8, 9, 10]"
   ]
  },
  {
   "cell_type": "code",
   "execution_count": 31,
   "id": "c9eabc19-1053-40d9-a777-93c0a5c8b268",
   "metadata": {},
   "outputs": [],
   "source": [
    "NAME = 'lightgbm_oracle'"
   ]
  },
  {
   "cell_type": "code",
   "execution_count": 28,
   "id": "5327e5fb-aa4a-492e-9476-5f9f32692afd",
   "metadata": {},
   "outputs": [],
   "source": [
    "#forecast_dates = sorted([filename.split('/')[-1][:10] for filename in glob.glob('../data/nowcasts/KIT-baseline/*.csv')])"
   ]
  },
  {
   "cell_type": "code",
   "execution_count": 29,
   "id": "d864b2be-bb74-48f3-8348-7403e6c4597d",
   "metadata": {},
   "outputs": [],
   "source": [
    "targets, covariates = load_realtime_training_data()"
   ]
  },
  {
   "cell_type": "code",
   "execution_count": 30,
   "id": "97933311-9c88-4e1d-8cf0-c03807fd52b7",
   "metadata": {},
   "outputs": [],
   "source": [
    "def compute_forecast(model, target_series, covariates, forecast_date, horizon, num_samples, vincentization=True, probabilistic_nowcast=True, local=False, oracle_nowcast=True):\n",
    "    '''\n",
    "    For every sample path given by the nowcasted quantiles, a probabilistic forecast is computed.\n",
    "    These are then aggregated into one forecast by combining all predicted paths.\n",
    "    '''\n",
    "    \n",
    "    if oracle_nowcast:\n",
    "        target_list = target_series[:pd.Timestamp(forecast_date)]\n",
    "        \n",
    "    else:\n",
    "        indicator = target_series.components[0].split('-')[1]\n",
    "        ts_nowcast = load_nowcast(forecast_date, probabilistic_nowcast, indicator, local)\n",
    "        target_list = make_target_paths(target_series, ts_nowcast)\n",
    "        target_list = [encode_static_covariates(t, ordinal=False) for t in target_list]\n",
    "\n",
    "        covariates = [covariates]*len(target_list) if covariates else None\n",
    "      \n",
    "    fct = model.predict(n=horizon, \n",
    "                        series=target_list, \n",
    "                        past_covariates=covariates, \n",
    "                        num_samples=num_samples)\n",
    "    \n",
    "    df = reshape_forecast(fct)\n",
    "        \n",
    "    return df"
   ]
  },
  {
   "cell_type": "code",
   "execution_count": 32,
   "id": "16787ce0-7df9-4e9d-91cf-b09b21e5218b",
   "metadata": {},
   "outputs": [],
   "source": [
    "def compute_ensemble(forecast_date, export=False):\n",
    "    dfs = []\n",
    "    for seed in RANDOM_SEEDS:\n",
    "        print(seed)\n",
    "        model_path = f'../models/post-covid/{forecast_date}/{forecast_date}-lightgbm-{seed}.pt'\n",
    "        model = LightGBMModel.load(model_path)\n",
    "        df = compute_forecast(model, targets, covariates, forecast_date, HORIZON, NUM_SAMPLES, vincentization=False, probabilistic_nowcast=True, local=True, oracle_nowcast=True)\n",
    "        dfs.append(df)\n",
    "\n",
    "    df = pd.concat(dfs)\n",
    "    df = df.groupby(['location', 'age_group', 'forecast_date', 'target_end_date', 'horizon', 'type', 'quantile']).agg({'value': 'mean'}).reset_index()\n",
    "\n",
    "    df = df.sort_values(['location', 'age_group', 'horizon', 'quantile'])\n",
    "    \n",
    "    if export:\n",
    "        df.to_csv(f'../data/post-covid/submissions/{NAME}/{forecast_date}-icosari-sari-{NAME}.csv', index=False)\n",
    "        return df\n",
    "    else:\n",
    "        return df"
   ]
  },
  {
   "cell_type": "code",
   "execution_count": 33,
   "id": "b25071d0-cea4-467a-aa4e-507519fb7013",
   "metadata": {},
   "outputs": [
    {
     "data": {
      "text/plain": [
       "Timestamp('2023-11-12 00:00:00')"
      ]
     },
     "execution_count": 33,
     "metadata": {},
     "output_type": "execute_result"
    }
   ],
   "source": [
    "targets[:pd.Timestamp('2023-11-16')].end_time()"
   ]
  },
  {
   "cell_type": "code",
   "execution_count": 94,
   "id": "298b99bc-4768-4367-a01c-196c464c1c16",
   "metadata": {},
   "outputs": [
    {
     "name": "stdout",
     "output_type": "stream",
     "text": [
      "1\n",
      "2\n",
      "3\n",
      "4\n",
      "5\n",
      "6\n",
      "7\n",
      "8\n",
      "9\n",
      "10\n"
     ]
    }
   ],
   "source": [
    "df = compute_ensemble(forecast_dates[5])"
   ]
  },
  {
   "cell_type": "code",
   "execution_count": null,
   "id": "f2e72d31-1e03-492e-b579-3139dd041ad2",
   "metadata": {},
   "outputs": [],
   "source": [
    "forecasts = []\n",
    "for forecast_date in forecast_dates:\n",
    "    print(forecast_date)\n",
    "    forecast = compute_ensemble(forecast_date, export=True)\n",
    "    forecasts.append(forecast)"
   ]
  },
  {
   "cell_type": "code",
   "execution_count": null,
   "id": "3d64b9c8-e510-4a40-9782-1658dc7ac074",
   "metadata": {},
   "outputs": [],
   "source": []
  }
 ],
 "metadata": {
  "kernelspec": {
   "display_name": "RESPINOW-ML",
   "language": "python",
   "name": "respinow-ml"
  },
  "language_info": {
   "codemirror_mode": {
    "name": "ipython",
    "version": 3
   },
   "file_extension": ".py",
   "mimetype": "text/x-python",
   "name": "python",
   "nbconvert_exporter": "python",
   "pygments_lexer": "ipython3",
   "version": "3.9.18"
  }
 },
 "nbformat": 4,
 "nbformat_minor": 5
}
