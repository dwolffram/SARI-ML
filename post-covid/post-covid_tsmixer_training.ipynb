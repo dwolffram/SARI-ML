{
 "cells": [
  {
   "cell_type": "markdown",
   "id": "a06d7174-24f8-4d5e-88a6-ad2a2cf06e87",
   "metadata": {},
   "source": [
    "# TSMixer: Training"
   ]
  },
  {
   "cell_type": "markdown",
   "id": "8974a0fd-b38c-45fd-a892-23476fab6daf",
   "metadata": {},
   "source": [
    "- load best parameters from hyperparameter tuning\n",
    "- load data and prepare for training\n",
    "- fit and save model"
   ]
  },
  {
   "cell_type": "markdown",
   "id": "537394ee-4a58-437f-8e9d-70c77b3e3324",
   "metadata": {
    "tags": []
   },
   "source": [
    "### Setup"
   ]
  },
  {
   "cell_type": "code",
   "execution_count": 1,
   "id": "0e493c37-6325-457b-96bc-d534de06f3c4",
   "metadata": {},
   "outputs": [],
   "source": [
    "import sys\n",
    "sys.path.append('../')\n",
    "from src.load_data import *\n",
    "from src.realtime_utils import *\n",
    "from src.plot_functions import *\n",
    "from src.hp_tuning_functions import *\n",
    "import torch\n",
    "from darts.utils.likelihood_models import NegativeBinomialLikelihood\n",
    "from pytorch_lightning.callbacks import RichProgressBar"
   ]
  },
  {
   "cell_type": "code",
   "execution_count": 2,
   "id": "7f1610ad-9600-4d62-826d-b9bc42048bf2",
   "metadata": {},
   "outputs": [
    {
     "name": "stderr",
     "output_type": "stream",
     "text": [
      "/home/wolffram/.conda/envs/RESPINOW-ML/lib/python3.9/site-packages/statsforecast/utils.py:231: FutureWarning: 'M' is deprecated and will be removed in a future version, please use 'ME' instead.\n"
     ]
    }
   ],
   "source": [
    "from darts.models import TSMixerModel"
   ]
  },
  {
   "cell_type": "code",
   "execution_count": 3,
   "id": "4a34b100-4e12-4914-96d4-bd9f546142a3",
   "metadata": {},
   "outputs": [
    {
     "name": "stderr",
     "output_type": "stream",
     "text": [
      "Failed to detect the name of this notebook, you can set it manually with the WANDB_NOTEBOOK_NAME environment variable to enable code saving.\n",
      "\u001b[34m\u001b[1mwandb\u001b[0m: Using wandb-core as the SDK backend. Please refer to https://wandb.me/wandb-core for more information.\n",
      "\u001b[34m\u001b[1mwandb\u001b[0m: Currently logged in as: \u001b[33mdwolffram\u001b[0m (\u001b[33mdwolffram-karlsruhe-institute-of-technology\u001b[0m). Use \u001b[1m`wandb login --relogin`\u001b[0m to force relogin\n"
     ]
    },
    {
     "data": {
      "text/plain": [
       "True"
      ]
     },
     "execution_count": 3,
     "metadata": {},
     "output_type": "execute_result"
    }
   ],
   "source": [
    "import wandb\n",
    "wandb.login()"
   ]
  },
  {
   "cell_type": "markdown",
   "id": "751a0a79-d466-427e-8c78-fe02b231607c",
   "metadata": {},
   "source": [
    "### Configuration"
   ]
  },
  {
   "cell_type": "code",
   "execution_count": 4,
   "id": "16dd9c99-31ba-494e-8596-a5b4e050e547",
   "metadata": {},
   "outputs": [],
   "source": [
    "NUM_SAMPLES = 1000\n",
    "HORIZON = 4\n",
    "\n",
    "ENCODERS = {\n",
    "    'datetime_attribute': {'future': ['month', 'weekofyear']}\n",
    "}\n",
    "\n",
    "SHARED_ARGS = dict(\n",
    "    output_chunk_length=HORIZON,\n",
    "    likelihood=NegativeBinomialLikelihood(),\n",
    "    pl_trainer_kwargs={\n",
    "       \"enable_progress_bar\" : True,\n",
    "       \"enable_model_summary\" : False,\n",
    "       \"accelerator\" : \"cpu\",\n",
    "       \"callbacks\" : [RichProgressBar(leave=True)]\n",
    "    }\n",
    ")\n",
    "\n",
    "OPTIMIZER_DICT = {\n",
    "    \"Adam\" : torch.optim.Adam,\n",
    "    \"AdamW\" : torch.optim.AdamW,\n",
    "    \"SGD\": torch.optim.SGD\n",
    "}"
   ]
  },
  {
   "cell_type": "markdown",
   "id": "102d70ef-0eaf-4a2f-874a-d5ce8240f40b",
   "metadata": {},
   "source": [
    "# Load best model"
   ]
  },
  {
   "cell_type": "code",
   "execution_count": 5,
   "id": "1bfb623f-2801-4c44-a797-92ef03add761",
   "metadata": {},
   "outputs": [
    {
     "name": "stdout",
     "output_type": "stream",
     "text": [
      "WIS_2022 of best run: 376.81822673712344\n"
     ]
    }
   ],
   "source": [
    "params = get_best_parameters('realtime-tsmixer-expanding-window', 'tsmixer', 'WIS_2022', sweep='h7m4oeqg')"
   ]
  },
  {
   "cell_type": "code",
   "execution_count": 5,
   "id": "5ccb4d05-336f-4104-b0cd-8b1bcc1c8141",
   "metadata": {},
   "outputs": [
    {
     "name": "stdout",
     "output_type": "stream",
     "text": [
      "WIS_2019 of best run: 224.94760585867\n"
     ]
    }
   ],
   "source": [
    "params = get_best_parameters('realtime-tsmixer-expanding-window', 'tsmixer', 'WIS_2019', sweep='h7m4oeqg')"
   ]
  },
  {
   "cell_type": "code",
   "execution_count": 6,
   "id": "3fb078c4-723a-47e8-a921-30ca6c0e9482",
   "metadata": {},
   "outputs": [
    {
     "data": {
      "text/plain": [
       "{'model': 'tsmixer',\n",
       " 'dropout': 0,\n",
       " 'ff_size': 8,\n",
       " 'n_epochs': 1500,\n",
       " 'norm_type': 'TimeBatchNorm2d',\n",
       " 'optimizer': 'AdamW',\n",
       " 'activation': 'ReLU',\n",
       " 'batch_size': 16,\n",
       " 'num_blocks': 8,\n",
       " 'hidden_size': 16,\n",
       " 'use_encoders': True,\n",
       " 'use_features': False,\n",
       " 'sample_weight': 'linear',\n",
       " 'use_covariates': False,\n",
       " 'normalize_before': False,\n",
       " 'optimizer_kwargs': {'lr': 0.0005, 'weight_decay': 0},\n",
       " 'input_chunk_length': 8,\n",
       " 'use_static_covariates': False}"
      ]
     },
     "execution_count": 6,
     "metadata": {},
     "output_type": "execute_result"
    }
   ],
   "source": [
    "params"
   ]
  },
  {
   "cell_type": "code",
   "execution_count": 6,
   "id": "c27992f8-7c26-4f16-8ff8-29d6191f90ea",
   "metadata": {},
   "outputs": [
    {
     "data": {
      "text/plain": [
       "{'model': 'tsmixer',\n",
       " 'dropout': 0.3,\n",
       " 'ff_size': 32,\n",
       " 'n_epochs': 1000,\n",
       " 'norm_type': 'TimeBatchNorm2d',\n",
       " 'optimizer': 'AdamW',\n",
       " 'activation': 'ReLU',\n",
       " 'batch_size': 32,\n",
       " 'num_blocks': 10,\n",
       " 'hidden_size': 32,\n",
       " 'use_encoders': True,\n",
       " 'use_features': False,\n",
       " 'sample_weight': 'linear',\n",
       " 'use_covariates': False,\n",
       " 'normalize_before': False,\n",
       " 'optimizer_kwargs': {'lr': 0.0005, 'weight_decay': 0},\n",
       " 'input_chunk_length': 8,\n",
       " 'use_static_covariates': False}"
      ]
     },
     "execution_count": 6,
     "metadata": {},
     "output_type": "execute_result"
    }
   ],
   "source": [
    "params"
   ]
  },
  {
   "cell_type": "code",
   "execution_count": 7,
   "id": "ea74873e-4b99-46b9-95a9-0321d1b11204",
   "metadata": {},
   "outputs": [],
   "source": [
    "name = params.pop('model')\n",
    "use_covariates = params.pop('use_covariates')\n",
    "use_features = params.pop('use_features')\n",
    "use_encoders = params.pop('use_encoders')\n",
    "optimizer = params.pop('optimizer')\n",
    "sample_weight = params.pop('sample_weight')\n",
    "\n",
    "params['optimizer_cls'] = OPTIMIZER_DICT[optimizer]"
   ]
  },
  {
   "cell_type": "code",
   "execution_count": 8,
   "id": "5e605623-51ea-4d2d-be16-082c4d2de73f",
   "metadata": {},
   "outputs": [],
   "source": [
    "model = TSMixerModel(\n",
    "    **params,\n",
    "    add_encoders=ENCODERS if use_encoders else None,\n",
    "    **SHARED_ARGS\n",
    ")"
   ]
  },
  {
   "cell_type": "markdown",
   "id": "7be6f266-e37b-4086-8e1c-e8fca76f606c",
   "metadata": {},
   "source": [
    "# Load data"
   ]
  },
  {
   "cell_type": "code",
   "execution_count": 9,
   "id": "2a6d4fd6-4e9f-47a0-a8e5-885025d3ff9b",
   "metadata": {},
   "outputs": [],
   "source": [
    "targets, covariates = load_realtime_training_data()"
   ]
  },
  {
   "cell_type": "code",
   "execution_count": 10,
   "id": "62f13fc5-7048-4508-ab53-b28f8ffdd197",
   "metadata": {},
   "outputs": [],
   "source": [
    "targets_train, targets_validation = train_validation_split(targets, 2023)"
   ]
  },
  {
   "cell_type": "code",
   "execution_count": 13,
   "id": "681cd2e0-e72b-4f13-b354-f8a8ba7ba823",
   "metadata": {},
   "outputs": [],
   "source": [
    "targets_train, targets_validation = train_validation_split(targets, 2020)"
   ]
  },
  {
   "cell_type": "code",
   "execution_count": 14,
   "id": "abada2d7-646a-4674-84f0-987f940de009",
   "metadata": {},
   "outputs": [
    {
     "data": {
      "text/plain": [
       "<Axes: xlabel='date'>"
      ]
     },
     "execution_count": 14,
     "metadata": {},
     "output_type": "execute_result"
    },
    {
     "data": {
      "image/png": "[encoded data removed]",
      "text/plain": [
       "<Figure size 640x480 with 1 Axes>"
      ]
     },
     "metadata": {},
     "output_type": "display_data"
    }
   ],
   "source": [
    "targets_validation['icosari-sari-DE'].plot(label='validation')\n",
    "targets_train['icosari-sari-DE'].plot(label='train')"
   ]
  },
  {
   "cell_type": "markdown",
   "id": "1ac32280-0630-41fc-87bf-a7a67439b3c9",
   "metadata": {},
   "source": [
    "# Train model"
   ]
  },
  {
   "cell_type": "code",
   "execution_count": 15,
   "id": "a42114fb-d46e-4874-8356-6476217a8205",
   "metadata": {},
   "outputs": [],
   "source": [
    "RANDOM_SEEDS = [1, 2, 3, 4, 5 , 6, 7, 8, 9, 10]"
   ]
  },
  {
   "cell_type": "code",
   "execution_count": 16,
   "id": "7bf15f16-0474-448b-add0-428fd8972185",
   "metadata": {},
   "outputs": [],
   "source": [
    "name = 'tsmixer2'"
   ]
  },
  {
   "cell_type": "code",
   "execution_count": 18,
   "id": "a1320982-f7ba-48cf-9fa9-c18657d71d12",
   "metadata": {},
   "outputs": [],
   "source": [
    "name = 'tsmixer_precov'"
   ]
  },
  {
   "cell_type": "code",
   "execution_count": null,
   "id": "a5d89f16-0f5f-4f8a-861b-61b5bd869238",
   "metadata": {},
   "outputs": [
    {
     "data": {
      "text/html": [
       "<pre style=\"white-space:pre;overflow-x:auto;line-height:normal;font-family:Menlo,'DejaVu Sans Mono',consolas,'Courier New',monospace\"><span style=\"color: #c0c0c0; text-decoration-color: #c0c0c0\">Epoch 116/1499</span> <span style=\"color: #6206e0; text-decoration-color: #6206e0\">━━━━━━━━━━━━━━━━╸</span><span style=\"color: #3a3a3a; text-decoration-color: #3a3a3a\">━━━━━━━━━━━━━━━━━━━━━━━</span> <span style=\"color: #c0c0c0; text-decoration-color: #c0c0c0\">8/19</span> <span style=\"color: #8a8a8a; text-decoration-color: #8a8a8a\">0:00:00 • 0:00:01</span> <span style=\"color: #b2b2b2; text-decoration-color: #b2b2b2\">27.37it/s</span> <span style=\"color: #c0c0c0; text-decoration-color: #c0c0c0\">train_loss: 3.477 </span>\n",
       "</pre>\n"
      ],
      "text/plain": [
       "\u001b[37mEpoch 116/1499\u001b[0m \u001b[38;2;98;6;224m━━━━━━━━━━━━━━━━\u001b[0m\u001b[38;2;98;6;224m╸\u001b[0m\u001b[38;5;237m━━━━━━━━━━━━━━━━━━━━━━━\u001b[0m \u001b[37m8/19\u001b[0m \u001b[38;5;245m0:00:00 • 0:00:01\u001b[0m \u001b[38;5;249m27.37it/s\u001b[0m \u001b[37mtrain_loss: 3.477 \u001b[0m\n"
      ]
     },
     "metadata": {},
     "output_type": "display_data"
    }
   ],
   "source": [
    "for seed in RANDOM_SEEDS:\n",
    "    print(seed)\n",
    "    model_path = f'../models/post-covid/post-covid_{name}-{seed}.pt'\n",
    "    \n",
    "    model = TSMixerModel(\n",
    "            **params,\n",
    "            add_encoders=ENCODERS if use_encoders else None,\n",
    "            **SHARED_ARGS,\n",
    "            random_state=seed\n",
    "        )\n",
    "    \n",
    "    model.fit(targets_train, past_covariates=covariates if use_covariates else None, sample_weight=sample_weight)\n",
    "    model.save(model_path)"
   ]
  },
  {
   "cell_type": "code",
   "execution_count": null,
   "id": "99c12ed4-62d0-4e78-8843-55182bcfa9ab",
   "metadata": {},
   "outputs": [],
   "source": []
  }
 ],
 "metadata": {
  "kernelspec": {
   "display_name": "RESPINOW-ML",
   "language": "python",
   "name": "respinow-ml"
  },
  "language_info": {
   "codemirror_mode": {
    "name": "ipython",
    "version": 3
   },
   "file_extension": ".py",
   "mimetype": "text/x-python",
   "name": "python",
   "nbconvert_exporter": "python",
   "pygments_lexer": "ipython3",
   "version": "3.9.18"
  }
 },
 "nbformat": 4,
 "nbformat_minor": 5
}
