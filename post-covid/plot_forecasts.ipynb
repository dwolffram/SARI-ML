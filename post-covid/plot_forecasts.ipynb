{
 "cells": [
  {
   "cell_type": "code",
   "execution_count": 1,
   "id": "0e493c37-6325-457b-96bc-d534de06f3c4",
   "metadata": {},
   "outputs": [],
   "source": [
    "import sys\n",
    "sys.path.append('../')\n",
    "from config import *\n",
    "from src.realtime_utils import *"
   ]
  },
  {
   "cell_type": "code",
   "execution_count": 2,
   "id": "03d4b828-77e2-49cc-9fd2-2201742f0d7c",
   "metadata": {},
   "outputs": [],
   "source": [
    "from plotnine import *"
   ]
  },
  {
   "cell_type": "code",
   "execution_count": 3,
   "id": "5fec1c7e-5579-4a7f-a14c-6ea151767469",
   "metadata": {},
   "outputs": [],
   "source": [
    "def increase_dates_by_weeks(dates, weeks):\n",
    "    \"\"\"\n",
    "    Increases all dates in the list (except the last one) by a given number of weeks.\n",
    "    \"\"\"\n",
    "    date_series = pd.to_datetime(dates)\n",
    "    updated_dates = date_series[:-1] + pd.to_timedelta(weeks, unit='W')\n",
    "    updated_dates = updated_dates[(updated_dates <= '2024-09-12') & (updated_dates != '2023-12-28')]\n",
    "    updated_dates = updated_dates.tolist() + [date_series[-1]]\n",
    "    \n",
    "    return [date.strftime('%Y-%m-%d') for date in updated_dates]"
   ]
  },
  {
   "cell_type": "code",
   "execution_count": 10,
   "id": "ba7436da-9a6c-47ad-a43a-d0adbd2104c2",
   "metadata": {},
   "outputs": [],
   "source": [
    "def load_nowcast_wide(date, location=\"DE\", age_group=\"00+\"):\n",
    "    # Construct the file path\n",
    "    file_path = f'../data/nowcasts/KIT-baseline/{date}-icosari-sari-KIT-baseline.csv'\n",
    "    \n",
    "    # Read the CSV file\n",
    "    df = pd.read_csv(file_path)\n",
    "    \n",
    "    # Filter based on location, age_group, and type\n",
    "    df_filtered = df[\n",
    "        (df['location'] == location) & \n",
    "        (df['age_group'] == age_group) & \n",
    "        (df['type'] == \"quantile\")\n",
    "    ]\n",
    "    \n",
    "    # Pivot the dataframe: quantile values will become columns with \"quantile_\" as a prefix\n",
    "    df_wide = df_filtered.pivot(\n",
    "        index=['location', 'age_group', 'target_end_date', 'forecast_date', 'horizon'],  # Relevant index columns\n",
    "        columns='quantile',  # Column to pivot on\n",
    "        values='value'  # The column containing the values to pivot\n",
    "    )\n",
    "    \n",
    "    # Rename columns to add \"quantile_\" prefix\n",
    "    df_wide.columns = [f'quantile_{col}' for col in df_wide.columns]\n",
    "    \n",
    "    # Reset index to turn index columns back to normal columns (optional)\n",
    "    df_wide = df_wide.reset_index()\n",
    "    \n",
    "    return df_wide"
   ]
  },
  {
   "cell_type": "code",
   "execution_count": 14,
   "id": "a9a25f67-3682-4a17-b35c-cb04064bd319",
   "metadata": {},
   "outputs": [],
   "source": [
    "def load_forecast_wide(date, model=\"KIT-MeanEnsemble\", location=\"DE\", age_group=\"00+\"):\n",
    "    # Construct the file path\n",
    "    file_path = f'../data/post-covid/submissions/{model}/{date}-icosari-sari-{model}.csv'\n",
    "    \n",
    "    # Read the CSV file\n",
    "    df = pd.read_csv(file_path)\n",
    "    \n",
    "    # Filter based on location, age_group, and type\n",
    "    df_filtered = df[\n",
    "        (df['location'] == location) & \n",
    "        (df['age_group'] == age_group) & \n",
    "        (df['type'] == \"quantile\")\n",
    "    ]\n",
    "    \n",
    "    # Pivot the dataframe: quantile values will become columns with \"quantile_\" as a prefix\n",
    "    df_wide = df_filtered.pivot(\n",
    "        index=['location', 'age_group', 'target_end_date', 'forecast_date', 'horizon'],  # Relevant index columns\n",
    "        columns='quantile',  # Column to pivot on\n",
    "        values='value'  # The column containing the values to pivot\n",
    "    )\n",
    "    \n",
    "    # Rename columns to add \"quantile_\" prefix\n",
    "    df_wide.columns = [f'quantile_{col}' for col in df_wide.columns]\n",
    "    \n",
    "    # Reset index to turn index columns back to normal columns (optional)\n",
    "    df_wide = df_wide.reset_index()\n",
    "    \n",
    "    return df_wide"
   ]
  },
  {
   "cell_type": "code",
   "execution_count": 15,
   "id": "7fcdedae-a7ab-4d2d-bcef-baae5171a0dd",
   "metadata": {},
   "outputs": [],
   "source": [
    "def plot_ensemble_forecasts(week_shift=0):\n",
    "    DATES = ['2023-12-07', '2024-02-08', '2024-04-11', '2024-06-13', '2024-08-15', '2024-10-06']\n",
    "    dates = increase_dates_by_weeks(DATES, week_shift)\n",
    "    print(dates)\n",
    "\n",
    "    forecast_dates = dates[:-1]\n",
    "\n",
    "    dfs = []\n",
    "    for f in dates:\n",
    "        ts = load_target_series('sari', f, age_group='00+')\n",
    "        df = ts.pd_dataframe().reset_index()\n",
    "        df['forecast_date'] = f\n",
    "        dfs.append(df)\n",
    "\n",
    "    df = pd.concat(dfs)\n",
    "    df = df.rename(columns={'icosari-sari-DE': 'value'})\n",
    "\n",
    "    nowcasts = []\n",
    "    for f in forecast_dates:\n",
    "        df_temp = load_nowcast_wide(f)\n",
    "        nowcasts.append(df_temp)\n",
    "    df_nowcast = pd.concat(nowcasts)\n",
    "\n",
    "    forecasts = []\n",
    "    for f in forecast_dates:\n",
    "        df_temp = load_forecast_wide(f)\n",
    "        forecasts.append(df_temp)\n",
    "    df_forecast = pd.concat(forecasts)\n",
    "\n",
    "    alphas = {\"50%\": 0.7, \"95%\": 0.4}\n",
    "\n",
    "    df = df[df.date >= '2023-06-01']\n",
    "\n",
    "    p = (ggplot(df) +\n",
    "        geom_vline(\n",
    "             data=pd.DataFrame({'date': [pd.Timestamp(f) for f in forecast_dates]}),\n",
    "             mapping=aes(xintercept='date', linetype='\"Forecast date\"'),\n",
    "             color=\"black\"\n",
    "         ) +\n",
    "         geom_ribbon(\n",
    "             data=df_nowcast,\n",
    "             mapping=aes(x='target_end_date', ymin='quantile_0.025', ymax='quantile_0.975', group='forecast_date', alpha='\"95%\"', fill='\"Nowcast\"') # deepskyblue3\n",
    "         ) +\n",
    "         geom_ribbon(\n",
    "             data=df_nowcast,\n",
    "             mapping=aes(x='target_end_date', ymin='quantile_0.25', ymax='quantile_0.75', group='forecast_date', alpha='\"50%\"', fill='\"Nowcast\"')\n",
    "         ) +\n",
    "         geom_line(\n",
    "             data=df_nowcast,\n",
    "             mapping=aes(x='target_end_date', y='quantile_0.5', group='forecast_date'),\n",
    "             color=\"#009ACD\", linetype=\"solid\"\n",
    "         ) +\n",
    "\n",
    "        geom_ribbon(\n",
    "             data=df_forecast,\n",
    "             mapping=aes(x='target_end_date', ymin='quantile_0.025', ymax='quantile_0.975', group='forecast_date', alpha='\"95%\"', fill='\"Forecast\"')\n",
    "         ) +\n",
    "         geom_ribbon(\n",
    "             data=df_forecast,\n",
    "             mapping=aes(x='target_end_date', ymin='quantile_0.25', ymax='quantile_0.75', group='forecast_date', alpha='\"50%\"', fill='\"Forecast\"')\n",
    "         ) +\n",
    "         geom_line(\n",
    "             data=df_forecast,\n",
    "             mapping=aes(x='target_end_date', y='quantile_0.5', group='forecast_date'),\n",
    "             color=\"seagreen\", linetype=\"solid\"\n",
    "         ) +\n",
    "         geom_line(aes(x='date', y='value', group='forecast_date', color='\"as of forecast date\"')) +\n",
    "         geom_line(data=df[df.forecast_date == '2024-10-06'], mapping=aes(x='date', y='value', color='\"final\"')) +\n",
    "         theme_bw() +\n",
    "         labs(x='', y='Weekly number of SARI hospitalizations', linetype='') +\n",
    "         scale_color_manual(name='\\nData version', values={'as of forecast date': '#D55E00', 'final' : 'black'}) +\n",
    "         scale_fill_manual(name=' ', values={'Forecast': 'seagreen', 'Nowcast': '#009ACD'}) +\n",
    "         scale_linetype_manual(name=' ', values={'Forecast date': \"dotted\"}, guide=guide_legend(order=1)) +\n",
    "         scale_alpha_manual(name=\"Forecasts with \\nprediction intervals:\", values=alphas, guide=None)+\n",
    "         theme(\n",
    "             legend_position=\"right\",\n",
    "             legend_title=element_text(size=8),\n",
    "             legend_text=element_text(size=8),\n",
    "             legend_key=element_blank(),\n",
    "             #legend_key_size=0.65,\n",
    "             axis_title_y=element_text(size=9),\n",
    "             axis_text=element_text(size=8),\n",
    "             axis_ticks=element_line(color=\"black\", size=0.25),\n",
    "             panel_grid_major=element_line(size=0.15),\n",
    "             panel_grid_minor=element_line(size=0.1),\n",
    "             #plot_margin=(1, 1.5, 0, 1.5),\n",
    "             #legend_margin=5,\n",
    "             #legend_box_spacing=0\n",
    "         )  \n",
    "    )\n",
    "    return p"
   ]
  },
  {
   "cell_type": "code",
   "execution_count": 19,
   "id": "c43c19d5-b6f6-4a80-95ff-563627e324b6",
   "metadata": {},
   "outputs": [
    {
     "name": "stderr",
     "output_type": "stream",
     "text": [
      "UserWarning: The (time) index from `df` is monotonically increasing. This results in time series groups with non-overlapping (time) index. You can ignore this warning if the index represents the actual index of each individual time series group.\n",
      "UserWarning: The (time) index from `df` is monotonically increasing. This results in time series groups with non-overlapping (time) index. You can ignore this warning if the index represents the actual index of each individual time series group.\n"
     ]
    },
    {
     "name": "stdout",
     "output_type": "stream",
     "text": [
      "0\n",
      "['2023-12-07', '2024-02-08', '2024-04-11', '2024-06-13', '2024-08-15', '2024-10-06']\n"
     ]
    },
    {
     "name": "stderr",
     "output_type": "stream",
     "text": [
      "UserWarning: The (time) index from `df` is monotonically increasing. This results in time series groups with non-overlapping (time) index. You can ignore this warning if the index represents the actual index of each individual time series group.\n",
      "UserWarning: The (time) index from `df` is monotonically increasing. This results in time series groups with non-overlapping (time) index. You can ignore this warning if the index represents the actual index of each individual time series group.\n",
      "UserWarning: The (time) index from `df` is monotonically increasing. This results in time series groups with non-overlapping (time) index. You can ignore this warning if the index represents the actual index of each individual time series group.\n",
      "UserWarning: The (time) index from `df` is monotonically increasing. This results in time series groups with non-overlapping (time) index. You can ignore this warning if the index represents the actual index of each individual time series group.\n",
      "/home/wolffram/.conda/envs/RESPINOW-ML/lib/python3.9/site-packages/plotnine/ggplot.py:606: PlotnineWarning: Saving 190.5 x 90.00000000000001 mm image.\n",
      "/home/wolffram/.conda/envs/RESPINOW-ML/lib/python3.9/site-packages/plotnine/ggplot.py:607: PlotnineWarning: Filename: ../figures/forecast_0.pdf\n",
      "UserWarning: The (time) index from `df` is monotonically increasing. This results in time series groups with non-overlapping (time) index. You can ignore this warning if the index represents the actual index of each individual time series group.\n"
     ]
    },
    {
     "name": "stdout",
     "output_type": "stream",
     "text": [
      "1\n",
      "['2023-12-14', '2024-02-15', '2024-04-18', '2024-06-20', '2024-08-22', '2024-10-06']\n"
     ]
    },
    {
     "name": "stderr",
     "output_type": "stream",
     "text": [
      "UserWarning: The (time) index from `df` is monotonically increasing. This results in time series groups with non-overlapping (time) index. You can ignore this warning if the index represents the actual index of each individual time series group.\n",
      "UserWarning: The (time) index from `df` is monotonically increasing. This results in time series groups with non-overlapping (time) index. You can ignore this warning if the index represents the actual index of each individual time series group.\n",
      "UserWarning: The (time) index from `df` is monotonically increasing. This results in time series groups with non-overlapping (time) index. You can ignore this warning if the index represents the actual index of each individual time series group.\n",
      "UserWarning: The (time) index from `df` is monotonically increasing. This results in time series groups with non-overlapping (time) index. You can ignore this warning if the index represents the actual index of each individual time series group.\n",
      "UserWarning: The (time) index from `df` is monotonically increasing. This results in time series groups with non-overlapping (time) index. You can ignore this warning if the index represents the actual index of each individual time series group.\n",
      "/home/wolffram/.conda/envs/RESPINOW-ML/lib/python3.9/site-packages/plotnine/ggplot.py:606: PlotnineWarning: Saving 190.5 x 90.00000000000001 mm image.\n",
      "/home/wolffram/.conda/envs/RESPINOW-ML/lib/python3.9/site-packages/plotnine/ggplot.py:607: PlotnineWarning: Filename: ../figures/forecast_1.pdf\n",
      "UserWarning: The (time) index from `df` is monotonically increasing. This results in time series groups with non-overlapping (time) index. You can ignore this warning if the index represents the actual index of each individual time series group.\n",
      "UserWarning: The (time) index from `df` is monotonically increasing. This results in time series groups with non-overlapping (time) index. You can ignore this warning if the index represents the actual index of each individual time series group.\n"
     ]
    },
    {
     "name": "stdout",
     "output_type": "stream",
     "text": [
      "2\n",
      "['2023-12-21', '2024-02-22', '2024-04-25', '2024-06-27', '2024-08-29', '2024-10-06']\n"
     ]
    },
    {
     "name": "stderr",
     "output_type": "stream",
     "text": [
      "UserWarning: The (time) index from `df` is monotonically increasing. This results in time series groups with non-overlapping (time) index. You can ignore this warning if the index represents the actual index of each individual time series group.\n",
      "UserWarning: The (time) index from `df` is monotonically increasing. This results in time series groups with non-overlapping (time) index. You can ignore this warning if the index represents the actual index of each individual time series group.\n",
      "UserWarning: The (time) index from `df` is monotonically increasing. This results in time series groups with non-overlapping (time) index. You can ignore this warning if the index represents the actual index of each individual time series group.\n",
      "UserWarning: The (time) index from `df` is monotonically increasing. This results in time series groups with non-overlapping (time) index. You can ignore this warning if the index represents the actual index of each individual time series group.\n",
      "/home/wolffram/.conda/envs/RESPINOW-ML/lib/python3.9/site-packages/plotnine/ggplot.py:606: PlotnineWarning: Saving 190.5 x 90.00000000000001 mm image.\n",
      "/home/wolffram/.conda/envs/RESPINOW-ML/lib/python3.9/site-packages/plotnine/ggplot.py:607: PlotnineWarning: Filename: ../figures/forecast_2.pdf\n",
      "UserWarning: The (time) index from `df` is monotonically increasing. This results in time series groups with non-overlapping (time) index. You can ignore this warning if the index represents the actual index of each individual time series group.\n",
      "UserWarning: The (time) index from `df` is monotonically increasing. This results in time series groups with non-overlapping (time) index. You can ignore this warning if the index represents the actual index of each individual time series group.\n"
     ]
    },
    {
     "name": "stdout",
     "output_type": "stream",
     "text": [
      "3\n",
      "['2024-02-29', '2024-05-02', '2024-07-04', '2024-09-05', '2024-10-06']\n"
     ]
    },
    {
     "name": "stderr",
     "output_type": "stream",
     "text": [
      "UserWarning: The (time) index from `df` is monotonically increasing. This results in time series groups with non-overlapping (time) index. You can ignore this warning if the index represents the actual index of each individual time series group.\n",
      "UserWarning: The (time) index from `df` is monotonically increasing. This results in time series groups with non-overlapping (time) index. You can ignore this warning if the index represents the actual index of each individual time series group.\n",
      "UserWarning: The (time) index from `df` is monotonically increasing. This results in time series groups with non-overlapping (time) index. You can ignore this warning if the index represents the actual index of each individual time series group.\n",
      "/home/wolffram/.conda/envs/RESPINOW-ML/lib/python3.9/site-packages/plotnine/ggplot.py:606: PlotnineWarning: Saving 190.5 x 90.00000000000001 mm image.\n",
      "/home/wolffram/.conda/envs/RESPINOW-ML/lib/python3.9/site-packages/plotnine/ggplot.py:607: PlotnineWarning: Filename: ../figures/forecast_3.pdf\n",
      "UserWarning: The (time) index from `df` is monotonically increasing. This results in time series groups with non-overlapping (time) index. You can ignore this warning if the index represents the actual index of each individual time series group.\n"
     ]
    },
    {
     "name": "stdout",
     "output_type": "stream",
     "text": [
      "4\n",
      "['2024-01-04', '2024-03-07', '2024-05-09', '2024-07-11', '2024-09-12', '2024-10-06']\n"
     ]
    },
    {
     "name": "stderr",
     "output_type": "stream",
     "text": [
      "UserWarning: The (time) index from `df` is monotonically increasing. This results in time series groups with non-overlapping (time) index. You can ignore this warning if the index represents the actual index of each individual time series group.\n",
      "UserWarning: The (time) index from `df` is monotonically increasing. This results in time series groups with non-overlapping (time) index. You can ignore this warning if the index represents the actual index of each individual time series group.\n",
      "UserWarning: The (time) index from `df` is monotonically increasing. This results in time series groups with non-overlapping (time) index. You can ignore this warning if the index represents the actual index of each individual time series group.\n",
      "UserWarning: The (time) index from `df` is monotonically increasing. This results in time series groups with non-overlapping (time) index. You can ignore this warning if the index represents the actual index of each individual time series group.\n",
      "UserWarning: The (time) index from `df` is monotonically increasing. This results in time series groups with non-overlapping (time) index. You can ignore this warning if the index represents the actual index of each individual time series group.\n",
      "/home/wolffram/.conda/envs/RESPINOW-ML/lib/python3.9/site-packages/plotnine/ggplot.py:606: PlotnineWarning: Saving 190.5 x 90.00000000000001 mm image.\n",
      "/home/wolffram/.conda/envs/RESPINOW-ML/lib/python3.9/site-packages/plotnine/ggplot.py:607: PlotnineWarning: Filename: ../figures/forecast_4.pdf\n"
     ]
    },
    {
     "name": "stdout",
     "output_type": "stream",
     "text": [
      "5\n",
      "['2024-01-11', '2024-03-14', '2024-05-16', '2024-07-18', '2024-10-06']\n"
     ]
    },
    {
     "name": "stderr",
     "output_type": "stream",
     "text": [
      "UserWarning: The (time) index from `df` is monotonically increasing. This results in time series groups with non-overlapping (time) index. You can ignore this warning if the index represents the actual index of each individual time series group.\n",
      "UserWarning: The (time) index from `df` is monotonically increasing. This results in time series groups with non-overlapping (time) index. You can ignore this warning if the index represents the actual index of each individual time series group.\n",
      "UserWarning: The (time) index from `df` is monotonically increasing. This results in time series groups with non-overlapping (time) index. You can ignore this warning if the index represents the actual index of each individual time series group.\n",
      "UserWarning: The (time) index from `df` is monotonically increasing. This results in time series groups with non-overlapping (time) index. You can ignore this warning if the index represents the actual index of each individual time series group.\n",
      "UserWarning: The (time) index from `df` is monotonically increasing. This results in time series groups with non-overlapping (time) index. You can ignore this warning if the index represents the actual index of each individual time series group.\n",
      "/home/wolffram/.conda/envs/RESPINOW-ML/lib/python3.9/site-packages/plotnine/ggplot.py:606: PlotnineWarning: Saving 190.5 x 90.00000000000001 mm image.\n",
      "/home/wolffram/.conda/envs/RESPINOW-ML/lib/python3.9/site-packages/plotnine/ggplot.py:607: PlotnineWarning: Filename: ../figures/forecast_5.pdf\n",
      "UserWarning: The (time) index from `df` is monotonically increasing. This results in time series groups with non-overlapping (time) index. You can ignore this warning if the index represents the actual index of each individual time series group.\n",
      "UserWarning: The (time) index from `df` is monotonically increasing. This results in time series groups with non-overlapping (time) index. You can ignore this warning if the index represents the actual index of each individual time series group.\n"
     ]
    },
    {
     "name": "stdout",
     "output_type": "stream",
     "text": [
      "6\n",
      "['2024-01-18', '2024-03-21', '2024-05-23', '2024-07-25', '2024-10-06']\n"
     ]
    },
    {
     "name": "stderr",
     "output_type": "stream",
     "text": [
      "UserWarning: The (time) index from `df` is monotonically increasing. This results in time series groups with non-overlapping (time) index. You can ignore this warning if the index represents the actual index of each individual time series group.\n",
      "UserWarning: The (time) index from `df` is monotonically increasing. This results in time series groups with non-overlapping (time) index. You can ignore this warning if the index represents the actual index of each individual time series group.\n",
      "UserWarning: The (time) index from `df` is monotonically increasing. This results in time series groups with non-overlapping (time) index. You can ignore this warning if the index represents the actual index of each individual time series group.\n",
      "/home/wolffram/.conda/envs/RESPINOW-ML/lib/python3.9/site-packages/plotnine/ggplot.py:606: PlotnineWarning: Saving 190.5 x 90.00000000000001 mm image.\n",
      "/home/wolffram/.conda/envs/RESPINOW-ML/lib/python3.9/site-packages/plotnine/ggplot.py:607: PlotnineWarning: Filename: ../figures/forecast_6.pdf\n",
      "UserWarning: The (time) index from `df` is monotonically increasing. This results in time series groups with non-overlapping (time) index. You can ignore this warning if the index represents the actual index of each individual time series group.\n",
      "UserWarning: The (time) index from `df` is monotonically increasing. This results in time series groups with non-overlapping (time) index. You can ignore this warning if the index represents the actual index of each individual time series group.\n"
     ]
    },
    {
     "name": "stdout",
     "output_type": "stream",
     "text": [
      "7\n",
      "['2024-01-25', '2024-03-28', '2024-05-30', '2024-08-01', '2024-10-06']\n"
     ]
    },
    {
     "name": "stderr",
     "output_type": "stream",
     "text": [
      "UserWarning: The (time) index from `df` is monotonically increasing. This results in time series groups with non-overlapping (time) index. You can ignore this warning if the index represents the actual index of each individual time series group.\n",
      "UserWarning: The (time) index from `df` is monotonically increasing. This results in time series groups with non-overlapping (time) index. You can ignore this warning if the index represents the actual index of each individual time series group.\n",
      "UserWarning: The (time) index from `df` is monotonically increasing. This results in time series groups with non-overlapping (time) index. You can ignore this warning if the index represents the actual index of each individual time series group.\n",
      "/home/wolffram/.conda/envs/RESPINOW-ML/lib/python3.9/site-packages/plotnine/ggplot.py:606: PlotnineWarning: Saving 190.5 x 90.00000000000001 mm image.\n",
      "/home/wolffram/.conda/envs/RESPINOW-ML/lib/python3.9/site-packages/plotnine/ggplot.py:607: PlotnineWarning: Filename: ../figures/forecast_7.pdf\n",
      "UserWarning: The (time) index from `df` is monotonically increasing. This results in time series groups with non-overlapping (time) index. You can ignore this warning if the index represents the actual index of each individual time series group.\n",
      "UserWarning: The (time) index from `df` is monotonically increasing. This results in time series groups with non-overlapping (time) index. You can ignore this warning if the index represents the actual index of each individual time series group.\n"
     ]
    },
    {
     "name": "stdout",
     "output_type": "stream",
     "text": [
      "8\n",
      "['2024-02-01', '2024-04-04', '2024-06-06', '2024-08-08', '2024-10-06']\n"
     ]
    },
    {
     "name": "stderr",
     "output_type": "stream",
     "text": [
      "UserWarning: The (time) index from `df` is monotonically increasing. This results in time series groups with non-overlapping (time) index. You can ignore this warning if the index represents the actual index of each individual time series group.\n",
      "UserWarning: The (time) index from `df` is monotonically increasing. This results in time series groups with non-overlapping (time) index. You can ignore this warning if the index represents the actual index of each individual time series group.\n",
      "UserWarning: The (time) index from `df` is monotonically increasing. This results in time series groups with non-overlapping (time) index. You can ignore this warning if the index represents the actual index of each individual time series group.\n",
      "/home/wolffram/.conda/envs/RESPINOW-ML/lib/python3.9/site-packages/plotnine/ggplot.py:606: PlotnineWarning: Saving 190.5 x 90.00000000000001 mm image.\n",
      "/home/wolffram/.conda/envs/RESPINOW-ML/lib/python3.9/site-packages/plotnine/ggplot.py:607: PlotnineWarning: Filename: ../figures/forecast_8.pdf\n",
      "UserWarning: The (time) index from `df` is monotonically increasing. This results in time series groups with non-overlapping (time) index. You can ignore this warning if the index represents the actual index of each individual time series group.\n",
      "UserWarning: The (time) index from `df` is monotonically increasing. This results in time series groups with non-overlapping (time) index. You can ignore this warning if the index represents the actual index of each individual time series group.\n"
     ]
    },
    {
     "name": "stdout",
     "output_type": "stream",
     "text": [
      "9\n",
      "['2024-02-08', '2024-04-11', '2024-06-13', '2024-08-15', '2024-10-06']\n"
     ]
    },
    {
     "name": "stderr",
     "output_type": "stream",
     "text": [
      "UserWarning: The (time) index from `df` is monotonically increasing. This results in time series groups with non-overlapping (time) index. You can ignore this warning if the index represents the actual index of each individual time series group.\n",
      "UserWarning: The (time) index from `df` is monotonically increasing. This results in time series groups with non-overlapping (time) index. You can ignore this warning if the index represents the actual index of each individual time series group.\n",
      "UserWarning: The (time) index from `df` is monotonically increasing. This results in time series groups with non-overlapping (time) index. You can ignore this warning if the index represents the actual index of each individual time series group.\n",
      "/home/wolffram/.conda/envs/RESPINOW-ML/lib/python3.9/site-packages/plotnine/ggplot.py:606: PlotnineWarning: Saving 190.5 x 90.00000000000001 mm image.\n",
      "/home/wolffram/.conda/envs/RESPINOW-ML/lib/python3.9/site-packages/plotnine/ggplot.py:607: PlotnineWarning: Filename: ../figures/forecast_9.pdf\n"
     ]
    }
   ],
   "source": [
    "for week_shift in range(10):\n",
    "    print(week_shift)\n",
    "    p = plot_ensemble_forecasts(week_shift)\n",
    "    p\n",
    "\n",
    "    p.save(f\"../figures/forecast_{week_shift}.pdf\", width = 190.5, height = 90, units=\"mm\", dpi=300)"
   ]
  },
  {
   "cell_type": "code",
   "execution_count": 16,
   "id": "cc0bbd9c-4d11-47c0-a315-551520228083",
   "metadata": {},
   "outputs": [],
   "source": []
  },
  {
   "cell_type": "code",
   "execution_count": null,
   "id": "3828dfc2-da22-41ec-9b27-d0d6886a2306",
   "metadata": {},
   "outputs": [],
   "source": []
  }
 ],
 "metadata": {
  "kernelspec": {
   "display_name": "RESPINOW-ML",
   "language": "python",
   "name": "respinow-ml"
  },
  "language_info": {
   "codemirror_mode": {
    "name": "ipython",
    "version": 3
   },
   "file_extension": ".py",
   "mimetype": "text/x-python",
   "name": "python",
   "nbconvert_exporter": "python",
   "pygments_lexer": "ipython3",
   "version": "3.9.18"
  }
 },
 "nbformat": 4,
 "nbformat_minor": 5
}
