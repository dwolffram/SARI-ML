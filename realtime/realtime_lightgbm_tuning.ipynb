{
 "cells": [
  {
   "cell_type": "markdown",
   "id": "b1c1304c-0bbe-4372-83d5-add8938843e6",
   "metadata": {},
   "source": [
    "# LightGBM Tuning"
   ]
  },
  {
   "cell_type": "markdown",
   "id": "bd96768a-3882-460b-b147-9f652d0f38c5",
   "metadata": {
    "tags": []
   },
   "source": [
    "### Setup"
   ]
  },
  {
   "cell_type": "code",
   "execution_count": 1,
   "id": "52fa4f8b-452f-451a-bf0a-41add3c55f3d",
   "metadata": {},
   "outputs": [],
   "source": [
    "import sys\n",
    "sys.path.append('../')\n",
    "from src.load_data import *\n",
    "from src.realtime_utils import *\n",
    "from src.plot_functions import *\n",
    "from src.hp_tuning_functions import *\n",
    "import torch\n",
    "from darts.utils.likelihood_models import NegativeBinomialLikelihood\n",
    "from pytorch_lightning.callbacks import RichProgressBar"
   ]
  },
  {
   "cell_type": "code",
   "execution_count": 2,
   "id": "a02053c9-f014-462a-89f0-96eeb7fb4bdc",
   "metadata": {},
   "outputs": [
    {
     "name": "stderr",
     "output_type": "stream",
     "text": [
      "/home/wolffram/.conda/envs/RESPINOW-ML/lib/python3.9/site-packages/statsforecast/utils.py:231: FutureWarning: 'M' is deprecated and will be removed in a future version, please use 'ME' instead.\n"
     ]
    }
   ],
   "source": [
    "from darts.models.forecasting.lgbm import LightGBMModel"
   ]
  },
  {
   "cell_type": "code",
   "execution_count": 3,
   "id": "31c85d54-7cff-439e-acb7-cf3d04acc580",
   "metadata": {},
   "outputs": [
    {
     "name": "stderr",
     "output_type": "stream",
     "text": [
      "Failed to detect the name of this notebook, you can set it manually with the WANDB_NOTEBOOK_NAME environment variable to enable code saving.\n",
      "\u001b[34m\u001b[1mwandb\u001b[0m: Using wandb-core as the SDK backend. Please refer to https://wandb.me/wandb-core for more information.\n",
      "\u001b[34m\u001b[1mwandb\u001b[0m: Currently logged in as: \u001b[33mdwolffram\u001b[0m (\u001b[33mdwolffram-karlsruhe-institute-of-technology\u001b[0m). Use \u001b[1m`wandb login --relogin`\u001b[0m to force relogin\n"
     ]
    },
    {
     "data": {
      "text/plain": [
       "True"
      ]
     },
     "execution_count": 3,
     "metadata": {},
     "output_type": "execute_result"
    }
   ],
   "source": [
    "import wandb\n",
    "wandb.login()"
   ]
  },
  {
   "cell_type": "markdown",
   "id": "1b23a5ca-729f-4539-8370-d8b095d625d6",
   "metadata": {
    "tags": []
   },
   "source": [
    "### Configuration"
   ]
  },
  {
   "cell_type": "code",
   "execution_count": 4,
   "id": "fbe295db-3585-4a1e-a233-ccd5419c5505",
   "metadata": {},
   "outputs": [],
   "source": [
    "NAME = 'lightgbm'"
   ]
  },
  {
   "cell_type": "code",
   "execution_count": 5,
   "id": "1ecc1040-de41-4e10-a201-29f11362b7f6",
   "metadata": {},
   "outputs": [],
   "source": [
    "NUM_SAMPLES = 1000\n",
    "HORIZON = 4\n",
    "\n",
    "ENCODERS = {\n",
    "    'datetime_attribute': {'future': ['month', 'weekofyear']}\n",
    "}\n",
    "\n",
    "SHARED_ARGS = dict(\n",
    "    output_chunk_length=HORIZON,\n",
    ")"
   ]
  },
  {
   "cell_type": "code",
   "execution_count": 6,
   "id": "407d309e-268d-46fb-988d-7b3550bb7ae4",
   "metadata": {},
   "outputs": [],
   "source": [
    "sweep_configuration = {\n",
    "    \"name\": f\"{NAME}-expanding-window\",\n",
    "    \"method\": \"random\",\n",
    "    \"metric\": {\"goal\": \"minimize\", \"name\": \"WIS\"},  \n",
    "    \"parameters\": {\n",
    "        \"model\": {\"values\": [NAME]},  \n",
    "        \"multiple_series\": {\"values\": [False]},\n",
    "        \"use_covariates\" :  {\"values\" : [True, False]},\n",
    "        \"use_features\" :  {\"values\" : [False]},\n",
    "        \"use_encoders\" :  {\"values\" : [True, False]},\n",
    "        \"use_static_covariates\" :  {\"values\" : [False]},\n",
    "        \"lags\": {\"values\": [8]},\n",
    "        \"lags_past_covariates\": {\"values\": [8]},\n",
    "        \"lags_future_covariates\": {\"values\": [(0,4)]},\n",
    "        \"num_leaves\": {\"values\": [10, 20, 31, 40, 50]},  # Number of leaves\n",
    "        \"max_depth\": {\"values\": [-1, 5, 10, 15, 20]},  # Max depth of trees\n",
    "        \"learning_rate\": {\"values\": [0.005, 0.01, 0.05, 0.1, 0.2]},  # Learning rate\n",
    "        \"n_estimators\": {\"values\": [250, 500, 1000, 2000, 5000]},  # Number of boosting rounds\n",
    "        \"min_child_samples\": {\"values\": [10, 20, 30]},  # Minimum child samples per leaf\n",
    "        \"subsample\": {\"values\": [0.8, 0.9, 1.0]},  # Subsampling ratio\n",
    "        \"colsample_bytree\": {\"values\": [0.8, 0.9, 1.0]},  # Feature fraction for building trees\n",
    "        \"reg_alpha\": {\"values\": [0, 0.25, 0.5, 1.0]},  # L1 regularization\n",
    "        \"reg_lambda\": {\"values\": [0, 0.25, 0.5, 1.0]},  # L2 regularization\n",
    "        \"subsample_freq\": {\"values\": [0, 1, 2, 5]},  # Subsampling frequency\n",
    "        \"min_split_gain\": {\"values\": [0.0, 0.1, 0.2]},  # Minimum gain to split\n",
    "        \"max_bin\": {\"values\": [510, 1024, 2048]},  # Maximum number of bins\n",
    "    }\n",
    "}"
   ]
  },
  {
   "cell_type": "code",
   "execution_count": 7,
   "id": "34ec460d-4292-4e64-84c2-518ee9990b19",
   "metadata": {},
   "outputs": [],
   "source": [
    "sweep_configuration = {\n",
    "    \"name\": f\"{NAME}-expanding-window\",\n",
    "    \"method\": \"random\",\n",
    "    \"metric\": {\"goal\": \"minimize\", \"name\": \"WIS\"},  \n",
    "    \"parameters\": {\n",
    "        \"model\": {\"values\": [NAME]},  \n",
    "        \"multiple_series\": {\"values\": [False]},\n",
    "        \"use_covariates\" :  {\"values\" : [True, False]},\n",
    "        \"use_features\" :  {\"values\" : [False]},\n",
    "        \"use_encoders\" :  {\"values\" : [True, False]},\n",
    "        \"use_static_covariates\" :  {\"values\" : [False]},\n",
    "        \"lags\": {\"values\": [8]},\n",
    "        \"lags_past_covariates\": {\"values\": [8]},\n",
    "        \"lags_future_covariates\": {\"values\": [(0,4)]},\n",
    "        \"num_leaves\": {\"values\": [10, 20, 31, 40, 50]},  # Number of leaves\n",
    "        \"max_depth\": {\"values\": [-1, 5, 10, 15, 20]},  # Max depth of trees\n",
    "        \"learning_rate\": {\"values\": [0.005, 0.01, 0.05, 0.1, 0.2]},  # Learning rate\n",
    "        \"n_estimators\": {\"values\": [250, 500, 1000, 2000, 5000]},  # Number of boosting rounds\n",
    "        \"min_child_samples\": {\"values\": [10, 20, 30]},  # Minimum child samples per leaf\n",
    "        \"subsample\": {\"values\": [1.0]},  # Subsampling ratio\n",
    "        \"colsample_bytree\": {\"values\": [1.0]},  # Feature fraction for building trees\n",
    "        \"reg_alpha\": {\"values\": [0]},  # L1 regularization\n",
    "        \"reg_lambda\": {\"values\": [0]},  # L2 regularization\n",
    "        \"subsample_freq\": {\"values\": [0]},  # Subsampling frequency\n",
    "        \"min_split_gain\": {\"values\": [0.0, 0.1, 0.2]},  # Minimum gain to split\n",
    "        \"max_bin\": {\"values\": [510, 1024, 2048]},  # Maximum number of bins\n",
    "    }\n",
    "}"
   ]
  },
  {
   "cell_type": "markdown",
   "id": "85a6ef0d-2f21-445b-8184-a2c138cee629",
   "metadata": {},
   "source": [
    "### Load data"
   ]
  },
  {
   "cell_type": "code",
   "execution_count": 8,
   "id": "fff9738e-2461-4eb2-88af-50a74ddc07e6",
   "metadata": {},
   "outputs": [],
   "source": [
    "def get_season_start(start_year):\n",
    "    return pd.to_datetime(Week(start_year, 40, system=\"iso\").enddate())\n",
    "\n",
    "def get_season_end(start_year):\n",
    "    return pd.to_datetime(Week(start_year + 1, 39, system=\"iso\").enddate())\n",
    "\n",
    "def train_validation_split(series, validation_year):\n",
    "    validation_end = get_season_end(validation_year)\n",
    "    train_end = get_season_end(validation_year - 1)\n",
    "\n",
    "    ts_validation = series[:validation_end]\n",
    "    ts_train = series[:train_end]\n",
    "    \n",
    "    return ts_train, ts_validation"
   ]
  },
  {
   "cell_type": "code",
   "execution_count": 10,
   "id": "c86c9ec4-8f2e-4831-8676-6700c75f9929",
   "metadata": {},
   "outputs": [
    {
     "data": {
      "text/plain": [
       "Timestamp('2024-09-29 00:00:00')"
      ]
     },
     "execution_count": 10,
     "metadata": {},
     "output_type": "execute_result"
    }
   ],
   "source": [
    "get_season_end(2023)"
   ]
  },
  {
   "cell_type": "code",
   "execution_count": 11,
   "id": "99ef6ed3-ebff-46c5-b5cb-5826414c2400",
   "metadata": {},
   "outputs": [
    {
     "data": {
      "text/plain": [
       "Timestamp('2024-10-06 00:00:00')"
      ]
     },
     "execution_count": 11,
     "metadata": {},
     "output_type": "execute_result"
    }
   ],
   "source": [
    "get_season_start(2024)"
   ]
  },
  {
   "cell_type": "code",
   "execution_count": 13,
   "id": "44ca9e73-84cb-4f37-9dd6-5f4b13c8f0b8",
   "metadata": {},
   "outputs": [
    {
     "name": "stderr",
     "output_type": "stream",
     "text": [
      "/home/wolffram/.conda/envs/RESPINOW-ML/lib/python3.9/site-packages/xarray/core/concat.py:544: FutureWarning: unique with argument that is not not a Series, Index, ExtensionArray, or np.ndarray is deprecated and will raise in a future version.\n",
      "/home/wolffram/.conda/envs/RESPINOW-ML/lib/python3.9/site-packages/xarray/core/concat.py:544: FutureWarning: unique with argument that is not not a Series, Index, ExtensionArray, or np.ndarray is deprecated and will raise in a future version.\n"
     ]
    }
   ],
   "source": [
    "targets, covariates = load_realtime_training_data()"
   ]
  },
  {
   "cell_type": "code",
   "execution_count": 14,
   "id": "1f497c49-6fc1-4147-845e-fc17e00a9181",
   "metadata": {},
   "outputs": [],
   "source": [
    "targets_train, targets_validation = train_validation_split(targets, 2022)"
   ]
  },
  {
   "cell_type": "code",
   "execution_count": 15,
   "id": "bf8c4d81-8de9-44c3-948a-ed3b39ad4722",
   "metadata": {},
   "outputs": [
    {
     "data": {
      "text/plain": [
       "<Axes: xlabel='date'>"
      ]
     },
     "execution_count": 15,
     "metadata": {},
     "output_type": "execute_result"
    },
    {
     "data": {
      "image/png": "[encoded data removed]",
      "text/plain": [
       "<Figure size 640x480 with 1 Axes>"
      ]
     },
     "metadata": {},
     "output_type": "display_data"
    }
   ],
   "source": [
    "targets_validation['icosari-sari-DE'].plot(label='validation')\n",
    "targets_train['icosari-sari-DE'].plot(label='train')"
   ]
  },
  {
   "cell_type": "markdown",
   "id": "e62ddf92-c22f-47b0-906f-2fd9d3862b66",
   "metadata": {
    "tags": []
   },
   "source": [
    "### Block CV"
   ]
  },
  {
   "cell_type": "code",
   "execution_count": 9,
   "id": "a919f5f2",
   "metadata": {},
   "outputs": [],
   "source": [
    "# Block CV\n",
    "def objective(config):\n",
    "    optimizer = OPTIMIZER_DICT[config.optimizer]\n",
    "    use_covariates = config.use_covariates\n",
    "    \n",
    "    model = TSMixerModel(\n",
    "        input_chunk_length=config.input_chunk_length,\n",
    "        hidden_size=config.hidden_size,\n",
    "        ff_size=config.ff_size,\n",
    "        num_blocks=config.num_blocks,\n",
    "        dropout=config.dropout,\n",
    "        norm_type=config.norm_type,\n",
    "        batch_size=config.batch_size,\n",
    "        n_epochs=config.n_epochs,\n",
    "        normalize_before=config.normalize_before,\n",
    "        activation=config.activation,\n",
    "        optimizer_cls=optimizer,\n",
    "        optimizer_kwargs={**config.optimizer_kwargs},\n",
    "        use_static_covariates=config.use_static_covariates,\n",
    "        \n",
    "        **SHARED_ARGS\n",
    "    )\n",
    "    \n",
    "    scores = []\n",
    "    k=0\n",
    "    for train, validation, cov in zip(targets_train, targets_validation, covariates):\n",
    "        k+=1\n",
    "        score = compute_validation_score(model, train, validation, cov if use_covariates else None, \n",
    "                                         HORIZON, NUM_SAMPLES, METRIC, METRIC_KWARGS)\n",
    "        scores.append(score)\n",
    "        wandb.log({f'WIS_{k}' : score})\n",
    "        # model.reset()?\n",
    "            \n",
    "    avg_score = np.mean(scores) # average across all validation periods\n",
    "    std = np.std(scores)\n",
    "    var = np.var(scores)\n",
    "    \n",
    "    wandb.log({'WIS_std' : std,\n",
    "               'WIS_var' : var})\n",
    "\n",
    "    return avg_score"
   ]
  },
  {
   "cell_type": "markdown",
   "id": "094f5c99-62cd-4862-b2f4-ebeb0068e429",
   "metadata": {
    "jp-MarkdownHeadingCollapsed": true,
    "tags": []
   },
   "source": [
    "### Simple validation"
   ]
  },
  {
   "cell_type": "code",
   "execution_count": 10,
   "id": "d785b6dc-8e7f-41e2-b641-ac45974da124",
   "metadata": {},
   "outputs": [],
   "source": [
    "# Simple validation\n",
    "def objective(config):\n",
    "    optimizer = OPTIMIZER_DICT[config.optimizer]\n",
    "    use_covariates = config.use_covariates\n",
    "    use_features = config.use_features\n",
    "    use_encoders = config.use_encoders\n",
    "    \n",
    "    model = TSMixerModel(\n",
    "        input_chunk_length=config.input_chunk_length,\n",
    "        hidden_size=config.hidden_size,\n",
    "        ff_size=config.ff_size,\n",
    "        num_blocks=config.num_blocks,\n",
    "        dropout=config.dropout,\n",
    "        norm_type=config.norm_type,\n",
    "        batch_size=config.batch_size,\n",
    "        n_epochs=config.n_epochs,\n",
    "        normalize_before=config.normalize_before,\n",
    "        activation=config.activation,\n",
    "        optimizer_cls=optimizer,\n",
    "        optimizer_kwargs={**config.optimizer_kwargs},\n",
    "        use_static_covariates=config.use_static_covariates,\n",
    "        add_encoders=ENCODERS if use_encoders else None,\n",
    "        \n",
    "        **SHARED_ARGS\n",
    "    )\n",
    "    \n",
    "    train = targets_train\n",
    "    validation = targets_validation\n",
    "    cov = covariates\n",
    "    \n",
    "    if use_features:\n",
    "        ts_features = load_features(lag=8)\n",
    "        cov = cov.slice_intersect(ts_features) # features start a bit later because of rolling window\n",
    "        ts_features = ts_features.slice_intersect(cov) # features are longer because they cover the whole period until now\n",
    "    \n",
    "    score = compute_validation_score(model, train, validation, cov if use_covariates else None, \n",
    "                                     HORIZON, NUM_SAMPLES, METRIC, METRIC_KWARGS)\n",
    "\n",
    "    return score"
   ]
  },
  {
   "cell_type": "markdown",
   "id": "9214defb-4113-41f7-9392-a4210d27c64a",
   "metadata": {
    "tags": []
   },
   "source": [
    "### Multiple runs"
   ]
  },
  {
   "cell_type": "code",
   "execution_count": 11,
   "id": "81a9dc00-ed38-45de-8d1c-b5a6a6a62bfc",
   "metadata": {},
   "outputs": [],
   "source": [
    "RANDOM_SEEDS = [1, 2, 3]"
   ]
  },
  {
   "cell_type": "code",
   "execution_count": 12,
   "id": "75ee24c4-8d74-4f13-94be-8b562dbeb1df",
   "metadata": {},
   "outputs": [],
   "source": [
    "# Multiple runs\n",
    "def objective(config):\n",
    "    optimizer = OPTIMIZER_DICT[config.optimizer]\n",
    "    use_covariates = config.use_covariates\n",
    "    use_features = config.use_features\n",
    "    use_encoders = config.use_encoders\n",
    "    \n",
    "    model = TSMixerModel(\n",
    "        input_chunk_length=config.input_chunk_length,\n",
    "        hidden_size=config.hidden_size,\n",
    "        ff_size=config.ff_size,\n",
    "        num_blocks=config.num_blocks,\n",
    "        dropout=config.dropout,\n",
    "        norm_type=config.norm_type,\n",
    "        batch_size=config.batch_size,\n",
    "        n_epochs=config.n_epochs,\n",
    "        normalize_before=config.normalize_before,\n",
    "        activation=config.activation,\n",
    "        optimizer_cls=optimizer,\n",
    "        optimizer_kwargs={**config.optimizer_kwargs},\n",
    "        use_static_covariates=config.use_static_covariates,\n",
    "        add_encoders=ENCODERS if use_encoders else None,\n",
    "        \n",
    "        **SHARED_ARGS\n",
    "    )\n",
    "    \n",
    "    train = targets_train\n",
    "    validation = targets_validation\n",
    "    cov = covariates\n",
    "    \n",
    "    if use_features:\n",
    "        ts_features = load_features(lag=8)\n",
    "        cov = cov.slice_intersect(ts_features) # features start a bit later because of rolling window\n",
    "        ts_features = ts_features.slice_intersect(cov) # features are longer because they cover the whole period until now\n",
    "    \n",
    "    \n",
    "    scores = []\n",
    "    for seed in RANDOM_SEEDS:\n",
    "        model.model_params['random_state'] = seed\n",
    "        score = compute_validation_score(model, train, validation, cov if use_covariates else None, \n",
    "                                         HORIZON, NUM_SAMPLES, METRIC, METRIC_KWARGS)\n",
    "        scores.append(score)\n",
    "        wandb.log({f'WIS_{seed}' : score})\n",
    "        model.reset_model()\n",
    "            \n",
    "    avg_score = np.mean(scores) # average across all runs\n",
    "    std = np.std(scores)\n",
    "    \n",
    "    wandb.log({'WIS_std' : std})\n",
    "\n",
    "    return avg_score"
   ]
  },
  {
   "cell_type": "markdown",
   "id": "117cfff1-8982-4c6b-917d-cd4b3e44e5f2",
   "metadata": {},
   "source": [
    "### Expanding window"
   ]
  },
  {
   "cell_type": "code",
   "execution_count": 16,
   "id": "42f18a02-f3c0-4179-a93f-fafa8415cc62",
   "metadata": {},
   "outputs": [],
   "source": [
    "VALIDATION_YEARS = [2018, 2019, 2022, 2023]"
   ]
  },
  {
   "cell_type": "code",
   "execution_count": 17,
   "id": "abe4a17e-e75e-430d-9c43-b21649b38a82",
   "metadata": {},
   "outputs": [],
   "source": [
    "# Expanding window\n",
    "def objective(config):\n",
    "    multiple_series = config.multiple_series\n",
    "    use_covariates = config.use_covariates\n",
    "    use_features = config.use_features\n",
    "    use_encoders = config.use_encoders\n",
    "    \n",
    "    model = LightGBMModel(\n",
    "        lags=config.lags,\n",
    "        lags_past_covariates=config.lags_past_covariates if use_covariates else None,\n",
    "        lags_future_covariates=config.lags_future_covariates if use_encoders else None,\n",
    "        num_leaves=config.num_leaves,\n",
    "        max_depth=config.max_depth,\n",
    "        learning_rate=config.learning_rate,\n",
    "        n_estimators=config.n_estimators,\n",
    "        min_child_samples=config.min_child_samples, \n",
    "        subsample=config.subsample, \n",
    "        colsample_bytree=config.colsample_bytree,  \n",
    "        reg_alpha=config.reg_alpha,  # L1 regularization\n",
    "        reg_lambda=config.reg_lambda,  # L2 regularization\n",
    "        subsample_freq=config.subsample_freq, \n",
    "        min_split_gain=config.min_split_gain,  \n",
    "        max_bin=config.max_bin,  \n",
    "        use_static_covariates=config.use_static_covariates,\n",
    "        add_encoders=ENCODERS if use_encoders else None,\n",
    "        verbose=-1,\n",
    "        likelihood=\"quantile\",\n",
    "        quantiles=QUANTILES,\n",
    "        \n",
    "        **SHARED_ARGS\n",
    "    )\n",
    "    \n",
    "    \n",
    "    scores = []\n",
    "    for validation_year in VALIDATION_YEARS:\n",
    "        targets_train, targets_validation = train_validation_split(targets, validation_year)\n",
    "        score = compute_validation_score(model, targets_train, targets_validation, covariates if use_covariates else None, \n",
    "                                         HORIZON, NUM_SAMPLES, METRIC, METRIC_KWARGS, enable_optimization=False)\n",
    "        scores.append(score)\n",
    "        wandb.log({f'WIS_{validation_year}' : score})\n",
    "            \n",
    "    avg_score = np.mean(scores) # average across all runs\n",
    "    std = np.std(scores)\n",
    "    \n",
    "    wandb.log({'WIS_std' : std})\n",
    "\n",
    "    return avg_score"
   ]
  },
  {
   "cell_type": "markdown",
   "id": "a863b7b1-5274-49a7-a861-8e39d463aba3",
   "metadata": {},
   "source": [
    "### Run tuning"
   ]
  },
  {
   "cell_type": "code",
   "execution_count": 18,
   "id": "e8a734a8-4bb5-48bb-957d-e6f7f90a441a",
   "metadata": {},
   "outputs": [],
   "source": [
    "def main():\n",
    "    run = wandb.init()\n",
    "    score = objective(wandb.config)\n",
    "    wandb.log({\"WIS\": score})\n",
    "    run.finish()"
   ]
  },
  {
   "cell_type": "code",
   "execution_count": 19,
   "id": "bd213a14-90b7-4346-879b-b63d72c58b7f",
   "metadata": {},
   "outputs": [
    {
     "name": "stdout",
     "output_type": "stream",
     "text": [
      "Create sweep with ID: rbid04k0\n",
      "Sweep URL: https://wandb.ai/dwolffram-karlsruhe-institute-of-technology/realtime-lightgbm-expanding-window/sweeps/rbid04k0\n"
     ]
    }
   ],
   "source": [
    "sweep_id = wandb.sweep(sweep=sweep_configuration, project=\"realtime-lightgbm-expanding-window\")"
   ]
  },
  {
   "cell_type": "code",
   "execution_count": null,
   "id": "ee89be52-334d-4c9a-a4c1-832f59cbe1a4",
   "metadata": {},
   "outputs": [
    {
     "name": "stderr",
     "output_type": "stream",
     "text": [
      "\u001b[34m\u001b[1mwandb\u001b[0m: Agent Starting Run: nrsssgl9 with config:\n",
      "\u001b[34m\u001b[1mwandb\u001b[0m: \tcolsample_bytree: 1\n",
      "\u001b[34m\u001b[1mwandb\u001b[0m: \tlags: 8\n",
      "\u001b[34m\u001b[1mwandb\u001b[0m: \tlags_future_covariates: [0, 4]\n",
      "\u001b[34m\u001b[1mwandb\u001b[0m: \tlags_past_covariates: 8\n",
      "\u001b[34m\u001b[1mwandb\u001b[0m: \tlearning_rate: 0.1\n",
      "\u001b[34m\u001b[1mwandb\u001b[0m: \tmax_bin: 510\n",
      "\u001b[34m\u001b[1mwandb\u001b[0m: \tmax_depth: 10\n",
      "\u001b[34m\u001b[1mwandb\u001b[0m: \tmin_child_samples: 30\n",
      "\u001b[34m\u001b[1mwandb\u001b[0m: \tmin_split_gain: 0\n",
      "\u001b[34m\u001b[1mwandb\u001b[0m: \tmodel: lightgbm\n",
      "\u001b[34m\u001b[1mwandb\u001b[0m: \tmultiple_series: False\n",
      "\u001b[34m\u001b[1mwandb\u001b[0m: \tn_estimators: 1000\n",
      "\u001b[34m\u001b[1mwandb\u001b[0m: \tnum_leaves: 31\n",
      "\u001b[34m\u001b[1mwandb\u001b[0m: \treg_alpha: 0\n",
      "\u001b[34m\u001b[1mwandb\u001b[0m: \treg_lambda: 0\n",
      "\u001b[34m\u001b[1mwandb\u001b[0m: \tsubsample: 1\n",
      "\u001b[34m\u001b[1mwandb\u001b[0m: \tsubsample_freq: 0\n",
      "\u001b[34m\u001b[1mwandb\u001b[0m: \tuse_covariates: True\n",
      "\u001b[34m\u001b[1mwandb\u001b[0m: \tuse_encoders: False\n",
      "\u001b[34m\u001b[1mwandb\u001b[0m: \tuse_features: False\n",
      "\u001b[34m\u001b[1mwandb\u001b[0m: \tuse_static_covariates: False\n",
      "Failed to detect the name of this notebook, you can set it manually with the WANDB_NOTEBOOK_NAME environment variable to enable code saving.\n"
     ]
    },
    {
     "data": {
      "text/html": [
       "Tracking run with wandb version 0.18.0"
      ],
      "text/plain": [
       "<IPython.core.display.HTML object>"
      ]
     },
     "metadata": {},
     "output_type": "display_data"
    },
    {
     "data": {
      "text/html": [
       "Run data is saved locally in <code>/home/wolffram/SARI-ML/realtime/wandb/run-20241001_185826-nrsssgl9</code>"
      ],
      "text/plain": [
       "<IPython.core.display.HTML object>"
      ]
     },
     "metadata": {},
     "output_type": "display_data"
    },
    {
     "data": {
      "text/html": [
       "Syncing run <strong><a href='https://wandb.ai/dwolffram-karlsruhe-institute-of-technology/realtime-lightgbm-expanding-window/runs/nrsssgl9' target=\"_blank\">spring-sweep-1</a></strong> to <a href='https://wandb.ai/dwolffram-karlsruhe-institute-of-technology/realtime-lightgbm-expanding-window' target=\"_blank\">Weights & Biases</a> (<a href='https://wandb.me/run' target=\"_blank\">docs</a>)<br/>Sweep page: <a href='https://wandb.ai/dwolffram-karlsruhe-institute-of-technology/realtime-lightgbm-expanding-window/sweeps/rbid04k0' target=\"_blank\">https://wandb.ai/dwolffram-karlsruhe-institute-of-technology/realtime-lightgbm-expanding-window/sweeps/rbid04k0</a>"
      ],
      "text/plain": [
       "<IPython.core.display.HTML object>"
      ]
     },
     "metadata": {},
     "output_type": "display_data"
    },
    {
     "data": {
      "text/html": [
       " View project at <a href='https://wandb.ai/dwolffram-karlsruhe-institute-of-technology/realtime-lightgbm-expanding-window' target=\"_blank\">https://wandb.ai/dwolffram-karlsruhe-institute-of-technology/realtime-lightgbm-expanding-window</a>"
      ],
      "text/plain": [
       "<IPython.core.display.HTML object>"
      ]
     },
     "metadata": {},
     "output_type": "display_data"
    },
    {
     "data": {
      "text/html": [
       " View sweep at <a href='https://wandb.ai/dwolffram-karlsruhe-institute-of-technology/realtime-lightgbm-expanding-window/sweeps/rbid04k0' target=\"_blank\">https://wandb.ai/dwolffram-karlsruhe-institute-of-technology/realtime-lightgbm-expanding-window/sweeps/rbid04k0</a>"
      ],
      "text/plain": [
       "<IPython.core.display.HTML object>"
      ]
     },
     "metadata": {},
     "output_type": "display_data"
    },
    {
     "data": {
      "text/html": [
       " View run at <a href='https://wandb.ai/dwolffram-karlsruhe-institute-of-technology/realtime-lightgbm-expanding-window/runs/nrsssgl9' target=\"_blank\">https://wandb.ai/dwolffram-karlsruhe-institute-of-technology/realtime-lightgbm-expanding-window/runs/nrsssgl9</a>"
      ],
      "text/plain": [
       "<IPython.core.display.HTML object>"
      ]
     },
     "metadata": {},
     "output_type": "display_data"
    },
    {
     "data": {
      "application/vnd.jupyter.widget-view+json": {
       "model_id": "a0207cd3b404434684f4f7009a6b6b1b",
       "version_major": 2,
       "version_minor": 0
      },
      "text/plain": [
       "VBox(children=(Label(value='0.004 MB of 0.004 MB uploaded\\r'), FloatProgress(value=1.0, max=1.0)))"
      ]
     },
     "metadata": {},
     "output_type": "display_data"
    },
    {
     "data": {
      "text/html": [
       "<style>\n",
       "    table.wandb td:nth-child(1) { padding: 0 10px; text-align: left ; width: auto;} td:nth-child(2) {text-align: left ; width: 100%}\n",
       "    .wandb-row { display: flex; flex-direction: row; flex-wrap: wrap; justify-content: flex-start; width: 100% }\n",
       "    .wandb-col { display: flex; flex-direction: column; flex-basis: 100%; flex: 1; padding: 10px; }\n",
       "    </style>\n",
       "<div class=\"wandb-row\"><div class=\"wandb-col\"><h3>Run history:</h3><br/><table class=\"wandb\"><tr><td>WIS</td><td>▁</td></tr><tr><td>WIS_2018</td><td>▁</td></tr><tr><td>WIS_2019</td><td>▁</td></tr><tr><td>WIS_2022</td><td>▁</td></tr><tr><td>WIS_2023</td><td>▁</td></tr><tr><td>WIS_std</td><td>▁</td></tr></table><br/></div><div class=\"wandb-col\"><h3>Run summary:</h3><br/><table class=\"wandb\"><tr><td>WIS</td><td>352.14289</td></tr><tr><td>WIS_2018</td><td>226.20798</td></tr><tr><td>WIS_2019</td><td>272.76521</td></tr><tr><td>WIS_2022</td><td>492.61342</td></tr><tr><td>WIS_2023</td><td>416.98493</td></tr><tr><td>WIS_std</td><td>107.35092</td></tr></table><br/></div></div>"
      ],
      "text/plain": [
       "<IPython.core.display.HTML object>"
      ]
     },
     "metadata": {},
     "output_type": "display_data"
    },
    {
     "data": {
      "text/html": [
       " View run <strong style=\"color:#cdcd00\">spring-sweep-1</strong> at: <a href='https://wandb.ai/dwolffram-karlsruhe-institute-of-technology/realtime-lightgbm-expanding-window/runs/nrsssgl9' target=\"_blank\">https://wandb.ai/dwolffram-karlsruhe-institute-of-technology/realtime-lightgbm-expanding-window/runs/nrsssgl9</a><br/> View project at: <a href='https://wandb.ai/dwolffram-karlsruhe-institute-of-technology/realtime-lightgbm-expanding-window' target=\"_blank\">https://wandb.ai/dwolffram-karlsruhe-institute-of-technology/realtime-lightgbm-expanding-window</a><br/>Synced 5 W&B file(s), 0 media file(s), 0 artifact file(s) and 0 other file(s)"
      ],
      "text/plain": [
       "<IPython.core.display.HTML object>"
      ]
     },
     "metadata": {},
     "output_type": "display_data"
    },
    {
     "data": {
      "text/html": [
       "Find logs at: <code>./wandb/run-20241001_185826-nrsssgl9/logs</code>"
      ],
      "text/plain": [
       "<IPython.core.display.HTML object>"
      ]
     },
     "metadata": {},
     "output_type": "display_data"
    },
    {
     "name": "stderr",
     "output_type": "stream",
     "text": [
      "\u001b[34m\u001b[1mwandb\u001b[0m: Agent Starting Run: 0yi0ty5n with config:\n",
      "\u001b[34m\u001b[1mwandb\u001b[0m: \tcolsample_bytree: 1\n",
      "\u001b[34m\u001b[1mwandb\u001b[0m: \tlags: 8\n",
      "\u001b[34m\u001b[1mwandb\u001b[0m: \tlags_future_covariates: [0, 4]\n",
      "\u001b[34m\u001b[1mwandb\u001b[0m: \tlags_past_covariates: 8\n",
      "\u001b[34m\u001b[1mwandb\u001b[0m: \tlearning_rate: 0.05\n",
      "\u001b[34m\u001b[1mwandb\u001b[0m: \tmax_bin: 1024\n",
      "\u001b[34m\u001b[1mwandb\u001b[0m: \tmax_depth: 15\n",
      "\u001b[34m\u001b[1mwandb\u001b[0m: \tmin_child_samples: 30\n",
      "\u001b[34m\u001b[1mwandb\u001b[0m: \tmin_split_gain: 0\n",
      "\u001b[34m\u001b[1mwandb\u001b[0m: \tmodel: lightgbm\n",
      "\u001b[34m\u001b[1mwandb\u001b[0m: \tmultiple_series: False\n",
      "\u001b[34m\u001b[1mwandb\u001b[0m: \tn_estimators: 500\n",
      "\u001b[34m\u001b[1mwandb\u001b[0m: \tnum_leaves: 31\n",
      "\u001b[34m\u001b[1mwandb\u001b[0m: \treg_alpha: 0\n",
      "\u001b[34m\u001b[1mwandb\u001b[0m: \treg_lambda: 0\n",
      "\u001b[34m\u001b[1mwandb\u001b[0m: \tsubsample: 1\n",
      "\u001b[34m\u001b[1mwandb\u001b[0m: \tsubsample_freq: 0\n",
      "\u001b[34m\u001b[1mwandb\u001b[0m: \tuse_covariates: True\n",
      "\u001b[34m\u001b[1mwandb\u001b[0m: \tuse_encoders: True\n",
      "\u001b[34m\u001b[1mwandb\u001b[0m: \tuse_features: False\n",
      "\u001b[34m\u001b[1mwandb\u001b[0m: \tuse_static_covariates: False\n",
      "Failed to detect the name of this notebook, you can set it manually with the WANDB_NOTEBOOK_NAME environment variable to enable code saving.\n"
     ]
    },
    {
     "data": {
      "text/html": [
       "Tracking run with wandb version 0.18.0"
      ],
      "text/plain": [
       "<IPython.core.display.HTML object>"
      ]
     },
     "metadata": {},
     "output_type": "display_data"
    },
    {
     "data": {
      "text/html": [
       "Run data is saved locally in <code>/home/wolffram/SARI-ML/realtime/wandb/run-20241001_190253-0yi0ty5n</code>"
      ],
      "text/plain": [
       "<IPython.core.display.HTML object>"
      ]
     },
     "metadata": {},
     "output_type": "display_data"
    },
    {
     "data": {
      "text/html": [
       "Syncing run <strong><a href='https://wandb.ai/dwolffram-karlsruhe-institute-of-technology/realtime-lightgbm-expanding-window/runs/0yi0ty5n' target=\"_blank\">splendid-sweep-2</a></strong> to <a href='https://wandb.ai/dwolffram-karlsruhe-institute-of-technology/realtime-lightgbm-expanding-window' target=\"_blank\">Weights & Biases</a> (<a href='https://wandb.me/run' target=\"_blank\">docs</a>)<br/>Sweep page: <a href='https://wandb.ai/dwolffram-karlsruhe-institute-of-technology/realtime-lightgbm-expanding-window/sweeps/rbid04k0' target=\"_blank\">https://wandb.ai/dwolffram-karlsruhe-institute-of-technology/realtime-lightgbm-expanding-window/sweeps/rbid04k0</a>"
      ],
      "text/plain": [
       "<IPython.core.display.HTML object>"
      ]
     },
     "metadata": {},
     "output_type": "display_data"
    },
    {
     "data": {
      "text/html": [
       " View project at <a href='https://wandb.ai/dwolffram-karlsruhe-institute-of-technology/realtime-lightgbm-expanding-window' target=\"_blank\">https://wandb.ai/dwolffram-karlsruhe-institute-of-technology/realtime-lightgbm-expanding-window</a>"
      ],
      "text/plain": [
       "<IPython.core.display.HTML object>"
      ]
     },
     "metadata": {},
     "output_type": "display_data"
    },
    {
     "data": {
      "text/html": [
       " View sweep at <a href='https://wandb.ai/dwolffram-karlsruhe-institute-of-technology/realtime-lightgbm-expanding-window/sweeps/rbid04k0' target=\"_blank\">https://wandb.ai/dwolffram-karlsruhe-institute-of-technology/realtime-lightgbm-expanding-window/sweeps/rbid04k0</a>"
      ],
      "text/plain": [
       "<IPython.core.display.HTML object>"
      ]
     },
     "metadata": {},
     "output_type": "display_data"
    },
    {
     "data": {
      "text/html": [
       " View run at <a href='https://wandb.ai/dwolffram-karlsruhe-institute-of-technology/realtime-lightgbm-expanding-window/runs/0yi0ty5n' target=\"_blank\">https://wandb.ai/dwolffram-karlsruhe-institute-of-technology/realtime-lightgbm-expanding-window/runs/0yi0ty5n</a>"
      ],
      "text/plain": [
       "<IPython.core.display.HTML object>"
      ]
     },
     "metadata": {},
     "output_type": "display_data"
    },
    {
     "data": {
      "application/vnd.jupyter.widget-view+json": {
       "model_id": "27afca68e0514f319dd657cce920c4d2",
       "version_major": 2,
       "version_minor": 0
      },
      "text/plain": [
       "VBox(children=(Label(value='0.005 MB of 0.005 MB uploaded\\r'), FloatProgress(value=1.0, max=1.0)))"
      ]
     },
     "metadata": {},
     "output_type": "display_data"
    },
    {
     "data": {
      "text/html": [
       "<style>\n",
       "    table.wandb td:nth-child(1) { padding: 0 10px; text-align: left ; width: auto;} td:nth-child(2) {text-align: left ; width: 100%}\n",
       "    .wandb-row { display: flex; flex-direction: row; flex-wrap: wrap; justify-content: flex-start; width: 100% }\n",
       "    .wandb-col { display: flex; flex-direction: column; flex-basis: 100%; flex: 1; padding: 10px; }\n",
       "    </style>\n",
       "<div class=\"wandb-row\"><div class=\"wandb-col\"><h3>Run history:</h3><br/><table class=\"wandb\"><tr><td>WIS</td><td>▁</td></tr><tr><td>WIS_2018</td><td>▁</td></tr><tr><td>WIS_2019</td><td>▁</td></tr><tr><td>WIS_2022</td><td>▁</td></tr><tr><td>WIS_2023</td><td>▁</td></tr><tr><td>WIS_std</td><td>▁</td></tr></table><br/></div><div class=\"wandb-col\"><h3>Run summary:</h3><br/><table class=\"wandb\"><tr><td>WIS</td><td>335.5173</td></tr><tr><td>WIS_2018</td><td>199.78099</td></tr><tr><td>WIS_2019</td><td>251.66479</td></tr><tr><td>WIS_2022</td><td>476.98517</td></tr><tr><td>WIS_2023</td><td>413.63827</td></tr><tr><td>WIS_std</td><td>113.54694</td></tr></table><br/></div></div>"
      ],
      "text/plain": [
       "<IPython.core.display.HTML object>"
      ]
     },
     "metadata": {},
     "output_type": "display_data"
    },
    {
     "data": {
      "text/html": [
       " View run <strong style=\"color:#cdcd00\">splendid-sweep-2</strong> at: <a href='https://wandb.ai/dwolffram-karlsruhe-institute-of-technology/realtime-lightgbm-expanding-window/runs/0yi0ty5n' target=\"_blank\">https://wandb.ai/dwolffram-karlsruhe-institute-of-technology/realtime-lightgbm-expanding-window/runs/0yi0ty5n</a><br/> View project at: <a href='https://wandb.ai/dwolffram-karlsruhe-institute-of-technology/realtime-lightgbm-expanding-window' target=\"_blank\">https://wandb.ai/dwolffram-karlsruhe-institute-of-technology/realtime-lightgbm-expanding-window</a><br/>Synced 5 W&B file(s), 0 media file(s), 0 artifact file(s) and 0 other file(s)"
      ],
      "text/plain": [
       "<IPython.core.display.HTML object>"
      ]
     },
     "metadata": {},
     "output_type": "display_data"
    },
    {
     "data": {
      "text/html": [
       "Find logs at: <code>./wandb/run-20241001_190253-0yi0ty5n/logs</code>"
      ],
      "text/plain": [
       "<IPython.core.display.HTML object>"
      ]
     },
     "metadata": {},
     "output_type": "display_data"
    },
    {
     "name": "stderr",
     "output_type": "stream",
     "text": [
      "502 response executing GraphQL.\n",
      "\n",
      "<html><head>\n",
      "<meta http-equiv=\"content-type\" content=\"text/html;charset=utf-8\">\n",
      "<title>502 Server Error</title>\n",
      "</head>\n",
      "<body text=#000000 bgcolor=#ffffff>\n",
      "<h1>Error: Server Error</h1>\n",
      "<h2>The server encountered a temporary error and could not complete your request.<p>Please try again in 30 seconds.</h2>\n",
      "<h2></h2>\n",
      "</body></html>\n",
      "\n",
      "\u001b[34m\u001b[1mwandb\u001b[0m: Sweep Agent: Waiting for job.\n",
      "\u001b[34m\u001b[1mwandb\u001b[0m: Job received.\n",
      "\u001b[34m\u001b[1mwandb\u001b[0m: Agent Starting Run: iri3xz6y with config:\n",
      "\u001b[34m\u001b[1mwandb\u001b[0m: \tcolsample_bytree: 1\n",
      "\u001b[34m\u001b[1mwandb\u001b[0m: \tlags: 8\n",
      "\u001b[34m\u001b[1mwandb\u001b[0m: \tlags_future_covariates: [0, 4]\n",
      "\u001b[34m\u001b[1mwandb\u001b[0m: \tlags_past_covariates: 8\n",
      "\u001b[34m\u001b[1mwandb\u001b[0m: \tlearning_rate: 0.005\n",
      "\u001b[34m\u001b[1mwandb\u001b[0m: \tmax_bin: 1024\n",
      "\u001b[34m\u001b[1mwandb\u001b[0m: \tmax_depth: 15\n",
      "\u001b[34m\u001b[1mwandb\u001b[0m: \tmin_child_samples: 30\n",
      "\u001b[34m\u001b[1mwandb\u001b[0m: \tmin_split_gain: 0.1\n",
      "\u001b[34m\u001b[1mwandb\u001b[0m: \tmodel: lightgbm\n",
      "\u001b[34m\u001b[1mwandb\u001b[0m: \tmultiple_series: False\n",
      "\u001b[34m\u001b[1mwandb\u001b[0m: \tn_estimators: 5000\n",
      "\u001b[34m\u001b[1mwandb\u001b[0m: \tnum_leaves: 20\n",
      "\u001b[34m\u001b[1mwandb\u001b[0m: \treg_alpha: 0\n",
      "\u001b[34m\u001b[1mwandb\u001b[0m: \treg_lambda: 0\n",
      "\u001b[34m\u001b[1mwandb\u001b[0m: \tsubsample: 1\n",
      "\u001b[34m\u001b[1mwandb\u001b[0m: \tsubsample_freq: 0\n",
      "\u001b[34m\u001b[1mwandb\u001b[0m: \tuse_covariates: False\n",
      "\u001b[34m\u001b[1mwandb\u001b[0m: \tuse_encoders: True\n",
      "\u001b[34m\u001b[1mwandb\u001b[0m: \tuse_features: False\n",
      "\u001b[34m\u001b[1mwandb\u001b[0m: \tuse_static_covariates: False\n",
      "Failed to detect the name of this notebook, you can set it manually with the WANDB_NOTEBOOK_NAME environment variable to enable code saving.\n"
     ]
    },
    {
     "data": {
      "text/html": [
       "Tracking run with wandb version 0.18.0"
      ],
      "text/plain": [
       "<IPython.core.display.HTML object>"
      ]
     },
     "metadata": {},
     "output_type": "display_data"
    },
    {
     "data": {
      "text/html": [
       "Run data is saved locally in <code>/home/wolffram/SARI-ML/realtime/wandb/run-20241001_190522-iri3xz6y</code>"
      ],
      "text/plain": [
       "<IPython.core.display.HTML object>"
      ]
     },
     "metadata": {},
     "output_type": "display_data"
    },
    {
     "data": {
      "text/html": [
       "Syncing run <strong><a href='https://wandb.ai/dwolffram-karlsruhe-institute-of-technology/realtime-lightgbm-expanding-window/runs/iri3xz6y' target=\"_blank\">jolly-sweep-3</a></strong> to <a href='https://wandb.ai/dwolffram-karlsruhe-institute-of-technology/realtime-lightgbm-expanding-window' target=\"_blank\">Weights & Biases</a> (<a href='https://wandb.me/run' target=\"_blank\">docs</a>)<br/>Sweep page: <a href='https://wandb.ai/dwolffram-karlsruhe-institute-of-technology/realtime-lightgbm-expanding-window/sweeps/rbid04k0' target=\"_blank\">https://wandb.ai/dwolffram-karlsruhe-institute-of-technology/realtime-lightgbm-expanding-window/sweeps/rbid04k0</a>"
      ],
      "text/plain": [
       "<IPython.core.display.HTML object>"
      ]
     },
     "metadata": {},
     "output_type": "display_data"
    },
    {
     "data": {
      "text/html": [
       " View project at <a href='https://wandb.ai/dwolffram-karlsruhe-institute-of-technology/realtime-lightgbm-expanding-window' target=\"_blank\">https://wandb.ai/dwolffram-karlsruhe-institute-of-technology/realtime-lightgbm-expanding-window</a>"
      ],
      "text/plain": [
       "<IPython.core.display.HTML object>"
      ]
     },
     "metadata": {},
     "output_type": "display_data"
    },
    {
     "data": {
      "text/html": [
       " View sweep at <a href='https://wandb.ai/dwolffram-karlsruhe-institute-of-technology/realtime-lightgbm-expanding-window/sweeps/rbid04k0' target=\"_blank\">https://wandb.ai/dwolffram-karlsruhe-institute-of-technology/realtime-lightgbm-expanding-window/sweeps/rbid04k0</a>"
      ],
      "text/plain": [
       "<IPython.core.display.HTML object>"
      ]
     },
     "metadata": {},
     "output_type": "display_data"
    },
    {
     "data": {
      "text/html": [
       " View run at <a href='https://wandb.ai/dwolffram-karlsruhe-institute-of-technology/realtime-lightgbm-expanding-window/runs/iri3xz6y' target=\"_blank\">https://wandb.ai/dwolffram-karlsruhe-institute-of-technology/realtime-lightgbm-expanding-window/runs/iri3xz6y</a>"
      ],
      "text/plain": [
       "<IPython.core.display.HTML object>"
      ]
     },
     "metadata": {},
     "output_type": "display_data"
    },
    {
     "data": {
      "application/vnd.jupyter.widget-view+json": {
       "model_id": "7e40b99b20234ad8ae3a432503efbd76",
       "version_major": 2,
       "version_minor": 0
      },
      "text/plain": [
       "VBox(children=(Label(value='0.005 MB of 0.005 MB uploaded\\r'), FloatProgress(value=1.0, max=1.0)))"
      ]
     },
     "metadata": {},
     "output_type": "display_data"
    },
    {
     "data": {
      "text/html": [
       "<style>\n",
       "    table.wandb td:nth-child(1) { padding: 0 10px; text-align: left ; width: auto;} td:nth-child(2) {text-align: left ; width: 100%}\n",
       "    .wandb-row { display: flex; flex-direction: row; flex-wrap: wrap; justify-content: flex-start; width: 100% }\n",
       "    .wandb-col { display: flex; flex-direction: column; flex-basis: 100%; flex: 1; padding: 10px; }\n",
       "    </style>\n",
       "<div class=\"wandb-row\"><div class=\"wandb-col\"><h3>Run history:</h3><br/><table class=\"wandb\"><tr><td>WIS</td><td>▁</td></tr><tr><td>WIS_2018</td><td>▁</td></tr><tr><td>WIS_2019</td><td>▁</td></tr><tr><td>WIS_2022</td><td>▁</td></tr><tr><td>WIS_2023</td><td>▁</td></tr><tr><td>WIS_std</td><td>▁</td></tr></table><br/></div><div class=\"wandb-col\"><h3>Run summary:</h3><br/><table class=\"wandb\"><tr><td>WIS</td><td>338.67596</td></tr><tr><td>WIS_2018</td><td>222.39245</td></tr><tr><td>WIS_2019</td><td>251.84541</td></tr><tr><td>WIS_2022</td><td>476.83563</td></tr><tr><td>WIS_2023</td><td>403.63036</td></tr><tr><td>WIS_std</td><td>105.31924</td></tr></table><br/></div></div>"
      ],
      "text/plain": [
       "<IPython.core.display.HTML object>"
      ]
     },
     "metadata": {},
     "output_type": "display_data"
    },
    {
     "data": {
      "text/html": [
       " View run <strong style=\"color:#cdcd00\">jolly-sweep-3</strong> at: <a href='https://wandb.ai/dwolffram-karlsruhe-institute-of-technology/realtime-lightgbm-expanding-window/runs/iri3xz6y' target=\"_blank\">https://wandb.ai/dwolffram-karlsruhe-institute-of-technology/realtime-lightgbm-expanding-window/runs/iri3xz6y</a><br/> View project at: <a href='https://wandb.ai/dwolffram-karlsruhe-institute-of-technology/realtime-lightgbm-expanding-window' target=\"_blank\">https://wandb.ai/dwolffram-karlsruhe-institute-of-technology/realtime-lightgbm-expanding-window</a><br/>Synced 5 W&B file(s), 0 media file(s), 0 artifact file(s) and 0 other file(s)"
      ],
      "text/plain": [
       "<IPython.core.display.HTML object>"
      ]
     },
     "metadata": {},
     "output_type": "display_data"
    },
    {
     "data": {
      "text/html": [
       "Find logs at: <code>./wandb/run-20241001_190522-iri3xz6y/logs</code>"
      ],
      "text/plain": [
       "<IPython.core.display.HTML object>"
      ]
     },
     "metadata": {},
     "output_type": "display_data"
    },
    {
     "name": "stderr",
     "output_type": "stream",
     "text": [
      "\u001b[34m\u001b[1mwandb\u001b[0m: Agent Starting Run: o1diwu7d with config:\n",
      "\u001b[34m\u001b[1mwandb\u001b[0m: \tcolsample_bytree: 1\n",
      "\u001b[34m\u001b[1mwandb\u001b[0m: \tlags: 8\n",
      "\u001b[34m\u001b[1mwandb\u001b[0m: \tlags_future_covariates: [0, 4]\n",
      "\u001b[34m\u001b[1mwandb\u001b[0m: \tlags_past_covariates: 8\n",
      "\u001b[34m\u001b[1mwandb\u001b[0m: \tlearning_rate: 0.2\n",
      "\u001b[34m\u001b[1mwandb\u001b[0m: \tmax_bin: 2048\n",
      "\u001b[34m\u001b[1mwandb\u001b[0m: \tmax_depth: 5\n",
      "\u001b[34m\u001b[1mwandb\u001b[0m: \tmin_child_samples: 30\n",
      "\u001b[34m\u001b[1mwandb\u001b[0m: \tmin_split_gain: 0\n",
      "\u001b[34m\u001b[1mwandb\u001b[0m: \tmodel: lightgbm\n",
      "\u001b[34m\u001b[1mwandb\u001b[0m: \tmultiple_series: False\n",
      "\u001b[34m\u001b[1mwandb\u001b[0m: \tn_estimators: 1000\n",
      "\u001b[34m\u001b[1mwandb\u001b[0m: \tnum_leaves: 20\n",
      "\u001b[34m\u001b[1mwandb\u001b[0m: \treg_alpha: 0\n",
      "\u001b[34m\u001b[1mwandb\u001b[0m: \treg_lambda: 0\n",
      "\u001b[34m\u001b[1mwandb\u001b[0m: \tsubsample: 1\n",
      "\u001b[34m\u001b[1mwandb\u001b[0m: \tsubsample_freq: 0\n",
      "\u001b[34m\u001b[1mwandb\u001b[0m: \tuse_covariates: False\n",
      "\u001b[34m\u001b[1mwandb\u001b[0m: \tuse_encoders: False\n",
      "\u001b[34m\u001b[1mwandb\u001b[0m: \tuse_features: False\n",
      "\u001b[34m\u001b[1mwandb\u001b[0m: \tuse_static_covariates: False\n",
      "Failed to detect the name of this notebook, you can set it manually with the WANDB_NOTEBOOK_NAME environment variable to enable code saving.\n"
     ]
    },
    {
     "data": {
      "text/html": [
       "Tracking run with wandb version 0.18.0"
      ],
      "text/plain": [
       "<IPython.core.display.HTML object>"
      ]
     },
     "metadata": {},
     "output_type": "display_data"
    },
    {
     "data": {
      "text/html": [
       "Run data is saved locally in <code>/home/wolffram/SARI-ML/realtime/wandb/run-20241001_191734-o1diwu7d</code>"
      ],
      "text/plain": [
       "<IPython.core.display.HTML object>"
      ]
     },
     "metadata": {},
     "output_type": "display_data"
    },
    {
     "data": {
      "text/html": [
       "Syncing run <strong><a href='https://wandb.ai/dwolffram-karlsruhe-institute-of-technology/realtime-lightgbm-expanding-window/runs/o1diwu7d' target=\"_blank\">expert-sweep-4</a></strong> to <a href='https://wandb.ai/dwolffram-karlsruhe-institute-of-technology/realtime-lightgbm-expanding-window' target=\"_blank\">Weights & Biases</a> (<a href='https://wandb.me/run' target=\"_blank\">docs</a>)<br/>Sweep page: <a href='https://wandb.ai/dwolffram-karlsruhe-institute-of-technology/realtime-lightgbm-expanding-window/sweeps/rbid04k0' target=\"_blank\">https://wandb.ai/dwolffram-karlsruhe-institute-of-technology/realtime-lightgbm-expanding-window/sweeps/rbid04k0</a>"
      ],
      "text/plain": [
       "<IPython.core.display.HTML object>"
      ]
     },
     "metadata": {},
     "output_type": "display_data"
    },
    {
     "data": {
      "text/html": [
       " View project at <a href='https://wandb.ai/dwolffram-karlsruhe-institute-of-technology/realtime-lightgbm-expanding-window' target=\"_blank\">https://wandb.ai/dwolffram-karlsruhe-institute-of-technology/realtime-lightgbm-expanding-window</a>"
      ],
      "text/plain": [
       "<IPython.core.display.HTML object>"
      ]
     },
     "metadata": {},
     "output_type": "display_data"
    },
    {
     "data": {
      "text/html": [
       " View sweep at <a href='https://wandb.ai/dwolffram-karlsruhe-institute-of-technology/realtime-lightgbm-expanding-window/sweeps/rbid04k0' target=\"_blank\">https://wandb.ai/dwolffram-karlsruhe-institute-of-technology/realtime-lightgbm-expanding-window/sweeps/rbid04k0</a>"
      ],
      "text/plain": [
       "<IPython.core.display.HTML object>"
      ]
     },
     "metadata": {},
     "output_type": "display_data"
    },
    {
     "data": {
      "text/html": [
       " View run at <a href='https://wandb.ai/dwolffram-karlsruhe-institute-of-technology/realtime-lightgbm-expanding-window/runs/o1diwu7d' target=\"_blank\">https://wandb.ai/dwolffram-karlsruhe-institute-of-technology/realtime-lightgbm-expanding-window/runs/o1diwu7d</a>"
      ],
      "text/plain": [
       "<IPython.core.display.HTML object>"
      ]
     },
     "metadata": {},
     "output_type": "display_data"
    },
    {
     "data": {
      "application/vnd.jupyter.widget-view+json": {
       "model_id": "204f3c7e7b7048879c825075f7f99c0e",
       "version_major": 2,
       "version_minor": 0
      },
      "text/plain": [
       "VBox(children=(Label(value='0.005 MB of 0.005 MB uploaded\\r'), FloatProgress(value=1.0, max=1.0)))"
      ]
     },
     "metadata": {},
     "output_type": "display_data"
    },
    {
     "data": {
      "text/html": [
       "<style>\n",
       "    table.wandb td:nth-child(1) { padding: 0 10px; text-align: left ; width: auto;} td:nth-child(2) {text-align: left ; width: 100%}\n",
       "    .wandb-row { display: flex; flex-direction: row; flex-wrap: wrap; justify-content: flex-start; width: 100% }\n",
       "    .wandb-col { display: flex; flex-direction: column; flex-basis: 100%; flex: 1; padding: 10px; }\n",
       "    </style>\n",
       "<div class=\"wandb-row\"><div class=\"wandb-col\"><h3>Run history:</h3><br/><table class=\"wandb\"><tr><td>WIS</td><td>▁</td></tr><tr><td>WIS_2018</td><td>▁</td></tr><tr><td>WIS_2019</td><td>▁</td></tr><tr><td>WIS_2022</td><td>▁</td></tr><tr><td>WIS_2023</td><td>▁</td></tr><tr><td>WIS_std</td><td>▁</td></tr></table><br/></div><div class=\"wandb-col\"><h3>Run summary:</h3><br/><table class=\"wandb\"><tr><td>WIS</td><td>364.07474</td></tr><tr><td>WIS_2018</td><td>258.97662</td></tr><tr><td>WIS_2019</td><td>248.97233</td></tr><tr><td>WIS_2022</td><td>519.55422</td></tr><tr><td>WIS_2023</td><td>428.79579</td></tr><tr><td>WIS_std</td><td>114.73541</td></tr></table><br/></div></div>"
      ],
      "text/plain": [
       "<IPython.core.display.HTML object>"
      ]
     },
     "metadata": {},
     "output_type": "display_data"
    },
    {
     "data": {
      "text/html": [
       " View run <strong style=\"color:#cdcd00\">expert-sweep-4</strong> at: <a href='https://wandb.ai/dwolffram-karlsruhe-institute-of-technology/realtime-lightgbm-expanding-window/runs/o1diwu7d' target=\"_blank\">https://wandb.ai/dwolffram-karlsruhe-institute-of-technology/realtime-lightgbm-expanding-window/runs/o1diwu7d</a><br/> View project at: <a href='https://wandb.ai/dwolffram-karlsruhe-institute-of-technology/realtime-lightgbm-expanding-window' target=\"_blank\">https://wandb.ai/dwolffram-karlsruhe-institute-of-technology/realtime-lightgbm-expanding-window</a><br/>Synced 5 W&B file(s), 0 media file(s), 0 artifact file(s) and 0 other file(s)"
      ],
      "text/plain": [
       "<IPython.core.display.HTML object>"
      ]
     },
     "metadata": {},
     "output_type": "display_data"
    },
    {
     "data": {
      "text/html": [
       "Find logs at: <code>./wandb/run-20241001_191734-o1diwu7d/logs</code>"
      ],
      "text/plain": [
       "<IPython.core.display.HTML object>"
      ]
     },
     "metadata": {},
     "output_type": "display_data"
    },
    {
     "name": "stderr",
     "output_type": "stream",
     "text": [
      "\u001b[34m\u001b[1mwandb\u001b[0m: Agent Starting Run: 48mdk3dr with config:\n",
      "\u001b[34m\u001b[1mwandb\u001b[0m: \tcolsample_bytree: 1\n",
      "\u001b[34m\u001b[1mwandb\u001b[0m: \tlags: 8\n",
      "\u001b[34m\u001b[1mwandb\u001b[0m: \tlags_future_covariates: [0, 4]\n",
      "\u001b[34m\u001b[1mwandb\u001b[0m: \tlags_past_covariates: 8\n",
      "\u001b[34m\u001b[1mwandb\u001b[0m: \tlearning_rate: 0.01\n",
      "\u001b[34m\u001b[1mwandb\u001b[0m: \tmax_bin: 2048\n",
      "\u001b[34m\u001b[1mwandb\u001b[0m: \tmax_depth: 15\n",
      "\u001b[34m\u001b[1mwandb\u001b[0m: \tmin_child_samples: 20\n",
      "\u001b[34m\u001b[1mwandb\u001b[0m: \tmin_split_gain: 0.2\n",
      "\u001b[34m\u001b[1mwandb\u001b[0m: \tmodel: lightgbm\n",
      "\u001b[34m\u001b[1mwandb\u001b[0m: \tmultiple_series: False\n",
      "\u001b[34m\u001b[1mwandb\u001b[0m: \tn_estimators: 250\n",
      "\u001b[34m\u001b[1mwandb\u001b[0m: \tnum_leaves: 31\n",
      "\u001b[34m\u001b[1mwandb\u001b[0m: \treg_alpha: 0\n",
      "\u001b[34m\u001b[1mwandb\u001b[0m: \treg_lambda: 0\n",
      "\u001b[34m\u001b[1mwandb\u001b[0m: \tsubsample: 1\n",
      "\u001b[34m\u001b[1mwandb\u001b[0m: \tsubsample_freq: 0\n",
      "\u001b[34m\u001b[1mwandb\u001b[0m: \tuse_covariates: True\n",
      "\u001b[34m\u001b[1mwandb\u001b[0m: \tuse_encoders: True\n",
      "\u001b[34m\u001b[1mwandb\u001b[0m: \tuse_features: False\n",
      "\u001b[34m\u001b[1mwandb\u001b[0m: \tuse_static_covariates: False\n",
      "Failed to detect the name of this notebook, you can set it manually with the WANDB_NOTEBOOK_NAME environment variable to enable code saving.\n"
     ]
    },
    {
     "data": {
      "text/html": [
       "Tracking run with wandb version 0.18.0"
      ],
      "text/plain": [
       "<IPython.core.display.HTML object>"
      ]
     },
     "metadata": {},
     "output_type": "display_data"
    },
    {
     "data": {
      "text/html": [
       "Run data is saved locally in <code>/home/wolffram/SARI-ML/realtime/wandb/run-20241001_192050-48mdk3dr</code>"
      ],
      "text/plain": [
       "<IPython.core.display.HTML object>"
      ]
     },
     "metadata": {},
     "output_type": "display_data"
    },
    {
     "data": {
      "text/html": [
       "Syncing run <strong><a href='https://wandb.ai/dwolffram-karlsruhe-institute-of-technology/realtime-lightgbm-expanding-window/runs/48mdk3dr' target=\"_blank\">fine-sweep-5</a></strong> to <a href='https://wandb.ai/dwolffram-karlsruhe-institute-of-technology/realtime-lightgbm-expanding-window' target=\"_blank\">Weights & Biases</a> (<a href='https://wandb.me/run' target=\"_blank\">docs</a>)<br/>Sweep page: <a href='https://wandb.ai/dwolffram-karlsruhe-institute-of-technology/realtime-lightgbm-expanding-window/sweeps/rbid04k0' target=\"_blank\">https://wandb.ai/dwolffram-karlsruhe-institute-of-technology/realtime-lightgbm-expanding-window/sweeps/rbid04k0</a>"
      ],
      "text/plain": [
       "<IPython.core.display.HTML object>"
      ]
     },
     "metadata": {},
     "output_type": "display_data"
    },
    {
     "data": {
      "text/html": [
       " View project at <a href='https://wandb.ai/dwolffram-karlsruhe-institute-of-technology/realtime-lightgbm-expanding-window' target=\"_blank\">https://wandb.ai/dwolffram-karlsruhe-institute-of-technology/realtime-lightgbm-expanding-window</a>"
      ],
      "text/plain": [
       "<IPython.core.display.HTML object>"
      ]
     },
     "metadata": {},
     "output_type": "display_data"
    },
    {
     "data": {
      "text/html": [
       " View sweep at <a href='https://wandb.ai/dwolffram-karlsruhe-institute-of-technology/realtime-lightgbm-expanding-window/sweeps/rbid04k0' target=\"_blank\">https://wandb.ai/dwolffram-karlsruhe-institute-of-technology/realtime-lightgbm-expanding-window/sweeps/rbid04k0</a>"
      ],
      "text/plain": [
       "<IPython.core.display.HTML object>"
      ]
     },
     "metadata": {},
     "output_type": "display_data"
    },
    {
     "data": {
      "text/html": [
       " View run at <a href='https://wandb.ai/dwolffram-karlsruhe-institute-of-technology/realtime-lightgbm-expanding-window/runs/48mdk3dr' target=\"_blank\">https://wandb.ai/dwolffram-karlsruhe-institute-of-technology/realtime-lightgbm-expanding-window/runs/48mdk3dr</a>"
      ],
      "text/plain": [
       "<IPython.core.display.HTML object>"
      ]
     },
     "metadata": {},
     "output_type": "display_data"
    },
    {
     "data": {
      "application/vnd.jupyter.widget-view+json": {
       "model_id": "8a21ce3f35174e40b2324f8c47551dbd",
       "version_major": 2,
       "version_minor": 0
      },
      "text/plain": [
       "VBox(children=(Label(value='0.005 MB of 0.005 MB uploaded\\r'), FloatProgress(value=1.0, max=1.0)))"
      ]
     },
     "metadata": {},
     "output_type": "display_data"
    },
    {
     "data": {
      "text/html": [
       "<style>\n",
       "    table.wandb td:nth-child(1) { padding: 0 10px; text-align: left ; width: auto;} td:nth-child(2) {text-align: left ; width: 100%}\n",
       "    .wandb-row { display: flex; flex-direction: row; flex-wrap: wrap; justify-content: flex-start; width: 100% }\n",
       "    .wandb-col { display: flex; flex-direction: column; flex-basis: 100%; flex: 1; padding: 10px; }\n",
       "    </style>\n",
       "<div class=\"wandb-row\"><div class=\"wandb-col\"><h3>Run history:</h3><br/><table class=\"wandb\"><tr><td>WIS</td><td>▁</td></tr><tr><td>WIS_2018</td><td>▁</td></tr><tr><td>WIS_2019</td><td>▁</td></tr><tr><td>WIS_2022</td><td>▁</td></tr><tr><td>WIS_2023</td><td>▁</td></tr><tr><td>WIS_std</td><td>▁</td></tr></table><br/></div><div class=\"wandb-col\"><h3>Run summary:</h3><br/><table class=\"wandb\"><tr><td>WIS</td><td>383.41157</td></tr><tr><td>WIS_2018</td><td>261.55946</td></tr><tr><td>WIS_2019</td><td>311.87625</td></tr><tr><td>WIS_2022</td><td>506.6285</td></tr><tr><td>WIS_2023</td><td>453.58206</td></tr><tr><td>WIS_std</td><td>100.08939</td></tr></table><br/></div></div>"
      ],
      "text/plain": [
       "<IPython.core.display.HTML object>"
      ]
     },
     "metadata": {},
     "output_type": "display_data"
    },
    {
     "data": {
      "text/html": [
       " View run <strong style=\"color:#cdcd00\">fine-sweep-5</strong> at: <a href='https://wandb.ai/dwolffram-karlsruhe-institute-of-technology/realtime-lightgbm-expanding-window/runs/48mdk3dr' target=\"_blank\">https://wandb.ai/dwolffram-karlsruhe-institute-of-technology/realtime-lightgbm-expanding-window/runs/48mdk3dr</a><br/> View project at: <a href='https://wandb.ai/dwolffram-karlsruhe-institute-of-technology/realtime-lightgbm-expanding-window' target=\"_blank\">https://wandb.ai/dwolffram-karlsruhe-institute-of-technology/realtime-lightgbm-expanding-window</a><br/>Synced 5 W&B file(s), 0 media file(s), 0 artifact file(s) and 0 other file(s)"
      ],
      "text/plain": [
       "<IPython.core.display.HTML object>"
      ]
     },
     "metadata": {},
     "output_type": "display_data"
    },
    {
     "data": {
      "text/html": [
       "Find logs at: <code>./wandb/run-20241001_192050-48mdk3dr/logs</code>"
      ],
      "text/plain": [
       "<IPython.core.display.HTML object>"
      ]
     },
     "metadata": {},
     "output_type": "display_data"
    },
    {
     "name": "stderr",
     "output_type": "stream",
     "text": [
      "\u001b[34m\u001b[1mwandb\u001b[0m: Agent Starting Run: d7h5p996 with config:\n",
      "\u001b[34m\u001b[1mwandb\u001b[0m: \tcolsample_bytree: 1\n",
      "\u001b[34m\u001b[1mwandb\u001b[0m: \tlags: 8\n",
      "\u001b[34m\u001b[1mwandb\u001b[0m: \tlags_future_covariates: [0, 4]\n",
      "\u001b[34m\u001b[1mwandb\u001b[0m: \tlags_past_covariates: 8\n",
      "\u001b[34m\u001b[1mwandb\u001b[0m: \tlearning_rate: 0.01\n",
      "\u001b[34m\u001b[1mwandb\u001b[0m: \tmax_bin: 1024\n",
      "\u001b[34m\u001b[1mwandb\u001b[0m: \tmax_depth: 5\n",
      "\u001b[34m\u001b[1mwandb\u001b[0m: \tmin_child_samples: 10\n",
      "\u001b[34m\u001b[1mwandb\u001b[0m: \tmin_split_gain: 0.2\n",
      "\u001b[34m\u001b[1mwandb\u001b[0m: \tmodel: lightgbm\n",
      "\u001b[34m\u001b[1mwandb\u001b[0m: \tmultiple_series: False\n",
      "\u001b[34m\u001b[1mwandb\u001b[0m: \tn_estimators: 2000\n",
      "\u001b[34m\u001b[1mwandb\u001b[0m: \tnum_leaves: 50\n",
      "\u001b[34m\u001b[1mwandb\u001b[0m: \treg_alpha: 0\n",
      "\u001b[34m\u001b[1mwandb\u001b[0m: \treg_lambda: 0\n",
      "\u001b[34m\u001b[1mwandb\u001b[0m: \tsubsample: 1\n",
      "\u001b[34m\u001b[1mwandb\u001b[0m: \tsubsample_freq: 0\n",
      "\u001b[34m\u001b[1mwandb\u001b[0m: \tuse_covariates: False\n",
      "\u001b[34m\u001b[1mwandb\u001b[0m: \tuse_encoders: True\n",
      "\u001b[34m\u001b[1mwandb\u001b[0m: \tuse_features: False\n",
      "\u001b[34m\u001b[1mwandb\u001b[0m: \tuse_static_covariates: False\n",
      "Failed to detect the name of this notebook, you can set it manually with the WANDB_NOTEBOOK_NAME environment variable to enable code saving.\n"
     ]
    },
    {
     "data": {
      "text/html": [
       "Tracking run with wandb version 0.18.0"
      ],
      "text/plain": [
       "<IPython.core.display.HTML object>"
      ]
     },
     "metadata": {},
     "output_type": "display_data"
    },
    {
     "data": {
      "text/html": [
       "Run data is saved locally in <code>/home/wolffram/SARI-ML/realtime/wandb/run-20241001_192213-d7h5p996</code>"
      ],
      "text/plain": [
       "<IPython.core.display.HTML object>"
      ]
     },
     "metadata": {},
     "output_type": "display_data"
    },
    {
     "data": {
      "text/html": [
       "Syncing run <strong><a href='https://wandb.ai/dwolffram-karlsruhe-institute-of-technology/realtime-lightgbm-expanding-window/runs/d7h5p996' target=\"_blank\">frosty-sweep-6</a></strong> to <a href='https://wandb.ai/dwolffram-karlsruhe-institute-of-technology/realtime-lightgbm-expanding-window' target=\"_blank\">Weights & Biases</a> (<a href='https://wandb.me/run' target=\"_blank\">docs</a>)<br/>Sweep page: <a href='https://wandb.ai/dwolffram-karlsruhe-institute-of-technology/realtime-lightgbm-expanding-window/sweeps/rbid04k0' target=\"_blank\">https://wandb.ai/dwolffram-karlsruhe-institute-of-technology/realtime-lightgbm-expanding-window/sweeps/rbid04k0</a>"
      ],
      "text/plain": [
       "<IPython.core.display.HTML object>"
      ]
     },
     "metadata": {},
     "output_type": "display_data"
    },
    {
     "data": {
      "text/html": [
       " View project at <a href='https://wandb.ai/dwolffram-karlsruhe-institute-of-technology/realtime-lightgbm-expanding-window' target=\"_blank\">https://wandb.ai/dwolffram-karlsruhe-institute-of-technology/realtime-lightgbm-expanding-window</a>"
      ],
      "text/plain": [
       "<IPython.core.display.HTML object>"
      ]
     },
     "metadata": {},
     "output_type": "display_data"
    },
    {
     "data": {
      "text/html": [
       " View sweep at <a href='https://wandb.ai/dwolffram-karlsruhe-institute-of-technology/realtime-lightgbm-expanding-window/sweeps/rbid04k0' target=\"_blank\">https://wandb.ai/dwolffram-karlsruhe-institute-of-technology/realtime-lightgbm-expanding-window/sweeps/rbid04k0</a>"
      ],
      "text/plain": [
       "<IPython.core.display.HTML object>"
      ]
     },
     "metadata": {},
     "output_type": "display_data"
    },
    {
     "data": {
      "text/html": [
       " View run at <a href='https://wandb.ai/dwolffram-karlsruhe-institute-of-technology/realtime-lightgbm-expanding-window/runs/d7h5p996' target=\"_blank\">https://wandb.ai/dwolffram-karlsruhe-institute-of-technology/realtime-lightgbm-expanding-window/runs/d7h5p996</a>"
      ],
      "text/plain": [
       "<IPython.core.display.HTML object>"
      ]
     },
     "metadata": {},
     "output_type": "display_data"
    },
    {
     "data": {
      "application/vnd.jupyter.widget-view+json": {
       "model_id": "1cc6a2e145d24a7f85decc9a3f906048",
       "version_major": 2,
       "version_minor": 0
      },
      "text/plain": [
       "VBox(children=(Label(value='0.005 MB of 0.005 MB uploaded\\r'), FloatProgress(value=1.0, max=1.0)))"
      ]
     },
     "metadata": {},
     "output_type": "display_data"
    },
    {
     "data": {
      "text/html": [
       "<style>\n",
       "    table.wandb td:nth-child(1) { padding: 0 10px; text-align: left ; width: auto;} td:nth-child(2) {text-align: left ; width: 100%}\n",
       "    .wandb-row { display: flex; flex-direction: row; flex-wrap: wrap; justify-content: flex-start; width: 100% }\n",
       "    .wandb-col { display: flex; flex-direction: column; flex-basis: 100%; flex: 1; padding: 10px; }\n",
       "    </style>\n",
       "<div class=\"wandb-row\"><div class=\"wandb-col\"><h3>Run history:</h3><br/><table class=\"wandb\"><tr><td>WIS</td><td>▁</td></tr><tr><td>WIS_2018</td><td>▁</td></tr><tr><td>WIS_2019</td><td>▁</td></tr><tr><td>WIS_2022</td><td>▁</td></tr><tr><td>WIS_2023</td><td>▁</td></tr><tr><td>WIS_std</td><td>▁</td></tr></table><br/></div><div class=\"wandb-col\"><h3>Run summary:</h3><br/><table class=\"wandb\"><tr><td>WIS</td><td>349.34421</td></tr><tr><td>WIS_2018</td><td>230.01138</td></tr><tr><td>WIS_2019</td><td>277.09726</td></tr><tr><td>WIS_2022</td><td>481.47547</td></tr><tr><td>WIS_2023</td><td>408.79272</td></tr><tr><td>WIS_std</td><td>100.56433</td></tr></table><br/></div></div>"
      ],
      "text/plain": [
       "<IPython.core.display.HTML object>"
      ]
     },
     "metadata": {},
     "output_type": "display_data"
    },
    {
     "data": {
      "text/html": [
       " View run <strong style=\"color:#cdcd00\">frosty-sweep-6</strong> at: <a href='https://wandb.ai/dwolffram-karlsruhe-institute-of-technology/realtime-lightgbm-expanding-window/runs/d7h5p996' target=\"_blank\">https://wandb.ai/dwolffram-karlsruhe-institute-of-technology/realtime-lightgbm-expanding-window/runs/d7h5p996</a><br/> View project at: <a href='https://wandb.ai/dwolffram-karlsruhe-institute-of-technology/realtime-lightgbm-expanding-window' target=\"_blank\">https://wandb.ai/dwolffram-karlsruhe-institute-of-technology/realtime-lightgbm-expanding-window</a><br/>Synced 5 W&B file(s), 0 media file(s), 0 artifact file(s) and 0 other file(s)"
      ],
      "text/plain": [
       "<IPython.core.display.HTML object>"
      ]
     },
     "metadata": {},
     "output_type": "display_data"
    },
    {
     "data": {
      "text/html": [
       "Find logs at: <code>./wandb/run-20241001_192213-d7h5p996/logs</code>"
      ],
      "text/plain": [
       "<IPython.core.display.HTML object>"
      ]
     },
     "metadata": {},
     "output_type": "display_data"
    },
    {
     "name": "stderr",
     "output_type": "stream",
     "text": [
      "\u001b[34m\u001b[1mwandb\u001b[0m: Agent Starting Run: w7lawek4 with config:\n",
      "\u001b[34m\u001b[1mwandb\u001b[0m: \tcolsample_bytree: 1\n",
      "\u001b[34m\u001b[1mwandb\u001b[0m: \tlags: 8\n",
      "\u001b[34m\u001b[1mwandb\u001b[0m: \tlags_future_covariates: [0, 4]\n",
      "\u001b[34m\u001b[1mwandb\u001b[0m: \tlags_past_covariates: 8\n",
      "\u001b[34m\u001b[1mwandb\u001b[0m: \tlearning_rate: 0.1\n",
      "\u001b[34m\u001b[1mwandb\u001b[0m: \tmax_bin: 2048\n",
      "\u001b[34m\u001b[1mwandb\u001b[0m: \tmax_depth: -1\n",
      "\u001b[34m\u001b[1mwandb\u001b[0m: \tmin_child_samples: 30\n",
      "\u001b[34m\u001b[1mwandb\u001b[0m: \tmin_split_gain: 0.1\n",
      "\u001b[34m\u001b[1mwandb\u001b[0m: \tmodel: lightgbm\n",
      "\u001b[34m\u001b[1mwandb\u001b[0m: \tmultiple_series: False\n",
      "\u001b[34m\u001b[1mwandb\u001b[0m: \tn_estimators: 5000\n",
      "\u001b[34m\u001b[1mwandb\u001b[0m: \tnum_leaves: 50\n",
      "\u001b[34m\u001b[1mwandb\u001b[0m: \treg_alpha: 0\n",
      "\u001b[34m\u001b[1mwandb\u001b[0m: \treg_lambda: 0\n",
      "\u001b[34m\u001b[1mwandb\u001b[0m: \tsubsample: 1\n",
      "\u001b[34m\u001b[1mwandb\u001b[0m: \tsubsample_freq: 0\n",
      "\u001b[34m\u001b[1mwandb\u001b[0m: \tuse_covariates: True\n",
      "\u001b[34m\u001b[1mwandb\u001b[0m: \tuse_encoders: False\n",
      "\u001b[34m\u001b[1mwandb\u001b[0m: \tuse_features: False\n",
      "\u001b[34m\u001b[1mwandb\u001b[0m: \tuse_static_covariates: False\n",
      "Failed to detect the name of this notebook, you can set it manually with the WANDB_NOTEBOOK_NAME environment variable to enable code saving.\n"
     ]
    },
    {
     "data": {
      "text/html": [
       "Tracking run with wandb version 0.18.0"
      ],
      "text/plain": [
       "<IPython.core.display.HTML object>"
      ]
     },
     "metadata": {},
     "output_type": "display_data"
    },
    {
     "data": {
      "text/html": [
       "Run data is saved locally in <code>/home/wolffram/SARI-ML/realtime/wandb/run-20241001_192813-w7lawek4</code>"
      ],
      "text/plain": [
       "<IPython.core.display.HTML object>"
      ]
     },
     "metadata": {},
     "output_type": "display_data"
    },
    {
     "data": {
      "text/html": [
       "Syncing run <strong><a href='https://wandb.ai/dwolffram-karlsruhe-institute-of-technology/realtime-lightgbm-expanding-window/runs/w7lawek4' target=\"_blank\">lively-sweep-7</a></strong> to <a href='https://wandb.ai/dwolffram-karlsruhe-institute-of-technology/realtime-lightgbm-expanding-window' target=\"_blank\">Weights & Biases</a> (<a href='https://wandb.me/run' target=\"_blank\">docs</a>)<br/>Sweep page: <a href='https://wandb.ai/dwolffram-karlsruhe-institute-of-technology/realtime-lightgbm-expanding-window/sweeps/rbid04k0' target=\"_blank\">https://wandb.ai/dwolffram-karlsruhe-institute-of-technology/realtime-lightgbm-expanding-window/sweeps/rbid04k0</a>"
      ],
      "text/plain": [
       "<IPython.core.display.HTML object>"
      ]
     },
     "metadata": {},
     "output_type": "display_data"
    },
    {
     "data": {
      "text/html": [
       " View project at <a href='https://wandb.ai/dwolffram-karlsruhe-institute-of-technology/realtime-lightgbm-expanding-window' target=\"_blank\">https://wandb.ai/dwolffram-karlsruhe-institute-of-technology/realtime-lightgbm-expanding-window</a>"
      ],
      "text/plain": [
       "<IPython.core.display.HTML object>"
      ]
     },
     "metadata": {},
     "output_type": "display_data"
    },
    {
     "data": {
      "text/html": [
       " View sweep at <a href='https://wandb.ai/dwolffram-karlsruhe-institute-of-technology/realtime-lightgbm-expanding-window/sweeps/rbid04k0' target=\"_blank\">https://wandb.ai/dwolffram-karlsruhe-institute-of-technology/realtime-lightgbm-expanding-window/sweeps/rbid04k0</a>"
      ],
      "text/plain": [
       "<IPython.core.display.HTML object>"
      ]
     },
     "metadata": {},
     "output_type": "display_data"
    },
    {
     "data": {
      "text/html": [
       " View run at <a href='https://wandb.ai/dwolffram-karlsruhe-institute-of-technology/realtime-lightgbm-expanding-window/runs/w7lawek4' target=\"_blank\">https://wandb.ai/dwolffram-karlsruhe-institute-of-technology/realtime-lightgbm-expanding-window/runs/w7lawek4</a>"
      ],
      "text/plain": [
       "<IPython.core.display.HTML object>"
      ]
     },
     "metadata": {},
     "output_type": "display_data"
    },
    {
     "data": {
      "application/vnd.jupyter.widget-view+json": {
       "model_id": "9965de7a6d154e3ca3bfd97cb7a043d8",
       "version_major": 2,
       "version_minor": 0
      },
      "text/plain": [
       "VBox(children=(Label(value='0.005 MB of 0.005 MB uploaded\\r'), FloatProgress(value=1.0, max=1.0)))"
      ]
     },
     "metadata": {},
     "output_type": "display_data"
    },
    {
     "data": {
      "text/html": [
       "<style>\n",
       "    table.wandb td:nth-child(1) { padding: 0 10px; text-align: left ; width: auto;} td:nth-child(2) {text-align: left ; width: 100%}\n",
       "    .wandb-row { display: flex; flex-direction: row; flex-wrap: wrap; justify-content: flex-start; width: 100% }\n",
       "    .wandb-col { display: flex; flex-direction: column; flex-basis: 100%; flex: 1; padding: 10px; }\n",
       "    </style>\n",
       "<div class=\"wandb-row\"><div class=\"wandb-col\"><h3>Run history:</h3><br/><table class=\"wandb\"><tr><td>WIS</td><td>▁</td></tr><tr><td>WIS_2018</td><td>▁</td></tr><tr><td>WIS_2019</td><td>▁</td></tr><tr><td>WIS_2022</td><td>▁</td></tr><tr><td>WIS_2023</td><td>▁</td></tr><tr><td>WIS_std</td><td>▁</td></tr></table><br/></div><div class=\"wandb-col\"><h3>Run summary:</h3><br/><table class=\"wandb\"><tr><td>WIS</td><td>346.44295</td></tr><tr><td>WIS_2018</td><td>231.11936</td></tr><tr><td>WIS_2019</td><td>274.63151</td></tr><tr><td>WIS_2022</td><td>473.3822</td></tr><tr><td>WIS_2023</td><td>406.63871</td></tr><tr><td>WIS_std</td><td>97.71581</td></tr></table><br/></div></div>"
      ],
      "text/plain": [
       "<IPython.core.display.HTML object>"
      ]
     },
     "metadata": {},
     "output_type": "display_data"
    },
    {
     "data": {
      "text/html": [
       " View run <strong style=\"color:#cdcd00\">lively-sweep-7</strong> at: <a href='https://wandb.ai/dwolffram-karlsruhe-institute-of-technology/realtime-lightgbm-expanding-window/runs/w7lawek4' target=\"_blank\">https://wandb.ai/dwolffram-karlsruhe-institute-of-technology/realtime-lightgbm-expanding-window/runs/w7lawek4</a><br/> View project at: <a href='https://wandb.ai/dwolffram-karlsruhe-institute-of-technology/realtime-lightgbm-expanding-window' target=\"_blank\">https://wandb.ai/dwolffram-karlsruhe-institute-of-technology/realtime-lightgbm-expanding-window</a><br/>Synced 5 W&B file(s), 0 media file(s), 0 artifact file(s) and 0 other file(s)"
      ],
      "text/plain": [
       "<IPython.core.display.HTML object>"
      ]
     },
     "metadata": {},
     "output_type": "display_data"
    },
    {
     "data": {
      "text/html": [
       "Find logs at: <code>./wandb/run-20241001_192813-w7lawek4/logs</code>"
      ],
      "text/plain": [
       "<IPython.core.display.HTML object>"
      ]
     },
     "metadata": {},
     "output_type": "display_data"
    },
    {
     "name": "stderr",
     "output_type": "stream",
     "text": [
      "\u001b[34m\u001b[1mwandb\u001b[0m: Agent Starting Run: 8hb1rdh5 with config:\n",
      "\u001b[34m\u001b[1mwandb\u001b[0m: \tcolsample_bytree: 1\n",
      "\u001b[34m\u001b[1mwandb\u001b[0m: \tlags: 8\n",
      "\u001b[34m\u001b[1mwandb\u001b[0m: \tlags_future_covariates: [0, 4]\n",
      "\u001b[34m\u001b[1mwandb\u001b[0m: \tlags_past_covariates: 8\n",
      "\u001b[34m\u001b[1mwandb\u001b[0m: \tlearning_rate: 0.005\n",
      "\u001b[34m\u001b[1mwandb\u001b[0m: \tmax_bin: 1024\n",
      "\u001b[34m\u001b[1mwandb\u001b[0m: \tmax_depth: -1\n",
      "\u001b[34m\u001b[1mwandb\u001b[0m: \tmin_child_samples: 30\n",
      "\u001b[34m\u001b[1mwandb\u001b[0m: \tmin_split_gain: 0.2\n",
      "\u001b[34m\u001b[1mwandb\u001b[0m: \tmodel: lightgbm\n",
      "\u001b[34m\u001b[1mwandb\u001b[0m: \tmultiple_series: False\n",
      "\u001b[34m\u001b[1mwandb\u001b[0m: \tn_estimators: 1000\n",
      "\u001b[34m\u001b[1mwandb\u001b[0m: \tnum_leaves: 31\n",
      "\u001b[34m\u001b[1mwandb\u001b[0m: \treg_alpha: 0\n",
      "\u001b[34m\u001b[1mwandb\u001b[0m: \treg_lambda: 0\n",
      "\u001b[34m\u001b[1mwandb\u001b[0m: \tsubsample: 1\n",
      "\u001b[34m\u001b[1mwandb\u001b[0m: \tsubsample_freq: 0\n",
      "\u001b[34m\u001b[1mwandb\u001b[0m: \tuse_covariates: True\n",
      "\u001b[34m\u001b[1mwandb\u001b[0m: \tuse_encoders: True\n",
      "\u001b[34m\u001b[1mwandb\u001b[0m: \tuse_features: False\n",
      "\u001b[34m\u001b[1mwandb\u001b[0m: \tuse_static_covariates: False\n",
      "Failed to detect the name of this notebook, you can set it manually with the WANDB_NOTEBOOK_NAME environment variable to enable code saving.\n"
     ]
    },
    {
     "data": {
      "text/html": [
       "Tracking run with wandb version 0.18.0"
      ],
      "text/plain": [
       "<IPython.core.display.HTML object>"
      ]
     },
     "metadata": {},
     "output_type": "display_data"
    },
    {
     "data": {
      "text/html": [
       "Run data is saved locally in <code>/home/wolffram/SARI-ML/realtime/wandb/run-20241001_194110-8hb1rdh5</code>"
      ],
      "text/plain": [
       "<IPython.core.display.HTML object>"
      ]
     },
     "metadata": {},
     "output_type": "display_data"
    },
    {
     "data": {
      "text/html": [
       "Syncing run <strong><a href='https://wandb.ai/dwolffram-karlsruhe-institute-of-technology/realtime-lightgbm-expanding-window/runs/8hb1rdh5' target=\"_blank\">fallen-sweep-8</a></strong> to <a href='https://wandb.ai/dwolffram-karlsruhe-institute-of-technology/realtime-lightgbm-expanding-window' target=\"_blank\">Weights & Biases</a> (<a href='https://wandb.me/run' target=\"_blank\">docs</a>)<br/>Sweep page: <a href='https://wandb.ai/dwolffram-karlsruhe-institute-of-technology/realtime-lightgbm-expanding-window/sweeps/rbid04k0' target=\"_blank\">https://wandb.ai/dwolffram-karlsruhe-institute-of-technology/realtime-lightgbm-expanding-window/sweeps/rbid04k0</a>"
      ],
      "text/plain": [
       "<IPython.core.display.HTML object>"
      ]
     },
     "metadata": {},
     "output_type": "display_data"
    },
    {
     "data": {
      "text/html": [
       " View project at <a href='https://wandb.ai/dwolffram-karlsruhe-institute-of-technology/realtime-lightgbm-expanding-window' target=\"_blank\">https://wandb.ai/dwolffram-karlsruhe-institute-of-technology/realtime-lightgbm-expanding-window</a>"
      ],
      "text/plain": [
       "<IPython.core.display.HTML object>"
      ]
     },
     "metadata": {},
     "output_type": "display_data"
    },
    {
     "data": {
      "text/html": [
       " View sweep at <a href='https://wandb.ai/dwolffram-karlsruhe-institute-of-technology/realtime-lightgbm-expanding-window/sweeps/rbid04k0' target=\"_blank\">https://wandb.ai/dwolffram-karlsruhe-institute-of-technology/realtime-lightgbm-expanding-window/sweeps/rbid04k0</a>"
      ],
      "text/plain": [
       "<IPython.core.display.HTML object>"
      ]
     },
     "metadata": {},
     "output_type": "display_data"
    },
    {
     "data": {
      "text/html": [
       " View run at <a href='https://wandb.ai/dwolffram-karlsruhe-institute-of-technology/realtime-lightgbm-expanding-window/runs/8hb1rdh5' target=\"_blank\">https://wandb.ai/dwolffram-karlsruhe-institute-of-technology/realtime-lightgbm-expanding-window/runs/8hb1rdh5</a>"
      ],
      "text/plain": [
       "<IPython.core.display.HTML object>"
      ]
     },
     "metadata": {},
     "output_type": "display_data"
    },
    {
     "data": {
      "application/vnd.jupyter.widget-view+json": {
       "model_id": "96b0083db6774b3da2f5ded91174f78b",
       "version_major": 2,
       "version_minor": 0
      },
      "text/plain": [
       "VBox(children=(Label(value='0.005 MB of 0.005 MB uploaded\\r'), FloatProgress(value=1.0, max=1.0)))"
      ]
     },
     "metadata": {},
     "output_type": "display_data"
    },
    {
     "data": {
      "text/html": [
       "<style>\n",
       "    table.wandb td:nth-child(1) { padding: 0 10px; text-align: left ; width: auto;} td:nth-child(2) {text-align: left ; width: 100%}\n",
       "    .wandb-row { display: flex; flex-direction: row; flex-wrap: wrap; justify-content: flex-start; width: 100% }\n",
       "    .wandb-col { display: flex; flex-direction: column; flex-basis: 100%; flex: 1; padding: 10px; }\n",
       "    </style>\n",
       "<div class=\"wandb-row\"><div class=\"wandb-col\"><h3>Run history:</h3><br/><table class=\"wandb\"><tr><td>WIS</td><td>▁</td></tr><tr><td>WIS_2018</td><td>▁</td></tr><tr><td>WIS_2019</td><td>▁</td></tr><tr><td>WIS_2022</td><td>▁</td></tr><tr><td>WIS_2023</td><td>▁</td></tr><tr><td>WIS_std</td><td>▁</td></tr></table><br/></div><div class=\"wandb-col\"><h3>Run summary:</h3><br/><table class=\"wandb\"><tr><td>WIS</td><td>352.08999</td></tr><tr><td>WIS_2018</td><td>231.30507</td></tr><tr><td>WIS_2019</td><td>277.61599</td></tr><tr><td>WIS_2022</td><td>480.98296</td></tr><tr><td>WIS_2023</td><td>418.45594</td></tr><tr><td>WIS_std</td><td>101.43127</td></tr></table><br/></div></div>"
      ],
      "text/plain": [
       "<IPython.core.display.HTML object>"
      ]
     },
     "metadata": {},
     "output_type": "display_data"
    },
    {
     "data": {
      "text/html": [
       " View run <strong style=\"color:#cdcd00\">fallen-sweep-8</strong> at: <a href='https://wandb.ai/dwolffram-karlsruhe-institute-of-technology/realtime-lightgbm-expanding-window/runs/8hb1rdh5' target=\"_blank\">https://wandb.ai/dwolffram-karlsruhe-institute-of-technology/realtime-lightgbm-expanding-window/runs/8hb1rdh5</a><br/> View project at: <a href='https://wandb.ai/dwolffram-karlsruhe-institute-of-technology/realtime-lightgbm-expanding-window' target=\"_blank\">https://wandb.ai/dwolffram-karlsruhe-institute-of-technology/realtime-lightgbm-expanding-window</a><br/>Synced 5 W&B file(s), 0 media file(s), 0 artifact file(s) and 0 other file(s)"
      ],
      "text/plain": [
       "<IPython.core.display.HTML object>"
      ]
     },
     "metadata": {},
     "output_type": "display_data"
    },
    {
     "data": {
      "text/html": [
       "Find logs at: <code>./wandb/run-20241001_194110-8hb1rdh5/logs</code>"
      ],
      "text/plain": [
       "<IPython.core.display.HTML object>"
      ]
     },
     "metadata": {},
     "output_type": "display_data"
    },
    {
     "name": "stderr",
     "output_type": "stream",
     "text": [
      "\u001b[34m\u001b[1mwandb\u001b[0m: Agent Starting Run: 5jpyjmuj with config:\n",
      "\u001b[34m\u001b[1mwandb\u001b[0m: \tcolsample_bytree: 1\n",
      "\u001b[34m\u001b[1mwandb\u001b[0m: \tlags: 8\n",
      "\u001b[34m\u001b[1mwandb\u001b[0m: \tlags_future_covariates: [0, 4]\n",
      "\u001b[34m\u001b[1mwandb\u001b[0m: \tlags_past_covariates: 8\n",
      "\u001b[34m\u001b[1mwandb\u001b[0m: \tlearning_rate: 0.05\n",
      "\u001b[34m\u001b[1mwandb\u001b[0m: \tmax_bin: 2048\n",
      "\u001b[34m\u001b[1mwandb\u001b[0m: \tmax_depth: 15\n",
      "\u001b[34m\u001b[1mwandb\u001b[0m: \tmin_child_samples: 30\n",
      "\u001b[34m\u001b[1mwandb\u001b[0m: \tmin_split_gain: 0\n",
      "\u001b[34m\u001b[1mwandb\u001b[0m: \tmodel: lightgbm\n",
      "\u001b[34m\u001b[1mwandb\u001b[0m: \tmultiple_series: False\n",
      "\u001b[34m\u001b[1mwandb\u001b[0m: \tn_estimators: 5000\n",
      "\u001b[34m\u001b[1mwandb\u001b[0m: \tnum_leaves: 20\n",
      "\u001b[34m\u001b[1mwandb\u001b[0m: \treg_alpha: 0\n",
      "\u001b[34m\u001b[1mwandb\u001b[0m: \treg_lambda: 0\n",
      "\u001b[34m\u001b[1mwandb\u001b[0m: \tsubsample: 1\n",
      "\u001b[34m\u001b[1mwandb\u001b[0m: \tsubsample_freq: 0\n",
      "\u001b[34m\u001b[1mwandb\u001b[0m: \tuse_covariates: False\n",
      "\u001b[34m\u001b[1mwandb\u001b[0m: \tuse_encoders: False\n",
      "\u001b[34m\u001b[1mwandb\u001b[0m: \tuse_features: False\n",
      "\u001b[34m\u001b[1mwandb\u001b[0m: \tuse_static_covariates: False\n",
      "Failed to detect the name of this notebook, you can set it manually with the WANDB_NOTEBOOK_NAME environment variable to enable code saving.\n"
     ]
    },
    {
     "data": {
      "text/html": [
       "Tracking run with wandb version 0.18.0"
      ],
      "text/plain": [
       "<IPython.core.display.HTML object>"
      ]
     },
     "metadata": {},
     "output_type": "display_data"
    },
    {
     "data": {
      "text/html": [
       "Run data is saved locally in <code>/home/wolffram/SARI-ML/realtime/wandb/run-20241001_194412-5jpyjmuj</code>"
      ],
      "text/plain": [
       "<IPython.core.display.HTML object>"
      ]
     },
     "metadata": {},
     "output_type": "display_data"
    },
    {
     "data": {
      "text/html": [
       "Syncing run <strong><a href='https://wandb.ai/dwolffram-karlsruhe-institute-of-technology/realtime-lightgbm-expanding-window/runs/5jpyjmuj' target=\"_blank\">sparkling-sweep-9</a></strong> to <a href='https://wandb.ai/dwolffram-karlsruhe-institute-of-technology/realtime-lightgbm-expanding-window' target=\"_blank\">Weights & Biases</a> (<a href='https://wandb.me/run' target=\"_blank\">docs</a>)<br/>Sweep page: <a href='https://wandb.ai/dwolffram-karlsruhe-institute-of-technology/realtime-lightgbm-expanding-window/sweeps/rbid04k0' target=\"_blank\">https://wandb.ai/dwolffram-karlsruhe-institute-of-technology/realtime-lightgbm-expanding-window/sweeps/rbid04k0</a>"
      ],
      "text/plain": [
       "<IPython.core.display.HTML object>"
      ]
     },
     "metadata": {},
     "output_type": "display_data"
    },
    {
     "data": {
      "text/html": [
       " View project at <a href='https://wandb.ai/dwolffram-karlsruhe-institute-of-technology/realtime-lightgbm-expanding-window' target=\"_blank\">https://wandb.ai/dwolffram-karlsruhe-institute-of-technology/realtime-lightgbm-expanding-window</a>"
      ],
      "text/plain": [
       "<IPython.core.display.HTML object>"
      ]
     },
     "metadata": {},
     "output_type": "display_data"
    },
    {
     "data": {
      "text/html": [
       " View sweep at <a href='https://wandb.ai/dwolffram-karlsruhe-institute-of-technology/realtime-lightgbm-expanding-window/sweeps/rbid04k0' target=\"_blank\">https://wandb.ai/dwolffram-karlsruhe-institute-of-technology/realtime-lightgbm-expanding-window/sweeps/rbid04k0</a>"
      ],
      "text/plain": [
       "<IPython.core.display.HTML object>"
      ]
     },
     "metadata": {},
     "output_type": "display_data"
    },
    {
     "data": {
      "text/html": [
       " View run at <a href='https://wandb.ai/dwolffram-karlsruhe-institute-of-technology/realtime-lightgbm-expanding-window/runs/5jpyjmuj' target=\"_blank\">https://wandb.ai/dwolffram-karlsruhe-institute-of-technology/realtime-lightgbm-expanding-window/runs/5jpyjmuj</a>"
      ],
      "text/plain": [
       "<IPython.core.display.HTML object>"
      ]
     },
     "metadata": {},
     "output_type": "display_data"
    },
    {
     "data": {
      "application/vnd.jupyter.widget-view+json": {
       "model_id": "1e5e38bbd7aa45978048cbe540d5bf14",
       "version_major": 2,
       "version_minor": 0
      },
      "text/plain": [
       "VBox(children=(Label(value='0.005 MB of 0.005 MB uploaded\\r'), FloatProgress(value=1.0, max=1.0)))"
      ]
     },
     "metadata": {},
     "output_type": "display_data"
    },
    {
     "data": {
      "text/html": [
       "<style>\n",
       "    table.wandb td:nth-child(1) { padding: 0 10px; text-align: left ; width: auto;} td:nth-child(2) {text-align: left ; width: 100%}\n",
       "    .wandb-row { display: flex; flex-direction: row; flex-wrap: wrap; justify-content: flex-start; width: 100% }\n",
       "    .wandb-col { display: flex; flex-direction: column; flex-basis: 100%; flex: 1; padding: 10px; }\n",
       "    </style>\n",
       "<div class=\"wandb-row\"><div class=\"wandb-col\"><h3>Run history:</h3><br/><table class=\"wandb\"><tr><td>WIS</td><td>▁</td></tr><tr><td>WIS_2018</td><td>▁</td></tr><tr><td>WIS_2019</td><td>▁</td></tr><tr><td>WIS_2022</td><td>▁</td></tr><tr><td>WIS_2023</td><td>▁</td></tr><tr><td>WIS_std</td><td>▁</td></tr></table><br/></div><div class=\"wandb-col\"><h3>Run summary:</h3><br/><table class=\"wandb\"><tr><td>WIS</td><td>360.59617</td></tr><tr><td>WIS_2018</td><td>254.51862</td></tr><tr><td>WIS_2019</td><td>254.27265</td></tr><tr><td>WIS_2022</td><td>514.41947</td></tr><tr><td>WIS_2023</td><td>419.17393</td></tr><tr><td>WIS_std</td><td>111.41151</td></tr></table><br/></div></div>"
      ],
      "text/plain": [
       "<IPython.core.display.HTML object>"
      ]
     },
     "metadata": {},
     "output_type": "display_data"
    },
    {
     "data": {
      "text/html": [
       " View run <strong style=\"color:#cdcd00\">sparkling-sweep-9</strong> at: <a href='https://wandb.ai/dwolffram-karlsruhe-institute-of-technology/realtime-lightgbm-expanding-window/runs/5jpyjmuj' target=\"_blank\">https://wandb.ai/dwolffram-karlsruhe-institute-of-technology/realtime-lightgbm-expanding-window/runs/5jpyjmuj</a><br/> View project at: <a href='https://wandb.ai/dwolffram-karlsruhe-institute-of-technology/realtime-lightgbm-expanding-window' target=\"_blank\">https://wandb.ai/dwolffram-karlsruhe-institute-of-technology/realtime-lightgbm-expanding-window</a><br/>Synced 5 W&B file(s), 0 media file(s), 0 artifact file(s) and 0 other file(s)"
      ],
      "text/plain": [
       "<IPython.core.display.HTML object>"
      ]
     },
     "metadata": {},
     "output_type": "display_data"
    },
    {
     "data": {
      "text/html": [
       "Find logs at: <code>./wandb/run-20241001_194412-5jpyjmuj/logs</code>"
      ],
      "text/plain": [
       "<IPython.core.display.HTML object>"
      ]
     },
     "metadata": {},
     "output_type": "display_data"
    },
    {
     "name": "stderr",
     "output_type": "stream",
     "text": [
      "\u001b[34m\u001b[1mwandb\u001b[0m: Agent Starting Run: okb68u06 with config:\n",
      "\u001b[34m\u001b[1mwandb\u001b[0m: \tcolsample_bytree: 1\n",
      "\u001b[34m\u001b[1mwandb\u001b[0m: \tlags: 8\n",
      "\u001b[34m\u001b[1mwandb\u001b[0m: \tlags_future_covariates: [0, 4]\n",
      "\u001b[34m\u001b[1mwandb\u001b[0m: \tlags_past_covariates: 8\n",
      "\u001b[34m\u001b[1mwandb\u001b[0m: \tlearning_rate: 0.05\n",
      "\u001b[34m\u001b[1mwandb\u001b[0m: \tmax_bin: 510\n",
      "\u001b[34m\u001b[1mwandb\u001b[0m: \tmax_depth: 15\n",
      "\u001b[34m\u001b[1mwandb\u001b[0m: \tmin_child_samples: 20\n",
      "\u001b[34m\u001b[1mwandb\u001b[0m: \tmin_split_gain: 0.2\n",
      "\u001b[34m\u001b[1mwandb\u001b[0m: \tmodel: lightgbm\n",
      "\u001b[34m\u001b[1mwandb\u001b[0m: \tmultiple_series: False\n",
      "\u001b[34m\u001b[1mwandb\u001b[0m: \tn_estimators: 1000\n",
      "\u001b[34m\u001b[1mwandb\u001b[0m: \tnum_leaves: 10\n",
      "\u001b[34m\u001b[1mwandb\u001b[0m: \treg_alpha: 0\n",
      "\u001b[34m\u001b[1mwandb\u001b[0m: \treg_lambda: 0\n",
      "\u001b[34m\u001b[1mwandb\u001b[0m: \tsubsample: 1\n",
      "\u001b[34m\u001b[1mwandb\u001b[0m: \tsubsample_freq: 0\n",
      "\u001b[34m\u001b[1mwandb\u001b[0m: \tuse_covariates: False\n",
      "\u001b[34m\u001b[1mwandb\u001b[0m: \tuse_encoders: True\n",
      "\u001b[34m\u001b[1mwandb\u001b[0m: \tuse_features: False\n",
      "\u001b[34m\u001b[1mwandb\u001b[0m: \tuse_static_covariates: False\n",
      "Failed to detect the name of this notebook, you can set it manually with the WANDB_NOTEBOOK_NAME environment variable to enable code saving.\n"
     ]
    },
    {
     "data": {
      "text/html": [
       "Tracking run with wandb version 0.18.0"
      ],
      "text/plain": [
       "<IPython.core.display.HTML object>"
      ]
     },
     "metadata": {},
     "output_type": "display_data"
    },
    {
     "data": {
      "text/html": [
       "Run data is saved locally in <code>/home/wolffram/SARI-ML/realtime/wandb/run-20241001_195942-okb68u06</code>"
      ],
      "text/plain": [
       "<IPython.core.display.HTML object>"
      ]
     },
     "metadata": {},
     "output_type": "display_data"
    },
    {
     "data": {
      "text/html": [
       "Syncing run <strong><a href='https://wandb.ai/dwolffram-karlsruhe-institute-of-technology/realtime-lightgbm-expanding-window/runs/okb68u06' target=\"_blank\">woven-sweep-10</a></strong> to <a href='https://wandb.ai/dwolffram-karlsruhe-institute-of-technology/realtime-lightgbm-expanding-window' target=\"_blank\">Weights & Biases</a> (<a href='https://wandb.me/run' target=\"_blank\">docs</a>)<br/>Sweep page: <a href='https://wandb.ai/dwolffram-karlsruhe-institute-of-technology/realtime-lightgbm-expanding-window/sweeps/rbid04k0' target=\"_blank\">https://wandb.ai/dwolffram-karlsruhe-institute-of-technology/realtime-lightgbm-expanding-window/sweeps/rbid04k0</a>"
      ],
      "text/plain": [
       "<IPython.core.display.HTML object>"
      ]
     },
     "metadata": {},
     "output_type": "display_data"
    },
    {
     "data": {
      "text/html": [
       " View project at <a href='https://wandb.ai/dwolffram-karlsruhe-institute-of-technology/realtime-lightgbm-expanding-window' target=\"_blank\">https://wandb.ai/dwolffram-karlsruhe-institute-of-technology/realtime-lightgbm-expanding-window</a>"
      ],
      "text/plain": [
       "<IPython.core.display.HTML object>"
      ]
     },
     "metadata": {},
     "output_type": "display_data"
    },
    {
     "data": {
      "text/html": [
       " View sweep at <a href='https://wandb.ai/dwolffram-karlsruhe-institute-of-technology/realtime-lightgbm-expanding-window/sweeps/rbid04k0' target=\"_blank\">https://wandb.ai/dwolffram-karlsruhe-institute-of-technology/realtime-lightgbm-expanding-window/sweeps/rbid04k0</a>"
      ],
      "text/plain": [
       "<IPython.core.display.HTML object>"
      ]
     },
     "metadata": {},
     "output_type": "display_data"
    },
    {
     "data": {
      "text/html": [
       " View run at <a href='https://wandb.ai/dwolffram-karlsruhe-institute-of-technology/realtime-lightgbm-expanding-window/runs/okb68u06' target=\"_blank\">https://wandb.ai/dwolffram-karlsruhe-institute-of-technology/realtime-lightgbm-expanding-window/runs/okb68u06</a>"
      ],
      "text/plain": [
       "<IPython.core.display.HTML object>"
      ]
     },
     "metadata": {},
     "output_type": "display_data"
    },
    {
     "data": {
      "application/vnd.jupyter.widget-view+json": {
       "model_id": "aaa1e56094b14e0c8fcbde7aa6e96d7b",
       "version_major": 2,
       "version_minor": 0
      },
      "text/plain": [
       "VBox(children=(Label(value='0.005 MB of 0.005 MB uploaded\\r'), FloatProgress(value=1.0, max=1.0)))"
      ]
     },
     "metadata": {},
     "output_type": "display_data"
    },
    {
     "data": {
      "text/html": [
       "<style>\n",
       "    table.wandb td:nth-child(1) { padding: 0 10px; text-align: left ; width: auto;} td:nth-child(2) {text-align: left ; width: 100%}\n",
       "    .wandb-row { display: flex; flex-direction: row; flex-wrap: wrap; justify-content: flex-start; width: 100% }\n",
       "    .wandb-col { display: flex; flex-direction: column; flex-basis: 100%; flex: 1; padding: 10px; }\n",
       "    </style>\n",
       "<div class=\"wandb-row\"><div class=\"wandb-col\"><h3>Run history:</h3><br/><table class=\"wandb\"><tr><td>WIS</td><td>▁</td></tr><tr><td>WIS_2018</td><td>▁</td></tr><tr><td>WIS_2019</td><td>▁</td></tr><tr><td>WIS_2022</td><td>▁</td></tr><tr><td>WIS_2023</td><td>▁</td></tr><tr><td>WIS_std</td><td>▁</td></tr></table><br/></div><div class=\"wandb-col\"><h3>Run summary:</h3><br/><table class=\"wandb\"><tr><td>WIS</td><td>348.87587</td></tr><tr><td>WIS_2018</td><td>233.27701</td></tr><tr><td>WIS_2019</td><td>272.00955</td></tr><tr><td>WIS_2022</td><td>483.23203</td></tr><tr><td>WIS_2023</td><td>406.9849</td></tr><tr><td>WIS_std</td><td>100.87091</td></tr></table><br/></div></div>"
      ],
      "text/plain": [
       "<IPython.core.display.HTML object>"
      ]
     },
     "metadata": {},
     "output_type": "display_data"
    },
    {
     "data": {
      "text/html": [
       " View run <strong style=\"color:#cdcd00\">woven-sweep-10</strong> at: <a href='https://wandb.ai/dwolffram-karlsruhe-institute-of-technology/realtime-lightgbm-expanding-window/runs/okb68u06' target=\"_blank\">https://wandb.ai/dwolffram-karlsruhe-institute-of-technology/realtime-lightgbm-expanding-window/runs/okb68u06</a><br/> View project at: <a href='https://wandb.ai/dwolffram-karlsruhe-institute-of-technology/realtime-lightgbm-expanding-window' target=\"_blank\">https://wandb.ai/dwolffram-karlsruhe-institute-of-technology/realtime-lightgbm-expanding-window</a><br/>Synced 5 W&B file(s), 0 media file(s), 0 artifact file(s) and 0 other file(s)"
      ],
      "text/plain": [
       "<IPython.core.display.HTML object>"
      ]
     },
     "metadata": {},
     "output_type": "display_data"
    },
    {
     "data": {
      "text/html": [
       "Find logs at: <code>./wandb/run-20241001_195942-okb68u06/logs</code>"
      ],
      "text/plain": [
       "<IPython.core.display.HTML object>"
      ]
     },
     "metadata": {},
     "output_type": "display_data"
    },
    {
     "name": "stderr",
     "output_type": "stream",
     "text": [
      "\u001b[34m\u001b[1mwandb\u001b[0m: Agent Starting Run: jwky2dhq with config:\n",
      "\u001b[34m\u001b[1mwandb\u001b[0m: \tcolsample_bytree: 1\n",
      "\u001b[34m\u001b[1mwandb\u001b[0m: \tlags: 8\n",
      "\u001b[34m\u001b[1mwandb\u001b[0m: \tlags_future_covariates: [0, 4]\n",
      "\u001b[34m\u001b[1mwandb\u001b[0m: \tlags_past_covariates: 8\n",
      "\u001b[34m\u001b[1mwandb\u001b[0m: \tlearning_rate: 0.05\n",
      "\u001b[34m\u001b[1mwandb\u001b[0m: \tmax_bin: 2048\n",
      "\u001b[34m\u001b[1mwandb\u001b[0m: \tmax_depth: 15\n",
      "\u001b[34m\u001b[1mwandb\u001b[0m: \tmin_child_samples: 30\n",
      "\u001b[34m\u001b[1mwandb\u001b[0m: \tmin_split_gain: 0.2\n",
      "\u001b[34m\u001b[1mwandb\u001b[0m: \tmodel: lightgbm\n",
      "\u001b[34m\u001b[1mwandb\u001b[0m: \tmultiple_series: False\n",
      "\u001b[34m\u001b[1mwandb\u001b[0m: \tn_estimators: 1000\n",
      "\u001b[34m\u001b[1mwandb\u001b[0m: \tnum_leaves: 40\n",
      "\u001b[34m\u001b[1mwandb\u001b[0m: \treg_alpha: 0\n",
      "\u001b[34m\u001b[1mwandb\u001b[0m: \treg_lambda: 0\n",
      "\u001b[34m\u001b[1mwandb\u001b[0m: \tsubsample: 1\n",
      "\u001b[34m\u001b[1mwandb\u001b[0m: \tsubsample_freq: 0\n",
      "\u001b[34m\u001b[1mwandb\u001b[0m: \tuse_covariates: False\n",
      "\u001b[34m\u001b[1mwandb\u001b[0m: \tuse_encoders: False\n",
      "\u001b[34m\u001b[1mwandb\u001b[0m: \tuse_features: False\n",
      "\u001b[34m\u001b[1mwandb\u001b[0m: \tuse_static_covariates: False\n",
      "Failed to detect the name of this notebook, you can set it manually with the WANDB_NOTEBOOK_NAME environment variable to enable code saving.\n"
     ]
    },
    {
     "data": {
      "text/html": [
       "Tracking run with wandb version 0.18.0"
      ],
      "text/plain": [
       "<IPython.core.display.HTML object>"
      ]
     },
     "metadata": {},
     "output_type": "display_data"
    },
    {
     "data": {
      "text/html": [
       "Run data is saved locally in <code>/home/wolffram/SARI-ML/realtime/wandb/run-20241001_200232-jwky2dhq</code>"
      ],
      "text/plain": [
       "<IPython.core.display.HTML object>"
      ]
     },
     "metadata": {},
     "output_type": "display_data"
    },
    {
     "data": {
      "text/html": [
       "Syncing run <strong><a href='https://wandb.ai/dwolffram-karlsruhe-institute-of-technology/realtime-lightgbm-expanding-window/runs/jwky2dhq' target=\"_blank\">avid-sweep-11</a></strong> to <a href='https://wandb.ai/dwolffram-karlsruhe-institute-of-technology/realtime-lightgbm-expanding-window' target=\"_blank\">Weights & Biases</a> (<a href='https://wandb.me/run' target=\"_blank\">docs</a>)<br/>Sweep page: <a href='https://wandb.ai/dwolffram-karlsruhe-institute-of-technology/realtime-lightgbm-expanding-window/sweeps/rbid04k0' target=\"_blank\">https://wandb.ai/dwolffram-karlsruhe-institute-of-technology/realtime-lightgbm-expanding-window/sweeps/rbid04k0</a>"
      ],
      "text/plain": [
       "<IPython.core.display.HTML object>"
      ]
     },
     "metadata": {},
     "output_type": "display_data"
    },
    {
     "data": {
      "text/html": [
       " View project at <a href='https://wandb.ai/dwolffram-karlsruhe-institute-of-technology/realtime-lightgbm-expanding-window' target=\"_blank\">https://wandb.ai/dwolffram-karlsruhe-institute-of-technology/realtime-lightgbm-expanding-window</a>"
      ],
      "text/plain": [
       "<IPython.core.display.HTML object>"
      ]
     },
     "metadata": {},
     "output_type": "display_data"
    },
    {
     "data": {
      "text/html": [
       " View sweep at <a href='https://wandb.ai/dwolffram-karlsruhe-institute-of-technology/realtime-lightgbm-expanding-window/sweeps/rbid04k0' target=\"_blank\">https://wandb.ai/dwolffram-karlsruhe-institute-of-technology/realtime-lightgbm-expanding-window/sweeps/rbid04k0</a>"
      ],
      "text/plain": [
       "<IPython.core.display.HTML object>"
      ]
     },
     "metadata": {},
     "output_type": "display_data"
    },
    {
     "data": {
      "text/html": [
       " View run at <a href='https://wandb.ai/dwolffram-karlsruhe-institute-of-technology/realtime-lightgbm-expanding-window/runs/jwky2dhq' target=\"_blank\">https://wandb.ai/dwolffram-karlsruhe-institute-of-technology/realtime-lightgbm-expanding-window/runs/jwky2dhq</a>"
      ],
      "text/plain": [
       "<IPython.core.display.HTML object>"
      ]
     },
     "metadata": {},
     "output_type": "display_data"
    },
    {
     "data": {
      "application/vnd.jupyter.widget-view+json": {
       "model_id": "f6b0c180b56842ae899afff5ffc88e7a",
       "version_major": 2,
       "version_minor": 0
      },
      "text/plain": [
       "VBox(children=(Label(value='0.005 MB of 0.005 MB uploaded\\r'), FloatProgress(value=1.0, max=1.0)))"
      ]
     },
     "metadata": {},
     "output_type": "display_data"
    },
    {
     "data": {
      "text/html": [
       "<style>\n",
       "    table.wandb td:nth-child(1) { padding: 0 10px; text-align: left ; width: auto;} td:nth-child(2) {text-align: left ; width: 100%}\n",
       "    .wandb-row { display: flex; flex-direction: row; flex-wrap: wrap; justify-content: flex-start; width: 100% }\n",
       "    .wandb-col { display: flex; flex-direction: column; flex-basis: 100%; flex: 1; padding: 10px; }\n",
       "    </style>\n",
       "<div class=\"wandb-row\"><div class=\"wandb-col\"><h3>Run history:</h3><br/><table class=\"wandb\"><tr><td>WIS</td><td>▁</td></tr><tr><td>WIS_2018</td><td>▁</td></tr><tr><td>WIS_2019</td><td>▁</td></tr><tr><td>WIS_2022</td><td>▁</td></tr><tr><td>WIS_2023</td><td>▁</td></tr><tr><td>WIS_std</td><td>▁</td></tr></table><br/></div><div class=\"wandb-col\"><h3>Run summary:</h3><br/><table class=\"wandb\"><tr><td>WIS</td><td>361.5941</td></tr><tr><td>WIS_2018</td><td>263.4126</td></tr><tr><td>WIS_2019</td><td>274.4605</td></tr><tr><td>WIS_2022</td><td>495.29426</td></tr><tr><td>WIS_2023</td><td>413.20904</td></tr><tr><td>WIS_std</td><td>97.17472</td></tr></table><br/></div></div>"
      ],
      "text/plain": [
       "<IPython.core.display.HTML object>"
      ]
     },
     "metadata": {},
     "output_type": "display_data"
    },
    {
     "data": {
      "text/html": [
       " View run <strong style=\"color:#cdcd00\">avid-sweep-11</strong> at: <a href='https://wandb.ai/dwolffram-karlsruhe-institute-of-technology/realtime-lightgbm-expanding-window/runs/jwky2dhq' target=\"_blank\">https://wandb.ai/dwolffram-karlsruhe-institute-of-technology/realtime-lightgbm-expanding-window/runs/jwky2dhq</a><br/> View project at: <a href='https://wandb.ai/dwolffram-karlsruhe-institute-of-technology/realtime-lightgbm-expanding-window' target=\"_blank\">https://wandb.ai/dwolffram-karlsruhe-institute-of-technology/realtime-lightgbm-expanding-window</a><br/>Synced 5 W&B file(s), 0 media file(s), 0 artifact file(s) and 0 other file(s)"
      ],
      "text/plain": [
       "<IPython.core.display.HTML object>"
      ]
     },
     "metadata": {},
     "output_type": "display_data"
    },
    {
     "data": {
      "text/html": [
       "Find logs at: <code>./wandb/run-20241001_200232-jwky2dhq/logs</code>"
      ],
      "text/plain": [
       "<IPython.core.display.HTML object>"
      ]
     },
     "metadata": {},
     "output_type": "display_data"
    },
    {
     "name": "stderr",
     "output_type": "stream",
     "text": [
      "\u001b[34m\u001b[1mwandb\u001b[0m: Agent Starting Run: svxwxixi with config:\n",
      "\u001b[34m\u001b[1mwandb\u001b[0m: \tcolsample_bytree: 1\n",
      "\u001b[34m\u001b[1mwandb\u001b[0m: \tlags: 8\n",
      "\u001b[34m\u001b[1mwandb\u001b[0m: \tlags_future_covariates: [0, 4]\n",
      "\u001b[34m\u001b[1mwandb\u001b[0m: \tlags_past_covariates: 8\n",
      "\u001b[34m\u001b[1mwandb\u001b[0m: \tlearning_rate: 0.1\n",
      "\u001b[34m\u001b[1mwandb\u001b[0m: \tmax_bin: 1024\n",
      "\u001b[34m\u001b[1mwandb\u001b[0m: \tmax_depth: 15\n",
      "\u001b[34m\u001b[1mwandb\u001b[0m: \tmin_child_samples: 30\n",
      "\u001b[34m\u001b[1mwandb\u001b[0m: \tmin_split_gain: 0\n",
      "\u001b[34m\u001b[1mwandb\u001b[0m: \tmodel: lightgbm\n",
      "\u001b[34m\u001b[1mwandb\u001b[0m: \tmultiple_series: False\n",
      "\u001b[34m\u001b[1mwandb\u001b[0m: \tn_estimators: 500\n",
      "\u001b[34m\u001b[1mwandb\u001b[0m: \tnum_leaves: 40\n",
      "\u001b[34m\u001b[1mwandb\u001b[0m: \treg_alpha: 0\n",
      "\u001b[34m\u001b[1mwandb\u001b[0m: \treg_lambda: 0\n",
      "\u001b[34m\u001b[1mwandb\u001b[0m: \tsubsample: 1\n",
      "\u001b[34m\u001b[1mwandb\u001b[0m: \tsubsample_freq: 0\n",
      "\u001b[34m\u001b[1mwandb\u001b[0m: \tuse_covariates: False\n",
      "\u001b[34m\u001b[1mwandb\u001b[0m: \tuse_encoders: True\n",
      "\u001b[34m\u001b[1mwandb\u001b[0m: \tuse_features: False\n",
      "\u001b[34m\u001b[1mwandb\u001b[0m: \tuse_static_covariates: False\n",
      "Failed to detect the name of this notebook, you can set it manually with the WANDB_NOTEBOOK_NAME environment variable to enable code saving.\n"
     ]
    },
    {
     "data": {
      "text/html": [
       "Tracking run with wandb version 0.18.0"
      ],
      "text/plain": [
       "<IPython.core.display.HTML object>"
      ]
     },
     "metadata": {},
     "output_type": "display_data"
    },
    {
     "data": {
      "text/html": [
       "Run data is saved locally in <code>/home/wolffram/SARI-ML/realtime/wandb/run-20241001_200507-svxwxixi</code>"
      ],
      "text/plain": [
       "<IPython.core.display.HTML object>"
      ]
     },
     "metadata": {},
     "output_type": "display_data"
    },
    {
     "data": {
      "text/html": [
       "Syncing run <strong><a href='https://wandb.ai/dwolffram-karlsruhe-institute-of-technology/realtime-lightgbm-expanding-window/runs/svxwxixi' target=\"_blank\">eager-sweep-12</a></strong> to <a href='https://wandb.ai/dwolffram-karlsruhe-institute-of-technology/realtime-lightgbm-expanding-window' target=\"_blank\">Weights & Biases</a> (<a href='https://wandb.me/run' target=\"_blank\">docs</a>)<br/>Sweep page: <a href='https://wandb.ai/dwolffram-karlsruhe-institute-of-technology/realtime-lightgbm-expanding-window/sweeps/rbid04k0' target=\"_blank\">https://wandb.ai/dwolffram-karlsruhe-institute-of-technology/realtime-lightgbm-expanding-window/sweeps/rbid04k0</a>"
      ],
      "text/plain": [
       "<IPython.core.display.HTML object>"
      ]
     },
     "metadata": {},
     "output_type": "display_data"
    },
    {
     "data": {
      "text/html": [
       " View project at <a href='https://wandb.ai/dwolffram-karlsruhe-institute-of-technology/realtime-lightgbm-expanding-window' target=\"_blank\">https://wandb.ai/dwolffram-karlsruhe-institute-of-technology/realtime-lightgbm-expanding-window</a>"
      ],
      "text/plain": [
       "<IPython.core.display.HTML object>"
      ]
     },
     "metadata": {},
     "output_type": "display_data"
    },
    {
     "data": {
      "text/html": [
       " View sweep at <a href='https://wandb.ai/dwolffram-karlsruhe-institute-of-technology/realtime-lightgbm-expanding-window/sweeps/rbid04k0' target=\"_blank\">https://wandb.ai/dwolffram-karlsruhe-institute-of-technology/realtime-lightgbm-expanding-window/sweeps/rbid04k0</a>"
      ],
      "text/plain": [
       "<IPython.core.display.HTML object>"
      ]
     },
     "metadata": {},
     "output_type": "display_data"
    },
    {
     "data": {
      "text/html": [
       " View run at <a href='https://wandb.ai/dwolffram-karlsruhe-institute-of-technology/realtime-lightgbm-expanding-window/runs/svxwxixi' target=\"_blank\">https://wandb.ai/dwolffram-karlsruhe-institute-of-technology/realtime-lightgbm-expanding-window/runs/svxwxixi</a>"
      ],
      "text/plain": [
       "<IPython.core.display.HTML object>"
      ]
     },
     "metadata": {},
     "output_type": "display_data"
    },
    {
     "data": {
      "application/vnd.jupyter.widget-view+json": {
       "model_id": "b22b950f30134d5484efe5d537b3a075",
       "version_major": 2,
       "version_minor": 0
      },
      "text/plain": [
       "VBox(children=(Label(value='0.005 MB of 0.005 MB uploaded\\r'), FloatProgress(value=1.0, max=1.0)))"
      ]
     },
     "metadata": {},
     "output_type": "display_data"
    },
    {
     "data": {
      "text/html": [
       "<style>\n",
       "    table.wandb td:nth-child(1) { padding: 0 10px; text-align: left ; width: auto;} td:nth-child(2) {text-align: left ; width: 100%}\n",
       "    .wandb-row { display: flex; flex-direction: row; flex-wrap: wrap; justify-content: flex-start; width: 100% }\n",
       "    .wandb-col { display: flex; flex-direction: column; flex-basis: 100%; flex: 1; padding: 10px; }\n",
       "    </style>\n",
       "<div class=\"wandb-row\"><div class=\"wandb-col\"><h3>Run history:</h3><br/><table class=\"wandb\"><tr><td>WIS</td><td>▁</td></tr><tr><td>WIS_2018</td><td>▁</td></tr><tr><td>WIS_2019</td><td>▁</td></tr><tr><td>WIS_2022</td><td>▁</td></tr><tr><td>WIS_2023</td><td>▁</td></tr><tr><td>WIS_std</td><td>▁</td></tr></table><br/></div><div class=\"wandb-col\"><h3>Run summary:</h3><br/><table class=\"wandb\"><tr><td>WIS</td><td>335.46589</td></tr><tr><td>WIS_2018</td><td>205.98162</td></tr><tr><td>WIS_2019</td><td>236.49225</td></tr><tr><td>WIS_2022</td><td>493.37897</td></tr><tr><td>WIS_2023</td><td>406.01072</td></tr><tr><td>WIS_std</td><td>118.82242</td></tr></table><br/></div></div>"
      ],
      "text/plain": [
       "<IPython.core.display.HTML object>"
      ]
     },
     "metadata": {},
     "output_type": "display_data"
    },
    {
     "data": {
      "text/html": [
       " View run <strong style=\"color:#cdcd00\">eager-sweep-12</strong> at: <a href='https://wandb.ai/dwolffram-karlsruhe-institute-of-technology/realtime-lightgbm-expanding-window/runs/svxwxixi' target=\"_blank\">https://wandb.ai/dwolffram-karlsruhe-institute-of-technology/realtime-lightgbm-expanding-window/runs/svxwxixi</a><br/> View project at: <a href='https://wandb.ai/dwolffram-karlsruhe-institute-of-technology/realtime-lightgbm-expanding-window' target=\"_blank\">https://wandb.ai/dwolffram-karlsruhe-institute-of-technology/realtime-lightgbm-expanding-window</a><br/>Synced 5 W&B file(s), 0 media file(s), 0 artifact file(s) and 0 other file(s)"
      ],
      "text/plain": [
       "<IPython.core.display.HTML object>"
      ]
     },
     "metadata": {},
     "output_type": "display_data"
    },
    {
     "data": {
      "text/html": [
       "Find logs at: <code>./wandb/run-20241001_200507-svxwxixi/logs</code>"
      ],
      "text/plain": [
       "<IPython.core.display.HTML object>"
      ]
     },
     "metadata": {},
     "output_type": "display_data"
    },
    {
     "name": "stderr",
     "output_type": "stream",
     "text": [
      "\u001b[34m\u001b[1mwandb\u001b[0m: Agent Starting Run: fv4ckw59 with config:\n",
      "\u001b[34m\u001b[1mwandb\u001b[0m: \tcolsample_bytree: 1\n",
      "\u001b[34m\u001b[1mwandb\u001b[0m: \tlags: 8\n",
      "\u001b[34m\u001b[1mwandb\u001b[0m: \tlags_future_covariates: [0, 4]\n",
      "\u001b[34m\u001b[1mwandb\u001b[0m: \tlags_past_covariates: 8\n",
      "\u001b[34m\u001b[1mwandb\u001b[0m: \tlearning_rate: 0.2\n",
      "\u001b[34m\u001b[1mwandb\u001b[0m: \tmax_bin: 2048\n",
      "\u001b[34m\u001b[1mwandb\u001b[0m: \tmax_depth: 20\n",
      "\u001b[34m\u001b[1mwandb\u001b[0m: \tmin_child_samples: 30\n",
      "\u001b[34m\u001b[1mwandb\u001b[0m: \tmin_split_gain: 0.2\n",
      "\u001b[34m\u001b[1mwandb\u001b[0m: \tmodel: lightgbm\n",
      "\u001b[34m\u001b[1mwandb\u001b[0m: \tmultiple_series: False\n",
      "\u001b[34m\u001b[1mwandb\u001b[0m: \tn_estimators: 5000\n",
      "\u001b[34m\u001b[1mwandb\u001b[0m: \tnum_leaves: 20\n",
      "\u001b[34m\u001b[1mwandb\u001b[0m: \treg_alpha: 0\n",
      "\u001b[34m\u001b[1mwandb\u001b[0m: \treg_lambda: 0\n",
      "\u001b[34m\u001b[1mwandb\u001b[0m: \tsubsample: 1\n",
      "\u001b[34m\u001b[1mwandb\u001b[0m: \tsubsample_freq: 0\n",
      "\u001b[34m\u001b[1mwandb\u001b[0m: \tuse_covariates: False\n",
      "\u001b[34m\u001b[1mwandb\u001b[0m: \tuse_encoders: False\n",
      "\u001b[34m\u001b[1mwandb\u001b[0m: \tuse_features: False\n",
      "\u001b[34m\u001b[1mwandb\u001b[0m: \tuse_static_covariates: False\n",
      "Failed to detect the name of this notebook, you can set it manually with the WANDB_NOTEBOOK_NAME environment variable to enable code saving.\n"
     ]
    },
    {
     "data": {
      "text/html": [
       "Tracking run with wandb version 0.18.0"
      ],
      "text/plain": [
       "<IPython.core.display.HTML object>"
      ]
     },
     "metadata": {},
     "output_type": "display_data"
    },
    {
     "data": {
      "text/html": [
       "Run data is saved locally in <code>/home/wolffram/SARI-ML/realtime/wandb/run-20241001_200706-fv4ckw59</code>"
      ],
      "text/plain": [
       "<IPython.core.display.HTML object>"
      ]
     },
     "metadata": {},
     "output_type": "display_data"
    },
    {
     "data": {
      "text/html": [
       "Syncing run <strong><a href='https://wandb.ai/dwolffram-karlsruhe-institute-of-technology/realtime-lightgbm-expanding-window/runs/fv4ckw59' target=\"_blank\">glamorous-sweep-13</a></strong> to <a href='https://wandb.ai/dwolffram-karlsruhe-institute-of-technology/realtime-lightgbm-expanding-window' target=\"_blank\">Weights & Biases</a> (<a href='https://wandb.me/run' target=\"_blank\">docs</a>)<br/>Sweep page: <a href='https://wandb.ai/dwolffram-karlsruhe-institute-of-technology/realtime-lightgbm-expanding-window/sweeps/rbid04k0' target=\"_blank\">https://wandb.ai/dwolffram-karlsruhe-institute-of-technology/realtime-lightgbm-expanding-window/sweeps/rbid04k0</a>"
      ],
      "text/plain": [
       "<IPython.core.display.HTML object>"
      ]
     },
     "metadata": {},
     "output_type": "display_data"
    },
    {
     "data": {
      "text/html": [
       " View project at <a href='https://wandb.ai/dwolffram-karlsruhe-institute-of-technology/realtime-lightgbm-expanding-window' target=\"_blank\">https://wandb.ai/dwolffram-karlsruhe-institute-of-technology/realtime-lightgbm-expanding-window</a>"
      ],
      "text/plain": [
       "<IPython.core.display.HTML object>"
      ]
     },
     "metadata": {},
     "output_type": "display_data"
    },
    {
     "data": {
      "text/html": [
       " View sweep at <a href='https://wandb.ai/dwolffram-karlsruhe-institute-of-technology/realtime-lightgbm-expanding-window/sweeps/rbid04k0' target=\"_blank\">https://wandb.ai/dwolffram-karlsruhe-institute-of-technology/realtime-lightgbm-expanding-window/sweeps/rbid04k0</a>"
      ],
      "text/plain": [
       "<IPython.core.display.HTML object>"
      ]
     },
     "metadata": {},
     "output_type": "display_data"
    },
    {
     "data": {
      "text/html": [
       " View run at <a href='https://wandb.ai/dwolffram-karlsruhe-institute-of-technology/realtime-lightgbm-expanding-window/runs/fv4ckw59' target=\"_blank\">https://wandb.ai/dwolffram-karlsruhe-institute-of-technology/realtime-lightgbm-expanding-window/runs/fv4ckw59</a>"
      ],
      "text/plain": [
       "<IPython.core.display.HTML object>"
      ]
     },
     "metadata": {},
     "output_type": "display_data"
    },
    {
     "data": {
      "application/vnd.jupyter.widget-view+json": {
       "model_id": "ac2435964e094f789830621718d8da90",
       "version_major": 2,
       "version_minor": 0
      },
      "text/plain": [
       "VBox(children=(Label(value='0.005 MB of 0.005 MB uploaded\\r'), FloatProgress(value=1.0, max=1.0)))"
      ]
     },
     "metadata": {},
     "output_type": "display_data"
    },
    {
     "data": {
      "text/html": [
       "<style>\n",
       "    table.wandb td:nth-child(1) { padding: 0 10px; text-align: left ; width: auto;} td:nth-child(2) {text-align: left ; width: 100%}\n",
       "    .wandb-row { display: flex; flex-direction: row; flex-wrap: wrap; justify-content: flex-start; width: 100% }\n",
       "    .wandb-col { display: flex; flex-direction: column; flex-basis: 100%; flex: 1; padding: 10px; }\n",
       "    </style>\n",
       "<div class=\"wandb-row\"><div class=\"wandb-col\"><h3>Run history:</h3><br/><table class=\"wandb\"><tr><td>WIS</td><td>▁</td></tr><tr><td>WIS_2018</td><td>▁</td></tr><tr><td>WIS_2019</td><td>▁</td></tr><tr><td>WIS_2022</td><td>▁</td></tr><tr><td>WIS_2023</td><td>▁</td></tr><tr><td>WIS_std</td><td>▁</td></tr></table><br/></div><div class=\"wandb-col\"><h3>Run summary:</h3><br/><table class=\"wandb\"><tr><td>WIS</td><td>363.32117</td></tr><tr><td>WIS_2018</td><td>268.31471</td></tr><tr><td>WIS_2019</td><td>271.01375</td></tr><tr><td>WIS_2022</td><td>495.94188</td></tr><tr><td>WIS_2023</td><td>418.01434</td></tr><tr><td>WIS_std</td><td>97.63002</td></tr></table><br/></div></div>"
      ],
      "text/plain": [
       "<IPython.core.display.HTML object>"
      ]
     },
     "metadata": {},
     "output_type": "display_data"
    },
    {
     "data": {
      "text/html": [
       " View run <strong style=\"color:#cdcd00\">glamorous-sweep-13</strong> at: <a href='https://wandb.ai/dwolffram-karlsruhe-institute-of-technology/realtime-lightgbm-expanding-window/runs/fv4ckw59' target=\"_blank\">https://wandb.ai/dwolffram-karlsruhe-institute-of-technology/realtime-lightgbm-expanding-window/runs/fv4ckw59</a><br/> View project at: <a href='https://wandb.ai/dwolffram-karlsruhe-institute-of-technology/realtime-lightgbm-expanding-window' target=\"_blank\">https://wandb.ai/dwolffram-karlsruhe-institute-of-technology/realtime-lightgbm-expanding-window</a><br/>Synced 5 W&B file(s), 0 media file(s), 0 artifact file(s) and 0 other file(s)"
      ],
      "text/plain": [
       "<IPython.core.display.HTML object>"
      ]
     },
     "metadata": {},
     "output_type": "display_data"
    },
    {
     "data": {
      "text/html": [
       "Find logs at: <code>./wandb/run-20241001_200706-fv4ckw59/logs</code>"
      ],
      "text/plain": [
       "<IPython.core.display.HTML object>"
      ]
     },
     "metadata": {},
     "output_type": "display_data"
    },
    {
     "name": "stderr",
     "output_type": "stream",
     "text": [
      "\u001b[34m\u001b[1mwandb\u001b[0m: Sweep Agent: Waiting for job.\n",
      "\u001b[34m\u001b[1mwandb\u001b[0m: Job received.\n",
      "\u001b[34m\u001b[1mwandb\u001b[0m: Agent Starting Run: hwdes5rg with config:\n",
      "\u001b[34m\u001b[1mwandb\u001b[0m: \tcolsample_bytree: 1\n",
      "\u001b[34m\u001b[1mwandb\u001b[0m: \tlags: 8\n",
      "\u001b[34m\u001b[1mwandb\u001b[0m: \tlags_future_covariates: [0, 4]\n",
      "\u001b[34m\u001b[1mwandb\u001b[0m: \tlags_past_covariates: 8\n",
      "\u001b[34m\u001b[1mwandb\u001b[0m: \tlearning_rate: 0.01\n",
      "\u001b[34m\u001b[1mwandb\u001b[0m: \tmax_bin: 2048\n",
      "\u001b[34m\u001b[1mwandb\u001b[0m: \tmax_depth: 5\n",
      "\u001b[34m\u001b[1mwandb\u001b[0m: \tmin_child_samples: 20\n",
      "\u001b[34m\u001b[1mwandb\u001b[0m: \tmin_split_gain: 0.1\n",
      "\u001b[34m\u001b[1mwandb\u001b[0m: \tmodel: lightgbm\n",
      "\u001b[34m\u001b[1mwandb\u001b[0m: \tmultiple_series: False\n",
      "\u001b[34m\u001b[1mwandb\u001b[0m: \tn_estimators: 250\n",
      "\u001b[34m\u001b[1mwandb\u001b[0m: \tnum_leaves: 20\n",
      "\u001b[34m\u001b[1mwandb\u001b[0m: \treg_alpha: 0\n",
      "\u001b[34m\u001b[1mwandb\u001b[0m: \treg_lambda: 0\n",
      "\u001b[34m\u001b[1mwandb\u001b[0m: \tsubsample: 1\n",
      "\u001b[34m\u001b[1mwandb\u001b[0m: \tsubsample_freq: 0\n",
      "\u001b[34m\u001b[1mwandb\u001b[0m: \tuse_covariates: False\n",
      "\u001b[34m\u001b[1mwandb\u001b[0m: \tuse_encoders: True\n",
      "\u001b[34m\u001b[1mwandb\u001b[0m: \tuse_features: False\n",
      "\u001b[34m\u001b[1mwandb\u001b[0m: \tuse_static_covariates: False\n",
      "Failed to detect the name of this notebook, you can set it manually with the WANDB_NOTEBOOK_NAME environment variable to enable code saving.\n"
     ]
    },
    {
     "data": {
      "application/vnd.jupyter.widget-view+json": {
       "model_id": "edd796ada9d44fbca7a94b743a6c8e90",
       "version_major": 2,
       "version_minor": 0
      },
      "text/plain": [
       "VBox(children=(Label(value='Waiting for wandb.init()...\\r'), FloatProgress(value=0.011112837410635418, max=1.0…"
      ]
     },
     "metadata": {},
     "output_type": "display_data"
    },
    {
     "data": {
      "text/html": [
       "Tracking run with wandb version 0.18.0"
      ],
      "text/plain": [
       "<IPython.core.display.HTML object>"
      ]
     },
     "metadata": {},
     "output_type": "display_data"
    },
    {
     "data": {
      "text/html": [
       "Run data is saved locally in <code>/home/wolffram/SARI-ML/realtime/wandb/run-20241001_201845-hwdes5rg</code>"
      ],
      "text/plain": [
       "<IPython.core.display.HTML object>"
      ]
     },
     "metadata": {},
     "output_type": "display_data"
    },
    {
     "data": {
      "text/html": [
       "Syncing run <strong><a href='https://wandb.ai/dwolffram-karlsruhe-institute-of-technology/realtime-lightgbm-expanding-window/runs/hwdes5rg' target=\"_blank\">restful-sweep-14</a></strong> to <a href='https://wandb.ai/dwolffram-karlsruhe-institute-of-technology/realtime-lightgbm-expanding-window' target=\"_blank\">Weights & Biases</a> (<a href='https://wandb.me/run' target=\"_blank\">docs</a>)<br/>Sweep page: <a href='https://wandb.ai/dwolffram-karlsruhe-institute-of-technology/realtime-lightgbm-expanding-window/sweeps/rbid04k0' target=\"_blank\">https://wandb.ai/dwolffram-karlsruhe-institute-of-technology/realtime-lightgbm-expanding-window/sweeps/rbid04k0</a>"
      ],
      "text/plain": [
       "<IPython.core.display.HTML object>"
      ]
     },
     "metadata": {},
     "output_type": "display_data"
    },
    {
     "data": {
      "text/html": [
       " View project at <a href='https://wandb.ai/dwolffram-karlsruhe-institute-of-technology/realtime-lightgbm-expanding-window' target=\"_blank\">https://wandb.ai/dwolffram-karlsruhe-institute-of-technology/realtime-lightgbm-expanding-window</a>"
      ],
      "text/plain": [
       "<IPython.core.display.HTML object>"
      ]
     },
     "metadata": {},
     "output_type": "display_data"
    },
    {
     "data": {
      "text/html": [
       " View sweep at <a href='https://wandb.ai/dwolffram-karlsruhe-institute-of-technology/realtime-lightgbm-expanding-window/sweeps/rbid04k0' target=\"_blank\">https://wandb.ai/dwolffram-karlsruhe-institute-of-technology/realtime-lightgbm-expanding-window/sweeps/rbid04k0</a>"
      ],
      "text/plain": [
       "<IPython.core.display.HTML object>"
      ]
     },
     "metadata": {},
     "output_type": "display_data"
    },
    {
     "data": {
      "text/html": [
       " View run at <a href='https://wandb.ai/dwolffram-karlsruhe-institute-of-technology/realtime-lightgbm-expanding-window/runs/hwdes5rg' target=\"_blank\">https://wandb.ai/dwolffram-karlsruhe-institute-of-technology/realtime-lightgbm-expanding-window/runs/hwdes5rg</a>"
      ],
      "text/plain": [
       "<IPython.core.display.HTML object>"
      ]
     },
     "metadata": {},
     "output_type": "display_data"
    },
    {
     "data": {
      "application/vnd.jupyter.widget-view+json": {
       "model_id": "4f61f8e485754669ae98340f316753ed",
       "version_major": 2,
       "version_minor": 0
      },
      "text/plain": [
       "VBox(children=(Label(value='0.005 MB of 0.005 MB uploaded\\r'), FloatProgress(value=1.0, max=1.0)))"
      ]
     },
     "metadata": {},
     "output_type": "display_data"
    },
    {
     "data": {
      "text/html": [
       "<style>\n",
       "    table.wandb td:nth-child(1) { padding: 0 10px; text-align: left ; width: auto;} td:nth-child(2) {text-align: left ; width: 100%}\n",
       "    .wandb-row { display: flex; flex-direction: row; flex-wrap: wrap; justify-content: flex-start; width: 100% }\n",
       "    .wandb-col { display: flex; flex-direction: column; flex-basis: 100%; flex: 1; padding: 10px; }\n",
       "    </style>\n",
       "<div class=\"wandb-row\"><div class=\"wandb-col\"><h3>Run history:</h3><br/><table class=\"wandb\"><tr><td>WIS</td><td>▁</td></tr><tr><td>WIS_2018</td><td>▁</td></tr><tr><td>WIS_2019</td><td>▁</td></tr><tr><td>WIS_2022</td><td>▁</td></tr><tr><td>WIS_2023</td><td>▁</td></tr><tr><td>WIS_std</td><td>▁</td></tr></table><br/></div><div class=\"wandb-col\"><h3>Run summary:</h3><br/><table class=\"wandb\"><tr><td>WIS</td><td>373.39536</td></tr><tr><td>WIS_2018</td><td>256.91754</td></tr><tr><td>WIS_2019</td><td>296.78345</td></tr><tr><td>WIS_2022</td><td>495.3713</td></tr><tr><td>WIS_2023</td><td>444.50915</td></tr><tr><td>WIS_std</td><td>99.2116</td></tr></table><br/></div></div>"
      ],
      "text/plain": [
       "<IPython.core.display.HTML object>"
      ]
     },
     "metadata": {},
     "output_type": "display_data"
    },
    {
     "data": {
      "text/html": [
       " View run <strong style=\"color:#cdcd00\">restful-sweep-14</strong> at: <a href='https://wandb.ai/dwolffram-karlsruhe-institute-of-technology/realtime-lightgbm-expanding-window/runs/hwdes5rg' target=\"_blank\">https://wandb.ai/dwolffram-karlsruhe-institute-of-technology/realtime-lightgbm-expanding-window/runs/hwdes5rg</a><br/> View project at: <a href='https://wandb.ai/dwolffram-karlsruhe-institute-of-technology/realtime-lightgbm-expanding-window' target=\"_blank\">https://wandb.ai/dwolffram-karlsruhe-institute-of-technology/realtime-lightgbm-expanding-window</a><br/>Synced 5 W&B file(s), 0 media file(s), 0 artifact file(s) and 0 other file(s)"
      ],
      "text/plain": [
       "<IPython.core.display.HTML object>"
      ]
     },
     "metadata": {},
     "output_type": "display_data"
    },
    {
     "data": {
      "text/html": [
       "Find logs at: <code>./wandb/run-20241001_201845-hwdes5rg/logs</code>"
      ],
      "text/plain": [
       "<IPython.core.display.HTML object>"
      ]
     },
     "metadata": {},
     "output_type": "display_data"
    },
    {
     "name": "stderr",
     "output_type": "stream",
     "text": [
      "\u001b[34m\u001b[1mwandb\u001b[0m: Agent Starting Run: 6l4oic2n with config:\n",
      "\u001b[34m\u001b[1mwandb\u001b[0m: \tcolsample_bytree: 1\n",
      "\u001b[34m\u001b[1mwandb\u001b[0m: \tlags: 8\n",
      "\u001b[34m\u001b[1mwandb\u001b[0m: \tlags_future_covariates: [0, 4]\n",
      "\u001b[34m\u001b[1mwandb\u001b[0m: \tlags_past_covariates: 8\n",
      "\u001b[34m\u001b[1mwandb\u001b[0m: \tlearning_rate: 0.05\n",
      "\u001b[34m\u001b[1mwandb\u001b[0m: \tmax_bin: 1024\n",
      "\u001b[34m\u001b[1mwandb\u001b[0m: \tmax_depth: -1\n",
      "\u001b[34m\u001b[1mwandb\u001b[0m: \tmin_child_samples: 30\n",
      "\u001b[34m\u001b[1mwandb\u001b[0m: \tmin_split_gain: 0\n",
      "\u001b[34m\u001b[1mwandb\u001b[0m: \tmodel: lightgbm\n",
      "\u001b[34m\u001b[1mwandb\u001b[0m: \tmultiple_series: False\n",
      "\u001b[34m\u001b[1mwandb\u001b[0m: \tn_estimators: 2000\n",
      "\u001b[34m\u001b[1mwandb\u001b[0m: \tnum_leaves: 40\n",
      "\u001b[34m\u001b[1mwandb\u001b[0m: \treg_alpha: 0\n",
      "\u001b[34m\u001b[1mwandb\u001b[0m: \treg_lambda: 0\n",
      "\u001b[34m\u001b[1mwandb\u001b[0m: \tsubsample: 1\n",
      "\u001b[34m\u001b[1mwandb\u001b[0m: \tsubsample_freq: 0\n",
      "\u001b[34m\u001b[1mwandb\u001b[0m: \tuse_covariates: False\n",
      "\u001b[34m\u001b[1mwandb\u001b[0m: \tuse_encoders: True\n",
      "\u001b[34m\u001b[1mwandb\u001b[0m: \tuse_features: False\n",
      "\u001b[34m\u001b[1mwandb\u001b[0m: \tuse_static_covariates: False\n",
      "Failed to detect the name of this notebook, you can set it manually with the WANDB_NOTEBOOK_NAME environment variable to enable code saving.\n"
     ]
    },
    {
     "data": {
      "text/html": [
       "Tracking run with wandb version 0.18.0"
      ],
      "text/plain": [
       "<IPython.core.display.HTML object>"
      ]
     },
     "metadata": {},
     "output_type": "display_data"
    },
    {
     "data": {
      "text/html": [
       "Run data is saved locally in <code>/home/wolffram/SARI-ML/realtime/wandb/run-20241001_201958-6l4oic2n</code>"
      ],
      "text/plain": [
       "<IPython.core.display.HTML object>"
      ]
     },
     "metadata": {},
     "output_type": "display_data"
    },
    {
     "data": {
      "text/html": [
       "Syncing run <strong><a href='https://wandb.ai/dwolffram-karlsruhe-institute-of-technology/realtime-lightgbm-expanding-window/runs/6l4oic2n' target=\"_blank\">unique-sweep-15</a></strong> to <a href='https://wandb.ai/dwolffram-karlsruhe-institute-of-technology/realtime-lightgbm-expanding-window' target=\"_blank\">Weights & Biases</a> (<a href='https://wandb.me/run' target=\"_blank\">docs</a>)<br/>Sweep page: <a href='https://wandb.ai/dwolffram-karlsruhe-institute-of-technology/realtime-lightgbm-expanding-window/sweeps/rbid04k0' target=\"_blank\">https://wandb.ai/dwolffram-karlsruhe-institute-of-technology/realtime-lightgbm-expanding-window/sweeps/rbid04k0</a>"
      ],
      "text/plain": [
       "<IPython.core.display.HTML object>"
      ]
     },
     "metadata": {},
     "output_type": "display_data"
    },
    {
     "data": {
      "text/html": [
       " View project at <a href='https://wandb.ai/dwolffram-karlsruhe-institute-of-technology/realtime-lightgbm-expanding-window' target=\"_blank\">https://wandb.ai/dwolffram-karlsruhe-institute-of-technology/realtime-lightgbm-expanding-window</a>"
      ],
      "text/plain": [
       "<IPython.core.display.HTML object>"
      ]
     },
     "metadata": {},
     "output_type": "display_data"
    },
    {
     "data": {
      "text/html": [
       " View sweep at <a href='https://wandb.ai/dwolffram-karlsruhe-institute-of-technology/realtime-lightgbm-expanding-window/sweeps/rbid04k0' target=\"_blank\">https://wandb.ai/dwolffram-karlsruhe-institute-of-technology/realtime-lightgbm-expanding-window/sweeps/rbid04k0</a>"
      ],
      "text/plain": [
       "<IPython.core.display.HTML object>"
      ]
     },
     "metadata": {},
     "output_type": "display_data"
    },
    {
     "data": {
      "text/html": [
       " View run at <a href='https://wandb.ai/dwolffram-karlsruhe-institute-of-technology/realtime-lightgbm-expanding-window/runs/6l4oic2n' target=\"_blank\">https://wandb.ai/dwolffram-karlsruhe-institute-of-technology/realtime-lightgbm-expanding-window/runs/6l4oic2n</a>"
      ],
      "text/plain": [
       "<IPython.core.display.HTML object>"
      ]
     },
     "metadata": {},
     "output_type": "display_data"
    },
    {
     "data": {
      "application/vnd.jupyter.widget-view+json": {
       "model_id": "2d5498ae22eb4d4f8398e88e95c9018d",
       "version_major": 2,
       "version_minor": 0
      },
      "text/plain": [
       "VBox(children=(Label(value='0.005 MB of 0.005 MB uploaded\\r'), FloatProgress(value=1.0, max=1.0)))"
      ]
     },
     "metadata": {},
     "output_type": "display_data"
    },
    {
     "data": {
      "text/html": [
       "<style>\n",
       "    table.wandb td:nth-child(1) { padding: 0 10px; text-align: left ; width: auto;} td:nth-child(2) {text-align: left ; width: 100%}\n",
       "    .wandb-row { display: flex; flex-direction: row; flex-wrap: wrap; justify-content: flex-start; width: 100% }\n",
       "    .wandb-col { display: flex; flex-direction: column; flex-basis: 100%; flex: 1; padding: 10px; }\n",
       "    </style>\n",
       "<div class=\"wandb-row\"><div class=\"wandb-col\"><h3>Run history:</h3><br/><table class=\"wandb\"><tr><td>WIS</td><td>▁</td></tr><tr><td>WIS_2018</td><td>▁</td></tr><tr><td>WIS_2019</td><td>▁</td></tr><tr><td>WIS_2022</td><td>▁</td></tr><tr><td>WIS_2023</td><td>▁</td></tr><tr><td>WIS_std</td><td>▁</td></tr></table><br/></div><div class=\"wandb-col\"><h3>Run summary:</h3><br/><table class=\"wandb\"><tr><td>WIS</td><td>340.19611</td></tr><tr><td>WIS_2018</td><td>206.5737</td></tr><tr><td>WIS_2019</td><td>239.52095</td></tr><tr><td>WIS_2022</td><td>500.83088</td></tr><tr><td>WIS_2023</td><td>413.85891</td></tr><tr><td>WIS_std</td><td>121.67598</td></tr></table><br/></div></div>"
      ],
      "text/plain": [
       "<IPython.core.display.HTML object>"
      ]
     },
     "metadata": {},
     "output_type": "display_data"
    },
    {
     "data": {
      "text/html": [
       " View run <strong style=\"color:#cdcd00\">unique-sweep-15</strong> at: <a href='https://wandb.ai/dwolffram-karlsruhe-institute-of-technology/realtime-lightgbm-expanding-window/runs/6l4oic2n' target=\"_blank\">https://wandb.ai/dwolffram-karlsruhe-institute-of-technology/realtime-lightgbm-expanding-window/runs/6l4oic2n</a><br/> View project at: <a href='https://wandb.ai/dwolffram-karlsruhe-institute-of-technology/realtime-lightgbm-expanding-window' target=\"_blank\">https://wandb.ai/dwolffram-karlsruhe-institute-of-technology/realtime-lightgbm-expanding-window</a><br/>Synced 5 W&B file(s), 0 media file(s), 0 artifact file(s) and 0 other file(s)"
      ],
      "text/plain": [
       "<IPython.core.display.HTML object>"
      ]
     },
     "metadata": {},
     "output_type": "display_data"
    },
    {
     "data": {
      "text/html": [
       "Find logs at: <code>./wandb/run-20241001_201958-6l4oic2n/logs</code>"
      ],
      "text/plain": [
       "<IPython.core.display.HTML object>"
      ]
     },
     "metadata": {},
     "output_type": "display_data"
    },
    {
     "name": "stderr",
     "output_type": "stream",
     "text": [
      "\u001b[34m\u001b[1mwandb\u001b[0m: Sweep Agent: Waiting for job.\n",
      "\u001b[34m\u001b[1mwandb\u001b[0m: Job received.\n",
      "\u001b[34m\u001b[1mwandb\u001b[0m: Agent Starting Run: u7e7gwaf with config:\n",
      "\u001b[34m\u001b[1mwandb\u001b[0m: \tcolsample_bytree: 1\n",
      "\u001b[34m\u001b[1mwandb\u001b[0m: \tlags: 8\n",
      "\u001b[34m\u001b[1mwandb\u001b[0m: \tlags_future_covariates: [0, 4]\n",
      "\u001b[34m\u001b[1mwandb\u001b[0m: \tlags_past_covariates: 8\n",
      "\u001b[34m\u001b[1mwandb\u001b[0m: \tlearning_rate: 0.01\n",
      "\u001b[34m\u001b[1mwandb\u001b[0m: \tmax_bin: 1024\n",
      "\u001b[34m\u001b[1mwandb\u001b[0m: \tmax_depth: -1\n",
      "\u001b[34m\u001b[1mwandb\u001b[0m: \tmin_child_samples: 20\n",
      "\u001b[34m\u001b[1mwandb\u001b[0m: \tmin_split_gain: 0.1\n",
      "\u001b[34m\u001b[1mwandb\u001b[0m: \tmodel: lightgbm\n",
      "\u001b[34m\u001b[1mwandb\u001b[0m: \tmultiple_series: False\n",
      "\u001b[34m\u001b[1mwandb\u001b[0m: \tn_estimators: 2000\n",
      "\u001b[34m\u001b[1mwandb\u001b[0m: \tnum_leaves: 50\n",
      "\u001b[34m\u001b[1mwandb\u001b[0m: \treg_alpha: 0\n",
      "\u001b[34m\u001b[1mwandb\u001b[0m: \treg_lambda: 0\n",
      "\u001b[34m\u001b[1mwandb\u001b[0m: \tsubsample: 1\n",
      "\u001b[34m\u001b[1mwandb\u001b[0m: \tsubsample_freq: 0\n",
      "\u001b[34m\u001b[1mwandb\u001b[0m: \tuse_covariates: True\n",
      "\u001b[34m\u001b[1mwandb\u001b[0m: \tuse_encoders: False\n",
      "\u001b[34m\u001b[1mwandb\u001b[0m: \tuse_features: False\n",
      "\u001b[34m\u001b[1mwandb\u001b[0m: \tuse_static_covariates: False\n",
      "Failed to detect the name of this notebook, you can set it manually with the WANDB_NOTEBOOK_NAME environment variable to enable code saving.\n"
     ]
    },
    {
     "data": {
      "text/html": [
       "Tracking run with wandb version 0.18.0"
      ],
      "text/plain": [
       "<IPython.core.display.HTML object>"
      ]
     },
     "metadata": {},
     "output_type": "display_data"
    },
    {
     "data": {
      "text/html": [
       "Run data is saved locally in <code>/home/wolffram/SARI-ML/realtime/wandb/run-20241001_202631-u7e7gwaf</code>"
      ],
      "text/plain": [
       "<IPython.core.display.HTML object>"
      ]
     },
     "metadata": {},
     "output_type": "display_data"
    },
    {
     "data": {
      "text/html": [
       "Syncing run <strong><a href='https://wandb.ai/dwolffram-karlsruhe-institute-of-technology/realtime-lightgbm-expanding-window/runs/u7e7gwaf' target=\"_blank\">spring-sweep-16</a></strong> to <a href='https://wandb.ai/dwolffram-karlsruhe-institute-of-technology/realtime-lightgbm-expanding-window' target=\"_blank\">Weights & Biases</a> (<a href='https://wandb.me/run' target=\"_blank\">docs</a>)<br/>Sweep page: <a href='https://wandb.ai/dwolffram-karlsruhe-institute-of-technology/realtime-lightgbm-expanding-window/sweeps/rbid04k0' target=\"_blank\">https://wandb.ai/dwolffram-karlsruhe-institute-of-technology/realtime-lightgbm-expanding-window/sweeps/rbid04k0</a>"
      ],
      "text/plain": [
       "<IPython.core.display.HTML object>"
      ]
     },
     "metadata": {},
     "output_type": "display_data"
    },
    {
     "data": {
      "text/html": [
       " View project at <a href='https://wandb.ai/dwolffram-karlsruhe-institute-of-technology/realtime-lightgbm-expanding-window' target=\"_blank\">https://wandb.ai/dwolffram-karlsruhe-institute-of-technology/realtime-lightgbm-expanding-window</a>"
      ],
      "text/plain": [
       "<IPython.core.display.HTML object>"
      ]
     },
     "metadata": {},
     "output_type": "display_data"
    },
    {
     "data": {
      "text/html": [
       " View sweep at <a href='https://wandb.ai/dwolffram-karlsruhe-institute-of-technology/realtime-lightgbm-expanding-window/sweeps/rbid04k0' target=\"_blank\">https://wandb.ai/dwolffram-karlsruhe-institute-of-technology/realtime-lightgbm-expanding-window/sweeps/rbid04k0</a>"
      ],
      "text/plain": [
       "<IPython.core.display.HTML object>"
      ]
     },
     "metadata": {},
     "output_type": "display_data"
    },
    {
     "data": {
      "text/html": [
       " View run at <a href='https://wandb.ai/dwolffram-karlsruhe-institute-of-technology/realtime-lightgbm-expanding-window/runs/u7e7gwaf' target=\"_blank\">https://wandb.ai/dwolffram-karlsruhe-institute-of-technology/realtime-lightgbm-expanding-window/runs/u7e7gwaf</a>"
      ],
      "text/plain": [
       "<IPython.core.display.HTML object>"
      ]
     },
     "metadata": {},
     "output_type": "display_data"
    },
    {
     "data": {
      "application/vnd.jupyter.widget-view+json": {
       "model_id": "afb110bcaaf940e09d50efc079cc161a",
       "version_major": 2,
       "version_minor": 0
      },
      "text/plain": [
       "VBox(children=(Label(value='0.005 MB of 0.005 MB uploaded\\r'), FloatProgress(value=1.0, max=1.0)))"
      ]
     },
     "metadata": {},
     "output_type": "display_data"
    },
    {
     "data": {
      "text/html": [
       "<style>\n",
       "    table.wandb td:nth-child(1) { padding: 0 10px; text-align: left ; width: auto;} td:nth-child(2) {text-align: left ; width: 100%}\n",
       "    .wandb-row { display: flex; flex-direction: row; flex-wrap: wrap; justify-content: flex-start; width: 100% }\n",
       "    .wandb-col { display: flex; flex-direction: column; flex-basis: 100%; flex: 1; padding: 10px; }\n",
       "    </style>\n",
       "<div class=\"wandb-row\"><div class=\"wandb-col\"><h3>Run history:</h3><br/><table class=\"wandb\"><tr><td>WIS</td><td>▁</td></tr><tr><td>WIS_2018</td><td>▁</td></tr><tr><td>WIS_2019</td><td>▁</td></tr><tr><td>WIS_2022</td><td>▁</td></tr><tr><td>WIS_2023</td><td>▁</td></tr><tr><td>WIS_std</td><td>▁</td></tr></table><br/></div><div class=\"wandb-col\"><h3>Run summary:</h3><br/><table class=\"wandb\"><tr><td>WIS</td><td>349.31768</td></tr><tr><td>WIS_2018</td><td>237.32226</td></tr><tr><td>WIS_2019</td><td>284.4376</td></tr><tr><td>WIS_2022</td><td>469.10185</td></tr><tr><td>WIS_2023</td><td>406.40902</td></tr><tr><td>WIS_std</td><td>92.68234</td></tr></table><br/></div></div>"
      ],
      "text/plain": [
       "<IPython.core.display.HTML object>"
      ]
     },
     "metadata": {},
     "output_type": "display_data"
    },
    {
     "data": {
      "text/html": [
       " View run <strong style=\"color:#cdcd00\">spring-sweep-16</strong> at: <a href='https://wandb.ai/dwolffram-karlsruhe-institute-of-technology/realtime-lightgbm-expanding-window/runs/u7e7gwaf' target=\"_blank\">https://wandb.ai/dwolffram-karlsruhe-institute-of-technology/realtime-lightgbm-expanding-window/runs/u7e7gwaf</a><br/> View project at: <a href='https://wandb.ai/dwolffram-karlsruhe-institute-of-technology/realtime-lightgbm-expanding-window' target=\"_blank\">https://wandb.ai/dwolffram-karlsruhe-institute-of-technology/realtime-lightgbm-expanding-window</a><br/>Synced 5 W&B file(s), 0 media file(s), 0 artifact file(s) and 0 other file(s)"
      ],
      "text/plain": [
       "<IPython.core.display.HTML object>"
      ]
     },
     "metadata": {},
     "output_type": "display_data"
    },
    {
     "data": {
      "text/html": [
       "Find logs at: <code>./wandb/run-20241001_202631-u7e7gwaf/logs</code>"
      ],
      "text/plain": [
       "<IPython.core.display.HTML object>"
      ]
     },
     "metadata": {},
     "output_type": "display_data"
    },
    {
     "name": "stderr",
     "output_type": "stream",
     "text": [
      "\u001b[34m\u001b[1mwandb\u001b[0m: Agent Starting Run: mergu3r0 with config:\n",
      "\u001b[34m\u001b[1mwandb\u001b[0m: \tcolsample_bytree: 1\n",
      "\u001b[34m\u001b[1mwandb\u001b[0m: \tlags: 8\n",
      "\u001b[34m\u001b[1mwandb\u001b[0m: \tlags_future_covariates: [0, 4]\n",
      "\u001b[34m\u001b[1mwandb\u001b[0m: \tlags_past_covariates: 8\n",
      "\u001b[34m\u001b[1mwandb\u001b[0m: \tlearning_rate: 0.1\n",
      "\u001b[34m\u001b[1mwandb\u001b[0m: \tmax_bin: 2048\n",
      "\u001b[34m\u001b[1mwandb\u001b[0m: \tmax_depth: -1\n",
      "\u001b[34m\u001b[1mwandb\u001b[0m: \tmin_child_samples: 10\n",
      "\u001b[34m\u001b[1mwandb\u001b[0m: \tmin_split_gain: 0\n",
      "\u001b[34m\u001b[1mwandb\u001b[0m: \tmodel: lightgbm\n",
      "\u001b[34m\u001b[1mwandb\u001b[0m: \tmultiple_series: False\n",
      "\u001b[34m\u001b[1mwandb\u001b[0m: \tn_estimators: 2000\n",
      "\u001b[34m\u001b[1mwandb\u001b[0m: \tnum_leaves: 31\n",
      "\u001b[34m\u001b[1mwandb\u001b[0m: \treg_alpha: 0\n",
      "\u001b[34m\u001b[1mwandb\u001b[0m: \treg_lambda: 0\n",
      "\u001b[34m\u001b[1mwandb\u001b[0m: \tsubsample: 1\n",
      "\u001b[34m\u001b[1mwandb\u001b[0m: \tsubsample_freq: 0\n",
      "\u001b[34m\u001b[1mwandb\u001b[0m: \tuse_covariates: False\n",
      "\u001b[34m\u001b[1mwandb\u001b[0m: \tuse_encoders: False\n",
      "\u001b[34m\u001b[1mwandb\u001b[0m: \tuse_features: False\n",
      "\u001b[34m\u001b[1mwandb\u001b[0m: \tuse_static_covariates: False\n",
      "Failed to detect the name of this notebook, you can set it manually with the WANDB_NOTEBOOK_NAME environment variable to enable code saving.\n",
      "\u001b[34m\u001b[1mwandb\u001b[0m: W&B API key is configured. Use \u001b[1m`wandb login --relogin`\u001b[0m to force relogin\n"
     ]
    },
    {
     "data": {
      "text/html": [
       "Tracking run with wandb version 0.18.0"
      ],
      "text/plain": [
       "<IPython.core.display.HTML object>"
      ]
     },
     "metadata": {},
     "output_type": "display_data"
    },
    {
     "data": {
      "text/html": [
       "Run data is saved locally in <code>/home/wolffram/SARI-ML/realtime/wandb/run-20241001_203339-mergu3r0</code>"
      ],
      "text/plain": [
       "<IPython.core.display.HTML object>"
      ]
     },
     "metadata": {},
     "output_type": "display_data"
    },
    {
     "data": {
      "text/html": [
       "Syncing run <strong><a href='https://wandb.ai/dwolffram-karlsruhe-institute-of-technology/realtime-lightgbm-expanding-window/runs/mergu3r0' target=\"_blank\">morning-sweep-17</a></strong> to <a href='https://wandb.ai/dwolffram-karlsruhe-institute-of-technology/realtime-lightgbm-expanding-window' target=\"_blank\">Weights & Biases</a> (<a href='https://wandb.me/run' target=\"_blank\">docs</a>)<br/>Sweep page: <a href='https://wandb.ai/dwolffram-karlsruhe-institute-of-technology/realtime-lightgbm-expanding-window/sweeps/rbid04k0' target=\"_blank\">https://wandb.ai/dwolffram-karlsruhe-institute-of-technology/realtime-lightgbm-expanding-window/sweeps/rbid04k0</a>"
      ],
      "text/plain": [
       "<IPython.core.display.HTML object>"
      ]
     },
     "metadata": {},
     "output_type": "display_data"
    },
    {
     "data": {
      "text/html": [
       " View project at <a href='https://wandb.ai/dwolffram-karlsruhe-institute-of-technology/realtime-lightgbm-expanding-window' target=\"_blank\">https://wandb.ai/dwolffram-karlsruhe-institute-of-technology/realtime-lightgbm-expanding-window</a>"
      ],
      "text/plain": [
       "<IPython.core.display.HTML object>"
      ]
     },
     "metadata": {},
     "output_type": "display_data"
    },
    {
     "data": {
      "text/html": [
       " View sweep at <a href='https://wandb.ai/dwolffram-karlsruhe-institute-of-technology/realtime-lightgbm-expanding-window/sweeps/rbid04k0' target=\"_blank\">https://wandb.ai/dwolffram-karlsruhe-institute-of-technology/realtime-lightgbm-expanding-window/sweeps/rbid04k0</a>"
      ],
      "text/plain": [
       "<IPython.core.display.HTML object>"
      ]
     },
     "metadata": {},
     "output_type": "display_data"
    },
    {
     "data": {
      "text/html": [
       " View run at <a href='https://wandb.ai/dwolffram-karlsruhe-institute-of-technology/realtime-lightgbm-expanding-window/runs/mergu3r0' target=\"_blank\">https://wandb.ai/dwolffram-karlsruhe-institute-of-technology/realtime-lightgbm-expanding-window/runs/mergu3r0</a>"
      ],
      "text/plain": [
       "<IPython.core.display.HTML object>"
      ]
     },
     "metadata": {},
     "output_type": "display_data"
    },
    {
     "data": {
      "application/vnd.jupyter.widget-view+json": {
       "model_id": "40236184a4864731bea5e03576882296",
       "version_major": 2,
       "version_minor": 0
      },
      "text/plain": [
       "VBox(children=(Label(value='0.005 MB of 0.005 MB uploaded\\r'), FloatProgress(value=1.0, max=1.0)))"
      ]
     },
     "metadata": {},
     "output_type": "display_data"
    },
    {
     "data": {
      "text/html": [
       "<style>\n",
       "    table.wandb td:nth-child(1) { padding: 0 10px; text-align: left ; width: auto;} td:nth-child(2) {text-align: left ; width: 100%}\n",
       "    .wandb-row { display: flex; flex-direction: row; flex-wrap: wrap; justify-content: flex-start; width: 100% }\n",
       "    .wandb-col { display: flex; flex-direction: column; flex-basis: 100%; flex: 1; padding: 10px; }\n",
       "    </style>\n",
       "<div class=\"wandb-row\"><div class=\"wandb-col\"><h3>Run history:</h3><br/><table class=\"wandb\"><tr><td>WIS</td><td>▁</td></tr><tr><td>WIS_2018</td><td>▁</td></tr><tr><td>WIS_2019</td><td>▁</td></tr><tr><td>WIS_2022</td><td>▁</td></tr><tr><td>WIS_2023</td><td>▁</td></tr><tr><td>WIS_std</td><td>▁</td></tr></table><br/></div><div class=\"wandb-col\"><h3>Run summary:</h3><br/><table class=\"wandb\"><tr><td>WIS</td><td>389.80013</td></tr><tr><td>WIS_2018</td><td>269.14277</td></tr><tr><td>WIS_2019</td><td>291.08903</td></tr><tr><td>WIS_2022</td><td>542.73893</td></tr><tr><td>WIS_2023</td><td>456.2298</td></tr><tr><td>WIS_std</td><td>114.13288</td></tr></table><br/></div></div>"
      ],
      "text/plain": [
       "<IPython.core.display.HTML object>"
      ]
     },
     "metadata": {},
     "output_type": "display_data"
    },
    {
     "data": {
      "text/html": [
       " View run <strong style=\"color:#cdcd00\">morning-sweep-17</strong> at: <a href='https://wandb.ai/dwolffram-karlsruhe-institute-of-technology/realtime-lightgbm-expanding-window/runs/mergu3r0' target=\"_blank\">https://wandb.ai/dwolffram-karlsruhe-institute-of-technology/realtime-lightgbm-expanding-window/runs/mergu3r0</a><br/> View project at: <a href='https://wandb.ai/dwolffram-karlsruhe-institute-of-technology/realtime-lightgbm-expanding-window' target=\"_blank\">https://wandb.ai/dwolffram-karlsruhe-institute-of-technology/realtime-lightgbm-expanding-window</a><br/>Synced 5 W&B file(s), 0 media file(s), 0 artifact file(s) and 0 other file(s)"
      ],
      "text/plain": [
       "<IPython.core.display.HTML object>"
      ]
     },
     "metadata": {},
     "output_type": "display_data"
    },
    {
     "data": {
      "text/html": [
       "Find logs at: <code>./wandb/run-20241001_203339-mergu3r0/logs</code>"
      ],
      "text/plain": [
       "<IPython.core.display.HTML object>"
      ]
     },
     "metadata": {},
     "output_type": "display_data"
    },
    {
     "name": "stderr",
     "output_type": "stream",
     "text": [
      "\u001b[34m\u001b[1mwandb\u001b[0m: Agent Starting Run: 8p8r72jz with config:\n",
      "\u001b[34m\u001b[1mwandb\u001b[0m: \tcolsample_bytree: 1\n",
      "\u001b[34m\u001b[1mwandb\u001b[0m: \tlags: 8\n",
      "\u001b[34m\u001b[1mwandb\u001b[0m: \tlags_future_covariates: [0, 4]\n",
      "\u001b[34m\u001b[1mwandb\u001b[0m: \tlags_past_covariates: 8\n",
      "\u001b[34m\u001b[1mwandb\u001b[0m: \tlearning_rate: 0.005\n",
      "\u001b[34m\u001b[1mwandb\u001b[0m: \tmax_bin: 510\n",
      "\u001b[34m\u001b[1mwandb\u001b[0m: \tmax_depth: 5\n",
      "\u001b[34m\u001b[1mwandb\u001b[0m: \tmin_child_samples: 10\n",
      "\u001b[34m\u001b[1mwandb\u001b[0m: \tmin_split_gain: 0\n",
      "\u001b[34m\u001b[1mwandb\u001b[0m: \tmodel: lightgbm\n",
      "\u001b[34m\u001b[1mwandb\u001b[0m: \tmultiple_series: False\n",
      "\u001b[34m\u001b[1mwandb\u001b[0m: \tn_estimators: 250\n",
      "\u001b[34m\u001b[1mwandb\u001b[0m: \tnum_leaves: 31\n",
      "\u001b[34m\u001b[1mwandb\u001b[0m: \treg_alpha: 0\n",
      "\u001b[34m\u001b[1mwandb\u001b[0m: \treg_lambda: 0\n",
      "\u001b[34m\u001b[1mwandb\u001b[0m: \tsubsample: 1\n",
      "\u001b[34m\u001b[1mwandb\u001b[0m: \tsubsample_freq: 0\n",
      "\u001b[34m\u001b[1mwandb\u001b[0m: \tuse_covariates: True\n",
      "\u001b[34m\u001b[1mwandb\u001b[0m: \tuse_encoders: False\n",
      "\u001b[34m\u001b[1mwandb\u001b[0m: \tuse_features: False\n",
      "\u001b[34m\u001b[1mwandb\u001b[0m: \tuse_static_covariates: False\n",
      "Failed to detect the name of this notebook, you can set it manually with the WANDB_NOTEBOOK_NAME environment variable to enable code saving.\n"
     ]
    },
    {
     "data": {
      "text/html": [
       "Tracking run with wandb version 0.18.0"
      ],
      "text/plain": [
       "<IPython.core.display.HTML object>"
      ]
     },
     "metadata": {},
     "output_type": "display_data"
    },
    {
     "data": {
      "text/html": [
       "Run data is saved locally in <code>/home/wolffram/SARI-ML/realtime/wandb/run-20241001_204519-8p8r72jz</code>"
      ],
      "text/plain": [
       "<IPython.core.display.HTML object>"
      ]
     },
     "metadata": {},
     "output_type": "display_data"
    },
    {
     "data": {
      "text/html": [
       "Syncing run <strong><a href='https://wandb.ai/dwolffram-karlsruhe-institute-of-technology/realtime-lightgbm-expanding-window/runs/8p8r72jz' target=\"_blank\">mild-sweep-18</a></strong> to <a href='https://wandb.ai/dwolffram-karlsruhe-institute-of-technology/realtime-lightgbm-expanding-window' target=\"_blank\">Weights & Biases</a> (<a href='https://wandb.me/run' target=\"_blank\">docs</a>)<br/>Sweep page: <a href='https://wandb.ai/dwolffram-karlsruhe-institute-of-technology/realtime-lightgbm-expanding-window/sweeps/rbid04k0' target=\"_blank\">https://wandb.ai/dwolffram-karlsruhe-institute-of-technology/realtime-lightgbm-expanding-window/sweeps/rbid04k0</a>"
      ],
      "text/plain": [
       "<IPython.core.display.HTML object>"
      ]
     },
     "metadata": {},
     "output_type": "display_data"
    },
    {
     "data": {
      "text/html": [
       " View project at <a href='https://wandb.ai/dwolffram-karlsruhe-institute-of-technology/realtime-lightgbm-expanding-window' target=\"_blank\">https://wandb.ai/dwolffram-karlsruhe-institute-of-technology/realtime-lightgbm-expanding-window</a>"
      ],
      "text/plain": [
       "<IPython.core.display.HTML object>"
      ]
     },
     "metadata": {},
     "output_type": "display_data"
    },
    {
     "data": {
      "text/html": [
       " View sweep at <a href='https://wandb.ai/dwolffram-karlsruhe-institute-of-technology/realtime-lightgbm-expanding-window/sweeps/rbid04k0' target=\"_blank\">https://wandb.ai/dwolffram-karlsruhe-institute-of-technology/realtime-lightgbm-expanding-window/sweeps/rbid04k0</a>"
      ],
      "text/plain": [
       "<IPython.core.display.HTML object>"
      ]
     },
     "metadata": {},
     "output_type": "display_data"
    },
    {
     "data": {
      "text/html": [
       " View run at <a href='https://wandb.ai/dwolffram-karlsruhe-institute-of-technology/realtime-lightgbm-expanding-window/runs/8p8r72jz' target=\"_blank\">https://wandb.ai/dwolffram-karlsruhe-institute-of-technology/realtime-lightgbm-expanding-window/runs/8p8r72jz</a>"
      ],
      "text/plain": [
       "<IPython.core.display.HTML object>"
      ]
     },
     "metadata": {},
     "output_type": "display_data"
    },
    {
     "data": {
      "application/vnd.jupyter.widget-view+json": {
       "model_id": "e93bb43204c2436d8ef0084e8b7c2bfe",
       "version_major": 2,
       "version_minor": 0
      },
      "text/plain": [
       "VBox(children=(Label(value='0.005 MB of 0.005 MB uploaded\\r'), FloatProgress(value=1.0, max=1.0)))"
      ]
     },
     "metadata": {},
     "output_type": "display_data"
    },
    {
     "data": {
      "text/html": [
       "<style>\n",
       "    table.wandb td:nth-child(1) { padding: 0 10px; text-align: left ; width: auto;} td:nth-child(2) {text-align: left ; width: 100%}\n",
       "    .wandb-row { display: flex; flex-direction: row; flex-wrap: wrap; justify-content: flex-start; width: 100% }\n",
       "    .wandb-col { display: flex; flex-direction: column; flex-basis: 100%; flex: 1; padding: 10px; }\n",
       "    </style>\n",
       "<div class=\"wandb-row\"><div class=\"wandb-col\"><h3>Run history:</h3><br/><table class=\"wandb\"><tr><td>WIS</td><td>▁</td></tr><tr><td>WIS_2018</td><td>▁</td></tr><tr><td>WIS_2019</td><td>▁</td></tr><tr><td>WIS_2022</td><td>▁</td></tr><tr><td>WIS_2023</td><td>▁</td></tr><tr><td>WIS_std</td><td>▁</td></tr></table><br/></div><div class=\"wandb-col\"><h3>Run summary:</h3><br/><table class=\"wandb\"><tr><td>WIS</td><td>465.78854</td></tr><tr><td>WIS_2018</td><td>341.71955</td></tr><tr><td>WIS_2019</td><td>407.88327</td></tr><tr><td>WIS_2022</td><td>583.25552</td></tr><tr><td>WIS_2023</td><td>530.29581</td></tr><tr><td>WIS_std</td><td>95.79381</td></tr></table><br/></div></div>"
      ],
      "text/plain": [
       "<IPython.core.display.HTML object>"
      ]
     },
     "metadata": {},
     "output_type": "display_data"
    },
    {
     "data": {
      "text/html": [
       " View run <strong style=\"color:#cdcd00\">mild-sweep-18</strong> at: <a href='https://wandb.ai/dwolffram-karlsruhe-institute-of-technology/realtime-lightgbm-expanding-window/runs/8p8r72jz' target=\"_blank\">https://wandb.ai/dwolffram-karlsruhe-institute-of-technology/realtime-lightgbm-expanding-window/runs/8p8r72jz</a><br/> View project at: <a href='https://wandb.ai/dwolffram-karlsruhe-institute-of-technology/realtime-lightgbm-expanding-window' target=\"_blank\">https://wandb.ai/dwolffram-karlsruhe-institute-of-technology/realtime-lightgbm-expanding-window</a><br/>Synced 5 W&B file(s), 0 media file(s), 0 artifact file(s) and 0 other file(s)"
      ],
      "text/plain": [
       "<IPython.core.display.HTML object>"
      ]
     },
     "metadata": {},
     "output_type": "display_data"
    },
    {
     "data": {
      "text/html": [
       "Find logs at: <code>./wandb/run-20241001_204519-8p8r72jz/logs</code>"
      ],
      "text/plain": [
       "<IPython.core.display.HTML object>"
      ]
     },
     "metadata": {},
     "output_type": "display_data"
    },
    {
     "name": "stderr",
     "output_type": "stream",
     "text": [
      "\u001b[34m\u001b[1mwandb\u001b[0m: Agent Starting Run: 4or7lj4q with config:\n",
      "\u001b[34m\u001b[1mwandb\u001b[0m: \tcolsample_bytree: 1\n",
      "\u001b[34m\u001b[1mwandb\u001b[0m: \tlags: 8\n",
      "\u001b[34m\u001b[1mwandb\u001b[0m: \tlags_future_covariates: [0, 4]\n",
      "\u001b[34m\u001b[1mwandb\u001b[0m: \tlags_past_covariates: 8\n",
      "\u001b[34m\u001b[1mwandb\u001b[0m: \tlearning_rate: 0.2\n",
      "\u001b[34m\u001b[1mwandb\u001b[0m: \tmax_bin: 510\n",
      "\u001b[34m\u001b[1mwandb\u001b[0m: \tmax_depth: 5\n",
      "\u001b[34m\u001b[1mwandb\u001b[0m: \tmin_child_samples: 10\n",
      "\u001b[34m\u001b[1mwandb\u001b[0m: \tmin_split_gain: 0\n",
      "\u001b[34m\u001b[1mwandb\u001b[0m: \tmodel: lightgbm\n",
      "\u001b[34m\u001b[1mwandb\u001b[0m: \tmultiple_series: False\n",
      "\u001b[34m\u001b[1mwandb\u001b[0m: \tn_estimators: 2000\n",
      "\u001b[34m\u001b[1mwandb\u001b[0m: \tnum_leaves: 50\n",
      "\u001b[34m\u001b[1mwandb\u001b[0m: \treg_alpha: 0\n",
      "\u001b[34m\u001b[1mwandb\u001b[0m: \treg_lambda: 0\n",
      "\u001b[34m\u001b[1mwandb\u001b[0m: \tsubsample: 1\n",
      "\u001b[34m\u001b[1mwandb\u001b[0m: \tsubsample_freq: 0\n",
      "\u001b[34m\u001b[1mwandb\u001b[0m: \tuse_covariates: False\n",
      "\u001b[34m\u001b[1mwandb\u001b[0m: \tuse_encoders: True\n",
      "\u001b[34m\u001b[1mwandb\u001b[0m: \tuse_features: False\n",
      "\u001b[34m\u001b[1mwandb\u001b[0m: \tuse_static_covariates: False\n",
      "Failed to detect the name of this notebook, you can set it manually with the WANDB_NOTEBOOK_NAME environment variable to enable code saving.\n"
     ]
    },
    {
     "data": {
      "application/vnd.jupyter.widget-view+json": {
       "model_id": "5e6abb7f9ac74309994476b63a331539",
       "version_major": 2,
       "version_minor": 0
      },
      "text/plain": [
       "VBox(children=(Label(value='Waiting for wandb.init()...\\r'), FloatProgress(value=0.011113189424698551, max=1.0…"
      ]
     },
     "metadata": {},
     "output_type": "display_data"
    },
    {
     "data": {
      "text/html": [
       "Tracking run with wandb version 0.18.0"
      ],
      "text/plain": [
       "<IPython.core.display.HTML object>"
      ]
     },
     "metadata": {},
     "output_type": "display_data"
    },
    {
     "data": {
      "text/html": [
       "Run data is saved locally in <code>/home/wolffram/SARI-ML/realtime/wandb/run-20241001_204657-4or7lj4q</code>"
      ],
      "text/plain": [
       "<IPython.core.display.HTML object>"
      ]
     },
     "metadata": {},
     "output_type": "display_data"
    },
    {
     "data": {
      "text/html": [
       "Syncing run <strong><a href='https://wandb.ai/dwolffram-karlsruhe-institute-of-technology/realtime-lightgbm-expanding-window/runs/4or7lj4q' target=\"_blank\">earnest-sweep-19</a></strong> to <a href='https://wandb.ai/dwolffram-karlsruhe-institute-of-technology/realtime-lightgbm-expanding-window' target=\"_blank\">Weights & Biases</a> (<a href='https://wandb.me/run' target=\"_blank\">docs</a>)<br/>Sweep page: <a href='https://wandb.ai/dwolffram-karlsruhe-institute-of-technology/realtime-lightgbm-expanding-window/sweeps/rbid04k0' target=\"_blank\">https://wandb.ai/dwolffram-karlsruhe-institute-of-technology/realtime-lightgbm-expanding-window/sweeps/rbid04k0</a>"
      ],
      "text/plain": [
       "<IPython.core.display.HTML object>"
      ]
     },
     "metadata": {},
     "output_type": "display_data"
    },
    {
     "data": {
      "text/html": [
       " View project at <a href='https://wandb.ai/dwolffram-karlsruhe-institute-of-technology/realtime-lightgbm-expanding-window' target=\"_blank\">https://wandb.ai/dwolffram-karlsruhe-institute-of-technology/realtime-lightgbm-expanding-window</a>"
      ],
      "text/plain": [
       "<IPython.core.display.HTML object>"
      ]
     },
     "metadata": {},
     "output_type": "display_data"
    },
    {
     "data": {
      "text/html": [
       " View sweep at <a href='https://wandb.ai/dwolffram-karlsruhe-institute-of-technology/realtime-lightgbm-expanding-window/sweeps/rbid04k0' target=\"_blank\">https://wandb.ai/dwolffram-karlsruhe-institute-of-technology/realtime-lightgbm-expanding-window/sweeps/rbid04k0</a>"
      ],
      "text/plain": [
       "<IPython.core.display.HTML object>"
      ]
     },
     "metadata": {},
     "output_type": "display_data"
    },
    {
     "data": {
      "text/html": [
       " View run at <a href='https://wandb.ai/dwolffram-karlsruhe-institute-of-technology/realtime-lightgbm-expanding-window/runs/4or7lj4q' target=\"_blank\">https://wandb.ai/dwolffram-karlsruhe-institute-of-technology/realtime-lightgbm-expanding-window/runs/4or7lj4q</a>"
      ],
      "text/plain": [
       "<IPython.core.display.HTML object>"
      ]
     },
     "metadata": {},
     "output_type": "display_data"
    },
    {
     "data": {
      "application/vnd.jupyter.widget-view+json": {
       "model_id": "c4c098a747274b74bd61587f51c72aa1",
       "version_major": 2,
       "version_minor": 0
      },
      "text/plain": [
       "VBox(children=(Label(value='0.005 MB of 0.005 MB uploaded\\r'), FloatProgress(value=1.0, max=1.0)))"
      ]
     },
     "metadata": {},
     "output_type": "display_data"
    },
    {
     "data": {
      "text/html": [
       "<style>\n",
       "    table.wandb td:nth-child(1) { padding: 0 10px; text-align: left ; width: auto;} td:nth-child(2) {text-align: left ; width: 100%}\n",
       "    .wandb-row { display: flex; flex-direction: row; flex-wrap: wrap; justify-content: flex-start; width: 100% }\n",
       "    .wandb-col { display: flex; flex-direction: column; flex-basis: 100%; flex: 1; padding: 10px; }\n",
       "    </style>\n",
       "<div class=\"wandb-row\"><div class=\"wandb-col\"><h3>Run history:</h3><br/><table class=\"wandb\"><tr><td>WIS</td><td>▁</td></tr><tr><td>WIS_2018</td><td>▁</td></tr><tr><td>WIS_2019</td><td>▁</td></tr><tr><td>WIS_2022</td><td>▁</td></tr><tr><td>WIS_2023</td><td>▁</td></tr><tr><td>WIS_std</td><td>▁</td></tr></table><br/></div><div class=\"wandb-col\"><h3>Run summary:</h3><br/><table class=\"wandb\"><tr><td>WIS</td><td>364.58911</td></tr><tr><td>WIS_2018</td><td>220.57825</td></tr><tr><td>WIS_2019</td><td>283.21602</td></tr><tr><td>WIS_2022</td><td>522.42129</td></tr><tr><td>WIS_2023</td><td>432.14087</td></tr><tr><td>WIS_std</td><td>119.2004</td></tr></table><br/></div></div>"
      ],
      "text/plain": [
       "<IPython.core.display.HTML object>"
      ]
     },
     "metadata": {},
     "output_type": "display_data"
    },
    {
     "data": {
      "text/html": [
       " View run <strong style=\"color:#cdcd00\">earnest-sweep-19</strong> at: <a href='https://wandb.ai/dwolffram-karlsruhe-institute-of-technology/realtime-lightgbm-expanding-window/runs/4or7lj4q' target=\"_blank\">https://wandb.ai/dwolffram-karlsruhe-institute-of-technology/realtime-lightgbm-expanding-window/runs/4or7lj4q</a><br/> View project at: <a href='https://wandb.ai/dwolffram-karlsruhe-institute-of-technology/realtime-lightgbm-expanding-window' target=\"_blank\">https://wandb.ai/dwolffram-karlsruhe-institute-of-technology/realtime-lightgbm-expanding-window</a><br/>Synced 5 W&B file(s), 0 media file(s), 0 artifact file(s) and 0 other file(s)"
      ],
      "text/plain": [
       "<IPython.core.display.HTML object>"
      ]
     },
     "metadata": {},
     "output_type": "display_data"
    },
    {
     "data": {
      "text/html": [
       "Find logs at: <code>./wandb/run-20241001_204657-4or7lj4q/logs</code>"
      ],
      "text/plain": [
       "<IPython.core.display.HTML object>"
      ]
     },
     "metadata": {},
     "output_type": "display_data"
    },
    {
     "name": "stderr",
     "output_type": "stream",
     "text": [
      "\u001b[34m\u001b[1mwandb\u001b[0m: Agent Starting Run: 6zald5t8 with config:\n",
      "\u001b[34m\u001b[1mwandb\u001b[0m: \tcolsample_bytree: 1\n",
      "\u001b[34m\u001b[1mwandb\u001b[0m: \tlags: 8\n",
      "\u001b[34m\u001b[1mwandb\u001b[0m: \tlags_future_covariates: [0, 4]\n",
      "\u001b[34m\u001b[1mwandb\u001b[0m: \tlags_past_covariates: 8\n",
      "\u001b[34m\u001b[1mwandb\u001b[0m: \tlearning_rate: 0.2\n",
      "\u001b[34m\u001b[1mwandb\u001b[0m: \tmax_bin: 1024\n",
      "\u001b[34m\u001b[1mwandb\u001b[0m: \tmax_depth: -1\n",
      "\u001b[34m\u001b[1mwandb\u001b[0m: \tmin_child_samples: 30\n",
      "\u001b[34m\u001b[1mwandb\u001b[0m: \tmin_split_gain: 0\n",
      "\u001b[34m\u001b[1mwandb\u001b[0m: \tmodel: lightgbm\n",
      "\u001b[34m\u001b[1mwandb\u001b[0m: \tmultiple_series: False\n",
      "\u001b[34m\u001b[1mwandb\u001b[0m: \tn_estimators: 500\n",
      "\u001b[34m\u001b[1mwandb\u001b[0m: \tnum_leaves: 10\n",
      "\u001b[34m\u001b[1mwandb\u001b[0m: \treg_alpha: 0\n",
      "\u001b[34m\u001b[1mwandb\u001b[0m: \treg_lambda: 0\n",
      "\u001b[34m\u001b[1mwandb\u001b[0m: \tsubsample: 1\n",
      "\u001b[34m\u001b[1mwandb\u001b[0m: \tsubsample_freq: 0\n",
      "\u001b[34m\u001b[1mwandb\u001b[0m: \tuse_covariates: True\n",
      "\u001b[34m\u001b[1mwandb\u001b[0m: \tuse_encoders: True\n",
      "\u001b[34m\u001b[1mwandb\u001b[0m: \tuse_features: False\n",
      "\u001b[34m\u001b[1mwandb\u001b[0m: \tuse_static_covariates: False\n",
      "Failed to detect the name of this notebook, you can set it manually with the WANDB_NOTEBOOK_NAME environment variable to enable code saving.\n"
     ]
    },
    {
     "data": {
      "text/html": [
       "Tracking run with wandb version 0.18.0"
      ],
      "text/plain": [
       "<IPython.core.display.HTML object>"
      ]
     },
     "metadata": {},
     "output_type": "display_data"
    },
    {
     "data": {
      "text/html": [
       "Run data is saved locally in <code>/home/wolffram/SARI-ML/realtime/wandb/run-20241001_205514-6zald5t8</code>"
      ],
      "text/plain": [
       "<IPython.core.display.HTML object>"
      ]
     },
     "metadata": {},
     "output_type": "display_data"
    },
    {
     "data": {
      "text/html": [
       "Syncing run <strong><a href='https://wandb.ai/dwolffram-karlsruhe-institute-of-technology/realtime-lightgbm-expanding-window/runs/6zald5t8' target=\"_blank\">olive-sweep-20</a></strong> to <a href='https://wandb.ai/dwolffram-karlsruhe-institute-of-technology/realtime-lightgbm-expanding-window' target=\"_blank\">Weights & Biases</a> (<a href='https://wandb.me/run' target=\"_blank\">docs</a>)<br/>Sweep page: <a href='https://wandb.ai/dwolffram-karlsruhe-institute-of-technology/realtime-lightgbm-expanding-window/sweeps/rbid04k0' target=\"_blank\">https://wandb.ai/dwolffram-karlsruhe-institute-of-technology/realtime-lightgbm-expanding-window/sweeps/rbid04k0</a>"
      ],
      "text/plain": [
       "<IPython.core.display.HTML object>"
      ]
     },
     "metadata": {},
     "output_type": "display_data"
    },
    {
     "data": {
      "text/html": [
       " View project at <a href='https://wandb.ai/dwolffram-karlsruhe-institute-of-technology/realtime-lightgbm-expanding-window' target=\"_blank\">https://wandb.ai/dwolffram-karlsruhe-institute-of-technology/realtime-lightgbm-expanding-window</a>"
      ],
      "text/plain": [
       "<IPython.core.display.HTML object>"
      ]
     },
     "metadata": {},
     "output_type": "display_data"
    },
    {
     "data": {
      "text/html": [
       " View sweep at <a href='https://wandb.ai/dwolffram-karlsruhe-institute-of-technology/realtime-lightgbm-expanding-window/sweeps/rbid04k0' target=\"_blank\">https://wandb.ai/dwolffram-karlsruhe-institute-of-technology/realtime-lightgbm-expanding-window/sweeps/rbid04k0</a>"
      ],
      "text/plain": [
       "<IPython.core.display.HTML object>"
      ]
     },
     "metadata": {},
     "output_type": "display_data"
    },
    {
     "data": {
      "text/html": [
       " View run at <a href='https://wandb.ai/dwolffram-karlsruhe-institute-of-technology/realtime-lightgbm-expanding-window/runs/6zald5t8' target=\"_blank\">https://wandb.ai/dwolffram-karlsruhe-institute-of-technology/realtime-lightgbm-expanding-window/runs/6zald5t8</a>"
      ],
      "text/plain": [
       "<IPython.core.display.HTML object>"
      ]
     },
     "metadata": {},
     "output_type": "display_data"
    },
    {
     "data": {
      "application/vnd.jupyter.widget-view+json": {
       "model_id": "ba4deb5d5114459b951f598ed6ee5290",
       "version_major": 2,
       "version_minor": 0
      },
      "text/plain": [
       "VBox(children=(Label(value='0.005 MB of 0.005 MB uploaded\\r'), FloatProgress(value=1.0, max=1.0)))"
      ]
     },
     "metadata": {},
     "output_type": "display_data"
    },
    {
     "data": {
      "text/html": [
       "<style>\n",
       "    table.wandb td:nth-child(1) { padding: 0 10px; text-align: left ; width: auto;} td:nth-child(2) {text-align: left ; width: 100%}\n",
       "    .wandb-row { display: flex; flex-direction: row; flex-wrap: wrap; justify-content: flex-start; width: 100% }\n",
       "    .wandb-col { display: flex; flex-direction: column; flex-basis: 100%; flex: 1; padding: 10px; }\n",
       "    </style>\n",
       "<div class=\"wandb-row\"><div class=\"wandb-col\"><h3>Run history:</h3><br/><table class=\"wandb\"><tr><td>WIS</td><td>▁</td></tr><tr><td>WIS_2018</td><td>▁</td></tr><tr><td>WIS_2019</td><td>▁</td></tr><tr><td>WIS_2022</td><td>▁</td></tr><tr><td>WIS_2023</td><td>▁</td></tr><tr><td>WIS_std</td><td>▁</td></tr></table><br/></div><div class=\"wandb-col\"><h3>Run summary:</h3><br/><table class=\"wandb\"><tr><td>WIS</td><td>337.91044</td></tr><tr><td>WIS_2018</td><td>197.28834</td></tr><tr><td>WIS_2019</td><td>253.36509</td></tr><tr><td>WIS_2022</td><td>484.63661</td></tr><tr><td>WIS_2023</td><td>416.35174</td></tr><tr><td>WIS_std</td><td>116.8376</td></tr></table><br/></div></div>"
      ],
      "text/plain": [
       "<IPython.core.display.HTML object>"
      ]
     },
     "metadata": {},
     "output_type": "display_data"
    },
    {
     "data": {
      "text/html": [
       " View run <strong style=\"color:#cdcd00\">olive-sweep-20</strong> at: <a href='https://wandb.ai/dwolffram-karlsruhe-institute-of-technology/realtime-lightgbm-expanding-window/runs/6zald5t8' target=\"_blank\">https://wandb.ai/dwolffram-karlsruhe-institute-of-technology/realtime-lightgbm-expanding-window/runs/6zald5t8</a><br/> View project at: <a href='https://wandb.ai/dwolffram-karlsruhe-institute-of-technology/realtime-lightgbm-expanding-window' target=\"_blank\">https://wandb.ai/dwolffram-karlsruhe-institute-of-technology/realtime-lightgbm-expanding-window</a><br/>Synced 5 W&B file(s), 0 media file(s), 0 artifact file(s) and 0 other file(s)"
      ],
      "text/plain": [
       "<IPython.core.display.HTML object>"
      ]
     },
     "metadata": {},
     "output_type": "display_data"
    },
    {
     "data": {
      "text/html": [
       "Find logs at: <code>./wandb/run-20241001_205514-6zald5t8/logs</code>"
      ],
      "text/plain": [
       "<IPython.core.display.HTML object>"
      ]
     },
     "metadata": {},
     "output_type": "display_data"
    },
    {
     "name": "stderr",
     "output_type": "stream",
     "text": [
      "\u001b[34m\u001b[1mwandb\u001b[0m: Agent Starting Run: 46k2noxl with config:\n",
      "\u001b[34m\u001b[1mwandb\u001b[0m: \tcolsample_bytree: 1\n",
      "\u001b[34m\u001b[1mwandb\u001b[0m: \tlags: 8\n",
      "\u001b[34m\u001b[1mwandb\u001b[0m: \tlags_future_covariates: [0, 4]\n",
      "\u001b[34m\u001b[1mwandb\u001b[0m: \tlags_past_covariates: 8\n",
      "\u001b[34m\u001b[1mwandb\u001b[0m: \tlearning_rate: 0.01\n",
      "\u001b[34m\u001b[1mwandb\u001b[0m: \tmax_bin: 510\n",
      "\u001b[34m\u001b[1mwandb\u001b[0m: \tmax_depth: 15\n",
      "\u001b[34m\u001b[1mwandb\u001b[0m: \tmin_child_samples: 20\n",
      "\u001b[34m\u001b[1mwandb\u001b[0m: \tmin_split_gain: 0\n",
      "\u001b[34m\u001b[1mwandb\u001b[0m: \tmodel: lightgbm\n",
      "\u001b[34m\u001b[1mwandb\u001b[0m: \tmultiple_series: False\n",
      "\u001b[34m\u001b[1mwandb\u001b[0m: \tn_estimators: 5000\n",
      "\u001b[34m\u001b[1mwandb\u001b[0m: \tnum_leaves: 40\n",
      "\u001b[34m\u001b[1mwandb\u001b[0m: \treg_alpha: 0\n",
      "\u001b[34m\u001b[1mwandb\u001b[0m: \treg_lambda: 0\n",
      "\u001b[34m\u001b[1mwandb\u001b[0m: \tsubsample: 1\n",
      "\u001b[34m\u001b[1mwandb\u001b[0m: \tsubsample_freq: 0\n",
      "\u001b[34m\u001b[1mwandb\u001b[0m: \tuse_covariates: False\n",
      "\u001b[34m\u001b[1mwandb\u001b[0m: \tuse_encoders: True\n",
      "\u001b[34m\u001b[1mwandb\u001b[0m: \tuse_features: False\n",
      "\u001b[34m\u001b[1mwandb\u001b[0m: \tuse_static_covariates: False\n",
      "Failed to detect the name of this notebook, you can set it manually with the WANDB_NOTEBOOK_NAME environment variable to enable code saving.\n"
     ]
    },
    {
     "data": {
      "text/html": [
       "Tracking run with wandb version 0.18.0"
      ],
      "text/plain": [
       "<IPython.core.display.HTML object>"
      ]
     },
     "metadata": {},
     "output_type": "display_data"
    },
    {
     "data": {
      "text/html": [
       "Run data is saved locally in <code>/home/wolffram/SARI-ML/realtime/wandb/run-20241001_205723-46k2noxl</code>"
      ],
      "text/plain": [
       "<IPython.core.display.HTML object>"
      ]
     },
     "metadata": {},
     "output_type": "display_data"
    },
    {
     "data": {
      "text/html": [
       "Syncing run <strong><a href='https://wandb.ai/dwolffram-karlsruhe-institute-of-technology/realtime-lightgbm-expanding-window/runs/46k2noxl' target=\"_blank\">wise-sweep-21</a></strong> to <a href='https://wandb.ai/dwolffram-karlsruhe-institute-of-technology/realtime-lightgbm-expanding-window' target=\"_blank\">Weights & Biases</a> (<a href='https://wandb.me/run' target=\"_blank\">docs</a>)<br/>Sweep page: <a href='https://wandb.ai/dwolffram-karlsruhe-institute-of-technology/realtime-lightgbm-expanding-window/sweeps/rbid04k0' target=\"_blank\">https://wandb.ai/dwolffram-karlsruhe-institute-of-technology/realtime-lightgbm-expanding-window/sweeps/rbid04k0</a>"
      ],
      "text/plain": [
       "<IPython.core.display.HTML object>"
      ]
     },
     "metadata": {},
     "output_type": "display_data"
    },
    {
     "data": {
      "text/html": [
       " View project at <a href='https://wandb.ai/dwolffram-karlsruhe-institute-of-technology/realtime-lightgbm-expanding-window' target=\"_blank\">https://wandb.ai/dwolffram-karlsruhe-institute-of-technology/realtime-lightgbm-expanding-window</a>"
      ],
      "text/plain": [
       "<IPython.core.display.HTML object>"
      ]
     },
     "metadata": {},
     "output_type": "display_data"
    },
    {
     "data": {
      "text/html": [
       " View sweep at <a href='https://wandb.ai/dwolffram-karlsruhe-institute-of-technology/realtime-lightgbm-expanding-window/sweeps/rbid04k0' target=\"_blank\">https://wandb.ai/dwolffram-karlsruhe-institute-of-technology/realtime-lightgbm-expanding-window/sweeps/rbid04k0</a>"
      ],
      "text/plain": [
       "<IPython.core.display.HTML object>"
      ]
     },
     "metadata": {},
     "output_type": "display_data"
    },
    {
     "data": {
      "text/html": [
       " View run at <a href='https://wandb.ai/dwolffram-karlsruhe-institute-of-technology/realtime-lightgbm-expanding-window/runs/46k2noxl' target=\"_blank\">https://wandb.ai/dwolffram-karlsruhe-institute-of-technology/realtime-lightgbm-expanding-window/runs/46k2noxl</a>"
      ],
      "text/plain": [
       "<IPython.core.display.HTML object>"
      ]
     },
     "metadata": {},
     "output_type": "display_data"
    },
    {
     "data": {
      "application/vnd.jupyter.widget-view+json": {
       "model_id": "71b48e322fc745a4b6e3a45fd7f39329",
       "version_major": 2,
       "version_minor": 0
      },
      "text/plain": [
       "VBox(children=(Label(value='0.005 MB of 0.005 MB uploaded\\r'), FloatProgress(value=1.0, max=1.0)))"
      ]
     },
     "metadata": {},
     "output_type": "display_data"
    },
    {
     "data": {
      "text/html": [
       "<style>\n",
       "    table.wandb td:nth-child(1) { padding: 0 10px; text-align: left ; width: auto;} td:nth-child(2) {text-align: left ; width: 100%}\n",
       "    .wandb-row { display: flex; flex-direction: row; flex-wrap: wrap; justify-content: flex-start; width: 100% }\n",
       "    .wandb-col { display: flex; flex-direction: column; flex-basis: 100%; flex: 1; padding: 10px; }\n",
       "    </style>\n",
       "<div class=\"wandb-row\"><div class=\"wandb-col\"><h3>Run history:</h3><br/><table class=\"wandb\"><tr><td>WIS</td><td>▁</td></tr><tr><td>WIS_2018</td><td>▁</td></tr><tr><td>WIS_2019</td><td>▁</td></tr><tr><td>WIS_2022</td><td>▁</td></tr><tr><td>WIS_2023</td><td>▁</td></tr><tr><td>WIS_std</td><td>▁</td></tr></table><br/></div><div class=\"wandb-col\"><h3>Run summary:</h3><br/><table class=\"wandb\"><tr><td>WIS</td><td>338.82844</td></tr><tr><td>WIS_2018</td><td>207.22939</td></tr><tr><td>WIS_2019</td><td>251.88926</td></tr><tr><td>WIS_2022</td><td>488.29351</td></tr><tr><td>WIS_2023</td><td>407.90159</td></tr><tr><td>WIS_std</td><td>114.00399</td></tr></table><br/></div></div>"
      ],
      "text/plain": [
       "<IPython.core.display.HTML object>"
      ]
     },
     "metadata": {},
     "output_type": "display_data"
    },
    {
     "data": {
      "text/html": [
       " View run <strong style=\"color:#cdcd00\">wise-sweep-21</strong> at: <a href='https://wandb.ai/dwolffram-karlsruhe-institute-of-technology/realtime-lightgbm-expanding-window/runs/46k2noxl' target=\"_blank\">https://wandb.ai/dwolffram-karlsruhe-institute-of-technology/realtime-lightgbm-expanding-window/runs/46k2noxl</a><br/> View project at: <a href='https://wandb.ai/dwolffram-karlsruhe-institute-of-technology/realtime-lightgbm-expanding-window' target=\"_blank\">https://wandb.ai/dwolffram-karlsruhe-institute-of-technology/realtime-lightgbm-expanding-window</a><br/>Synced 5 W&B file(s), 0 media file(s), 0 artifact file(s) and 0 other file(s)"
      ],
      "text/plain": [
       "<IPython.core.display.HTML object>"
      ]
     },
     "metadata": {},
     "output_type": "display_data"
    },
    {
     "data": {
      "text/html": [
       "Find logs at: <code>./wandb/run-20241001_205723-46k2noxl/logs</code>"
      ],
      "text/plain": [
       "<IPython.core.display.HTML object>"
      ]
     },
     "metadata": {},
     "output_type": "display_data"
    },
    {
     "name": "stderr",
     "output_type": "stream",
     "text": [
      "\u001b[34m\u001b[1mwandb\u001b[0m: Agent Starting Run: 1y60dxmy with config:\n",
      "\u001b[34m\u001b[1mwandb\u001b[0m: \tcolsample_bytree: 1\n",
      "\u001b[34m\u001b[1mwandb\u001b[0m: \tlags: 8\n",
      "\u001b[34m\u001b[1mwandb\u001b[0m: \tlags_future_covariates: [0, 4]\n",
      "\u001b[34m\u001b[1mwandb\u001b[0m: \tlags_past_covariates: 8\n",
      "\u001b[34m\u001b[1mwandb\u001b[0m: \tlearning_rate: 0.05\n",
      "\u001b[34m\u001b[1mwandb\u001b[0m: \tmax_bin: 2048\n",
      "\u001b[34m\u001b[1mwandb\u001b[0m: \tmax_depth: 5\n",
      "\u001b[34m\u001b[1mwandb\u001b[0m: \tmin_child_samples: 10\n",
      "\u001b[34m\u001b[1mwandb\u001b[0m: \tmin_split_gain: 0.2\n",
      "\u001b[34m\u001b[1mwandb\u001b[0m: \tmodel: lightgbm\n",
      "\u001b[34m\u001b[1mwandb\u001b[0m: \tmultiple_series: False\n",
      "\u001b[34m\u001b[1mwandb\u001b[0m: \tn_estimators: 500\n",
      "\u001b[34m\u001b[1mwandb\u001b[0m: \tnum_leaves: 10\n",
      "\u001b[34m\u001b[1mwandb\u001b[0m: \treg_alpha: 0\n",
      "\u001b[34m\u001b[1mwandb\u001b[0m: \treg_lambda: 0\n",
      "\u001b[34m\u001b[1mwandb\u001b[0m: \tsubsample: 1\n",
      "\u001b[34m\u001b[1mwandb\u001b[0m: \tsubsample_freq: 0\n",
      "\u001b[34m\u001b[1mwandb\u001b[0m: \tuse_covariates: True\n",
      "\u001b[34m\u001b[1mwandb\u001b[0m: \tuse_encoders: False\n",
      "\u001b[34m\u001b[1mwandb\u001b[0m: \tuse_features: False\n",
      "\u001b[34m\u001b[1mwandb\u001b[0m: \tuse_static_covariates: False\n",
      "Failed to detect the name of this notebook, you can set it manually with the WANDB_NOTEBOOK_NAME environment variable to enable code saving.\n"
     ]
    },
    {
     "data": {
      "text/html": [
       "Tracking run with wandb version 0.18.0"
      ],
      "text/plain": [
       "<IPython.core.display.HTML object>"
      ]
     },
     "metadata": {},
     "output_type": "display_data"
    },
    {
     "data": {
      "text/html": [
       "Run data is saved locally in <code>/home/wolffram/SARI-ML/realtime/wandb/run-20241001_211621-1y60dxmy</code>"
      ],
      "text/plain": [
       "<IPython.core.display.HTML object>"
      ]
     },
     "metadata": {},
     "output_type": "display_data"
    },
    {
     "data": {
      "text/html": [
       "Syncing run <strong><a href='https://wandb.ai/dwolffram-karlsruhe-institute-of-technology/realtime-lightgbm-expanding-window/runs/1y60dxmy' target=\"_blank\">fancy-sweep-22</a></strong> to <a href='https://wandb.ai/dwolffram-karlsruhe-institute-of-technology/realtime-lightgbm-expanding-window' target=\"_blank\">Weights & Biases</a> (<a href='https://wandb.me/run' target=\"_blank\">docs</a>)<br/>Sweep page: <a href='https://wandb.ai/dwolffram-karlsruhe-institute-of-technology/realtime-lightgbm-expanding-window/sweeps/rbid04k0' target=\"_blank\">https://wandb.ai/dwolffram-karlsruhe-institute-of-technology/realtime-lightgbm-expanding-window/sweeps/rbid04k0</a>"
      ],
      "text/plain": [
       "<IPython.core.display.HTML object>"
      ]
     },
     "metadata": {},
     "output_type": "display_data"
    },
    {
     "data": {
      "text/html": [
       " View project at <a href='https://wandb.ai/dwolffram-karlsruhe-institute-of-technology/realtime-lightgbm-expanding-window' target=\"_blank\">https://wandb.ai/dwolffram-karlsruhe-institute-of-technology/realtime-lightgbm-expanding-window</a>"
      ],
      "text/plain": [
       "<IPython.core.display.HTML object>"
      ]
     },
     "metadata": {},
     "output_type": "display_data"
    },
    {
     "data": {
      "text/html": [
       " View sweep at <a href='https://wandb.ai/dwolffram-karlsruhe-institute-of-technology/realtime-lightgbm-expanding-window/sweeps/rbid04k0' target=\"_blank\">https://wandb.ai/dwolffram-karlsruhe-institute-of-technology/realtime-lightgbm-expanding-window/sweeps/rbid04k0</a>"
      ],
      "text/plain": [
       "<IPython.core.display.HTML object>"
      ]
     },
     "metadata": {},
     "output_type": "display_data"
    },
    {
     "data": {
      "text/html": [
       " View run at <a href='https://wandb.ai/dwolffram-karlsruhe-institute-of-technology/realtime-lightgbm-expanding-window/runs/1y60dxmy' target=\"_blank\">https://wandb.ai/dwolffram-karlsruhe-institute-of-technology/realtime-lightgbm-expanding-window/runs/1y60dxmy</a>"
      ],
      "text/plain": [
       "<IPython.core.display.HTML object>"
      ]
     },
     "metadata": {},
     "output_type": "display_data"
    },
    {
     "data": {
      "application/vnd.jupyter.widget-view+json": {
       "model_id": "743eba6f2ef7470f96b650d061744a8c",
       "version_major": 2,
       "version_minor": 0
      },
      "text/plain": [
       "VBox(children=(Label(value='0.005 MB of 0.005 MB uploaded\\r'), FloatProgress(value=1.0, max=1.0)))"
      ]
     },
     "metadata": {},
     "output_type": "display_data"
    },
    {
     "data": {
      "text/html": [
       "<style>\n",
       "    table.wandb td:nth-child(1) { padding: 0 10px; text-align: left ; width: auto;} td:nth-child(2) {text-align: left ; width: 100%}\n",
       "    .wandb-row { display: flex; flex-direction: row; flex-wrap: wrap; justify-content: flex-start; width: 100% }\n",
       "    .wandb-col { display: flex; flex-direction: column; flex-basis: 100%; flex: 1; padding: 10px; }\n",
       "    </style>\n",
       "<div class=\"wandb-row\"><div class=\"wandb-col\"><h3>Run history:</h3><br/><table class=\"wandb\"><tr><td>WIS</td><td>▁</td></tr><tr><td>WIS_2018</td><td>▁</td></tr><tr><td>WIS_2019</td><td>▁</td></tr><tr><td>WIS_2022</td><td>▁</td></tr><tr><td>WIS_2023</td><td>▁</td></tr><tr><td>WIS_std</td><td>▁</td></tr></table><br/></div><div class=\"wandb-col\"><h3>Run summary:</h3><br/><table class=\"wandb\"><tr><td>WIS</td><td>355.0942</td></tr><tr><td>WIS_2018</td><td>232.56384</td></tr><tr><td>WIS_2019</td><td>292.67027</td></tr><tr><td>WIS_2022</td><td>474.12894</td></tr><tr><td>WIS_2023</td><td>421.01375</td></tr><tr><td>WIS_std</td><td>96.72783</td></tr></table><br/></div></div>"
      ],
      "text/plain": [
       "<IPython.core.display.HTML object>"
      ]
     },
     "metadata": {},
     "output_type": "display_data"
    },
    {
     "data": {
      "text/html": [
       " View run <strong style=\"color:#cdcd00\">fancy-sweep-22</strong> at: <a href='https://wandb.ai/dwolffram-karlsruhe-institute-of-technology/realtime-lightgbm-expanding-window/runs/1y60dxmy' target=\"_blank\">https://wandb.ai/dwolffram-karlsruhe-institute-of-technology/realtime-lightgbm-expanding-window/runs/1y60dxmy</a><br/> View project at: <a href='https://wandb.ai/dwolffram-karlsruhe-institute-of-technology/realtime-lightgbm-expanding-window' target=\"_blank\">https://wandb.ai/dwolffram-karlsruhe-institute-of-technology/realtime-lightgbm-expanding-window</a><br/>Synced 5 W&B file(s), 0 media file(s), 0 artifact file(s) and 0 other file(s)"
      ],
      "text/plain": [
       "<IPython.core.display.HTML object>"
      ]
     },
     "metadata": {},
     "output_type": "display_data"
    },
    {
     "data": {
      "text/html": [
       "Find logs at: <code>./wandb/run-20241001_211621-1y60dxmy/logs</code>"
      ],
      "text/plain": [
       "<IPython.core.display.HTML object>"
      ]
     },
     "metadata": {},
     "output_type": "display_data"
    },
    {
     "name": "stderr",
     "output_type": "stream",
     "text": [
      "\u001b[34m\u001b[1mwandb\u001b[0m: Agent Starting Run: 5c3d20mt with config:\n",
      "\u001b[34m\u001b[1mwandb\u001b[0m: \tcolsample_bytree: 1\n",
      "\u001b[34m\u001b[1mwandb\u001b[0m: \tlags: 8\n",
      "\u001b[34m\u001b[1mwandb\u001b[0m: \tlags_future_covariates: [0, 4]\n",
      "\u001b[34m\u001b[1mwandb\u001b[0m: \tlags_past_covariates: 8\n",
      "\u001b[34m\u001b[1mwandb\u001b[0m: \tlearning_rate: 0.005\n",
      "\u001b[34m\u001b[1mwandb\u001b[0m: \tmax_bin: 510\n",
      "\u001b[34m\u001b[1mwandb\u001b[0m: \tmax_depth: 5\n",
      "\u001b[34m\u001b[1mwandb\u001b[0m: \tmin_child_samples: 20\n",
      "\u001b[34m\u001b[1mwandb\u001b[0m: \tmin_split_gain: 0.1\n",
      "\u001b[34m\u001b[1mwandb\u001b[0m: \tmodel: lightgbm\n",
      "\u001b[34m\u001b[1mwandb\u001b[0m: \tmultiple_series: False\n",
      "\u001b[34m\u001b[1mwandb\u001b[0m: \tn_estimators: 2000\n",
      "\u001b[34m\u001b[1mwandb\u001b[0m: \tnum_leaves: 50\n",
      "\u001b[34m\u001b[1mwandb\u001b[0m: \treg_alpha: 0\n",
      "\u001b[34m\u001b[1mwandb\u001b[0m: \treg_lambda: 0\n",
      "\u001b[34m\u001b[1mwandb\u001b[0m: \tsubsample: 1\n",
      "\u001b[34m\u001b[1mwandb\u001b[0m: \tsubsample_freq: 0\n",
      "\u001b[34m\u001b[1mwandb\u001b[0m: \tuse_covariates: True\n",
      "\u001b[34m\u001b[1mwandb\u001b[0m: \tuse_encoders: False\n",
      "\u001b[34m\u001b[1mwandb\u001b[0m: \tuse_features: False\n",
      "\u001b[34m\u001b[1mwandb\u001b[0m: \tuse_static_covariates: False\n",
      "Failed to detect the name of this notebook, you can set it manually with the WANDB_NOTEBOOK_NAME environment variable to enable code saving.\n"
     ]
    },
    {
     "data": {
      "text/html": [
       "Tracking run with wandb version 0.18.0"
      ],
      "text/plain": [
       "<IPython.core.display.HTML object>"
      ]
     },
     "metadata": {},
     "output_type": "display_data"
    },
    {
     "data": {
      "text/html": [
       "Run data is saved locally in <code>/home/wolffram/SARI-ML/realtime/wandb/run-20241001_211814-5c3d20mt</code>"
      ],
      "text/plain": [
       "<IPython.core.display.HTML object>"
      ]
     },
     "metadata": {},
     "output_type": "display_data"
    },
    {
     "data": {
      "text/html": [
       "Syncing run <strong><a href='https://wandb.ai/dwolffram-karlsruhe-institute-of-technology/realtime-lightgbm-expanding-window/runs/5c3d20mt' target=\"_blank\">breezy-sweep-23</a></strong> to <a href='https://wandb.ai/dwolffram-karlsruhe-institute-of-technology/realtime-lightgbm-expanding-window' target=\"_blank\">Weights & Biases</a> (<a href='https://wandb.me/run' target=\"_blank\">docs</a>)<br/>Sweep page: <a href='https://wandb.ai/dwolffram-karlsruhe-institute-of-technology/realtime-lightgbm-expanding-window/sweeps/rbid04k0' target=\"_blank\">https://wandb.ai/dwolffram-karlsruhe-institute-of-technology/realtime-lightgbm-expanding-window/sweeps/rbid04k0</a>"
      ],
      "text/plain": [
       "<IPython.core.display.HTML object>"
      ]
     },
     "metadata": {},
     "output_type": "display_data"
    },
    {
     "data": {
      "text/html": [
       " View project at <a href='https://wandb.ai/dwolffram-karlsruhe-institute-of-technology/realtime-lightgbm-expanding-window' target=\"_blank\">https://wandb.ai/dwolffram-karlsruhe-institute-of-technology/realtime-lightgbm-expanding-window</a>"
      ],
      "text/plain": [
       "<IPython.core.display.HTML object>"
      ]
     },
     "metadata": {},
     "output_type": "display_data"
    },
    {
     "data": {
      "text/html": [
       " View sweep at <a href='https://wandb.ai/dwolffram-karlsruhe-institute-of-technology/realtime-lightgbm-expanding-window/sweeps/rbid04k0' target=\"_blank\">https://wandb.ai/dwolffram-karlsruhe-institute-of-technology/realtime-lightgbm-expanding-window/sweeps/rbid04k0</a>"
      ],
      "text/plain": [
       "<IPython.core.display.HTML object>"
      ]
     },
     "metadata": {},
     "output_type": "display_data"
    },
    {
     "data": {
      "text/html": [
       " View run at <a href='https://wandb.ai/dwolffram-karlsruhe-institute-of-technology/realtime-lightgbm-expanding-window/runs/5c3d20mt' target=\"_blank\">https://wandb.ai/dwolffram-karlsruhe-institute-of-technology/realtime-lightgbm-expanding-window/runs/5c3d20mt</a>"
      ],
      "text/plain": [
       "<IPython.core.display.HTML object>"
      ]
     },
     "metadata": {},
     "output_type": "display_data"
    },
    {
     "data": {
      "application/vnd.jupyter.widget-view+json": {
       "model_id": "953bb68fb644492fb463d55295799d0f",
       "version_major": 2,
       "version_minor": 0
      },
      "text/plain": [
       "VBox(children=(Label(value='0.005 MB of 0.005 MB uploaded\\r'), FloatProgress(value=1.0, max=1.0)))"
      ]
     },
     "metadata": {},
     "output_type": "display_data"
    },
    {
     "data": {
      "text/html": [
       "<style>\n",
       "    table.wandb td:nth-child(1) { padding: 0 10px; text-align: left ; width: auto;} td:nth-child(2) {text-align: left ; width: 100%}\n",
       "    .wandb-row { display: flex; flex-direction: row; flex-wrap: wrap; justify-content: flex-start; width: 100% }\n",
       "    .wandb-col { display: flex; flex-direction: column; flex-basis: 100%; flex: 1; padding: 10px; }\n",
       "    </style>\n",
       "<div class=\"wandb-row\"><div class=\"wandb-col\"><h3>Run history:</h3><br/><table class=\"wandb\"><tr><td>WIS</td><td>▁</td></tr><tr><td>WIS_2018</td><td>▁</td></tr><tr><td>WIS_2019</td><td>▁</td></tr><tr><td>WIS_2022</td><td>▁</td></tr><tr><td>WIS_2023</td><td>▁</td></tr><tr><td>WIS_std</td><td>▁</td></tr></table><br/></div><div class=\"wandb-col\"><h3>Run summary:</h3><br/><table class=\"wandb\"><tr><td>WIS</td><td>352.90368</td></tr><tr><td>WIS_2018</td><td>239.39561</td></tr><tr><td>WIS_2019</td><td>285.22373</td></tr><tr><td>WIS_2022</td><td>476.76404</td></tr><tr><td>WIS_2023</td><td>410.23134</td></tr><tr><td>WIS_std</td><td>94.99014</td></tr></table><br/></div></div>"
      ],
      "text/plain": [
       "<IPython.core.display.HTML object>"
      ]
     },
     "metadata": {},
     "output_type": "display_data"
    },
    {
     "data": {
      "text/html": [
       " View run <strong style=\"color:#cdcd00\">breezy-sweep-23</strong> at: <a href='https://wandb.ai/dwolffram-karlsruhe-institute-of-technology/realtime-lightgbm-expanding-window/runs/5c3d20mt' target=\"_blank\">https://wandb.ai/dwolffram-karlsruhe-institute-of-technology/realtime-lightgbm-expanding-window/runs/5c3d20mt</a><br/> View project at: <a href='https://wandb.ai/dwolffram-karlsruhe-institute-of-technology/realtime-lightgbm-expanding-window' target=\"_blank\">https://wandb.ai/dwolffram-karlsruhe-institute-of-technology/realtime-lightgbm-expanding-window</a><br/>Synced 5 W&B file(s), 0 media file(s), 0 artifact file(s) and 0 other file(s)"
      ],
      "text/plain": [
       "<IPython.core.display.HTML object>"
      ]
     },
     "metadata": {},
     "output_type": "display_data"
    },
    {
     "data": {
      "text/html": [
       "Find logs at: <code>./wandb/run-20241001_211814-5c3d20mt/logs</code>"
      ],
      "text/plain": [
       "<IPython.core.display.HTML object>"
      ]
     },
     "metadata": {},
     "output_type": "display_data"
    },
    {
     "name": "stderr",
     "output_type": "stream",
     "text": [
      "\u001b[34m\u001b[1mwandb\u001b[0m: Agent Starting Run: 0jpb0uf5 with config:\n",
      "\u001b[34m\u001b[1mwandb\u001b[0m: \tcolsample_bytree: 1\n",
      "\u001b[34m\u001b[1mwandb\u001b[0m: \tlags: 8\n",
      "\u001b[34m\u001b[1mwandb\u001b[0m: \tlags_future_covariates: [0, 4]\n",
      "\u001b[34m\u001b[1mwandb\u001b[0m: \tlags_past_covariates: 8\n",
      "\u001b[34m\u001b[1mwandb\u001b[0m: \tlearning_rate: 0.1\n",
      "\u001b[34m\u001b[1mwandb\u001b[0m: \tmax_bin: 1024\n",
      "\u001b[34m\u001b[1mwandb\u001b[0m: \tmax_depth: 5\n",
      "\u001b[34m\u001b[1mwandb\u001b[0m: \tmin_child_samples: 10\n",
      "\u001b[34m\u001b[1mwandb\u001b[0m: \tmin_split_gain: 0\n",
      "\u001b[34m\u001b[1mwandb\u001b[0m: \tmodel: lightgbm\n",
      "\u001b[34m\u001b[1mwandb\u001b[0m: \tmultiple_series: False\n",
      "\u001b[34m\u001b[1mwandb\u001b[0m: \tn_estimators: 1000\n",
      "\u001b[34m\u001b[1mwandb\u001b[0m: \tnum_leaves: 50\n",
      "\u001b[34m\u001b[1mwandb\u001b[0m: \treg_alpha: 0\n",
      "\u001b[34m\u001b[1mwandb\u001b[0m: \treg_lambda: 0\n",
      "\u001b[34m\u001b[1mwandb\u001b[0m: \tsubsample: 1\n",
      "\u001b[34m\u001b[1mwandb\u001b[0m: \tsubsample_freq: 0\n",
      "\u001b[34m\u001b[1mwandb\u001b[0m: \tuse_covariates: False\n",
      "\u001b[34m\u001b[1mwandb\u001b[0m: \tuse_encoders: False\n",
      "\u001b[34m\u001b[1mwandb\u001b[0m: \tuse_features: False\n",
      "\u001b[34m\u001b[1mwandb\u001b[0m: \tuse_static_covariates: False\n",
      "Failed to detect the name of this notebook, you can set it manually with the WANDB_NOTEBOOK_NAME environment variable to enable code saving.\n"
     ]
    },
    {
     "data": {
      "text/html": [
       "Tracking run with wandb version 0.18.0"
      ],
      "text/plain": [
       "<IPython.core.display.HTML object>"
      ]
     },
     "metadata": {},
     "output_type": "display_data"
    },
    {
     "data": {
      "text/html": [
       "Run data is saved locally in <code>/home/wolffram/SARI-ML/realtime/wandb/run-20241001_212417-0jpb0uf5</code>"
      ],
      "text/plain": [
       "<IPython.core.display.HTML object>"
      ]
     },
     "metadata": {},
     "output_type": "display_data"
    },
    {
     "data": {
      "text/html": [
       "Syncing run <strong><a href='https://wandb.ai/dwolffram-karlsruhe-institute-of-technology/realtime-lightgbm-expanding-window/runs/0jpb0uf5' target=\"_blank\">faithful-sweep-24</a></strong> to <a href='https://wandb.ai/dwolffram-karlsruhe-institute-of-technology/realtime-lightgbm-expanding-window' target=\"_blank\">Weights & Biases</a> (<a href='https://wandb.me/run' target=\"_blank\">docs</a>)<br/>Sweep page: <a href='https://wandb.ai/dwolffram-karlsruhe-institute-of-technology/realtime-lightgbm-expanding-window/sweeps/rbid04k0' target=\"_blank\">https://wandb.ai/dwolffram-karlsruhe-institute-of-technology/realtime-lightgbm-expanding-window/sweeps/rbid04k0</a>"
      ],
      "text/plain": [
       "<IPython.core.display.HTML object>"
      ]
     },
     "metadata": {},
     "output_type": "display_data"
    },
    {
     "data": {
      "text/html": [
       " View project at <a href='https://wandb.ai/dwolffram-karlsruhe-institute-of-technology/realtime-lightgbm-expanding-window' target=\"_blank\">https://wandb.ai/dwolffram-karlsruhe-institute-of-technology/realtime-lightgbm-expanding-window</a>"
      ],
      "text/plain": [
       "<IPython.core.display.HTML object>"
      ]
     },
     "metadata": {},
     "output_type": "display_data"
    },
    {
     "data": {
      "text/html": [
       " View sweep at <a href='https://wandb.ai/dwolffram-karlsruhe-institute-of-technology/realtime-lightgbm-expanding-window/sweeps/rbid04k0' target=\"_blank\">https://wandb.ai/dwolffram-karlsruhe-institute-of-technology/realtime-lightgbm-expanding-window/sweeps/rbid04k0</a>"
      ],
      "text/plain": [
       "<IPython.core.display.HTML object>"
      ]
     },
     "metadata": {},
     "output_type": "display_data"
    },
    {
     "data": {
      "text/html": [
       " View run at <a href='https://wandb.ai/dwolffram-karlsruhe-institute-of-technology/realtime-lightgbm-expanding-window/runs/0jpb0uf5' target=\"_blank\">https://wandb.ai/dwolffram-karlsruhe-institute-of-technology/realtime-lightgbm-expanding-window/runs/0jpb0uf5</a>"
      ],
      "text/plain": [
       "<IPython.core.display.HTML object>"
      ]
     },
     "metadata": {},
     "output_type": "display_data"
    },
    {
     "data": {
      "application/vnd.jupyter.widget-view+json": {
       "model_id": "2e0d948608c64fcf93f91e8d3614a990",
       "version_major": 2,
       "version_minor": 0
      },
      "text/plain": [
       "VBox(children=(Label(value='0.005 MB of 0.005 MB uploaded\\r'), FloatProgress(value=1.0, max=1.0)))"
      ]
     },
     "metadata": {},
     "output_type": "display_data"
    },
    {
     "data": {
      "text/html": [
       "<style>\n",
       "    table.wandb td:nth-child(1) { padding: 0 10px; text-align: left ; width: auto;} td:nth-child(2) {text-align: left ; width: 100%}\n",
       "    .wandb-row { display: flex; flex-direction: row; flex-wrap: wrap; justify-content: flex-start; width: 100% }\n",
       "    .wandb-col { display: flex; flex-direction: column; flex-basis: 100%; flex: 1; padding: 10px; }\n",
       "    </style>\n",
       "<div class=\"wandb-row\"><div class=\"wandb-col\"><h3>Run history:</h3><br/><table class=\"wandb\"><tr><td>WIS</td><td>▁</td></tr><tr><td>WIS_2018</td><td>▁</td></tr><tr><td>WIS_2019</td><td>▁</td></tr><tr><td>WIS_2022</td><td>▁</td></tr><tr><td>WIS_2023</td><td>▁</td></tr><tr><td>WIS_std</td><td>▁</td></tr></table><br/></div><div class=\"wandb-col\"><h3>Run summary:</h3><br/><table class=\"wandb\"><tr><td>WIS</td><td>375.17941</td></tr><tr><td>WIS_2018</td><td>261.75038</td></tr><tr><td>WIS_2019</td><td>284.73444</td></tr><tr><td>WIS_2022</td><td>511.21448</td></tr><tr><td>WIS_2023</td><td>443.01836</td></tr><tr><td>WIS_std</td><td>105.06439</td></tr></table><br/></div></div>"
      ],
      "text/plain": [
       "<IPython.core.display.HTML object>"
      ]
     },
     "metadata": {},
     "output_type": "display_data"
    },
    {
     "data": {
      "text/html": [
       " View run <strong style=\"color:#cdcd00\">faithful-sweep-24</strong> at: <a href='https://wandb.ai/dwolffram-karlsruhe-institute-of-technology/realtime-lightgbm-expanding-window/runs/0jpb0uf5' target=\"_blank\">https://wandb.ai/dwolffram-karlsruhe-institute-of-technology/realtime-lightgbm-expanding-window/runs/0jpb0uf5</a><br/> View project at: <a href='https://wandb.ai/dwolffram-karlsruhe-institute-of-technology/realtime-lightgbm-expanding-window' target=\"_blank\">https://wandb.ai/dwolffram-karlsruhe-institute-of-technology/realtime-lightgbm-expanding-window</a><br/>Synced 5 W&B file(s), 0 media file(s), 0 artifact file(s) and 0 other file(s)"
      ],
      "text/plain": [
       "<IPython.core.display.HTML object>"
      ]
     },
     "metadata": {},
     "output_type": "display_data"
    },
    {
     "data": {
      "text/html": [
       "Find logs at: <code>./wandb/run-20241001_212417-0jpb0uf5/logs</code>"
      ],
      "text/plain": [
       "<IPython.core.display.HTML object>"
      ]
     },
     "metadata": {},
     "output_type": "display_data"
    },
    {
     "name": "stderr",
     "output_type": "stream",
     "text": [
      "\u001b[34m\u001b[1mwandb\u001b[0m: Sweep Agent: Waiting for job.\n",
      "\u001b[34m\u001b[1mwandb\u001b[0m: Job received.\n",
      "\u001b[34m\u001b[1mwandb\u001b[0m: Agent Starting Run: nnrp8nxk with config:\n",
      "\u001b[34m\u001b[1mwandb\u001b[0m: \tcolsample_bytree: 1\n",
      "\u001b[34m\u001b[1mwandb\u001b[0m: \tlags: 8\n",
      "\u001b[34m\u001b[1mwandb\u001b[0m: \tlags_future_covariates: [0, 4]\n",
      "\u001b[34m\u001b[1mwandb\u001b[0m: \tlags_past_covariates: 8\n",
      "\u001b[34m\u001b[1mwandb\u001b[0m: \tlearning_rate: 0.005\n",
      "\u001b[34m\u001b[1mwandb\u001b[0m: \tmax_bin: 2048\n",
      "\u001b[34m\u001b[1mwandb\u001b[0m: \tmax_depth: 5\n",
      "\u001b[34m\u001b[1mwandb\u001b[0m: \tmin_child_samples: 20\n",
      "\u001b[34m\u001b[1mwandb\u001b[0m: \tmin_split_gain: 0.2\n",
      "\u001b[34m\u001b[1mwandb\u001b[0m: \tmodel: lightgbm\n",
      "\u001b[34m\u001b[1mwandb\u001b[0m: \tmultiple_series: False\n",
      "\u001b[34m\u001b[1mwandb\u001b[0m: \tn_estimators: 1000\n",
      "\u001b[34m\u001b[1mwandb\u001b[0m: \tnum_leaves: 40\n",
      "\u001b[34m\u001b[1mwandb\u001b[0m: \treg_alpha: 0\n",
      "\u001b[34m\u001b[1mwandb\u001b[0m: \treg_lambda: 0\n",
      "\u001b[34m\u001b[1mwandb\u001b[0m: \tsubsample: 1\n",
      "\u001b[34m\u001b[1mwandb\u001b[0m: \tsubsample_freq: 0\n",
      "\u001b[34m\u001b[1mwandb\u001b[0m: \tuse_covariates: True\n",
      "\u001b[34m\u001b[1mwandb\u001b[0m: \tuse_encoders: False\n",
      "\u001b[34m\u001b[1mwandb\u001b[0m: \tuse_features: False\n",
      "\u001b[34m\u001b[1mwandb\u001b[0m: \tuse_static_covariates: False\n",
      "Failed to detect the name of this notebook, you can set it manually with the WANDB_NOTEBOOK_NAME environment variable to enable code saving.\n"
     ]
    },
    {
     "data": {
      "text/html": [
       "Tracking run with wandb version 0.18.0"
      ],
      "text/plain": [
       "<IPython.core.display.HTML object>"
      ]
     },
     "metadata": {},
     "output_type": "display_data"
    },
    {
     "data": {
      "text/html": [
       "Run data is saved locally in <code>/home/wolffram/SARI-ML/realtime/wandb/run-20241001_212833-nnrp8nxk</code>"
      ],
      "text/plain": [
       "<IPython.core.display.HTML object>"
      ]
     },
     "metadata": {},
     "output_type": "display_data"
    },
    {
     "data": {
      "text/html": [
       "Syncing run <strong><a href='https://wandb.ai/dwolffram-karlsruhe-institute-of-technology/realtime-lightgbm-expanding-window/runs/nnrp8nxk' target=\"_blank\">drawn-sweep-25</a></strong> to <a href='https://wandb.ai/dwolffram-karlsruhe-institute-of-technology/realtime-lightgbm-expanding-window' target=\"_blank\">Weights & Biases</a> (<a href='https://wandb.me/run' target=\"_blank\">docs</a>)<br/>Sweep page: <a href='https://wandb.ai/dwolffram-karlsruhe-institute-of-technology/realtime-lightgbm-expanding-window/sweeps/rbid04k0' target=\"_blank\">https://wandb.ai/dwolffram-karlsruhe-institute-of-technology/realtime-lightgbm-expanding-window/sweeps/rbid04k0</a>"
      ],
      "text/plain": [
       "<IPython.core.display.HTML object>"
      ]
     },
     "metadata": {},
     "output_type": "display_data"
    },
    {
     "data": {
      "text/html": [
       " View project at <a href='https://wandb.ai/dwolffram-karlsruhe-institute-of-technology/realtime-lightgbm-expanding-window' target=\"_blank\">https://wandb.ai/dwolffram-karlsruhe-institute-of-technology/realtime-lightgbm-expanding-window</a>"
      ],
      "text/plain": [
       "<IPython.core.display.HTML object>"
      ]
     },
     "metadata": {},
     "output_type": "display_data"
    },
    {
     "data": {
      "text/html": [
       " View sweep at <a href='https://wandb.ai/dwolffram-karlsruhe-institute-of-technology/realtime-lightgbm-expanding-window/sweeps/rbid04k0' target=\"_blank\">https://wandb.ai/dwolffram-karlsruhe-institute-of-technology/realtime-lightgbm-expanding-window/sweeps/rbid04k0</a>"
      ],
      "text/plain": [
       "<IPython.core.display.HTML object>"
      ]
     },
     "metadata": {},
     "output_type": "display_data"
    },
    {
     "data": {
      "text/html": [
       " View run at <a href='https://wandb.ai/dwolffram-karlsruhe-institute-of-technology/realtime-lightgbm-expanding-window/runs/nnrp8nxk' target=\"_blank\">https://wandb.ai/dwolffram-karlsruhe-institute-of-technology/realtime-lightgbm-expanding-window/runs/nnrp8nxk</a>"
      ],
      "text/plain": [
       "<IPython.core.display.HTML object>"
      ]
     },
     "metadata": {},
     "output_type": "display_data"
    },
    {
     "data": {
      "application/vnd.jupyter.widget-view+json": {
       "model_id": "2b7279f75efa4eb3a362fd816d55d857",
       "version_major": 2,
       "version_minor": 0
      },
      "text/plain": [
       "VBox(children=(Label(value='0.005 MB of 0.005 MB uploaded\\r'), FloatProgress(value=1.0, max=1.0)))"
      ]
     },
     "metadata": {},
     "output_type": "display_data"
    },
    {
     "data": {
      "text/html": [
       "<style>\n",
       "    table.wandb td:nth-child(1) { padding: 0 10px; text-align: left ; width: auto;} td:nth-child(2) {text-align: left ; width: 100%}\n",
       "    .wandb-row { display: flex; flex-direction: row; flex-wrap: wrap; justify-content: flex-start; width: 100% }\n",
       "    .wandb-col { display: flex; flex-direction: column; flex-basis: 100%; flex: 1; padding: 10px; }\n",
       "    </style>\n",
       "<div class=\"wandb-row\"><div class=\"wandb-col\"><h3>Run history:</h3><br/><table class=\"wandb\"><tr><td>WIS</td><td>▁</td></tr><tr><td>WIS_2018</td><td>▁</td></tr><tr><td>WIS_2019</td><td>▁</td></tr><tr><td>WIS_2022</td><td>▁</td></tr><tr><td>WIS_2023</td><td>▁</td></tr><tr><td>WIS_std</td><td>▁</td></tr></table><br/></div><div class=\"wandb-col\"><h3>Run summary:</h3><br/><table class=\"wandb\"><tr><td>WIS</td><td>365.37985</td></tr><tr><td>WIS_2018</td><td>251.11285</td></tr><tr><td>WIS_2019</td><td>296.04272</td></tr><tr><td>WIS_2022</td><td>488.4904</td></tr><tr><td>WIS_2023</td><td>425.87341</td></tr><tr><td>WIS_std</td><td>95.76046</td></tr></table><br/></div></div>"
      ],
      "text/plain": [
       "<IPython.core.display.HTML object>"
      ]
     },
     "metadata": {},
     "output_type": "display_data"
    },
    {
     "data": {
      "text/html": [
       " View run <strong style=\"color:#cdcd00\">drawn-sweep-25</strong> at: <a href='https://wandb.ai/dwolffram-karlsruhe-institute-of-technology/realtime-lightgbm-expanding-window/runs/nnrp8nxk' target=\"_blank\">https://wandb.ai/dwolffram-karlsruhe-institute-of-technology/realtime-lightgbm-expanding-window/runs/nnrp8nxk</a><br/> View project at: <a href='https://wandb.ai/dwolffram-karlsruhe-institute-of-technology/realtime-lightgbm-expanding-window' target=\"_blank\">https://wandb.ai/dwolffram-karlsruhe-institute-of-technology/realtime-lightgbm-expanding-window</a><br/>Synced 5 W&B file(s), 0 media file(s), 0 artifact file(s) and 0 other file(s)"
      ],
      "text/plain": [
       "<IPython.core.display.HTML object>"
      ]
     },
     "metadata": {},
     "output_type": "display_data"
    },
    {
     "data": {
      "text/html": [
       "Find logs at: <code>./wandb/run-20241001_212833-nnrp8nxk/logs</code>"
      ],
      "text/plain": [
       "<IPython.core.display.HTML object>"
      ]
     },
     "metadata": {},
     "output_type": "display_data"
    },
    {
     "name": "stderr",
     "output_type": "stream",
     "text": [
      "\u001b[34m\u001b[1mwandb\u001b[0m: Agent Starting Run: 17h4vbyt with config:\n",
      "\u001b[34m\u001b[1mwandb\u001b[0m: \tcolsample_bytree: 1\n",
      "\u001b[34m\u001b[1mwandb\u001b[0m: \tlags: 8\n",
      "\u001b[34m\u001b[1mwandb\u001b[0m: \tlags_future_covariates: [0, 4]\n",
      "\u001b[34m\u001b[1mwandb\u001b[0m: \tlags_past_covariates: 8\n",
      "\u001b[34m\u001b[1mwandb\u001b[0m: \tlearning_rate: 0.1\n",
      "\u001b[34m\u001b[1mwandb\u001b[0m: \tmax_bin: 2048\n",
      "\u001b[34m\u001b[1mwandb\u001b[0m: \tmax_depth: 5\n",
      "\u001b[34m\u001b[1mwandb\u001b[0m: \tmin_child_samples: 20\n",
      "\u001b[34m\u001b[1mwandb\u001b[0m: \tmin_split_gain: 0.1\n",
      "\u001b[34m\u001b[1mwandb\u001b[0m: \tmodel: lightgbm\n",
      "\u001b[34m\u001b[1mwandb\u001b[0m: \tmultiple_series: False\n",
      "\u001b[34m\u001b[1mwandb\u001b[0m: \tn_estimators: 2000\n",
      "\u001b[34m\u001b[1mwandb\u001b[0m: \tnum_leaves: 31\n",
      "\u001b[34m\u001b[1mwandb\u001b[0m: \treg_alpha: 0\n",
      "\u001b[34m\u001b[1mwandb\u001b[0m: \treg_lambda: 0\n",
      "\u001b[34m\u001b[1mwandb\u001b[0m: \tsubsample: 1\n",
      "\u001b[34m\u001b[1mwandb\u001b[0m: \tsubsample_freq: 0\n",
      "\u001b[34m\u001b[1mwandb\u001b[0m: \tuse_covariates: True\n",
      "\u001b[34m\u001b[1mwandb\u001b[0m: \tuse_encoders: True\n",
      "\u001b[34m\u001b[1mwandb\u001b[0m: \tuse_features: False\n",
      "\u001b[34m\u001b[1mwandb\u001b[0m: \tuse_static_covariates: False\n",
      "Failed to detect the name of this notebook, you can set it manually with the WANDB_NOTEBOOK_NAME environment variable to enable code saving.\n"
     ]
    },
    {
     "data": {
      "text/html": [
       "Tracking run with wandb version 0.18.0"
      ],
      "text/plain": [
       "<IPython.core.display.HTML object>"
      ]
     },
     "metadata": {},
     "output_type": "display_data"
    },
    {
     "data": {
      "text/html": [
       "Run data is saved locally in <code>/home/wolffram/SARI-ML/realtime/wandb/run-20241001_213139-17h4vbyt</code>"
      ],
      "text/plain": [
       "<IPython.core.display.HTML object>"
      ]
     },
     "metadata": {},
     "output_type": "display_data"
    },
    {
     "data": {
      "text/html": [
       "Syncing run <strong><a href='https://wandb.ai/dwolffram-karlsruhe-institute-of-technology/realtime-lightgbm-expanding-window/runs/17h4vbyt' target=\"_blank\">wise-sweep-26</a></strong> to <a href='https://wandb.ai/dwolffram-karlsruhe-institute-of-technology/realtime-lightgbm-expanding-window' target=\"_blank\">Weights & Biases</a> (<a href='https://wandb.me/run' target=\"_blank\">docs</a>)<br/>Sweep page: <a href='https://wandb.ai/dwolffram-karlsruhe-institute-of-technology/realtime-lightgbm-expanding-window/sweeps/rbid04k0' target=\"_blank\">https://wandb.ai/dwolffram-karlsruhe-institute-of-technology/realtime-lightgbm-expanding-window/sweeps/rbid04k0</a>"
      ],
      "text/plain": [
       "<IPython.core.display.HTML object>"
      ]
     },
     "metadata": {},
     "output_type": "display_data"
    },
    {
     "data": {
      "text/html": [
       " View project at <a href='https://wandb.ai/dwolffram-karlsruhe-institute-of-technology/realtime-lightgbm-expanding-window' target=\"_blank\">https://wandb.ai/dwolffram-karlsruhe-institute-of-technology/realtime-lightgbm-expanding-window</a>"
      ],
      "text/plain": [
       "<IPython.core.display.HTML object>"
      ]
     },
     "metadata": {},
     "output_type": "display_data"
    },
    {
     "data": {
      "text/html": [
       " View sweep at <a href='https://wandb.ai/dwolffram-karlsruhe-institute-of-technology/realtime-lightgbm-expanding-window/sweeps/rbid04k0' target=\"_blank\">https://wandb.ai/dwolffram-karlsruhe-institute-of-technology/realtime-lightgbm-expanding-window/sweeps/rbid04k0</a>"
      ],
      "text/plain": [
       "<IPython.core.display.HTML object>"
      ]
     },
     "metadata": {},
     "output_type": "display_data"
    },
    {
     "data": {
      "text/html": [
       " View run at <a href='https://wandb.ai/dwolffram-karlsruhe-institute-of-technology/realtime-lightgbm-expanding-window/runs/17h4vbyt' target=\"_blank\">https://wandb.ai/dwolffram-karlsruhe-institute-of-technology/realtime-lightgbm-expanding-window/runs/17h4vbyt</a>"
      ],
      "text/plain": [
       "<IPython.core.display.HTML object>"
      ]
     },
     "metadata": {},
     "output_type": "display_data"
    },
    {
     "data": {
      "application/vnd.jupyter.widget-view+json": {
       "model_id": "7c78b8cfa6e441b6adcf5ed2e63c071d",
       "version_major": 2,
       "version_minor": 0
      },
      "text/plain": [
       "VBox(children=(Label(value='0.005 MB of 0.005 MB uploaded\\r'), FloatProgress(value=1.0, max=1.0)))"
      ]
     },
     "metadata": {},
     "output_type": "display_data"
    },
    {
     "data": {
      "text/html": [
       "<style>\n",
       "    table.wandb td:nth-child(1) { padding: 0 10px; text-align: left ; width: auto;} td:nth-child(2) {text-align: left ; width: 100%}\n",
       "    .wandb-row { display: flex; flex-direction: row; flex-wrap: wrap; justify-content: flex-start; width: 100% }\n",
       "    .wandb-col { display: flex; flex-direction: column; flex-basis: 100%; flex: 1; padding: 10px; }\n",
       "    </style>\n",
       "<div class=\"wandb-row\"><div class=\"wandb-col\"><h3>Run history:</h3><br/><table class=\"wandb\"><tr><td>WIS</td><td>▁</td></tr><tr><td>WIS_2018</td><td>▁</td></tr><tr><td>WIS_2019</td><td>▁</td></tr><tr><td>WIS_2022</td><td>▁</td></tr><tr><td>WIS_2023</td><td>▁</td></tr><tr><td>WIS_std</td><td>▁</td></tr></table><br/></div><div class=\"wandb-col\"><h3>Run summary:</h3><br/><table class=\"wandb\"><tr><td>WIS</td><td>337.02807</td></tr><tr><td>WIS_2018</td><td>207.73817</td></tr><tr><td>WIS_2019</td><td>263.40064</td></tr><tr><td>WIS_2022</td><td>472.35693</td></tr><tr><td>WIS_2023</td><td>404.61652</td></tr><tr><td>WIS_std</td><td>106.08838</td></tr></table><br/></div></div>"
      ],
      "text/plain": [
       "<IPython.core.display.HTML object>"
      ]
     },
     "metadata": {},
     "output_type": "display_data"
    },
    {
     "data": {
      "text/html": [
       " View run <strong style=\"color:#cdcd00\">wise-sweep-26</strong> at: <a href='https://wandb.ai/dwolffram-karlsruhe-institute-of-technology/realtime-lightgbm-expanding-window/runs/17h4vbyt' target=\"_blank\">https://wandb.ai/dwolffram-karlsruhe-institute-of-technology/realtime-lightgbm-expanding-window/runs/17h4vbyt</a><br/> View project at: <a href='https://wandb.ai/dwolffram-karlsruhe-institute-of-technology/realtime-lightgbm-expanding-window' target=\"_blank\">https://wandb.ai/dwolffram-karlsruhe-institute-of-technology/realtime-lightgbm-expanding-window</a><br/>Synced 5 W&B file(s), 0 media file(s), 0 artifact file(s) and 0 other file(s)"
      ],
      "text/plain": [
       "<IPython.core.display.HTML object>"
      ]
     },
     "metadata": {},
     "output_type": "display_data"
    },
    {
     "data": {
      "text/html": [
       "Find logs at: <code>./wandb/run-20241001_213139-17h4vbyt/logs</code>"
      ],
      "text/plain": [
       "<IPython.core.display.HTML object>"
      ]
     },
     "metadata": {},
     "output_type": "display_data"
    },
    {
     "name": "stderr",
     "output_type": "stream",
     "text": [
      "\u001b[34m\u001b[1mwandb\u001b[0m: Agent Starting Run: rcaaqxjg with config:\n",
      "\u001b[34m\u001b[1mwandb\u001b[0m: \tcolsample_bytree: 1\n",
      "\u001b[34m\u001b[1mwandb\u001b[0m: \tlags: 8\n",
      "\u001b[34m\u001b[1mwandb\u001b[0m: \tlags_future_covariates: [0, 4]\n",
      "\u001b[34m\u001b[1mwandb\u001b[0m: \tlags_past_covariates: 8\n",
      "\u001b[34m\u001b[1mwandb\u001b[0m: \tlearning_rate: 0.05\n",
      "\u001b[34m\u001b[1mwandb\u001b[0m: \tmax_bin: 2048\n",
      "\u001b[34m\u001b[1mwandb\u001b[0m: \tmax_depth: 10\n",
      "\u001b[34m\u001b[1mwandb\u001b[0m: \tmin_child_samples: 20\n",
      "\u001b[34m\u001b[1mwandb\u001b[0m: \tmin_split_gain: 0.2\n",
      "\u001b[34m\u001b[1mwandb\u001b[0m: \tmodel: lightgbm\n",
      "\u001b[34m\u001b[1mwandb\u001b[0m: \tmultiple_series: False\n",
      "\u001b[34m\u001b[1mwandb\u001b[0m: \tn_estimators: 500\n",
      "\u001b[34m\u001b[1mwandb\u001b[0m: \tnum_leaves: 10\n",
      "\u001b[34m\u001b[1mwandb\u001b[0m: \treg_alpha: 0\n",
      "\u001b[34m\u001b[1mwandb\u001b[0m: \treg_lambda: 0\n",
      "\u001b[34m\u001b[1mwandb\u001b[0m: \tsubsample: 1\n",
      "\u001b[34m\u001b[1mwandb\u001b[0m: \tsubsample_freq: 0\n",
      "\u001b[34m\u001b[1mwandb\u001b[0m: \tuse_covariates: False\n",
      "\u001b[34m\u001b[1mwandb\u001b[0m: \tuse_encoders: True\n",
      "\u001b[34m\u001b[1mwandb\u001b[0m: \tuse_features: False\n",
      "\u001b[34m\u001b[1mwandb\u001b[0m: \tuse_static_covariates: False\n",
      "Failed to detect the name of this notebook, you can set it manually with the WANDB_NOTEBOOK_NAME environment variable to enable code saving.\n"
     ]
    },
    {
     "data": {
      "text/html": [
       "Tracking run with wandb version 0.18.0"
      ],
      "text/plain": [
       "<IPython.core.display.HTML object>"
      ]
     },
     "metadata": {},
     "output_type": "display_data"
    },
    {
     "data": {
      "text/html": [
       "Run data is saved locally in <code>/home/wolffram/SARI-ML/realtime/wandb/run-20241001_213736-rcaaqxjg</code>"
      ],
      "text/plain": [
       "<IPython.core.display.HTML object>"
      ]
     },
     "metadata": {},
     "output_type": "display_data"
    },
    {
     "data": {
      "text/html": [
       "Syncing run <strong><a href='https://wandb.ai/dwolffram-karlsruhe-institute-of-technology/realtime-lightgbm-expanding-window/runs/rcaaqxjg' target=\"_blank\">woven-sweep-27</a></strong> to <a href='https://wandb.ai/dwolffram-karlsruhe-institute-of-technology/realtime-lightgbm-expanding-window' target=\"_blank\">Weights & Biases</a> (<a href='https://wandb.me/run' target=\"_blank\">docs</a>)<br/>Sweep page: <a href='https://wandb.ai/dwolffram-karlsruhe-institute-of-technology/realtime-lightgbm-expanding-window/sweeps/rbid04k0' target=\"_blank\">https://wandb.ai/dwolffram-karlsruhe-institute-of-technology/realtime-lightgbm-expanding-window/sweeps/rbid04k0</a>"
      ],
      "text/plain": [
       "<IPython.core.display.HTML object>"
      ]
     },
     "metadata": {},
     "output_type": "display_data"
    },
    {
     "data": {
      "text/html": [
       " View project at <a href='https://wandb.ai/dwolffram-karlsruhe-institute-of-technology/realtime-lightgbm-expanding-window' target=\"_blank\">https://wandb.ai/dwolffram-karlsruhe-institute-of-technology/realtime-lightgbm-expanding-window</a>"
      ],
      "text/plain": [
       "<IPython.core.display.HTML object>"
      ]
     },
     "metadata": {},
     "output_type": "display_data"
    },
    {
     "data": {
      "text/html": [
       " View sweep at <a href='https://wandb.ai/dwolffram-karlsruhe-institute-of-technology/realtime-lightgbm-expanding-window/sweeps/rbid04k0' target=\"_blank\">https://wandb.ai/dwolffram-karlsruhe-institute-of-technology/realtime-lightgbm-expanding-window/sweeps/rbid04k0</a>"
      ],
      "text/plain": [
       "<IPython.core.display.HTML object>"
      ]
     },
     "metadata": {},
     "output_type": "display_data"
    },
    {
     "data": {
      "text/html": [
       " View run at <a href='https://wandb.ai/dwolffram-karlsruhe-institute-of-technology/realtime-lightgbm-expanding-window/runs/rcaaqxjg' target=\"_blank\">https://wandb.ai/dwolffram-karlsruhe-institute-of-technology/realtime-lightgbm-expanding-window/runs/rcaaqxjg</a>"
      ],
      "text/plain": [
       "<IPython.core.display.HTML object>"
      ]
     },
     "metadata": {},
     "output_type": "display_data"
    },
    {
     "data": {
      "application/vnd.jupyter.widget-view+json": {
       "model_id": "25fd173e60ff459c87da5263803f8091",
       "version_major": 2,
       "version_minor": 0
      },
      "text/plain": [
       "VBox(children=(Label(value='0.005 MB of 0.005 MB uploaded\\r'), FloatProgress(value=1.0, max=1.0)))"
      ]
     },
     "metadata": {},
     "output_type": "display_data"
    },
    {
     "data": {
      "text/html": [
       "<style>\n",
       "    table.wandb td:nth-child(1) { padding: 0 10px; text-align: left ; width: auto;} td:nth-child(2) {text-align: left ; width: 100%}\n",
       "    .wandb-row { display: flex; flex-direction: row; flex-wrap: wrap; justify-content: flex-start; width: 100% }\n",
       "    .wandb-col { display: flex; flex-direction: column; flex-basis: 100%; flex: 1; padding: 10px; }\n",
       "    </style>\n",
       "<div class=\"wandb-row\"><div class=\"wandb-col\"><h3>Run history:</h3><br/><table class=\"wandb\"><tr><td>WIS</td><td>▁</td></tr><tr><td>WIS_2018</td><td>▁</td></tr><tr><td>WIS_2019</td><td>▁</td></tr><tr><td>WIS_2022</td><td>▁</td></tr><tr><td>WIS_2023</td><td>▁</td></tr><tr><td>WIS_std</td><td>▁</td></tr></table><br/></div><div class=\"wandb-col\"><h3>Run summary:</h3><br/><table class=\"wandb\"><tr><td>WIS</td><td>348.14885</td></tr><tr><td>WIS_2018</td><td>232.86003</td></tr><tr><td>WIS_2019</td><td>271.94517</td></tr><tr><td>WIS_2022</td><td>481.65194</td></tr><tr><td>WIS_2023</td><td>406.13826</td></tr><tr><td>WIS_std</td><td>100.35482</td></tr></table><br/></div></div>"
      ],
      "text/plain": [
       "<IPython.core.display.HTML object>"
      ]
     },
     "metadata": {},
     "output_type": "display_data"
    },
    {
     "data": {
      "text/html": [
       " View run <strong style=\"color:#cdcd00\">woven-sweep-27</strong> at: <a href='https://wandb.ai/dwolffram-karlsruhe-institute-of-technology/realtime-lightgbm-expanding-window/runs/rcaaqxjg' target=\"_blank\">https://wandb.ai/dwolffram-karlsruhe-institute-of-technology/realtime-lightgbm-expanding-window/runs/rcaaqxjg</a><br/> View project at: <a href='https://wandb.ai/dwolffram-karlsruhe-institute-of-technology/realtime-lightgbm-expanding-window' target=\"_blank\">https://wandb.ai/dwolffram-karlsruhe-institute-of-technology/realtime-lightgbm-expanding-window</a><br/>Synced 5 W&B file(s), 0 media file(s), 0 artifact file(s) and 0 other file(s)"
      ],
      "text/plain": [
       "<IPython.core.display.HTML object>"
      ]
     },
     "metadata": {},
     "output_type": "display_data"
    },
    {
     "data": {
      "text/html": [
       "Find logs at: <code>./wandb/run-20241001_213736-rcaaqxjg/logs</code>"
      ],
      "text/plain": [
       "<IPython.core.display.HTML object>"
      ]
     },
     "metadata": {},
     "output_type": "display_data"
    },
    {
     "name": "stderr",
     "output_type": "stream",
     "text": [
      "\u001b[34m\u001b[1mwandb\u001b[0m: Agent Starting Run: sntojq10 with config:\n",
      "\u001b[34m\u001b[1mwandb\u001b[0m: \tcolsample_bytree: 1\n",
      "\u001b[34m\u001b[1mwandb\u001b[0m: \tlags: 8\n",
      "\u001b[34m\u001b[1mwandb\u001b[0m: \tlags_future_covariates: [0, 4]\n",
      "\u001b[34m\u001b[1mwandb\u001b[0m: \tlags_past_covariates: 8\n",
      "\u001b[34m\u001b[1mwandb\u001b[0m: \tlearning_rate: 0.2\n",
      "\u001b[34m\u001b[1mwandb\u001b[0m: \tmax_bin: 510\n",
      "\u001b[34m\u001b[1mwandb\u001b[0m: \tmax_depth: 5\n",
      "\u001b[34m\u001b[1mwandb\u001b[0m: \tmin_child_samples: 10\n",
      "\u001b[34m\u001b[1mwandb\u001b[0m: \tmin_split_gain: 0\n",
      "\u001b[34m\u001b[1mwandb\u001b[0m: \tmodel: lightgbm\n",
      "\u001b[34m\u001b[1mwandb\u001b[0m: \tmultiple_series: False\n",
      "\u001b[34m\u001b[1mwandb\u001b[0m: \tn_estimators: 5000\n",
      "\u001b[34m\u001b[1mwandb\u001b[0m: \tnum_leaves: 50\n",
      "\u001b[34m\u001b[1mwandb\u001b[0m: \treg_alpha: 0\n",
      "\u001b[34m\u001b[1mwandb\u001b[0m: \treg_lambda: 0\n",
      "\u001b[34m\u001b[1mwandb\u001b[0m: \tsubsample: 1\n",
      "\u001b[34m\u001b[1mwandb\u001b[0m: \tsubsample_freq: 0\n",
      "\u001b[34m\u001b[1mwandb\u001b[0m: \tuse_covariates: True\n",
      "\u001b[34m\u001b[1mwandb\u001b[0m: \tuse_encoders: True\n",
      "\u001b[34m\u001b[1mwandb\u001b[0m: \tuse_features: False\n",
      "\u001b[34m\u001b[1mwandb\u001b[0m: \tuse_static_covariates: False\n",
      "Failed to detect the name of this notebook, you can set it manually with the WANDB_NOTEBOOK_NAME environment variable to enable code saving.\n"
     ]
    },
    {
     "data": {
      "text/html": [
       "Tracking run with wandb version 0.18.0"
      ],
      "text/plain": [
       "<IPython.core.display.HTML object>"
      ]
     },
     "metadata": {},
     "output_type": "display_data"
    },
    {
     "data": {
      "text/html": [
       "Run data is saved locally in <code>/home/wolffram/SARI-ML/realtime/wandb/run-20241001_213919-sntojq10</code>"
      ],
      "text/plain": [
       "<IPython.core.display.HTML object>"
      ]
     },
     "metadata": {},
     "output_type": "display_data"
    },
    {
     "data": {
      "text/html": [
       "Syncing run <strong><a href='https://wandb.ai/dwolffram-karlsruhe-institute-of-technology/realtime-lightgbm-expanding-window/runs/sntojq10' target=\"_blank\">zany-sweep-28</a></strong> to <a href='https://wandb.ai/dwolffram-karlsruhe-institute-of-technology/realtime-lightgbm-expanding-window' target=\"_blank\">Weights & Biases</a> (<a href='https://wandb.me/run' target=\"_blank\">docs</a>)<br/>Sweep page: <a href='https://wandb.ai/dwolffram-karlsruhe-institute-of-technology/realtime-lightgbm-expanding-window/sweeps/rbid04k0' target=\"_blank\">https://wandb.ai/dwolffram-karlsruhe-institute-of-technology/realtime-lightgbm-expanding-window/sweeps/rbid04k0</a>"
      ],
      "text/plain": [
       "<IPython.core.display.HTML object>"
      ]
     },
     "metadata": {},
     "output_type": "display_data"
    },
    {
     "data": {
      "text/html": [
       " View project at <a href='https://wandb.ai/dwolffram-karlsruhe-institute-of-technology/realtime-lightgbm-expanding-window' target=\"_blank\">https://wandb.ai/dwolffram-karlsruhe-institute-of-technology/realtime-lightgbm-expanding-window</a>"
      ],
      "text/plain": [
       "<IPython.core.display.HTML object>"
      ]
     },
     "metadata": {},
     "output_type": "display_data"
    },
    {
     "data": {
      "text/html": [
       " View sweep at <a href='https://wandb.ai/dwolffram-karlsruhe-institute-of-technology/realtime-lightgbm-expanding-window/sweeps/rbid04k0' target=\"_blank\">https://wandb.ai/dwolffram-karlsruhe-institute-of-technology/realtime-lightgbm-expanding-window/sweeps/rbid04k0</a>"
      ],
      "text/plain": [
       "<IPython.core.display.HTML object>"
      ]
     },
     "metadata": {},
     "output_type": "display_data"
    },
    {
     "data": {
      "text/html": [
       " View run at <a href='https://wandb.ai/dwolffram-karlsruhe-institute-of-technology/realtime-lightgbm-expanding-window/runs/sntojq10' target=\"_blank\">https://wandb.ai/dwolffram-karlsruhe-institute-of-technology/realtime-lightgbm-expanding-window/runs/sntojq10</a>"
      ],
      "text/plain": [
       "<IPython.core.display.HTML object>"
      ]
     },
     "metadata": {},
     "output_type": "display_data"
    },
    {
     "data": {
      "application/vnd.jupyter.widget-view+json": {
       "model_id": "b79abf6417424ed4835c3b37e5b47afb",
       "version_major": 2,
       "version_minor": 0
      },
      "text/plain": [
       "VBox(children=(Label(value='0.005 MB of 0.005 MB uploaded\\r'), FloatProgress(value=1.0, max=1.0)))"
      ]
     },
     "metadata": {},
     "output_type": "display_data"
    },
    {
     "data": {
      "text/html": [
       "<style>\n",
       "    table.wandb td:nth-child(1) { padding: 0 10px; text-align: left ; width: auto;} td:nth-child(2) {text-align: left ; width: 100%}\n",
       "    .wandb-row { display: flex; flex-direction: row; flex-wrap: wrap; justify-content: flex-start; width: 100% }\n",
       "    .wandb-col { display: flex; flex-direction: column; flex-basis: 100%; flex: 1; padding: 10px; }\n",
       "    </style>\n",
       "<div class=\"wandb-row\"><div class=\"wandb-col\"><h3>Run history:</h3><br/><table class=\"wandb\"><tr><td>WIS</td><td>▁</td></tr><tr><td>WIS_2018</td><td>▁</td></tr><tr><td>WIS_2019</td><td>▁</td></tr><tr><td>WIS_2022</td><td>▁</td></tr><tr><td>WIS_2023</td><td>▁</td></tr><tr><td>WIS_std</td><td>▁</td></tr></table><br/></div><div class=\"wandb-col\"><h3>Run summary:</h3><br/><table class=\"wandb\"><tr><td>WIS</td><td>354.26504</td></tr><tr><td>WIS_2018</td><td>200.25166</td></tr><tr><td>WIS_2019</td><td>280.13337</td></tr><tr><td>WIS_2022</td><td>496.63752</td></tr><tr><td>WIS_2023</td><td>440.03762</td></tr><tr><td>WIS_std</td><td>119.20831</td></tr></table><br/></div></div>"
      ],
      "text/plain": [
       "<IPython.core.display.HTML object>"
      ]
     },
     "metadata": {},
     "output_type": "display_data"
    },
    {
     "data": {
      "text/html": [
       " View run <strong style=\"color:#cdcd00\">zany-sweep-28</strong> at: <a href='https://wandb.ai/dwolffram-karlsruhe-institute-of-technology/realtime-lightgbm-expanding-window/runs/sntojq10' target=\"_blank\">https://wandb.ai/dwolffram-karlsruhe-institute-of-technology/realtime-lightgbm-expanding-window/runs/sntojq10</a><br/> View project at: <a href='https://wandb.ai/dwolffram-karlsruhe-institute-of-technology/realtime-lightgbm-expanding-window' target=\"_blank\">https://wandb.ai/dwolffram-karlsruhe-institute-of-technology/realtime-lightgbm-expanding-window</a><br/>Synced 5 W&B file(s), 0 media file(s), 0 artifact file(s) and 0 other file(s)"
      ],
      "text/plain": [
       "<IPython.core.display.HTML object>"
      ]
     },
     "metadata": {},
     "output_type": "display_data"
    },
    {
     "data": {
      "text/html": [
       "Find logs at: <code>./wandb/run-20241001_213919-sntojq10/logs</code>"
      ],
      "text/plain": [
       "<IPython.core.display.HTML object>"
      ]
     },
     "metadata": {},
     "output_type": "display_data"
    },
    {
     "name": "stderr",
     "output_type": "stream",
     "text": [
      "\u001b[34m\u001b[1mwandb\u001b[0m: Agent Starting Run: nbcicxfq with config:\n",
      "\u001b[34m\u001b[1mwandb\u001b[0m: \tcolsample_bytree: 1\n",
      "\u001b[34m\u001b[1mwandb\u001b[0m: \tlags: 8\n",
      "\u001b[34m\u001b[1mwandb\u001b[0m: \tlags_future_covariates: [0, 4]\n",
      "\u001b[34m\u001b[1mwandb\u001b[0m: \tlags_past_covariates: 8\n",
      "\u001b[34m\u001b[1mwandb\u001b[0m: \tlearning_rate: 0.01\n",
      "\u001b[34m\u001b[1mwandb\u001b[0m: \tmax_bin: 2048\n",
      "\u001b[34m\u001b[1mwandb\u001b[0m: \tmax_depth: 10\n",
      "\u001b[34m\u001b[1mwandb\u001b[0m: \tmin_child_samples: 20\n",
      "\u001b[34m\u001b[1mwandb\u001b[0m: \tmin_split_gain: 0.1\n",
      "\u001b[34m\u001b[1mwandb\u001b[0m: \tmodel: lightgbm\n",
      "\u001b[34m\u001b[1mwandb\u001b[0m: \tmultiple_series: False\n",
      "\u001b[34m\u001b[1mwandb\u001b[0m: \tn_estimators: 2000\n",
      "\u001b[34m\u001b[1mwandb\u001b[0m: \tnum_leaves: 31\n",
      "\u001b[34m\u001b[1mwandb\u001b[0m: \treg_alpha: 0\n",
      "\u001b[34m\u001b[1mwandb\u001b[0m: \treg_lambda: 0\n",
      "\u001b[34m\u001b[1mwandb\u001b[0m: \tsubsample: 1\n",
      "\u001b[34m\u001b[1mwandb\u001b[0m: \tsubsample_freq: 0\n",
      "\u001b[34m\u001b[1mwandb\u001b[0m: \tuse_covariates: False\n",
      "\u001b[34m\u001b[1mwandb\u001b[0m: \tuse_encoders: False\n",
      "\u001b[34m\u001b[1mwandb\u001b[0m: \tuse_features: False\n",
      "\u001b[34m\u001b[1mwandb\u001b[0m: \tuse_static_covariates: False\n",
      "Failed to detect the name of this notebook, you can set it manually with the WANDB_NOTEBOOK_NAME environment variable to enable code saving.\n"
     ]
    },
    {
     "data": {
      "text/html": [
       "Tracking run with wandb version 0.18.0"
      ],
      "text/plain": [
       "<IPython.core.display.HTML object>"
      ]
     },
     "metadata": {},
     "output_type": "display_data"
    },
    {
     "data": {
      "text/html": [
       "Run data is saved locally in <code>/home/wolffram/SARI-ML/realtime/wandb/run-20241001_220115-nbcicxfq</code>"
      ],
      "text/plain": [
       "<IPython.core.display.HTML object>"
      ]
     },
     "metadata": {},
     "output_type": "display_data"
    },
    {
     "data": {
      "text/html": [
       "Syncing run <strong><a href='https://wandb.ai/dwolffram-karlsruhe-institute-of-technology/realtime-lightgbm-expanding-window/runs/nbcicxfq' target=\"_blank\">kind-sweep-29</a></strong> to <a href='https://wandb.ai/dwolffram-karlsruhe-institute-of-technology/realtime-lightgbm-expanding-window' target=\"_blank\">Weights & Biases</a> (<a href='https://wandb.me/run' target=\"_blank\">docs</a>)<br/>Sweep page: <a href='https://wandb.ai/dwolffram-karlsruhe-institute-of-technology/realtime-lightgbm-expanding-window/sweeps/rbid04k0' target=\"_blank\">https://wandb.ai/dwolffram-karlsruhe-institute-of-technology/realtime-lightgbm-expanding-window/sweeps/rbid04k0</a>"
      ],
      "text/plain": [
       "<IPython.core.display.HTML object>"
      ]
     },
     "metadata": {},
     "output_type": "display_data"
    },
    {
     "data": {
      "text/html": [
       " View project at <a href='https://wandb.ai/dwolffram-karlsruhe-institute-of-technology/realtime-lightgbm-expanding-window' target=\"_blank\">https://wandb.ai/dwolffram-karlsruhe-institute-of-technology/realtime-lightgbm-expanding-window</a>"
      ],
      "text/plain": [
       "<IPython.core.display.HTML object>"
      ]
     },
     "metadata": {},
     "output_type": "display_data"
    },
    {
     "data": {
      "text/html": [
       " View sweep at <a href='https://wandb.ai/dwolffram-karlsruhe-institute-of-technology/realtime-lightgbm-expanding-window/sweeps/rbid04k0' target=\"_blank\">https://wandb.ai/dwolffram-karlsruhe-institute-of-technology/realtime-lightgbm-expanding-window/sweeps/rbid04k0</a>"
      ],
      "text/plain": [
       "<IPython.core.display.HTML object>"
      ]
     },
     "metadata": {},
     "output_type": "display_data"
    },
    {
     "data": {
      "text/html": [
       " View run at <a href='https://wandb.ai/dwolffram-karlsruhe-institute-of-technology/realtime-lightgbm-expanding-window/runs/nbcicxfq' target=\"_blank\">https://wandb.ai/dwolffram-karlsruhe-institute-of-technology/realtime-lightgbm-expanding-window/runs/nbcicxfq</a>"
      ],
      "text/plain": [
       "<IPython.core.display.HTML object>"
      ]
     },
     "metadata": {},
     "output_type": "display_data"
    },
    {
     "data": {
      "application/vnd.jupyter.widget-view+json": {
       "model_id": "8729a8dbc04a4ef08984e463a2fddbc6",
       "version_major": 2,
       "version_minor": 0
      },
      "text/plain": [
       "VBox(children=(Label(value='0.005 MB of 0.005 MB uploaded\\r'), FloatProgress(value=1.0, max=1.0)))"
      ]
     },
     "metadata": {},
     "output_type": "display_data"
    },
    {
     "data": {
      "text/html": [
       "<style>\n",
       "    table.wandb td:nth-child(1) { padding: 0 10px; text-align: left ; width: auto;} td:nth-child(2) {text-align: left ; width: 100%}\n",
       "    .wandb-row { display: flex; flex-direction: row; flex-wrap: wrap; justify-content: flex-start; width: 100% }\n",
       "    .wandb-col { display: flex; flex-direction: column; flex-basis: 100%; flex: 1; padding: 10px; }\n",
       "    </style>\n",
       "<div class=\"wandb-row\"><div class=\"wandb-col\"><h3>Run history:</h3><br/><table class=\"wandb\"><tr><td>WIS</td><td>▁</td></tr><tr><td>WIS_2018</td><td>▁</td></tr><tr><td>WIS_2019</td><td>▁</td></tr><tr><td>WIS_2022</td><td>▁</td></tr><tr><td>WIS_2023</td><td>▁</td></tr><tr><td>WIS_std</td><td>▁</td></tr></table><br/></div><div class=\"wandb-col\"><h3>Run summary:</h3><br/><table class=\"wandb\"><tr><td>WIS</td><td>358.83691</td></tr><tr><td>WIS_2018</td><td>263.09207</td></tr><tr><td>WIS_2019</td><td>279.28868</td></tr><tr><td>WIS_2022</td><td>479.98864</td></tr><tr><td>WIS_2023</td><td>412.97826</td></tr><tr><td>WIS_std</td><td>90.97255</td></tr></table><br/></div></div>"
      ],
      "text/plain": [
       "<IPython.core.display.HTML object>"
      ]
     },
     "metadata": {},
     "output_type": "display_data"
    },
    {
     "data": {
      "text/html": [
       " View run <strong style=\"color:#cdcd00\">kind-sweep-29</strong> at: <a href='https://wandb.ai/dwolffram-karlsruhe-institute-of-technology/realtime-lightgbm-expanding-window/runs/nbcicxfq' target=\"_blank\">https://wandb.ai/dwolffram-karlsruhe-institute-of-technology/realtime-lightgbm-expanding-window/runs/nbcicxfq</a><br/> View project at: <a href='https://wandb.ai/dwolffram-karlsruhe-institute-of-technology/realtime-lightgbm-expanding-window' target=\"_blank\">https://wandb.ai/dwolffram-karlsruhe-institute-of-technology/realtime-lightgbm-expanding-window</a><br/>Synced 5 W&B file(s), 0 media file(s), 0 artifact file(s) and 0 other file(s)"
      ],
      "text/plain": [
       "<IPython.core.display.HTML object>"
      ]
     },
     "metadata": {},
     "output_type": "display_data"
    },
    {
     "data": {
      "text/html": [
       "Find logs at: <code>./wandb/run-20241001_220115-nbcicxfq/logs</code>"
      ],
      "text/plain": [
       "<IPython.core.display.HTML object>"
      ]
     },
     "metadata": {},
     "output_type": "display_data"
    },
    {
     "name": "stderr",
     "output_type": "stream",
     "text": [
      "\u001b[34m\u001b[1mwandb\u001b[0m: Sweep Agent: Waiting for job.\n",
      "\u001b[34m\u001b[1mwandb\u001b[0m: Job received.\n",
      "\u001b[34m\u001b[1mwandb\u001b[0m: Agent Starting Run: 4cpczodu with config:\n",
      "\u001b[34m\u001b[1mwandb\u001b[0m: \tcolsample_bytree: 1\n",
      "\u001b[34m\u001b[1mwandb\u001b[0m: \tlags: 8\n",
      "\u001b[34m\u001b[1mwandb\u001b[0m: \tlags_future_covariates: [0, 4]\n",
      "\u001b[34m\u001b[1mwandb\u001b[0m: \tlags_past_covariates: 8\n",
      "\u001b[34m\u001b[1mwandb\u001b[0m: \tlearning_rate: 0.01\n",
      "\u001b[34m\u001b[1mwandb\u001b[0m: \tmax_bin: 1024\n",
      "\u001b[34m\u001b[1mwandb\u001b[0m: \tmax_depth: -1\n",
      "\u001b[34m\u001b[1mwandb\u001b[0m: \tmin_child_samples: 30\n",
      "\u001b[34m\u001b[1mwandb\u001b[0m: \tmin_split_gain: 0\n",
      "\u001b[34m\u001b[1mwandb\u001b[0m: \tmodel: lightgbm\n",
      "\u001b[34m\u001b[1mwandb\u001b[0m: \tmultiple_series: False\n",
      "\u001b[34m\u001b[1mwandb\u001b[0m: \tn_estimators: 1000\n",
      "\u001b[34m\u001b[1mwandb\u001b[0m: \tnum_leaves: 40\n",
      "\u001b[34m\u001b[1mwandb\u001b[0m: \treg_alpha: 0\n",
      "\u001b[34m\u001b[1mwandb\u001b[0m: \treg_lambda: 0\n",
      "\u001b[34m\u001b[1mwandb\u001b[0m: \tsubsample: 1\n",
      "\u001b[34m\u001b[1mwandb\u001b[0m: \tsubsample_freq: 0\n",
      "\u001b[34m\u001b[1mwandb\u001b[0m: \tuse_covariates: True\n",
      "\u001b[34m\u001b[1mwandb\u001b[0m: \tuse_encoders: False\n",
      "\u001b[34m\u001b[1mwandb\u001b[0m: \tuse_features: False\n",
      "\u001b[34m\u001b[1mwandb\u001b[0m: \tuse_static_covariates: False\n",
      "Failed to detect the name of this notebook, you can set it manually with the WANDB_NOTEBOOK_NAME environment variable to enable code saving.\n"
     ]
    },
    {
     "data": {
      "text/html": [
       "Tracking run with wandb version 0.18.0"
      ],
      "text/plain": [
       "<IPython.core.display.HTML object>"
      ]
     },
     "metadata": {},
     "output_type": "display_data"
    },
    {
     "data": {
      "text/html": [
       "Run data is saved locally in <code>/home/wolffram/SARI-ML/realtime/wandb/run-20241001_220742-4cpczodu</code>"
      ],
      "text/plain": [
       "<IPython.core.display.HTML object>"
      ]
     },
     "metadata": {},
     "output_type": "display_data"
    },
    {
     "data": {
      "text/html": [
       "Syncing run <strong><a href='https://wandb.ai/dwolffram-karlsruhe-institute-of-technology/realtime-lightgbm-expanding-window/runs/4cpczodu' target=\"_blank\">devoted-sweep-30</a></strong> to <a href='https://wandb.ai/dwolffram-karlsruhe-institute-of-technology/realtime-lightgbm-expanding-window' target=\"_blank\">Weights & Biases</a> (<a href='https://wandb.me/run' target=\"_blank\">docs</a>)<br/>Sweep page: <a href='https://wandb.ai/dwolffram-karlsruhe-institute-of-technology/realtime-lightgbm-expanding-window/sweeps/rbid04k0' target=\"_blank\">https://wandb.ai/dwolffram-karlsruhe-institute-of-technology/realtime-lightgbm-expanding-window/sweeps/rbid04k0</a>"
      ],
      "text/plain": [
       "<IPython.core.display.HTML object>"
      ]
     },
     "metadata": {},
     "output_type": "display_data"
    },
    {
     "data": {
      "text/html": [
       " View project at <a href='https://wandb.ai/dwolffram-karlsruhe-institute-of-technology/realtime-lightgbm-expanding-window' target=\"_blank\">https://wandb.ai/dwolffram-karlsruhe-institute-of-technology/realtime-lightgbm-expanding-window</a>"
      ],
      "text/plain": [
       "<IPython.core.display.HTML object>"
      ]
     },
     "metadata": {},
     "output_type": "display_data"
    },
    {
     "data": {
      "text/html": [
       " View sweep at <a href='https://wandb.ai/dwolffram-karlsruhe-institute-of-technology/realtime-lightgbm-expanding-window/sweeps/rbid04k0' target=\"_blank\">https://wandb.ai/dwolffram-karlsruhe-institute-of-technology/realtime-lightgbm-expanding-window/sweeps/rbid04k0</a>"
      ],
      "text/plain": [
       "<IPython.core.display.HTML object>"
      ]
     },
     "metadata": {},
     "output_type": "display_data"
    },
    {
     "data": {
      "text/html": [
       " View run at <a href='https://wandb.ai/dwolffram-karlsruhe-institute-of-technology/realtime-lightgbm-expanding-window/runs/4cpczodu' target=\"_blank\">https://wandb.ai/dwolffram-karlsruhe-institute-of-technology/realtime-lightgbm-expanding-window/runs/4cpczodu</a>"
      ],
      "text/plain": [
       "<IPython.core.display.HTML object>"
      ]
     },
     "metadata": {},
     "output_type": "display_data"
    },
    {
     "data": {
      "application/vnd.jupyter.widget-view+json": {
       "model_id": "975c508e15ff436b9daee2281052c20d",
       "version_major": 2,
       "version_minor": 0
      },
      "text/plain": [
       "VBox(children=(Label(value='0.005 MB of 0.005 MB uploaded\\r'), FloatProgress(value=1.0, max=1.0)))"
      ]
     },
     "metadata": {},
     "output_type": "display_data"
    },
    {
     "data": {
      "text/html": [
       "<style>\n",
       "    table.wandb td:nth-child(1) { padding: 0 10px; text-align: left ; width: auto;} td:nth-child(2) {text-align: left ; width: 100%}\n",
       "    .wandb-row { display: flex; flex-direction: row; flex-wrap: wrap; justify-content: flex-start; width: 100% }\n",
       "    .wandb-col { display: flex; flex-direction: column; flex-basis: 100%; flex: 1; padding: 10px; }\n",
       "    </style>\n",
       "<div class=\"wandb-row\"><div class=\"wandb-col\"><h3>Run history:</h3><br/><table class=\"wandb\"><tr><td>WIS</td><td>▁</td></tr><tr><td>WIS_2018</td><td>▁</td></tr><tr><td>WIS_2019</td><td>▁</td></tr><tr><td>WIS_2022</td><td>▁</td></tr><tr><td>WIS_2023</td><td>▁</td></tr><tr><td>WIS_std</td><td>▁</td></tr></table><br/></div><div class=\"wandb-col\"><h3>Run summary:</h3><br/><table class=\"wandb\"><tr><td>WIS</td><td>347.99385</td></tr><tr><td>WIS_2018</td><td>232.15519</td></tr><tr><td>WIS_2019</td><td>275.5862</td></tr><tr><td>WIS_2022</td><td>476.14347</td></tr><tr><td>WIS_2023</td><td>408.09056</td></tr><tr><td>WIS_std</td><td>98.35574</td></tr></table><br/></div></div>"
      ],
      "text/plain": [
       "<IPython.core.display.HTML object>"
      ]
     },
     "metadata": {},
     "output_type": "display_data"
    },
    {
     "data": {
      "text/html": [
       " View run <strong style=\"color:#cdcd00\">devoted-sweep-30</strong> at: <a href='https://wandb.ai/dwolffram-karlsruhe-institute-of-technology/realtime-lightgbm-expanding-window/runs/4cpczodu' target=\"_blank\">https://wandb.ai/dwolffram-karlsruhe-institute-of-technology/realtime-lightgbm-expanding-window/runs/4cpczodu</a><br/> View project at: <a href='https://wandb.ai/dwolffram-karlsruhe-institute-of-technology/realtime-lightgbm-expanding-window' target=\"_blank\">https://wandb.ai/dwolffram-karlsruhe-institute-of-technology/realtime-lightgbm-expanding-window</a><br/>Synced 5 W&B file(s), 0 media file(s), 0 artifact file(s) and 0 other file(s)"
      ],
      "text/plain": [
       "<IPython.core.display.HTML object>"
      ]
     },
     "metadata": {},
     "output_type": "display_data"
    },
    {
     "data": {
      "text/html": [
       "Find logs at: <code>./wandb/run-20241001_220742-4cpczodu/logs</code>"
      ],
      "text/plain": [
       "<IPython.core.display.HTML object>"
      ]
     },
     "metadata": {},
     "output_type": "display_data"
    },
    {
     "name": "stderr",
     "output_type": "stream",
     "text": [
      "\u001b[34m\u001b[1mwandb\u001b[0m: Agent Starting Run: ins8tlct with config:\n",
      "\u001b[34m\u001b[1mwandb\u001b[0m: \tcolsample_bytree: 1\n",
      "\u001b[34m\u001b[1mwandb\u001b[0m: \tlags: 8\n",
      "\u001b[34m\u001b[1mwandb\u001b[0m: \tlags_future_covariates: [0, 4]\n",
      "\u001b[34m\u001b[1mwandb\u001b[0m: \tlags_past_covariates: 8\n",
      "\u001b[34m\u001b[1mwandb\u001b[0m: \tlearning_rate: 0.1\n",
      "\u001b[34m\u001b[1mwandb\u001b[0m: \tmax_bin: 510\n",
      "\u001b[34m\u001b[1mwandb\u001b[0m: \tmax_depth: 15\n",
      "\u001b[34m\u001b[1mwandb\u001b[0m: \tmin_child_samples: 20\n",
      "\u001b[34m\u001b[1mwandb\u001b[0m: \tmin_split_gain: 0.2\n",
      "\u001b[34m\u001b[1mwandb\u001b[0m: \tmodel: lightgbm\n",
      "\u001b[34m\u001b[1mwandb\u001b[0m: \tmultiple_series: False\n",
      "\u001b[34m\u001b[1mwandb\u001b[0m: \tn_estimators: 250\n",
      "\u001b[34m\u001b[1mwandb\u001b[0m: \tnum_leaves: 10\n",
      "\u001b[34m\u001b[1mwandb\u001b[0m: \treg_alpha: 0\n",
      "\u001b[34m\u001b[1mwandb\u001b[0m: \treg_lambda: 0\n",
      "\u001b[34m\u001b[1mwandb\u001b[0m: \tsubsample: 1\n",
      "\u001b[34m\u001b[1mwandb\u001b[0m: \tsubsample_freq: 0\n",
      "\u001b[34m\u001b[1mwandb\u001b[0m: \tuse_covariates: True\n",
      "\u001b[34m\u001b[1mwandb\u001b[0m: \tuse_encoders: True\n",
      "\u001b[34m\u001b[1mwandb\u001b[0m: \tuse_features: False\n",
      "\u001b[34m\u001b[1mwandb\u001b[0m: \tuse_static_covariates: False\n",
      "Failed to detect the name of this notebook, you can set it manually with the WANDB_NOTEBOOK_NAME environment variable to enable code saving.\n"
     ]
    },
    {
     "data": {
      "text/html": [
       "Tracking run with wandb version 0.18.0"
      ],
      "text/plain": [
       "<IPython.core.display.HTML object>"
      ]
     },
     "metadata": {},
     "output_type": "display_data"
    },
    {
     "data": {
      "text/html": [
       "Run data is saved locally in <code>/home/wolffram/SARI-ML/realtime/wandb/run-20241001_221116-ins8tlct</code>"
      ],
      "text/plain": [
       "<IPython.core.display.HTML object>"
      ]
     },
     "metadata": {},
     "output_type": "display_data"
    },
    {
     "data": {
      "text/html": [
       "Syncing run <strong><a href='https://wandb.ai/dwolffram-karlsruhe-institute-of-technology/realtime-lightgbm-expanding-window/runs/ins8tlct' target=\"_blank\">colorful-sweep-31</a></strong> to <a href='https://wandb.ai/dwolffram-karlsruhe-institute-of-technology/realtime-lightgbm-expanding-window' target=\"_blank\">Weights & Biases</a> (<a href='https://wandb.me/run' target=\"_blank\">docs</a>)<br/>Sweep page: <a href='https://wandb.ai/dwolffram-karlsruhe-institute-of-technology/realtime-lightgbm-expanding-window/sweeps/rbid04k0' target=\"_blank\">https://wandb.ai/dwolffram-karlsruhe-institute-of-technology/realtime-lightgbm-expanding-window/sweeps/rbid04k0</a>"
      ],
      "text/plain": [
       "<IPython.core.display.HTML object>"
      ]
     },
     "metadata": {},
     "output_type": "display_data"
    },
    {
     "data": {
      "text/html": [
       " View project at <a href='https://wandb.ai/dwolffram-karlsruhe-institute-of-technology/realtime-lightgbm-expanding-window' target=\"_blank\">https://wandb.ai/dwolffram-karlsruhe-institute-of-technology/realtime-lightgbm-expanding-window</a>"
      ],
      "text/plain": [
       "<IPython.core.display.HTML object>"
      ]
     },
     "metadata": {},
     "output_type": "display_data"
    },
    {
     "data": {
      "text/html": [
       " View sweep at <a href='https://wandb.ai/dwolffram-karlsruhe-institute-of-technology/realtime-lightgbm-expanding-window/sweeps/rbid04k0' target=\"_blank\">https://wandb.ai/dwolffram-karlsruhe-institute-of-technology/realtime-lightgbm-expanding-window/sweeps/rbid04k0</a>"
      ],
      "text/plain": [
       "<IPython.core.display.HTML object>"
      ]
     },
     "metadata": {},
     "output_type": "display_data"
    },
    {
     "data": {
      "text/html": [
       " View run at <a href='https://wandb.ai/dwolffram-karlsruhe-institute-of-technology/realtime-lightgbm-expanding-window/runs/ins8tlct' target=\"_blank\">https://wandb.ai/dwolffram-karlsruhe-institute-of-technology/realtime-lightgbm-expanding-window/runs/ins8tlct</a>"
      ],
      "text/plain": [
       "<IPython.core.display.HTML object>"
      ]
     },
     "metadata": {},
     "output_type": "display_data"
    },
    {
     "data": {
      "application/vnd.jupyter.widget-view+json": {
       "model_id": "4bb408c012f0489ea19d2b141cbde0c5",
       "version_major": 2,
       "version_minor": 0
      },
      "text/plain": [
       "VBox(children=(Label(value='0.005 MB of 0.005 MB uploaded\\r'), FloatProgress(value=1.0, max=1.0)))"
      ]
     },
     "metadata": {},
     "output_type": "display_data"
    },
    {
     "data": {
      "text/html": [
       "<style>\n",
       "    table.wandb td:nth-child(1) { padding: 0 10px; text-align: left ; width: auto;} td:nth-child(2) {text-align: left ; width: 100%}\n",
       "    .wandb-row { display: flex; flex-direction: row; flex-wrap: wrap; justify-content: flex-start; width: 100% }\n",
       "    .wandb-col { display: flex; flex-direction: column; flex-basis: 100%; flex: 1; padding: 10px; }\n",
       "    </style>\n",
       "<div class=\"wandb-row\"><div class=\"wandb-col\"><h3>Run history:</h3><br/><table class=\"wandb\"><tr><td>WIS</td><td>▁</td></tr><tr><td>WIS_2018</td><td>▁</td></tr><tr><td>WIS_2019</td><td>▁</td></tr><tr><td>WIS_2022</td><td>▁</td></tr><tr><td>WIS_2023</td><td>▁</td></tr><tr><td>WIS_std</td><td>▁</td></tr></table><br/></div><div class=\"wandb-col\"><h3>Run summary:</h3><br/><table class=\"wandb\"><tr><td>WIS</td><td>343.48578</td></tr><tr><td>WIS_2018</td><td>218.72045</td></tr><tr><td>WIS_2019</td><td>272.81805</td></tr><tr><td>WIS_2022</td><td>472.73738</td></tr><tr><td>WIS_2023</td><td>409.66725</td></tr><tr><td>WIS_std</td><td>102.0371</td></tr></table><br/></div></div>"
      ],
      "text/plain": [
       "<IPython.core.display.HTML object>"
      ]
     },
     "metadata": {},
     "output_type": "display_data"
    },
    {
     "data": {
      "text/html": [
       " View run <strong style=\"color:#cdcd00\">colorful-sweep-31</strong> at: <a href='https://wandb.ai/dwolffram-karlsruhe-institute-of-technology/realtime-lightgbm-expanding-window/runs/ins8tlct' target=\"_blank\">https://wandb.ai/dwolffram-karlsruhe-institute-of-technology/realtime-lightgbm-expanding-window/runs/ins8tlct</a><br/> View project at: <a href='https://wandb.ai/dwolffram-karlsruhe-institute-of-technology/realtime-lightgbm-expanding-window' target=\"_blank\">https://wandb.ai/dwolffram-karlsruhe-institute-of-technology/realtime-lightgbm-expanding-window</a><br/>Synced 5 W&B file(s), 0 media file(s), 0 artifact file(s) and 0 other file(s)"
      ],
      "text/plain": [
       "<IPython.core.display.HTML object>"
      ]
     },
     "metadata": {},
     "output_type": "display_data"
    },
    {
     "data": {
      "text/html": [
       "Find logs at: <code>./wandb/run-20241001_221116-ins8tlct/logs</code>"
      ],
      "text/plain": [
       "<IPython.core.display.HTML object>"
      ]
     },
     "metadata": {},
     "output_type": "display_data"
    },
    {
     "name": "stderr",
     "output_type": "stream",
     "text": [
      "\u001b[34m\u001b[1mwandb\u001b[0m: Sweep Agent: Waiting for job.\n",
      "\u001b[34m\u001b[1mwandb\u001b[0m: Job received.\n",
      "\u001b[34m\u001b[1mwandb\u001b[0m: Agent Starting Run: 6gg6kxzw with config:\n",
      "\u001b[34m\u001b[1mwandb\u001b[0m: \tcolsample_bytree: 1\n",
      "\u001b[34m\u001b[1mwandb\u001b[0m: \tlags: 8\n",
      "\u001b[34m\u001b[1mwandb\u001b[0m: \tlags_future_covariates: [0, 4]\n",
      "\u001b[34m\u001b[1mwandb\u001b[0m: \tlags_past_covariates: 8\n",
      "\u001b[34m\u001b[1mwandb\u001b[0m: \tlearning_rate: 0.2\n",
      "\u001b[34m\u001b[1mwandb\u001b[0m: \tmax_bin: 2048\n",
      "\u001b[34m\u001b[1mwandb\u001b[0m: \tmax_depth: 20\n",
      "\u001b[34m\u001b[1mwandb\u001b[0m: \tmin_child_samples: 20\n",
      "\u001b[34m\u001b[1mwandb\u001b[0m: \tmin_split_gain: 0.1\n",
      "\u001b[34m\u001b[1mwandb\u001b[0m: \tmodel: lightgbm\n",
      "\u001b[34m\u001b[1mwandb\u001b[0m: \tmultiple_series: False\n",
      "\u001b[34m\u001b[1mwandb\u001b[0m: \tn_estimators: 500\n",
      "\u001b[34m\u001b[1mwandb\u001b[0m: \tnum_leaves: 20\n",
      "\u001b[34m\u001b[1mwandb\u001b[0m: \treg_alpha: 0\n",
      "\u001b[34m\u001b[1mwandb\u001b[0m: \treg_lambda: 0\n",
      "\u001b[34m\u001b[1mwandb\u001b[0m: \tsubsample: 1\n",
      "\u001b[34m\u001b[1mwandb\u001b[0m: \tsubsample_freq: 0\n",
      "\u001b[34m\u001b[1mwandb\u001b[0m: \tuse_covariates: False\n",
      "\u001b[34m\u001b[1mwandb\u001b[0m: \tuse_encoders: False\n",
      "\u001b[34m\u001b[1mwandb\u001b[0m: \tuse_features: False\n",
      "\u001b[34m\u001b[1mwandb\u001b[0m: \tuse_static_covariates: False\n",
      "Failed to detect the name of this notebook, you can set it manually with the WANDB_NOTEBOOK_NAME environment variable to enable code saving.\n"
     ]
    },
    {
     "data": {
      "text/html": [
       "Tracking run with wandb version 0.18.0"
      ],
      "text/plain": [
       "<IPython.core.display.HTML object>"
      ]
     },
     "metadata": {},
     "output_type": "display_data"
    },
    {
     "data": {
      "text/html": [
       "Run data is saved locally in <code>/home/wolffram/SARI-ML/realtime/wandb/run-20241001_221239-6gg6kxzw</code>"
      ],
      "text/plain": [
       "<IPython.core.display.HTML object>"
      ]
     },
     "metadata": {},
     "output_type": "display_data"
    },
    {
     "data": {
      "text/html": [
       "Syncing run <strong><a href='https://wandb.ai/dwolffram-karlsruhe-institute-of-technology/realtime-lightgbm-expanding-window/runs/6gg6kxzw' target=\"_blank\">visionary-sweep-32</a></strong> to <a href='https://wandb.ai/dwolffram-karlsruhe-institute-of-technology/realtime-lightgbm-expanding-window' target=\"_blank\">Weights & Biases</a> (<a href='https://wandb.me/run' target=\"_blank\">docs</a>)<br/>Sweep page: <a href='https://wandb.ai/dwolffram-karlsruhe-institute-of-technology/realtime-lightgbm-expanding-window/sweeps/rbid04k0' target=\"_blank\">https://wandb.ai/dwolffram-karlsruhe-institute-of-technology/realtime-lightgbm-expanding-window/sweeps/rbid04k0</a>"
      ],
      "text/plain": [
       "<IPython.core.display.HTML object>"
      ]
     },
     "metadata": {},
     "output_type": "display_data"
    },
    {
     "data": {
      "text/html": [
       " View project at <a href='https://wandb.ai/dwolffram-karlsruhe-institute-of-technology/realtime-lightgbm-expanding-window' target=\"_blank\">https://wandb.ai/dwolffram-karlsruhe-institute-of-technology/realtime-lightgbm-expanding-window</a>"
      ],
      "text/plain": [
       "<IPython.core.display.HTML object>"
      ]
     },
     "metadata": {},
     "output_type": "display_data"
    },
    {
     "data": {
      "text/html": [
       " View sweep at <a href='https://wandb.ai/dwolffram-karlsruhe-institute-of-technology/realtime-lightgbm-expanding-window/sweeps/rbid04k0' target=\"_blank\">https://wandb.ai/dwolffram-karlsruhe-institute-of-technology/realtime-lightgbm-expanding-window/sweeps/rbid04k0</a>"
      ],
      "text/plain": [
       "<IPython.core.display.HTML object>"
      ]
     },
     "metadata": {},
     "output_type": "display_data"
    },
    {
     "data": {
      "text/html": [
       " View run at <a href='https://wandb.ai/dwolffram-karlsruhe-institute-of-technology/realtime-lightgbm-expanding-window/runs/6gg6kxzw' target=\"_blank\">https://wandb.ai/dwolffram-karlsruhe-institute-of-technology/realtime-lightgbm-expanding-window/runs/6gg6kxzw</a>"
      ],
      "text/plain": [
       "<IPython.core.display.HTML object>"
      ]
     },
     "metadata": {},
     "output_type": "display_data"
    },
    {
     "data": {
      "application/vnd.jupyter.widget-view+json": {
       "model_id": "eeaf1323d57a470bbed83d13ebd478e7",
       "version_major": 2,
       "version_minor": 0
      },
      "text/plain": [
       "VBox(children=(Label(value='0.005 MB of 0.005 MB uploaded\\r'), FloatProgress(value=1.0, max=1.0)))"
      ]
     },
     "metadata": {},
     "output_type": "display_data"
    },
    {
     "data": {
      "text/html": [
       "<style>\n",
       "    table.wandb td:nth-child(1) { padding: 0 10px; text-align: left ; width: auto;} td:nth-child(2) {text-align: left ; width: 100%}\n",
       "    .wandb-row { display: flex; flex-direction: row; flex-wrap: wrap; justify-content: flex-start; width: 100% }\n",
       "    .wandb-col { display: flex; flex-direction: column; flex-basis: 100%; flex: 1; padding: 10px; }\n",
       "    </style>\n",
       "<div class=\"wandb-row\"><div class=\"wandb-col\"><h3>Run history:</h3><br/><table class=\"wandb\"><tr><td>WIS</td><td>▁</td></tr><tr><td>WIS_2018</td><td>▁</td></tr><tr><td>WIS_2019</td><td>▁</td></tr><tr><td>WIS_2022</td><td>▁</td></tr><tr><td>WIS_2023</td><td>▁</td></tr><tr><td>WIS_std</td><td>▁</td></tr></table><br/></div><div class=\"wandb-col\"><h3>Run summary:</h3><br/><table class=\"wandb\"><tr><td>WIS</td><td>361.98946</td></tr><tr><td>WIS_2018</td><td>261.28898</td></tr><tr><td>WIS_2019</td><td>275.77502</td></tr><tr><td>WIS_2022</td><td>490.12508</td></tr><tr><td>WIS_2023</td><td>420.76874</td></tr><tr><td>WIS_std</td><td>96.75647</td></tr></table><br/></div></div>"
      ],
      "text/plain": [
       "<IPython.core.display.HTML object>"
      ]
     },
     "metadata": {},
     "output_type": "display_data"
    },
    {
     "data": {
      "text/html": [
       " View run <strong style=\"color:#cdcd00\">visionary-sweep-32</strong> at: <a href='https://wandb.ai/dwolffram-karlsruhe-institute-of-technology/realtime-lightgbm-expanding-window/runs/6gg6kxzw' target=\"_blank\">https://wandb.ai/dwolffram-karlsruhe-institute-of-technology/realtime-lightgbm-expanding-window/runs/6gg6kxzw</a><br/> View project at: <a href='https://wandb.ai/dwolffram-karlsruhe-institute-of-technology/realtime-lightgbm-expanding-window' target=\"_blank\">https://wandb.ai/dwolffram-karlsruhe-institute-of-technology/realtime-lightgbm-expanding-window</a><br/>Synced 5 W&B file(s), 0 media file(s), 0 artifact file(s) and 0 other file(s)"
      ],
      "text/plain": [
       "<IPython.core.display.HTML object>"
      ]
     },
     "metadata": {},
     "output_type": "display_data"
    },
    {
     "data": {
      "text/html": [
       "Find logs at: <code>./wandb/run-20241001_221239-6gg6kxzw/logs</code>"
      ],
      "text/plain": [
       "<IPython.core.display.HTML object>"
      ]
     },
     "metadata": {},
     "output_type": "display_data"
    },
    {
     "name": "stderr",
     "output_type": "stream",
     "text": [
      "\u001b[34m\u001b[1mwandb\u001b[0m: Sweep Agent: Waiting for job.\n",
      "\u001b[34m\u001b[1mwandb\u001b[0m: Job received.\n",
      "\u001b[34m\u001b[1mwandb\u001b[0m: Agent Starting Run: rscwlj3d with config:\n",
      "\u001b[34m\u001b[1mwandb\u001b[0m: \tcolsample_bytree: 1\n",
      "\u001b[34m\u001b[1mwandb\u001b[0m: \tlags: 8\n",
      "\u001b[34m\u001b[1mwandb\u001b[0m: \tlags_future_covariates: [0, 4]\n",
      "\u001b[34m\u001b[1mwandb\u001b[0m: \tlags_past_covariates: 8\n",
      "\u001b[34m\u001b[1mwandb\u001b[0m: \tlearning_rate: 0.01\n",
      "\u001b[34m\u001b[1mwandb\u001b[0m: \tmax_bin: 2048\n",
      "\u001b[34m\u001b[1mwandb\u001b[0m: \tmax_depth: 10\n",
      "\u001b[34m\u001b[1mwandb\u001b[0m: \tmin_child_samples: 30\n",
      "\u001b[34m\u001b[1mwandb\u001b[0m: \tmin_split_gain: 0\n",
      "\u001b[34m\u001b[1mwandb\u001b[0m: \tmodel: lightgbm\n",
      "\u001b[34m\u001b[1mwandb\u001b[0m: \tmultiple_series: False\n",
      "\u001b[34m\u001b[1mwandb\u001b[0m: \tn_estimators: 1000\n",
      "\u001b[34m\u001b[1mwandb\u001b[0m: \tnum_leaves: 50\n",
      "\u001b[34m\u001b[1mwandb\u001b[0m: \treg_alpha: 0\n",
      "\u001b[34m\u001b[1mwandb\u001b[0m: \treg_lambda: 0\n",
      "\u001b[34m\u001b[1mwandb\u001b[0m: \tsubsample: 1\n",
      "\u001b[34m\u001b[1mwandb\u001b[0m: \tsubsample_freq: 0\n",
      "\u001b[34m\u001b[1mwandb\u001b[0m: \tuse_covariates: True\n",
      "\u001b[34m\u001b[1mwandb\u001b[0m: \tuse_encoders: False\n",
      "\u001b[34m\u001b[1mwandb\u001b[0m: \tuse_features: False\n",
      "\u001b[34m\u001b[1mwandb\u001b[0m: \tuse_static_covariates: False\n",
      "Failed to detect the name of this notebook, you can set it manually with the WANDB_NOTEBOOK_NAME environment variable to enable code saving.\n"
     ]
    },
    {
     "data": {
      "text/html": [
       "Tracking run with wandb version 0.18.0"
      ],
      "text/plain": [
       "<IPython.core.display.HTML object>"
      ]
     },
     "metadata": {},
     "output_type": "display_data"
    },
    {
     "data": {
      "text/html": [
       "Run data is saved locally in <code>/home/wolffram/SARI-ML/realtime/wandb/run-20241001_221439-rscwlj3d</code>"
      ],
      "text/plain": [
       "<IPython.core.display.HTML object>"
      ]
     },
     "metadata": {},
     "output_type": "display_data"
    },
    {
     "data": {
      "text/html": [
       "Syncing run <strong><a href='https://wandb.ai/dwolffram-karlsruhe-institute-of-technology/realtime-lightgbm-expanding-window/runs/rscwlj3d' target=\"_blank\">daily-sweep-33</a></strong> to <a href='https://wandb.ai/dwolffram-karlsruhe-institute-of-technology/realtime-lightgbm-expanding-window' target=\"_blank\">Weights & Biases</a> (<a href='https://wandb.me/run' target=\"_blank\">docs</a>)<br/>Sweep page: <a href='https://wandb.ai/dwolffram-karlsruhe-institute-of-technology/realtime-lightgbm-expanding-window/sweeps/rbid04k0' target=\"_blank\">https://wandb.ai/dwolffram-karlsruhe-institute-of-technology/realtime-lightgbm-expanding-window/sweeps/rbid04k0</a>"
      ],
      "text/plain": [
       "<IPython.core.display.HTML object>"
      ]
     },
     "metadata": {},
     "output_type": "display_data"
    },
    {
     "data": {
      "text/html": [
       " View project at <a href='https://wandb.ai/dwolffram-karlsruhe-institute-of-technology/realtime-lightgbm-expanding-window' target=\"_blank\">https://wandb.ai/dwolffram-karlsruhe-institute-of-technology/realtime-lightgbm-expanding-window</a>"
      ],
      "text/plain": [
       "<IPython.core.display.HTML object>"
      ]
     },
     "metadata": {},
     "output_type": "display_data"
    },
    {
     "data": {
      "text/html": [
       " View sweep at <a href='https://wandb.ai/dwolffram-karlsruhe-institute-of-technology/realtime-lightgbm-expanding-window/sweeps/rbid04k0' target=\"_blank\">https://wandb.ai/dwolffram-karlsruhe-institute-of-technology/realtime-lightgbm-expanding-window/sweeps/rbid04k0</a>"
      ],
      "text/plain": [
       "<IPython.core.display.HTML object>"
      ]
     },
     "metadata": {},
     "output_type": "display_data"
    },
    {
     "data": {
      "text/html": [
       " View run at <a href='https://wandb.ai/dwolffram-karlsruhe-institute-of-technology/realtime-lightgbm-expanding-window/runs/rscwlj3d' target=\"_blank\">https://wandb.ai/dwolffram-karlsruhe-institute-of-technology/realtime-lightgbm-expanding-window/runs/rscwlj3d</a>"
      ],
      "text/plain": [
       "<IPython.core.display.HTML object>"
      ]
     },
     "metadata": {},
     "output_type": "display_data"
    },
    {
     "data": {
      "application/vnd.jupyter.widget-view+json": {
       "model_id": "230644c19eee4cf488bbfd53879409d5",
       "version_major": 2,
       "version_minor": 0
      },
      "text/plain": [
       "VBox(children=(Label(value='0.005 MB of 0.005 MB uploaded\\r'), FloatProgress(value=1.0, max=1.0)))"
      ]
     },
     "metadata": {},
     "output_type": "display_data"
    },
    {
     "data": {
      "text/html": [
       "<style>\n",
       "    table.wandb td:nth-child(1) { padding: 0 10px; text-align: left ; width: auto;} td:nth-child(2) {text-align: left ; width: 100%}\n",
       "    .wandb-row { display: flex; flex-direction: row; flex-wrap: wrap; justify-content: flex-start; width: 100% }\n",
       "    .wandb-col { display: flex; flex-direction: column; flex-basis: 100%; flex: 1; padding: 10px; }\n",
       "    </style>\n",
       "<div class=\"wandb-row\"><div class=\"wandb-col\"><h3>Run history:</h3><br/><table class=\"wandb\"><tr><td>WIS</td><td>▁</td></tr><tr><td>WIS_2018</td><td>▁</td></tr><tr><td>WIS_2019</td><td>▁</td></tr><tr><td>WIS_2022</td><td>▁</td></tr><tr><td>WIS_2023</td><td>▁</td></tr><tr><td>WIS_std</td><td>▁</td></tr></table><br/></div><div class=\"wandb-col\"><h3>Run summary:</h3><br/><table class=\"wandb\"><tr><td>WIS</td><td>348.60447</td></tr><tr><td>WIS_2018</td><td>233.04713</td></tr><tr><td>WIS_2019</td><td>276.55795</td></tr><tr><td>WIS_2022</td><td>476.8863</td></tr><tr><td>WIS_2023</td><td>407.92651</td></tr><tr><td>WIS_std</td><td>98.13197</td></tr></table><br/></div></div>"
      ],
      "text/plain": [
       "<IPython.core.display.HTML object>"
      ]
     },
     "metadata": {},
     "output_type": "display_data"
    },
    {
     "data": {
      "text/html": [
       " View run <strong style=\"color:#cdcd00\">daily-sweep-33</strong> at: <a href='https://wandb.ai/dwolffram-karlsruhe-institute-of-technology/realtime-lightgbm-expanding-window/runs/rscwlj3d' target=\"_blank\">https://wandb.ai/dwolffram-karlsruhe-institute-of-technology/realtime-lightgbm-expanding-window/runs/rscwlj3d</a><br/> View project at: <a href='https://wandb.ai/dwolffram-karlsruhe-institute-of-technology/realtime-lightgbm-expanding-window' target=\"_blank\">https://wandb.ai/dwolffram-karlsruhe-institute-of-technology/realtime-lightgbm-expanding-window</a><br/>Synced 5 W&B file(s), 0 media file(s), 0 artifact file(s) and 0 other file(s)"
      ],
      "text/plain": [
       "<IPython.core.display.HTML object>"
      ]
     },
     "metadata": {},
     "output_type": "display_data"
    },
    {
     "data": {
      "text/html": [
       "Find logs at: <code>./wandb/run-20241001_221439-rscwlj3d/logs</code>"
      ],
      "text/plain": [
       "<IPython.core.display.HTML object>"
      ]
     },
     "metadata": {},
     "output_type": "display_data"
    },
    {
     "name": "stderr",
     "output_type": "stream",
     "text": [
      "\u001b[34m\u001b[1mwandb\u001b[0m: Agent Starting Run: 9x9gyviy with config:\n",
      "\u001b[34m\u001b[1mwandb\u001b[0m: \tcolsample_bytree: 1\n",
      "\u001b[34m\u001b[1mwandb\u001b[0m: \tlags: 8\n",
      "\u001b[34m\u001b[1mwandb\u001b[0m: \tlags_future_covariates: [0, 4]\n",
      "\u001b[34m\u001b[1mwandb\u001b[0m: \tlags_past_covariates: 8\n",
      "\u001b[34m\u001b[1mwandb\u001b[0m: \tlearning_rate: 0.05\n",
      "\u001b[34m\u001b[1mwandb\u001b[0m: \tmax_bin: 2048\n",
      "\u001b[34m\u001b[1mwandb\u001b[0m: \tmax_depth: 20\n",
      "\u001b[34m\u001b[1mwandb\u001b[0m: \tmin_child_samples: 10\n",
      "\u001b[34m\u001b[1mwandb\u001b[0m: \tmin_split_gain: 0.2\n",
      "\u001b[34m\u001b[1mwandb\u001b[0m: \tmodel: lightgbm\n",
      "\u001b[34m\u001b[1mwandb\u001b[0m: \tmultiple_series: False\n",
      "\u001b[34m\u001b[1mwandb\u001b[0m: \tn_estimators: 2000\n",
      "\u001b[34m\u001b[1mwandb\u001b[0m: \tnum_leaves: 10\n",
      "\u001b[34m\u001b[1mwandb\u001b[0m: \treg_alpha: 0\n",
      "\u001b[34m\u001b[1mwandb\u001b[0m: \treg_lambda: 0\n",
      "\u001b[34m\u001b[1mwandb\u001b[0m: \tsubsample: 1\n",
      "\u001b[34m\u001b[1mwandb\u001b[0m: \tsubsample_freq: 0\n",
      "\u001b[34m\u001b[1mwandb\u001b[0m: \tuse_covariates: False\n",
      "\u001b[34m\u001b[1mwandb\u001b[0m: \tuse_encoders: True\n",
      "\u001b[34m\u001b[1mwandb\u001b[0m: \tuse_features: False\n",
      "\u001b[34m\u001b[1mwandb\u001b[0m: \tuse_static_covariates: False\n",
      "Failed to detect the name of this notebook, you can set it manually with the WANDB_NOTEBOOK_NAME environment variable to enable code saving.\n"
     ]
    },
    {
     "data": {
      "text/html": [
       "Tracking run with wandb version 0.18.0"
      ],
      "text/plain": [
       "<IPython.core.display.HTML object>"
      ]
     },
     "metadata": {},
     "output_type": "display_data"
    },
    {
     "data": {
      "text/html": [
       "Run data is saved locally in <code>/home/wolffram/SARI-ML/realtime/wandb/run-20241001_221819-9x9gyviy</code>"
      ],
      "text/plain": [
       "<IPython.core.display.HTML object>"
      ]
     },
     "metadata": {},
     "output_type": "display_data"
    },
    {
     "data": {
      "text/html": [
       "Syncing run <strong><a href='https://wandb.ai/dwolffram-karlsruhe-institute-of-technology/realtime-lightgbm-expanding-window/runs/9x9gyviy' target=\"_blank\">fresh-sweep-34</a></strong> to <a href='https://wandb.ai/dwolffram-karlsruhe-institute-of-technology/realtime-lightgbm-expanding-window' target=\"_blank\">Weights & Biases</a> (<a href='https://wandb.me/run' target=\"_blank\">docs</a>)<br/>Sweep page: <a href='https://wandb.ai/dwolffram-karlsruhe-institute-of-technology/realtime-lightgbm-expanding-window/sweeps/rbid04k0' target=\"_blank\">https://wandb.ai/dwolffram-karlsruhe-institute-of-technology/realtime-lightgbm-expanding-window/sweeps/rbid04k0</a>"
      ],
      "text/plain": [
       "<IPython.core.display.HTML object>"
      ]
     },
     "metadata": {},
     "output_type": "display_data"
    },
    {
     "data": {
      "text/html": [
       " View project at <a href='https://wandb.ai/dwolffram-karlsruhe-institute-of-technology/realtime-lightgbm-expanding-window' target=\"_blank\">https://wandb.ai/dwolffram-karlsruhe-institute-of-technology/realtime-lightgbm-expanding-window</a>"
      ],
      "text/plain": [
       "<IPython.core.display.HTML object>"
      ]
     },
     "metadata": {},
     "output_type": "display_data"
    },
    {
     "data": {
      "text/html": [
       " View sweep at <a href='https://wandb.ai/dwolffram-karlsruhe-institute-of-technology/realtime-lightgbm-expanding-window/sweeps/rbid04k0' target=\"_blank\">https://wandb.ai/dwolffram-karlsruhe-institute-of-technology/realtime-lightgbm-expanding-window/sweeps/rbid04k0</a>"
      ],
      "text/plain": [
       "<IPython.core.display.HTML object>"
      ]
     },
     "metadata": {},
     "output_type": "display_data"
    },
    {
     "data": {
      "text/html": [
       " View run at <a href='https://wandb.ai/dwolffram-karlsruhe-institute-of-technology/realtime-lightgbm-expanding-window/runs/9x9gyviy' target=\"_blank\">https://wandb.ai/dwolffram-karlsruhe-institute-of-technology/realtime-lightgbm-expanding-window/runs/9x9gyviy</a>"
      ],
      "text/plain": [
       "<IPython.core.display.HTML object>"
      ]
     },
     "metadata": {},
     "output_type": "display_data"
    }
   ],
   "source": [
    "wandb.agent(sweep_id, function=main, count=1000)"
   ]
  },
  {
   "cell_type": "code",
   "execution_count": null,
   "id": "15bb0b80-ac85-455f-82f7-6a0d7c1cb9f9",
   "metadata": {},
   "outputs": [],
   "source": []
  }
 ],
 "metadata": {
  "kernelspec": {
   "display_name": "RESPINOW-ML",
   "language": "python",
   "name": "respinow-ml"
  },
  "language_info": {
   "codemirror_mode": {
    "name": "ipython",
    "version": 3
   },
   "file_extension": ".py",
   "mimetype": "text/x-python",
   "name": "python",
   "nbconvert_exporter": "python",
   "pygments_lexer": "ipython3",
   "version": "3.9.18"
  }
 },
 "nbformat": 4,
 "nbformat_minor": 5
}
