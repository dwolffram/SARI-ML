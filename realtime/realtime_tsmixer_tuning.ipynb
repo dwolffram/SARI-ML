{
 "cells": [
  {
   "cell_type": "markdown",
   "id": "bd96768a-3882-460b-b147-9f652d0f38c5",
   "metadata": {
    "tags": []
   },
   "source": [
    "### Setup"
   ]
  },
  {
   "cell_type": "code",
   "execution_count": 2,
   "id": "52fa4f8b-452f-451a-bf0a-41add3c55f3d",
   "metadata": {},
   "outputs": [],
   "source": [
    "import sys\n",
    "sys.path.append('../')\n",
    "from src.load_data import *\n",
    "from src.realtime_utils import *\n",
    "from src.plot_functions import *\n",
    "from src.hp_tuning_functions import *\n",
    "import torch\n",
    "from darts.utils.likelihood_models import NegativeBinomialLikelihood\n",
    "from pytorch_lightning.callbacks import RichProgressBar"
   ]
  },
  {
   "cell_type": "code",
   "execution_count": 3,
   "id": "a02053c9-f014-462a-89f0-96eeb7fb4bdc",
   "metadata": {},
   "outputs": [
    {
     "name": "stderr",
     "output_type": "stream",
     "text": [
      "/home/wolffram/.conda/envs/RESPINOW-ML/lib/python3.9/site-packages/statsforecast/utils.py:231: FutureWarning: 'M' is deprecated and will be removed in a future version, please use 'ME' instead.\n"
     ]
    }
   ],
   "source": [
    "from darts.models import TSMixerModel"
   ]
  },
  {
   "cell_type": "code",
   "execution_count": 4,
   "id": "31c85d54-7cff-439e-acb7-cf3d04acc580",
   "metadata": {},
   "outputs": [
    {
     "name": "stderr",
     "output_type": "stream",
     "text": [
      "Failed to detect the name of this notebook, you can set it manually with the WANDB_NOTEBOOK_NAME environment variable to enable code saving.\n",
      "\u001b[34m\u001b[1mwandb\u001b[0m: Using wandb-core as the SDK backend. Please refer to https://wandb.me/wandb-core for more information.\n",
      "\u001b[34m\u001b[1mwandb\u001b[0m: Currently logged in as: \u001b[33mdwolffram\u001b[0m (\u001b[33mdwolffram-karlsruhe-institute-of-technology\u001b[0m). Use \u001b[1m`wandb login --relogin`\u001b[0m to force relogin\n"
     ]
    },
    {
     "data": {
      "text/plain": [
       "True"
      ]
     },
     "execution_count": 4,
     "metadata": {},
     "output_type": "execute_result"
    }
   ],
   "source": [
    "import wandb\n",
    "wandb.login()"
   ]
  },
  {
   "cell_type": "markdown",
   "id": "1b23a5ca-729f-4539-8370-d8b095d625d6",
   "metadata": {
    "tags": []
   },
   "source": [
    "### Configuration"
   ]
  },
  {
   "cell_type": "code",
   "execution_count": 5,
   "id": "fbe295db-3585-4a1e-a233-ccd5419c5505",
   "metadata": {},
   "outputs": [],
   "source": [
    "NAME = 'tsmixer'"
   ]
  },
  {
   "cell_type": "code",
   "execution_count": 6,
   "id": "1ecc1040-de41-4e10-a201-29f11362b7f6",
   "metadata": {},
   "outputs": [],
   "source": [
    "NUM_SAMPLES = 1000\n",
    "HORIZON = 4\n",
    "\n",
    "ENCODERS = {\n",
    "    'datetime_attribute': {'future': ['month', 'weekofyear']}\n",
    "}\n",
    "\n",
    "SHARED_ARGS = dict(\n",
    "    output_chunk_length=HORIZON,\n",
    "    likelihood=NegativeBinomialLikelihood(),\n",
    "    pl_trainer_kwargs={\n",
    "       \"enable_progress_bar\" : True,\n",
    "       \"enable_model_summary\" : False,\n",
    "       \"accelerator\" : \"cpu\",\n",
    "       \"callbacks\" : [RichProgressBar(leave=True)]\n",
    "    }\n",
    ")\n",
    "\n",
    "OPTIMIZER_DICT = {\n",
    "    \"Adam\" : torch.optim.Adam,\n",
    "    \"AdamW\" : torch.optim.AdamW,\n",
    "    \"SGD\": torch.optim.SGD\n",
    "}"
   ]
  },
  {
   "cell_type": "code",
   "execution_count": 7,
   "id": "407d309e-268d-46fb-988d-7b3550bb7ae4",
   "metadata": {},
   "outputs": [],
   "source": [
    "sweep_configuration = {\n",
    "    \"name\": f\"{NAME}-expanding-window\",\n",
    "    \"method\": \"random\",\n",
    "    \"metric\": {\"goal\": \"minimize\", \"name\": \"WIS\"},\n",
    "    \"parameters\": {\n",
    "        \"model\" : {\"values\" : [NAME]},\n",
    "        \"use_static_covariates\" :  {\"values\" : [False]},\n",
    "        \"use_covariates\" :  {\"values\" : [True, False]},\n",
    "        \"use_features\" :  {\"values\" : [False]},\n",
    "        \"use_encoders\" :  {\"values\" : [True, False]},\n",
    "        \"input_chunk_length\" : {\"values\" : [8, 10, 12]},\n",
    "        \"hidden_size\" : {\"values\" : [8, 16, 32, 64]},\n",
    "        \"ff_size\" : {\"values\" : [8, 16, 32, 64]},\n",
    "        \"num_blocks\" : {\"values\" : [4, 6, 8]},\n",
    "        \"dropout\" : {\"values\" : [0, 0.05, 0.1, 0.2]}, # 0.05, 0.1, 0.2, 0.3, 0.5\n",
    "        \"norm_type\"  : {\"values\" : ['TimeBatchNorm2d']}, # 'LayerNorm', \n",
    "        \"batch_size\" : {\"values\" : [8, 16, 32]},\n",
    "        \"n_epochs\" : {\"values\" : [500, 1000, 1500]},\n",
    "        \"normalize_before\" : {\"values\" : [False]},\n",
    "        \"activation\" : {\"values\" : [\"ReLU\"]}, # \"ReLU\", \"GELU\", \"LeakyReLU\", \"ELU\"\n",
    "        \"optimizer\" : {\"values\": [\"AdamW\"]}, # SGD, \"Adam\", \n",
    "        \"optimizer_kwargs\" : {\n",
    "            \"parameters\": {\n",
    "                \"lr\" : {\"values\" : [0.01, 0.005, 0.001, 0.0005]},\n",
    "                \"weight_decay\" : {\"values\" : [0, 0.0001, 0.001, 0.01]}\n",
    "            }\n",
    "        }\n",
    "    }\n",
    "}"
   ]
  },
  {
   "cell_type": "markdown",
   "id": "85a6ef0d-2f21-445b-8184-a2c138cee629",
   "metadata": {},
   "source": [
    "### Load data"
   ]
  },
  {
   "cell_type": "code",
   "execution_count": 8,
   "id": "54caec81-cfe4-45fd-baa9-9832079ceebd",
   "metadata": {},
   "outputs": [],
   "source": [
    "def get_season_start(start_year):\n",
    "    return pd.to_datetime(Week(start_year, 40, system=\"iso\").enddate())"
   ]
  },
  {
   "cell_type": "code",
   "execution_count": 9,
   "id": "b9be2fb0-a9fa-43d5-9095-42e2f8f1ffb5",
   "metadata": {},
   "outputs": [],
   "source": [
    "def get_season_end(start_year):\n",
    "    return pd.to_datetime(Week(start_year + 1, 39, system=\"iso\").enddate())"
   ]
  },
  {
   "cell_type": "code",
   "execution_count": 10,
   "id": "c86c9ec4-8f2e-4831-8676-6700c75f9929",
   "metadata": {},
   "outputs": [
    {
     "data": {
      "text/plain": [
       "Timestamp('2024-09-29 00:00:00')"
      ]
     },
     "execution_count": 10,
     "metadata": {},
     "output_type": "execute_result"
    }
   ],
   "source": [
    "get_season_end(2023)"
   ]
  },
  {
   "cell_type": "code",
   "execution_count": 11,
   "id": "99ef6ed3-ebff-46c5-b5cb-5826414c2400",
   "metadata": {},
   "outputs": [
    {
     "data": {
      "text/plain": [
       "Timestamp('2024-10-06 00:00:00')"
      ]
     },
     "execution_count": 11,
     "metadata": {},
     "output_type": "execute_result"
    }
   ],
   "source": [
    "get_season_start(2024)"
   ]
  },
  {
   "cell_type": "code",
   "execution_count": 12,
   "id": "57cd8d7d-a2d6-49f0-8780-a1e80c1f3f46",
   "metadata": {},
   "outputs": [],
   "source": [
    "def train_validation_split(series, validation_year):\n",
    "    validation_end = get_season_end(validation_year)\n",
    "    train_end = get_season_end(validation_year - 1)\n",
    "\n",
    "    ts_validation = series[:validation_end]\n",
    "    ts_train = series[:train_end]\n",
    "    \n",
    "    return ts_train, ts_validation"
   ]
  },
  {
   "cell_type": "code",
   "execution_count": 13,
   "id": "44ca9e73-84cb-4f37-9dd6-5f4b13c8f0b8",
   "metadata": {},
   "outputs": [
    {
     "name": "stderr",
     "output_type": "stream",
     "text": [
      "/home/wolffram/.conda/envs/RESPINOW-ML/lib/python3.9/site-packages/xarray/core/concat.py:544: FutureWarning: unique with argument that is not not a Series, Index, ExtensionArray, or np.ndarray is deprecated and will raise in a future version.\n",
      "/home/wolffram/.conda/envs/RESPINOW-ML/lib/python3.9/site-packages/xarray/core/concat.py:544: FutureWarning: unique with argument that is not not a Series, Index, ExtensionArray, or np.ndarray is deprecated and will raise in a future version.\n"
     ]
    }
   ],
   "source": [
    "targets, covariates = load_realtime_training_data()"
   ]
  },
  {
   "cell_type": "code",
   "execution_count": 14,
   "id": "1f497c49-6fc1-4147-845e-fc17e00a9181",
   "metadata": {},
   "outputs": [],
   "source": [
    "targets_train, targets_validation = train_validation_split(targets, 2022)"
   ]
  },
  {
   "cell_type": "code",
   "execution_count": 15,
   "id": "bf8c4d81-8de9-44c3-948a-ed3b39ad4722",
   "metadata": {},
   "outputs": [
    {
     "data": {
      "text/plain": [
       "<Axes: xlabel='date'>"
      ]
     },
     "execution_count": 15,
     "metadata": {},
     "output_type": "execute_result"
    },
    {
     "data": {
      "image/png": "[encoded data removed]",
      "text/plain": [
       "<Figure size 640x480 with 1 Axes>"
      ]
     },
     "metadata": {},
     "output_type": "display_data"
    }
   ],
   "source": [
    "targets_validation['icosari-sari-DE'].plot(label='validation')\n",
    "targets_train['icosari-sari-DE'].plot(label='train')"
   ]
  },
  {
   "cell_type": "markdown",
   "id": "e62ddf92-c22f-47b0-906f-2fd9d3862b66",
   "metadata": {
    "jp-MarkdownHeadingCollapsed": true,
    "tags": []
   },
   "source": [
    "### Block CV"
   ]
  },
  {
   "cell_type": "code",
   "execution_count": 9,
   "id": "a919f5f2",
   "metadata": {},
   "outputs": [],
   "source": [
    "# Block CV\n",
    "def objective(config):\n",
    "    optimizer = OPTIMIZER_DICT[config.optimizer]\n",
    "    use_covariates = config.use_covariates\n",
    "    \n",
    "    model = TSMixerModel(\n",
    "        input_chunk_length=config.input_chunk_length,\n",
    "        hidden_size=config.hidden_size,\n",
    "        ff_size=config.ff_size,\n",
    "        num_blocks=config.num_blocks,\n",
    "        dropout=config.dropout,\n",
    "        norm_type=config.norm_type,\n",
    "        batch_size=config.batch_size,\n",
    "        n_epochs=config.n_epochs,\n",
    "        normalize_before=config.normalize_before,\n",
    "        activation=config.activation,\n",
    "        optimizer_cls=optimizer,\n",
    "        optimizer_kwargs={**config.optimizer_kwargs},\n",
    "        use_static_covariates=config.use_static_covariates,\n",
    "        \n",
    "        **SHARED_ARGS\n",
    "    )\n",
    "    \n",
    "    scores = []\n",
    "    k=0\n",
    "    for train, validation, cov in zip(targets_train, targets_validation, covariates):\n",
    "        k+=1\n",
    "        score = compute_validation_score(model, train, validation, cov if use_covariates else None, \n",
    "                                         HORIZON, NUM_SAMPLES, METRIC, METRIC_KWARGS)\n",
    "        scores.append(score)\n",
    "        wandb.log({f'WIS_{k}' : score})\n",
    "        # model.reset()?\n",
    "            \n",
    "    avg_score = np.mean(scores) # average across all validation periods\n",
    "    std = np.std(scores)\n",
    "    var = np.var(scores)\n",
    "    \n",
    "    wandb.log({'WIS_std' : std,\n",
    "               'WIS_var' : var})\n",
    "\n",
    "    return avg_score"
   ]
  },
  {
   "cell_type": "markdown",
   "id": "094f5c99-62cd-4862-b2f4-ebeb0068e429",
   "metadata": {
    "jp-MarkdownHeadingCollapsed": true,
    "tags": []
   },
   "source": [
    "### Simple validation"
   ]
  },
  {
   "cell_type": "code",
   "execution_count": 10,
   "id": "d785b6dc-8e7f-41e2-b641-ac45974da124",
   "metadata": {},
   "outputs": [],
   "source": [
    "# Simple validation\n",
    "def objective(config):\n",
    "    optimizer = OPTIMIZER_DICT[config.optimizer]\n",
    "    use_covariates = config.use_covariates\n",
    "    use_features = config.use_features\n",
    "    use_encoders = config.use_encoders\n",
    "    \n",
    "    model = TSMixerModel(\n",
    "        input_chunk_length=config.input_chunk_length,\n",
    "        hidden_size=config.hidden_size,\n",
    "        ff_size=config.ff_size,\n",
    "        num_blocks=config.num_blocks,\n",
    "        dropout=config.dropout,\n",
    "        norm_type=config.norm_type,\n",
    "        batch_size=config.batch_size,\n",
    "        n_epochs=config.n_epochs,\n",
    "        normalize_before=config.normalize_before,\n",
    "        activation=config.activation,\n",
    "        optimizer_cls=optimizer,\n",
    "        optimizer_kwargs={**config.optimizer_kwargs},\n",
    "        use_static_covariates=config.use_static_covariates,\n",
    "        add_encoders=ENCODERS if use_encoders else None,\n",
    "        \n",
    "        **SHARED_ARGS\n",
    "    )\n",
    "    \n",
    "    train = targets_train\n",
    "    validation = targets_validation\n",
    "    cov = covariates\n",
    "    \n",
    "    if use_features:\n",
    "        ts_features = load_features(lag=8)\n",
    "        cov = cov.slice_intersect(ts_features) # features start a bit later because of rolling window\n",
    "        ts_features = ts_features.slice_intersect(cov) # features are longer because they cover the whole period until now\n",
    "    \n",
    "    score = compute_validation_score(model, train, validation, cov if use_covariates else None, \n",
    "                                     HORIZON, NUM_SAMPLES, METRIC, METRIC_KWARGS)\n",
    "\n",
    "    return score"
   ]
  },
  {
   "cell_type": "markdown",
   "id": "9214defb-4113-41f7-9392-a4210d27c64a",
   "metadata": {
    "jp-MarkdownHeadingCollapsed": true,
    "tags": []
   },
   "source": [
    "### Multiple runs"
   ]
  },
  {
   "cell_type": "code",
   "execution_count": 11,
   "id": "81a9dc00-ed38-45de-8d1c-b5a6a6a62bfc",
   "metadata": {},
   "outputs": [],
   "source": [
    "RANDOM_SEEDS = [1, 2, 3]"
   ]
  },
  {
   "cell_type": "code",
   "execution_count": 12,
   "id": "75ee24c4-8d74-4f13-94be-8b562dbeb1df",
   "metadata": {},
   "outputs": [],
   "source": [
    "# Multiple runs\n",
    "def objective(config):\n",
    "    optimizer = OPTIMIZER_DICT[config.optimizer]\n",
    "    use_covariates = config.use_covariates\n",
    "    use_features = config.use_features\n",
    "    use_encoders = config.use_encoders\n",
    "    \n",
    "    model = TSMixerModel(\n",
    "        input_chunk_length=config.input_chunk_length,\n",
    "        hidden_size=config.hidden_size,\n",
    "        ff_size=config.ff_size,\n",
    "        num_blocks=config.num_blocks,\n",
    "        dropout=config.dropout,\n",
    "        norm_type=config.norm_type,\n",
    "        batch_size=config.batch_size,\n",
    "        n_epochs=config.n_epochs,\n",
    "        normalize_before=config.normalize_before,\n",
    "        activation=config.activation,\n",
    "        optimizer_cls=optimizer,\n",
    "        optimizer_kwargs={**config.optimizer_kwargs},\n",
    "        use_static_covariates=config.use_static_covariates,\n",
    "        add_encoders=ENCODERS if use_encoders else None,\n",
    "        \n",
    "        **SHARED_ARGS\n",
    "    )\n",
    "    \n",
    "    train = targets_train\n",
    "    validation = targets_validation\n",
    "    cov = covariates\n",
    "    \n",
    "    if use_features:\n",
    "        ts_features = load_features(lag=8)\n",
    "        cov = cov.slice_intersect(ts_features) # features start a bit later because of rolling window\n",
    "        ts_features = ts_features.slice_intersect(cov) # features are longer because they cover the whole period until now\n",
    "    \n",
    "    \n",
    "    scores = []\n",
    "    for seed in RANDOM_SEEDS:\n",
    "        model.model_params['random_state'] = seed\n",
    "        score = compute_validation_score(model, train, validation, cov if use_covariates else None, \n",
    "                                         HORIZON, NUM_SAMPLES, METRIC, METRIC_KWARGS)\n",
    "        scores.append(score)\n",
    "        wandb.log({f'WIS_{seed}' : score})\n",
    "        model.reset_model()\n",
    "            \n",
    "    avg_score = np.mean(scores) # average across all runs\n",
    "    std = np.std(scores)\n",
    "    \n",
    "    wandb.log({'WIS_std' : std})\n",
    "\n",
    "    return avg_score"
   ]
  },
  {
   "cell_type": "markdown",
   "id": "117cfff1-8982-4c6b-917d-cd4b3e44e5f2",
   "metadata": {},
   "source": [
    "### Expanding window"
   ]
  },
  {
   "cell_type": "code",
   "execution_count": 16,
   "id": "42f18a02-f3c0-4179-a93f-fafa8415cc62",
   "metadata": {},
   "outputs": [],
   "source": [
    "VALIDATION_YEARS = [2018, 2019, 2022, 2023]"
   ]
  },
  {
   "cell_type": "code",
   "execution_count": 17,
   "id": "abe4a17e-e75e-430d-9c43-b21649b38a82",
   "metadata": {},
   "outputs": [],
   "source": [
    "# Expanding window\n",
    "def objective(config):\n",
    "    optimizer = OPTIMIZER_DICT[config.optimizer]\n",
    "    use_covariates = config.use_covariates\n",
    "    use_features = config.use_features\n",
    "    use_encoders = config.use_encoders\n",
    "    \n",
    "    model = TSMixerModel(\n",
    "        input_chunk_length=config.input_chunk_length,\n",
    "        hidden_size=config.hidden_size,\n",
    "        ff_size=config.ff_size,\n",
    "        num_blocks=config.num_blocks,\n",
    "        dropout=config.dropout,\n",
    "        norm_type=config.norm_type,\n",
    "        batch_size=config.batch_size,\n",
    "        n_epochs=config.n_epochs,\n",
    "        normalize_before=config.normalize_before,\n",
    "        activation=config.activation,\n",
    "        optimizer_cls=optimizer,\n",
    "        optimizer_kwargs={**config.optimizer_kwargs},\n",
    "        use_static_covariates=config.use_static_covariates,\n",
    "        add_encoders=ENCODERS if use_encoders else None,\n",
    "        \n",
    "        **SHARED_ARGS\n",
    "    )\n",
    "    \n",
    "    \n",
    "    scores = []\n",
    "    for validation_year in VALIDATION_YEARS:\n",
    "        targets_train, targets_validation = train_validation_split(targets, validation_year)\n",
    "        score = compute_validation_score(model, targets_train, targets_validation, covariates if use_covariates else None, \n",
    "                                         HORIZON, NUM_SAMPLES, METRIC, METRIC_KWARGS)\n",
    "        scores.append(score)\n",
    "        wandb.log({f'WIS_{validation_year}' : score})\n",
    "        model.reset_model()\n",
    "            \n",
    "    avg_score = np.mean(scores) # average across all runs\n",
    "    std = np.std(scores)\n",
    "    \n",
    "    wandb.log({'WIS_std' : std})\n",
    "\n",
    "    return avg_score"
   ]
  },
  {
   "cell_type": "markdown",
   "id": "a863b7b1-5274-49a7-a861-8e39d463aba3",
   "metadata": {},
   "source": [
    "### Run tuning"
   ]
  },
  {
   "cell_type": "code",
   "execution_count": 18,
   "id": "e8a734a8-4bb5-48bb-957d-e6f7f90a441a",
   "metadata": {},
   "outputs": [],
   "source": [
    "def main():\n",
    "    run = wandb.init()\n",
    "    score = objective(wandb.config)\n",
    "    wandb.log({\"WIS\": score})\n",
    "    run.finish()"
   ]
  },
  {
   "cell_type": "code",
   "execution_count": 18,
   "id": "bd213a14-90b7-4346-879b-b63d72c58b7f",
   "metadata": {},
   "outputs": [
    {
     "name": "stdout",
     "output_type": "stream",
     "text": [
      "Create sweep with ID: 7gxhk8q9\n",
      "Sweep URL: https://wandb.ai/dwolffram-karlsruhe-institute-of-technology/realtime-tsmixer-expanding-window/sweeps/7gxhk8q9\n"
     ]
    }
   ],
   "source": [
    "sweep_id = wandb.sweep(sweep=sweep_configuration, project=\"realtime-tsmixer-expanding-window\")"
   ]
  },
  {
   "cell_type": "code",
   "execution_count": null,
   "id": "ee89be52-334d-4c9a-a4c1-832f59cbe1a4",
   "metadata": {},
   "outputs": [
    {
     "data": {
      "text/html": [
       "<pre style=\"white-space:pre;overflow-x:auto;line-height:normal;font-family:Menlo,'DejaVu Sans Mono',consolas,'Courier New',monospace\"><span style=\"color: #c0c0c0; text-decoration-color: #c0c0c0\">Epoch 455/999</span> <span style=\"color: #6206e0; text-decoration-color: #6206e0\">━━━━━━━━━━━━━━━━━━╸</span><span style=\"color: #3a3a3a; text-decoration-color: #3a3a3a\">━━━━━━━━━━━━━━━━━━━━━</span> <span style=\"color: #c0c0c0; text-decoration-color: #c0c0c0\">7/15</span> <span style=\"color: #8a8a8a; text-decoration-color: #8a8a8a\">0:00:00 • 0:00:01</span> <span style=\"color: #b2b2b2; text-decoration-color: #b2b2b2\">36.13it/s</span> <span style=\"color: #c0c0c0; text-decoration-color: #c0c0c0\">train_loss: 7.503</span>\n",
       "</pre>\n"
      ],
      "text/plain": [
       "\u001b[37mEpoch 455/999\u001b[0m \u001b[38;2;98;6;224m━━━━━━━━━━━━━━━━━━\u001b[0m\u001b[38;2;98;6;224m╸\u001b[0m\u001b[38;5;237m━━━━━━━━━━━━━━━━━━━━━\u001b[0m \u001b[37m7/15\u001b[0m \u001b[38;5;245m0:00:00 • 0:00:01\u001b[0m \u001b[38;5;249m36.13it/s\u001b[0m \u001b[37mtrain_loss: 7.503\u001b[0m\n"
      ]
     },
     "metadata": {},
     "output_type": "display_data"
    }
   ],
   "source": [
    "wandb.agent(sweep_id, function=main, count=1000)"
   ]
  },
  {
   "cell_type": "code",
   "execution_count": null,
   "id": "dcde2c5c-78b1-4037-ad76-f3a899393c7a",
   "metadata": {},
   "outputs": [
    {
     "data": {
      "text/html": [
       "<pre style=\"white-space:pre;overflow-x:auto;line-height:normal;font-family:Menlo,'DejaVu Sans Mono',consolas,'Courier New',monospace\"><span style=\"color: #c0c0c0; text-decoration-color: #c0c0c0\">Epoch 929/999</span> <span style=\"color: #6206e0; text-decoration-color: #6206e0\">━━━━━━━╸</span><span style=\"color: #3a3a3a; text-decoration-color: #3a3a3a\">━━━━━━━━━━━━━━━━━━━━━━━━━━━━━━━━</span> <span style=\"color: #c0c0c0; text-decoration-color: #c0c0c0\">6/32</span> <span style=\"color: #8a8a8a; text-decoration-color: #8a8a8a\">0:00:00 • 0:00:03</span> <span style=\"color: #b2b2b2; text-decoration-color: #b2b2b2\">10.86it/s</span> <span style=\"color: #c0c0c0; text-decoration-color: #c0c0c0\">train_loss: 6.676</span>\n",
       "</pre>\n"
      ],
      "text/plain": [
       "\u001b[37mEpoch 929/999\u001b[0m \u001b[38;2;98;6;224m━━━━━━━\u001b[0m\u001b[38;2;98;6;224m╸\u001b[0m\u001b[38;5;237m━━━━━━━━━━━━━━━━━━━━━━━━━━━━━━━━\u001b[0m \u001b[37m6/32\u001b[0m \u001b[38;5;245m0:00:00 • 0:00:03\u001b[0m \u001b[38;5;249m10.86it/s\u001b[0m \u001b[37mtrain_loss: 6.676\u001b[0m\n"
      ]
     },
     "metadata": {},
     "output_type": "display_data"
    }
   ],
   "source": [
    "wandb.agent(sweep_id='7gxhk8q9', function=main, count=1000, project=\"realtime-tsmixer-expanding-window\")"
   ]
  },
  {
   "cell_type": "code",
   "execution_count": null,
   "id": "e61f2b61-bda8-406a-973a-d0d4d12518a9",
   "metadata": {},
   "outputs": [],
   "source": []
  }
 ],
 "metadata": {
  "kernelspec": {
   "display_name": "RESPINOW-ML",
   "language": "python",
   "name": "respinow-ml"
  },
  "language_info": {
   "codemirror_mode": {
    "name": "ipython",
    "version": 3
   },
   "file_extension": ".py",
   "mimetype": "text/x-python",
   "name": "python",
   "nbconvert_exporter": "python",
   "pygments_lexer": "ipython3",
   "version": "3.9.18"
  }
 },
 "nbformat": 4,
 "nbformat_minor": 5
}
