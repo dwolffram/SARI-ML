{
 "cells": [
  {
   "cell_type": "code",
   "execution_count": 1,
   "id": "c568bc7d",
   "metadata": {},
   "outputs": [],
   "source": [
    "import sys\n",
    "sys.path.append('../../')\n",
    "from src.scoring_functions import *\n",
    "from src.load_data import *"
   ]
  },
  {
   "cell_type": "code",
   "execution_count": 16,
   "id": "4c618953-25e8-4b64-9f0f-485c807275f2",
   "metadata": {},
   "outputs": [],
   "source": [
    "# files = glob.glob(f'../../data/pre-covid/{period}*[0-9][0-9][0-9][0-9].csv') "
   ]
  },
  {
   "cell_type": "code",
   "execution_count": 17,
   "id": "1045e96c-6346-4b2b-ad59-8f281b8289b4",
   "metadata": {},
   "outputs": [],
   "source": [
    "files = glob.glob(f'../../data/pre-covid/*.csv') "
   ]
  },
  {
   "cell_type": "code",
   "execution_count": 18,
   "id": "a97bcc8c-4259-492e-b8ba-c6195774ccfa",
   "metadata": {},
   "outputs": [
    {
     "data": {
      "text/plain": [
       "['../../data/pre-covid/cv-test-tft-2019.csv',\n",
       " '../../data/pre-covid/cv-test-tsmixer-2019.csv']"
      ]
     },
     "execution_count": 18,
     "metadata": {},
     "output_type": "execute_result"
    }
   ],
   "source": [
    "files"
   ]
  },
  {
   "cell_type": "code",
   "execution_count": 23,
   "id": "a8a8085c-84e7-4093-8673-037f33b3274b",
   "metadata": {},
   "outputs": [
    {
     "data": {
      "text/plain": [
       "'test-tsmixer-2019'"
      ]
     },
     "execution_count": 23,
     "metadata": {},
     "output_type": "execute_result"
    }
   ],
   "source": [
    "files[-1].split('/')[-1].split('-', 1)[-1][:-4]"
   ]
  },
  {
   "cell_type": "code",
   "execution_count": 26,
   "id": "42c329d6-607e-4965-ae17-4ccfd6c14331",
   "metadata": {},
   "outputs": [
    {
     "data": {
      "text/plain": [
       "'tsmixer'"
      ]
     },
     "execution_count": 26,
     "metadata": {},
     "output_type": "execute_result"
    }
   ],
   "source": [
    "files[-1].split('/')[-1].split('-')[2]"
   ]
  },
  {
   "cell_type": "code",
   "execution_count": 20,
   "id": "86e66988-8f96-4b75-809b-ca9b406d4fd7",
   "metadata": {},
   "outputs": [
    {
     "data": {
      "text/plain": [
       "'2019'"
      ]
     },
     "execution_count": 20,
     "metadata": {},
     "output_type": "execute_result"
    }
   ],
   "source": [
    "files[-1][-8:-4]"
   ]
  },
  {
   "cell_type": "code",
   "execution_count": 27,
   "id": "410a9b7e-6aee-4b48-a5c7-728bb7b8570e",
   "metadata": {},
   "outputs": [],
   "source": [
    "dfs = []\n",
    "for file in files:\n",
    "    df_temp = pd.read_csv(file)\n",
    "    df_temp['model'] = file.split('/')[-1].split('-')[2]\n",
    "    df_temp['test_year'] = file[-8:-4]\n",
    "    dfs.append(df_temp)\n",
    "df = pd.concat(dfs)"
   ]
  },
  {
   "cell_type": "code",
   "execution_count": 28,
   "id": "14c1bf9d-02f0-43f3-9660-5d715d65e93a",
   "metadata": {},
   "outputs": [
    {
     "data": {
      "text/html": [
       "<div>\n",
       "<style scoped>\n",
       "    .dataframe tbody tr th:only-of-type {\n",
       "        vertical-align: middle;\n",
       "    }\n",
       "\n",
       "    .dataframe tbody tr th {\n",
       "        vertical-align: top;\n",
       "    }\n",
       "\n",
       "    .dataframe thead th {\n",
       "        text-align: right;\n",
       "    }\n",
       "</style>\n",
       "<table border=\"1\" class=\"dataframe\">\n",
       "  <thead>\n",
       "    <tr style=\"text-align: right;\">\n",
       "      <th></th>\n",
       "      <th>location</th>\n",
       "      <th>age_group</th>\n",
       "      <th>forecast_date</th>\n",
       "      <th>target_end_date</th>\n",
       "      <th>horizon</th>\n",
       "      <th>type</th>\n",
       "      <th>quantile</th>\n",
       "      <th>value</th>\n",
       "      <th>model</th>\n",
       "      <th>test_year</th>\n",
       "    </tr>\n",
       "  </thead>\n",
       "  <tbody>\n",
       "    <tr>\n",
       "      <th>0</th>\n",
       "      <td>DE</td>\n",
       "      <td>00+</td>\n",
       "      <td>2019-10-03</td>\n",
       "      <td>2019-10-06</td>\n",
       "      <td>1</td>\n",
       "      <td>quantile</td>\n",
       "      <td>0.025</td>\n",
       "      <td>5603.800</td>\n",
       "      <td>tft</td>\n",
       "      <td>2019</td>\n",
       "    </tr>\n",
       "    <tr>\n",
       "      <th>1</th>\n",
       "      <td>DE</td>\n",
       "      <td>00+</td>\n",
       "      <td>2019-10-03</td>\n",
       "      <td>2019-10-13</td>\n",
       "      <td>2</td>\n",
       "      <td>quantile</td>\n",
       "      <td>0.025</td>\n",
       "      <td>5650.525</td>\n",
       "      <td>tft</td>\n",
       "      <td>2019</td>\n",
       "    </tr>\n",
       "    <tr>\n",
       "      <th>2</th>\n",
       "      <td>DE</td>\n",
       "      <td>00+</td>\n",
       "      <td>2019-10-03</td>\n",
       "      <td>2019-10-20</td>\n",
       "      <td>3</td>\n",
       "      <td>quantile</td>\n",
       "      <td>0.025</td>\n",
       "      <td>6043.500</td>\n",
       "      <td>tft</td>\n",
       "      <td>2019</td>\n",
       "    </tr>\n",
       "    <tr>\n",
       "      <th>3</th>\n",
       "      <td>DE</td>\n",
       "      <td>00+</td>\n",
       "      <td>2019-10-03</td>\n",
       "      <td>2019-10-27</td>\n",
       "      <td>4</td>\n",
       "      <td>quantile</td>\n",
       "      <td>0.025</td>\n",
       "      <td>6196.600</td>\n",
       "      <td>tft</td>\n",
       "      <td>2019</td>\n",
       "    </tr>\n",
       "    <tr>\n",
       "      <th>4</th>\n",
       "      <td>DE</td>\n",
       "      <td>00-04</td>\n",
       "      <td>2019-10-03</td>\n",
       "      <td>2019-10-06</td>\n",
       "      <td>1</td>\n",
       "      <td>quantile</td>\n",
       "      <td>0.025</td>\n",
       "      <td>678.850</td>\n",
       "      <td>tft</td>\n",
       "      <td>2019</td>\n",
       "    </tr>\n",
       "    <tr>\n",
       "      <th>...</th>\n",
       "      <td>...</td>\n",
       "      <td>...</td>\n",
       "      <td>...</td>\n",
       "      <td>...</td>\n",
       "      <td>...</td>\n",
       "      <td>...</td>\n",
       "      <td>...</td>\n",
       "      <td>...</td>\n",
       "      <td>...</td>\n",
       "      <td>...</td>\n",
       "    </tr>\n",
       "    <tr>\n",
       "      <th>6855</th>\n",
       "      <td>DE</td>\n",
       "      <td>60-79</td>\n",
       "      <td>2020-09-03</td>\n",
       "      <td>2020-09-27</td>\n",
       "      <td>4</td>\n",
       "      <td>quantile</td>\n",
       "      <td>0.975</td>\n",
       "      <td>2358.325</td>\n",
       "      <td>tsmixer</td>\n",
       "      <td>2019</td>\n",
       "    </tr>\n",
       "    <tr>\n",
       "      <th>6856</th>\n",
       "      <td>DE</td>\n",
       "      <td>80+</td>\n",
       "      <td>2020-09-03</td>\n",
       "      <td>2020-09-06</td>\n",
       "      <td>1</td>\n",
       "      <td>quantile</td>\n",
       "      <td>0.975</td>\n",
       "      <td>2495.000</td>\n",
       "      <td>tsmixer</td>\n",
       "      <td>2019</td>\n",
       "    </tr>\n",
       "    <tr>\n",
       "      <th>6857</th>\n",
       "      <td>DE</td>\n",
       "      <td>80+</td>\n",
       "      <td>2020-09-03</td>\n",
       "      <td>2020-09-13</td>\n",
       "      <td>2</td>\n",
       "      <td>quantile</td>\n",
       "      <td>0.975</td>\n",
       "      <td>2601.100</td>\n",
       "      <td>tsmixer</td>\n",
       "      <td>2019</td>\n",
       "    </tr>\n",
       "    <tr>\n",
       "      <th>6858</th>\n",
       "      <td>DE</td>\n",
       "      <td>80+</td>\n",
       "      <td>2020-09-03</td>\n",
       "      <td>2020-09-20</td>\n",
       "      <td>3</td>\n",
       "      <td>quantile</td>\n",
       "      <td>0.975</td>\n",
       "      <td>2568.125</td>\n",
       "      <td>tsmixer</td>\n",
       "      <td>2019</td>\n",
       "    </tr>\n",
       "    <tr>\n",
       "      <th>6859</th>\n",
       "      <td>DE</td>\n",
       "      <td>80+</td>\n",
       "      <td>2020-09-03</td>\n",
       "      <td>2020-09-27</td>\n",
       "      <td>4</td>\n",
       "      <td>quantile</td>\n",
       "      <td>0.975</td>\n",
       "      <td>2575.325</td>\n",
       "      <td>tsmixer</td>\n",
       "      <td>2019</td>\n",
       "    </tr>\n",
       "  </tbody>\n",
       "</table>\n",
       "<p>13720 rows × 10 columns</p>\n",
       "</div>"
      ],
      "text/plain": [
       "     location age_group forecast_date target_end_date  horizon      type  \\\n",
       "0          DE       00+    2019-10-03      2019-10-06        1  quantile   \n",
       "1          DE       00+    2019-10-03      2019-10-13        2  quantile   \n",
       "2          DE       00+    2019-10-03      2019-10-20        3  quantile   \n",
       "3          DE       00+    2019-10-03      2019-10-27        4  quantile   \n",
       "4          DE     00-04    2019-10-03      2019-10-06        1  quantile   \n",
       "...       ...       ...           ...             ...      ...       ...   \n",
       "6855       DE     60-79    2020-09-03      2020-09-27        4  quantile   \n",
       "6856       DE       80+    2020-09-03      2020-09-06        1  quantile   \n",
       "6857       DE       80+    2020-09-03      2020-09-13        2  quantile   \n",
       "6858       DE       80+    2020-09-03      2020-09-20        3  quantile   \n",
       "6859       DE       80+    2020-09-03      2020-09-27        4  quantile   \n",
       "\n",
       "      quantile     value    model test_year  \n",
       "0        0.025  5603.800      tft      2019  \n",
       "1        0.025  5650.525      tft      2019  \n",
       "2        0.025  6043.500      tft      2019  \n",
       "3        0.025  6196.600      tft      2019  \n",
       "4        0.025   678.850      tft      2019  \n",
       "...        ...       ...      ...       ...  \n",
       "6855     0.975  2358.325  tsmixer      2019  \n",
       "6856     0.975  2495.000  tsmixer      2019  \n",
       "6857     0.975  2601.100  tsmixer      2019  \n",
       "6858     0.975  2568.125  tsmixer      2019  \n",
       "6859     0.975  2575.325  tsmixer      2019  \n",
       "\n",
       "[13720 rows x 10 columns]"
      ]
     },
     "execution_count": 28,
     "metadata": {},
     "output_type": "execute_result"
    }
   ],
   "source": [
    "df"
   ]
  },
  {
   "cell_type": "code",
   "execution_count": 2,
   "id": "77e70f1f-c528-4655-be7c-66ac2186478c",
   "metadata": {},
   "outputs": [],
   "source": [
    "def add_truth(df, source='icosari', disease='sari'):\n",
    "    df_truth = pd.read_csv(f'https://raw.githubusercontent.com/KITmetricslab/RESPINOW-Hub/main/data/{source}/{disease}/latest_data-{source}-{disease}.csv')\n",
    "    df_truth = df_truth.rename(columns={'value': 'truth'})\n",
    "\n",
    "    df = df.merge(df_truth, how='left', \n",
    "                   left_on=['location', 'age_group', 'target_end_date'], \n",
    "                   right_on=['location', 'age_group', 'date'])\n",
    "    return df"
   ]
  },
  {
   "cell_type": "code",
   "execution_count": 3,
   "id": "672c8139-3bbe-4fda-a881-2ffc6fcb72cf",
   "metadata": {},
   "outputs": [],
   "source": [
    "def load_predictions(source='icosari', disease='sari', period='test', include_median=True, include_truth=True):\n",
    "    files = glob.glob(f'../../data/pre-covid/*.csv') \n",
    "    \n",
    "    dfs = []\n",
    "    for file in files:\n",
    "        df_temp = pd.read_csv(file)\n",
    "        df_temp['model'] = file.split('/')[-1].split('-')[2]\n",
    "        df_temp['test_year'] = file[-8:-4]\n",
    "        dfs.append(df_temp)\n",
    "    df = pd.concat(dfs)\n",
    "    \n",
    "    if include_median:\n",
    "        df = add_median(df)\n",
    "    if include_truth:\n",
    "        df = add_truth(df, source, disease)\n",
    "\n",
    "    return df"
   ]
  },
  {
   "cell_type": "code",
   "execution_count": 4,
   "id": "bd441b10-cd5c-42fa-b444-2a3714f0fd26",
   "metadata": {},
   "outputs": [],
   "source": [
    "source='icosari'\n",
    "disease='sari'"
   ]
  },
  {
   "cell_type": "code",
   "execution_count": 5,
   "id": "52be62b3-130f-445e-b08c-0b1478d1721c",
   "metadata": {},
   "outputs": [],
   "source": [
    "df_truth = pd.read_csv(f'https://raw.githubusercontent.com/KITmetricslab/RESPINOW-Hub/main/data/{source}/{disease}/latest_data-{source}-{disease}.csv')"
   ]
  },
  {
   "cell_type": "code",
   "execution_count": 6,
   "id": "426d88c2-d9cb-4989-a1ce-5defd5e35a6c",
   "metadata": {},
   "outputs": [],
   "source": [
    "df = load_predictions('icosari', 'sari')"
   ]
  },
  {
   "cell_type": "code",
   "execution_count": 7,
   "id": "b2375345-e8d4-4a09-8fc2-0ecf09b5a061",
   "metadata": {},
   "outputs": [
    {
     "data": {
      "text/html": [
       "<div>\n",
       "<style scoped>\n",
       "    .dataframe tbody tr th:only-of-type {\n",
       "        vertical-align: middle;\n",
       "    }\n",
       "\n",
       "    .dataframe tbody tr th {\n",
       "        vertical-align: top;\n",
       "    }\n",
       "\n",
       "    .dataframe thead th {\n",
       "        text-align: right;\n",
       "    }\n",
       "</style>\n",
       "<table border=\"1\" class=\"dataframe\">\n",
       "  <thead>\n",
       "    <tr style=\"text-align: right;\">\n",
       "      <th></th>\n",
       "      <th>location</th>\n",
       "      <th>age_group</th>\n",
       "      <th>forecast_date</th>\n",
       "      <th>target_end_date</th>\n",
       "      <th>horizon</th>\n",
       "      <th>type</th>\n",
       "      <th>quantile</th>\n",
       "      <th>value</th>\n",
       "      <th>model</th>\n",
       "      <th>test_year</th>\n",
       "      <th>date</th>\n",
       "      <th>year</th>\n",
       "      <th>week</th>\n",
       "      <th>truth</th>\n",
       "    </tr>\n",
       "  </thead>\n",
       "  <tbody>\n",
       "    <tr>\n",
       "      <th>0</th>\n",
       "      <td>DE</td>\n",
       "      <td>00+</td>\n",
       "      <td>2019-10-03</td>\n",
       "      <td>2019-10-06</td>\n",
       "      <td>1</td>\n",
       "      <td>quantile</td>\n",
       "      <td>0.025</td>\n",
       "      <td>5528.900</td>\n",
       "      <td>tft</td>\n",
       "      <td>2019</td>\n",
       "      <td>2019-10-06</td>\n",
       "      <td>2019</td>\n",
       "      <td>40</td>\n",
       "      <td>7399</td>\n",
       "    </tr>\n",
       "    <tr>\n",
       "      <th>1</th>\n",
       "      <td>DE</td>\n",
       "      <td>00+</td>\n",
       "      <td>2019-10-03</td>\n",
       "      <td>2019-10-13</td>\n",
       "      <td>2</td>\n",
       "      <td>quantile</td>\n",
       "      <td>0.025</td>\n",
       "      <td>5693.350</td>\n",
       "      <td>tft</td>\n",
       "      <td>2019</td>\n",
       "      <td>2019-10-13</td>\n",
       "      <td>2019</td>\n",
       "      <td>41</td>\n",
       "      <td>8646</td>\n",
       "    </tr>\n",
       "    <tr>\n",
       "      <th>2</th>\n",
       "      <td>DE</td>\n",
       "      <td>00+</td>\n",
       "      <td>2019-10-03</td>\n",
       "      <td>2019-10-20</td>\n",
       "      <td>3</td>\n",
       "      <td>quantile</td>\n",
       "      <td>0.025</td>\n",
       "      <td>5971.925</td>\n",
       "      <td>tft</td>\n",
       "      <td>2019</td>\n",
       "      <td>2019-10-20</td>\n",
       "      <td>2019</td>\n",
       "      <td>42</td>\n",
       "      <td>8729</td>\n",
       "    </tr>\n",
       "    <tr>\n",
       "      <th>3</th>\n",
       "      <td>DE</td>\n",
       "      <td>00+</td>\n",
       "      <td>2019-10-03</td>\n",
       "      <td>2019-10-27</td>\n",
       "      <td>4</td>\n",
       "      <td>quantile</td>\n",
       "      <td>0.025</td>\n",
       "      <td>6026.575</td>\n",
       "      <td>tft</td>\n",
       "      <td>2019</td>\n",
       "      <td>2019-10-27</td>\n",
       "      <td>2019</td>\n",
       "      <td>43</td>\n",
       "      <td>8563</td>\n",
       "    </tr>\n",
       "    <tr>\n",
       "      <th>4</th>\n",
       "      <td>DE</td>\n",
       "      <td>00-04</td>\n",
       "      <td>2019-10-03</td>\n",
       "      <td>2019-10-06</td>\n",
       "      <td>1</td>\n",
       "      <td>quantile</td>\n",
       "      <td>0.025</td>\n",
       "      <td>686.925</td>\n",
       "      <td>tft</td>\n",
       "      <td>2019</td>\n",
       "      <td>2019-10-06</td>\n",
       "      <td>2019</td>\n",
       "      <td>40</td>\n",
       "      <td>1119</td>\n",
       "    </tr>\n",
       "    <tr>\n",
       "      <th>...</th>\n",
       "      <td>...</td>\n",
       "      <td>...</td>\n",
       "      <td>...</td>\n",
       "      <td>...</td>\n",
       "      <td>...</td>\n",
       "      <td>...</td>\n",
       "      <td>...</td>\n",
       "      <td>...</td>\n",
       "      <td>...</td>\n",
       "      <td>...</td>\n",
       "      <td>...</td>\n",
       "      <td>...</td>\n",
       "      <td>...</td>\n",
       "      <td>...</td>\n",
       "    </tr>\n",
       "    <tr>\n",
       "      <th>16459</th>\n",
       "      <td>DE</td>\n",
       "      <td>60-79</td>\n",
       "      <td>2020-09-03</td>\n",
       "      <td>2020-09-27</td>\n",
       "      <td>4</td>\n",
       "      <td>median</td>\n",
       "      <td>0.500</td>\n",
       "      <td>1693.000</td>\n",
       "      <td>tsmixer</td>\n",
       "      <td>2019</td>\n",
       "      <td>2020-09-27</td>\n",
       "      <td>2020</td>\n",
       "      <td>39</td>\n",
       "      <td>2087</td>\n",
       "    </tr>\n",
       "    <tr>\n",
       "      <th>16460</th>\n",
       "      <td>DE</td>\n",
       "      <td>80+</td>\n",
       "      <td>2020-09-03</td>\n",
       "      <td>2020-09-06</td>\n",
       "      <td>1</td>\n",
       "      <td>median</td>\n",
       "      <td>0.500</td>\n",
       "      <td>1680.500</td>\n",
       "      <td>tsmixer</td>\n",
       "      <td>2019</td>\n",
       "      <td>2020-09-06</td>\n",
       "      <td>2020</td>\n",
       "      <td>36</td>\n",
       "      <td>1465</td>\n",
       "    </tr>\n",
       "    <tr>\n",
       "      <th>16461</th>\n",
       "      <td>DE</td>\n",
       "      <td>80+</td>\n",
       "      <td>2020-09-03</td>\n",
       "      <td>2020-09-13</td>\n",
       "      <td>2</td>\n",
       "      <td>median</td>\n",
       "      <td>0.500</td>\n",
       "      <td>1789.000</td>\n",
       "      <td>tsmixer</td>\n",
       "      <td>2019</td>\n",
       "      <td>2020-09-13</td>\n",
       "      <td>2020</td>\n",
       "      <td>37</td>\n",
       "      <td>1786</td>\n",
       "    </tr>\n",
       "    <tr>\n",
       "      <th>16462</th>\n",
       "      <td>DE</td>\n",
       "      <td>80+</td>\n",
       "      <td>2020-09-03</td>\n",
       "      <td>2020-09-20</td>\n",
       "      <td>3</td>\n",
       "      <td>median</td>\n",
       "      <td>0.500</td>\n",
       "      <td>1735.500</td>\n",
       "      <td>tsmixer</td>\n",
       "      <td>2019</td>\n",
       "      <td>2020-09-20</td>\n",
       "      <td>2020</td>\n",
       "      <td>38</td>\n",
       "      <td>1732</td>\n",
       "    </tr>\n",
       "    <tr>\n",
       "      <th>16463</th>\n",
       "      <td>DE</td>\n",
       "      <td>80+</td>\n",
       "      <td>2020-09-03</td>\n",
       "      <td>2020-09-27</td>\n",
       "      <td>4</td>\n",
       "      <td>median</td>\n",
       "      <td>0.500</td>\n",
       "      <td>1797.500</td>\n",
       "      <td>tsmixer</td>\n",
       "      <td>2019</td>\n",
       "      <td>2020-09-27</td>\n",
       "      <td>2020</td>\n",
       "      <td>39</td>\n",
       "      <td>2023</td>\n",
       "    </tr>\n",
       "  </tbody>\n",
       "</table>\n",
       "<p>16464 rows × 14 columns</p>\n",
       "</div>"
      ],
      "text/plain": [
       "      location age_group forecast_date target_end_date  horizon      type  \\\n",
       "0           DE       00+    2019-10-03      2019-10-06        1  quantile   \n",
       "1           DE       00+    2019-10-03      2019-10-13        2  quantile   \n",
       "2           DE       00+    2019-10-03      2019-10-20        3  quantile   \n",
       "3           DE       00+    2019-10-03      2019-10-27        4  quantile   \n",
       "4           DE     00-04    2019-10-03      2019-10-06        1  quantile   \n",
       "...        ...       ...           ...             ...      ...       ...   \n",
       "16459       DE     60-79    2020-09-03      2020-09-27        4    median   \n",
       "16460       DE       80+    2020-09-03      2020-09-06        1    median   \n",
       "16461       DE       80+    2020-09-03      2020-09-13        2    median   \n",
       "16462       DE       80+    2020-09-03      2020-09-20        3    median   \n",
       "16463       DE       80+    2020-09-03      2020-09-27        4    median   \n",
       "\n",
       "       quantile     value    model test_year        date  year  week  truth  \n",
       "0         0.025  5528.900      tft      2019  2019-10-06  2019    40   7399  \n",
       "1         0.025  5693.350      tft      2019  2019-10-13  2019    41   8646  \n",
       "2         0.025  5971.925      tft      2019  2019-10-20  2019    42   8729  \n",
       "3         0.025  6026.575      tft      2019  2019-10-27  2019    43   8563  \n",
       "4         0.025   686.925      tft      2019  2019-10-06  2019    40   1119  \n",
       "...         ...       ...      ...       ...         ...   ...   ...    ...  \n",
       "16459     0.500  1693.000  tsmixer      2019  2020-09-27  2020    39   2087  \n",
       "16460     0.500  1680.500  tsmixer      2019  2020-09-06  2020    36   1465  \n",
       "16461     0.500  1789.000  tsmixer      2019  2020-09-13  2020    37   1786  \n",
       "16462     0.500  1735.500  tsmixer      2019  2020-09-20  2020    38   1732  \n",
       "16463     0.500  1797.500  tsmixer      2019  2020-09-27  2020    39   2023  \n",
       "\n",
       "[16464 rows x 14 columns]"
      ]
     },
     "execution_count": 7,
     "metadata": {},
     "output_type": "execute_result"
    }
   ],
   "source": [
    "df"
   ]
  },
  {
   "cell_type": "code",
   "execution_count": 8,
   "id": "b3ebfa0d-f7fa-44a6-83a3-cc30f8eae2d0",
   "metadata": {},
   "outputs": [
    {
     "data": {
      "text/plain": [
       "array(['tft', 'tsmixer'], dtype=object)"
      ]
     },
     "execution_count": 8,
     "metadata": {},
     "output_type": "execute_result"
    }
   ],
   "source": [
    "df.model.unique()"
   ]
  },
  {
   "cell_type": "markdown",
   "id": "a613693c-f525-44f2-8811-dcfd8570765a",
   "metadata": {},
   "source": [
    "#### National level"
   ]
  },
  {
   "cell_type": "code",
   "execution_count": 10,
   "id": "643d9c8a-074e-4072-b5ba-17939ccb17b0",
   "metadata": {},
   "outputs": [
    {
     "data": {
      "text/html": [
       "<div>\n",
       "<style scoped>\n",
       "    .dataframe tbody tr th:only-of-type {\n",
       "        vertical-align: middle;\n",
       "    }\n",
       "\n",
       "    .dataframe tbody tr th {\n",
       "        vertical-align: top;\n",
       "    }\n",
       "\n",
       "    .dataframe thead th {\n",
       "        text-align: right;\n",
       "    }\n",
       "</style>\n",
       "<table border=\"1\" class=\"dataframe\">\n",
       "  <thead>\n",
       "    <tr style=\"text-align: right;\">\n",
       "      <th></th>\n",
       "      <th>model</th>\n",
       "      <th>spread</th>\n",
       "      <th>overprediction</th>\n",
       "      <th>underprediction</th>\n",
       "      <th>wis</th>\n",
       "      <th>c50</th>\n",
       "      <th>c95</th>\n",
       "    </tr>\n",
       "  </thead>\n",
       "  <tbody>\n",
       "    <tr>\n",
       "      <th>0</th>\n",
       "      <td>tsmixer</td>\n",
       "      <td>326.530065</td>\n",
       "      <td>183.408622</td>\n",
       "      <td>349.657296</td>\n",
       "      <td>859.595983</td>\n",
       "      <td>0.408163</td>\n",
       "      <td>0.969388</td>\n",
       "    </tr>\n",
       "    <tr>\n",
       "      <th>1</th>\n",
       "      <td>tft</td>\n",
       "      <td>269.834006</td>\n",
       "      <td>712.996633</td>\n",
       "      <td>85.410204</td>\n",
       "      <td>1068.240843</td>\n",
       "      <td>0.255102</td>\n",
       "      <td>0.755102</td>\n",
       "    </tr>\n",
       "  </tbody>\n",
       "</table>\n",
       "</div>"
      ],
      "text/plain": [
       "     model      spread  overprediction  underprediction          wis  \\\n",
       "0  tsmixer  326.530065      183.408622       349.657296   859.595983   \n",
       "1      tft  269.834006      712.996633        85.410204  1068.240843   \n",
       "\n",
       "        c50       c95  \n",
       "0  0.408163  0.969388  \n",
       "1  0.255102  0.755102  "
      ]
     },
     "execution_count": 10,
     "metadata": {},
     "output_type": "execute_result"
    }
   ],
   "source": [
    "evaluate_models(df, 'national')"
   ]
  },
  {
   "cell_type": "markdown",
   "id": "6aa8cb8e-97db-4abd-b055-4eaf24b639e7",
   "metadata": {},
   "source": [
    "#### Age groups"
   ]
  },
  {
   "cell_type": "code",
   "execution_count": 11,
   "id": "2d793273-5a31-4135-b5df-46f2d678b97e",
   "metadata": {},
   "outputs": [
    {
     "data": {
      "text/html": [
       "<div>\n",
       "<style scoped>\n",
       "    .dataframe tbody tr th:only-of-type {\n",
       "        vertical-align: middle;\n",
       "    }\n",
       "\n",
       "    .dataframe tbody tr th {\n",
       "        vertical-align: top;\n",
       "    }\n",
       "\n",
       "    .dataframe thead th {\n",
       "        text-align: right;\n",
       "    }\n",
       "</style>\n",
       "<table border=\"1\" class=\"dataframe\">\n",
       "  <thead>\n",
       "    <tr style=\"text-align: right;\">\n",
       "      <th></th>\n",
       "      <th>model</th>\n",
       "      <th>spread</th>\n",
       "      <th>overprediction</th>\n",
       "      <th>underprediction</th>\n",
       "      <th>wis</th>\n",
       "      <th>c50</th>\n",
       "      <th>c95</th>\n",
       "    </tr>\n",
       "  </thead>\n",
       "  <tbody>\n",
       "    <tr>\n",
       "      <th>0</th>\n",
       "      <td>tsmixer</td>\n",
       "      <td>64.909618</td>\n",
       "      <td>57.582151</td>\n",
       "      <td>76.999753</td>\n",
       "      <td>199.491523</td>\n",
       "      <td>0.414116</td>\n",
       "      <td>0.874150</td>\n",
       "    </tr>\n",
       "    <tr>\n",
       "      <th>1</th>\n",
       "      <td>tft</td>\n",
       "      <td>59.689893</td>\n",
       "      <td>161.807543</td>\n",
       "      <td>29.867755</td>\n",
       "      <td>251.365190</td>\n",
       "      <td>0.362245</td>\n",
       "      <td>0.784864</td>\n",
       "    </tr>\n",
       "  </tbody>\n",
       "</table>\n",
       "</div>"
      ],
      "text/plain": [
       "     model     spread  overprediction  underprediction         wis       c50  \\\n",
       "0  tsmixer  64.909618       57.582151        76.999753  199.491523  0.414116   \n",
       "1      tft  59.689893      161.807543        29.867755  251.365190  0.362245   \n",
       "\n",
       "        c95  \n",
       "0  0.874150  \n",
       "1  0.784864  "
      ]
     },
     "execution_count": 11,
     "metadata": {},
     "output_type": "execute_result"
    }
   ],
   "source": [
    "evaluate_models(df, 'age')"
   ]
  },
  {
   "cell_type": "markdown",
   "id": "4ce17f77-2834-4401-998e-064bdecc83ef",
   "metadata": {
    "tags": []
   },
   "source": [
    "# Plots"
   ]
  },
  {
   "cell_type": "code",
   "execution_count": 12,
   "id": "5a905b3f-ca00-4021-9168-99377d4e0939",
   "metadata": {},
   "outputs": [],
   "source": [
    "from plotnine import ggplot, aes, geom_bar, geom_label, scale_alpha_manual, labs, coord_flip, theme_bw, theme, geom_line, scale_alpha_discrete, guide_legend"
   ]
  },
  {
   "cell_type": "code",
   "execution_count": 13,
   "id": "40cdd7a1-f0db-4b24-ad19-1257534a4ddb",
   "metadata": {},
   "outputs": [],
   "source": [
    "df = evaluate_models(df, 'national')"
   ]
  },
  {
   "cell_type": "code",
   "execution_count": 14,
   "id": "d2fae378-c8b8-4168-b1d3-75be8e8d0f9e",
   "metadata": {},
   "outputs": [],
   "source": [
    "scores = pd.melt(df, id_vars=['model'], value_vars=['underprediction', 'spread', 'overprediction'], \n",
    "                 var_name='penalty', value_name='value')"
   ]
  },
  {
   "cell_type": "code",
   "execution_count": 15,
   "id": "79bf355f-cafd-49fb-89c5-e3c2e69970ba",
   "metadata": {},
   "outputs": [
    {
     "data": {
      "text/html": [
       "<div>\n",
       "<style scoped>\n",
       "    .dataframe tbody tr th:only-of-type {\n",
       "        vertical-align: middle;\n",
       "    }\n",
       "\n",
       "    .dataframe tbody tr th {\n",
       "        vertical-align: top;\n",
       "    }\n",
       "\n",
       "    .dataframe thead th {\n",
       "        text-align: right;\n",
       "    }\n",
       "</style>\n",
       "<table border=\"1\" class=\"dataframe\">\n",
       "  <thead>\n",
       "    <tr style=\"text-align: right;\">\n",
       "      <th></th>\n",
       "      <th>model</th>\n",
       "      <th>spread</th>\n",
       "      <th>overprediction</th>\n",
       "      <th>underprediction</th>\n",
       "      <th>wis</th>\n",
       "      <th>c50</th>\n",
       "      <th>c95</th>\n",
       "    </tr>\n",
       "  </thead>\n",
       "  <tbody>\n",
       "    <tr>\n",
       "      <th>0</th>\n",
       "      <td>tsmixer</td>\n",
       "      <td>326.530065</td>\n",
       "      <td>183.408622</td>\n",
       "      <td>349.657296</td>\n",
       "      <td>859.595983</td>\n",
       "      <td>0.408163</td>\n",
       "      <td>0.969388</td>\n",
       "    </tr>\n",
       "    <tr>\n",
       "      <th>1</th>\n",
       "      <td>tft</td>\n",
       "      <td>269.834006</td>\n",
       "      <td>712.996633</td>\n",
       "      <td>85.410204</td>\n",
       "      <td>1068.240843</td>\n",
       "      <td>0.255102</td>\n",
       "      <td>0.755102</td>\n",
       "    </tr>\n",
       "  </tbody>\n",
       "</table>\n",
       "</div>"
      ],
      "text/plain": [
       "     model      spread  overprediction  underprediction          wis  \\\n",
       "0  tsmixer  326.530065      183.408622       349.657296   859.595983   \n",
       "1      tft  269.834006      712.996633        85.410204  1068.240843   \n",
       "\n",
       "        c50       c95  \n",
       "0  0.408163  0.969388  \n",
       "1  0.255102  0.755102  "
      ]
     },
     "execution_count": 15,
     "metadata": {},
     "output_type": "execute_result"
    }
   ],
   "source": [
    "df"
   ]
  },
  {
   "cell_type": "code",
   "execution_count": 16,
   "id": "a8f243a5-24db-45ca-884e-b34e749d2e5f",
   "metadata": {},
   "outputs": [
    {
     "name": "stderr",
     "output_type": "stream",
     "text": [
      "/home/wolffram/.conda/envs/RESPINOW-ML/lib/python3.9/site-packages/plotnine/scales/scale_alpha.py:76: PlotnineWarning: Using alpha for a discrete variable is not advised.\n"
     ]
    },
    {
     "data": {
      "image/png": "[encoded data removed]"
     },
     "metadata": {
      "image/png": {
       "height": 480,
       "width": 640
      }
     },
     "output_type": "display_data"
    }
   ],
   "source": [
    "(ggplot()\n",
    "    + geom_bar(df, aes(x='model', y='wis'), fill='white', color='black', stat='identity')\n",
    "    + geom_bar(scores, aes(x='model', y='value', fill='model', alpha='penalty', color='model'), size=0.1, stat='identity', \n",
    "               show_legend={'color': False,\n",
    "                            'fill': False,\n",
    "                            'alpha': True})\n",
    "    + scale_alpha_discrete(labels=[\"Overprediction\", \"Spread\", \"Underprediction\"], guide=guide_legend(reverse=True))\n",
    "    + labs(x=\"\", y=\"WIS\", color=\"Model\", alpha=\"Decomposition of WIS\", title=\"National level\")\n",
    "    + coord_flip()\n",
    "    + theme_bw()\n",
    "    + theme(legend_position='right')\n",
    "   )"
   ]
  },
  {
   "cell_type": "code",
   "execution_count": null,
   "id": "2c03f76e-314f-4610-b953-7f3762854cec",
   "metadata": {},
   "outputs": [],
   "source": []
  }
 ],
 "metadata": {
  "kernelspec": {
   "display_name": "RESPINOW-ML",
   "language": "python",
   "name": "respinow-ml"
  },
  "language_info": {
   "codemirror_mode": {
    "name": "ipython",
    "version": 3
   },
   "file_extension": ".py",
   "mimetype": "text/x-python",
   "name": "python",
   "nbconvert_exporter": "python",
   "pygments_lexer": "ipython3",
   "version": "3.9.18"
  }
 },
 "nbformat": 4,
 "nbformat_minor": 5
}
