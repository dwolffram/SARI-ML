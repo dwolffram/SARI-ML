{
 "cells": [
  {
   "cell_type": "code",
   "execution_count": 46,
   "id": "c568bc7d",
   "metadata": {},
   "outputs": [],
   "source": [
    "import sys\n",
    "sys.path.append('../')\n",
    "from src.scoring_functions import *\n",
    "from src.load_data import *"
   ]
  },
  {
   "cell_type": "code",
   "execution_count": 47,
   "id": "77e70f1f-c528-4655-be7c-66ac2186478c",
   "metadata": {},
   "outputs": [],
   "source": [
    "def add_truth(df, source='icosari', disease='sari'):\n",
    "    df_truth = pd.read_csv(f'https://raw.githubusercontent.com/KITmetricslab/RESPINOW-Hub/main/data/{source}/{disease}/latest_data-{source}-{disease}.csv')\n",
    "    df_truth = df_truth.rename(columns={'value': 'truth'})\n",
    "\n",
    "    df = df.merge(df_truth, how='left', \n",
    "                   left_on=['location', 'age_group', 'target_end_date'], \n",
    "                   right_on=['location', 'age_group', 'date'])\n",
    "    return df"
   ]
  },
  {
   "cell_type": "code",
   "execution_count": 48,
   "id": "672c8139-3bbe-4fda-a881-2ffc6fcb72cf",
   "metadata": {},
   "outputs": [],
   "source": [
    "def load_predictions(source='icosari', disease='sari', period='test', include_median=True, include_truth=True):\n",
    "    files = glob.glob(f'../data/pre-covid/*.csv') \n",
    "    \n",
    "    dfs = []\n",
    "    for file in files:\n",
    "        df_temp = pd.read_csv(file)\n",
    "        df_temp['model'] = file.split('/')[-1].split('-')[0]\n",
    "        df_temp['test_year'] = file[-8:-4]\n",
    "        dfs.append(df_temp)\n",
    "    df = pd.concat(dfs)\n",
    "    \n",
    "    if include_median:\n",
    "        df = add_median(df)\n",
    "    if include_truth:\n",
    "        df = add_truth(df, source, disease)\n",
    "\n",
    "    return df"
   ]
  },
  {
   "cell_type": "code",
   "execution_count": 49,
   "id": "426d88c2-d9cb-4989-a1ce-5defd5e35a6c",
   "metadata": {},
   "outputs": [],
   "source": [
    "df = load_predictions('icosari', 'sari')"
   ]
  },
  {
   "cell_type": "code",
   "execution_count": 50,
   "id": "b3ebfa0d-f7fa-44a6-83a3-cc30f8eae2d0",
   "metadata": {},
   "outputs": [
    {
     "data": {
      "text/plain": [
       "array(['arima_scaled', 'lightgbm', 'tsmixer', 'arima'], dtype=object)"
      ]
     },
     "execution_count": 50,
     "metadata": {},
     "output_type": "execute_result"
    }
   ],
   "source": [
    "df.model.unique()"
   ]
  },
  {
   "cell_type": "markdown",
   "id": "a613693c-f525-44f2-8811-dcfd8570765a",
   "metadata": {},
   "source": [
    "#### National level"
   ]
  },
  {
   "cell_type": "code",
   "execution_count": 51,
   "id": "643d9c8a-074e-4072-b5ba-17939ccb17b0",
   "metadata": {},
   "outputs": [
    {
     "data": {
      "text/html": [
       "<div>\n",
       "<style scoped>\n",
       "    .dataframe tbody tr th:only-of-type {\n",
       "        vertical-align: middle;\n",
       "    }\n",
       "\n",
       "    .dataframe tbody tr th {\n",
       "        vertical-align: top;\n",
       "    }\n",
       "\n",
       "    .dataframe thead th {\n",
       "        text-align: right;\n",
       "    }\n",
       "</style>\n",
       "<table border=\"1\" class=\"dataframe\">\n",
       "  <thead>\n",
       "    <tr style=\"text-align: right;\">\n",
       "      <th></th>\n",
       "      <th>model</th>\n",
       "      <th>spread</th>\n",
       "      <th>overprediction</th>\n",
       "      <th>underprediction</th>\n",
       "      <th>wis</th>\n",
       "      <th>c50</th>\n",
       "      <th>c95</th>\n",
       "    </tr>\n",
       "  </thead>\n",
       "  <tbody>\n",
       "    <tr>\n",
       "      <th>0</th>\n",
       "      <td>lightgbm</td>\n",
       "      <td>188.536407</td>\n",
       "      <td>310.274078</td>\n",
       "      <td>115.395800</td>\n",
       "      <td>614.206285</td>\n",
       "      <td>0.377551</td>\n",
       "      <td>0.724490</td>\n",
       "    </tr>\n",
       "    <tr>\n",
       "      <th>1</th>\n",
       "      <td>arima_scaled</td>\n",
       "      <td>316.003487</td>\n",
       "      <td>325.024170</td>\n",
       "      <td>230.089199</td>\n",
       "      <td>871.116856</td>\n",
       "      <td>0.515306</td>\n",
       "      <td>0.923469</td>\n",
       "    </tr>\n",
       "    <tr>\n",
       "      <th>2</th>\n",
       "      <td>arima</td>\n",
       "      <td>440.198669</td>\n",
       "      <td>224.441725</td>\n",
       "      <td>300.689906</td>\n",
       "      <td>965.330301</td>\n",
       "      <td>0.688776</td>\n",
       "      <td>0.964286</td>\n",
       "    </tr>\n",
       "    <tr>\n",
       "      <th>3</th>\n",
       "      <td>tsmixer</td>\n",
       "      <td>237.324791</td>\n",
       "      <td>432.051378</td>\n",
       "      <td>442.694082</td>\n",
       "      <td>1112.070250</td>\n",
       "      <td>0.193878</td>\n",
       "      <td>0.734694</td>\n",
       "    </tr>\n",
       "  </tbody>\n",
       "</table>\n",
       "</div>"
      ],
      "text/plain": [
       "          model      spread  overprediction  underprediction          wis  \\\n",
       "0      lightgbm  188.536407      310.274078       115.395800   614.206285   \n",
       "1  arima_scaled  316.003487      325.024170       230.089199   871.116856   \n",
       "2         arima  440.198669      224.441725       300.689906   965.330301   \n",
       "3       tsmixer  237.324791      432.051378       442.694082  1112.070250   \n",
       "\n",
       "        c50       c95  \n",
       "0  0.377551  0.724490  \n",
       "1  0.515306  0.923469  \n",
       "2  0.688776  0.964286  \n",
       "3  0.193878  0.734694  "
      ]
     },
     "execution_count": 51,
     "metadata": {},
     "output_type": "execute_result"
    }
   ],
   "source": [
    "evaluate_models(df, 'national')"
   ]
  },
  {
   "cell_type": "markdown",
   "id": "6aa8cb8e-97db-4abd-b055-4eaf24b639e7",
   "metadata": {},
   "source": [
    "#### Age groups"
   ]
  },
  {
   "cell_type": "code",
   "execution_count": 52,
   "id": "2d793273-5a31-4135-b5df-46f2d678b97e",
   "metadata": {},
   "outputs": [
    {
     "data": {
      "text/html": [
       "<div>\n",
       "<style scoped>\n",
       "    .dataframe tbody tr th:only-of-type {\n",
       "        vertical-align: middle;\n",
       "    }\n",
       "\n",
       "    .dataframe tbody tr th {\n",
       "        vertical-align: top;\n",
       "    }\n",
       "\n",
       "    .dataframe thead th {\n",
       "        text-align: right;\n",
       "    }\n",
       "</style>\n",
       "<table border=\"1\" class=\"dataframe\">\n",
       "  <thead>\n",
       "    <tr style=\"text-align: right;\">\n",
       "      <th></th>\n",
       "      <th>model</th>\n",
       "      <th>spread</th>\n",
       "      <th>overprediction</th>\n",
       "      <th>underprediction</th>\n",
       "      <th>wis</th>\n",
       "      <th>c50</th>\n",
       "      <th>c95</th>\n",
       "    </tr>\n",
       "  </thead>\n",
       "  <tbody>\n",
       "    <tr>\n",
       "      <th>0</th>\n",
       "      <td>lightgbm</td>\n",
       "      <td>40.010648</td>\n",
       "      <td>105.510822</td>\n",
       "      <td>48.505088</td>\n",
       "      <td>194.026558</td>\n",
       "      <td>0.237245</td>\n",
       "      <td>0.700680</td>\n",
       "    </tr>\n",
       "    <tr>\n",
       "      <th>1</th>\n",
       "      <td>arima_scaled</td>\n",
       "      <td>72.173929</td>\n",
       "      <td>70.835340</td>\n",
       "      <td>59.693798</td>\n",
       "      <td>202.703068</td>\n",
       "      <td>0.474490</td>\n",
       "      <td>0.877551</td>\n",
       "    </tr>\n",
       "    <tr>\n",
       "      <th>2</th>\n",
       "      <td>arima</td>\n",
       "      <td>94.077778</td>\n",
       "      <td>61.932899</td>\n",
       "      <td>71.045776</td>\n",
       "      <td>227.056453</td>\n",
       "      <td>0.627551</td>\n",
       "      <td>0.919218</td>\n",
       "    </tr>\n",
       "    <tr>\n",
       "      <th>3</th>\n",
       "      <td>tsmixer</td>\n",
       "      <td>59.046167</td>\n",
       "      <td>106.681105</td>\n",
       "      <td>68.383844</td>\n",
       "      <td>234.111116</td>\n",
       "      <td>0.340986</td>\n",
       "      <td>0.835034</td>\n",
       "    </tr>\n",
       "  </tbody>\n",
       "</table>\n",
       "</div>"
      ],
      "text/plain": [
       "          model     spread  overprediction  underprediction         wis  \\\n",
       "0      lightgbm  40.010648      105.510822        48.505088  194.026558   \n",
       "1  arima_scaled  72.173929       70.835340        59.693798  202.703068   \n",
       "2         arima  94.077778       61.932899        71.045776  227.056453   \n",
       "3       tsmixer  59.046167      106.681105        68.383844  234.111116   \n",
       "\n",
       "        c50       c95  \n",
       "0  0.237245  0.700680  \n",
       "1  0.474490  0.877551  \n",
       "2  0.627551  0.919218  \n",
       "3  0.340986  0.835034  "
      ]
     },
     "execution_count": 52,
     "metadata": {},
     "output_type": "execute_result"
    }
   ],
   "source": [
    "evaluate_models(df, 'age')"
   ]
  },
  {
   "cell_type": "markdown",
   "id": "4ce17f77-2834-4401-998e-064bdecc83ef",
   "metadata": {
    "tags": []
   },
   "source": [
    "# Plots"
   ]
  },
  {
   "cell_type": "code",
   "execution_count": 53,
   "id": "5a905b3f-ca00-4021-9168-99377d4e0939",
   "metadata": {},
   "outputs": [],
   "source": [
    "from plotnine import ggplot, aes, geom_bar, geom_label, scale_alpha_manual, labs, coord_flip, theme_bw, theme, geom_line, scale_alpha_discrete, guide_legend"
   ]
  },
  {
   "cell_type": "code",
   "execution_count": 54,
   "id": "40cdd7a1-f0db-4b24-ad19-1257534a4ddb",
   "metadata": {},
   "outputs": [],
   "source": [
    "df = evaluate_models(df, 'national')"
   ]
  },
  {
   "cell_type": "code",
   "execution_count": 55,
   "id": "d2fae378-c8b8-4168-b1d3-75be8e8d0f9e",
   "metadata": {},
   "outputs": [],
   "source": [
    "scores = pd.melt(df, id_vars=['model'], value_vars=['underprediction', 'spread', 'overprediction'], \n",
    "                 var_name='penalty', value_name='value')"
   ]
  },
  {
   "cell_type": "code",
   "execution_count": 56,
   "id": "79bf355f-cafd-49fb-89c5-e3c2e69970ba",
   "metadata": {},
   "outputs": [
    {
     "data": {
      "text/html": [
       "<div>\n",
       "<style scoped>\n",
       "    .dataframe tbody tr th:only-of-type {\n",
       "        vertical-align: middle;\n",
       "    }\n",
       "\n",
       "    .dataframe tbody tr th {\n",
       "        vertical-align: top;\n",
       "    }\n",
       "\n",
       "    .dataframe thead th {\n",
       "        text-align: right;\n",
       "    }\n",
       "</style>\n",
       "<table border=\"1\" class=\"dataframe\">\n",
       "  <thead>\n",
       "    <tr style=\"text-align: right;\">\n",
       "      <th></th>\n",
       "      <th>model</th>\n",
       "      <th>spread</th>\n",
       "      <th>overprediction</th>\n",
       "      <th>underprediction</th>\n",
       "      <th>wis</th>\n",
       "      <th>c50</th>\n",
       "      <th>c95</th>\n",
       "    </tr>\n",
       "  </thead>\n",
       "  <tbody>\n",
       "    <tr>\n",
       "      <th>0</th>\n",
       "      <td>lightgbm</td>\n",
       "      <td>188.536407</td>\n",
       "      <td>310.274078</td>\n",
       "      <td>115.395800</td>\n",
       "      <td>614.206285</td>\n",
       "      <td>0.377551</td>\n",
       "      <td>0.724490</td>\n",
       "    </tr>\n",
       "    <tr>\n",
       "      <th>1</th>\n",
       "      <td>arima_scaled</td>\n",
       "      <td>316.003487</td>\n",
       "      <td>325.024170</td>\n",
       "      <td>230.089199</td>\n",
       "      <td>871.116856</td>\n",
       "      <td>0.515306</td>\n",
       "      <td>0.923469</td>\n",
       "    </tr>\n",
       "    <tr>\n",
       "      <th>2</th>\n",
       "      <td>arima</td>\n",
       "      <td>440.198669</td>\n",
       "      <td>224.441725</td>\n",
       "      <td>300.689906</td>\n",
       "      <td>965.330301</td>\n",
       "      <td>0.688776</td>\n",
       "      <td>0.964286</td>\n",
       "    </tr>\n",
       "    <tr>\n",
       "      <th>3</th>\n",
       "      <td>tsmixer</td>\n",
       "      <td>237.324791</td>\n",
       "      <td>432.051378</td>\n",
       "      <td>442.694082</td>\n",
       "      <td>1112.070250</td>\n",
       "      <td>0.193878</td>\n",
       "      <td>0.734694</td>\n",
       "    </tr>\n",
       "  </tbody>\n",
       "</table>\n",
       "</div>"
      ],
      "text/plain": [
       "          model      spread  overprediction  underprediction          wis  \\\n",
       "0      lightgbm  188.536407      310.274078       115.395800   614.206285   \n",
       "1  arima_scaled  316.003487      325.024170       230.089199   871.116856   \n",
       "2         arima  440.198669      224.441725       300.689906   965.330301   \n",
       "3       tsmixer  237.324791      432.051378       442.694082  1112.070250   \n",
       "\n",
       "        c50       c95  \n",
       "0  0.377551  0.724490  \n",
       "1  0.515306  0.923469  \n",
       "2  0.688776  0.964286  \n",
       "3  0.193878  0.734694  "
      ]
     },
     "execution_count": 56,
     "metadata": {},
     "output_type": "execute_result"
    }
   ],
   "source": [
    "df"
   ]
  },
  {
   "cell_type": "code",
   "execution_count": 57,
   "id": "a8f243a5-24db-45ca-884e-b34e749d2e5f",
   "metadata": {},
   "outputs": [
    {
     "name": "stderr",
     "output_type": "stream",
     "text": [
      "/home/wolffram/.conda/envs/RESPINOW-ML/lib/python3.9/site-packages/plotnine/scales/scale_alpha.py:76: PlotnineWarning: Using alpha for a discrete variable is not advised.\n"
     ]
    },
    {
     "data": {
      "image/png": "[encoded data removed]"
     },
     "metadata": {
      "image/png": {
       "height": 480,
       "width": 640
      }
     },
     "output_type": "display_data"
    }
   ],
   "source": [
    "(ggplot()\n",
    "    + geom_bar(df, aes(x='model', y='wis'), fill='white', color='black', stat='identity')\n",
    "    + geom_bar(scores, aes(x='model', y='value', fill='model', alpha='penalty', color='model'), size=0.1, stat='identity', \n",
    "               show_legend={'color': False,\n",
    "                            'fill': False,\n",
    "                            'alpha': True})\n",
    "    + scale_alpha_discrete(labels=[\"Overprediction\", \"Spread\", \"Underprediction\"], guide=guide_legend(reverse=True))\n",
    "    + labs(x=\"\", y=\"WIS\", color=\"Model\", alpha=\"Decomposition of WIS\", title=\"National level\")\n",
    "    + coord_flip()\n",
    "    + theme_bw()\n",
    "    + theme(legend_position='right')\n",
    "   )"
   ]
  },
  {
   "cell_type": "code",
   "execution_count": null,
   "id": "2c03f76e-314f-4610-b953-7f3762854cec",
   "metadata": {},
   "outputs": [],
   "source": []
  }
 ],
 "metadata": {
  "kernelspec": {
   "display_name": "RESPINOW-ML",
   "language": "python",
   "name": "respinow-ml"
  },
  "language_info": {
   "codemirror_mode": {
    "name": "ipython",
    "version": 3
   },
   "file_extension": ".py",
   "mimetype": "text/x-python",
   "name": "python",
   "nbconvert_exporter": "python",
   "pygments_lexer": "ipython3",
   "version": "3.9.18"
  }
 },
 "nbformat": 4,
 "nbformat_minor": 5
}
